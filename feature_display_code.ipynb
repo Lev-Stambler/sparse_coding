{
 "cells": [
  {
   "cell_type": "code",
   "execution_count": 1,
   "metadata": {},
   "outputs": [
    {
     "name": "stderr",
     "output_type": "stream",
     "text": [
      "/home/mchorse/logan/t/logan/lib/python3.11/site-packages/tqdm/auto.py:21: TqdmWarning: IProgress not found. Please update jupyter and ipywidgets. See https://ipywidgets.readthedocs.io/en/stable/user_install.html\n",
      "  from .autonotebook import tqdm as notebook_tqdm\n"
     ]
    },
    {
     "name": "stdout",
     "output_type": "stream",
     "text": [
      "Loaded autoencoder w/ {'dict_size': 3072, 'l1_alpha': 0.0013894954463467002} on cuda:3\n"
     ]
    }
   ],
   "source": [
    "import torch\n",
    "from transformer_lens import HookedTransformer\n",
    "import numpy as np\n",
    "from torch.utils.data import DataLoader\n",
    "from datasets import Dataset, load_dataset\n",
    "from tqdm.auto import tqdm\n",
    "from functools import partial\n",
    "from einops import rearrange\n",
    "\n",
    "features = 1\n",
    "autoencoder_path = \"/mnt/ssd-cluster/longrun2408/tied_residual_l2_r6/_31/learned_dicts.pt\"\n",
    "autoencoder_index = 5\n",
    "layer = 2\n",
    "dataset_name = \"NeelNanda/pile-10k\"\n",
    "device = \"cuda:3\"\n",
    "model_name = \"EleutherAI/pythia-70m-deduped\"\n",
    "setting= \"residual\"\n",
    "max_seq_length=30\n",
    "\n",
    "if setting == \"residual\":\n",
    "    cache_name = f\"blocks.{layer}.hook_resid_post\"\n",
    "elif setting == \"mlp\":\n",
    "    cache_name = f\"blocks.{layer}.mlp.hook_post\"\n",
    "else:\n",
    "    raise NotImplementedError\n",
    "all_autoencoders = torch.load(autoencoder_path)\n",
    "autoencoder, hyperparams = all_autoencoders[autoencoder_index]\n",
    "autoencoder.to_device(device)\n",
    "print(f\"Loaded autoencoder w/ {hyperparams} on {device}\")"
   ]
  },
  {
   "cell_type": "code",
   "execution_count": 2,
   "metadata": {},
   "outputs": [
    {
     "name": "stderr",
     "output_type": "stream",
     "text": [
      "Using pad_token, but it is not set yet.\n"
     ]
    },
    {
     "name": "stdout",
     "output_type": "stream",
     "text": [
      "Loaded pretrained model EleutherAI/pythia-70m-deduped into HookedTransformer\n"
     ]
    }
   ],
   "source": [
    "model = HookedTransformer.from_pretrained_no_processing(model_name, device = device)"
   ]
  },
  {
   "cell_type": "code",
   "execution_count": 49,
   "metadata": {},
   "outputs": [
    {
     "name": "stdout",
     "output_type": "stream",
     "text": [
      "Downloading NeelNanda/pile-10k\n"
     ]
    },
    {
     "name": "stderr",
     "output_type": "stream",
     "text": [
      "Found cached dataset parquet (/home/mchorse/.cache/huggingface/datasets/NeelNanda___parquet/NeelNanda--pile-10k-72f566e9f7c464ab/0.0.0/2a3b91fbd88a2c90d1dbbb32b460cf621d31bd5b05b934492fdef7d8d6f236ec)\n",
      "Loading cached processed dataset at /home/mchorse/.cache/huggingface/datasets/NeelNanda___parquet/NeelNanda--pile-10k-72f566e9f7c464ab/0.0.0/2a3b91fbd88a2c90d1dbbb32b460cf621d31bd5b05b934492fdef7d8d6f236ec/cache-e8c69c6c2a788d7f.arrow\n",
      "Loading cached processed dataset at /home/mchorse/.cache/huggingface/datasets/NeelNanda___parquet/NeelNanda--pile-10k-72f566e9f7c464ab/0.0.0/2a3b91fbd88a2c90d1dbbb32b460cf621d31bd5b05b934492fdef7d8d6f236ec/cache-491db685689a5b37.arrow\n",
      "Loading cached processed dataset at /home/mchorse/.cache/huggingface/datasets/NeelNanda___parquet/NeelNanda--pile-10k-72f566e9f7c464ab/0.0.0/2a3b91fbd88a2c90d1dbbb32b460cf621d31bd5b05b934492fdef7d8d6f236ec/cache-3ac317cfd6c1b211.arrow\n"
     ]
    }
   ],
   "source": [
    "def download_dataset(dataset_name, tokenizer, max_length=256, num_datapoints=None):\n",
    "    if(num_datapoints):\n",
    "        split_text = f\"train[:{num_datapoints}]\"\n",
    "    else:\n",
    "        split_text = \"train\"\n",
    "    dataset = load_dataset(dataset_name, split=split_text).map(\n",
    "        lambda x: tokenizer(x['text']),\n",
    "        batched=True,\n",
    "    ).filter(\n",
    "        lambda x: len(x['input_ids']) > max_length\n",
    "    ).map(\n",
    "        lambda x: {'input_ids': x['input_ids'][:max_length]}\n",
    "    )\n",
    "    return dataset\n",
    "\n",
    "print(f\"Downloading {dataset_name}\")\n",
    "dataset = download_dataset(dataset_name, tokenizer= model.tokenizer, max_length=max_seq_length, num_datapoints=None) # num_datapoints grabs all of them if None"
   ]
  },
  {
   "cell_type": "code",
   "execution_count": 4,
   "metadata": {},
   "outputs": [],
   "source": [
    "d_model = model.cfg.d_model\n",
    "assert (d_model == autoencoder.encoder.shape[-1]), f\"Model and autoencoder must have same hidden size. Model: {d_model}, Autoencoder: {autoencoder.encoder.shape[-1]}\""
   ]
  },
  {
   "cell_type": "code",
   "execution_count": 50,
   "metadata": {},
   "outputs": [
    {
     "name": "stdout",
     "output_type": "stream",
     "text": [
      "Getting dictionary activations\n"
     ]
    },
    {
     "name": "stderr",
     "output_type": "stream",
     "text": [
      "100%|██████████| 310/310 [00:10<00:00, 29.06it/s]\n"
     ]
    }
   ],
   "source": [
    "# Now we can use the model to get the activations\n",
    "from torch.utils.data import DataLoader\n",
    "from tqdm.auto import tqdm\n",
    "from einops import rearrange\n",
    "def get_dictionary_activations(model, dataset, cache_name, autoencoder, batch_size=32):\n",
    "    num_features, d_model = autoencoder.encoder.shape\n",
    "    datapoints = dataset.num_rows\n",
    "    dictionary_activations = torch.zeros((datapoints*max_seq_length, num_features))\n",
    "    with torch.no_grad(), dataset.formatted_as(\"pt\"):\n",
    "        dl = DataLoader(dataset[\"input_ids\"], batch_size=batch_size)\n",
    "        for i, batch in enumerate(tqdm(dl)):\n",
    "            _, cache = model.run_with_cache(batch.to(device))\n",
    "            batched_neuron_activations = rearrange(cache[cache_name], \"b s n -> (b s) n\" )\n",
    "            batched_dictionary_activations = autoencoder.encode(batched_neuron_activations)\n",
    "            dictionary_activations[i*batch_size*max_seq_length:(i+1)*batch_size*max_seq_length,:] = batched_dictionary_activations.cpu()\n",
    "    return dictionary_activations\n",
    "\n",
    "print(\"Getting dictionary activations\")\n",
    "dictionary_activations = get_dictionary_activations(model, dataset, cache_name, autoencoder, batch_size=32)"
   ]
  },
  {
   "cell_type": "code",
   "execution_count": 51,
   "metadata": {},
   "outputs": [
    {
     "name": "stderr",
     "output_type": "stream",
     "text": [
      "100%|██████████| 310/310 [00:16<00:00, 19.00it/s]\n"
     ]
    }
   ],
   "source": [
    "\n",
    "def ablate_feature_direction(model, dataset, cache_name, autoencoder, feature, batch_size=32):\n",
    "    def less_than_rank_1_ablate(value, hook):\n",
    "        # Only ablate the feature direction up to the negative bias\n",
    "        # ie Only subtract when it activates above that negative bias.\n",
    "\n",
    "        # Rearrange to fit autoencoder\n",
    "        int_val = rearrange(value, 'b s h -> (b s) h')\n",
    "        # Run through the autoencoder\n",
    "        act = autoencoder.encode(int_val)\n",
    "        dictionary_for_this_autoencoder = autoencoder.get_learned_dict()\n",
    "        feature_direction = torch.outer(act[:, feature].squeeze(), dictionary_for_this_autoencoder[feature].squeeze())\n",
    "        batch, seq_len, hidden_size = value.shape\n",
    "        feature_direction = rearrange(feature_direction, '(b s) h -> b s h', b=batch, s=seq_len)\n",
    "        value -= feature_direction\n",
    "        return value\n",
    "\n",
    "    datapoints = dataset.num_rows\n",
    "    logit_diffs = torch.zeros((datapoints*max_seq_length))\n",
    "    with torch.no_grad(), dataset.formatted_as(\"pt\"):\n",
    "        dl = DataLoader(dataset[\"input_ids\"], batch_size=batch_size)\n",
    "        for i, batch in enumerate(tqdm(dl)):\n",
    "            original_logits = model(batch.to(device)).log_softmax(dim=-1)\n",
    "            ablated_logits = model.run_with_hooks(batch.to(device), fwd_hooks=[(cache_name, less_than_rank_1_ablate)]).log_softmax(dim=-1)\n",
    "            diff_logits = ablated_logits  - original_logits# ablated > original -> negative diff\n",
    "            gather_tokens = rearrange(batch[:,1:].to(device), \"b s -> b s 1\")\n",
    "            gathered = diff_logits[:, :-1].gather(-1,gather_tokens)\n",
    "            # append all 0's to the beggining of gathered\n",
    "            gathered = torch.cat([torch.zeros((gathered.shape[0],1,1)).to(device), gathered], dim=1)\n",
    "            diff = rearrange(gathered, \"b s n -> (b s n)\")\n",
    "            # Add one to the first position of logit diff, so we're always skipping over the first token (since it's not predicted)\n",
    "            logit_diffs[i*batch_size*max_seq_length:(i+1)*batch_size*max_seq_length] = diff.cpu()\n",
    "    return logit_diffs\n",
    "feature = 1\n",
    "logit_diffs = ablate_feature_direction(model, dataset, cache_name, autoencoder, feature = feature, batch_size=32)"
   ]
  },
  {
   "cell_type": "code",
   "execution_count": 6,
   "metadata": {},
   "outputs": [
    {
     "name": "stderr",
     "output_type": "stream",
     "text": [
      "/home/mchorse/logan/test/sparse_coding/interp_utils.py:24: UserWarning: torch.searchsorted(): input value tensor is non-contiguous, this will lower the performance due to extra data copy when converting non-contiguous tensor to contiguous, please use contiguous input value tensor if possible. This message will only appear once per program. (Triggered internally at ../aten/src/ATen/native/BucketizationUtils.h:33.)\n",
      "  bins = torch.bucketize(best_feature_activations, bin_boundaries)\n"
     ]
    }
   ],
   "source": [
    "# # from interp_utils import *\n",
    "# if isinstance(features, int):\n",
    "#     features = [features]\n",
    "# for feature in features:\n",
    "#     text_list, full_text, token_list, full_token_list = get_feature_datapoints(feature, dictionary_activations, model.tokenizer, max_seq_length, dataset, setting=\"uniform\")\n",
    "#     # text_list, full_text, token_list, full_token_list = get_feature_datapoints(feature, dictionary_activations, dataset, setting=\"max\")\n",
    "#     # visualize_text(full_text, feature, model, autoencoder, layer)\n",
    "# l = visualize_text(text_list, feature, model, autoencoder, layer)"
   ]
  },
  {
   "cell_type": "code",
   "execution_count": 170,
   "metadata": {},
   "outputs": [],
   "source": [
    "from IPython.display import display, HTML\n",
    "import imgkit\n",
    "def tokens_and_activations_to_html(toks, activations, tokenizer):\n",
    "    if isinstance(toks, torch.Tensor):\n",
    "        if toks.dim() == 1:\n",
    "            toks = [toks.tolist()]\n",
    "        elif toks.dim()==2:\n",
    "            toks = toks.tolist()\n",
    "        else: \n",
    "            raise NotImplementedError(\"tokens must be 1 or 2 dimensional\")\n",
    "    elif isinstance(toks, list):\n",
    "        # ensure it's a list of lists\n",
    "        if isinstance(toks[0], int):\n",
    "            toks = [toks]\n",
    "    if isinstance(activations, torch.Tensor):\n",
    "        if(activations.dim() == 1):\n",
    "            activations = [activations.tolist()]\n",
    "        elif(activations.dim() == 2):\n",
    "            activations = activations.tolist()\n",
    "        else:\n",
    "            raise NotImplementedError(\"activations must be 1 or 2 dimensional\")\n",
    "    elif isinstance(activations, list):\n",
    "        # ensure it's a list of lists\n",
    "        if isinstance(activations[0], float) or isinstance(activations[0], int):\n",
    "            activations = [activations]\n",
    "    # convert tokens into strings\n",
    "    toks = [[tokenizer.decode(t).replace('Ġ', '&nbsp').replace('\\n', '↵') for t in tok] for tok in toks]\n",
    "    highlighted_text = []\n",
    "    max_value = max([max(activ) for activ in activations])\n",
    "    min_value = min([min(activ) for activ in activations])\n",
    "    white = 245\n",
    "    red_blue_ness = 250\n",
    "    positive_threshold = 0.01\n",
    "    negative_threshold = 0.01\n",
    "    for act, tok in zip(activations, toks):\n",
    "        for a, t in zip(act, tok):\n",
    "            if a > positive_threshold:\n",
    "                ratio = a/max_value\n",
    "                text_color = \"0,0,0\" if ratio <= 0.5 else \"255,255,255\"\n",
    "                highlighted_text.append(f'<span style=\"background-color:rgba({int(red_blue_ness-(red_blue_ness*ratio))},{int(red_blue_ness-(red_blue_ness*ratio))},255,1); color:rgb({text_color})\">{t}</span>')\n",
    "            elif a < negative_threshold:\n",
    "                ratio = a/min_value\n",
    "                text_color = \"0,0,0\" if ratio <= 0.5 else \"255,255,255\"\n",
    "                highlighted_text.append(f'<span style=\"background-color:rgba(255, {int(red_blue_ness-(red_blue_ness*ratio))},{int(red_blue_ness-(red_blue_ness*ratio))},1);color:rgb({text_color})\">{t}</span>')\n",
    "            else:\n",
    "                # highlighted_text.append(f'<span style=\"background-color:rgba(255,255,255,1);color:rgb(0,0,0)\">{t}</span>')\n",
    "                highlighted_text.append(f'<span style=\"background-color:rgba({white},{white},{white},1);color:rgb(0,0,0)\">{t}</span>')\n",
    "        highlighted_text.append('<br><br>')\n",
    "    # Add color bar\n",
    "    num_colors = 4\n",
    "    if(min_value < -negative_threshold):\n",
    "        for i in range(num_colors, 0, -1):\n",
    "            ratio = i / (num_colors)\n",
    "            value = round((min_value*ratio),1)\n",
    "            text_color = \"255,255,255\" if ratio > 0.5 else \"0,0,0\"\n",
    "            highlighted_text.append(f'<span style=\"background-color:rgba(255, {int(red_blue_ness-(red_blue_ness*ratio))},{int(red_blue_ness-(red_blue_ness*ratio))},1); color:rgb({text_color})\">&nbsp{value}&nbsp</span>')\n",
    "    # Do zero\n",
    "    highlighted_text.append(f'<span style=\"background-color:rgba({white},{white},{white},1);color:rgb(0,0,0)\">&nbsp0.0&nbsp</span>')\n",
    "    # Do positive\n",
    "    if(max_value > positive_threshold):\n",
    "        for i in range(1, num_colors+1):\n",
    "            ratio = i / (num_colors)\n",
    "            value = round((max_value*ratio),1)\n",
    "            text_color = \"255,255,255\" if ratio > 0.5 else \"0,0,0\"\n",
    "            highlighted_text.append(f'<span style=\"background-color:rgba({int(red_blue_ness-(red_blue_ness*ratio))},{int(red_blue_ness-(red_blue_ness*ratio))},255,1);color:rgb({text_color})\">&nbsp{value}&nbsp</span>')\n",
    "    highlighted_text = ''.join(highlighted_text)\n",
    "    return highlighted_text\n",
    "\n",
    "def display_tokens(tokens, activations, tokenizer):\n",
    "    return display(HTML(tokens_and_activations_to_html(tokens, activations, tokenizer)))\n",
    "\n",
    "def save_token_display(tokens, activations, tokenizer, path):\n",
    "    html = tokens_and_activations_to_html(tokens, activations, tokenizer)\n",
    "    imgkit.from_string(html, path)\n",
    "    # print(f\"Saved to {path}\")\n",
    "    return"
   ]
  },
  {
   "cell_type": "code",
   "execution_count": 91,
   "metadata": {},
   "outputs": [
    {
     "data": {
      "text/html": [
       "<span style=\"background-color:rgba(245,245,245,1);color:rgb(0,0,0)\">Pass</span><span style=\"background-color:rgba(245,245,245,1);color:rgb(0,0,0)\">ive</span><span style=\"background-color:rgba(245,245,245,1);color:rgb(0,0,0)\"> election</span><span style=\"background-color:rgba(245,245,245,1);color:rgb(0,0,0)\">e</span><span style=\"background-color:rgba(245,245,245,1);color:rgb(0,0,0)\">ering</span><span style=\"background-color:rgba(245,245,245,1);color:rgb(0,0,0)\">↵</span><span style=\"background-color:rgba(245,245,245,1);color:rgb(0,0,0)\">↵</span><span style=\"background-color:rgba(245,245,245,1);color:rgb(0,0,0)\">Pass</span><span style=\"background-color:rgba(245,245,245,1);color:rgb(0,0,0)\">ive</span><span style=\"background-color:rgba(245,245,245,1);color:rgb(0,0,0)\"> election</span><span style=\"background-color:rgba(245,245,245,1);color:rgb(0,0,0)\">e</span><span style=\"background-color:rgba(245,245,245,1);color:rgb(0,0,0)\">ering</span><span style=\"background-color:rgba(245,245,245,1);color:rgb(0,0,0)\"> is</span><span style=\"background-color:rgba(245,245,245,1);color:rgb(0,0,0)\"> the</span><span style=\"background-color:rgba(245,245,245,1);color:rgb(0,0,0)\"> act</span><span style=\"background-color:rgba(245,245,245,1);color:rgb(0,0,0)\"> of</span><span style=\"background-color:rgba(245,245,245,1);color:rgb(0,0,0)\"> wearing</span><span style=\"background-color:rgba(245,245,245,1);color:rgb(0,0,0)\"> campaign</span><span style=\"background-color:rgba(245,245,245,1);color:rgb(0,0,0)\"> parap</span><span style=\"background-color:rgba(245,245,245,1);color:rgb(0,0,0)\">her</span><span style=\"background-color:rgba(245,245,245,1);color:rgb(0,0,0)\">nal</span><span style=\"background-color:rgba(245,245,245,1);color:rgb(0,0,0)\">ia</span><span style=\"background-color:rgba(0,0,255,1); color:rgb(255,255,255)\"> or</span><br><br><span style=\"background-color:rgba(245,245,245,1);color:rgb(0,0,0)\">Motion</span><span style=\"background-color:rgba(245,245,245,1);color:rgb(0,0,0)\">-</span><span style=\"background-color:rgba(245,245,245,1);color:rgb(0,0,0)\">trans</span><span style=\"background-color:rgba(245,245,245,1);color:rgb(0,0,0)\">mitting</span><span style=\"background-color:rgba(245,245,245,1);color:rgb(0,0,0)\"> remote</span><span style=\"background-color:rgba(245,245,245,1);color:rgb(0,0,0)\"> control</span><span style=\"background-color:rgba(245,245,245,1);color:rgb(0,0,0)\"> cable</span><span style=\"background-color:rgba(245,245,245,1);color:rgb(0,0,0)\"> assemblies</span><span style=\"background-color:rgba(245,245,245,1);color:rgb(0,0,0)\">,</span><span style=\"background-color:rgba(245,245,245,1);color:rgb(0,0,0)\"> such</span><span style=\"background-color:rgba(245,245,245,1);color:rgb(0,0,0)\"> as</span><span style=\"background-color:rgba(245,245,245,1);color:rgb(0,0,0)\"> “</span><span style=\"background-color:rgba(245,245,245,1);color:rgb(0,0,0)\">push</span><span style=\"background-color:rgba(245,245,245,1);color:rgb(0,0,0)\">-</span><span style=\"background-color:rgba(245,245,245,1);color:rgb(0,0,0)\">pull</span><span style=\"background-color:rgba(245,245,245,1);color:rgb(0,0,0)\"> cables</span><span style=\"background-color:rgba(245,245,245,1);color:rgb(0,0,0)\">,”</span><span style=\"background-color:rgba(245,245,245,1);color:rgb(0,0,0)\"> are</span><span style=\"background-color:rgba(245,245,245,1);color:rgb(0,0,0)\"> used</span><span style=\"background-color:rgba(245,245,245,1);color:rgb(0,0,0)\"> for</span><span style=\"background-color:rgba(245,245,245,1);color:rgb(0,0,0)\"> transmitting</span><span style=\"background-color:rgba(245,245,245,1);color:rgb(0,0,0)\"> force</span><span style=\"background-color:rgba(14,14,255,1); color:rgb(255,255,255)\"> or</span><br><br><span style=\"background-color:rgba(245,245,245,1);color:rgb(0,0,0)\">Q</span><span style=\"background-color:rgba(245,245,245,1);color:rgb(0,0,0)\">:</span><span style=\"background-color:rgba(245,245,245,1);color:rgb(0,0,0)\">↵</span><span style=\"background-color:rgba(245,245,245,1);color:rgb(0,0,0)\">↵</span><span style=\"background-color:rgba(245,245,245,1);color:rgb(0,0,0)\">Silver</span><span style=\"background-color:rgba(245,245,245,1);color:rgb(0,0,0)\">light</span><span style=\"background-color:rgba(245,245,245,1);color:rgb(0,0,0)\"> resource</span><span style=\"background-color:rgba(245,245,245,1);color:rgb(0,0,0)\"> constructor</span><span style=\"background-color:rgba(245,245,245,1);color:rgb(0,0,0)\"> always</span><span style=\"background-color:rgba(245,245,245,1);color:rgb(0,0,0)\"> return</span><span style=\"background-color:rgba(245,245,245,1);color:rgb(0,0,0)\"> to</span><span style=\"background-color:rgba(245,245,245,1);color:rgb(0,0,0)\"> internal</span><span style=\"background-color:rgba(245,245,245,1);color:rgb(0,0,0)\">↵</span><span style=\"background-color:rgba(245,245,245,1);color:rgb(0,0,0)\">↵</span><span style=\"background-color:rgba(245,245,245,1);color:rgb(0,0,0)\">When</span><span style=\"background-color:rgba(245,245,245,1);color:rgb(0,0,0)\"> I</span><span style=\"background-color:rgba(245,245,245,1);color:rgb(0,0,0)\"> modify</span><span style=\"background-color:rgba(245,245,245,1);color:rgb(0,0,0)\"> my</span><span style=\"background-color:rgba(245,245,245,1);color:rgb(0,0,0)\"> resource</span><span style=\"background-color:rgba(245,245,245,1);color:rgb(0,0,0)\"> file</span><span style=\"background-color:rgba(245,245,245,1);color:rgb(0,0,0)\"> (.</span><span style=\"background-color:rgba(245,245,245,1);color:rgb(0,0,0)\">res</span><span style=\"background-color:rgba(245,245,245,1);color:rgb(0,0,0)\">x</span><span style=\"background-color:rgba(245,245,245,1);color:rgb(0,0,0)\">)</span><span style=\"background-color:rgba(245,245,245,1);color:rgb(0,0,0)\"> add</span><span style=\"background-color:rgba(245,245,245,1);color:rgb(0,0,0)\"> text</span><span style=\"background-color:rgba(44,44,255,1); color:rgb(255,255,255)\"> or</span><br><br><span style=\"background-color:rgba(245,245,245,1);color:rgb(0,0,0)\">C</span><span style=\"background-color:rgba(245,245,245,1);color:rgb(0,0,0)\">ao</span><span style=\"background-color:rgba(245,245,245,1);color:rgb(0,0,0)\">↵</span><span style=\"background-color:rgba(245,245,245,1);color:rgb(0,0,0)\">↵</span><span style=\"background-color:rgba(245,245,245,1);color:rgb(0,0,0)\">C</span><span style=\"background-color:rgba(245,245,245,1);color:rgb(0,0,0)\">ao</span><span style=\"background-color:rgba(245,245,245,1);color:rgb(0,0,0)\"> may</span><span style=\"background-color:rgba(245,245,245,1);color:rgb(0,0,0)\"> refer</span><span style=\"background-color:rgba(245,245,245,1);color:rgb(0,0,0)\"> to</span><span style=\"background-color:rgba(245,245,245,1);color:rgb(0,0,0)\">:</span><span style=\"background-color:rgba(245,245,245,1);color:rgb(0,0,0)\">↵</span><span style=\"background-color:rgba(245,245,245,1);color:rgb(0,0,0)\">↵</span><span style=\"background-color:rgba(245,245,245,1);color:rgb(0,0,0)\">Compan</span><span style=\"background-color:rgba(245,245,245,1);color:rgb(0,0,0)\">ies</span><span style=\"background-color:rgba(74,74,255,1); color:rgb(255,255,255)\"> or</span><br><br><span style=\"background-color:rgba(245,245,245,1);color:rgb(0,0,0)\">In</span><span style=\"background-color:rgba(245,245,245,1);color:rgb(0,0,0)\">fections</span><span style=\"background-color:rgba(245,245,245,1);color:rgb(0,0,0)\"> of</span><span style=\"background-color:rgba(245,245,245,1);color:rgb(0,0,0)\"> the</span><span style=\"background-color:rgba(245,245,245,1);color:rgb(0,0,0)\"> nail</span><span style=\"background-color:rgba(245,245,245,1);color:rgb(0,0,0)\"> and</span><span style=\"background-color:rgba(245,245,245,1);color:rgb(0,0,0)\"> ho</span><span style=\"background-color:rgba(245,245,245,1);color:rgb(0,0,0)\">of</span><span style=\"background-color:rgba(245,245,245,1);color:rgb(0,0,0)\">,</span><span style=\"background-color:rgba(245,245,245,1);color:rgb(0,0,0)\"> known</span><span style=\"background-color:rgba(245,245,245,1);color:rgb(0,0,0)\"> as</span><span style=\"background-color:rgba(245,245,245,1);color:rgb(0,0,0)\"> un</span><span style=\"background-color:rgba(245,245,245,1);color:rgb(0,0,0)\">g</span><span style=\"background-color:rgba(245,245,245,1);color:rgb(0,0,0)\">ual</span><span style=\"background-color:rgba(245,245,245,1);color:rgb(0,0,0)\"> and</span><span style=\"background-color:rgba(201,201,255,1); color:rgb(0,0,0)\">/</span><span style=\"background-color:rgba(113,113,255,1); color:rgb(255,255,255)\">or</span><br><br><span style=\"background-color:rgba(245,245,245,1);color:rgb(0,0,0)\">/*</span><span style=\"background-color:rgba(245,245,245,1);color:rgb(0,0,0)\">↵</span><span style=\"background-color:rgba(245,245,245,1);color:rgb(0,0,0)\">*</span><span style=\"background-color:rgba(245,245,245,1);color:rgb(0,0,0)\"> Copyright</span><span style=\"background-color:rgba(245,245,245,1);color:rgb(0,0,0)\"> (</span><span style=\"background-color:rgba(245,245,245,1);color:rgb(0,0,0)\">c</span><span style=\"background-color:rgba(245,245,245,1);color:rgb(0,0,0)\">)</span><span style=\"background-color:rgba(245,245,245,1);color:rgb(0,0,0)\"> 2016</span><span style=\"background-color:rgba(245,245,245,1);color:rgb(0,0,0)\">,</span><span style=\"background-color:rgba(245,245,245,1);color:rgb(0,0,0)\"> 2018</span><span style=\"background-color:rgba(245,245,245,1);color:rgb(0,0,0)\">,</span><span style=\"background-color:rgba(245,245,245,1);color:rgb(0,0,0)\"> Oracle</span><span style=\"background-color:rgba(245,245,245,1);color:rgb(0,0,0)\"> and</span><span style=\"background-color:rgba(199,199,255,1); color:rgb(0,0,0)\">/</span><span style=\"background-color:rgba(129,129,255,1); color:rgb(0,0,0)\">or</span><span style=\"background-color:rgba(245,245,245,1);color:rgb(0,0,0)\"> its</span><span style=\"background-color:rgba(245,245,245,1);color:rgb(0,0,0)\"> affiliates</span><span style=\"background-color:rgba(245,245,245,1);color:rgb(0,0,0)\">.</span><span style=\"background-color:rgba(245,245,245,1);color:rgb(0,0,0)\"> All</span><span style=\"background-color:rgba(245,245,245,1);color:rgb(0,0,0)\"> rights</span><span style=\"background-color:rgba(245,245,245,1);color:rgb(0,0,0)\"> reserved</span><span style=\"background-color:rgba(245,245,245,1);color:rgb(0,0,0)\">.</span><span style=\"background-color:rgba(245,245,245,1);color:rgb(0,0,0)\">↵</span><span style=\"background-color:rgba(245,245,245,1);color:rgb(0,0,0)\">*</span><span style=\"background-color:rgba(245,245,245,1);color:rgb(0,0,0)\"> DO</span><span style=\"background-color:rgba(245,245,245,1);color:rgb(0,0,0)\"> NOT</span><span style=\"background-color:rgba(245,245,245,1);color:rgb(0,0,0)\"> AL</span><span style=\"background-color:rgba(245,245,245,1);color:rgb(0,0,0)\">TER</span><span style=\"background-color:rgba(141,141,255,1); color:rgb(0,0,0)\"> OR</span><br><br><span style=\"background-color:rgba(245,245,245,1);color:rgb(0,0,0)\">Download</span><span style=\"background-color:rgba(245,245,245,1);color:rgb(0,0,0)\"> P</span><span style=\"background-color:rgba(245,245,245,1);color:rgb(0,0,0)\">fl</span><span style=\"background-color:rgba(245,245,245,1);color:rgb(0,0,0)\">an</span><span style=\"background-color:rgba(245,245,245,1);color:rgb(0,0,0)\">zen</span><span style=\"background-color:rgba(245,245,245,1);color:rgb(0,0,0)\">reich</span><span style=\"background-color:rgba(245,245,245,1);color:rgb(0,0,0)\"> Pf</span><span style=\"background-color:rgba(245,245,245,1);color:rgb(0,0,0)\">itzer</span><span style=\"background-color:rgba(152,152,255,1); color:rgb(0,0,0)\"> Or</span><br><br><span style=\"background-color:rgba(245,245,245,1);color:rgb(0,0,0)\">Q</span><span style=\"background-color:rgba(245,245,245,1);color:rgb(0,0,0)\">:</span><span style=\"background-color:rgba(245,245,245,1);color:rgb(0,0,0)\">↵</span><span style=\"background-color:rgba(245,245,245,1);color:rgb(0,0,0)\">↵</span><span style=\"background-color:rgba(245,245,245,1);color:rgb(0,0,0)\">Rank</span><span style=\"background-color:rgba(245,245,245,1);color:rgb(0,0,0)\"> by</span><span style=\"background-color:rgba(245,245,245,1);color:rgb(0,0,0)\"> 2</span><span style=\"background-color:rgba(245,245,245,1);color:rgb(0,0,0)\"> different</span><span style=\"background-color:rgba(245,245,245,1);color:rgb(0,0,0)\"> levels</span><span style=\"background-color:rgba(245,245,245,1);color:rgb(0,0,0)\"> of</span><span style=\"background-color:rgba(245,245,245,1);color:rgb(0,0,0)\"> partitioning</span><span style=\"background-color:rgba(185,185,255,1); color:rgb(0,0,0)\">/</span><br><br><span style=\"background-color:rgba(245,245,245,1);color:rgb(0,0,0)\">S</span><span style=\"background-color:rgba(245,245,245,1);color:rgb(0,0,0)\">oul</span><span style=\"background-color:rgba(245,245,245,1);color:rgb(0,0,0)\">star</span><span style=\"background-color:rgba(245,245,245,1);color:rgb(0,0,0)\">↵</span><span style=\"background-color:rgba(245,245,245,1);color:rgb(0,0,0)\">↵</span><span style=\"background-color:rgba(245,245,245,1);color:rgb(0,0,0)\">S</span><span style=\"background-color:rgba(245,245,245,1);color:rgb(0,0,0)\">oul</span><span style=\"background-color:rgba(245,245,245,1);color:rgb(0,0,0)\">star</span><span style=\"background-color:rgba(245,245,245,1);color:rgb(0,0,0)\"> is</span><span style=\"background-color:rgba(245,245,245,1);color:rgb(0,0,0)\"> a</span><span style=\"background-color:rgba(245,245,245,1);color:rgb(0,0,0)\"> hybrid</span><span style=\"background-color:rgba(245,245,245,1);color:rgb(0,0,0)\"> rail</span><span style=\"background-color:rgba(245,245,245,1);color:rgb(0,0,0)\"> shooter</span><span style=\"background-color:rgba(202,202,255,1); color:rgb(0,0,0)\">/</span><br><br><span style=\"background-color:rgba(245,245,245,1);color:rgb(0,0,0)\">Event</span><span style=\"background-color:rgba(245,245,245,1);color:rgb(0,0,0)\"> Host</span><span style=\"background-color:rgba(245,245,245,1);color:rgb(0,0,0)\">ing</span><span style=\"background-color:rgba(245,245,245,1);color:rgb(0,0,0)\"> and</span><span style=\"background-color:rgba(245,245,245,1);color:rgb(0,0,0)\"> Prom</span><span style=\"background-color:rgba(245,245,245,1);color:rgb(0,0,0)\">otions</span><span style=\"background-color:rgba(245,245,245,1);color:rgb(0,0,0)\">↵</span><span style=\"background-color:rgba(245,245,245,1);color:rgb(0,0,0)\">↵</span><span style=\"background-color:rgba(245,245,245,1);color:rgb(0,0,0)\">White</span><span style=\"background-color:rgba(245,245,245,1);color:rgb(0,0,0)\">Kn</span><span style=\"background-color:rgba(245,245,245,1);color:rgb(0,0,0)\">uckle</span><span style=\"background-color:rgba(245,245,245,1);color:rgb(0,0,0)\"> Event</span><span style=\"background-color:rgba(245,245,245,1);color:rgb(0,0,0)\"> Host</span><span style=\"background-color:rgba(245,245,245,1);color:rgb(0,0,0)\">ing</span><span style=\"background-color:rgba(236,236,255,1); color:rgb(0,0,0)\"> &</span><br><br><span style=\"background-color:rgba(245,245,245,1);color:rgb(0,0,0)\">&nbsp0.0&nbsp</span><span style=\"background-color:rgba(187,187,255,1);color:rgb(0,0,0)\">&nbsp1.1&nbsp</span><span style=\"background-color:rgba(125,125,255,1);color:rgb(0,0,0)\">&nbsp2.2&nbsp</span><span style=\"background-color:rgba(62,62,255,1);color:rgb(255,255,255)\">&nbsp3.3&nbsp</span><span style=\"background-color:rgba(0,0,255,1);color:rgb(255,255,255)\">&nbsp4.3&nbsp</span>"
      ],
      "text/plain": [
       "<IPython.core.display.HTML object>"
      ]
     },
     "metadata": {},
     "output_type": "display_data"
    }
   ],
   "source": [
    "def get_feature_indices(feature_index, dictionary_activations, tokenizer, token_amount, dataset, k=10, setting=\"max\"):\n",
    "    best_feature_activations = dictionary_activations[:, feature_index]\n",
    "    # Sort the features by activation, get the indices\n",
    "    if setting==\"max\":\n",
    "        found_indices = torch.argsort(best_feature_activations, descending=True)[:k]\n",
    "    elif setting==\"uniform\":\n",
    "        # min_value = torch.min(best_feature_activations)\n",
    "        min_value = torch.min(best_feature_activations)\n",
    "        max_value = torch.max(best_feature_activations)\n",
    "\n",
    "        # Define the number of bins\n",
    "        num_bins = k\n",
    "\n",
    "        # Calculate the bin boundaries as linear interpolation between min and max\n",
    "        bin_boundaries = torch.linspace(min_value, max_value, num_bins + 1)\n",
    "\n",
    "        # Assign each activation to its respective bin\n",
    "        bins = torch.bucketize(best_feature_activations, bin_boundaries)\n",
    "\n",
    "        # Initialize a list to store the sampled indices\n",
    "        sampled_indices = []\n",
    "\n",
    "        # Sample from each bin\n",
    "        for bin_idx in torch.unique(bins):\n",
    "            if(bin_idx==0): # Skip the first one. This is below the median\n",
    "                continue\n",
    "            # Get the indices corresponding to the current bin\n",
    "            bin_indices = torch.nonzero(bins == bin_idx, as_tuple=False).squeeze(dim=1)\n",
    "            \n",
    "            # Randomly sample from the current bin\n",
    "            sampled_indices.extend(np.random.choice(bin_indices, size=1, replace=False))\n",
    "\n",
    "        # Convert the sampled indices to a PyTorch tensor & reverse order\n",
    "        found_indices = torch.tensor(sampled_indices).long().flip(dims=[0])\n",
    "    else: # random\n",
    "        # get nonzero indices\n",
    "        nonzero_indices = torch.nonzero(best_feature_activations)[:, 0]\n",
    "        # shuffle\n",
    "        shuffled_indices = nonzero_indices[torch.randperm(nonzero_indices.shape[0])]\n",
    "        found_indices = shuffled_indices[:k]\n",
    "    return found_indices\n",
    "def get_feature_datapoints(found_indices, best_feature_activations, tokenizer, token_amount, dataset):\n",
    "    num_datapoints = dataset.num_rows\n",
    "    datapoint_indices =[np.unravel_index(i, (num_datapoints, token_amount)) for i in found_indices]\n",
    "    all_activations = best_feature_activations.reshape(num_datapoints, token_amount).tolist()\n",
    "    full_activations = []\n",
    "    partial_activations = []\n",
    "    text_list = []\n",
    "    full_text = []\n",
    "    token_list = []\n",
    "    full_token_list = []\n",
    "    for i, (md, s_ind) in enumerate(datapoint_indices):\n",
    "        md = int(md)\n",
    "        s_ind = int(s_ind)\n",
    "        full_tok = torch.tensor(dataset[md][\"input_ids\"])\n",
    "        full_text.append(tokenizer.decode(full_tok))\n",
    "        tok = dataset[md][\"input_ids\"][:s_ind+1]\n",
    "        full_activations.append(all_activations[md])\n",
    "        partial_activations.append(all_activations[md][:s_ind+1])\n",
    "        text = tokenizer.decode(tok)\n",
    "        text_list.append(text)\n",
    "        token_list.append(tok)\n",
    "        full_token_list.append(full_tok)\n",
    "    return text_list, full_text, token_list, full_token_list, partial_activations, full_activations\n",
    "\n",
    "uniform_indices = get_feature_indices(feature, dictionary_activations, model.tokenizer, max_seq_length, dataset, k=10, setting=\"uniform\")\n",
    "text_list, full_text, token_list, full_token_list, partial_activations, full_activations = get_feature_datapoints(uniform_indices, dictionary_activations[:, feature], model.tokenizer, max_seq_length, dataset)\n",
    "display_tokens(token_list, partial_activations, model.tokenizer)"
   ]
  },
  {
   "cell_type": "code",
   "execution_count": 95,
   "metadata": {},
   "outputs": [
    {
     "data": {
      "text/html": [
       "<span style=\"background-color:rgba(245,245,245,1);color:rgb(0,0,0)\">Pass</span><span style=\"background-color:rgba(245,245,245,1);color:rgb(0,0,0)\">ive</span><span style=\"background-color:rgba(249,249,255,1); color:rgb(0,0,0)\"> election</span><span style=\"background-color:rgba(247,247,255,1); color:rgb(0,0,0)\">e</span><span style=\"background-color:rgba(245,245,245,1);color:rgb(0,0,0)\">ering</span><span style=\"background-color:rgba(255, 249,249,1);color:rgb(0,0,0)\">↵</span><span style=\"background-color:rgba(245,245,245,1);color:rgb(0,0,0)\">↵</span><span style=\"background-color:rgba(248,248,255,1); color:rgb(0,0,0)\">Pass</span><span style=\"background-color:rgba(245,245,245,1);color:rgb(0,0,0)\">ive</span><span style=\"background-color:rgba(245,245,245,1);color:rgb(0,0,0)\"> election</span><span style=\"background-color:rgba(245,245,245,1);color:rgb(0,0,0)\">e</span><span style=\"background-color:rgba(245,245,245,1);color:rgb(0,0,0)\">ering</span><span style=\"background-color:rgba(245,245,245,1);color:rgb(0,0,0)\"> is</span><span style=\"background-color:rgba(249,249,255,1); color:rgb(0,0,0)\"> the</span><span style=\"background-color:rgba(245,245,245,1);color:rgb(0,0,0)\"> act</span><span style=\"background-color:rgba(249,249,255,1); color:rgb(0,0,0)\"> of</span><span style=\"background-color:rgba(240,240,255,1); color:rgb(0,0,0)\"> wearing</span><span style=\"background-color:rgba(255, 249,249,1);color:rgb(0,0,0)\"> campaign</span><span style=\"background-color:rgba(255, 249,249,1);color:rgb(0,0,0)\"> parap</span><span style=\"background-color:rgba(245,245,245,1);color:rgb(0,0,0)\">her</span><span style=\"background-color:rgba(255, 249,249,1);color:rgb(0,0,0)\">nal</span><span style=\"background-color:rgba(249,249,255,1); color:rgb(0,0,0)\">ia</span><span style=\"background-color:rgba(255, 249,249,1);color:rgb(0,0,0)\"> or</span><span style=\"background-color:rgba(195,195,255,1); color:rgb(0,0,0)\"> carrying</span><span style=\"background-color:rgba(114,114,255,1); color:rgb(255,255,255)\"> signs</span><span style=\"background-color:rgba(229,229,255,1); color:rgb(0,0,0)\"> to</span><span style=\"background-color:rgba(255, 230,230,1);color:rgb(0,0,0)\"> a</span><span style=\"background-color:rgba(255, 237,237,1);color:rgb(0,0,0)\"> polling</span><span style=\"background-color:rgba(255, 249,249,1);color:rgb(0,0,0)\"> place</span><span style=\"background-color:rgba(230,230,255,1); color:rgb(0,0,0)\"> with</span><br><br><span style=\"background-color:rgba(245,245,245,1);color:rgb(0,0,0)\">Motion</span><span style=\"background-color:rgba(245,245,245,1);color:rgb(0,0,0)\">-</span><span style=\"background-color:rgba(245,245,245,1);color:rgb(0,0,0)\">trans</span><span style=\"background-color:rgba(245,245,245,1);color:rgb(0,0,0)\">mitting</span><span style=\"background-color:rgba(255, 249,249,1);color:rgb(0,0,0)\"> remote</span><span style=\"background-color:rgba(249,249,255,1); color:rgb(0,0,0)\"> control</span><span style=\"background-color:rgba(247,247,255,1); color:rgb(0,0,0)\"> cable</span><span style=\"background-color:rgba(255, 249,249,1);color:rgb(0,0,0)\"> assemblies</span><span style=\"background-color:rgba(249,249,255,1); color:rgb(0,0,0)\">,</span><span style=\"background-color:rgba(248,248,255,1); color:rgb(0,0,0)\"> such</span><span style=\"background-color:rgba(255, 249,249,1);color:rgb(0,0,0)\"> as</span><span style=\"background-color:rgba(255, 248,248,1);color:rgb(0,0,0)\"> “</span><span style=\"background-color:rgba(255, 249,249,1);color:rgb(0,0,0)\">push</span><span style=\"background-color:rgba(249,249,255,1); color:rgb(0,0,0)\">-</span><span style=\"background-color:rgba(245,245,245,1);color:rgb(0,0,0)\">pull</span><span style=\"background-color:rgba(248,248,255,1); color:rgb(0,0,0)\"> cables</span><span style=\"background-color:rgba(249,249,255,1); color:rgb(0,0,0)\">,”</span><span style=\"background-color:rgba(255, 249,249,1);color:rgb(0,0,0)\"> are</span><span style=\"background-color:rgba(255, 249,249,1);color:rgb(0,0,0)\"> used</span><span style=\"background-color:rgba(246,246,255,1); color:rgb(0,0,0)\"> for</span><span style=\"background-color:rgba(247,247,255,1); color:rgb(0,0,0)\"> transmitting</span><span style=\"background-color:rgba(255, 248,248,1);color:rgb(0,0,0)\"> force</span><span style=\"background-color:rgba(255, 249,249,1);color:rgb(0,0,0)\"> or</span><span style=\"background-color:rgba(255, 143,143,1);color:rgb(0,0,0)\"> load</span><span style=\"background-color:rgba(24,24,255,1); color:rgb(255,255,255)\"> and</span><span style=\"background-color:rgba(255, 244,244,1);color:rgb(0,0,0)\">/</span><span style=\"background-color:rgba(249,249,255,1); color:rgb(0,0,0)\">or</span><span style=\"background-color:rgba(84,84,255,1); color:rgb(255,255,255)\"> motion</span><span style=\"background-color:rgba(255, 225,225,1);color:rgb(0,0,0)\">,</span><span style=\"background-color:rgba(255, 249,249,1);color:rgb(0,0,0)\"> typically</span><br><br><span style=\"background-color:rgba(245,245,245,1);color:rgb(0,0,0)\">Q</span><span style=\"background-color:rgba(245,245,245,1);color:rgb(0,0,0)\">:</span><span style=\"background-color:rgba(255, 249,249,1);color:rgb(0,0,0)\">↵</span><span style=\"background-color:rgba(245,245,245,1);color:rgb(0,0,0)\">↵</span><span style=\"background-color:rgba(245,245,245,1);color:rgb(0,0,0)\">Silver</span><span style=\"background-color:rgba(245,245,245,1);color:rgb(0,0,0)\">light</span><span style=\"background-color:rgba(255, 249,249,1);color:rgb(0,0,0)\"> resource</span><span style=\"background-color:rgba(249,249,255,1); color:rgb(0,0,0)\"> constructor</span><span style=\"background-color:rgba(255, 249,249,1);color:rgb(0,0,0)\"> always</span><span style=\"background-color:rgba(245,245,245,1);color:rgb(0,0,0)\"> return</span><span style=\"background-color:rgba(249,249,255,1); color:rgb(0,0,0)\"> to</span><span style=\"background-color:rgba(255, 249,249,1);color:rgb(0,0,0)\"> internal</span><span style=\"background-color:rgba(249,249,255,1); color:rgb(0,0,0)\">↵</span><span style=\"background-color:rgba(255, 249,249,1);color:rgb(0,0,0)\">↵</span><span style=\"background-color:rgba(255, 249,249,1);color:rgb(0,0,0)\">When</span><span style=\"background-color:rgba(255, 249,249,1);color:rgb(0,0,0)\"> I</span><span style=\"background-color:rgba(245,245,245,1);color:rgb(0,0,0)\"> modify</span><span style=\"background-color:rgba(247,247,255,1); color:rgb(0,0,0)\"> my</span><span style=\"background-color:rgba(245,245,245,1);color:rgb(0,0,0)\"> resource</span><span style=\"background-color:rgba(255, 249,249,1);color:rgb(0,0,0)\"> file</span><span style=\"background-color:rgba(255, 249,249,1);color:rgb(0,0,0)\"> (.</span><span style=\"background-color:rgba(238,238,255,1); color:rgb(0,0,0)\">res</span><span style=\"background-color:rgba(245,245,245,1);color:rgb(0,0,0)\">x</span><span style=\"background-color:rgba(245,245,245,1);color:rgb(0,0,0)\">)</span><span style=\"background-color:rgba(245,245,245,1);color:rgb(0,0,0)\"> add</span><span style=\"background-color:rgba(242,242,255,1); color:rgb(0,0,0)\"> text</span><span style=\"background-color:rgba(255, 249,249,1);color:rgb(0,0,0)\"> or</span><span style=\"background-color:rgba(255, 126,126,1);color:rgb(0,0,0)\"> modify</span><span style=\"background-color:rgba(182,182,255,1); color:rgb(0,0,0)\">,</span><span style=\"background-color:rgba(236,236,255,1); color:rgb(0,0,0)\"> the</span><br><br><span style=\"background-color:rgba(245,245,245,1);color:rgb(0,0,0)\">C</span><span style=\"background-color:rgba(245,245,245,1);color:rgb(0,0,0)\">ao</span><span style=\"background-color:rgba(255, 249,249,1);color:rgb(0,0,0)\">↵</span><span style=\"background-color:rgba(245,245,245,1);color:rgb(0,0,0)\">↵</span><span style=\"background-color:rgba(245,245,245,1);color:rgb(0,0,0)\">C</span><span style=\"background-color:rgba(245,245,245,1);color:rgb(0,0,0)\">ao</span><span style=\"background-color:rgba(255, 249,249,1);color:rgb(0,0,0)\"> may</span><span style=\"background-color:rgba(245,245,245,1);color:rgb(0,0,0)\"> refer</span><span style=\"background-color:rgba(245,245,245,1);color:rgb(0,0,0)\"> to</span><span style=\"background-color:rgba(249,249,255,1); color:rgb(0,0,0)\">:</span><span style=\"background-color:rgba(255, 249,249,1);color:rgb(0,0,0)\">↵</span><span style=\"background-color:rgba(245,245,245,1);color:rgb(0,0,0)\">↵</span><span style=\"background-color:rgba(245,245,245,1);color:rgb(0,0,0)\">Compan</span><span style=\"background-color:rgba(246,246,255,1); color:rgb(0,0,0)\">ies</span><span style=\"background-color:rgba(249,249,255,1); color:rgb(0,0,0)\"> or</span><span style=\"background-color:rgba(255, 243,243,1);color:rgb(0,0,0)\"> organizations</span><span style=\"background-color:rgba(189,189,255,1); color:rgb(0,0,0)\">↵</span><span style=\"background-color:rgba(0,0,255,1); color:rgb(255,255,255)\">Air</span><span style=\"background-color:rgba(255, 247,247,1);color:rgb(0,0,0)\"> China</span><span style=\"background-color:rgba(255, 247,247,1);color:rgb(0,0,0)\"> C</span><span style=\"background-color:rgba(248,248,255,1); color:rgb(0,0,0)\">argo</span><span style=\"background-color:rgba(255, 249,249,1);color:rgb(0,0,0)\">,</span><span style=\"background-color:rgba(255, 247,247,1);color:rgb(0,0,0)\"> I</span><span style=\"background-color:rgba(255, 249,249,1);color:rgb(0,0,0)\">CA</span><span style=\"background-color:rgba(247,247,255,1); color:rgb(0,0,0)\">O</span><span style=\"background-color:rgba(255, 248,248,1);color:rgb(0,0,0)\"> airline</span><span style=\"background-color:rgba(246,246,255,1); color:rgb(0,0,0)\"> design</span><span style=\"background-color:rgba(247,247,255,1); color:rgb(0,0,0)\">ator</span><span style=\"background-color:rgba(255, 249,249,1);color:rgb(0,0,0)\"> CA</span><span style=\"background-color:rgba(255, 249,249,1);color:rgb(0,0,0)\">O</span><br><br><span style=\"background-color:rgba(245,245,245,1);color:rgb(0,0,0)\">In</span><span style=\"background-color:rgba(245,245,245,1);color:rgb(0,0,0)\">fections</span><span style=\"background-color:rgba(248,248,255,1); color:rgb(0,0,0)\"> of</span><span style=\"background-color:rgba(249,249,255,1); color:rgb(0,0,0)\"> the</span><span style=\"background-color:rgba(245,245,245,1);color:rgb(0,0,0)\"> nail</span><span style=\"background-color:rgba(255, 249,249,1);color:rgb(0,0,0)\"> and</span><span style=\"background-color:rgba(255, 249,249,1);color:rgb(0,0,0)\"> ho</span><span style=\"background-color:rgba(245,245,245,1);color:rgb(0,0,0)\">of</span><span style=\"background-color:rgba(248,248,255,1); color:rgb(0,0,0)\">,</span><span style=\"background-color:rgba(247,247,255,1); color:rgb(0,0,0)\"> known</span><span style=\"background-color:rgba(255, 249,249,1);color:rgb(0,0,0)\"> as</span><span style=\"background-color:rgba(255, 248,248,1);color:rgb(0,0,0)\"> un</span><span style=\"background-color:rgba(245,245,245,1);color:rgb(0,0,0)\">g</span><span style=\"background-color:rgba(245,245,245,1);color:rgb(0,0,0)\">ual</span><span style=\"background-color:rgba(245,245,245,1);color:rgb(0,0,0)\"> and</span><span style=\"background-color:rgba(249,249,255,1); color:rgb(0,0,0)\">/</span><span style=\"background-color:rgba(246,246,255,1); color:rgb(0,0,0)\">or</span><span style=\"background-color:rgba(87,87,255,1); color:rgb(255,255,255)\"> peri</span><span style=\"background-color:rgba(255, 237,237,1);color:rgb(0,0,0)\">ung</span><span style=\"background-color:rgba(200,200,255,1); color:rgb(0,0,0)\">ual</span><span style=\"background-color:rgba(255, 247,247,1);color:rgb(0,0,0)\"> infections</span><span style=\"background-color:rgba(255, 248,248,1);color:rgb(0,0,0)\">,</span><span style=\"background-color:rgba(255, 248,248,1);color:rgb(0,0,0)\"> pose</span><span style=\"background-color:rgba(249,249,255,1); color:rgb(0,0,0)\"> serious</span><span style=\"background-color:rgba(255, 249,249,1);color:rgb(0,0,0)\"> problems</span><span style=\"background-color:rgba(246,246,255,1); color:rgb(0,0,0)\"> in</span><span style=\"background-color:rgba(255, 249,249,1);color:rgb(0,0,0)\"> dermat</span><span style=\"background-color:rgba(255, 249,249,1);color:rgb(0,0,0)\">ology</span><span style=\"background-color:rgba(249,249,255,1); color:rgb(0,0,0)\">.</span><span style=\"background-color:rgba(255, 249,249,1);color:rgb(0,0,0)\"> These</span><br><br><span style=\"background-color:rgba(245,245,245,1);color:rgb(0,0,0)\">/*</span><span style=\"background-color:rgba(245,245,245,1);color:rgb(0,0,0)\">↵</span><span style=\"background-color:rgba(245,245,245,1);color:rgb(0,0,0)\">*</span><span style=\"background-color:rgba(245,245,245,1);color:rgb(0,0,0)\"> Copyright</span><span style=\"background-color:rgba(255, 249,249,1);color:rgb(0,0,0)\"> (</span><span style=\"background-color:rgba(245,245,245,1);color:rgb(0,0,0)\">c</span><span style=\"background-color:rgba(245,245,245,1);color:rgb(0,0,0)\">)</span><span style=\"background-color:rgba(245,245,245,1);color:rgb(0,0,0)\"> 2016</span><span style=\"background-color:rgba(245,245,245,1);color:rgb(0,0,0)\">,</span><span style=\"background-color:rgba(245,245,255,1); color:rgb(0,0,0)\"> 2018</span><span style=\"background-color:rgba(255, 249,249,1);color:rgb(0,0,0)\">,</span><span style=\"background-color:rgba(255, 249,249,1);color:rgb(0,0,0)\"> Oracle</span><span style=\"background-color:rgba(255, 249,249,1);color:rgb(0,0,0)\"> and</span><span style=\"background-color:rgba(245,245,245,1);color:rgb(0,0,0)\">/</span><span style=\"background-color:rgba(255, 249,249,1);color:rgb(0,0,0)\">or</span><span style=\"background-color:rgba(255, 239,239,1);color:rgb(0,0,0)\"> its</span><span style=\"background-color:rgba(249,249,255,1); color:rgb(0,0,0)\"> affiliates</span><span style=\"background-color:rgba(255, 249,249,1);color:rgb(0,0,0)\">.</span><span style=\"background-color:rgba(255, 248,248,1);color:rgb(0,0,0)\"> All</span><span style=\"background-color:rgba(249,249,255,1); color:rgb(0,0,0)\"> rights</span><span style=\"background-color:rgba(249,249,255,1); color:rgb(0,0,0)\"> reserved</span><span style=\"background-color:rgba(255, 249,249,1);color:rgb(0,0,0)\">.</span><span style=\"background-color:rgba(255, 249,249,1);color:rgb(0,0,0)\">↵</span><span style=\"background-color:rgba(249,249,255,1); color:rgb(0,0,0)\">*</span><span style=\"background-color:rgba(255, 248,248,1);color:rgb(0,0,0)\"> DO</span><span style=\"background-color:rgba(245,245,245,1);color:rgb(0,0,0)\"> NOT</span><span style=\"background-color:rgba(255, 249,249,1);color:rgb(0,0,0)\"> AL</span><span style=\"background-color:rgba(249,249,255,1); color:rgb(0,0,0)\">TER</span><span style=\"background-color:rgba(245,245,245,1);color:rgb(0,0,0)\"> OR</span><span style=\"background-color:rgba(255, 248,248,1);color:rgb(0,0,0)\"> REM</span><br><br><span style=\"background-color:rgba(245,245,245,1);color:rgb(0,0,0)\">Download</span><span style=\"background-color:rgba(245,245,245,1);color:rgb(0,0,0)\"> P</span><span style=\"background-color:rgba(245,245,245,1);color:rgb(0,0,0)\">fl</span><span style=\"background-color:rgba(245,245,245,1);color:rgb(0,0,0)\">an</span><span style=\"background-color:rgba(249,249,255,1); color:rgb(0,0,0)\">zen</span><span style=\"background-color:rgba(255, 249,249,1);color:rgb(0,0,0)\">reich</span><span style=\"background-color:rgba(255, 249,249,1);color:rgb(0,0,0)\"> Pf</span><span style=\"background-color:rgba(245,245,245,1);color:rgb(0,0,0)\">itzer</span><span style=\"background-color:rgba(245,245,245,1);color:rgb(0,0,0)\"> Or</span><span style=\"background-color:rgba(255, 0,0,1);color:rgb(255,255,255)\">chid</span><span style=\"background-color:rgba(229,229,255,1); color:rgb(0,0,0)\">aceae</span><span style=\"background-color:rgba(198,198,255,1); color:rgb(0,0,0)\"> Mon</span><span style=\"background-color:rgba(255, 249,249,1);color:rgb(0,0,0)\">andra</span><span style=\"background-color:rgba(255, 244,244,1);color:rgb(0,0,0)\">e</span><span style=\"background-color:rgba(255, 247,247,1);color:rgb(0,0,0)\">↵</span><span style=\"background-color:rgba(255, 249,249,1);color:rgb(0,0,0)\">↵</span><span style=\"background-color:rgba(237,237,255,1); color:rgb(0,0,0)\">Map</span><span style=\"background-color:rgba(255, 249,249,1);color:rgb(0,0,0)\"> Chapter</span><span style=\"background-color:rgba(235,235,255,1); color:rgb(0,0,0)\"> Two</span><span style=\"background-color:rgba(232,232,255,1); color:rgb(0,0,0)\"> B</span><span style=\"background-color:rgba(255, 249,249,1);color:rgb(0,0,0)\">OR</span><span style=\"background-color:rgba(249,249,255,1); color:rgb(0,0,0)\">ON</span><span style=\"background-color:rgba(246,246,255,1); color:rgb(0,0,0)\"> CL</span><span style=\"background-color:rgba(255, 249,249,1);color:rgb(0,0,0)\">UST</span><span style=\"background-color:rgba(249,249,255,1); color:rgb(0,0,0)\">ER</span><span style=\"background-color:rgba(255, 249,249,1);color:rgb(0,0,0)\"> COMP</span><span style=\"background-color:rgba(255, 249,249,1);color:rgb(0,0,0)\">OUN</span><span style=\"background-color:rgba(249,249,255,1); color:rgb(0,0,0)\">DS</span><span style=\"background-color:rgba(255, 249,249,1);color:rgb(0,0,0)\">.</span><span style=\"background-color:rgba(255, 249,249,1);color:rgb(0,0,0)\"> Chapter</span><br><br><span style=\"background-color:rgba(245,245,245,1);color:rgb(0,0,0)\">Q</span><span style=\"background-color:rgba(245,245,245,1);color:rgb(0,0,0)\">:</span><span style=\"background-color:rgba(249,249,255,1); color:rgb(0,0,0)\">↵</span><span style=\"background-color:rgba(245,245,245,1);color:rgb(0,0,0)\">↵</span><span style=\"background-color:rgba(245,245,245,1);color:rgb(0,0,0)\">Rank</span><span style=\"background-color:rgba(249,249,255,1); color:rgb(0,0,0)\"> by</span><span style=\"background-color:rgba(255, 249,249,1);color:rgb(0,0,0)\"> 2</span><span style=\"background-color:rgba(249,249,255,1); color:rgb(0,0,0)\"> different</span><span style=\"background-color:rgba(245,245,245,1);color:rgb(0,0,0)\"> levels</span><span style=\"background-color:rgba(249,249,255,1); color:rgb(0,0,0)\"> of</span><span style=\"background-color:rgba(248,248,255,1); color:rgb(0,0,0)\"> partitioning</span><span style=\"background-color:rgba(255, 249,249,1);color:rgb(0,0,0)\">/</span><span style=\"background-color:rgba(246,246,255,1); color:rgb(0,0,0)\">group</span><span style=\"background-color:rgba(255, 238,238,1);color:rgb(0,0,0)\">ing</span><span style=\"background-color:rgba(255, 248,248,1);color:rgb(0,0,0)\">↵</span><span style=\"background-color:rgba(255, 249,249,1);color:rgb(0,0,0)\">↵</span><span style=\"background-color:rgba(255, 249,249,1);color:rgb(0,0,0)\">I</span><span style=\"background-color:rgba(255, 249,249,1);color:rgb(0,0,0)\"> have</span><span style=\"background-color:rgba(255, 249,249,1);color:rgb(0,0,0)\"> this</span><span style=\"background-color:rgba(255, 249,249,1);color:rgb(0,0,0)\"> set</span><span style=\"background-color:rgba(249,249,255,1); color:rgb(0,0,0)\"> of</span><span style=\"background-color:rgba(246,246,255,1); color:rgb(0,0,0)\"> data</span><span style=\"background-color:rgba(255, 249,249,1);color:rgb(0,0,0)\"> using</span><span style=\"background-color:rgba(255, 248,248,1);color:rgb(0,0,0)\"> Microsoft</span><span style=\"background-color:rgba(255, 249,249,1);color:rgb(0,0,0)\"> SQL</span><span style=\"background-color:rgba(255, 249,249,1);color:rgb(0,0,0)\"> Server</span><span style=\"background-color:rgba(249,249,255,1); color:rgb(0,0,0)\"> Management</span><span style=\"background-color:rgba(255, 249,249,1);color:rgb(0,0,0)\"> Studio</span><span style=\"background-color:rgba(248,248,255,1); color:rgb(0,0,0)\">↵</span><span style=\"background-color:rgba(248,248,255,1); color:rgb(0,0,0)\">Category</span><br><br><span style=\"background-color:rgba(245,245,245,1);color:rgb(0,0,0)\">S</span><span style=\"background-color:rgba(245,245,245,1);color:rgb(0,0,0)\">oul</span><span style=\"background-color:rgba(249,249,255,1); color:rgb(0,0,0)\">star</span><span style=\"background-color:rgba(245,245,245,1);color:rgb(0,0,0)\">↵</span><span style=\"background-color:rgba(245,245,245,1);color:rgb(0,0,0)\">↵</span><span style=\"background-color:rgba(255, 249,249,1);color:rgb(0,0,0)\">S</span><span style=\"background-color:rgba(245,245,245,1);color:rgb(0,0,0)\">oul</span><span style=\"background-color:rgba(245,245,245,1);color:rgb(0,0,0)\">star</span><span style=\"background-color:rgba(245,245,245,1);color:rgb(0,0,0)\"> is</span><span style=\"background-color:rgba(249,249,255,1); color:rgb(0,0,0)\"> a</span><span style=\"background-color:rgba(249,249,255,1); color:rgb(0,0,0)\"> hybrid</span><span style=\"background-color:rgba(255, 249,249,1);color:rgb(0,0,0)\"> rail</span><span style=\"background-color:rgba(245,245,245,1);color:rgb(0,0,0)\"> shooter</span><span style=\"background-color:rgba(245,245,245,1);color:rgb(0,0,0)\">/</span><span style=\"background-color:rgba(255, 247,247,1);color:rgb(0,0,0)\">third</span><span style=\"background-color:rgba(255, 246,246,1);color:rgb(0,0,0)\">-</span><span style=\"background-color:rgba(255, 245,245,1);color:rgb(0,0,0)\">person</span><span style=\"background-color:rgba(247,247,255,1); color:rgb(0,0,0)\"> shooter</span><span style=\"background-color:rgba(196,196,255,1); color:rgb(0,0,0)\"> video</span><span style=\"background-color:rgba(255, 249,249,1);color:rgb(0,0,0)\"> game</span><span style=\"background-color:rgba(255, 247,247,1);color:rgb(0,0,0)\"> developed</span><span style=\"background-color:rgba(255, 247,247,1);color:rgb(0,0,0)\"> and</span><span style=\"background-color:rgba(255, 249,249,1);color:rgb(0,0,0)\"> originally</span><span style=\"background-color:rgba(255, 248,248,1);color:rgb(0,0,0)\"> published</span><span style=\"background-color:rgba(255, 249,249,1);color:rgb(0,0,0)\"> by</span><span style=\"background-color:rgba(247,247,255,1); color:rgb(0,0,0)\"> Core</span><span style=\"background-color:rgba(255, 249,249,1);color:rgb(0,0,0)\"> Design</span><span style=\"background-color:rgba(255, 248,248,1);color:rgb(0,0,0)\"> for</span><span style=\"background-color:rgba(255, 249,249,1);color:rgb(0,0,0)\"> the</span><span style=\"background-color:rgba(255, 249,249,1);color:rgb(0,0,0)\"> S</span><br><br><span style=\"background-color:rgba(245,245,245,1);color:rgb(0,0,0)\">Event</span><span style=\"background-color:rgba(245,245,245,1);color:rgb(0,0,0)\"> Host</span><span style=\"background-color:rgba(249,249,255,1); color:rgb(0,0,0)\">ing</span><span style=\"background-color:rgba(245,245,245,1);color:rgb(0,0,0)\"> and</span><span style=\"background-color:rgba(255, 249,249,1);color:rgb(0,0,0)\"> Prom</span><span style=\"background-color:rgba(245,245,245,1);color:rgb(0,0,0)\">otions</span><span style=\"background-color:rgba(249,249,255,1); color:rgb(0,0,0)\">↵</span><span style=\"background-color:rgba(245,245,245,1);color:rgb(0,0,0)\">↵</span><span style=\"background-color:rgba(255, 249,249,1);color:rgb(0,0,0)\">White</span><span style=\"background-color:rgba(245,245,245,1);color:rgb(0,0,0)\">Kn</span><span style=\"background-color:rgba(249,249,255,1); color:rgb(0,0,0)\">uckle</span><span style=\"background-color:rgba(255, 249,249,1);color:rgb(0,0,0)\"> Event</span><span style=\"background-color:rgba(255, 249,249,1);color:rgb(0,0,0)\"> Host</span><span style=\"background-color:rgba(249,249,255,1); color:rgb(0,0,0)\">ing</span><span style=\"background-color:rgba(255, 249,249,1);color:rgb(0,0,0)\"> &</span><span style=\"background-color:rgba(255, 244,244,1);color:rgb(0,0,0)\"> Prom</span><span style=\"background-color:rgba(246,246,255,1); color:rgb(0,0,0)\">otions</span><span style=\"background-color:rgba(255, 249,249,1);color:rgb(0,0,0)\">↵</span><span style=\"background-color:rgba(249,249,255,1); color:rgb(0,0,0)\">↵</span><span style=\"background-color:rgba(249,249,255,1); color:rgb(0,0,0)\">As</span><span style=\"background-color:rgba(255, 249,249,1);color:rgb(0,0,0)\"> an</span><span style=\"background-color:rgba(255, 249,249,1);color:rgb(0,0,0)\"> event</span><span style=\"background-color:rgba(247,247,255,1); color:rgb(0,0,0)\"> manager</span><span style=\"background-color:rgba(249,249,255,1); color:rgb(0,0,0)\">,</span><span style=\"background-color:rgba(247,247,255,1); color:rgb(0,0,0)\"> we</span><span style=\"background-color:rgba(249,249,255,1); color:rgb(0,0,0)\"> get</span><span style=\"background-color:rgba(249,249,255,1); color:rgb(0,0,0)\"> to</span><span style=\"background-color:rgba(255, 249,249,1);color:rgb(0,0,0)\"> work</span><span style=\"background-color:rgba(249,249,255,1); color:rgb(0,0,0)\"> with</span><span style=\"background-color:rgba(255, 249,249,1);color:rgb(0,0,0)\"> the</span><br><br><span style=\"background-color:rgba(255, 0,0,1); color:rgb(255,255,255)\">&nbsp-1.7&nbsp</span><span style=\"background-color:rgba(255, 62,62,1); color:rgb(255,255,255)\">&nbsp-1.3&nbsp</span><span style=\"background-color:rgba(255, 125,125,1); color:rgb(0,0,0)\">&nbsp-0.8&nbsp</span><span style=\"background-color:rgba(255, 187,187,1); color:rgb(0,0,0)\">&nbsp-0.4&nbsp</span><span style=\"background-color:rgba(245,245,245,1);color:rgb(0,0,0)\">&nbsp0.0&nbsp</span><span style=\"background-color:rgba(187,187,255,1);color:rgb(0,0,0)\">&nbsp0.1&nbsp</span><span style=\"background-color:rgba(125,125,255,1);color:rgb(0,0,0)\">&nbsp0.2&nbsp</span><span style=\"background-color:rgba(62,62,255,1);color:rgb(255,255,255)\">&nbsp0.3&nbsp</span><span style=\"background-color:rgba(0,0,255,1);color:rgb(255,255,255)\">&nbsp0.4&nbsp</span>"
      ],
      "text/plain": [
       "<IPython.core.display.HTML object>"
      ]
     },
     "metadata": {},
     "output_type": "display_data"
    }
   ],
   "source": [
    "_, _, _, full_token_list_ablated, _, full_activations_ablated = get_feature_datapoints(uniform_indices, logit_diffs, model.tokenizer, max_seq_length, dataset)\n",
    "display_tokens(full_token_list_ablated, full_activations_ablated, model.tokenizer)"
   ]
  },
  {
   "cell_type": "code",
   "execution_count": 174,
   "metadata": {},
   "outputs": [],
   "source": [
    "#def ablate_context_one_token_at_a_time(model, dataset, cache_name, autoencoder, feature, batch_size=32):\n",
    "all_changed_activations = []\n",
    "for token_ind, token_l in enumerate(token_list):\n",
    "# for token_ind, token_l in enumerate(full_token_list):\n",
    "    seq_size = len(token_l)\n",
    "    original_activation = partial_activations[token_ind][-1]\n",
    "    # Run through the model for each seq length\n",
    "    if(seq_size==1):\n",
    "        continue # Size 1 sequences don't have any context to ablate\n",
    "    # changed_activations = torch.zeros(seq_size).cpu() + original_activation\n",
    "    changed_activations = torch.zeros(seq_size).cpu() \n",
    "    for i in range(seq_size-1):\n",
    "        # ablated_tokens = token_l[:i+1] + token_l[i+1:]\n",
    "        ablated_tokens = token_l\n",
    "        ablated_tokens = torch.tensor(ablated_tokens).unsqueeze(0)\n",
    "        with torch.no_grad():\n",
    "            _, cache = model.run_with_cache(ablated_tokens.to(device))\n",
    "            neuron_activations = rearrange(cache[cache_name], \"b s n -> (b s) n\" )\n",
    "            dictionary_activations = autoencoder.encode(neuron_activations)\n",
    "\n",
    "            changed_activations[i] += dictionary_activations[-1,feature].item()\n",
    "    changed_activations -= original_activation\n",
    "    all_changed_activations.append(changed_activations.tolist())"
   ]
  },
  {
   "cell_type": "code",
   "execution_count": 175,
   "metadata": {},
   "outputs": [
    {
     "data": {
      "text/html": [
       "<span style=\"background-color:rgba(255, 250,250,1);color:rgb(0,0,0)\">Pass</span><span style=\"background-color:rgba(255, 250,250,1);color:rgb(0,0,0)\">ive</span><span style=\"background-color:rgba(255, 250,250,1);color:rgb(0,0,0)\"> election</span><span style=\"background-color:rgba(255, 250,250,1);color:rgb(0,0,0)\">e</span><span style=\"background-color:rgba(255, 250,250,1);color:rgb(0,0,0)\">ering</span><span style=\"background-color:rgba(255, 250,250,1);color:rgb(0,0,0)\">↵</span><span style=\"background-color:rgba(255, 250,250,1);color:rgb(0,0,0)\">↵</span><span style=\"background-color:rgba(255, 250,250,1);color:rgb(0,0,0)\">Pass</span><span style=\"background-color:rgba(255, 250,250,1);color:rgb(0,0,0)\">ive</span><span style=\"background-color:rgba(255, 250,250,1);color:rgb(0,0,0)\"> election</span><span style=\"background-color:rgba(255, 250,250,1);color:rgb(0,0,0)\">e</span><span style=\"background-color:rgba(255, 250,250,1);color:rgb(0,0,0)\">ering</span><span style=\"background-color:rgba(255, 250,250,1);color:rgb(0,0,0)\"> is</span><span style=\"background-color:rgba(255, 250,250,1);color:rgb(0,0,0)\"> the</span><span style=\"background-color:rgba(255, 250,250,1);color:rgb(0,0,0)\"> act</span><span style=\"background-color:rgba(255, 250,250,1);color:rgb(0,0,0)\"> of</span><span style=\"background-color:rgba(255, 250,250,1);color:rgb(0,0,0)\"> wearing</span><span style=\"background-color:rgba(255, 250,250,1);color:rgb(0,0,0)\"> campaign</span><span style=\"background-color:rgba(255, 250,250,1);color:rgb(0,0,0)\"> parap</span><span style=\"background-color:rgba(255, 250,250,1);color:rgb(0,0,0)\">her</span><span style=\"background-color:rgba(255, 250,250,1);color:rgb(0,0,0)\">nal</span><span style=\"background-color:rgba(255, 250,250,1);color:rgb(0,0,0)\">ia</span><span style=\"background-color:rgba(255, 0,0,1);color:rgb(255,255,255)\"> or</span><br><br><span style=\"background-color:rgba(255, 249,249,1);color:rgb(0,0,0)\">Motion</span><span style=\"background-color:rgba(255, 249,249,1);color:rgb(0,0,0)\">-</span><span style=\"background-color:rgba(255, 249,249,1);color:rgb(0,0,0)\">trans</span><span style=\"background-color:rgba(255, 249,249,1);color:rgb(0,0,0)\">mitting</span><span style=\"background-color:rgba(255, 249,249,1);color:rgb(0,0,0)\"> remote</span><span style=\"background-color:rgba(255, 249,249,1);color:rgb(0,0,0)\"> control</span><span style=\"background-color:rgba(255, 249,249,1);color:rgb(0,0,0)\"> cable</span><span style=\"background-color:rgba(255, 249,249,1);color:rgb(0,0,0)\"> assemblies</span><span style=\"background-color:rgba(255, 249,249,1);color:rgb(0,0,0)\">,</span><span style=\"background-color:rgba(255, 249,249,1);color:rgb(0,0,0)\"> such</span><span style=\"background-color:rgba(255, 249,249,1);color:rgb(0,0,0)\"> as</span><span style=\"background-color:rgba(255, 249,249,1);color:rgb(0,0,0)\"> “</span><span style=\"background-color:rgba(255, 249,249,1);color:rgb(0,0,0)\">push</span><span style=\"background-color:rgba(255, 249,249,1);color:rgb(0,0,0)\">-</span><span style=\"background-color:rgba(255, 249,249,1);color:rgb(0,0,0)\">pull</span><span style=\"background-color:rgba(255, 249,249,1);color:rgb(0,0,0)\"> cables</span><span style=\"background-color:rgba(255, 249,249,1);color:rgb(0,0,0)\">,”</span><span style=\"background-color:rgba(255, 249,249,1);color:rgb(0,0,0)\"> are</span><span style=\"background-color:rgba(255, 249,249,1);color:rgb(0,0,0)\"> used</span><span style=\"background-color:rgba(255, 249,249,1);color:rgb(0,0,0)\"> for</span><span style=\"background-color:rgba(255, 249,249,1);color:rgb(0,0,0)\"> transmitting</span><span style=\"background-color:rgba(255, 249,249,1);color:rgb(0,0,0)\"> force</span><span style=\"background-color:rgba(255, 14,14,1);color:rgb(255,255,255)\"> or</span><br><br><span style=\"background-color:rgba(255, 250,250,1);color:rgb(0,0,0)\">Q</span><span style=\"background-color:rgba(255, 250,250,1);color:rgb(0,0,0)\">:</span><span style=\"background-color:rgba(255, 250,250,1);color:rgb(0,0,0)\">↵</span><span style=\"background-color:rgba(255, 250,250,1);color:rgb(0,0,0)\">↵</span><span style=\"background-color:rgba(255, 250,250,1);color:rgb(0,0,0)\">Silver</span><span style=\"background-color:rgba(255, 250,250,1);color:rgb(0,0,0)\">light</span><span style=\"background-color:rgba(255, 250,250,1);color:rgb(0,0,0)\"> resource</span><span style=\"background-color:rgba(255, 250,250,1);color:rgb(0,0,0)\"> constructor</span><span style=\"background-color:rgba(255, 250,250,1);color:rgb(0,0,0)\"> always</span><span style=\"background-color:rgba(255, 250,250,1);color:rgb(0,0,0)\"> return</span><span style=\"background-color:rgba(255, 250,250,1);color:rgb(0,0,0)\"> to</span><span style=\"background-color:rgba(255, 250,250,1);color:rgb(0,0,0)\"> internal</span><span style=\"background-color:rgba(255, 250,250,1);color:rgb(0,0,0)\">↵</span><span style=\"background-color:rgba(255, 250,250,1);color:rgb(0,0,0)\">↵</span><span style=\"background-color:rgba(255, 250,250,1);color:rgb(0,0,0)\">When</span><span style=\"background-color:rgba(255, 250,250,1);color:rgb(0,0,0)\"> I</span><span style=\"background-color:rgba(255, 250,250,1);color:rgb(0,0,0)\"> modify</span><span style=\"background-color:rgba(255, 250,250,1);color:rgb(0,0,0)\"> my</span><span style=\"background-color:rgba(255, 250,250,1);color:rgb(0,0,0)\"> resource</span><span style=\"background-color:rgba(255, 250,250,1);color:rgb(0,0,0)\"> file</span><span style=\"background-color:rgba(255, 250,250,1);color:rgb(0,0,0)\"> (.</span><span style=\"background-color:rgba(255, 250,250,1);color:rgb(0,0,0)\">res</span><span style=\"background-color:rgba(255, 250,250,1);color:rgb(0,0,0)\">x</span><span style=\"background-color:rgba(255, 250,250,1);color:rgb(0,0,0)\">)</span><span style=\"background-color:rgba(255, 250,250,1);color:rgb(0,0,0)\"> add</span><span style=\"background-color:rgba(255, 250,250,1);color:rgb(0,0,0)\"> text</span><span style=\"background-color:rgba(255, 44,44,1);color:rgb(255,255,255)\"> or</span><br><br><span style=\"background-color:rgba(255, 249,249,1);color:rgb(0,0,0)\">C</span><span style=\"background-color:rgba(255, 249,249,1);color:rgb(0,0,0)\">ao</span><span style=\"background-color:rgba(255, 249,249,1);color:rgb(0,0,0)\">↵</span><span style=\"background-color:rgba(255, 249,249,1);color:rgb(0,0,0)\">↵</span><span style=\"background-color:rgba(255, 249,249,1);color:rgb(0,0,0)\">C</span><span style=\"background-color:rgba(255, 249,249,1);color:rgb(0,0,0)\">ao</span><span style=\"background-color:rgba(255, 249,249,1);color:rgb(0,0,0)\"> may</span><span style=\"background-color:rgba(255, 249,249,1);color:rgb(0,0,0)\"> refer</span><span style=\"background-color:rgba(255, 249,249,1);color:rgb(0,0,0)\"> to</span><span style=\"background-color:rgba(255, 249,249,1);color:rgb(0,0,0)\">:</span><span style=\"background-color:rgba(255, 249,249,1);color:rgb(0,0,0)\">↵</span><span style=\"background-color:rgba(255, 249,249,1);color:rgb(0,0,0)\">↵</span><span style=\"background-color:rgba(255, 249,249,1);color:rgb(0,0,0)\">Compan</span><span style=\"background-color:rgba(255, 249,249,1);color:rgb(0,0,0)\">ies</span><span style=\"background-color:rgba(255, 74,74,1);color:rgb(255,255,255)\"> or</span><br><br><span style=\"background-color:rgba(255, 250,250,1);color:rgb(0,0,0)\">In</span><span style=\"background-color:rgba(255, 250,250,1);color:rgb(0,0,0)\">fections</span><span style=\"background-color:rgba(255, 250,250,1);color:rgb(0,0,0)\"> of</span><span style=\"background-color:rgba(255, 250,250,1);color:rgb(0,0,0)\"> the</span><span style=\"background-color:rgba(255, 250,250,1);color:rgb(0,0,0)\"> nail</span><span style=\"background-color:rgba(255, 250,250,1);color:rgb(0,0,0)\"> and</span><span style=\"background-color:rgba(255, 250,250,1);color:rgb(0,0,0)\"> ho</span><span style=\"background-color:rgba(255, 250,250,1);color:rgb(0,0,0)\">of</span><span style=\"background-color:rgba(255, 250,250,1);color:rgb(0,0,0)\">,</span><span style=\"background-color:rgba(255, 250,250,1);color:rgb(0,0,0)\"> known</span><span style=\"background-color:rgba(255, 250,250,1);color:rgb(0,0,0)\"> as</span><span style=\"background-color:rgba(255, 250,250,1);color:rgb(0,0,0)\"> un</span><span style=\"background-color:rgba(255, 250,250,1);color:rgb(0,0,0)\">g</span><span style=\"background-color:rgba(255, 250,250,1);color:rgb(0,0,0)\">ual</span><span style=\"background-color:rgba(255, 250,250,1);color:rgb(0,0,0)\"> and</span><span style=\"background-color:rgba(255, 250,250,1);color:rgb(0,0,0)\">/</span><span style=\"background-color:rgba(255, 113,113,1);color:rgb(255,255,255)\">or</span><br><br><span style=\"background-color:rgba(255, 250,250,1);color:rgb(0,0,0)\">/*</span><span style=\"background-color:rgba(255, 250,250,1);color:rgb(0,0,0)\">↵</span><span style=\"background-color:rgba(255, 250,250,1);color:rgb(0,0,0)\">*</span><span style=\"background-color:rgba(255, 250,250,1);color:rgb(0,0,0)\"> Copyright</span><span style=\"background-color:rgba(255, 250,250,1);color:rgb(0,0,0)\"> (</span><span style=\"background-color:rgba(255, 250,250,1);color:rgb(0,0,0)\">c</span><span style=\"background-color:rgba(255, 250,250,1);color:rgb(0,0,0)\">)</span><span style=\"background-color:rgba(255, 250,250,1);color:rgb(0,0,0)\"> 2016</span><span style=\"background-color:rgba(255, 250,250,1);color:rgb(0,0,0)\">,</span><span style=\"background-color:rgba(255, 250,250,1);color:rgb(0,0,0)\"> 2018</span><span style=\"background-color:rgba(255, 250,250,1);color:rgb(0,0,0)\">,</span><span style=\"background-color:rgba(255, 250,250,1);color:rgb(0,0,0)\"> Oracle</span><span style=\"background-color:rgba(255, 250,250,1);color:rgb(0,0,0)\"> and</span><span style=\"background-color:rgba(255, 250,250,1);color:rgb(0,0,0)\">/</span><span style=\"background-color:rgba(255, 250,250,1);color:rgb(0,0,0)\">or</span><span style=\"background-color:rgba(255, 250,250,1);color:rgb(0,0,0)\"> its</span><span style=\"background-color:rgba(255, 250,250,1);color:rgb(0,0,0)\"> affiliates</span><span style=\"background-color:rgba(255, 250,250,1);color:rgb(0,0,0)\">.</span><span style=\"background-color:rgba(255, 250,250,1);color:rgb(0,0,0)\"> All</span><span style=\"background-color:rgba(255, 250,250,1);color:rgb(0,0,0)\"> rights</span><span style=\"background-color:rgba(255, 250,250,1);color:rgb(0,0,0)\"> reserved</span><span style=\"background-color:rgba(255, 250,250,1);color:rgb(0,0,0)\">.</span><span style=\"background-color:rgba(255, 250,250,1);color:rgb(0,0,0)\">↵</span><span style=\"background-color:rgba(255, 250,250,1);color:rgb(0,0,0)\">*</span><span style=\"background-color:rgba(255, 250,250,1);color:rgb(0,0,0)\"> DO</span><span style=\"background-color:rgba(255, 250,250,1);color:rgb(0,0,0)\"> NOT</span><span style=\"background-color:rgba(255, 250,250,1);color:rgb(0,0,0)\"> AL</span><span style=\"background-color:rgba(255, 250,250,1);color:rgb(0,0,0)\">TER</span><span style=\"background-color:rgba(255, 141,141,1);color:rgb(0,0,0)\"> OR</span><br><br><span style=\"background-color:rgba(255, 249,249,1);color:rgb(0,0,0)\">Download</span><span style=\"background-color:rgba(255, 249,249,1);color:rgb(0,0,0)\"> P</span><span style=\"background-color:rgba(255, 249,249,1);color:rgb(0,0,0)\">fl</span><span style=\"background-color:rgba(255, 249,249,1);color:rgb(0,0,0)\">an</span><span style=\"background-color:rgba(255, 249,249,1);color:rgb(0,0,0)\">zen</span><span style=\"background-color:rgba(255, 249,249,1);color:rgb(0,0,0)\">reich</span><span style=\"background-color:rgba(255, 249,249,1);color:rgb(0,0,0)\"> Pf</span><span style=\"background-color:rgba(255, 249,249,1);color:rgb(0,0,0)\">itzer</span><span style=\"background-color:rgba(255, 152,152,1);color:rgb(0,0,0)\"> Or</span><br><br><span style=\"background-color:rgba(255, 249,249,1);color:rgb(0,0,0)\">Q</span><span style=\"background-color:rgba(255, 249,249,1);color:rgb(0,0,0)\">:</span><span style=\"background-color:rgba(255, 249,249,1);color:rgb(0,0,0)\">↵</span><span style=\"background-color:rgba(255, 249,249,1);color:rgb(0,0,0)\">↵</span><span style=\"background-color:rgba(255, 249,249,1);color:rgb(0,0,0)\">Rank</span><span style=\"background-color:rgba(255, 249,249,1);color:rgb(0,0,0)\"> by</span><span style=\"background-color:rgba(255, 249,249,1);color:rgb(0,0,0)\"> 2</span><span style=\"background-color:rgba(255, 249,249,1);color:rgb(0,0,0)\"> different</span><span style=\"background-color:rgba(255, 249,249,1);color:rgb(0,0,0)\"> levels</span><span style=\"background-color:rgba(255, 249,249,1);color:rgb(0,0,0)\"> of</span><span style=\"background-color:rgba(255, 249,249,1);color:rgb(0,0,0)\"> partitioning</span><span style=\"background-color:rgba(255, 185,185,1);color:rgb(0,0,0)\">/</span><br><br><span style=\"background-color:rgba(255, 250,250,1);color:rgb(0,0,0)\">S</span><span style=\"background-color:rgba(255, 250,250,1);color:rgb(0,0,0)\">oul</span><span style=\"background-color:rgba(255, 250,250,1);color:rgb(0,0,0)\">star</span><span style=\"background-color:rgba(255, 250,250,1);color:rgb(0,0,0)\">↵</span><span style=\"background-color:rgba(255, 250,250,1);color:rgb(0,0,0)\">↵</span><span style=\"background-color:rgba(255, 250,250,1);color:rgb(0,0,0)\">S</span><span style=\"background-color:rgba(255, 250,250,1);color:rgb(0,0,0)\">oul</span><span style=\"background-color:rgba(255, 250,250,1);color:rgb(0,0,0)\">star</span><span style=\"background-color:rgba(255, 250,250,1);color:rgb(0,0,0)\"> is</span><span style=\"background-color:rgba(255, 250,250,1);color:rgb(0,0,0)\"> a</span><span style=\"background-color:rgba(255, 250,250,1);color:rgb(0,0,0)\"> hybrid</span><span style=\"background-color:rgba(255, 250,250,1);color:rgb(0,0,0)\"> rail</span><span style=\"background-color:rgba(255, 250,250,1);color:rgb(0,0,0)\"> shooter</span><span style=\"background-color:rgba(255, 202,202,1);color:rgb(0,0,0)\">/</span><br><br><span style=\"background-color:rgba(255, 249,249,1);color:rgb(0,0,0)\">Event</span><span style=\"background-color:rgba(255, 249,249,1);color:rgb(0,0,0)\"> Host</span><span style=\"background-color:rgba(255, 249,249,1);color:rgb(0,0,0)\">ing</span><span style=\"background-color:rgba(255, 249,249,1);color:rgb(0,0,0)\"> and</span><span style=\"background-color:rgba(255, 249,249,1);color:rgb(0,0,0)\"> Prom</span><span style=\"background-color:rgba(255, 249,249,1);color:rgb(0,0,0)\">otions</span><span style=\"background-color:rgba(255, 249,249,1);color:rgb(0,0,0)\">↵</span><span style=\"background-color:rgba(255, 249,249,1);color:rgb(0,0,0)\">↵</span><span style=\"background-color:rgba(255, 249,249,1);color:rgb(0,0,0)\">White</span><span style=\"background-color:rgba(255, 249,249,1);color:rgb(0,0,0)\">Kn</span><span style=\"background-color:rgba(255, 249,249,1);color:rgb(0,0,0)\">uckle</span><span style=\"background-color:rgba(255, 249,249,1);color:rgb(0,0,0)\"> Event</span><span style=\"background-color:rgba(255, 249,249,1);color:rgb(0,0,0)\"> Host</span><span style=\"background-color:rgba(255, 249,249,1);color:rgb(0,0,0)\">ing</span><span style=\"background-color:rgba(255, 236,236,1);color:rgb(0,0,0)\"> &</span><br><br><span style=\"background-color:rgba(255, 0,0,1); color:rgb(255,255,255)\">&nbsp-4.3&nbsp</span><span style=\"background-color:rgba(255, 62,62,1); color:rgb(255,255,255)\">&nbsp-3.3&nbsp</span><span style=\"background-color:rgba(255, 125,125,1); color:rgb(0,0,0)\">&nbsp-2.2&nbsp</span><span style=\"background-color:rgba(255, 187,187,1); color:rgb(0,0,0)\">&nbsp-1.1&nbsp</span><span style=\"background-color:rgba(245,245,245,1);color:rgb(0,0,0)\">&nbsp0.0&nbsp</span>"
      ],
      "text/plain": [
       "<IPython.core.display.HTML object>"
      ]
     },
     "metadata": {},
     "output_type": "display_data"
    }
   ],
   "source": [
    "display_tokens(token_list, all_changed_activations, model.tokenizer)"
   ]
  },
  {
   "cell_type": "code",
   "execution_count": 104,
   "metadata": {},
   "outputs": [
    {
     "data": {
      "text/plain": [
       "[tensor([-4.2333, -4.2366, -4.2338, -4.2505, -4.2160, -4.2546, -4.2546, -4.2081,\n",
       "         -4.2334, -4.2249, -4.2471, -4.2193, -4.0742, -4.1679, -4.2150, -4.1018,\n",
       "         -4.2725, -4.3249, -4.1339, -4.2034, -4.1800, -4.1670, -4.5888]),\n",
       " tensor([-3.9946, -3.9989, -3.9936, -4.0064, -3.9982, -4.0143, -3.9662, -4.0079,\n",
       "         -4.0061, -3.9552, -3.9683, -3.9796, -3.9800, -3.9757, -3.9958, -3.9683,\n",
       "         -4.0782, -3.8525, -3.9295, -3.8120, -4.0318, -4.6483, -4.6042]),\n",
       " tensor([-3.6651, -3.6740, -3.7358, -3.7358, -3.7280, -3.7123, -3.6980, -3.7146,\n",
       "         -3.7279, -3.6798, -3.7178, -3.7230, -3.7002, -3.7002, -3.7344, -3.6766,\n",
       "         -3.7060, -3.7234, -3.6957, -3.7650, -3.8333, -3.7180, -3.7201, -3.6695,\n",
       "         -3.4719, -3.6381, -4.1545]),\n",
       " tensor([-2.7280, -2.7347, -2.7301, -2.7301, -2.7266, -2.7236, -2.5924, -2.5106,\n",
       "         -2.7239, -2.8197, -2.7921, -2.7921, -3.0452, -2.8805, -2.7906]),\n",
       " tensor([-2.0220, -2.0265, -1.9411, -2.0300, -2.0120, -2.0301, -2.0255, -1.9884,\n",
       "         -2.0397, -1.9521, -1.9284, -2.0065, -2.0870, -2.0713, -2.1031, -2.1736,\n",
       "         -2.6438]),\n",
       " tensor([-1.7473, -1.7462, -1.7933, -1.7160, -1.8179, -1.8114, -1.7712, -1.8069,\n",
       "         -1.7889, -1.8086, -1.7925, -1.7575, -1.8001, -1.7833, -1.7873, -1.7950,\n",
       "         -1.7682, -1.7742, -1.7887, -1.8122, -1.7976, -1.8004, -1.8786, -1.7854,\n",
       "         -1.8408, -1.7149, -1.7761, -2.0218, -1.8502]),\n",
       " tensor([-1.5027, -1.7308, -1.6281, -1.6441, -1.6803, -1.6558, -1.5067, -1.4712,\n",
       "         -1.4620]),\n",
       " tensor([-1.7908, -1.5313, -1.6845, -1.6845, -1.6676, -1.6670, -1.7751, -1.7508,\n",
       "         -1.7488, -1.6736, -1.5383, -1.6249]),\n",
       " tensor([-1.5115, -1.4895, -1.4990, -1.5308, -1.5308, -1.5312, -1.4967, -1.5133,\n",
       "         -1.2655, -1.3690, -1.5580, -1.6640, -1.1704, -1.1360]),\n",
       " tensor([-0.0573, -0.0528, -0.1083, -0.1217, -0.0690, -0.0615, -0.0215, -0.0215,\n",
       "         -0.0245, -0.0923, -0.1080, -0.0443, -0.1212,  0.0464,  0.4229])]"
      ]
     },
     "execution_count": 104,
     "metadata": {},
     "output_type": "execute_result"
    }
   ],
   "source": [
    "all_changed_activations"
   ]
  },
  {
   "cell_type": "code",
   "execution_count": null,
   "metadata": {},
   "outputs": [],
   "source": [
    "display_tokens(token_list, partial_activations, model.tokenizer)"
   ]
  },
  {
   "cell_type": "code",
   "execution_count": 37,
   "metadata": {},
   "outputs": [
    {
     "data": {
      "text/html": [
       "<div id=\"circuits-vis-8ef809aa-1dc6\" style=\"margin: 15px 0;\"/>\n",
       "    <script crossorigin type=\"module\">\n",
       "    import { render, TextNeuronActivations } from \"https://unpkg.com/circuitsvis@1.41.0/dist/cdn/esm.js\";\n",
       "    render(\n",
       "      \"circuits-vis-8ef809aa-1dc6\",\n",
       "      TextNeuronActivations,\n",
       "      {\"tokens\": [\"ing\", \" is\", \" hard\", \".\", \" But\", \" like\", \" anything\", \" else\", \",\", \" practice\", \" helps\", \" \\u2014\", \" whether\", \" you\", \"\\u2019\", \"re\", \" a\", \" professionally\", \" trained\", \" vocal\", \"ist\", \" or\", \" just\", \" want\", \" to\", \" sound\", \" less\", \" pitch\", \"y\", \"\\n\", \"ised\", \" trial\", \" comparing\", \" forced\", \"-\", \"air\", \" warming\", \" to\", \" the\", \" upper\", \" or\", \" lower\", \" body\", \" to\", \" prevent\", \" hyp\", \"other\", \"mia\", \" during\", \" thor\", \"ac\", \"oscopic\", \" surgery\", \" in\", \" the\", \" lateral\", \" dec\", \"ub\", \"itus\", \"\\n\", \"P\", \"5\", \" and\", \" plasma\", \" cholesterol\", \" levels\", \" modulate\", \" the\", \" canonical\", \" Wnt\", \" pathway\", \" in\", \" peripheral\", \" blood\", \" leukocytes\", \".\", \"\\\\newline\", \"Infl\", \"ammation\", \" is\", \" triggered\", \" after\", \" invasion\", \" or\", \" injury\", \" to\", \" restore\", \" homeostasis\", \".\", \"\\n\", \"han\", \"\\u2013\", \"Y\", \"ich\", \"ang\", \" railway\", \"\\\\newline\", \"\\\\newline\", \"H\", \"ank\", \"ou\", \"\\u2013\", \"Y\", \"ich\", \"ang\", \" railway\", \" (),\", \" or\", \" H\", \"any\", \"i\", \" railway\", \",\", \" is\", \" a\", \"  \", \"long\", \" high\", \"-\", \"\\n\", \" by\", \" Or\", \"dain\", \"Women\", \" on\", \" Oct\", \" 12\", \",\", \" 2016\", \" in\", \" Blog\", \" |\", \"\\\\newline\", \"\\\\newline\", \"L\", \"orie\", \" W\", \"inder\", \" St\", \"rom\", \"berg\", \" serves\", \" on\", \" the\", \" Or\", \"dain\", \" Women\", \" executive\", \" board\", \"\\n\", \"\\\\newline\", \" *\", \" Copyright\", \" (\", \"c\", \")\", \" 2012\", \",\", \" 2013\", \" Oracle\", \" and\", \"/\", \"or\", \" its\", \" affiliates\", \".\", \" All\", \" rights\", \" reserved\", \".\", \"\\\\newline\", \" *\", \" DO\", \" NOT\", \" AL\", \"TER\", \" OR\", \" REM\", \"OVE\", \"\\n\", \" pas\", \" de\", \" sou\", \"ci\", \" \\u00bb\", \" ou\", \" \\u00ab\", \" pas\", \" de\", \" sou\", \"cis\", \" \\u00bb\", \"?\", \" \\u2013\", \" orth\", \"ograp\", \"he\", \"\\\\newline\", \"\\\\newline\", \"\\u00ab\", \" Il\", \" n\", \"\\u2019\", \"y\", \" a\", \" pas\", \" de\", \" sou\", \"ci\", \"\\n\", \"rina\", \" Pat\", \"ridge\", \" Co\", \"vers\", \" Maxim\", \" October\", \" 2009\", \"\\\\newline\", \"\\\\newline\", \"\\u2018\", \"S\", \"or\", \"ority\", \" Row\", \"\\u2019\", \" star\", \" Aud\", \"rina\", \" Pat\", \"ridge\", \" strips\", \" down\", \" to\", \" her\", \" b\", \"ik\", \"ini\", \" on\", \"\\n\", \" content\", \" published\", \" in\", \" C\", \"ureus\", \" is\", \" the\", \" result\", \" of\", \" clinical\", \" experience\", \" and\", \"/\", \"or\", \" research\", \" by\", \" independent\", \" individuals\", \" or\", \" organizations\", \".\", \" C\", \"ureus\", \" is\", \" not\", \" responsible\", \" for\", \" the\", \" scientific\", \"\\n\", \"orts\", \" that\", \" Ryan\", \"air\", \" has\", \" cancelled\", \" 82\", \" flights\", \" on\", \" Sunday\", \" and\", \" will\", \" cancel\", \" between\", \" 40\", \" and\", \" 50\", \" flights\", \" every\", \" day\", \" for\", \" the\", \" next\", \" six\", \" weeks\", \" because\", \" it\", \" \\u201c\", \"m\", \"\\n\"], \"activations\": [[[0.0]], [[-0.00023746490478515625]], [[-0.0014643669128417969]], [[-0.00039887428283691406]], [[0.0007448196411132812]], [[-0.0004277229309082031]], [[-0.006717681884765625]], [[-0.004892230033874512]], [[1.5497207641601562e-06]], [[0.0012340545654296875]], [[-0.0020990371704101562]], [[0.0013151168823242188]], [[-0.0013575553894042969]], [[-0.0002532005310058594]], [[0.0]], [[0.0]], [[-0.0008273124694824219]], [[-0.0016431808471679688]], [[0.0]], [[0.0]], [[0.0]], [[0.0]], [[-1.816587209701538]], [[0.02392578125]], [[-0.0005402565002441406]], [[0.23009777069091797]], [[-0.2352771759033203]], [[0.06609916687011719]], [[-0.0055425167083740234]], [[0.0]], [[0.0]], [[0.002334117889404297]], [[0.0]], [[-0.004767417907714844]], [[0.0016672611236572266]], [[0.0]], [[-0.0062389373779296875]], [[-0.00014162063598632812]], [[0.0012674331665039062]], [[0.007875919342041016]], [[-0.0018343925476074219]], [[-0.17068611085414886]], [[0.07341146469116211]], [[0.024710893630981445]], [[-0.005968570709228516]], [[0.0028438568115234375]], [[-0.01045835018157959]], [[0.00013724341988563538]], [[0.029314517974853516]], [[-0.00032520294189453125]], [[-0.00022839009761810303]], [[-0.0059621334075927734]], [[-0.0036346912384033203]], [[0.020476818084716797]], [[-0.0016058683395385742]], [[0.005356788635253906]], [[0.020630836486816406]], [[-0.001405075192451477]], [[0.002175837755203247]], [[0.0]], [[0.0]], [[0.0]], [[-1.9073486328125e-05]], [[-0.0027370452880859375]], [[0.0]], [[0.0]], [[0.0]], [[-0.000830531120300293]], [[0.0]], [[0.0]], [[0.0018783807754516602]], [[-0.001032114028930664]], [[0.0015916824340820312]], [[0.0]], [[0.0]], [[0.0]], [[0.0]], [[0.0060558319091796875]], [[0.0006865262985229492]], [[1.5497207641601562e-05]], [[0.0]], [[0.0]], [[-0.0069599151611328125]], [[-0.002220630645751953]], [[-0.4006061553955078]], [[-0.15980172157287598]], [[-0.024616241455078125]], [[0.011848688125610352]], [[0.00702667236328125]], [[0.0]], [[0.0]], [[0.0]], [[0.0]], [[0.0]], [[0.0]], [[0.0066776275634765625]], [[-0.0011012554168701172]], [[0.0]], [[-0.0033330917358398438]], [[0.0]], [[-0.00041961669921875]], [[0.003985404968261719]], [[0.0]], [[0.0]], [[0.0]], [[0.0]], [[-3.910064697265625e-05]], [[0.0]], [[-1.1134687662124634]], [[-0.25479841232299805]], [[0.07966375350952148]], [[0.37284111976623535]], [[-0.2591346502304077]], [[0.0723503828048706]], [[-0.0012261271476745605]], [[-0.10661172866821289]], [[0.0002040863037109375]], [[-0.03472328186035156]], [[0.007073760032653809]], [[0.0]], [[0.0]], [[0.0069065093994140625]], [[-1.0531749725341797]], [[-0.021783828735351562]], [[0.0036191940307617188]], [[0.005428314208984375]], [[0.0021696090698242188]], [[-6.932206451892853e-05]], [[0.00883173942565918]], [[-0.021070003509521484]], [[0.0008716583251953125]], [[-0.002768278121948242]], [[-0.020995497703552246]], [[0.0019206702709197998]], [[-0.0029196739196777344]], [[-0.004593372344970703]], [[-0.0036067962646484375]], [[-0.0006732940673828125]], [[0.011550426483154297]], [[0.000888824462890625]], [[0.011250972747802734]], [[0.013962745666503906]], [[0.0015931129455566406]], [[0.0010612905025482178]], [[0.05533027648925781]], [[-0.03099319338798523]], [[-0.01694643497467041]], [[-0.00046443939208984375]], [[0.0010904669761657715]], [[0.0]], [[0.0]], [[0.0]], [[0.0]], [[0.0]], [[0.0]], [[0.0]], [[0.0]], [[0.001284956932067871]], [[0.0]], [[0.0]], [[0.0]], [[0.0]], [[-1.3826786016579717e-05]], [[-0.40341803431510925]], [[-0.006339691579341888]], [[-0.0015674401074647903]], [[0.005136892199516296]], [[0.001294642686843872]], [[-0.0001518353819847107]], [[-0.000351522583514452]], [[0.0003688409924507141]], [[-0.0001417212188243866]], [[0.016992926597595215]], [[-1.1920838005607948e-07]], [[-4.803761839866638e-06]], [[1.1920838005607948e-07]], [[1.1909287422895432e-06]], [[-0.011980246752500534]], [[-0.003623682539910078]], [[0.0]], [[0.0]], [[0.0]], [[0.0]], [[0.0]], [[0.0]], [[0.0]], [[-0.21987247467041016]], [[-0.040915489196777344]], [[-0.1696711778640747]], [[-0.005129456520080566]], [[0.03847861289978027]], [[-0.007074117660522461]], [[-0.3247866630554199]], [[0.006501674652099609]], [[-0.035144805908203125]], [[-0.04765748977661133]], [[0.01087486743927002]], [[0.01676464080810547]], [[-0.023861825466156006]], [[-0.03476691246032715]], [[-0.004690647125244141]], [[0.010896921157836914]], [[-0.0006933212280273438]], [[-0.00037300586700439453]], [[-0.001154184341430664]], [[-0.002430737018585205]], [[-0.002175569534301758]], [[0.00443112850189209]], [[-0.00011897087097167969]], [[0.0]], [[0.0]], [[0.0]], [[0.0]], [[0.0]], [[0.0]], [[-0.002483367919921875]], [[0.0]], [[0.0]], [[0.0]], [[0.0]], [[0.0013866424560546875]], [[0.0036344528198242188]], [[0.0]], [[0.01322925090789795]], [[0.0007505416870117188]], [[-0.0006957054138183594]], [[0.0020885467529296875]], [[0.0007181167602539062]], [[-0.0007607936859130859]], [[-6.575882434844971e-05]], [[-7.382477633655071e-06]], [[-0.0037794113159179688]], [[-0.004160404205322266]], [[-0.00011408329010009766]], [[-0.001241922378540039]], [[0.0005397796630859375]], [[0.004241466522216797]], [[0.00010187551379203796]], [[0.00077056884765625]], [[0.0]], [[0.0]], [[0.0]], [[0.0019073486328125]], [[-0.0015516281127929688]], [[4.45246696472168e-05]], [[0.00022014975547790527]], [[-9.584426879882812e-05]], [[-0.00014537572860717773]], [[0.0]], [[0.001556694507598877]], [[-0.04683876037597656]], [[0.0007231831550598145]], [[2.975459210574627e-06]], [[0.0]], [[-0.0024757618084549904]], [[-0.2764911651611328]], [[-0.04724989831447601]], [[0.00011292315321043134]], [[-0.07685253024101257]], [[-0.012034907005727291]], [[-0.34463828802108765]], [[0.06031656265258789]], [[0.004752159118652344]], [[0.000960472971200943]], [[0.016215145587921143]], [[0.0012414772063493729]], [[1.1920838005607948e-07]], [[0.0013832785189151764]], [[0.028005197644233704]], [[0.0]], [[0.0]], [[0.0]], [[-0.0007190704345703125]], [[-0.0006971359252929688]], [[-0.0008492469787597656]], [[0.0]], [[-0.00038433074951171875]], [[0.0]], [[0.0007398128509521484]], [[-0.00013780593872070312]], [[-0.0008139610290527344]], [[0.005222320556640625]], [[-0.0022225379943847656]], [[-0.0016241073608398438]], [[-0.0024590492248535156]], [[-0.0002580881118774414]], [[-0.002585291862487793]], [[0.0010194182395935059]], [[0.00022220611572265625]], [[-0.0006151199340820312]], [[-0.0012485980987548828]], [[-0.00033676624298095703]], [[0.0013473033905029297]], [[0.00026345252990722656]], [[-0.00010406970977783203]], [[-0.0004706382751464844]], [[0.0006222724914550781]], [[-0.0006117820739746094]], [[0.0006170272827148438]], [[0.0]]], \"firstDimensionName\": \"Layer\", \"secondDimensionName\": \"Neuron\"}\n",
       "    )\n",
       "    </script>"
      ],
      "text/plain": [
       "<circuitsvis.utils.render.RenderedHTML at 0x7f94a5834250>"
      ]
     },
     "execution_count": 37,
     "metadata": {},
     "output_type": "execute_result"
    }
   ],
   "source": [
    "ablate_feature_direction_display(full_text, autoencoder, model, layer, features=feature)"
   ]
  }
 ],
 "metadata": {
  "kernelspec": {
   "display_name": "logan",
   "language": "python",
   "name": "python3"
  },
  "language_info": {
   "codemirror_mode": {
    "name": "ipython",
    "version": 3
   },
   "file_extension": ".py",
   "mimetype": "text/x-python",
   "name": "python",
   "nbconvert_exporter": "python",
   "pygments_lexer": "ipython3",
   "version": "3.11.4"
  },
  "orig_nbformat": 4
 },
 "nbformat": 4,
 "nbformat_minor": 2
}
