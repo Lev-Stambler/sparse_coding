{
 "cells": [
  {
   "cell_type": "code",
   "execution_count": 1,
   "metadata": {},
   "outputs": [
    {
     "name": "stderr",
     "output_type": "stream",
     "text": [
      "/home/mchorse/miniconda3/envs/logan/lib/python3.10/site-packages/tqdm/auto.py:21: TqdmWarning: IProgress not found. Please update jupyter and ipywidgets. See https://ipywidgets.readthedocs.io/en/stable/user_install.html\n",
      "  from .autonotebook import tqdm as notebook_tqdm\n"
     ]
    }
   ],
   "source": [
    "import torch\n",
    "from transformer_lens import HookedTransformer\n",
    "import numpy as np \n",
    "from torch import nn\n",
    "import pickle\n",
    "\n",
    "# Define the autoencoder so pickle knows how to serialize it. \n",
    "# Later, we should actually save as a state_dict instead of a dumb pickle\n",
    "class AutoEncoder(nn.Module):\n",
    "    def __init__(self, activation_size, n_dict_components, t_type=torch.float32, l1_coef=0.0):\n",
    "        super(AutoEncoder, self).__init__()\n",
    "        \n",
    "        # Only defining the decoder layer, encoder will share its weights\n",
    "        self.decoder = nn.Linear(n_dict_components, activation_size, bias=True)\n",
    "        # Create a bias layer\n",
    "        self.encoder_bias= nn.Parameter(torch.zeros(n_dict_components))\n",
    "\n",
    "        \n",
    "        # Initialize the decoder weights orthogonally\n",
    "        nn.init.orthogonal_(self.decoder.weight)\n",
    "        self.decoder = self.decoder.to(t_type)\n",
    "\n",
    "        # Encoder is a Sequential with the ReLU activation\n",
    "        # No need to define a Linear layer for the encoder as its weights are tied with the decoder\n",
    "        self.encoder = nn.Sequential(nn.ReLU()).to(t_type)\n",
    "\n",
    "        self.l1_coef = l1_coef\n",
    "        self.activation_size = activation_size\n",
    "        self.n_dict_components = n_dict_components\n",
    "\n",
    "    def forward(self, x):\n",
    "        c = self.encoder(x @ self.decoder.weight + self.encoder_bias)\n",
    "        # Apply unit norm constraint to the decoder weights\n",
    "        self.decoder.weight.data = nn.functional.normalize(self.decoder.weight.data, dim=0)\n",
    "\n",
    "        # Decoding step as before\n",
    "        x_hat = self.decoder(c)\n",
    "        return x_hat, c\n",
    "\n",
    "\n",
    "    @property\n",
    "    def device(self):\n",
    "        return next(self.parameters()).device"
   ]
  },
  {
   "attachments": {},
   "cell_type": "markdown",
   "metadata": {},
   "source": [
    "# Load Dictionaries"
   ]
  },
  {
   "cell_type": "code",
   "execution_count": 204,
   "metadata": {},
   "outputs": [
    {
     "name": "stderr",
     "output_type": "stream",
     "text": [
      "Using pad_token, but it is not set yet.\n"
     ]
    },
    {
     "name": "stdout",
     "output_type": "stream",
     "text": [
      "Loaded pretrained model EleutherAI/pythia-70m-deduped into HookedTransformer\n",
      "torch.Size([4096, 512])\n",
      "len of autoencoders:  9\n"
     ]
    },
    {
     "ename": "IndexError",
     "evalue": "list index out of range",
     "output_type": "error",
     "traceback": [
      "\u001b[0;31m---------------------------------------------------------------------------\u001b[0m",
      "\u001b[0;31mIndexError\u001b[0m                                Traceback (most recent call last)",
      "Cell \u001b[0;32mIn[204], line 36\u001b[0m\n\u001b[1;32m     34\u001b[0m \u001b[39mprint\u001b[39m(\u001b[39m\"\u001b[39m\u001b[39mlen of autoencoders: \u001b[39m\u001b[39m\"\u001b[39m, \u001b[39mlen\u001b[39m(autoencoders))\n\u001b[1;32m     35\u001b[0m dict_index \u001b[39m=\u001b[39m \u001b[39m1\u001b[39m\n\u001b[0;32m---> 36\u001b[0m smaller_dict, larger_dict \u001b[39m=\u001b[39m dictionaries[dict_index], dictionaries[dict_index\u001b[39m+\u001b[39m\u001b[39m1\u001b[39m]\n\u001b[1;32m     37\u001b[0m smaller_auto_encoder, larger_auto_encoder \u001b[39m=\u001b[39m autoencoders[l1_index][dict_index], autoencoders[l1_index][dict_index\u001b[39m+\u001b[39m\u001b[39m1\u001b[39m]\n",
      "\u001b[0;31mIndexError\u001b[0m: list index out of range"
     ]
    }
   ],
   "source": [
    "#Change these settings to load the correct autoencoder\n",
    "# filename = \"/home/mchorse/logan_sparse_coding/sparse_coding/layer-2-autoencoder.pkl\"\n",
    "# filename = \"outputs/20230720-192301-EleutherAI/pythia-70m-deduped-2/minirun9/autoencoders.pkl\"\n",
    "# filename = \"outputs/20230720-192301-EleutherAI/pythia-70m-deduped-2/minirun5/autoencoders.pkl\"\n",
    "# filename = \"outputs/20230721-161919-EleutherAI/pythia-70m-deduped-2/minirun9/autoencoders.pkl\"\n",
    "# filename = \"outputs/20230721-161919-EleutherAI/pythia-70m-deduped-2/minirun3/autoencoders.pkl\"\n",
    "filename = \"outputs/20230804-205842-EleutherAI/pythia-70m-deduped-2/minirun4/autoencoders.pkl\"\n",
    "layer = 2\n",
    "setting = \"residual\"\n",
    "model_name = \"EleutherAI/pythia-70m-deduped\"\n",
    "\n",
    "device = torch.device(\"cuda:5\" if torch.cuda.is_available() else \"cpu\")\n",
    "model = HookedTransformer.from_pretrained(model_name, device=device)\n",
    "\n",
    "if setting == \"residual\":\n",
    "    cache_name = f\"blocks.{layer}.hook_resid_post\"\n",
    "    neurons = model.cfg.d_model\n",
    "elif setting == \"mlp\":\n",
    "    cache_name = f\"blocks.{layer}.mlp.hook_post\"\n",
    "    neurons = model.cfg.d_mlp\n",
    "else:\n",
    "    raise NotImplementedError\n",
    "\n",
    "\n",
    "# Load the pickle file\n",
    "with open(filename, 'rb') as file:\n",
    "    autoencoders = pickle.load(file)\n",
    "\n",
    "# Index for l1 value, usually only 1 value is available\n",
    "l1_index = 1\n",
    "dictionaries = [autoencoder.decoder.weight.data.T for autoencoder in autoencoders[l1_index]]\n",
    "for d in dictionaries:\n",
    "    print(d.shape)\n",
    "print(\"len of autoencoders: \", len(autoencoders))\n",
    "dict_index = 1\n",
    "smaller_dict, larger_dict = dictionaries[dict_index], dictionaries[dict_index+1]\n",
    "smaller_auto_encoder, larger_auto_encoder = autoencoders[l1_index][dict_index], autoencoders[l1_index][dict_index+1]"
   ]
  },
  {
   "cell_type": "code",
   "execution_count": 185,
   "metadata": {},
   "outputs": [
    {
     "name": "stderr",
     "output_type": "stream",
     "text": [
      "Using pad_token, but it is not set yet.\n"
     ]
    },
    {
     "name": "stdout",
     "output_type": "stream",
     "text": [
      "Loaded pretrained model EleutherAI/pythia-70m-deduped into HookedTransformer\n",
      "torch.Size([2048, 512])\n",
      "torch.Size([4096, 512])\n",
      "torch.Size([8192, 512])\n",
      "len of autoencoders:  3\n"
     ]
    }
   ],
   "source": [
    "#Change these settings to load the correct autoencoder\n",
    "# filename = \"/home/mchorse/logan_sparse_coding/sparse_coding/layer-2-autoencoder.pkl\"\n",
    "filename = \"outputs/20230720-192301-EleutherAI/pythia-70m-deduped-2/minirun9/autoencoders.pkl\"\n",
    "# filename = \"outputs/20230720-192301-EleutherAI/pythia-70m-deduped-2/minirun5/autoencoders.pkl\"\n",
    "filename2 = \"outputs/20230721-161919-EleutherAI/pythia-70m-deduped-2/minirun9/autoencoders.pkl\"\n",
    "# filename = \"outputs/20230721-161919-EleutherAI/pythia-70m-deduped-2/minirun3/autoencoders.pkl\"\n",
    "layer = 2\n",
    "setting = \"residual\"\n",
    "model_name = \"EleutherAI/pythia-70m-deduped\"\n",
    "\n",
    "device = torch.device(\"cuda:4\" if torch.cuda.is_available() else \"cpu\")\n",
    "model = HookedTransformer.from_pretrained(model_name, device=device)\n",
    "\n",
    "if setting == \"residual\":\n",
    "    cache_name = f\"blocks.{layer}.hook_resid_post\"\n",
    "    neurons = model.cfg.d_model\n",
    "elif setting == \"mlp\":\n",
    "    cache_name = f\"blocks.{layer}.mlp.hook_post\"\n",
    "    neurons = model.cfg.d_mlp\n",
    "else:\n",
    "    raise NotImplementedError\n",
    "\n",
    "\n",
    "# Load the pickle file\n",
    "with open(filename, 'rb') as file:\n",
    "    autoencoders = pickle.load(file)\n",
    "\n",
    "# Load the pickle file\n",
    "with open(filename2, 'rb') as file:\n",
    "    autoencoders2 = pickle.load(file)\n",
    "\n",
    "# Index for l1 value, usually only 1 value is available\n",
    "l1_index = 1\n",
    "dictionaries = [autoencoder.decoder.weight.data.T for autoencoder in autoencoders[l1_index]]\n",
    "dictionaries2 = [autoencoder.decoder.weight.data.T for autoencoder in autoencoders2[l1_index]]\n",
    "for d in dictionaries:\n",
    "    print(d.shape)\n",
    "print(\"len of autoencoders: \", len(autoencoders))\n",
    "dict_index = 1\n",
    "smaller_dict, larger_dict = dictionaries[dict_index], dictionaries2[dict_index]\n",
    "smaller_auto_encoder, larger_auto_encoder = autoencoders[l1_index][dict_index], autoencoders2[l1_index][dict_index]"
   ]
  },
  {
   "cell_type": "code",
   "execution_count": 216,
   "metadata": {},
   "outputs": [
    {
     "name": "stdout",
     "output_type": "stream",
     "text": [
      "9\n"
     ]
    }
   ],
   "source": [
    "from scipy.optimize import linear_sum_assignment\n",
    "# DO THE MCS across all dictionaries\n",
    "def mcs(dict1, dict2):\n",
    "    dict1_features, _ = dict1.shape\n",
    "    dict2_features, _ = dict2.shape\n",
    "    dict2 = dict2.to(device)\n",
    "    # Hungary algorithm\n",
    "    # Calculate all cosine similarities and store in a 2D array\n",
    "    cos_sims = np.zeros((dict1_features, dict2_features))\n",
    "    for idx, vector in enumerate(dict1):\n",
    "        cos_sims[idx] = torch.nn.functional.cosine_similarity(vector.to(device), dict2, dim=1).cpu().numpy()\n",
    "    # Convert to a minimization problem\n",
    "    cos_sims = 1 - cos_sims\n",
    "    # Use the Hungarian algorithm to solve the assignment problem\n",
    "    row_ind, col_ind = linear_sum_assignment(cos_sims)\n",
    "    # Retrieve the max cosine similarities and corresponding indices\n",
    "    max_cosine_similarities = 1 - cos_sims[row_ind, col_ind]\n",
    "    max_indices = np.argsort(max_cosine_similarities)[::-1].copy()\n",
    "    return max_cosine_similarities, max_indices\n",
    "\n",
    "\n",
    "l1_index = 0\n",
    "# dictionaries = [autoencoder.decoder.weight.data.T for autoencoder in autoencoders[l1_index]]\n",
    "# dictionaries2 = [autoencoder.decoder.weight.data.T for autoencoder in autoencoders2[l1_index]]\n",
    "dictionaries = [autoencoder[0].decoder.weight.data.T for autoencoder in autoencoders]\n",
    "# combined_dicts = dictionaries + dictionaries2\n",
    "combined_dicts = dictionaries\n",
    "adjancy_matrix = np.zeros((len(combined_dicts), len(combined_dicts)))\n",
    "for i in range(len(combined_dicts)):\n",
    "    for j in range(len(combined_dicts)):\n",
    "        if j > i:\n",
    "            break\n",
    "        max_cosine_similarities, max_indices = mcs(combined_dicts[i], combined_dicts[j])\n",
    "        adjancy_matrix[i, j] = max_cosine_similarities.mean()\n",
    "        adjancy_matrix[j, i] = max_cosine_similarities.mean()"
   ]
  },
  {
   "cell_type": "code",
   "execution_count": null,
   "metadata": {},
   "outputs": [
    {
     "data": {
      "image/png": "[encoded data removed]",
      "text/plain": [
       "<Figure size 1000x1000 with 2 Axes>"
      ]
     },
     "metadata": {},
     "output_type": "display_data"
    }
   ],
   "source": [
    "# Plot the adjancy matrix\n",
    "plt.figure(figsize=(10, 10))\n",
    "plt.imshow(adjancy_matrix, cmap='hot', interpolation='nearest')\n",
    "plt.title(\"MCS for dict_size=2k\")\n",
    "sparsities = [28,69,94,95,113,115,126,205,393]\n",
    "# sparsities are x-axis\n",
    "plt.xticks(range(len(sparsities)), sparsities)\n",
    "plt.xlabel(\"Features/Tokens\")\n",
    "plt.colorbar()\n",
    "plt.show()"
   ]
  },
  {
   "cell_type": "code",
   "execution_count": 199,
   "metadata": {},
   "outputs": [
    {
     "data": {
      "image/png": "[encoded data removed]",
      "text/plain": [
       "<Figure size 1000x1000 with 2 Axes>"
      ]
     },
     "metadata": {},
     "output_type": "display_data"
    }
   ],
   "source": [
    "# Plot the adjancy matrix\n",
    "plt.figure(figsize=(10, 10))\n",
    "plt.imshow(adjancy_matrix, cmap='hot', interpolation='nearest')\n",
    "plt.title(\"MCS for index: \" + str(l1_index))\n",
    "plt.colorbar()\n",
    "plt.show()"
   ]
  },
  {
   "cell_type": "code",
   "execution_count": 203,
   "metadata": {},
   "outputs": [
    {
     "data": {
      "image/png": "[encoded data removed]",
      "text/plain": [
       "<Figure size 1000x1000 with 2 Axes>"
      ]
     },
     "metadata": {},
     "output_type": "display_data"
    }
   ],
   "source": [
    "# Plot the adjancy matrix\n",
    "plt.figure(figsize=(10, 10))\n",
    "plt.imshow(adjancy_matrix, cmap='hot', interpolation='nearest')\n",
    "plt.title(\"MCS for index: \" + str(l1_index))\n",
    "plt.colorbar()\n",
    "plt.show()"
   ]
  },
  {
   "cell_type": "code",
   "execution_count": 192,
   "metadata": {},
   "outputs": [
    {
     "data": {
      "text/plain": [
       "0.4964340803012419"
      ]
     },
     "execution_count": 192,
     "metadata": {},
     "output_type": "execute_result"
    }
   ],
   "source": [
    "max_cosine_similarities.mean()"
   ]
  },
  {
   "attachments": {},
   "cell_type": "markdown",
   "metadata": {},
   "source": [
    "# MCS\n",
    "Max cosine similarity between one dictionary & another one. If they learned the same feature, then they'll have high cosine similarity. \n",
    "\n",
    "If two dictionaries learned it, it's probably a real feature."
   ]
  },
  {
   "cell_type": "code",
   "execution_count": 186,
   "metadata": {},
   "outputs": [
    {
     "name": "stdout",
     "output_type": "stream",
     "text": [
      "('# of features above 0.9:', 268)\n"
     ]
    },
    {
     "data": {
      "image/png": "[encoded data removed]",
      "text/plain": [
       "<Figure size 640x480 with 1 Axes>"
      ]
     },
     "metadata": {},
     "output_type": "display_data"
    }
   ],
   "source": [
    "from scipy.optimize import linear_sum_assignment\n",
    "import matplotlib.pyplot as plt\n",
    "#Dictionary Comparison\n",
    "smaller_dict_features, _ = smaller_dict.shape\n",
    "larger_dict_features, _ = larger_dict.shape\n",
    "larger_dict = larger_dict.to(device)\n",
    "# Hungary algorithm\n",
    "# Calculate all cosine similarities and store in a 2D array\n",
    "cos_sims = np.zeros((smaller_dict_features, larger_dict_features))\n",
    "for idx, vector in enumerate(smaller_dict):\n",
    "    cos_sims[idx] = torch.nn.functional.cosine_similarity(vector.to(device), larger_dict, dim=1).cpu().numpy()\n",
    "# Convert to a minimization problem\n",
    "cos_sims = 1 - cos_sims\n",
    "# Use the Hungarian algorithm to solve the assignment problem\n",
    "row_ind, col_ind = linear_sum_assignment(cos_sims)\n",
    "# Retrieve the max cosine similarities and corresponding indices\n",
    "max_cosine_similarities = 1 - cos_sims[row_ind, col_ind]\n",
    "\n",
    "# Get the indices of the max cosine similarities in descending order\n",
    "max_indices = np.argsort(max_cosine_similarities)[::-1].copy()\n",
    "print((\"# of features above 0.9:\", (max_cosine_similarities > .9).sum()))\n",
    "# Plot histogram of max_cosine_similarities\n",
    "plt.hist(max_cosine_similarities, bins=20)\n",
    "plt.show()"
   ]
  },
  {
   "attachments": {},
   "cell_type": "markdown",
   "metadata": {},
   "source": [
    "# Model activations & Dictionary Activations"
   ]
  },
  {
   "cell_type": "code",
   "execution_count": 4,
   "metadata": {},
   "outputs": [
    {
     "name": "stderr",
     "output_type": "stream",
     "text": [
      "Found cached dataset parquet (/home/mchorse/.cache/huggingface/datasets/NeelNanda___parquet/NeelNanda--pile-10k-72f566e9f7c464ab/0.0.0/2a3b91fbd88a2c90d1dbbb32b460cf621d31bd5b05b934492fdef7d8d6f236ec)\n",
      "Loading cached processed dataset at /home/mchorse/.cache/huggingface/datasets/NeelNanda___parquet/NeelNanda--pile-10k-72f566e9f7c464ab/0.0.0/2a3b91fbd88a2c90d1dbbb32b460cf621d31bd5b05b934492fdef7d8d6f236ec/cache-936bbe7f6d7ada8a.arrow\n",
      "Loading cached processed dataset at /home/mchorse/.cache/huggingface/datasets/NeelNanda___parquet/NeelNanda--pile-10k-72f566e9f7c464ab/0.0.0/2a3b91fbd88a2c90d1dbbb32b460cf621d31bd5b05b934492fdef7d8d6f236ec/cache-ff63f286be92e51d.arrow\n",
      "Loading cached processed dataset at /home/mchorse/.cache/huggingface/datasets/NeelNanda___parquet/NeelNanda--pile-10k-72f566e9f7c464ab/0.0.0/2a3b91fbd88a2c90d1dbbb32b460cf621d31bd5b05b934492fdef7d8d6f236ec/cache-2658d87f3574d377.arrow\n"
     ]
    }
   ],
   "source": [
    "# Downnload dataset\n",
    "from datasets import Dataset, load_dataset\n",
    "dataset_name = \"NeelNanda/pile-10k\"\n",
    "token_amount= 40\n",
    "dataset = load_dataset(dataset_name, split=\"train\").map(\n",
    "    lambda x: model.tokenizer(x['text']),\n",
    "    batched=True,\n",
    ").filter(\n",
    "    lambda x: len(x['input_ids']) > token_amount\n",
    ").map(\n",
    "    lambda x: {'input_ids': x['input_ids'][:token_amount]}\n",
    ")"
   ]
  },
  {
   "cell_type": "code",
   "execution_count": 46,
   "metadata": {},
   "outputs": [
    {
     "name": "stderr",
     "output_type": "stream",
     "text": [
      "100%|██████████| 155/155 [00:07<00:00, 20.74it/s]\n"
     ]
    }
   ],
   "source": [
    "# Now we can use the model to get the activations\n",
    "from torch.utils.data import DataLoader\n",
    "from tqdm.auto import tqdm\n",
    "from einops import rearrange\n",
    "# neurons = model.W_in.shape[-1]\n",
    "neurons = model.cfg.d_model\n",
    "datapoints = dataset.num_rows\n",
    "batch_size = 64\n",
    "neuron_activations = torch.zeros((datapoints*token_amount, neurons))\n",
    "dictionary_activations = torch.zeros((datapoints*token_amount, smaller_dict_features))\n",
    "smaller_auto_encoder = smaller_auto_encoder.to(device)\n",
    "\n",
    "with torch.no_grad(), dataset.formatted_as(\"pt\"):\n",
    "    dl = DataLoader(dataset[\"input_ids\"], batch_size=batch_size)\n",
    "    for i, batch in enumerate(tqdm(dl)):\n",
    "        _, cache = model.run_with_cache(batch.to(device))\n",
    "        batched_neuron_activations = rearrange(cache[cache_name], \"b s n -> (b s) n\" )\n",
    "        neuron_activations[i*batch_size*token_amount:(i+1)*batch_size*token_amount,:] = batched_neuron_activations.cpu()\n",
    "        reconstruction, batched_dictionary_activations = smaller_auto_encoder(batched_neuron_activations)\n",
    "        dictionary_activations[i*batch_size*token_amount:(i+1)*batch_size*token_amount,:] = batched_dictionary_activations.cpu()"
   ]
  },
  {
   "attachments": {},
   "cell_type": "markdown",
   "metadata": {},
   "source": [
    "# Feature Activation Analysis"
   ]
  },
  {
   "cell_type": "markdown",
   "metadata": {},
   "source": [
    "## Useful Functions"
   ]
  },
  {
   "cell_type": "code",
   "execution_count": 47,
   "metadata": {},
   "outputs": [],
   "source": [
    "from circuitsvis.activations import text_neuron_activations\n",
    "# Get the activations for the best dict features\n",
    "def get_feature_datapoints(feature_index, dictionary_activations, dataset, k=10, setting=\"max\"):\n",
    "    best_feature_activations = dictionary_activations[:, feature_index]\n",
    "    # Sort the features by activation, get the indices\n",
    "    if setting==\"max\":\n",
    "        found_indices = torch.argsort(best_feature_activations, descending=True)[:k]\n",
    "    elif setting==\"uniform\":\n",
    "        min_value = torch.min(best_feature_activations)\n",
    "        max_value = torch.max(best_feature_activations)\n",
    "\n",
    "        # Define the number of bins\n",
    "        num_bins = k\n",
    "\n",
    "        # Calculate the bin boundaries as linear interpolation between min and max\n",
    "        bin_boundaries = torch.linspace(min_value, max_value, num_bins + 1)\n",
    "\n",
    "        # Assign each activation to its respective bin\n",
    "        bins = torch.bucketize(best_feature_activations, bin_boundaries)\n",
    "\n",
    "        # Initialize a list to store the sampled indices\n",
    "        sampled_indices = []\n",
    "\n",
    "        # Sample from each bin\n",
    "        for bin_idx in torch.unique(bins):\n",
    "            # Get the indices corresponding to the current bin\n",
    "            bin_indices = torch.nonzero(bins == bin_idx, as_tuple=False).squeeze(dim=1)\n",
    "            \n",
    "            # Randomly sample from the current bin\n",
    "            sampled_indices.extend(np.random.choice(bin_indices, size=1, replace=False))\n",
    "\n",
    "        # Convert the sampled indices to a PyTorch tensor & reverse order\n",
    "        found_indices = torch.tensor(sampled_indices).long().flip(dims=[0])\n",
    "    else: # random\n",
    "        # get nonzero indices\n",
    "        nonzero_indices = torch.nonzero(best_feature_activations)[:, 0]\n",
    "        # shuffle\n",
    "        shuffled_indices = nonzero_indices[torch.randperm(nonzero_indices.shape[0])]\n",
    "        found_indices = shuffled_indices[:k]\n",
    "    datapoint_indices =[np.unravel_index(i, (datapoints, token_amount)) for i in found_indices]\n",
    "    text_list = []\n",
    "    full_text = []\n",
    "    token_list = []\n",
    "    full_token_list = []\n",
    "    for md, s_ind in datapoint_indices:\n",
    "        md = int(md)\n",
    "        s_ind = int(s_ind)\n",
    "        full_tok = torch.tensor(dataset[md][\"input_ids\"])\n",
    "        full_text.append(model.tokenizer.decode(full_tok))\n",
    "        tok = dataset[md][\"input_ids\"][:s_ind+1]\n",
    "        text = model.tokenizer.decode(tok)\n",
    "        text_list.append(text)\n",
    "        token_list.append(tok)\n",
    "        full_token_list.append(full_tok)\n",
    "    return text_list, full_text, token_list, full_token_list\n",
    "\n",
    "def get_neuron_activation(token, feature, model, setting=\"dictionary_basis\"):\n",
    "    with torch.no_grad():\n",
    "        _, cache = model.run_with_cache(token.to(model.cfg.device))\n",
    "        neuron_act_batch = cache[cache_name]\n",
    "        if setting==\"dictionary_basis\":\n",
    "            _, act = smaller_auto_encoder(neuron_act_batch)\n",
    "            return act[0, :, feature].tolist()\n",
    "        else: # neuron/residual basis\n",
    "            return neuron_act_batch[0, :, feature].tolist()\n",
    "\n",
    "def ablate_text(text, feature, model, setting=\"plot\"):\n",
    "    if isinstance(text, str):\n",
    "        text = [text]\n",
    "    display_text_list = []\n",
    "    activation_list = []\n",
    "    for t in text:\n",
    "        # Convert text into tokens\n",
    "        if isinstance(t, str): # If the text is a list of tokens\n",
    "            split_text = model.to_str_tokens(t, prepend_bos=False)\n",
    "            tokens = model.to_tokens(t, prepend_bos=False)\n",
    "        else: # t equals tokens\n",
    "            tokens = t\n",
    "            split_text = model.to_str_tokens(t, prepend_bos=False)\n",
    "        seq_size = tokens.shape[1]\n",
    "        if(seq_size == 1): # If the text is a single token, we can't ablate it\n",
    "            continue\n",
    "        original = get_neuron_activation(tokens, feature, model)[-1]\n",
    "        changed_activations = torch.zeros(seq_size, device=device).cpu()\n",
    "        for i in range(seq_size):\n",
    "            # Remove the i'th token from the input\n",
    "            ablated_tokens = torch.cat((tokens[:,:i], tokens[:,i+1:]), dim=1)\n",
    "            changed_activations[i] += get_neuron_activation(ablated_tokens, feature, model)[-1]\n",
    "        changed_activations -= original\n",
    "        display_text_list += [x.replace('\\n', '\\\\newline') for x in split_text] + [\"\\n\"]\n",
    "        activation_list += changed_activations.tolist() + [0.0]\n",
    "    activation_list = torch.tensor(activation_list).reshape(-1,1,1)\n",
    "    if setting == \"plot\":\n",
    "        return text_neuron_activations(tokens=display_text_list, activations=activation_list)\n",
    "    else:\n",
    "        return display_text_list, activation_list\n",
    "def visualize_text(text, feature, model, setting=\"dictionary_basis\", max_activation = None):\n",
    "    if isinstance(text, str):\n",
    "        text = [text]\n",
    "    if isinstance(feature, int):\n",
    "        feature = [feature]\n",
    "    display_text_list = []\n",
    "    act_list = []\n",
    "    for t in text:\n",
    "        if isinstance(t, str): # If the text is a list of tokens\n",
    "            split_text = model.to_str_tokens(t, prepend_bos=False)\n",
    "            token = model.to_tokens(t, prepend_bos=False)\n",
    "        else: # t are tokens\n",
    "            token = t\n",
    "            split_text = model.to_str_tokens(t, prepend_bos=False)\n",
    "        for f in feature:\n",
    "            display_text_list += [x.replace('\\n', '\\\\newline') for x in split_text] + [\"\\n\"]\n",
    "            act_list += get_neuron_activation(token, f, model, setting) + [0.0]\n",
    "    act_list = torch.tensor(act_list).reshape(-1,1,1)\n",
    "    if(max_activation is not None):\n",
    "        act_list = torch.clamp(act_list, max=max_activation)\n",
    "    return text_neuron_activations(tokens=display_text_list, activations=act_list)\n",
    "# Ablate the feature direction of the tokens\n",
    "# token_list is a list of tokens, convert to tensor of shape (batch_size, seq_len)\n",
    "from einops import rearrange\n",
    "def ablate_feature_direction(tokens, feature, model, autoencoder):\n",
    "    def mlp_ablation_hook(value, hook):\n",
    "        # Rearrange to fit autoencoder\n",
    "        int_val = rearrange(value, 'b s h -> (b s) h')\n",
    "\n",
    "        # Run through the autoencoder\n",
    "        _, act = autoencoder(int_val)\n",
    "        feature_to_ablate = feature # TODO: bring this out of the function\n",
    "\n",
    "        # Subtract value with feature direction*act_of_feature\n",
    "        feature_direction = torch.outer(act[:, feature_to_ablate].squeeze(), autoencoder.decoder.weight[:, feature_to_ablate].squeeze())\n",
    "        batch, seq_len, hidden_size = value.shape\n",
    "        feature_direction = rearrange(feature_direction, '(b s) h -> b s h', b=batch, s=seq_len)\n",
    "        value -= feature_direction\n",
    "        return value\n",
    "\n",
    "    return model.run_with_hooks(tokens, \n",
    "        fwd_hooks=[(\n",
    "            cache_name, \n",
    "            mlp_ablation_hook\n",
    "            )]\n",
    "        )\n",
    "def add_feature_direction(tokens, feature, model, autoencoder, scalar=1.0):\n",
    "    def residual_add_hook(value, hook):\n",
    "        feature_direction = autoencoder.decoder.weight[:, feature].squeeze()\n",
    "        value += scalar*feature_direction\n",
    "        return value\n",
    "\n",
    "    return model.run_with_hooks(tokens, \n",
    "        fwd_hooks=[(\n",
    "            cache_name,\n",
    "            residual_add_hook\n",
    "            )]\n",
    "        )\n",
    "def ablate_feature_direction_display(text, features=None, setting=\"true_tokens\", verbose=False):\n",
    "\n",
    "    if features==None:\n",
    "        features = torch.tensor([best_feature])\n",
    "    if isinstance(features, int):\n",
    "        features = torch.tensor([features])\n",
    "    if isinstance(features, list):\n",
    "        features = torch.tensor(features)\n",
    "    if isinstance(text, str):\n",
    "        text = [text]\n",
    "    text_list = []\n",
    "    logit_list = []\n",
    "    for t in text:\n",
    "        tokens = model.to_tokens(t, prepend_bos=False)\n",
    "        with torch.no_grad():\n",
    "            original_logits = model(tokens).log_softmax(-1).cpu()\n",
    "            ablated_logits = ablate_feature_direction(tokens, features, model, smaller_auto_encoder).log_softmax(-1).cpu()\n",
    "        diff_logits = ablated_logits  - original_logits# ablated > original -> negative diff\n",
    "        tokens = tokens.cpu()\n",
    "        if setting == \"true_tokens\":\n",
    "            split_text = model.to_str_tokens(t, prepend_bos=False)\n",
    "            gather_tokens = rearrange(tokens[:,1:], \"b s -> b s 1\") # TODO: verify this is correct\n",
    "            # Gather the logits for the true tokens\n",
    "            diff = rearrange(diff_logits[:, :-1].gather(-1,gather_tokens), \"b s n -> (b s n)\")\n",
    "        elif setting == \"max\":\n",
    "            # Negate the diff_logits to see which tokens have the largest effect on the neuron\n",
    "            val, ind = (-1*diff_logits).max(-1)\n",
    "            diff = rearrange(val[:, :-1], \"b s -> (b s)\")\n",
    "            diff*= -1 # Negate the values gathered\n",
    "            split_text = model.to_str_tokens(ind, prepend_bos=False)\n",
    "            gather_tokens = rearrange(ind[:,1:], \"1 s -> 1 s 1\")\n",
    "        split_text = split_text[1:] # Remove the first token since we're not predicting it\n",
    "        if(verbose):\n",
    "            text_list += [x.replace('\\n', '\\\\newline') for x in split_text] + [\"\\n\"]\n",
    "            text_list += [x.replace('\\n', '\\\\newline') for x in split_text] + [\"\\n\"]\n",
    "            orig = rearrange(original_logits[:, :-1].gather(-1, gather_tokens), \"b s n -> (b s n)\")\n",
    "            ablated = rearrange(ablated_logits[:, :-1].gather(-1, gather_tokens), \"b s n -> (b s n)\")\n",
    "            logit_list += orig.tolist() + [0.0]\n",
    "            logit_list += ablated.tolist() + [0.0]\n",
    "        text_list += [x.replace('\\n', '\\\\newline') for x in split_text] + [\"\\n\"]\n",
    "        logit_list += diff.tolist() + [0.0]\n",
    "    logit_list = torch.tensor(logit_list).reshape(-1,1,1)\n",
    "    if verbose:\n",
    "        print(f\"Max & Min logit-diff: {logit_list.max().item():.2f} & {logit_list.min().item():.2f}\")\n",
    "    return text_neuron_activations(tokens=text_list, activations=logit_list)\n",
    "def generate_text(input_text, num_tokens, model, autoencoder, feature, temperature=0.7, setting=\"add\", scalar=1.0):\n",
    "    # Convert input text to tokens\n",
    "    input_ids = model.tokenizer.encode(input_text, return_tensors='pt').to(device)\n",
    "\n",
    "    for _ in range(num_tokens):\n",
    "        # Generate logits\n",
    "        with torch.no_grad():\n",
    "            if(setting==\"add\"):\n",
    "                logits = add_feature_direction(input_ids, feature, model, autoencoder, scalar=scalar)\n",
    "            else:\n",
    "                logits = model(input_ids)\n",
    "\n",
    "        # Apply temperature\n",
    "        logits = logits / temperature\n",
    "\n",
    "        # Sample from the distribution\n",
    "        probs = torch.nn.functional.softmax(logits[:, -1, :], dim=-1)\n",
    "        predicted_token = torch.multinomial(probs, num_samples=1)\n",
    "\n",
    "        # Append predicted token to input_ids\n",
    "        input_ids = torch.cat((input_ids, predicted_token), dim=-1)\n",
    "\n",
    "    # Decode the tokens to text\n",
    "    output_text = model.tokenizer.decode(input_ids[0])\n",
    "\n",
    "    return output_text\n",
    "\n",
    "# Logit Lens\n",
    "def logit_lens(model, best_feature, smaller_dict, layer):\n",
    "    with torch.no_grad():\n",
    "        # There are never-used tokens, which have high norm. We want to ignore these.\n",
    "        bad_ind = (model.W_U.norm(dim=0) > 20)\n",
    "        feature_direction = smaller_dict[best_feature].to(device)\n",
    "        # feature_direction = torch.matmul(feature_direction, model.W_out[layer]) # if MLP\n",
    "        logits = torch.matmul(feature_direction, model.W_U).cpu()\n",
    "    # Don't include bad indices\n",
    "    logits[bad_ind] = -1000\n",
    "    topk_values, topk_indices = torch.topk(logits, 20)\n",
    "    top_text = model.to_str_tokens(topk_indices)\n",
    "    print(f\"{top_text}\")\n",
    "    print(topk_values)\n"
   ]
  },
  {
   "cell_type": "markdown",
   "metadata": {},
   "source": [
    "# Generate Text\n",
    "You can use the functions below to find interesting features to then add here to \"feature\""
   ]
  },
  {
   "cell_type": "code",
   "execution_count": 8,
   "metadata": {},
   "outputs": [
    {
     "name": "stdout",
     "output_type": "stream",
     "text": [
      "Normal:\n",
      " for a certain place.\n",
      "\n",
      "Lilmore\n",
      "\n",
      "The Lilmore is a three-mile\n",
      "Add:\n",
      " for,” LLP LLP LLP LLP LLP LLP Court,” LLPheets,” Court“ He LLP ruled His,”,’\n"
     ]
    }
   ],
   "source": [
    "sentence = \" for\"\n",
    "temp = 0.7\n",
    "tokens_to_generate = 20\n",
    "feature = 10 \n",
    "scalar = 100.0\n",
    "# Using the function:\n",
    "print(\"Normal:\\n\" + generate_text(sentence, tokens_to_generate, model, smaller_auto_encoder, feature=feature, temperature=temp, scalar=scalar, setting=\"normal\"))\n",
    "print(\"Add:\\n\" + generate_text(sentence, tokens_to_generate, model, smaller_auto_encoder, feature=feature, temperature=temp, scalar=scalar, setting=\"add\"))"
   ]
  },
  {
   "cell_type": "markdown",
   "metadata": {},
   "source": [
    "# Feature Search\n",
    "Type in a sentence & see which features activate \n",
    "Note: Some features may be outliers, which will typically show up as high activations for the first word & first period or \\n (or high positive bias)."
   ]
  },
  {
   "cell_type": "code",
   "execution_count": 35,
   "metadata": {},
   "outputs": [
    {
     "name": "stdout",
     "output_type": "stream",
     "text": [
      "Activations: [1.69, 1.45, 1.39, 1.21, 0.91, 0.54, 0.49, 0.46, 0.37, 0.28]\n",
      "Feature_ids [1461, 1655, 389, 1309, 444, 82, 1300, 1206, 1901, 798]\n"
     ]
    }
   ],
   "source": [
    "t = \" I do like a\"\n",
    "split_text = model.to_str_tokens(t, prepend_bos=False)\n",
    "token = model.to_tokens(t, prepend_bos=False)\n",
    "_, cache = model.run_with_cache(token.to(model.cfg.device))\n",
    "neuron_act_batch = cache[cache_name]\n",
    "_, act = smaller_auto_encoder(neuron_act_batch)\n",
    "v, i = act[0, -1, :].topk(10)\n",
    "\n",
    "print(\"Activations:\",[round(val,2) for val in v.tolist()])\n",
    "print(\"Feature_ids\", i.tolist())"
   ]
  },
  {
   "cell_type": "markdown",
   "metadata": {},
   "source": [
    "# Feature Interp\n",
    "Investigate the example sentences the activate this feature.\n",
    "\n",
    "Max: show max activating (tokens,contexts)\n",
    "\n",
    "Uniform: Show range of activations from each bin (e.g. sample an example from 1-2, 2-3, etc). \n",
    "[Note: if a feature is monosemantic, then the full range of activations should be that feature, not just max-activating ones]\n",
    "\n",
    "Full_text: shows the full text example\n",
    "\n",
    "Text_list: shows up to the most activating example (try w/ max activating on a couple of examples to see)\n",
    "\n",
    "ablate_text: remove the context one token at a time, and show the decrease/increase in activation of that feature\n",
    "\n",
    "ablate_feature_direction: removes feature direction from model's activation mid-inference, showing the logit diff in the output for every token.\n",
    "\n",
    "logit_lens: show the logit lens for that feature. If matches ablate_feature_direction, then the computation path is through the residual stream, else, it's through future layers"
   ]
  },
  {
   "cell_type": "code",
   "execution_count": 183,
   "metadata": {},
   "outputs": [
    {
     "name": "stdout",
     "output_type": "stream",
     "text": [
      "bias: -0.6367971\n",
      "Feature index: 1659\n",
      "MCS: 0.5792028903961182\n"
     ]
    },
    {
     "data": {
      "text/html": [
       "<div id=\"circuits-vis-ed95c347-eaa4\" style=\"margin: 15px 0;\"/>\n",
       "    <script crossorigin type=\"module\">\n",
       "    import { render, TextNeuronActivations } from \"https://unpkg.com/circuitsvis@1.40.0/dist/cdn/esm.js\";\n",
       "    render(\n",
       "      \"circuits-vis-ed95c347-eaa4\",\n",
       "      TextNeuronActivations,\n",
       "      {\"tokens\": [\"1\", \".\", \" Field\", \" of\", \" the\", \" Invention\", \"\\\\newline\", \"The\", \" present\", \" invention\", \" relates\", \" to\", \" an\", \" ear\", \"piece\", \"/\", \"wire\", \" organizer\", \" and\", \" method\", \" for\", \" using\", \" same\", \" to\", \" house\", \" and\", \" maintain\", \" wires\", \" in\", \" an\", \" unt\", \"angled\", \" manner\", \";\", \" and\", \" more\", \" particularly\", \",\", \" to\", \" a\", \"\\n\", \"Up\", \" to\", \" the\", \" immediate\", \" present\", \" 100\", \"-\", \"105\", \" exam\", \" cr\", \"am\", \"(\", \"1\", \"-\", \"13\", \")\", \"\\\\newline\", \"\\\\newline\", \"Question\", \" No\", \" :\", \" 1\", \" \\u2013\", \" (\", \"Topic\", \" 1\", \")\", \"\\\\newline\", \"Ref\", \"er\", \" to\", \" the\", \" exhibit\", \".\", \"\\\\newline\", \"Mary\", \" is\", \" sending\", \" an\", \" instant\", \"\\n\", \"M\", \"amm\", \"als\", \"\\\\newline\", \"\\\\newline\", \"More\", \" than\", \" 50\", \" mamm\", \"al\", \" species\", \" are\", \" found\", \" in\", \" Northern\", \" Virginia\", \";\", \" and\", \" Will\", \"ows\", \"ford\", \" habitat\", \" is\", \" suitable\", \" for\", \" many\", \" of\", \" them\", \".\", \"\\\\newline\", \"\\\\newline\", \"Some\", \" mammals\", \",\", \" such\", \" as\", \" gray\", \" squir\", \"rels\", \" and\", \"\\n\", \"HU\", \"GH\", \"ES\", \"\\\\newline\", \",\", \"\\\\newline\", \"J\", \"OHN\", \" ED\", \"WARD\", \"\\\\newline\", \"(\", \"\\\\newline\", \"18\", \"79\", \"\\\\newline\", \"-\", \"\\\\newline\", \"1959\", \"\\\\newline\", \"),\", \"\\\\newline\", \"min\", \"ister\", \" (\", \"Pres\", \"b\", \".)\", \" and\", \" author\", \"\\\\newline\", \";\", \"\\\\newline\", \"b\", \".\", \"\\\\newline\", \"8\", \" Jun\", \".\", \" 18\", \"\\n\", \"Tuesday\", \",\", \" June\", \" 11\", \",\", \" 2013\", \"\\\\newline\", \"\\\\newline\", \"We\", \" have\", \" been\", \" sick\", \" and\", \" eating\", \" nothing\", \" accept\", \" por\", \"ridge\", \" for\", \" the\", \" past\", \" two\", \" weeks\", \" for\", \" each\", \" and\", \" every\", \" meal\", \"!\", \"\\\\newline\", \"\\\\newline\", \"L\", \"uck\", \"ily\", \" the\", \" kids\", \" don\", \"'t\", \" complain\", \"....\", \"\\n\", \"JE\", \"FF\", \"ERSON\", \" COUNTY\", \",\", \" Alabama\", \" -\", \" F\", \"ights\", \" between\", \" brothers\", \" and\", \" sisters\", \" aren\", \"'t\", \" anything\", \" new\", \",\", \" but\", \" rarely\", \" do\", \" they\", \" land\", \" the\", \" siblings\", \" in\", \" jail\", \".\", \"\\\\newline\", \"\\\\newline\", \"It\", \" was\", \" a\", \" different\", \" story\", \" today\", \" in\", \" C\", \"ah\", \"aba\", \"\\n\", \" /*\", \" fre\", \":\", \"ac\", \" -\", \" free\", \" audio\", \" converter\", \"\\\\newline\", \"  \", \"*\", \" Copyright\", \" (\", \"C\", \")\", \" 2001\", \"-\", \"2020\", \" Robert\", \" K\", \"aus\", \"ch\", \" <\", \"ro\", \"bert\", \".\", \"k\", \"aus\", \"ch\", \"@\", \"fre\", \"ac\", \".\", \"org\", \">\", \"\\\\newline\", \"  \", \"*\", \"\\\\newline\", \"  \", \"\\n\", \"A\", \" Qual\", \"ified\", \" Writer\", \" Can\", \" Send\", \" Essays\", \" Written\", \" for\", \" You\", \"\\\\newline\", \"\\\\newline\", \"But\", \" the\", \" competition\", \" is\", \" extending\", \" right\", \" out\", \" to\", \" the\", \" 5\", \" year\", \" terms\", \" at\", \" the\", \" moment\", \" and\", \" there\", \" does\", \" seem\", \" to\", \" be\", \" a\", \" more\", \" even\", \" spread\", \" than\", \" we\", \" have\", \"\\n\", \"Built\", \" to\", \" Last\", \".\", \" Rel\", \"iable\", \" I\", \"rr\", \"igation\", \" Val\", \"ves\", \"\\\\newline\", \"\\\\newline\", \"Built\", \" to\", \"LAST\", \"\\\\newline\", \"\\\\newline\", \"Rel\", \"iable\", \" I\", \"rr\", \"igation\", \" Val\", \"ves\", \"\\\\newline\", \"\\\\newline\", \"From\", \" Res\", \"idential\", \" to\", \" Commercial\", \",\", \" low\", \" or\", \" high\", \" flow\", \",\", \" low\", \" pressure\", \"\\n\", \"On\", \" jan\", \"uary\", \" 10\", \",\", \" Buzz\", \"feed\", \" posted\", \" a\", \" story\", \" under\", \" the\", \" by\", \"line\", \" of\", \" Ken\", \" B\", \"ens\", \"inger\", \",\", \" Mark\", \" Sch\", \"o\", \"ofs\", \" and\", \" Mir\", \"iam\", \" elder\", \" titled\", \" \\u201c\", \"these\", \" reports\", \" Al\", \"lege\", \" Trump\", \" Has\", \" Deep\", \" T\", \"ies\", \" To\", \"\\n\", \"A\", \" woman\", \" named\", \" \\u2018\", \"A\", \"a\", \"ish\", \"ah\", \",\", \" from\", \" Pakistan\", \",\", \" relates\", \" the\", \" following\", \" experience\", \":\", \"\\\\newline\", \"\\\\newline\", \"I\", \" was\", \" once\", \" busy\", \" rec\", \"iting\", \" the\", \" Q\", \"ura\", \"an\", \" Maj\", \"eed\", \",\", \" as\", \" was\", \" my\", \" habit\", \",\", \" when\", \" my\", \" eldest\", \"\\n\"], \"activations\": [[[0.0]], [[0.0]], [[0.0]], [[0.0]], [[0.0]], [[0.0]], [[0.0]], [[0.0]], [[0.0]], [[0.0]], [[0.0]], [[0.2881673574447632]], [[0.0]], [[0.0]], [[0.0]], [[0.0]], [[0.0]], [[0.0]], [[0.0]], [[0.0]], [[0.0]], [[0.0]], [[0.0]], [[0.22230732440948486]], [[0.0]], [[0.0]], [[0.0]], [[0.0]], [[0.0]], [[0.0]], [[0.0]], [[0.0]], [[0.0]], [[0.18012958765029907]], [[1.2740691900253296]], [[0.0]], [[0.44389259815216064]], [[0.0]], [[0.0]], [[0.0]], [[0.0]], [[0.0]], [[0.0]], [[0.0]], [[0.0]], [[0.0]], [[0.0]], [[0.0]], [[0.0]], [[0.0]], [[0.0]], [[0.0]], [[0.0]], [[0.0]], [[0.0]], [[0.0]], [[0.0]], [[0.0]], [[0.0]], [[0.0]], [[0.0]], [[0.023724913597106934]], [[0.0]], [[0.0]], [[0.0]], [[0.0]], [[0.0]], [[0.0]], [[0.0]], [[0.0]], [[0.0]], [[1.0689345598220825]], [[0.3143923282623291]], [[0.0]], [[0.0]], [[0.0]], [[0.0]], [[0.0]], [[0.0]], [[0.0]], [[0.0]], [[0.0]], [[0.0]], [[0.0]], [[0.0]], [[0.0]], [[0.0]], [[0.0]], [[0.0]], [[0.0]], [[0.0]], [[0.0]], [[0.0]], [[0.0]], [[0.0]], [[0.0]], [[0.0]], [[0.0]], [[0.0]], [[0.9863804578781128]], [[0.0]], [[0.0]], [[0.0]], [[0.0]], [[0.0]], [[0.0]], [[0.0]], [[0.0]], [[0.0]], [[0.0]], [[0.0]], [[0.0]], [[0.0]], [[0.0]], [[0.0]], [[0.0]], [[0.0]], [[0.0]], [[0.0]], [[0.0]], [[0.0]], [[0.0]], [[0.0]], [[0.0]], [[0.0]], [[0.0]], [[0.0]], [[0.0]], [[0.0]], [[0.0]], [[0.0]], [[0.0]], [[0.0]], [[0.0]], [[0.27478718757629395]], [[0.0]], [[0.0]], [[0.04797780513763428]], [[0.0]], [[0.0]], [[0.1060558557510376]], [[0.0826725959777832]], [[0.0]], [[0.8041645288467407]], [[0.1032986044883728]], [[0.0]], [[0.0]], [[0.0]], [[0.0]], [[0.0]], [[0.5835601091384888]], [[0.5161483287811279]], [[0.0]], [[0.0]], [[0.24761855602264404]], [[0.6200441122055054]], [[0.0]], [[0.0]], [[0.0]], [[0.0]], [[0.0]], [[0.0]], [[0.0]], [[0.0]], [[0.0]], [[0.0]], [[0.0]], [[0.0]], [[0.0]], [[0.0]], [[0.0]], [[0.0]], [[0.0]], [[0.0]], [[0.0]], [[0.0]], [[0.0]], [[0.0]], [[0.0]], [[0.0]], [[0.0]], [[0.0]], [[0.010093927383422852]], [[0.0]], [[0.0]], [[0.0]], [[0.0]], [[0.0]], [[0.0]], [[0.0]], [[0.0]], [[0.0]], [[0.0]], [[0.0]], [[0.0]], [[0.0]], [[0.0]], [[0.7060180902481079]], [[0.07195955514907837]], [[0.0]], [[0.0]], [[0.0]], [[0.0]], [[0.0]], [[0.0]], [[0.0]], [[0.0]], [[0.0]], [[0.5466235876083374]], [[0.0]], [[0.0]], [[0.0]], [[0.0]], [[0.0]], [[0.0]], [[0.0]], [[0.051008760929107666]], [[0.0]], [[0.0]], [[0.0]], [[0.0]], [[0.0]], [[0.0]], [[0.0]], [[0.0]], [[0.0]], [[0.0]], [[0.0]], [[0.0]], [[0.0]], [[0.15961086750030518]], [[0.0]], [[0.0]], [[0.0]], [[0.0]], [[0.0]], [[0.0]], [[0.0]], [[0.0]], [[0.0]], [[0.0]], [[0.0]], [[0.0]], [[0.0]], [[0.0]], [[0.0]], [[0.0]], [[0.0]], [[0.0]], [[0.0]], [[0.0]], [[0.0]], [[0.0]], [[0.0]], [[0.0]], [[0.0]], [[0.0]], [[0.0]], [[0.0]], [[0.0]], [[0.0]], [[0.0]], [[0.0]], [[0.0]], [[0.0]], [[0.0]], [[0.0]], [[0.15521806478500366]], [[0.0]], [[0.0]], [[0.0]], [[0.0]], [[0.0]], [[0.0]], [[0.49652111530303955]], [[0.0]], [[0.0]], [[0.0]], [[0.0]], [[0.0]], [[0.0]], [[0.0]], [[0.0]], [[0.044710397720336914]], [[0.043788909912109375]], [[0.0]], [[0.0]], [[0.0]], [[0.0]], [[0.0]], [[0.0]], [[0.0]], [[0.0]], [[0.0]], [[0.0]], [[0.0]], [[0.0]], [[0.0]], [[0.0]], [[0.0]], [[0.0]], [[0.0]], [[0.20808005332946777]], [[0.0]], [[0.0]], [[0.0]], [[0.2055656909942627]], [[0.2893505096435547]], [[0.0]], [[0.0]], [[0.0]], [[0.0]], [[0.2935603857040405]], [[0.0]], [[0.0]], [[0.0]], [[0.0]], [[0.0]], [[0.0]], [[0.0]], [[0.07922548055648804]], [[0.0]], [[0.0]], [[0.0]], [[0.0]], [[0.0]], [[0.0]], [[0.0]], [[0.0]], [[0.0]], [[0.0]], [[0.0]], [[0.0]], [[0.0]], [[0.0]], [[0.0]], [[0.0]], [[0.0]], [[0.0]], [[0.0]], [[0.0]], [[0.0]], [[0.0]], [[0.0]], [[0.0]], [[0.0]], [[0.0]], [[0.0]], [[0.0]], [[0.0]], [[0.0]], [[0.0]], [[0.0]], [[0.0]], [[0.0]], [[0.0]], [[0.0]], [[0.0]], [[0.2590346932411194]], [[0.0]], [[0.13929319381713867]], [[0.0]], [[0.0]], [[0.0]], [[0.0]], [[0.0]], [[0.0]], [[0.0]], [[0.0]], [[0.0]], [[0.0]], [[0.0]], [[0.0]], [[0.0]], [[0.0]], [[0.02719801664352417]], [[0.0]], [[0.0]], [[0.0]], [[0.0]], [[0.0]], [[0.0]], [[0.040812551975250244]], [[0.0]], [[0.0]], [[0.0]], [[0.0]], [[0.0]], [[0.0]], [[0.0]], [[0.0]], [[0.0]], [[0.0]], [[0.033089518547058105]], [[0.0]], [[0.0]], [[0.0]], [[0.2840632200241089]], [[0.0]], [[0.0]], [[0.0]], [[0.0]], [[0.0]], [[0.0]], [[0.0]], [[0.0]], [[0.0]], [[0.0]], [[0.11463826894760132]], [[0.0]], [[0.0]], [[0.0]], [[0.0]], [[0.0]], [[0.0]], [[0.0]], [[0.0]], [[0.0]], [[0.0]], [[0.0]], [[0.0]], [[0.0]], [[0.0]], [[0.0]], [[0.0]], [[0.0]], [[0.0]], [[0.0]], [[0.0]], [[0.0]], [[0.0]], [[0.0]], [[0.0]], [[0.0]], [[0.0]], [[0.0]], [[0.0]], [[0.0]], [[0.0]], [[0.0]], [[0.0]], [[0.0]], [[0.0]], [[0.0]], [[0.0]], [[0.0]], [[0.0]], [[0.0]], [[0.0]], [[0.0]], [[0.0]]], \"firstDimensionName\": \"Layer\", \"secondDimensionName\": \"Neuron\"}\n",
       "    )\n",
       "    </script>"
      ],
      "text/plain": [
       "<circuitsvis.utils.render.RenderedHTML at 0x7f5d60738940>"
      ]
     },
     "execution_count": 183,
     "metadata": {},
     "output_type": "execute_result"
    }
   ],
   "source": [
    "# l1 = 8e-4, first 8 features don't make sense\n",
    "# 1-3k mostly makes sense. Degrades after 3k (.6 MCS)\n",
    "# 1505, Japanese words\n",
    "\n",
    "# l1 = 4e-4. Loads of single letter features, unsure how legit they are\n",
    "# 127 - induction thing\n",
    "# 1002 - Japanese language, predicts common japanese endings & grammar (their comma char & quotations)\n",
    "# 1012 ? maybe poly, maybe context neuron\n",
    "# 1500: num after +/-\n",
    "# 1501: food-related\n",
    "# 1505 Poly\n",
    "# 2506 Poly\n",
    "# l1 = 2e-4. Definitely some real features, but many many polysemantic ones\n",
    "N = 2506\n",
    "best_feature = int(max_indices[N])\n",
    "# best_feature = 1\n",
    "print(\"bias:\", smaller_auto_encoder.encoder_bias.detach().cpu().numpy()[best_feature])\n",
    "print(f\"Feature index: {best_feature}\")\n",
    "print(f\"MCS: {max_cosine_similarities[best_feature]}\")\n",
    "text_list, full_text, token_list, full_token_list = get_feature_datapoints(best_feature, dictionary_activations, dataset, setting=\"uniform\")\n",
    "# text_list, full_text, token_list, full_token_list = get_feature_datapoints(best_feature, dictionary_activations, dataset, setting=\"max\")\n",
    "visualize_text(full_text, best_feature, model)"
   ]
  },
  {
   "cell_type": "code",
   "execution_count": 184,
   "metadata": {},
   "outputs": [
    {
     "data": {
      "text/html": [
       "<div id=\"circuits-vis-1abcbd08-2525\" style=\"margin: 15px 0;\"/>\n",
       "    <script crossorigin type=\"module\">\n",
       "    import { render, TextNeuronActivations } from \"https://unpkg.com/circuitsvis@1.40.0/dist/cdn/esm.js\";\n",
       "    render(\n",
       "      \"circuits-vis-1abcbd08-2525\",\n",
       "      TextNeuronActivations,\n",
       "      {\"tokens\": [\"1\", \".\", \" Field\", \" of\", \" the\", \" Invention\", \"\\\\newline\", \"The\", \" present\", \" invention\", \" relates\", \" to\", \" an\", \" ear\", \"piece\", \"/\", \"wire\", \" organizer\", \" and\", \" method\", \" for\", \" using\", \" same\", \" to\", \" house\", \" and\", \" maintain\", \" wires\", \" in\", \" an\", \" unt\", \"angled\", \" manner\", \";\", \" and\", \"\\n\", \"Up\", \" to\", \" the\", \" immediate\", \" present\", \" 100\", \"-\", \"105\", \" exam\", \" cr\", \"am\", \"(\", \"1\", \"-\", \"13\", \")\", \"\\\\newline\", \"\\\\newline\", \"Question\", \" No\", \" :\", \" 1\", \" \\u2013\", \" (\", \"Topic\", \" 1\", \")\", \"\\\\newline\", \"Ref\", \"er\", \" to\", \"\\n\", \"M\", \"amm\", \"als\", \"\\\\newline\", \"\\\\newline\", \"More\", \" than\", \" 50\", \" mamm\", \"al\", \" species\", \" are\", \" found\", \" in\", \" Northern\", \" Virginia\", \";\", \" and\", \"\\n\", \"HU\", \"GH\", \"ES\", \"\\\\newline\", \",\", \"\\\\newline\", \"J\", \"OHN\", \" ED\", \"WARD\", \"\\\\newline\", \"(\", \"\\\\newline\", \"18\", \"79\", \"\\\\newline\", \"-\", \"\\\\newline\", \"1959\", \"\\\\newline\", \"),\", \"\\n\", \"Tuesday\", \",\", \" June\", \" 11\", \",\", \" 2013\", \"\\\\newline\", \"\\\\newline\", \"We\", \" have\", \" been\", \" sick\", \" and\", \" eating\", \" nothing\", \" accept\", \" por\", \"ridge\", \" for\", \" the\", \" past\", \" two\", \" weeks\", \" for\", \" each\", \" and\", \" every\", \" meal\", \"!\", \"\\\\newline\", \"\\\\newline\", \"L\", \"uck\", \"ily\", \"\\n\", \"JE\", \"FF\", \"ERSON\", \" COUNTY\", \"\\n\", \" /*\", \" fre\", \":\", \"ac\", \" -\", \" free\", \" audio\", \" converter\", \"\\\\newline\", \"  \", \"*\", \" Copyright\", \" (\", \"C\", \")\", \" 2001\", \"-\", \"2020\", \" Robert\", \" K\", \"aus\", \"ch\", \" <\", \"ro\", \"bert\", \".\", \"k\", \"aus\", \"ch\", \"\\n\", \"A\", \" Qual\", \"ified\", \" Writer\", \" Can\", \" Send\", \" Essays\", \" Written\", \" for\", \" You\", \"\\\\newline\", \"\\\\newline\", \"But\", \" the\", \" competition\", \" is\", \" extending\", \" right\", \" out\", \" to\", \" the\", \"\\n\", \"Built\", \" to\", \" Last\", \".\", \" Rel\", \"iable\", \" I\", \"rr\", \"igation\", \" Val\", \"ves\", \"\\\\newline\", \"\\\\newline\", \"Built\", \" to\", \"LAST\", \"\\\\newline\", \"\\\\newline\", \"Rel\", \"iable\", \" I\", \"rr\", \"igation\", \" Val\", \"ves\", \"\\\\newline\", \"\\\\newline\", \"From\", \" Res\", \"idential\", \" to\", \" Commercial\", \",\", \"\\n\", \"On\", \" jan\", \"uary\", \" 10\", \",\", \" Buzz\", \"feed\", \" posted\", \" a\", \" story\", \" under\", \" the\", \" by\", \"line\", \" of\", \" Ken\", \" B\", \"ens\", \"inger\", \",\", \" Mark\", \" Sch\", \"o\", \"ofs\", \" and\", \" Mir\", \"iam\", \" elder\", \" titled\", \" \\u201c\", \"these\", \" reports\", \" Al\", \"lege\", \" Trump\", \" Has\", \" Deep\", \" T\", \"ies\", \" To\", \"\\n\", \"A\", \" woman\", \" named\", \" \\u2018\", \"A\", \"a\", \"ish\", \"ah\", \",\", \" from\", \" Pakistan\", \",\", \" relates\", \" the\", \" following\", \" experience\", \":\", \"\\\\newline\", \"\\\\newline\", \"I\", \"\\n\"], \"activations\": [[[-0.015332579612731934]], [[0.008633971214294434]], [[0.10305142402648926]], [[0.01962888240814209]], [[-0.0038475990295410156]], [[0.0010770559310913086]], [[0.024819612503051758]], [[0.0716010332107544]], [[0.0637362003326416]], [[0.07805120944976807]], [[-0.1274491548538208]], [[-0.004706621170043945]], [[0.00760042667388916]], [[-0.006732463836669922]], [[-0.01891636848449707]], [[-0.020101308822631836]], [[-0.014730215072631836]], [[-0.03850841522216797]], [[-0.03170597553253174]], [[0.023276805877685547]], [[-0.008361220359802246]], [[-0.020546555519104004]], [[-0.035593509674072266]], [[-0.023409605026245117]], [[-0.04538750648498535]], [[-0.04314684867858887]], [[-0.08361101150512695]], [[-0.036072731018066406]], [[-0.06694698333740234]], [[-0.00849759578704834]], [[-0.03178548812866211]], [[-0.09396374225616455]], [[-0.13809335231781006]], [[-1.2740691900253296]], [[-1.0939395427703857]], [[0.0]], [[0.02201712131500244]], [[0.03913438320159912]], [[-0.010281205177307129]], [[0.011228680610656738]], [[0.0029363632202148438]], [[-0.0032848119735717773]], [[-0.0092620849609375]], [[0.007598519325256348]], [[-0.013831257820129395]], [[0.008987784385681152]], [[-0.003764033317565918]], [[-0.057917237281799316]], [[-0.0009400844573974609]], [[-0.013958930969238281]], [[-0.011288881301879883]], [[0.04068100452423096]], [[-0.03277575969696045]], [[-0.03277575969696045]], [[0.012150406837463379]], [[-0.0350567102432251]], [[-0.020572543144226074]], [[0.01943838596343994]], [[-0.012345314025878906]], [[-0.04726910591125488]], [[-0.029662251472473145]], [[0.024265408515930176]], [[0.06449878215789795]], [[-0.004088640213012695]], [[-0.2962508201599121]], [[-0.2886847257614136]], [[-1.0689342021942139]], [[0.0]], [[0.025140047073364258]], [[0.02244091033935547]], [[0.05330383777618408]], [[-0.02844393253326416]], [[-0.02844393253326416]], [[0.10751962661743164]], [[0.0482335090637207]], [[0.03413701057434082]], [[0.03158831596374512]], [[0.05633509159088135]], [[-0.02422034740447998]], [[0.0011917352676391602]], [[-0.0012067556381225586]], [[0.08260941505432129]], [[0.051080942153930664]], [[-0.125174880027771]], [[-0.9863802194595337]], [[-0.9863802194595337]], [[0.0]], [[-0.012354493141174316]], [[-0.022037744522094727]], [[0.01015174388885498]], [[-0.05446064472198486]], [[-0.041413187980651855]], [[-0.04033839702606201]], [[0.0006494522094726562]], [[-0.023759841918945312]], [[-0.010574102401733398]], [[-0.009671568870544434]], [[-0.015929698944091797]], [[-0.22887349128723145]], [[-0.015785694122314453]], [[0.02452695369720459]], [[-0.006067037582397461]], [[-0.004971504211425781]], [[-0.03355002403259277]], [[-0.0020467042922973633]], [[-0.2547295093536377]], [[-0.19730639457702637]], [[-0.8041650056838989]], [[0.0]], [[0.03765368461608887]], [[-0.003502964973449707]], [[-0.00345003604888916]], [[0.022669315338134766]], [[-0.001941084861755371]], [[0.010725259780883789]], [[-0.014797449111938477]], [[-0.014797449111938477]], [[-0.0009596347808837891]], [[-0.0035130977630615234]], [[-0.005003809928894043]], [[-0.03756976127624512]], [[-0.014464139938354492]], [[0.0061217546463012695]], [[-0.027400732040405273]], [[-0.01961195468902588]], [[-0.006016969680786133]], [[0.014742493629455566]], [[0.025458335876464844]], [[0.005354046821594238]], [[0.006436824798583984]], [[0.002350926399230957]], [[0.0037218332290649414]], [[0.0011936426162719727]], [[0.012270569801330566]], [[0.0032330751419067383]], [[-0.010375022888183594]], [[0.008518338203430176]], [[0.0011975765228271484]], [[0.024266481399536133]], [[0.024266481399536133]], [[0.19183611869812012]], [[-0.7060180902481079]], [[-0.7060180902481079]], [[0.0]], [[-0.5466216802597046]], [[-0.5466216802597046]], [[0.042986154556274414]], [[-0.5466216802597046]], [[0.0]], [[0.023511171340942383]], [[-0.01701807975769043]], [[-0.016110897064208984]], [[-0.008473873138427734]], [[-0.005526542663574219]], [[-0.004029989242553711]], [[0.008673429489135742]], [[0.01750016212463379]], [[-0.03168535232543945]], [[0.005995273590087891]], [[0.003469705581665039]], [[-0.0490262508392334]], [[-0.03820312023162842]], [[-0.0035562515258789062]], [[0.016641736030578613]], [[-0.016176342964172363]], [[0.008804082870483398]], [[0.00020551681518554688]], [[-0.012417316436767578]], [[0.044988393783569336]], [[-0.03373146057128906]], [[-0.06087827682495117]], [[-0.06598806381225586]], [[-0.011443257331848145]], [[-0.02793574333190918]], [[-0.3633924722671509]], [[-0.15060561895370483]], [[-0.49652135372161865]], [[-0.49652135372161865]], [[0.0]], [[-0.008395135402679443]], [[0.004718422889709473]], [[0.004200160503387451]], [[0.021950960159301758]], [[0.015221476554870605]], [[-0.010629355907440186]], [[-0.01937192678451538]], [[-0.011220753192901611]], [[-0.03613173961639404]], [[-0.025742709636688232]], [[-0.01684868335723877]], [[-0.01684868335723877]], [[-0.013164162635803223]], [[0.014273643493652344]], [[-0.10978436470031738]], [[-0.030912578105926514]], [[-0.1365135908126831]], [[0.011063992977142334]], [[-0.16202956438064575]], [[-0.2893507480621338]], [[-0.0837850570678711]], [[0.0]], [[0.0346066951751709]], [[-0.03077840805053711]], [[0.02177906036376953]], [[0.017387092113494873]], [[0.048575639724731445]], [[0.0012364983558654785]], [[-0.0049582719802856445]], [[0.013296663761138916]], [[0.01420968770980835]], [[0.014156103134155273]], [[0.01380610466003418]], [[0.0025168657302856445]], [[0.0025168657302856445]], [[0.010870039463043213]], [[0.006187081336975098]], [[0.014852821826934814]], [[-0.0011583566665649414]], [[-0.0011583566665649414]], [[0.026625394821166992]], [[0.003127872943878174]], [[-0.011867880821228027]], [[0.017832040786743164]], [[0.02028203010559082]], [[0.01959007978439331]], [[0.006427884101867676]], [[0.011806249618530273]], [[0.011806249618530273]], [[-0.13929319381713867]], [[0.053049564361572266]], [[0.015521109104156494]], [[-0.05238407850265503]], [[0.0019927024841308594]], [[-0.13929319381713867]], [[0.0]], [[-0.002983391284942627]], [[-0.030415475368499756]], [[-3.224611282348633e-05]], [[-0.021842539310455322]], [[-6.502866744995117e-05]], [[0.015174686908721924]], [[0.02264559268951416]], [[3.427267074584961e-05]], [[-0.006763100624084473]], [[-0.014260470867156982]], [[-0.004822432994842529]], [[-0.013680875301361084]], [[-0.021687805652618408]], [[0.002369999885559082]], [[0.003771841526031494]], [[-0.009007096290588379]], [[-0.007470428943634033]], [[0.014079153537750244]], [[0.0063599348068237305]], [[0.004066646099090576]], [[0.0050855278968811035]], [[-0.0018477439880371094]], [[0.006524860858917236]], [[0.027466237545013428]], [[-0.004873216152191162]], [[-0.023080289363861084]], [[0.024076998233795166]], [[0.0007030367851257324]], [[0.06633365154266357]], [[0.0028170347213745117]], [[0.037515103816986084]], [[0.017272889614105225]], [[-0.05494588613510132]], [[-0.0420377254486084]], [[-0.039543867111206055]], [[-0.11463826894760132]], [[0.15090662240982056]], [[-0.06922584772109985]], [[-0.11463826894760132]], [[-0.11463826894760132]], [[0.0]], [[0.0]], [[0.0]], [[0.0]], [[0.0]], [[0.0]], [[0.0]], [[0.0]], [[0.0]], [[0.0]], [[0.0]], [[0.0]], [[0.0]], [[0.0]], [[0.0]], [[0.0]], [[0.0]], [[0.0]], [[0.0]], [[0.0]], [[0.0]], [[0.0]]], \"firstDimensionName\": \"Layer\", \"secondDimensionName\": \"Neuron\"}\n",
       "    )\n",
       "    </script>"
      ],
      "text/plain": [
       "<circuitsvis.utils.render.RenderedHTML at 0x7f5d607a9360>"
      ]
     },
     "execution_count": 184,
     "metadata": {},
     "output_type": "execute_result"
    }
   ],
   "source": [
    "ablate_text(text_list, best_feature, model)"
   ]
  },
  {
   "cell_type": "code",
   "execution_count": 165,
   "metadata": {},
   "outputs": [
    {
     "data": {
      "text/html": [
       "<div id=\"circuits-vis-1c2d48c4-2c69\" style=\"margin: 15px 0;\"/>\n",
       "    <script crossorigin type=\"module\">\n",
       "    import { render, TextNeuronActivations } from \"https://unpkg.com/circuitsvis@1.40.0/dist/cdn/esm.js\";\n",
       "    render(\n",
       "      \"circuits-vis-1c2d48c4-2c69\",\n",
       "      TextNeuronActivations,\n",
       "      {\"tokens\": [\" Although\", \" more\", \" of\", \" a\", \" catalog\", \" than\", \" an\", \" actual\", \" store\", \",\", \" this\", \" is\", \" where\", \" I\", \" post\", \" the\", \" basic\", \" details\", \" of\", \" the\", \" props\", \" I\", \" want\", \" to\", \" sell\", \" to\", \" cos\", \"play\", \"ers\", \" who\", \" either\", \" don\", \"'t\", \" have\", \" the\", \" time\", \" or\", \" the\", \" resources\", \"\\n\", \":\", \"\\\\newline\", \"\\\\newline\", \"Best\", \" way\", \" to\", \" make\", \" mouse\", \" clicks\", \" not\", \" pass\", \" through\", \" disabled\", \" components\", \"?\", \"\\\\newline\", \"\\\\newline\", \"I\", \"'m\", \" using\", \" common\", \" windows\", \" controls\", \" such\", \" as\", \" \\\"\", \"BUT\", \"TON\", \"\\\"\", \" and\", \" \\\"\", \"EDIT\", \"\\\"\", \" for\", \" my\", \" application\", \".\", \" There\", \" are\", \"\\n\", \":\", \"\\\\newline\", \"\\\\newline\", \"Ill\", \"ustr\", \"ator\", \":\", \" How\", \" to\", \" accurately\", \" align\", \" shapes\", \"\\\\newline\", \"\\\\newline\", \"i\", \" didn\", \"'t\", \" really\", \" use\", \" Illustr\", \"ator\", \" before\", \",\", \" but\", \" i\", \"'m\", \" having\", \" troubles\", \" with\", \" some\", \" basic\", \" things\", \" such\", \" as\", \" align\", \"ing\", \" shapes\", \" together\", \" accurately\", \"\\n\", \" are\", \" the\", \" prospects\", \" for\", \" revolutionary\", \" politics\", \" in\", \" the\", \" era\", \" of\", \" COVID\", \"-\", \"19\", \"?\", \" Am\", \"id\", \" the\", \" destruction\", \",\", \" both\", \" human\", \" and\", \" economic\", \",\", \" some\", \" have\", \" struck\", \" an\", \" optimistic\", \" note\", \".\", \" Ben\", \" T\", \"arn\", \"off\", \",\", \" for\", \" instance\", \",\", \"\\n\", \":\", \"\\\\newline\", \"\\\\newline\", \"Does\", \" \\\"\", \"old\", \"\\\"\", \" literally\", \" mean\", \" \\\"\", \"old\", \"\\\"\", \" in\", \" this\", \" context\", \",\", \" or\", \" is\", \" it\", \" an\", \" intens\", \"ifier\", \"?\", \"\\\\newline\\\\newline\", \"\\u00a0\\u00a0\", \"  \", \"\\\"\", \"H\", \"aven\", \"'t\", \" I\", \" told\", \" you\", \" he\", \"'s\", \" not\", \" going\", \"?\\\"\", \" he\", \"\\n\", \" Wi\", \"-\", \"Fi\", \" monitors\", \" all\", \" have\", \" lower\", \" EM\", \"F\", \" readings\", \" than\", \" the\", \" dedicated\", \" options\", \" with\", \" the\", \" lowest\", \" average\", \" EM\", \"F\", \" readings\", \" being\", \" 0\", \".\", \"87\", \" for\", \" the\", \" Le\", \"Fun\", \" C\", \"2\", \" 720\", \"P\", \" Wi\", \"-\", \"Fi\", \" and\", \" 0\", \".\", \"\\n\", \" full\", \"-\", \"color\", \" interior\", \" and\", \" photographs\", \" mean\", \" that\", \" Vel\", \"o\", \"Press\", \" has\", \" released\", \" the\", \" e\", \"-\", \"book\", \" edition\", \" on\", \" iTunes\", \" only\", \".\", \" Because\", \" of\", \" the\", \" very\", \" costly\", \" and\", \" time\", \" consuming\", \" conversions\", \" required\", \" to\", \" re\", \"format\", \" the\", \" book\", \" to\", \" two\", \"\\n\", \":\", \"\\\\newline\", \"\\\\newline\", \"What\", \" does\", \" a\", \" number\", \" in\", \" a\", \" module\", \" name\", \" mean\", \" in\", \" Int\", \"ell\", \"ij\", \" IDE\", \"A\", \" project\", \" view\", \"?\", \"\\\\newline\", \"\\\\newline\", \"I\", \" believe\", \" that\", \" is\", \" \\\"\", \"static\", \" web\", \"\\\"\", \" module\", \".\", \"\\\\newline\", \"\\\\newline\", \"Please\", \" notice\", \" \\\"\", \"6\", \"\\n\", \"'s\", \" best\", \" for\", \" a\", \" one\", \" acre\", \" garden\", \"\\\\newline\", \"\\\\newline\", \"ve\", \"gg\", \"iev\", \"icki\", \"(\", \"7\", \"b\", \")\", \"November\", \" 24\", \",\", \" 2012\", \"\\\\newline\", \"\\\\newline\", \"Hub\", \"by\", \" and\", \" I\", \" are\", \" trying\", \" to\", \" figure\", \" out\", \" what\", \" to\", \" do\", \" for\", \" a\", \" large\", \" garden\", \"\\n\", \":\", \"\\\\newline\", \"\\\\newline\", \"Create\", \" a\", \" library\", \" without\", \" a\", \" class\", \"?\", \"\\\\newline\", \"\\\\newline\", \"I\", \"'d\", \" like\", \" to\", \" know\", \" if\", \" it\", \"'s\", \" possible\", \" to\", \" create\", \" a\", \" library\", \" for\", \" Ar\", \"duino\", \" that\", \" does\", \" not\", \" contain\", \" a\", \" class\", \",\", \" just\", \" functions\", \".\", \"\\\\newline\", \"\\n\", \"file\", \":\", \"Supp\", \"ress\", \"(\\\"\", \"NOT\", \"H\", \"ING\", \"_\", \"TO\", \"_\", \"INLINE\", \"\\\")\", \"\\\\newline\", \"\\\\newline\", \"package\", \" io\", \".\", \"kt\", \"or\", \".\", \"utils\", \".\", \"io\", \".\", \"bits\", \"\\\\newline\", \"\\\\newline\", \"import\", \" io\", \".\", \"kt\", \"or\", \".\", \"utils\", \".\", \"io\", \".\", \"core\", \"\\n\"], \"activations\": [[[0.0]], [[0.0002732276916503906]], [[-0.00024366378784179688]], [[0.01033782958984375]], [[0.007152557373046875]], [[0.00015473365783691406]], [[-0.004393815994262695]], [[0.007982969284057617]], [[0.0025568008422851562]], [[-0.006194114685058594]], [[-0.00027751922607421875]], [[-2.4318695068359375e-05]], [[0.0009846687316894531]], [[0.002594470977783203]], [[-0.0019159317016601562]], [[-0.0001652240753173828]], [[-0.0003829002380371094]], [[0.001589059829711914]], [[0.00046443939208984375]], [[-0.00015592575073242188]], [[0.0010404586791992188]], [[-0.00010228157043457031]], [[0.0001373291015625]], [[6.486475467681885e-05]], [[-8.630752563476562e-05]], [[0.0004837512969970703]], [[-0.004765510559082031]], [[-0.0005692243576049805]], [[-0.0015354752540588379]], [[0.0010886192321777344]], [[0.0005397796630859375]], [[-0.0016906261444091797]], [[-0.0006883144378662109]], [[-0.0007779598236083984]], [[0.03270113468170166]], [[0.03249359130859375]], [[0.01973402500152588]], [[-0.06307339668273926]], [[-0.007987499237060547]], [[0.0]], [[0.0]], [[8.009374141693115e-06]], [[0.0]], [[0.0]], [[0.0]], [[0.0]], [[0.0]], [[-0.0009279251098632812]], [[-0.002701282501220703]], [[-0.00026798248291015625]], [[0.0]], [[1.0087029933929443]], [[-0.03791046142578125]], [[-0.005947113037109375]], [[0.008284211158752441]], [[9.803473949432373e-05]], [[-3.0085444450378418e-05]], [[0.0006194114685058594]], [[-0.0001354217529296875]], [[-0.00267183780670166]], [[-0.0042095184326171875]], [[-0.0036249160766601562]], [[-0.0014100074768066406]], [[-0.0025386810302734375]], [[-3.333389759063721e-05]], [[-0.0015187263488769531]], [[-0.0025224685668945312]], [[-0.001328110694885254]], [[-0.00010895729064941406]], [[-0.000186920166015625]], [[3.510713577270508e-05]], [[-0.0011496543884277344]], [[-0.0002589225769042969]], [[-0.0004901885986328125]], [[0.0006017684936523438]], [[0.002953052520751953]], [[0.0002509951591491699]], [[0.0007905960083007812]], [[0.0015601515769958496]], [[0.0]], [[0.0]], [[-3.8370490074157715e-06]], [[0.0]], [[0.0]], [[0.0]], [[0.0]], [[-8.535385131835938e-05]], [[-3.0994415283203125e-05]], [[-2.6106834411621094e-05]], [[0.0]], [[0.0]], [[0.003105640411376953]], [[-0.0018129348754882812]], [[-0.00013475865125656128]], [[-0.0006427764892578125]], [[-6.866455078125e-05]], [[-1.4113262295722961e-05]], [[-0.0005908012390136719]], [[0.00016999244689941406]], [[0.26145410537719727]], [[-0.0002827094867825508]], [[0.07648992538452148]], [[-0.03569531440734863]], [[-0.006851077079772949]], [[0.021260380744934082]], [[-0.008406400680541992]], [[-0.006982088088989258]], [[0.010855674743652344]], [[-0.001446366310119629]], [[0.007065773010253906]], [[-0.0035638809204101562]], [[0.010949134826660156]], [[-0.0039789676666259766]], [[-1.0848045349121094e-05]], [[0.007660865783691406]], [[-0.0020140409469604492]], [[0.001630544662475586]], [[0.00020837783813476562]], [[0.000621795654296875]], [[0.0]], [[0.0]], [[1.2636184692382812e-05]], [[0.0]], [[-8.744001388549805e-05]], [[0.0020933151245117188]], [[-0.00020122528076171875]], [[0.0]], [[0.004808664321899414]], [[-0.0074901580810546875]], [[0.001160457730293274]], [[-0.011038780212402344]], [[0.0003485381603240967]], [[0.0]], [[-0.0001519620418548584]], [[0.00177764892578125]], [[-0.0006668567657470703]], [[-0.1993655562400818]], [[0.1928882598876953]], [[0.01727151870727539]], [[-0.09168672561645508]], [[0.024368762969970703]], [[0.00012201070785522461]], [[-0.0272982120513916]], [[0.017231076955795288]], [[-0.12752676010131836]], [[0.01787090301513672]], [[-0.0046596527099609375]], [[-0.008114337921142578]], [[0.020455121994018555]], [[-0.0026128292083740234]], [[-0.002028226852416992]], [[-0.00021266937255859375]], [[-0.0013585090637207031]], [[-0.0005941390991210938]], [[-0.00019884109497070312]], [[0.001605391502380371]], [[0.0008974075317382812]], [[0.0035712718963623047]], [[-0.00011795759201049805]], [[0.0]], [[0.0]], [[5.766749382019043e-06]], [[0.0]], [[0.0]], [[-0.00015974044799804688]], [[0.0]], [[-0.00032806396484375]], [[0.0]], [[0.0]], [[-0.043203502893447876]], [[-0.020819783210754395]], [[0.017231106758117676]], [[-0.019190311431884766]], [[0.0012345314025878906]], [[-1.9788742065429688e-05]], [[-0.023614883422851562]], [[-0.0033121109008789062]], [[-0.03135788440704346]], [[-0.0036249160766601562]], [[-0.009816408157348633]], [[0.0685129165649414]], [[0.00834953784942627]], [[-0.01189035177230835]], [[-0.0036497116088867188]], [[0.0001049041748046875]], [[-0.0003886222839355469]], [[0.07281017303466797]], [[0.0019431114196777344]], [[0.0016856193542480469]], [[-0.001102745532989502]], [[-0.004758119583129883]], [[-0.021314620971679688]], [[-1.8969178199768066e-05]], [[-0.008600234985351562]], [[-0.005626201629638672]], [[-0.00022470951080322266]], [[-0.0033910274505615234]], [[0.0058441162109375]], [[0.0010437965393066406]], [[0.0]], [[0.0]], [[0.0]], [[0.0]], [[0.0009546279907226562]], [[0.0001068115234375]], [[0.02830791473388672]], [[0.04237174987792969]], [[-0.013039588928222656]], [[0.0074367523193359375]], [[0.014055013656616211]], [[0.003986835479736328]], [[-0.008838415145874023]], [[0.015803813934326172]], [[0.02656078338623047]], [[-0.02609109878540039]], [[3.1948089599609375e-05]], [[-0.020309925079345703]], [[-0.0010781288146972656]], [[0.00719141960144043]], [[-8.50185751914978e-05]], [[0.004422634840011597]], [[-0.003840923309326172]], [[0.0025501251220703125]], [[-0.0003498643636703491]], [[-0.0005884170532226562]], [[0.000667572021484375]], [[0.003950595855712891]], [[0.0067844390869140625]], [[0.00096893310546875]], [[0.004200458526611328]], [[-0.0006885528564453125]], [[0.00019550323486328125]], [[0.003219127655029297]], [[0.02166748046875]], [[-4.039891064167023e-05]], [[2.9494985938072205e-06]], [[-0.0035042762756347656]], [[-0.0008494853973388672]], [[-2.5272369384765625e-05]], [[0.0]], [[0.0]], [[-0.005365133285522461]], [[-0.0010933876037597656]], [[-0.0019397735595703125]], [[-0.002274751663208008]], [[0.0031147003173828125]], [[0.0023288726806640625]], [[-0.10843110084533691]], [[0.008335113525390625]], [[0.008943796157836914]], [[0.006252288818359375]], [[-0.006993770599365234]], [[-0.005424976348876953]], [[-0.0015022754669189453]], [[0.01254129409790039]], [[0.0013823509216308594]], [[0.001488327980041504]], [[0.00801706314086914]], [[0.004580974578857422]], [[-0.01744842529296875]], [[-0.013132572174072266]], [[-0.005916953086853027]], [[0.005089282989501953]], [[0.0002536177635192871]], [[-0.006425976753234863]], [[0.0023279190063476562]], [[-0.02456951141357422]], [[0.009586334228515625]], [[0.0029938220977783203]], [[-0.0008257627487182617]], [[-0.00035190582275390625]], [[-0.01861095428466797]], [[-0.0038671493530273438]], [[-0.007008552551269531]], [[-0.0025873184204101562]], [[0.003506779670715332]], [[0.0002186298370361328]], [[0.008642196655273438]], [[0.004413604736328125]], [[0.0]], [[0.0]], [[2.987682819366455e-06]], [[0.0]], [[0.0]], [[2.1457672119140625e-06]], [[8.344650268554688e-06]], [[-0.0011873245239257812]], [[0.00023627281188964844]], [[0.0005984306335449219]], [[0.0007758140563964844]], [[0.0001583099365234375]], [[0.0025739669799804688]], [[0.014217615127563477]], [[0.021633148193359375]], [[0.0015503168106079102]], [[0.00038298964500427246]], [[0.03509807586669922]], [[0.027631163597106934]], [[0.02352619171142578]], [[0.018823623657226562]], [[-0.0027144402265548706]], [[0.001187741756439209]], [[-0.0004529878497123718]], [[0.0017943382263183594]], [[0.0023746490478515625]], [[0.0006375312805175781]], [[-0.001941680908203125]], [[0.0050506591796875]], [[0.0022363662719726562]], [[-0.0054988861083984375]], [[0.0010273456573486328]], [[-0.02083587646484375]], [[0.0021827220916748047]], [[-9.167194366455078e-05]], [[-0.0009012222290039062]], [[0.004678249359130859]], [[0.0006494522094726562]], [[-0.0018482208251953125]], [[0.0018491744995117188]], [[0.0]], [[0.0]], [[0.000141143798828125]], [[-0.030071377754211426]], [[0.0070934295654296875]], [[0.0023713111877441406]], [[0.0019521713256835938]], [[-0.0008788108825683594]], [[0.0025053024291992188]], [[-1.329183578491211e-05]], [[0.00043392181396484375]], [[0.0013420581817626953]], [[-0.00035762786865234375]], [[0.00140380859375]], [[0.00017833709716796875]], [[-0.0002570152282714844]], [[-0.0004100799560546875]], [[3.314018249511719e-05]], [[0.001636505126953125]], [[-0.0002803802490234375]], [[2.7760863304138184e-05]], [[-0.00011277198791503906]], [[1.3768672943115234e-05]], [[1.8008053302764893e-05]], [[-7.2479248046875e-05]], [[6.270408630371094e-05]], [[0.00010776519775390625]], [[-0.00011444091796875]], [[0.0003075599670410156]], [[0.0004558563232421875]], [[1.0251998901367188e-05]], [[0.0004737377166748047]], [[2.374500036239624e-05]], [[0.0003380775451660156]], [[0.0037469863891601562]], [[-3.695487976074219e-05]], [[0.0001232624053955078]], [[-0.0065888166427612305]], [[-0.01838207244873047]], [[-0.001745462417602539]], [[0.0]], [[0.0]], [[-3.21120023727417e-06]], [[0.0]], [[0.0]], [[2.384185791015625e-07]], [[0.0]], [[-4.100799560546875e-05]], [[-0.0001952648162841797]], [[-0.015413761138916016]], [[-0.009823799133300781]], [[7.964670658111572e-05]], [[-0.00020185112953186035]], [[-0.0002639293670654297]], [[-0.0002715587615966797]], [[-6.154179573059082e-06]], [[3.1463801860809326e-05]], [[-0.0004711151123046875]], [[-0.000209808349609375]], [[0.0008437633514404297]], [[-2.0623207092285156e-05]], [[-0.0019021034240722656]], [[-4.0590763092041016e-05]], [[-0.0007587671279907227]], [[-0.00020742416381835938]], [[0.0007074475288391113]], [[-0.0005040168762207031]], [[0.0005502700805664062]], [[-2.384185791015625e-05]], [[-0.0007171630859375]], [[0.0005197525024414062]], [[2.3126602172851562e-05]], [[0.003532886505126953]], [[0.029265642166137695]], [[0.023206591606140137]], [[0.0017205476760864258]], [[-0.007243633270263672]], [[-0.0003871917724609375]], [[-0.007964730262756348]], [[0.001179039478302002]], [[0.0]], [[0.0]], [[0.0]], [[0.0]], [[0.0]], [[0.0]], [[0.0]], [[0.0]], [[0.0]], [[0.0]], [[0.0]], [[0.0]], [[0.0]], [[0.0]], [[0.0]], [[0.0]], [[0.0]], [[0.0]], [[0.0]], [[0.0]], [[0.0]], [[0.0]], [[0.0]], [[0.0]], [[0.0]], [[0.0]], [[0.0]], [[0.0]], [[0.0]], [[0.0]], [[0.0]], [[0.0]], [[0.0]], [[0.0]], [[0.0]], [[0.0]], [[0.0]], [[0.0]], [[0.0]], [[0.0]], [[0.0]]], \"firstDimensionName\": \"Layer\", \"secondDimensionName\": \"Neuron\"}\n",
       "    )\n",
       "    </script>"
      ],
      "text/plain": [
       "<circuitsvis.utils.render.RenderedHTML at 0x7f5e3f14bdf0>"
      ]
     },
     "execution_count": 165,
     "metadata": {},
     "output_type": "execute_result"
    }
   ],
   "source": [
    "ablate_feature_direction_display(full_text, best_feature)"
   ]
  },
  {
   "cell_type": "code",
   "execution_count": 166,
   "metadata": {},
   "outputs": [
    {
     "name": "stdout",
     "output_type": "stream",
     "text": [
      "[' dancing', ' ones', ' anyway', 'standing', 'pered', ' sex', 'inea', 'arte', 'anza', ' standing', ' advent', ' singing', ' kissing', 'enance', ' looming', ' temptation', ' eating', ' naked', 'aucoup', 'roph']\n",
      "tensor([1.5851, 1.5664, 1.5380, 1.5162, 1.4991, 1.4883, 1.4554, 1.4353, 1.4333,\n",
      "        1.4072, 1.3887, 1.3843, 1.3665, 1.3641, 1.3605, 1.3585, 1.3564, 1.3544,\n",
      "        1.3537, 1.3528])\n"
     ]
    }
   ],
   "source": [
    "logit_lens(model,best_feature, smaller_dict, layer)"
   ]
  },
  {
   "cell_type": "code",
   "execution_count": 14,
   "metadata": {},
   "outputs": [
    {
     "data": {
      "text/html": [
       "<div id=\"circuits-vis-6e3a4684-f36c\" style=\"margin: 15px 0;\"/>\n",
       "    <script crossorigin type=\"module\">\n",
       "    import { render, TextNeuronActivations } from \"https://unpkg.com/circuitsvis@1.40.0/dist/cdn/esm.js\";\n",
       "    render(\n",
       "      \"circuits-vis-6e3a4684-f36c\",\n",
       "      TextNeuronActivations,\n",
       "      {\"tokens\": [\" Your\", \" text\", \" here\", \"\\n\"], \"activations\": [[[0.0]], [[0.0]], [[0.0]], [[0.0]]], \"firstDimensionName\": \"Layer\", \"secondDimensionName\": \"Neuron\"}\n",
       "    )\n",
       "    </script>"
      ],
      "text/plain": [
       "<circuitsvis.utils.render.RenderedHTML at 0x7fb7482dac20>"
      ]
     },
     "execution_count": 14,
     "metadata": {},
     "output_type": "execute_result"
    }
   ],
   "source": [
    "custom_text = [\n",
    "    \" Your text here\",\n",
    "]\n",
    "visualize_text(custom_text, best_feature, model)"
   ]
  },
  {
   "cell_type": "markdown",
   "metadata": {},
   "source": [
    "# Data Centric Viewpoint"
   ]
  },
  {
   "cell_type": "code",
   "execution_count": 19,
   "metadata": {},
   "outputs": [
    {
     "data": {
      "text/html": [
       "<div id=\"circuits-vis-b3f2704e-8a27\" style=\"margin: 15px 0;\"/>\n",
       "    <script crossorigin type=\"module\">\n",
       "    import { render, TextNeuronActivations } from \"https://unpkg.com/circuitsvis@1.40.0/dist/cdn/esm.js\";\n",
       "    render(\n",
       "      \"circuits-vis-b3f2704e-8a27\",\n",
       "      TextNeuronActivations,\n",
       "      {\"tokens\": [\"It\", \" is\", \" done\", \",\", \" and\", \" submitted\", \".\", \" You\", \" can\", \" play\", \" \\u201c\", \"Sur\", \"vival\", \" of\", \" the\", \" T\", \"ast\", \"iest\", \"\\u201d\", \" on\", \" Android\", \",\", \" and\", \" on\", \" the\", \"\\n\", \"It\", \" is\", \" done\", \",\", \" and\", \" submitted\", \".\", \" You\", \" can\", \" play\", \" \\u201c\", \"Sur\", \"vival\", \" of\", \" the\", \" T\", \"ast\", \"iest\", \"\\u201d\", \" on\", \" Android\", \",\", \" and\", \" on\", \" the\", \"\\n\", \"It\", \" is\", \" done\", \",\", \" and\", \" submitted\", \".\", \" You\", \" can\", \" play\", \" \\u201c\", \"Sur\", \"vival\", \" of\", \" the\", \" T\", \"ast\", \"iest\", \"\\u201d\", \" on\", \" Android\", \",\", \" and\", \" on\", \" the\", \"\\n\", \"It\", \" is\", \" done\", \",\", \" and\", \" submitted\", \".\", \" You\", \" can\", \" play\", \" \\u201c\", \"Sur\", \"vival\", \" of\", \" the\", \" T\", \"ast\", \"iest\", \"\\u201d\", \" on\", \" Android\", \",\", \" and\", \" on\", \" the\", \"\\n\", \"It\", \" is\", \" done\", \",\", \" and\", \" submitted\", \".\", \" You\", \" can\", \" play\", \" \\u201c\", \"Sur\", \"vival\", \" of\", \" the\", \" T\", \"ast\", \"iest\", \"\\u201d\", \" on\", \" Android\", \",\", \" and\", \" on\", \" the\", \"\\n\", \"It\", \" is\", \" done\", \",\", \" and\", \" submitted\", \".\", \" You\", \" can\", \" play\", \" \\u201c\", \"Sur\", \"vival\", \" of\", \" the\", \" T\", \"ast\", \"iest\", \"\\u201d\", \" on\", \" Android\", \",\", \" and\", \" on\", \" the\", \"\\n\", \"It\", \" is\", \" done\", \",\", \" and\", \" submitted\", \".\", \" You\", \" can\", \" play\", \" \\u201c\", \"Sur\", \"vival\", \" of\", \" the\", \" T\", \"ast\", \"iest\", \"\\u201d\", \" on\", \" Android\", \",\", \" and\", \" on\", \" the\", \"\\n\", \"It\", \" is\", \" done\", \",\", \" and\", \" submitted\", \".\", \" You\", \" can\", \" play\", \" \\u201c\", \"Sur\", \"vival\", \" of\", \" the\", \" T\", \"ast\", \"iest\", \"\\u201d\", \" on\", \" Android\", \",\", \" and\", \" on\", \" the\", \"\\n\", \"It\", \" is\", \" done\", \",\", \" and\", \" submitted\", \".\", \" You\", \" can\", \" play\", \" \\u201c\", \"Sur\", \"vival\", \" of\", \" the\", \" T\", \"ast\", \"iest\", \"\\u201d\", \" on\", \" Android\", \",\", \" and\", \" on\", \" the\", \"\\n\", \"It\", \" is\", \" done\", \",\", \" and\", \" submitted\", \".\", \" You\", \" can\", \" play\", \" \\u201c\", \"Sur\", \"vival\", \" of\", \" the\", \" T\", \"ast\", \"iest\", \"\\u201d\", \" on\", \" Android\", \",\", \" and\", \" on\", \" the\", \"\\n\"], \"activations\": [[[82.7564926147461]], [[0.41646838188171387]], [[0.0]], [[0.0]], [[0.0]], [[0.0]], [[149.81748962402344]], [[0.0]], [[0.0]], [[0.0]], [[0.0]], [[0.0]], [[0.0]], [[0.0]], [[0.0]], [[0.0]], [[0.0]], [[0.0]], [[0.0]], [[0.0]], [[0.0]], [[0.0]], [[0.0]], [[0.0]], [[0.0]], [[0.0]], [[62.884986877441406]], [[0.0]], [[0.4040207862854004]], [[0.0]], [[0.0]], [[0.0]], [[99.5608139038086]], [[0.5513043403625488]], [[0.0]], [[1.0399408340454102]], [[1.425760269165039]], [[4.947237968444824]], [[1.7392220497131348]], [[0.0]], [[0.0]], [[4.0198774337768555]], [[0.17562437057495117]], [[0.0]], [[0.0]], [[0.0]], [[3.941493034362793]], [[0.0]], [[0.0]], [[0.0]], [[0.0]], [[0.0]], [[17.318439483642578]], [[0.0]], [[0.0]], [[0.0]], [[0.0]], [[0.0]], [[0.0]], [[0.0]], [[0.0]], [[0.0]], [[0.0]], [[0.0]], [[0.0]], [[0.0]], [[0.0]], [[0.0]], [[0.0]], [[0.0]], [[0.0]], [[0.0]], [[0.0]], [[0.0]], [[0.0]], [[0.0]], [[0.0]], [[0.0]], [[0.9275326728820801]], [[0.6468110084533691]], [[0.10458612442016602]], [[0.0]], [[0.0]], [[0.0]], [[0.0]], [[0.0]], [[0.0]], [[0.0]], [[0.0]], [[0.0]], [[0.0]], [[0.0]], [[0.0]], [[0.11562681198120117]], [[1.100588321685791]], [[1.7711853981018066]], [[1.5439908504486084]], [[0.3038226366043091]], [[0.3253086805343628]], [[0.6628274917602539]], [[0.5560286045074463]], [[0.3502471446990967]], [[0.4706670045852661]], [[0.0]], [[0.8721731901168823]], [[0.0]], [[0.0]], [[0.0]], [[0.0]], [[0.0]], [[0.0]], [[0.0]], [[0.0]], [[0.0]], [[0.0]], [[0.0]], [[0.0]], [[0.0]], [[0.0]], [[0.0]], [[0.0]], [[0.0]], [[0.0]], [[0.0]], [[0.0]], [[0.0]], [[0.0]], [[0.0]], [[0.0]], [[0.0]], [[0.8246186971664429]], [[0.4927572011947632]], [[0.3002433776855469]], [[0.4912317991256714]], [[0.18886053562164307]], [[0.0]], [[0.0]], [[0.0]], [[0.0]], [[0.0]], [[0.0]], [[0.0]], [[0.0]], [[0.0]], [[0.0]], [[0.0]], [[0.0]], [[0.0]], [[0.0]], [[0.0]], [[0.0]], [[0.0]], [[0.0]], [[0.0]], [[0.0]], [[0.0]], [[0.7436568737030029]], [[1.5422230958938599]], [[1.4640122652053833]], [[1.782070279121399]], [[0.8627933263778687]], [[0.32637345790863037]], [[0.0]], [[0.30792057514190674]], [[0.15409982204437256]], [[0.10886752605438232]], [[0.06799399852752686]], [[0.40450000762939453]], [[0.0]], [[0.37047338485717773]], [[0.009954333305358887]], [[0.0]], [[0.0619814395904541]], [[0.20380747318267822]], [[0.0]], [[0.0]], [[0.0]], [[0.0]], [[0.0]], [[0.0]], [[0.4360116720199585]], [[0.0]], [[0.557902455329895]], [[1.4583653211593628]], [[0.36010468006134033]], [[0.2150031328201294]], [[0.0]], [[0.0]], [[0.0]], [[0.0]], [[0.0]], [[0.0]], [[0.0]], [[0.0]], [[0.0]], [[0.0]], [[0.0]], [[0.0]], [[0.0]], [[0.0]], [[0.0]], [[0.0]], [[0.0]], [[0.0]], [[0.0]], [[0.0]], [[0.0]], [[0.0]], [[0.47024083137512207]], [[0.0]], [[0.0]], [[0.0]], [[0.0]], [[0.0]], [[0.0]], [[0.0]], [[0.0]], [[0.0]], [[0.0]], [[0.0]], [[0.0]], [[0.0]], [[0.0]], [[0.0]], [[0.0]], [[0.0]], [[0.0]], [[0.0]], [[0.0]], [[0.0]], [[0.0]], [[0.0]], [[0.0]], [[0.0]], [[0.3076235055923462]], [[0.0]], [[0.0]], [[0.0]], [[0.0]], [[0.0]], [[0.0]], [[0.0]], [[0.0]], [[0.0]], [[0.0]], [[0.0]], [[0.0]], [[0.0]], [[0.3168461322784424]], [[0.1124265193939209]], [[3.23787784576416]], [[1.5314109325408936]], [[0.0]], [[0.0]], [[0.0]], [[0.0]], [[0.0]], [[0.0]], [[0.0]], [[0.0]]], \"firstDimensionName\": \"Layer\", \"secondDimensionName\": \"Neuron\"}\n",
       "    )\n",
       "    </script>"
      ],
      "text/plain": [
       "<circuitsvis.utils.render.RenderedHTML at 0x7fb6601fad10>"
      ]
     },
     "execution_count": 19,
     "metadata": {},
     "output_type": "execute_result"
    }
   ],
   "source": [
    "# Go through datapoints & see if the features that activate on them make sense.\n",
    "d_point = 0\n",
    "# text = tokens_dataset[d_point]\n",
    "data_ind, sequence_pos = np.unravel_index(d_point, (datapoints, token_amount))\n",
    "feature_val, feature_ind = dictionary_activations[d_point].topk(10)\n",
    "data_ind = int(data_ind)\n",
    "sequence_pos = int(sequence_pos)\n",
    "full_tok = torch.tensor(dataset[data_ind][\"input_ids\"])\n",
    "full_text = []\n",
    "full_text.append(model.tokenizer.decode(full_tok))\n",
    "visualize_text(full_text, feature_ind, model)"
   ]
  },
  {
   "cell_type": "markdown",
   "metadata": {},
   "source": [
    "# Check the neuron/residual basis\n",
    "When we look at the weights of a feature, we are seeing the literal dimensions from the residual stream/neurons being read from the feature. \n",
    "\n",
    "Here I'm visualizing the weight values for the residual stream. If there are outliers, then it's mainly reading from that dimension."
   ]
  },
  {
   "cell_type": "code",
   "execution_count": 20,
   "metadata": {},
   "outputs": [
    {
     "data": {
      "image/png": "[encoded data removed]",
      "text/plain": [
       "<Figure size 640x480 with 1 Axes>"
      ]
     },
     "metadata": {},
     "output_type": "display_data"
    }
   ],
   "source": [
    "# Check features non-zero weights in decoder\n",
    "# Plot a histogram of the weights\n",
    "max_activation = dictionary_activations[:, best_feature].max()\n",
    "weights = smaller_dict[best_feature]\n",
    "plt.hist(weights, bins=100)\n",
    "plt.show()"
   ]
  },
  {
   "cell_type": "code",
   "execution_count": 21,
   "metadata": {},
   "outputs": [
    {
     "data": {
      "text/plain": [
       "(torch.return_types.topk(\n",
       " values=tensor([0.4587, 0.4407, 0.4183, 0.4015, 0.3814, 0.3496, 0.3330, 0.3156, 0.2968,\n",
       "         0.2948, 0.2846, 0.2781, 0.2736, 0.2714, 0.2680, 0.2593, 0.2587, 0.2563,\n",
       "         0.2554, 0.2505]),\n",
       " indices=tensor([478, 436,  98, 321,  87, 458, 230, 464, 129,  31, 137, 377, 263, 401,\n",
       "         291,  92, 132,  56, 109, 246])),\n",
       " tensor([-0.3796, -0.3700, -0.3456, -0.3286, -0.3197, -0.3164, -0.3107, -0.3015,\n",
       "         -0.3011, -0.3000, -0.2976, -0.2964, -0.2894, -0.2886, -0.2828, -0.2822,\n",
       "         -0.2763, -0.2675, -0.2606, -0.2588]),\n",
       " tensor(39))"
      ]
     },
     "execution_count": 21,
     "metadata": {},
     "output_type": "execute_result"
    }
   ],
   "source": [
    "(weights*max_activation).topk(20), (weights*max_activation).topk(20, largest=False).values, (weights*max_activation > 0.2).sum()"
   ]
  },
  {
   "cell_type": "markdown",
   "metadata": {},
   "source": [
    "# Prepend/Append tokens\n",
    "We can iterate over all tokens to check which ones activate a feature a lot to more rigorously test a hypothesis on what a feature means.\n",
    "\n",
    "Note: I'm literately running the model through all 50k tokens prepended to the text here"
   ]
  },
  {
   "cell_type": "code",
   "execution_count": 22,
   "metadata": {},
   "outputs": [
    {
     "name": "stdout",
     "output_type": "stream",
     "text": [
      "[token]\n",
      "Top-20 increasing: ['1', ')', '#', '/', '+', \"'\", '2', '<|padding|>', '*', '$', '.', ',', '&', '0', '\"', '(', '<|endoftext|>', '!', '%', '-']\n",
      "Top-20 increasing: ['0.00', '0.00', '0.00', '0.00', '0.00', '0.00', '0.00', '0.00', '0.00', '0.00', '0.00', '0.00', '0.00', '0.00', '0.00', '0.00', '0.00', '0.00', '0.00', '0.00']\n",
      "Top-20 decreasing: ['1', ')', '#', '/', '+', \"'\", '2', '<|padding|>', '*', '$', '.', ',', '&', '0', '\"', '(', '<|endoftext|>', '!', '%', '-']\n",
      "Top-20 decreasing: ['0.00', '0.00', '0.00', '0.00', '0.00', '0.00', '0.00', '0.00', '0.00', '0.00', '0.00', '0.00', '0.00', '0.00', '0.00', '0.00', '0.00', '0.00', '0.00', '0.00']\n",
      "Number of 0 activations: 50304\n",
      "<|endoftext|>[token]\n",
      "Top-20 increasing: [' a', '#', '1', ')', '/', \"'\", '2', '<|padding|>', '$', '*', '+', '.', '&', '0', '\"', '(', ',', '<|endoftext|>', '!', '%']\n",
      "Top-20 increasing: ['0.11', '0.00', '0.00', '0.00', '0.00', '0.00', '0.00', '0.00', '0.00', '0.00', '0.00', '0.00', '0.00', '0.00', '0.00', '0.00', '0.00', '0.00', '0.00', '0.00']\n",
      "Top-20 decreasing: ['1', ')', '#', '/', '+', \"'\", '2', '<|padding|>', '*', '$', '.', ',', '&', '0', '\"', '(', '<|endoftext|>', '!', '%', '-']\n",
      "Top-20 decreasing: ['0.00', '0.00', '0.00', '0.00', '0.00', '0.00', '0.00', '0.00', '0.00', '0.00', '0.00', '0.00', '0.00', '0.00', '0.00', '0.00', '0.00', '0.00', '0.00', '0.00']\n",
      "Number of 0 activations: 50303\n",
      "<|endoftext|> a[token]\n",
      "Top-20 increasing: ['1', ')', '#', '/', '+', \"'\", '2', '<|padding|>', '*', '$', '.', ',', '&', '0', '\"', '(', '<|endoftext|>', '!', '%', '-']\n",
      "Top-20 increasing: ['0.00', '0.00', '0.00', '0.00', '0.00', '0.00', '0.00', '0.00', '0.00', '0.00', '0.00', '0.00', '0.00', '0.00', '0.00', '0.00', '0.00', '0.00', '0.00', '0.00']\n",
      "Top-20 decreasing: ['1', ')', '#', '/', '+', \"'\", '2', '<|padding|>', '*', '$', '.', ',', '&', '0', '\"', '(', '<|endoftext|>', '!', '%', '-']\n",
      "Top-20 decreasing: ['0.00', '0.00', '0.00', '0.00', '0.00', '0.00', '0.00', '0.00', '0.00', '0.00', '0.00', '0.00', '0.00', '0.00', '0.00', '0.00', '0.00', '0.00', '0.00', '0.00']\n",
      "Number of 0 activations: 50304\n"
     ]
    }
   ],
   "source": [
    "def prepend_all_tokens_and_get_feature_activation(model, minimal_activating_example, feature, setting=\"prepend\"):\n",
    "    tokens = model.to_tokens(minimal_activating_example, prepend_bos=False)\n",
    "\n",
    "    # Run through every number up to vocab size\n",
    "    vocab_size = model.cfg.d_vocab\n",
    "    batch_size = 256*2 # Define your desired batch size\n",
    "\n",
    "    dollar_feature_activations = torch.zeros(vocab_size)\n",
    "    for start in range(0, vocab_size, batch_size):\n",
    "        end = min(start + batch_size, vocab_size)\n",
    "\n",
    "        token_prep = torch.arange(start, end).to(device)\n",
    "        token_prep = token_prep.unsqueeze(1)  # Add a dimension for concatenation\n",
    "\n",
    "        # 1. Prepend to the tokens\n",
    "        if setting == \"prepend\":\n",
    "            tokens_catted = torch.cat((token_prep, tokens.repeat(end - start, 1)), dim=1).long()\n",
    "        elif setting == \"append\":\n",
    "            tokens_catted = torch.cat((tokens.repeat(end - start, 1), token_prep), dim=1).long()\n",
    "        else:\n",
    "            raise ValueError(f\"Unknown setting: {setting}\")\n",
    "\n",
    "        # 2. Run through the model\n",
    "        with torch.no_grad():\n",
    "            _, cache = model.run_with_cache(tokens_catted.to(device))\n",
    "            neuron_act_batch = cache[cache_name]\n",
    "            _, act = smaller_auto_encoder(neuron_act_batch)\n",
    "\n",
    "        # 3. Get the feature\n",
    "        dollar_feature_activations[start:end] = act[:, -1, feature].cpu().squeeze()\n",
    "\n",
    "    k = 20\n",
    "    k_increasing_val, k_increasing_ind = dollar_feature_activations.topk(k)\n",
    "    k_decreasing_val, k_decreasing_ind = dollar_feature_activations.topk(k, largest=False)\n",
    "    if(setting == \"prepend\"):\n",
    "        print(f\"[token]{minimal_activating_example}\")\n",
    "    elif(setting == \"append\"):\n",
    "        print(f\"{minimal_activating_example}[token]\")\n",
    "    else:\n",
    "        raise ValueError(f\"Unknown setting: {setting}\")\n",
    "    # Print indices converted to tokens\n",
    "    print(f\"Top-{k} increasing: {model.to_str_tokens(k_increasing_ind)}\")\n",
    "    # Print values\n",
    "    print(f\"Top-{k} increasing: {[f'{val:.2f}' for val in k_increasing_val]}\")\n",
    "    print(f\"Top-{k} decreasing: {model.to_str_tokens(k_decreasing_ind)}\")\n",
    "    print(f\"Top-{k} decreasing: {[f'{val:.2f}' for val in k_decreasing_val]}\")\n",
    "    print(f\"Number of 0 activations: {torch.sum(dollar_feature_activations == 0)}\")\n",
    "    if(setting == \"prepend\"):\n",
    "        best_text = \"\".join(model.to_str_tokens(dollar_feature_activations.argmax()) + [minimal_activating_example])\n",
    "    else:\n",
    "        best_text = \"\".join([minimal_activating_example] + model.to_str_tokens(dollar_feature_activations.argmax()))\n",
    "    return best_text\n",
    "\n",
    "best_text = \"\"\n",
    "for x in range(3):\n",
    "    # best_text = prepend_all_tokens_and_get_feature_activation(model, best_text, best_feature, setting=\"prepend\")\n",
    "    best_text = prepend_all_tokens_and_get_feature_activation(model, best_text, best_feature, setting=\"append\")\n",
    "# prepend_all_tokens_and_get_feature_activation(model, \" for all $\", best_feature, setting=\"prepend\")\n",
    "# prepend_all_tokens_and_get_feature_activation(model, \" tree\", best_feature, setting=\"prepend\")\n",
    "# prepend_all_tokens_and_get_feature_activation(model, \" tree\", best_feature, setting=\"append\")"
   ]
  },
  {
   "cell_type": "code",
   "execution_count": 23,
   "metadata": {},
   "outputs": [
    {
     "name": "stdout",
     "output_type": "stream",
     "text": [
      "[token]\n",
      "Top-20 increasing: ['1', ')', '#', '/', '+', \"'\", '2', '<|padding|>', '*', '$', '.', ',', '&', '0', '\"', '(', '<|endoftext|>', '!', '%', '-']\n",
      "Top-20 increasing: ['0.00', '0.00', '0.00', '0.00', '0.00', '0.00', '0.00', '0.00', '0.00', '0.00', '0.00', '0.00', '0.00', '0.00', '0.00', '0.00', '0.00', '0.00', '0.00', '0.00']\n",
      "Top-20 decreasing: ['1', ')', '#', '/', '+', \"'\", '2', '<|padding|>', '*', '$', '.', ',', '&', '0', '\"', '(', '<|endoftext|>', '!', '%', '-']\n",
      "Top-20 decreasing: ['0.00', '0.00', '0.00', '0.00', '0.00', '0.00', '0.00', '0.00', '0.00', '0.00', '0.00', '0.00', '0.00', '0.00', '0.00', '0.00', '0.00', '0.00', '0.00', '0.00']\n",
      "Number of 0 activations: 50304\n",
      "[token]<|endoftext|>\n",
      "Top-20 increasing: ['1', ')', '#', '/', '+', \"'\", '2', '<|padding|>', '*', '$', '.', ',', '&', '0', '\"', '(', '<|endoftext|>', '!', '%', '-']\n",
      "Top-20 increasing: ['0.00', '0.00', '0.00', '0.00', '0.00', '0.00', '0.00', '0.00', '0.00', '0.00', '0.00', '0.00', '0.00', '0.00', '0.00', '0.00', '0.00', '0.00', '0.00', '0.00']\n",
      "Top-20 decreasing: ['1', ')', '#', '/', '+', \"'\", '2', '<|padding|>', '*', '$', '.', ',', '&', '0', '\"', '(', '<|endoftext|>', '!', '%', '-']\n",
      "Top-20 decreasing: ['0.00', '0.00', '0.00', '0.00', '0.00', '0.00', '0.00', '0.00', '0.00', '0.00', '0.00', '0.00', '0.00', '0.00', '0.00', '0.00', '0.00', '0.00', '0.00', '0.00']\n",
      "Number of 0 activations: 50304\n",
      "[token]<|endoftext|><|endoftext|>\n",
      "Top-20 increasing: ['1', ')', '#', '/', '+', \"'\", '2', '<|padding|>', '*', '$', '.', ',', '&', '0', '\"', '(', '<|endoftext|>', '!', '%', '-']\n",
      "Top-20 increasing: ['0.00', '0.00', '0.00', '0.00', '0.00', '0.00', '0.00', '0.00', '0.00', '0.00', '0.00', '0.00', '0.00', '0.00', '0.00', '0.00', '0.00', '0.00', '0.00', '0.00']\n",
      "Top-20 decreasing: ['1', ')', '#', '/', '+', \"'\", '2', '<|padding|>', '*', '$', '.', ',', '&', '0', '\"', '(', '<|endoftext|>', '!', '%', '-']\n",
      "Top-20 decreasing: ['0.00', '0.00', '0.00', '0.00', '0.00', '0.00', '0.00', '0.00', '0.00', '0.00', '0.00', '0.00', '0.00', '0.00', '0.00', '0.00', '0.00', '0.00', '0.00', '0.00']\n",
      "Number of 0 activations: 50304\n"
     ]
    }
   ],
   "source": [
    "best_text = \"\"\n",
    "for x in range(3):\n",
    "    best_text = prepend_all_tokens_and_get_feature_activation(model, best_text, best_feature, setting=\"prepend\")"
   ]
  },
  {
   "cell_type": "code",
   "execution_count": 24,
   "metadata": {},
   "outputs": [
    {
     "name": "stdout",
     "output_type": "stream",
     "text": [
      "[token] for all $\n",
      "Top-20 increasing: ['1', ')', '#', '/', '+', \"'\", '2', '<|padding|>', '*', '$', '.', ',', '&', '0', '\"', '(', '<|endoftext|>', '!', '%', '-']\n",
      "Top-20 increasing: ['0.00', '0.00', '0.00', '0.00', '0.00', '0.00', '0.00', '0.00', '0.00', '0.00', '0.00', '0.00', '0.00', '0.00', '0.00', '0.00', '0.00', '0.00', '0.00', '0.00']\n",
      "Top-20 decreasing: ['1', ')', '#', '/', '+', \"'\", '2', '<|padding|>', '*', '$', '.', ',', '&', '0', '\"', '(', '<|endoftext|>', '!', '%', '-']\n",
      "Top-20 decreasing: ['0.00', '0.00', '0.00', '0.00', '0.00', '0.00', '0.00', '0.00', '0.00', '0.00', '0.00', '0.00', '0.00', '0.00', '0.00', '0.00', '0.00', '0.00', '0.00', '0.00']\n",
      "Number of 0 activations: 50304\n"
     ]
    },
    {
     "data": {
      "text/plain": [
       "'<|endoftext|> for all $'"
      ]
     },
     "execution_count": 24,
     "metadata": {},
     "output_type": "execute_result"
    }
   ],
   "source": [
    "prepend_all_tokens_and_get_feature_activation(model, \" for all $\", best_feature, setting=\"prepend\")\n",
    "# prepend_all_tokens_and_get_feature_activation(model, \"The\", best_feature, setting=\"append\")\n",
    "# prepend_all_tokens_and_get_feature_activation(model, \" tree\", best_feature, setting=\"append\")"
   ]
  }
 ],
 "metadata": {
  "kernelspec": {
   "display_name": "Python 3",
   "language": "python",
   "name": "python3"
  },
  "language_info": {
   "codemirror_mode": {
    "name": "ipython",
    "version": 3
   },
   "file_extension": ".py",
   "mimetype": "text/x-python",
   "name": "python",
   "nbconvert_exporter": "python",
   "pygments_lexer": "ipython3",
   "version": "3.10.6"
  },
  "orig_nbformat": 4
 },
 "nbformat": 4,
 "nbformat_minor": 2
}
