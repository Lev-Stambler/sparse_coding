{
 "cells": [
  {
   "cell_type": "code",
   "execution_count": 1,
   "metadata": {},
   "outputs": [],
   "source": [
    "from huggingface_hub import hf_hub_download\n",
    "import torch\n",
    "\n",
    "device = torch.device(\"cuda\" if torch.cuda.is_available() else \"cpu\")"
   ]
  },
  {
   "cell_type": "code",
   "execution_count": 2,
   "metadata": {},
   "outputs": [],
   "source": [
    "from scipy.optimize import linear_sum_assignment\n",
    "import matplotlib.pyplot as plt\n",
    "import numpy as np"
   ]
  },
  {
   "cell_type": "code",
   "execution_count": 3,
   "metadata": {},
   "outputs": [
    {
     "name": "stdout",
     "output_type": "stream",
     "text": [
      "Loaded pretrained model EleutherAI/pythia-70m-deduped into HookedTransformer\n"
     ]
    }
   ],
   "source": [
    "from transformer_lens import HookedTransformer\n",
    "model_name = \"EleutherAI/pythia-70m-deduped\"\n",
    "\n",
    "model = HookedTransformer.from_pretrained(model_name, device=device)"
   ]
  },
  {
   "cell_type": "code",
   "execution_count": 4,
   "metadata": {},
   "outputs": [
    {
     "name": "stderr",
     "output_type": "stream",
     "text": [
      "Found cached dataset parquet (/home/lev/.cache/huggingface/datasets/JeanKaddour___parquet/JeanKaddour--minipile-0d7d2d1ff79d1d36/0.0.0/2a3b91fbd88a2c90d1dbbb32b460cf621d31bd5b05b934492fdef7d8d6f236ec)\n",
      "Loading cached processed dataset at /home/lev/.cache/huggingface/datasets/JeanKaddour___parquet/JeanKaddour--minipile-0d7d2d1ff79d1d36/0.0.0/2a3b91fbd88a2c90d1dbbb32b460cf621d31bd5b05b934492fdef7d8d6f236ec/cache-ad2ecfd158f710eb.arrow\n",
      "Loading cached processed dataset at /home/lev/.cache/huggingface/datasets/JeanKaddour___parquet/JeanKaddour--minipile-0d7d2d1ff79d1d36/0.0.0/2a3b91fbd88a2c90d1dbbb32b460cf621d31bd5b05b934492fdef7d8d6f236ec/cache-d173f762c78db5b8.arrow\n",
      "Loading cached processed dataset at /home/lev/.cache/huggingface/datasets/JeanKaddour___parquet/JeanKaddour--minipile-0d7d2d1ff79d1d36/0.0.0/2a3b91fbd88a2c90d1dbbb32b460cf621d31bd5b05b934492fdef7d8d6f236ec/cache-bd49b6b2e3856158.arrow\n"
     ]
    }
   ],
   "source": [
    "# Downnload dataset\n",
    "from datasets import Dataset, load_dataset\n",
    "dataset_name = \"JeanKaddour/minipile\"\n",
    "token_amount= 40\n",
    "#TODO: change train[:1000] to train if you want whole dataset\n",
    "# 100_000 datasets\n",
    "# I think that we want to use the full 100_000 at some point...\n",
    "# dataset = load_dataset(dataset_name, split=\"train[:100000]\").map(\n",
    "dataset = load_dataset(dataset_name, split=\"train[:10000]\").map( # 1_000 to get started\n",
    "    lambda x: model.tokenizer(x['text']),\n",
    "    batched=True,\n",
    ").filter(\n",
    "    lambda x: len(x['input_ids']) > token_amount\n",
    ").map(\n",
    "    lambda x: {'input_ids': x['input_ids'][:token_amount]}\n",
    ")\n",
    "# TODO: we can maybe make this faster for the larger dataset?"
   ]
  },
  {
   "cell_type": "code",
   "execution_count": 5,
   "metadata": {},
   "outputs": [],
   "source": [
    "setting = \"residual\"\n",
    "\n",
    "def get_cache_name_neurons(layer: int):\n",
    "    if setting == \"residual\":\n",
    "        cache_name = f\"blocks.{layer}.hook_resid_post\"\n",
    "        neurons = model.cfg.d_model\n",
    "    elif setting == \"mlp\":\n",
    "        cache_name = f\"blocks.{layer}.mlp.hook_post\"\n",
    "        neurons = model.cfg.d_mlp\n",
    "    elif setting == \"attention\":\n",
    "        cache_name = f\"blocks.{layer}.hook_attn_out\"\n",
    "        neurons = model.cfg.d_model\n",
    "    elif setting == \"mlp_out\":\n",
    "        cache_name = f\"blocks.{layer}.hook_mlp_out\"\n",
    "        neurons = model.cfg.d_model\n",
    "    else:\n",
    "        raise NotImplementedError\n",
    "    return cache_name, neurons"
   ]
  },
  {
   "cell_type": "code",
   "execution_count": 6,
   "metadata": {},
   "outputs": [
    {
     "data": {
      "text/plain": [
       "(512, 6)"
      ]
     },
     "execution_count": 6,
     "metadata": {},
     "output_type": "execute_result"
    }
   ],
   "source": [
    "n_layers = model.cfg.n_layers\n",
    "model.cfg.d_model, n_layers"
   ]
  },
  {
   "cell_type": "markdown",
   "metadata": {},
   "source": [
    "# Get Dictionary Activations"
   ]
  },
  {
   "cell_type": "code",
   "execution_count": 7,
   "metadata": {},
   "outputs": [
    {
     "data": {
      "application/vnd.jupyter.widget-view+json": {
       "model_id": "c0370e8dc1674a9d9a9fa2c0510021ac",
       "version_major": 2,
       "version_minor": 0
      },
      "text/plain": [
       "  0%|          | 0/310 [00:00<?, ?it/s]"
      ]
     },
     "metadata": {},
     "output_type": "display_data"
    },
    {
     "data": {
      "application/vnd.jupyter.widget-view+json": {
       "model_id": "16a0c1d1c75d4c04bc005cc6f4c6bfca",
       "version_major": 2,
       "version_minor": 0
      },
      "text/plain": [
       "  0%|          | 0/310 [00:00<?, ?it/s]"
      ]
     },
     "metadata": {},
     "output_type": "display_data"
    },
    {
     "data": {
      "application/vnd.jupyter.widget-view+json": {
       "model_id": "499420aa3a844ec096b15311a169a6ec",
       "version_major": 2,
       "version_minor": 0
      },
      "text/plain": [
       "  0%|          | 0/310 [00:00<?, ?it/s]"
      ]
     },
     "metadata": {},
     "output_type": "display_data"
    },
    {
     "data": {
      "application/vnd.jupyter.widget-view+json": {
       "model_id": "ea7a547bf4494a958c83f3a9180b86b7",
       "version_major": 2,
       "version_minor": 0
      },
      "text/plain": [
       "  0%|          | 0/310 [00:00<?, ?it/s]"
      ]
     },
     "metadata": {},
     "output_type": "display_data"
    },
    {
     "data": {
      "application/vnd.jupyter.widget-view+json": {
       "model_id": "29ec0876ba494f7284178ab446c3fc45",
       "version_major": 2,
       "version_minor": 0
      },
      "text/plain": [
       "  0%|          | 0/310 [00:00<?, ?it/s]"
      ]
     },
     "metadata": {},
     "output_type": "display_data"
    },
    {
     "ename": "KeyboardInterrupt",
     "evalue": "",
     "output_type": "error",
     "traceback": [
      "\u001b[0;31m---------------------------------------------------------------------------\u001b[0m",
      "\u001b[0;31mKeyboardInterrupt\u001b[0m                         Traceback (most recent call last)",
      "Cell \u001b[0;32mIn[7], line 31\u001b[0m\n\u001b[1;32m     28\u001b[0m             activations_final[i\u001b[38;5;241m*\u001b[39mbatch_size:i\u001b[38;5;241m*\u001b[39mbatch_size \u001b[38;5;241m+\u001b[39m real_batch_size, :, :] \u001b[38;5;241m=\u001b[39m cache[cache_name]\u001b[38;5;241m.\u001b[39mcpu()\u001b[38;5;241m.\u001b[39mnumpy()\n\u001b[1;32m     29\u001b[0m     \u001b[38;5;28;01mreturn\u001b[39;00m activations_final\n\u001b[0;32m---> 31\u001b[0m model_activations \u001b[38;5;241m=\u001b[39m \u001b[43m[\u001b[49m\u001b[43mget_activations\u001b[49m\u001b[43m(\u001b[49m\u001b[43mlayer\u001b[49m\u001b[43m)\u001b[49m\u001b[43m \u001b[49m\u001b[38;5;28;43;01mfor\u001b[39;49;00m\u001b[43m \u001b[49m\u001b[43mlayer\u001b[49m\u001b[43m \u001b[49m\u001b[38;5;129;43;01min\u001b[39;49;00m\u001b[43m \u001b[49m\u001b[38;5;28;43mrange\u001b[39;49m\u001b[43m(\u001b[49m\u001b[43mn_layers\u001b[49m\u001b[43m)\u001b[49m\u001b[43m]\u001b[49m\n",
      "Cell \u001b[0;32mIn[7], line 31\u001b[0m, in \u001b[0;36m<listcomp>\u001b[0;34m(.0)\u001b[0m\n\u001b[1;32m     28\u001b[0m             activations_final[i\u001b[38;5;241m*\u001b[39mbatch_size:i\u001b[38;5;241m*\u001b[39mbatch_size \u001b[38;5;241m+\u001b[39m real_batch_size, :, :] \u001b[38;5;241m=\u001b[39m cache[cache_name]\u001b[38;5;241m.\u001b[39mcpu()\u001b[38;5;241m.\u001b[39mnumpy()\n\u001b[1;32m     29\u001b[0m     \u001b[38;5;28;01mreturn\u001b[39;00m activations_final\n\u001b[0;32m---> 31\u001b[0m model_activations \u001b[38;5;241m=\u001b[39m [\u001b[43mget_activations\u001b[49m\u001b[43m(\u001b[49m\u001b[43mlayer\u001b[49m\u001b[43m)\u001b[49m \u001b[38;5;28;01mfor\u001b[39;00m layer \u001b[38;5;129;01min\u001b[39;00m \u001b[38;5;28mrange\u001b[39m(n_layers)]\n",
      "Cell \u001b[0;32mIn[7], line 28\u001b[0m, in \u001b[0;36mget_activations\u001b[0;34m(layer)\u001b[0m\n\u001b[1;32m     24\u001b[0m         \u001b[38;5;66;03m# print(\"AA\", cache[cache_name].shape)\u001b[39;00m\n\u001b[1;32m     25\u001b[0m         \u001b[38;5;66;03m# batched_neuron_activations = rearrange(cache[cache_name], \"b s n -> (b s) n\" )\u001b[39;00m\n\u001b[1;32m     27\u001b[0m         real_batch_size \u001b[38;5;241m=\u001b[39m batch\u001b[38;5;241m.\u001b[39mshape[\u001b[38;5;241m0\u001b[39m]\n\u001b[0;32m---> 28\u001b[0m         activations_final[i\u001b[38;5;241m*\u001b[39mbatch_size:i\u001b[38;5;241m*\u001b[39mbatch_size \u001b[38;5;241m+\u001b[39m real_batch_size, :, :] \u001b[38;5;241m=\u001b[39m \u001b[43mcache\u001b[49m\u001b[43m[\u001b[49m\u001b[43mcache_name\u001b[49m\u001b[43m]\u001b[49m\u001b[38;5;241;43m.\u001b[39;49m\u001b[43mcpu\u001b[49m\u001b[43m(\u001b[49m\u001b[43m)\u001b[49m\u001b[38;5;241m.\u001b[39mnumpy()\n\u001b[1;32m     29\u001b[0m \u001b[38;5;28;01mreturn\u001b[39;00m activations_final\n",
      "\u001b[0;31mKeyboardInterrupt\u001b[0m: "
     ]
    }
   ],
   "source": [
    "# TODO: in chunks...\n",
    "# Now we can use the model to get the activations\n",
    "from torch.utils.data import DataLoader\n",
    "from datasets import DatasetDict\n",
    "from tqdm.auto import tqdm\n",
    "from einops import rearrange\n",
    "import math\n",
    "\n",
    "# MAX_CHUNK_SIZE = 1_000\n",
    "\n",
    "# TODO: move to a separate file or something\n",
    "def get_activations(layer: int):\n",
    "    datapoints = dataset.num_rows\n",
    "    embedding_size = model.cfg.d_model\n",
    "    activations_final = np.memmap(f'layer-{layer}.mymemmap', dtype='float32', mode='w+', shape=(datapoints, token_amount, embedding_size))\n",
    "    batch_size = 32\n",
    "\n",
    "    with torch.no_grad(), dataset.formatted_as(\"pt\"):\n",
    "        dl = DataLoader(dataset[\"input_ids\"], batch_size=batch_size)\n",
    "        cache_name = get_cache_name_neurons(layer)[0]\n",
    "        for i, batch in enumerate(tqdm(dl)):\n",
    "            # print(batch)\n",
    "            _, cache = model.run_with_cache(batch.to(device))\n",
    "            # print(\"AA\", cache[cache_name].shape)\n",
    "            # batched_neuron_activations = rearrange(cache[cache_name], \"b s n -> (b s) n\" )\n",
    "\n",
    "            real_batch_size = batch.shape[0]\n",
    "            activations_final[i*batch_size:i*batch_size + real_batch_size, :, :] = cache[cache_name].cpu().numpy()\n",
    "    return activations_final\n",
    "\n",
    "model_activations = [get_activations(layer) for layer in range(n_layers)]"
   ]
  },
  {
   "cell_type": "markdown",
   "metadata": {},
   "source": [
    "## Params"
   ]
  },
  {
   "cell_type": "code",
   "execution_count": null,
   "metadata": {},
   "outputs": [],
   "source": [
    "layer = 0"
   ]
  },
  {
   "cell_type": "markdown",
   "metadata": {},
   "source": [
    "## Get activations for a specific feature and visualize them"
   ]
  },
  {
   "cell_type": "code",
   "execution_count": null,
   "metadata": {},
   "outputs": [
    {
     "data": {
      "text/plain": [
       "((9909, 40, 512), (396360, 512))"
      ]
     },
     "execution_count": 9,
     "metadata": {},
     "output_type": "execute_result"
    }
   ],
   "source": [
    "model_activations[0].shape, model_activations[layer].reshape(-1, model_activations[layer].shape[-1]).shape"
   ]
  },
  {
   "cell_type": "code",
   "execution_count": null,
   "metadata": {},
   "outputs": [],
   "source": [
    "from interp_utils import *\n",
    "import torch\n",
    "import numpy as np\n",
    "\n",
    "# Get the activations for the best dict features\n",
    "def get_feature_datapoints_with_idx(feature_index, dictionary_activations, tokenizer, token_amount, dataset, k=10, setting=\"max\"):\n",
    "    if len(dictionary_activations.shape) == 3:\n",
    "        best_feature_activations = dictionary_activations[:, :, feature_index].flatten()\n",
    "    else:\n",
    "        best_feature_activations = dictionary_activations\n",
    "    # Sort the features by activation, get the indices\n",
    "    if setting==\"max\":\n",
    "        # TODO:! Urrr.... is this backwards? CHECK IF ::-1 is correct but I think that it is\n",
    "        found_indices = np.argsort(best_feature_activations)[::-1][:k]\n",
    "        # found_indices = np.argsort(best_feature_activations, descending=True)[:k]\n",
    "    elif setting==\"uniform\":\n",
    "        # min_value = torch.min(best_feature_activations)\n",
    "        min_value = np.min(best_feature_activations)\n",
    "        max_value = np.max(best_feature_activations)\n",
    "\n",
    "        # Define the number of bins\n",
    "        num_bins = k\n",
    "\n",
    "        # Calculate the bin boundaries as linear interpolation between min and max\n",
    "        bin_boundaries = np.linspace(min_value, max_value, num_bins + 1)\n",
    "\n",
    "        # Assign each activation to its respective bin\n",
    "        # TODO: hmm\n",
    "        # np bucketize?\n",
    "        # bins = torch.bucketize(best_feature_activations, bin_boundaries)\n",
    "        bins = np.digitize(best_feature_activations, bin_boundaries)\n",
    "\n",
    "        # Initialize a list to store the sampled indices\n",
    "        sampled_indices = []\n",
    "\n",
    "        # Sample from each bin\n",
    "        for bin_idx in np.unique(bins):\n",
    "            if(bin_idx==0): # Skip the first one. This is below the median\n",
    "                continue\n",
    "            # Get the indices corresponding to the current bin\n",
    "            bin_indices = np.array(np.nonzero(bins == bin_idx)).squeeze(axis=0)\n",
    "            # print(bin_indices.shape)\n",
    "            \n",
    "            # Randomly sample from the current bin\n",
    "            sampled_indices.extend(np.random.choice(bin_indices, size=1, replace=False))\n",
    "\n",
    "        # Convert the sampled indices to a PyTorch tensor & reverse order\n",
    "        found_indices = np.flip(np.array(sampled_indices), axis=[0])\n",
    "    else: # random\n",
    "        # get nonzero indices\n",
    "        nonzero_indices = torch.nonzero(best_feature_activations)[:, 0]\n",
    "        # shuffle\n",
    "        shuffled_indices = nonzero_indices[torch.randperm(nonzero_indices.shape[0])]\n",
    "        found_indices = shuffled_indices[:k]\n",
    "    num_datapoints = int(dictionary_activations.shape[0])\n",
    "    datapoint_indices =[np.unravel_index(i, (num_datapoints, token_amount)) for i in found_indices]\n",
    "    text_list = []\n",
    "    full_text = []\n",
    "    token_list = []\n",
    "    full_token_list = []\n",
    "    for md, s_ind in datapoint_indices:\n",
    "        md = int(md)\n",
    "        s_ind = int(s_ind)\n",
    "        full_tok = torch.tensor(dataset[md][\"input_ids\"])\n",
    "        full_text.append(tokenizer.decode(full_tok))\n",
    "        tok = dataset[md][\"input_ids\"][:s_ind+1]\n",
    "        text = tokenizer.decode(tok)\n",
    "        text_list.append(text)\n",
    "        token_list.append(tok)\n",
    "        full_token_list.append(full_tok)\n",
    "    return text_list, full_text, token_list, full_token_list, found_indices"
   ]
  },
  {
   "cell_type": "markdown",
   "metadata": {},
   "source": [
    "## Baseline before looking at \"deconstructive interference\""
   ]
  },
  {
   "cell_type": "code",
   "execution_count": null,
   "metadata": {},
   "outputs": [
    {
     "data": {
      "text/html": [
       "<div id=\"circuits-vis-3e1b68fb-fe3c\" style=\"margin: 15px 0;\"/>\n",
       "    <script crossorigin type=\"module\">\n",
       "    import { render, TextNeuronActivations } from \"https://unpkg.com/circuitsvis@1.41.0/dist/cdn/esm.js\";\n",
       "    render(\n",
       "      \"circuits-vis-3e1b68fb-fe3c\",\n",
       "      TextNeuronActivations,\n",
       "      {\"tokens\": [\"26\", \"\\n\", \"17\", \"\\n\", \"8\", \"\\n\", \"05\", \"\\n\", \"9\", \"\\n\", \"595\", \"\\n\", \"19\", \"\\n\", \"Public\", \" Account\", \"s\", \" Committee\", \" on\", \"\\n\", \"703\", \"\\n\", \"East\", \" Valley\", \" man\", \" arrested\", \" on\", \"\\n\", \"11\", \"\\n\", \"13\", \"\\n\", \"1\", \"\\n\", \"he\", \" never\", \" was\", \" into\", \"\\n\", \"Drawing\", \" from\", \" over\", \" 150\", \" interviews\", \" with\", \" teens\", \",\", \" psychologist\", \" R\", \"itch\", \" Sav\", \"in\", \"-\", \"Williams\", \" seeks\", \" to\", \"\\n\", \"St\", \"aphyl\", \"ococcal\", \" scal\", \"ded\", \" skin\", \" syndrome\", \" related\", \" to\", \"\\n\", \"K\", \"iev\", \" hopes\", \" to\", \"\\n\", \"[\", \"Ant\", \"it\", \"umor\", \" immunity\", \" in\", \" patients\", \" with\", \" melanoma\", \" of\", \" the\", \" u\", \"ve\", \"al\", \" tract\", \"].\", \"\\\\newline\", \"Over\", \" the\", \" years\", \" 1977\", \"-\", \"1987\", \" 142\", \" patients\", \" with\", \" malignant\", \" melanoma\", \" of\", \" the\", \" u\", \"ve\", \"a\", \" were\", \" admitted\", \" to\", \"\\n\", \"Art\", \"icles\", \" of\", \" convention\", \" and\", \" agreement\", \" made\", \" on\", \"\\n\", \"Behavior\", \"al\", \" impact\", \",\", \" accept\", \"ability\", \",\", \" and\", \" HIV\", \" incidence\", \" among\", \" homosexual\", \" men\", \" with\", \" access\", \" to\", \"\\n\", \"Life\", \"-\", \"saving\", \" vascular\", \" access\", \" after\", \" combined\", \" liver\", \" and\", \" kidney\", \" transplantation\", \":\", \" A\", \" challenging\", \" access\", \" to\", \"\\n\", \"McC\", \"oy\", \" was\", \" a\", \" perfect\", \" 4\", \"-\", \"for\", \"-\", \"4\", \" Friday\", \" night\", \" when\", \" going\", \" for\", \" the\", \" 10\", \" points\", \" she\", \" needed\", \" to\", \"\\n\", \"W\", \"EL\", \"COM\", \"E\", \"\\\\newline\", \"\\\\newline\", \"Welcome\", \" sur\", \" w\", \"ohn\", \"ung\", \"-\", \"haus\", \"-\", \"v\", \"illa\", \".\", \"ch\", \".\", \" In\", \" a\", \" few\", \" mouse\", \" clicks\", \" you\", \" have\", \" access\", \" to\", \"\\n\", \"Bal\", \"anced\", \" Res\", \"uscitation\", \" in\", \" Tra\", \"uma\", \" Management\", \".\", \"\\\\newline\", \"Over\", \" the\", \" past\", \" decade\", \" substantial\", \" knowledge\", \" has\", \" been\", \" gained\", \" in\", \" understanding\", \" both\", \" the\", \" co\", \"agul\", \"opathy\", \" of\", \" trauma\", \" and\", \" the\", \" complications\", \" associated\", \" with\", \"\\n\", \"Ald\", \"en\", \" March\", \"\\\\newline\", \"\\\\newline\", \"Ald\", \"en\", \" March\", \"  \", \"(\", \"17\", \"95\", \"\\u2013\", \"18\", \"69\", \")\", \" was\", \" a\", \" leading\", \" nineteenth\", \" century\", \" American\", \" physician\", \",\", \" surgeon\", \" and\", \" medical\", \" inventor\", \".\", \"\\\\newline\", \"\\\\newline\", \"March\", \" grew\", \" up\", \"\\n\", \"The\", \" provincial\", \" Ministry\", \" of\", \" Transportation\", \" is\", \" planning\", \" on\", \" replacing\", \" a\", \" number\", \" of\", \" bridges\", \" that\", \" go\", \" under\", \" the\", \" Queens\", \"way\", \".\", \" The\", \" overall\", \" recommendations\", \" prepared\", \" by\", \" the\", \" consultants\", \" studying\", \" the\", \" design\", \" requirements\", \" of\", \" the\", \" bridges\", \" is\", \" to\", \"\\n\", \"The\", \" present\", \" invention\", \" relates\", \" to\", \"\\n\", \"Q\", \":\", \"\\\\newline\", \"\\\\newline\", \"correct\", \" syntax\", \" for\", \" using\", \" Dis\", \"patcher\", \" to\", \"\\n\", \"Friday\", \",\", \" December\", \" 21\", \",\", \" 2012\", \"\\\\newline\", \"\\\\newline\", \"I\", \"'m\", \" happy\", \" to\", \"\\n\", \"SS\", \" Henry\", \" St\", \".\", \" George\", \" Tucker\", \"\\\\newline\", \"\\\\newline\", \"SS\", \" Henry\", \" St\", \".\", \" George\", \" Tucker\", \" was\", \" a\", \" Liberty\", \" ship\", \" built\", \" in\", \" the\", \" United\", \" States\", \" during\", \"\\n\", \"quote\", \":\", \"Ke\", \"pt\", \" Lynch\", \" in\", \" the\", \" 5\", \"th\", \",\", \" Tor\", \"rey\", \" in\", \"\\n\", \"The\", \" present\", \" invention\", \" relates\", \" to\", \" a\", \" display\", \" means\", \" attract\", \"ively\", \" showing\", \" movable\", \" or\", \"naments\", \" therein\", \",\", \" and\", \" more\", \" particularly\", \" to\", \" a\", \" display\", \" means\", \" which\", \" uses\", \" a\", \" light\", \" string\", \" as\", \" the\", \" power\", \" supply\", \" to\", \" connect\", \" a\", \" light\", \" string\", \" AC\", \" motor\", \" for\", \"\\n\", \"E\", \"wald\", \" H\", \"ering\", \" (\", \"18\", \"34\", \"--\", \"\\n\", \"Pierre\", \" Janet\", \" and\", \" the\", \" breakdown\", \" of\", \" adaptation\", \" in\", \" psychological\", \" trauma\", \".\", \"\\\\newline\", \"In\", \" this\", \" re\", \"app\", \"raisal\", \" of\", \" the\", \" work\", \" of\", \" Pierre\", \" Janet\", \" at\", \"\\n\", \"Tor\", \"onto\", \" mayor\", \" John\", \" Tory\", \" mimics\", \" Jose\", \" B\", \"aut\", \"ista\", \"\\n\", \"SUPPORT\", \" -\", \" DAY\", \" SP\", \"ONS\", \"OR\", \"\\n\", \"1\", \".\", \" Field\", \" of\", \" the\", \" Invention\", \"\\\\newline\", \"The\", \" present\", \" invention\", \" relates\", \" to\", \" a\", \" TV\", \" (\", \"tele\", \"vision\", \"),\", \" in\", \" particular\", \" to\", \" a\", \" TV\", \" (\", \"Television\", \")\", \" having\", \" a\", \" language\", \" selection\", \" function\", \" and\", \" a\", \" control\", \" method\", \" of\", \"\\n\", \"Generally\", \",\", \" polar\", \"izing\", \" lenses\", \" block\", \" polarized\", \" light\", \" generated\", \"\\n\", \"Autom\", \"ated\", \" updates\", \" ensure\", \" your\", \" online\", \" store\", \" is\", \" safe\", \",\", \" secure\", \",\", \" and\", \" always\", \" running\", \" the\", \" latest\", \" version\", \" of\", \"\\n\", \"B\", \"ars\", \"ana\", \" Mon\", \"astery\", \" is\", \" a\", \" complex\", \" with\", \" sixteen\", \" n\", \"uns\", \".\", \" Created\", \" after\", \" 1989\", \",\", \" on\", \" the\", \" site\", \" of\", \"\\n\", \"DEN\", \"VER\", \" --\", \" Third\", \"-\", \"grade\", \" teacher\", \" Kyle\", \" Schwartz\", \"\\n\", \"Bern\", \"ie\", \" Ec\", \"cl\", \"\\n\", \"Although\", \" Coin\", \"base\", \" has\", \" recently\", \" become\", \" a\", \" controversial\", \" company\", \",\", \" especially\", \" as\", \" it\", \" began\", \" to\", \" add\", \" crypto\", \" assets\", \" left\", \" and\", \" right\", \",\", \" the\", \" company\", \" has\", \" long\", \" had\", \" an\", \" un\", \"rel\", \"enting\", \"\\n\", \"Former\", \" top\", \" managers\", \" of\", \" HB\", \"\\n\", \"/*\", \" p\", \"sl\", \"Cut\", \" -\", \" Remove\", \" a\", \" list\", \" of\", \" clones\", \" from\", \" p\", \"sl\", \" file\", \"..\", \" */\", \"\\\\newline\", \"\\\\newline\", \"/*\", \" Copyright\", \" (\", \"C\", \")\", \" 2011\", \" The\", \" Reg\", \"ents\", \" of\", \" the\", \" University\", \" of\", \" California\", \" \\\\newline\", \" *\", \" See\", \" READ\", \"ME\", \"\\n\", \"Aug\", \"mented\", \" reality\", \" (\", \"\\n\", \"UNITED\", \" BR\", \"OTHER\", \"HO\", \"OD\", \" OF\", \" CAR\", \"P\", \"ENT\", \"ERS\", \" &\", \" JOIN\", \"ERS\", \" OF\", \" AMERICA\", \",\", \"C\", \"\\n\", \"Main\", \" menu\", \"\\\\newline\", \"\\\\newline\", \"Tag\", \" Archives\", \":\", \" B\", \"are\", \"foot\", \" running\", \"\\\\newline\", \"\\\\newline\", \"Post\", \" navigation\", \"\\\\newline\", \"\\\\newline\", \"You\", \"\\u2019\", \"ve\", \" probably\", \" heard\", \" of\", \" the\", \" series\", \" of\", \" \\u2018\", \"\\n\", \"/*\", \"\\\\newline\", \" Licensed\", \" to\", \" the\", \" Apache\", \" Software\", \" Foundation\", \" (\", \"AS\", \"F\", \")\", \" under\", \" one\", \"\\\\newline\", \"\\n\", \"11\", \" Super\", \"\\n\", \"READ\", \" AL\", \"SO\", \":\", \"\\\\newline\", \"\\\\newline\", \"Self\", \"ie\", \" in\", \" front\", \" of\", \" running\", \" train\", \" costs\", \" three\", \"\\n\", \"---\", \"\\\\newline\", \"author\", \":\", \"\\\\newline\", \"-\", \" |\", \"\\\\newline\", \"    \", \"H\", \"w\", \"anche\", \"ol\", \" Je\", \"ong\", \",,\", \" Jong\", \"je\", \"ong\", \" Kim\", \",\", \" We\", \"on\", \"j\", \"ong\", \" Lee\", \",\", \" Je\", \"ong\", \"h\", \"wan\", \"\\n\", \"M\", \"itt\", \"el\", \"stadt\", \"\\u2019\", \"s\", \" OT\", \" W\", \"\\n\", \"{{\", \"#\", \"property\", \"}}\", \"\\\\newline\", \"<\", \"tr\", \">\", \"\\\\newline\", \"  \", \"<\", \"td\", \">{{\", \"+\", \"partial\", \"s\", \".\", \"type\", \"_\", \"name\", \" link\", \":\", \"link\", \" type\", \":\", \"property\", \"/\", \"}}</\", \"td\", \"\\n\", \"Home\", \"\\\\newline\", \"\\\\newline\", \"Download\", \" The\", \" F\", \"orts\", \" Of\", \" New\", \" France\", \" In\", \" Northeast\", \" America\", \",\", \" 1600\", \" 17\", \"63\", \"\\\\newline\", \"\\\\newline\", \"by\", \" Edmund\", \"4\", \".\", \"2\", \"\\\\newline\\\\newline\", \"\\n\", \"Expand\", \"ing\", \" Patients\", \"'\", \" Property\", \" Rights\", \" In\", \" Their\", \" Medical\", \" Records\", \"\\\\newline\", \"\\\\newline\", \"N\", \"BER\", \"\\n\", \"Ass\", \"ignment\", \" &\", \" Mut\", \"ation\", \"\\\\newline\", \"=====================\", \"\\\\newline\", \"\\\\newline\", \"..\", \" autom\", \"od\", \"ule\", \"::\", \" gl\", \"om\", \".\", \"mut\", \"ation\", \"\\\\newline\", \"\\\\newline\", \"..\", \" contents\", \"::\", \" Contents\", \"\\\\newline\", \"   \", \":\", \"local\", \":\", \"\\\\newline\", \"\\\\newline\", \"Ass\", \"ignment\", \"\\\\newline\", \"----------\", \"\\\\newline\\\\newline\", \"\\n\", \"A\", \" man\", \" from\", \" Tel\", \"ang\", \"ana\", \",\", \" who\", \" has\", \" stayed\", \" for\", \" three\", \" weeks\", \" at\", \" the\", \"\\n\", \"#\", \" test\", \"db\", \"\\\\newline\", \"\\\\newline\", \"##\", \" Description\", \"\\\\newline\", \"\\\\newline\", \"Sample\", \" Post\", \"gre\", \"SQL\", \" database\", \" document\", \".\", \"\\\\newline\", \"\\\\newline\", \"##\", \" Tables\", \"\\\\newline\", \"\\\\newline\", \"|\", \"\\n\", \"]]>\", \"Mary\", \"Ann\", \" Taylor\", \"Fri\", \",\", \" 24\", \" Oct\", \" 2014\", \" 16\", \":\", \"06\", \":\", \"00\", \" GMT\", \"Information\", \" Session\", \" -\", \" Are\", \" You\", \" Conduct\", \"ing\", \" Research\", \"\\n\", \"Q\", \":\", \"\\\\newline\", \"\\\\newline\", \"Can\", \" anyone\", \" help\", \" me\", \"\\n\", \"I\", \" haven\", \"'t\", \" been\", \" in\", \" a\", \" department\", \" store\", \" like\", \" that\", \" in\", \" a\", \" long\", \" time\", \",\", \" and\", \" it\", \" was\", \" so\", \" relaxing\", \" to\", \" just\", \" wander\", \" around\", \"\\\\newline\", \"\\\\newline\", \"looking\", \" at\", \" all\", \" their\", \" cool\", \" products\", \".\", \"\\\\newline\", \"\\\\newline\", \"(\", \"and\", \" hear\", \"\\n\", \"Q\", \":\", \"\\\\newline\", \"\\\\newline\", \"Static\", \" QString\", \" initialization\", \" fail\", \"\\\\newline\", \"\\\\newline\", \"s\", \"orry\", \" for\", \" my\", \" creepy\", \" english\", \".\", \"\\\\newline\", \"In\", \" Qt\", \" 4\", \".\", \"8\", \".\", \"4\", \" I\", \"'m\", \" try\", \" to\", \" create\", \" singleton\", \" class\", \" with\", \" static\", \" QString\", \" field\", \".\", \" It\", \" cannot\", \"\\n\", \"Blog\", \"\\\\newline\", \"\\\\newline\", \"De\", \"aling\", \" with\", \" Data\", \" about\", \" their\", \" prospects\", \",\", \" Customers\", \",\", \" internal\", \" business\", \" processes\", \",\", \" suppliers\", \",\", \" partners\", \" and\", \" competitors\", \" has\", \" become\", \" the\", \" norm\", \" of\", \" Enterprises\", \".\", \" Trans\", \"forming\", \" this\", \" Data\", \" into\", \" actionable\", \"\\n\", \"1\", \".\", \" Field\", \" of\", \" the\", \" Invention\", \"\\\\newline\", \"The\", \" invention\", \" relates\", \" to\", \" a\", \" vehicle\", \" steering\", \" control\", \" device\", \" and\", \" a\", \" vehicle\", \" steering\", \" control\", \" method\", \" and\", \",\", \" more\", \" particularly\", \",\", \" to\", \" a\", \" vehicle\", \"\\n\", \"Per\", \"ipheral\", \" venous\", \" contrast\", \" echocardiography\", \"\\n\", \"Q\", \":\", \"\\\\newline\", \"\\\\newline\", \"My\", \"SQL\", \"\\n\", \"C\", \"ult\", \"ivation\", \" conditions\", \" and\", \" properties\", \" of\", \" extracellular\", \"\\n\", \"Introduction\", \" {#\", \"sec\", \"1\", \"}\", \"\\\\newline\", \"============\", \"\\\\newline\", \"\\\\newline\", \"My\", \"ostatin\", \" (\", \"M\", \"\\n\", \"Great\", \" Baby\", \" Sh\", \"ower\", \" Inv\", \"itations\", \"\\\\newline\", \"\\\\newline\", \"\\\"\", \"Really\", \" nice\", \" quality\", \" card\", \"stock\", \".\", \"You\", \" can\", \" print\", \" other\", \" information\", \" on\", \" the\", \" back\", \" if\", \" necessary\", \".\\\"\", \"\\\\newline\", \"\\\\newline\", \"Share\", \"\\n\", \"\\\\newline\\\\newline\", \"\\\\newline\", \"#\", \"if\", \" AR\", \"DU\", \"INO\", \" <\", \" 100\", \"\\\\newline\", \"#\", \"include\", \" <\", \"W\", \"Program\", \".\", \"h\", \">\", \"\\\\newline\", \"#\", \"else\", \"\\n\", \"Character\", \"ization\", \" of\", \" pren\", \"at\", \"ally\", \" assessed\", \" de\", \" novo\", \" small\", \" super\", \"numer\", \"ary\", \" marker\", \" chromosomes\", \" by\", \" molecular\", \" cyt\", \"ogen\", \"etics\", \".\", \"\\\\newline\", \"Small\", \" super\", \"\\n\", \"419\", \" F\", \".\", \"2\", \"d\", \" 9\", \"14\", \"\\\\newline\", \"Application\", \" of\", \" Joseph\", \" A\", \".\", \" BR\", \"INK\", \",\", \" Jr\", \".\", \"\\\\newline\", \"Patent\", \" Appeal\", \" No\", \"\\n\", \"Q\", \":\", \"\\\\newline\", \"\\\\newline\", \"findViewById\", \" returns\", \" NULL\", \" when\", \" using\", \" Fragment\", \"\\n\", \"Description\", \"\\\\newline\", \"Co\", \"vers\", \" the\", \" natural\", \" history\", \" of\", \" H\", \"ula\", \" Valley\", \",\", \" the\", \"\\n\", \"Q\", \":\", \"\\\\newline\", \"\\\\newline\", \"How\", \" can\", \" I\", \" get\", \" the\", \" click\", \" event\", \"\\n\", \"CHAPTER\", \" VII\", \".\", \" Some\", \" British\", \" In\", \"vent\", \"ors\", \" of\", \" Air\", \"-\", \"ships\", \"\\\\newline\", \"\\\\newline\", \"The\", \"\\n\", \"Q\", \":\", \"\\\\newline\", \"\\\\newline\", \"Fire\", \"base\", \" on\", \"Auth\", \"State\", \"Change\", \"()\", \" state\", \" does\", \" not\", \" change\", \"\\\\newline\", \"\\\\newline\", \"I\", \" am\", \" trying\", \" to\", \" login\", \" the\", \" user\", \" to\", \" my\", \" app\", \".\", \" I\", \"\\n\", \"Ig\", \"A\", \" Antib\", \"odies\", \" Against\", \" G\", \"li\", \"adin\", \" and\", \" Tissue\", \" Trans\", \"glut\", \"amin\", \"ase\", \" in\", \" Dogs\", \" With\", \" Chronic\", \" Enter\", \"itis\", \" and\", \" In\", \"test\", \"inal\", \" T\", \"-\", \"Cell\", \" Lymph\", \"oma\", \".\", \"\\\\newline\", \"Molecular\", \"\\n\", \"Love\", \" Island\", \" hopeful\", \"s\", \" flown\", \" to\", \" Spain\", \" for\", \" trial\", \" run\", \"\\\\newline\", \"\\\\newline\", \"B\", \"oss\", \"es\", \" have\", \" flown\", \" a\", \" group\", \" of\", \" '\", \"Love\", \" Island\", \"'\", \" hopeful\", \"s\", \" to\", \" their\", \" Spanish\", \" villa\", \" for\", \" a\", \" trial\", \" run\", \".\", \"\\\\newline\", \"\\\\newline\", \"'\", \"Love\", \"\\n\", \"The\", \" appearance\", \" of\", \" the\", \" the\", \"rapeut\", \"ically\", \" irradiated\", \" breast\", \" on\", \" whole\", \"-\", \"bre\", \"ast\", \" water\", \"-\", \"path\", \" ultrason\", \"ography\", \".\", \"\\\\newline\", \"The\", \"\\n\", \"Pain\", \" and\", \" analgesic\", \" drugs\", \" in\", \" chronic\", \" venous\", \" ulcers\", \" with\", \" topical\", \" se\", \"v\", \"ofl\", \"urane\", \" use\", \".\", \"\\\\newline\", \"Pain\", \"\\n\", \"package\", \" cab\", \"f\", \"_\", \"br\", \"\\\\newline\", \"\\\\newline\", \"/*\", \"\\\\newline\", \" *\", \" Z\", \"L\", \"int\", \" Copyright\", \" 2020\", \" Reg\", \"ents\", \" of\", \" the\", \" University\", \" of\", \" Michigan\", \"\\\\newline\", \" *\", \"\\\\newline\", \" *\", \" Licensed\", \" under\", \" the\", \" Apache\", \" License\", \",\", \" Version\", \" 2\", \".\", \"0\", \" (\", \"the\", \" \\\"\", \"License\", \"\\n\", \"Q\", \":\", \"\\\\newline\", \"\\\\newline\", \"Group\", \"\\n\", \"The\", \"\\n\", \"Lee\", \" So\", \"-\", \"dam\", \"\\\\newline\", \"\\\\newline\", \"Lee\", \" So\", \"-\", \"dam\", \"\\n\", \"My\", \" Self\", \" An\", \"up\", \" Kumar\", \" Mr\", \"id\", \"ha\", \".\", \" My\", \" Family\", \" Means\", \" Only\", \" My\", \" Mother\", \" and\", \" My\", \" Sister\", \"\\n\", \"---\", \"\\\\newline\", \"abstract\", \":\", \" |\", \"\\\\newline\", \"    \", \"The\", \" dramatic\", \"\\n\", \"Can\", \"cer\", \" risk\", \" in\", \" patients\", \" with\", \" manifest\", \" vascular\", \" disease\", \":\", \" effects\", \" of\", \" smoking\", \",\", \" obesity\", \",\", \" and\", \" metabolic\", \" syndrome\", \".\", \"\\\\newline\", \"Patients\", \"\\n\", \"Hum\", \"mus\", \" +\", \" Sp\", \"ag\", \"hetti\", \" Squ\", \"ash\", \"\\\\newline\", \"\\\\newline\", \"Sometimes\", \"\\n\", \"Different\", \"\\n\", \"Recent\", \" science\", \" \\u201c\", \"journal\", \"ism\", \"\\u201d\", \"\\\\newline\", \"\\\\newline\", \"Bad\", \"\\n\", \"Mut\", \"agen\", \"ic\", \" activity\", \" of\", \" selenium\", \" compounds\", \".\", \"\\\\newline\", \"The\", \" mutagen\", \"\\n\", \"Main\", \" menu\", \"\\\\newline\", \"\\\\newline\", \"Alright\", \"\\n\", \"Jim\", \" H\", \"ight\", \"ower\", \" |\", \" For\", \"get\", \" the\", \" Tea\", \" Party\", \",\", \" This\", \" Is\", \" the\", \" Champ\", \"agne\", \" Party\", \"!\", \"\\\\newline\", \"\\\\newline\", \"Look\", \"\\n\", \"Look\", \"\\n\", \"\\\"\", \"Hi\", \" Frank\", \"ie\", \".\\\"\", \" \\\"\", \"Hello\", \".\\\"\", \" \\\"\", \"Get\", \" in\", \" here\", \".\\\"\", \" \\\"\", \"Nothing\", \"\\n\", \"Introduction\", \"\\\\newline\", \"============\", \"\\\\newline\", \"\\\\newline\", \"Sym\", \"\\n\"], \"activations\": [[[2.2343437671661377]], [[0.0]], [[2.184044599533081]], [[0.0]], [[2.1209120750427246]], [[0.0]], [[2.087623357772827]], [[0.0]], [[2.0593743324279785]], [[0.0]], [[2.0165045261383057]], [[0.0]], [[1.9690120220184326]], [[0.0]], [[0.7944340109825134]], [[0.29624640941619873]], [[0.34671899676322937]], [[0.6177417635917664]], [[1.9472441673278809]], [[0.0]], [[1.9136090278625488]], [[0.0]], [[0.18388912081718445]], [[0.5141267776489258]], [[0.33160290122032166]], [[1.3961836099624634]], [[1.8464245796203613]], [[0.0]], [[1.8396835327148438]], [[0.0]], [[1.7786457538604736]], [[0.0]], [[1.7576960325241089]], [[0.0]], [[0.17766328155994415]], [[0.2696564197540283]], [[0.5245838761329651]], [[1.6976532936096191]], [[0.0]], [[0.1730269193649292]], [[1.1231582164764404]], [[0.679917573928833]], [[0.5244662165641785]], [[0.5097060799598694]], [[1.5061005353927612]], [[0.06602251529693604]], [[0.00885668396949768]], [[0.08669529855251312]], [[0.09175683557987213]], [[-0.2046327292919159]], [[0.29755473136901855]], [[0.7486765384674072]], [[0.3719884753227234]], [[-0.09480223059654236]], [[0.6381694078445435]], [[1.6783636808395386]], [[0.0]], [[-0.029503561556339264]], [[-0.06424839794635773]], [[0.34806638956069946]], [[0.2020680010318756]], [[1.1236369609832764]], [[0.37628254294395447]], [[0.050596803426742554]], [[0.6688841581344604]], [[1.6194732189178467]], [[0.0]], [[0.08362974226474762]], [[-0.03047533519566059]], [[0.45322611927986145]], [[1.5732195377349854]], [[0.0]], [[0.47156763076782227]], [[-0.24419289827346802]], [[0.14561855792999268]], [[-0.17362651228904724]], [[0.00014451146125793457]], [[1.170585036277771]], [[-0.5114572048187256]], [[1.2284058332443237]], [[-0.10546427965164185]], [[0.8817378282546997]], [[-0.21741051971912384]], [[-0.02642923593521118]], [[0.30038994550704956]], [[0.39052486419677734]], [[0.3964335322380066]], [[-0.016192622482776642]], [[0.018072009086608887]], [[-0.38738346099853516]], [[-0.3396187126636505]], [[-0.433834433555603]], [[-0.03725220263004303]], [[0.5348563194274902]], [[0.18783459067344666]], [[0.41842615604400635]], [[-0.44263774156570435]], [[1.256361484527588]], [[-0.32675984501838684]], [[-0.06024438142776489]], [[0.8271090984344482]], [[-0.2659909725189209]], [[-0.10722868144512177]], [[0.20687046647071838]], [[0.5123604536056519]], [[0.21505874395370483]], [[0.5989131927490234]], [[1.538057804107666]], [[0.0]], [[-0.0904850959777832]], [[0.5902594327926636]], [[0.594981849193573]], [[0.31472474336624146]], [[0.3369247317314148]], [[0.09121289849281311]], [[0.8943575024604797]], [[1.5240442752838135]], [[0.0]], [[-0.24946065247058868]], [[0.1536456197500229]], [[-0.1553301215171814]], [[-0.2820194363594055]], [[0.4343510866165161]], [[0.23580273985862732]], [[-0.356670618057251]], [[-0.2570476830005646]], [[-0.21694450080394745]], [[-0.025829941034317017]], [[1.1430976390838623]], [[0.24878069758415222]], [[0.03329002857208252]], [[1.1293416023254395]], [[0.2939063012599945]], [[1.4746086597442627]], [[0.0]], [[-0.3133014440536499]], [[0.16459642350673676]], [[-0.1799834966659546]], [[0.3021202087402344]], [[0.3191564977169037]], [[0.9491579532623291]], [[1.1778042316436768]], [[-0.41463330388069153]], [[0.15825001895427704]], [[-0.12983408570289612]], [[0.3094165325164795]], [[0.47457295656204224]], [[0.016317181289196014]], [[-0.06736040115356445]], [[0.32220304012298584]], [[1.4356815814971924]], [[0.0]], [[1.3124130964279175]], [[1.2259597778320312]], [[0.21962668001651764]], [[0.09099647402763367]], [[0.10276353359222412]], [[0.5868310928344727]], [[0.4332594871520996]], [[0.9295090436935425]], [[0.038285031914711]], [[0.7564964294433594]], [[0.05415797233581543]], [[-0.04164937138557434]], [[0.25591835379600525]], [[0.43791237473487854]], [[1.1309189796447754]], [[-0.16508236527442932]], [[0.6987732648849487]], [[0.6071031093597412]], [[0.21473759412765503]], [[0.8539950847625732]], [[1.401210904121399]], [[0.0]], [[-0.03295356407761574]], [[0.3386117219924927]], [[0.5228831768035889]], [[0.5753467082977295]], [[-0.07170459628105164]], [[-0.18575766682624817]], [[-0.7660536766052246]], [[0.5214552879333496]], [[-0.24930745363235474]], [[-0.26608747243881226]], [[0.3729061484336853]], [[0.1514095664024353]], [[-0.16604235768318176]], [[-0.029886260628700256]], [[-0.3579109013080597]], [[0.5988858342170715]], [[-0.2794654965400696]], [[-0.03179796785116196]], [[-0.3009759783744812]], [[-0.21212472021579742]], [[-0.13096217811107635]], [[-0.6259990930557251]], [[-0.693355143070221]], [[-0.24603873491287231]], [[-0.09987293183803558]], [[0.4769233167171478]], [[-0.042417459189891815]], [[1.3387649059295654]], [[0.0]], [[-0.14074821770191193]], [[0.3250085711479187]], [[-0.17490842938423157]], [[0.47597387433052063]], [[1.186598300933838]], [[0.7635895013809204]], [[0.4323869049549103]], [[-0.05227625370025635]], [[-0.15292644500732422]], [[-0.04264533519744873]], [[-0.4095262885093689]], [[-0.35537979006767273]], [[0.2414616048336029]], [[0.19219446182250977]], [[0.0808459222316742]], [[0.024988412857055664]], [[0.7351640462875366]], [[0.4068036377429962]], [[0.7152769565582275]], [[1.359405279159546]], [[0.1706686019897461]], [[0.6444692015647888]], [[-0.12231801450252533]], [[0.4187135100364685]], [[0.7179770469665527]], [[0.2327359914779663]], [[0.8534659147262573]], [[0.05353690683841705]], [[0.20941680669784546]], [[-0.38895678520202637]], [[-0.13181205093860626]], [[0.9815987944602966]], [[1.3274321556091309]], [[0.0]], [[0.04026384651660919]], [[0.14403127133846283]], [[0.6161428093910217]], [[0.12438830733299255]], [[-0.07378357648849487]], [[-0.4793412983417511]], [[0.08627133071422577]], [[0.35184457898139954]], [[0.1774807870388031]], [[0.2161118984222412]], [[0.7756286859512329]], [[1.6961179971694946]], [[0.7091284990310669]], [[0.8516010046005249]], [[0.9946436285972595]], [[0.30472394824028015]], [[0.09843000769615173]], [[0.0052286311984062195]], [[0.12965993583202362]], [[-0.22560808062553406]], [[-0.1041104793548584]], [[0.19358834624290466]], [[-0.2049553096294403]], [[-0.12243425846099854]], [[-0.6018514633178711]], [[0.08970726281404495]], [[-0.5390877723693848]], [[0.24402114748954773]], [[-0.08324695378541946]], [[0.12331774830818176]], [[0.10184592008590698]], [[0.01860707998275757]], [[0.33369725942611694]], [[1.261423110961914]], [[0.0]], [[-1.0665342807769775]], [[-0.2539043426513672]], [[-0.5406667590141296]], [[0.46455007791519165]], [[0.3754264712333679]], [[0.12384471297264099]], [[0.3527832627296448]], [[1.5872896909713745]], [[0.5860846042633057]], [[0.030901312828063965]], [[-0.3007020354270935]], [[0.7164293527603149]], [[0.04218462109565735]], [[0.42041289806365967]], [[0.17754311859607697]], [[0.7050381898880005]], [[-0.11144144833087921]], [[-0.01041845977306366]], [[0.047646746039390564]], [[-0.16272422671318054]], [[-0.628084659576416]], [[0.08782027661800385]], [[-0.05959117412567139]], [[1.0702369213104248]], [[0.9413878321647644]], [[-0.2120065689086914]], [[0.09296250343322754]], [[0.3116568922996521]], [[-0.2207161784172058]], [[0.20237471163272858]], [[0.12892650067806244]], [[0.8668539524078369]], [[-0.335651159286499]], [[-0.199110746383667]], [[0.2600589692592621]], [[1.2388906478881836]], [[0.0]], [[-1.0665342807769775]], [[-0.35411781072616577]], [[-0.18284963071346283]], [[0.10712207108736038]], [[1.1954445838928223]], [[0.0]], [[-0.11315010488033295]], [[-0.1609543263912201]], [[-0.3282749652862549]], [[-0.31777238845825195]], [[-0.556925892829895]], [[-0.015034511685371399]], [[0.8829234838485718]], [[0.915203869342804]], [[-0.31790322065353394]], [[-0.0764884352684021]], [[1.1594722270965576]], [[0.0]], [[0.19975945353507996]], [[0.014836251735687256]], [[0.29553890228271484]], [[0.5504269599914551]], [[-0.04474589228630066]], [[-0.17590174078941345]], [[0.29519617557525635]], [[0.10547861456871033]], [[-0.7591506838798523]], [[-0.8344558477401733]], [[-0.6737319231033325]], [[1.1170581579208374]], [[0.0]], [[0.3262711763381958]], [[0.20784229040145874]], [[0.5440948605537415]], [[-0.04659759998321533]], [[0.04121285676956177]], [[0.024559080600738525]], [[0.27971696853637695]], [[0.11375388503074646]], [[-0.4305840730667114]], [[-0.37970414757728577]], [[0.3201461434364319]], [[-0.05188366770744324]], [[-0.1419016420841217]], [[-0.09996257722377777]], [[0.16924366354942322]], [[0.10340917110443115]], [[-0.0425933301448822]], [[-0.02901330590248108]], [[0.6353339552879333]], [[1.3336538076400757]], [[-0.02316763997077942]], [[0.3311367630958557]], [[0.10236668586730957]], [[1.1017768383026123]], [[0.0]], [[0.8883770704269409]], [[0.5037449598312378]], [[0.2050064206123352]], [[0.4362603724002838]], [[0.3583095669746399]], [[1.1780720949172974]], [[-0.054613977670669556]], [[0.8492602705955505]], [[0.373045414686203]], [[-0.12773914635181427]], [[0.5004379749298096]], [[0.36168262362480164]], [[1.0505627393722534]], [[0.0]], [[-1.0665342807769775]], [[-0.35411810874938965]], [[-0.18284940719604492]], [[0.10712207853794098]], [[1.195444941520691]], [[-0.12343073636293411]], [[-0.27548179030418396]], [[-0.28174248337745667]], [[0.5873486995697021]], [[0.49725162982940674]], [[0.1498163491487503]], [[-0.1581273376941681]], [[-0.32031428813934326]], [[0.01839888095855713]], [[0.44257619976997375]], [[-0.08433820307254791]], [[-0.11258969455957413]], [[-0.02865481562912464]], [[0.08142825216054916]], [[1.3298840522766113]], [[0.10440729558467865]], [[-0.23115423321723938]], [[-0.2089642584323883]], [[0.23122607171535492]], [[0.7441866397857666]], [[-0.0076471492648124695]], [[-0.32080990076065063]], [[-0.5382246971130371]], [[0.5936005711555481]], [[-0.45832303166389465]], [[-0.04756392538547516]], [[-0.037913352251052856]], [[1.4229423999786377]], [[0.5825814008712769]], [[-0.003320343792438507]], [[-0.3692796528339386]], [[-0.619387149810791]], [[0.02941662259399891]], [[-0.3696765601634979]], [[1.0208358764648438]], [[0.0]], [[0.14889514446258545]], [[0.3266640901565552]], [[0.2770075798034668]], [[0.29147815704345703]], [[0.47933799028396606]], [[0.9779998660087585]], [[1.2439180612564087]], [[0.9712241888046265]], [[0.0]], [[0.606827974319458]], [[0.29877346754074097]], [[-0.0207816231995821]], [[-0.5894440412521362]], [[-0.22250592708587646]], [[0.6818495988845825]], [[0.23172733187675476]], [[1.0840444564819336]], [[0.048784494400024414]], [[0.1272898018360138]], [[-0.23220175504684448]], [[-0.023210614919662476]], [[-0.19194763898849487]], [[-0.06949681043624878]], [[0.10234101116657257]], [[0.25461331009864807]], [[0.03589969873428345]], [[0.7161649465560913]], [[-0.3981863856315613]], [[-0.3895374536514282]], [[0.6029342412948608]], [[0.13752347230911255]], [[-0.1548525094985962]], [[0.9158372282981873]], [[0.0]], [[0.33348140120506287]], [[1.0329653024673462]], [[0.7498920559883118]], [[0.6836332678794861]], [[0.8798707127571106]], [[0.08509021997451782]], [[0.5570882558822632]], [[0.4299642741680145]], [[0.2873457074165344]], [[0.8856943249702454]], [[0.0]], [[0.440558522939682]], [[-0.001583680510520935]], [[-0.11503005027770996]], [[0.43106523156166077]], [[0.5706028342247009]], [[0.8396697044372559]], [[0.0]], [[1.7576960325241089]], [[0.26526764035224915]], [[-0.5320762395858765]], [[0.46684327721595764]], [[-0.43167439103126526]], [[-0.17716315388679504]], [[0.1179126501083374]], [[-0.8099088668823242]], [[-0.38782167434692383]], [[-0.1053168773651123]], [[0.06977809965610504]], [[1.1586918830871582]], [[-0.18619948625564575]], [[-0.5842243432998657]], [[0.12160982191562653]], [[-0.6219391226768494]], [[0.04478137195110321]], [[-0.142020121216774]], [[0.7211595773696899]], [[-0.8669038414955139]], [[1.164402961730957]], [[-0.05575794726610184]], [[-0.6293368935585022]], [[0.14989317953586578]], [[-0.5184400081634521]], [[0.06394490599632263]], [[0.5360603332519531]], [[-0.10022962838411331]], [[0.10201043635606766]], [[0.11762595176696777]], [[0.10110897570848465]], [[0.08331655710935593]], [[-0.2755134105682373]], [[-0.2661573588848114]], [[0.012081369757652283]], [[0.820163369178772]], [[0.0]], [[-0.4063253402709961]], [[-0.5041837096214294]], [[-0.4742024838924408]], [[0.19730107486248016]], [[-0.5321788191795349]], [[-0.14156004786491394]], [[0.6498838067054749]], [[-0.241841122508049]], [[0.7606763243675232]], [[0.0]], [[-0.21137556433677673]], [[0.615748405456543]], [[0.2960374355316162]], [[0.7294374704360962]], [[-0.16748648881912231]], [[0.5291883945465088]], [[0.1888335943222046]], [[0.3687209188938141]], [[0.021018296480178833]], [[-0.19531074166297913]], [[0.24712224304676056]], [[-0.31839561462402344]], [[-0.21081343293190002]], [[-0.09560053795576096]], [[0.45820504426956177]], [[-0.25693368911743164]], [[-0.11170923709869385]], [[-0.03465399146080017]], [[0.752216100692749]], [[0.0]], [[-0.045263200998306274]], [[0.018872573971748352]], [[0.896704912185669]], [[-0.10216882824897766]], [[0.17357130348682404]], [[0.19661450386047363]], [[-0.09820578247308731]], [[-0.1803453266620636]], [[0.998615026473999]], [[0.12248411029577255]], [[0.1022251546382904]], [[0.2134246826171875]], [[-0.10499271750450134]], [[-0.14280757308006287]], [[0.6520267128944397]], [[0.1466640681028366]], [[-0.10063038766384125]], [[1.0809581279754639]], [[-0.14494135975837708]], [[0.07547217607498169]], [[0.7084940671920776]], [[0.0]], [[1.244400978088379]], [[0.22115695476531982]], [[0.8844730854034424]], [[-0.3910169005393982]], [[0.2897188663482666]], [[-0.16267113387584686]], [[0.10218751430511475]], [[0.6565268635749817]], [[0.6562983989715576]], [[0.0]], [[0.16484740376472473]], [[0.6864497065544128]], [[0.18893365561962128]], [[0.6028530597686768]], [[0.0]], [[-0.0038612931966781616]], [[-0.04785754531621933]], [[0.15484049916267395]], [[0.6086546182632446]], [[0.414119154214859]], [[0.95108962059021]], [[0.09862668812274933]], [[0.39814460277557373]], [[-0.1987183839082718]], [[-0.1531689465045929]], [[0.00990356132388115]], [[0.5295956134796143]], [[-0.023416921496391296]], [[0.7567631602287292]], [[1.4866918325424194]], [[0.6404316425323486]], [[0.12159860879182816]], [[0.13507965207099915]], [[0.6772557497024536]], [[0.3177098333835602]], [[-0.016545578837394714]], [[-0.17098787426948547]], [[-0.46936163306236267]], [[-0.46562713384628296]], [[0.6163846850395203]], [[0.10306145250797272]], [[0.6668757200241089]], [[0.11371801048517227]], [[0.032336145639419556]], [[0.22037293016910553]], [[0.5841819047927856]], [[0.0]], [[-0.0017153620719909668]], [[0.48857569694519043]], [[0.13311615586280823]], [[0.9460728168487549]], [[0.5427454113960266]], [[0.0]], [[0.02927614375948906]], [[0.06487252563238144]], [[0.1652308702468872]], [[-0.4413444697856903]], [[0.1548171490430832]], [[0.0032212138175964355]], [[-0.2579357624053955]], [[0.024135395884513855]], [[0.8420156240463257]], [[-0.2653149366378784]], [[1.1817231178283691]], [[0.06645145267248154]], [[0.06109045818448067]], [[-0.06464779376983643]], [[0.269487202167511]], [[0.09552548080682755]], [[-0.10457289218902588]], [[-0.08357894420623779]], [[-0.34011170268058777]], [[-0.4961799383163452]], [[0.1426297277212143]], [[0.10116364061832428]], [[-0.035640619695186615]], [[0.02027328871190548]], [[-0.5357380509376526]], [[-0.35034653544425964]], [[0.17411667108535767]], [[0.6243752241134644]], [[-0.42281028628349304]], [[0.01590713858604431]], [[0.5691061019897461]], [[0.4660112261772156]], [[0.07077358663082123]], [[0.14989344775676727]], [[-0.2479218691587448]], [[0.21971382200717926]], [[0.4839504361152649]], [[0.0]], [[0.2552815079689026]], [[0.6451706886291504]], [[0.026421189308166504]], [[0.4473004639148712]], [[0.0]], [[0.63569575548172]], [[0.40813905000686646]], [[0.1363624930381775]], [[0.7048509120941162]], [[0.42458778619766235]], [[0.8995046615600586]], [[0.8133471608161926]], [[0.891615092754364]], [[0.62980055809021]], [[0.17381170392036438]], [[0.6172388195991516]], [[0.4032399654388428]], [[0.17489686608314514]], [[0.8903783559799194]], [[0.31462159752845764]], [[-0.04671582579612732]], [[0.43582451343536377]], [[0.0]], [[-0.47772282361984253]], [[-0.008904226124286652]], [[-0.06744542717933655]], [[-0.25437232851982117]], [[-0.5229817032814026]], [[0.048947982490062714]], [[0.12304112315177917]], [[-0.2974587082862854]], [[-0.037500038743019104]], [[0.18688006699085236]], [[0.34264662861824036]], [[0.10371503233909607]], [[-0.048581987619400024]], [[-0.16188961267471313]], [[0.4016696512699127]], [[0.27281454205513]], [[0.0009403526782989502]], [[-0.7482065558433533]], [[0.28166401386260986]], [[0.06396123021841049]], [[0.05559232831001282]], [[0.22271659970283508]], [[0.8208223581314087]], [[-0.3992178738117218]], [[-0.13585859537124634]], [[0.6074377298355103]], [[0.37519562244415283]], [[0.0]], [[0.029275942593812943]], [[-0.2075890302658081]], [[-0.08115293085575104]], [[0.9459377527236938]], [[-0.36935582756996155]], [[-0.12920597195625305]], [[-0.39997971057891846]], [[0.2673494815826416]], [[0.3964511454105377]], [[0.1888459324836731]], [[0.5474367141723633]], [[0.10650607943534851]], [[0.8146070837974548]], [[0.42200931906700134]], [[0.33435988426208496]], [[0.0]], [[1.8396834135055542]], [[0.290752112865448]], [[0.0]], [[0.5073445439338684]], [[0.42560938000679016]], [[0.6006713509559631]], [[0.26662132143974304]], [[-0.17178994417190552]], [[-0.19176924228668213]], [[-0.8836731314659119]], [[-0.21310392022132874]], [[0.7527409791946411]], [[-0.19980505108833313]], [[0.6734033823013306]], [[0.3363690972328186]], [[-0.15691842138767242]], [[-0.06131061911582947]], [[0.2595340311527252]], [[0.0]], [[-0.06898051500320435]], [[-0.26414790749549866]], [[0.15121325850486755]], [[0.19213086366653442]], [[-0.1916687786579132]], [[-0.3715927004814148]], [[-0.15131598711013794]], [[-0.11592516303062439]], [[-0.2024286687374115]], [[-0.3478544354438782]], [[-0.30125582218170166]], [[-0.18518391251564026]], [[0.03598479926586151]], [[0.388138085603714]], [[0.29169148206710815]], [[-0.4365836977958679]], [[-0.5915818214416504]], [[0.46141403913497925]], [[0.42877963185310364]], [[0.06592471897602081]], [[-0.3373984098434448]], [[-0.5113933086395264]], [[0.6054983735084534]], [[0.2009945660829544]], [[0.3677065074443817]], [[0.1762823909521103]], [[-0.37738221883773804]], [[0.3073773980140686]], [[0.21763655543327332]], [[0.27641767263412476]], [[0.20176370441913605]], [[0.0]], [[-0.31262996792793274]], [[-0.18786297738552094]], [[0.3385644555091858]], [[0.8427461385726929]], [[0.3782927989959717]], [[0.11426600813865662]], [[0.2749873995780945]], [[0.174491286277771]], [[0.0]], [[0.7751219272613525]], [[0.9243514537811279]], [[0.04041009396314621]], [[0.004249162971973419]], [[-0.0016348063945770264]], [[0.11013387143611908]], [[-0.13746292889118195]], [[-0.009262517094612122]], [[-0.267620712518692]], [[-0.3372573256492615]], [[-0.059654176235198975]], [[-0.009123310446739197]], [[-0.3959643244743347]], [[-0.09042657911777496]], [[-0.3749397397041321]], [[0.0044653937220573425]], [[-0.30134719610214233]], [[-0.09709823131561279]], [[0.3088325560092926]], [[-0.10469850152730942]], [[0.03618910163640976]], [[0.26411861181259155]], [[-0.09008975327014923]], [[-0.2157886028289795]], [[0.2586926221847534]], [[-0.07000438868999481]], [[-0.15542274713516235]], [[-0.8314908742904663]], [[0.14555136859416962]], [[0.0]], [[0.1441788673400879]], [[-0.03604349493980408]], [[-0.16928556561470032]], [[-0.2034999579191208]], [[-0.8110275864601135]], [[-0.4949280917644501]], [[-0.09606967866420746]], [[0.2720123827457428]], [[-0.7532356977462769]], [[0.05258315056562424]], [[0.18769729137420654]], [[-0.1433999389410019]], [[0.17275568842887878]], [[-0.3756885230541229]], [[0.09838801622390747]], [[0.7040382623672485]], [[1.0916982889175415]], [[0.47074416279792786]], [[0.13548389077186584]], [[0.2805554270744324]], [[0.19116008281707764]], [[0.7343950271606445]], [[0.10825760662555695]], [[0.7045992016792297]], [[-0.1454956978559494]], [[0.0]], [[0.7825990915298462]], [[0.5290884375572205]], [[-0.6739169359207153]], [[0.22276882827281952]], [[-0.2754388451576233]], [[-0.309944748878479]], [[0.5799704790115356]], [[-0.12170644849538803]], [[-0.3932323455810547]], [[-0.05035620927810669]], [[0.3318112790584564]], [[0.09684872627258301]], [[-0.4892865717411041]], [[0.06673309952020645]], [[0.0]], [[-0.23585999011993408]], [[0.34819909930229187]], [[0.3928380012512207]], [[-0.5307929515838623]], [[0.3104713261127472]], [[-0.03901630640029907]], [[0.16598235070705414]], [[-0.1442197561264038]], [[-0.18412995338439941]], [[-0.41460898518562317]], [[-0.49987274408340454]], [[-0.10285469889640808]], [[-0.031643256545066833]], [[0.696148157119751]], [[-0.6631815433502197]], [[-0.013286463916301727]], [[-0.4211319088935852]], [[-0.3597620725631714]], [[0.04551909863948822]], [[0.186438649892807]], [[0.051820456981658936]], [[-0.27988919615745544]], [[-0.343475878238678]], [[0.6817471385002136]], [[0.05873817577958107]], [[0.24838602542877197]], [[-0.2444237321615219]], [[-0.08138075470924377]], [[-0.05544722080230713]], [[0.042258232831954956]], [[-0.05639076232910156]], [[-0.022766828536987305]], [[-1.0419952869415283]], [[-0.287173867225647]], [[0.16202396154403687]], [[0.36444634199142456]], [[-0.22105126082897186]], [[0.0]], [[-0.05799320712685585]], [[-0.3152913451194763]], [[0.920753002166748]], [[0.030135303735733032]], [[0.09507665038108826]], [[0.7823852896690369]], [[-0.18452495336532593]], [[-0.14139637351036072]], [[0.6211221218109131]], [[0.16673588752746582]], [[1.2508866786956787]], [[0.338868111371994]], [[-0.008732855319976807]], [[1.3193778991699219]], [[-0.02201792597770691]], [[0.0]], [[0.4832516312599182]], [[-0.30566805601119995]], [[-0.07100921869277954]], [[-0.09413179755210876]], [[-0.22876647114753723]], [[0.2182166874408722]], [[-0.6523147821426392]], [[-0.06451603770256042]], [[-0.1960306465625763]], [[-0.5960354804992676]], [[-0.06557685136795044]], [[-0.0071437060832977295]], [[0.07216262817382812]], [[-0.25240105390548706]], [[0.022137321531772614]], [[-0.32101964950561523]], [[-0.06981131434440613]], [[-0.05433782935142517]], [[0.21459165215492249]], [[-0.014839112758636475]], [[0.14333108067512512]], [[0.016703635454177856]], [[-0.047286272048950195]], [[0.0]], [[0.1803247034549713]], [[0.1186983734369278]], [[0.2654498219490051]], [[0.18654458224773407]], [[0.36985188722610474]], [[-0.0499112606048584]], [[0.5684071779251099]], [[0.7143939733505249]], [[0.5123813152313232]], [[1.1059913635253906]], [[0.7878177165985107]], [[1.237230658531189]], [[0.7418719530105591]], [[1.0962802171707153]], [[0.4195529818534851]], [[-0.22719240188598633]], [[0.028217822313308716]], [[0.4242941737174988]], [[-0.18958301842212677]], [[-0.34418874979019165]], [[0.5613462924957275]], [[0.5363394021987915]], [[-0.07225154340267181]], [[0.0]], [[-0.11315010488033295]], [[-0.1609543263912201]], [[-0.3282749652862549]], [[-0.31777238845825195]], [[-0.8742420673370361]], [[-0.5279709100723267]], [[-0.08191017806529999]], [[-0.11925432085990906]], [[0.0]], [[-0.6990689635276794]], [[0.2773571014404297]], [[0.12263533473014832]], [[0.4812845289707184]], [[1.2704886198043823]], [[0.3170178532600403]], [[-0.05059364438056946]], [[0.02256283164024353]], [[0.2851043939590454]], [[0.11071815341711044]], [[0.9705004096031189]], [[0.1471274048089981]], [[0.07647106051445007]], [[0.05910810828208923]], [[-0.22404465079307556]], [[-0.1883218139410019]], [[-0.19169017672538757]], [[0.16867032647132874]], [[0.28067493438720703]], [[0.03774707019329071]], [[1.2122063636779785]], [[0.27372482419013977]], [[0.09474241733551025]], [[0.9251664280891418]], [[0.3434632122516632]], [[0.07338714599609375]], [[-0.2620127201080322]], [[0.6221926808357239]], [[0.17199620604515076]], [[-0.06230240315198898]], [[-0.4626917839050293]], [[-0.2751673460006714]], [[-0.22885718941688538]], [[-0.034522056579589844]], [[-0.028286457061767578]], [[-0.0454692542552948]], [[-0.1068267747759819]], [[-0.17020773887634277]], [[0.0]], [[-0.11315008997917175]], [[-0.16095426678657532]], [[-0.3282749652862549]], [[-0.3177720904350281]], [[-0.4687002897262573]], [[-0.4571882486343384]], [[-0.053630903363227844]], [[-0.15611568093299866]], [[0.06253552436828613]], [[-0.10204076766967773]], [[-0.2724055349826813]], [[-0.8884377479553223]], [[0.7510726451873779]], [[-0.4100053906440735]], [[-0.21767401695251465]], [[-0.5387561917304993]], [[-0.28900206089019775]], [[-0.04404574632644653]], [[-0.2408917397260666]], [[-0.4542469382286072]], [[0.15910124778747559]], [[-0.006833534687757492]], [[0.8251106142997742]], [[-0.02882341668009758]], [[0.8180719614028931]], [[-0.48255181312561035]], [[-0.8068190813064575]], [[-0.28250089287757874]], [[1.2034987211227417]], [[0.5369545221328735]], [[-0.5715311765670776]], [[-0.15029698610305786]], [[0.8828438520431519]], [[-0.22732314467430115]], [[-0.3033794164657593]], [[-0.5021559000015259]], [[-0.20570847392082214]], [[-0.4716625213623047]], [[-0.1900111734867096]], [[0.0]], [[0.05415794253349304]], [[0.14310401678085327]], [[-0.05416715145111084]], [[-0.05766594409942627]], [[0.11717924475669861]], [[0.8882848620414734]], [[-0.2340213805437088]], [[0.718437910079956]], [[-0.1091945692896843]], [[0.060078173875808716]], [[-0.25207677483558655]], [[-0.3010685443878174]], [[-0.3807055354118347]], [[0.0779539942741394]], [[-0.529540479183197]], [[0.2086186408996582]], [[-0.3218670189380646]], [[-0.0678824633359909]], [[-0.350906640291214]], [[-0.3217725157737732]], [[0.012524029240012169]], [[-0.03183601796627045]], [[0.5777827501296997]], [[0.7468234300613403]], [[-0.1630244255065918]], [[0.14273273944854736]], [[0.6001750230789185]], [[-0.15438812971115112]], [[-0.07389817386865616]], [[0.02798248827457428]], [[0.21119000017642975]], [[0.17057399451732635]], [[-0.12145961821079254]], [[1.4042531251907349]], [[-0.2552311420440674]], [[0.0]], [[1.7576959133148193]], [[0.2652676999568939]], [[-0.532076358795166]], [[0.46684330701828003]], [[-0.4316743314266205]], [[-0.17716309428215027]], [[0.11791273951530457]], [[-0.8099088668823242]], [[-0.23466666042804718]], [[0.004890859127044678]], [[1.1284434795379639]], [[-0.19554933905601501]], [[-0.2295927256345749]], [[-0.005397334694862366]], [[-0.1519307792186737]], [[-0.06375208497047424]], [[0.0699400007724762]], [[-0.38124215602874756]], [[-0.3201209008693695]], [[-0.0012864023447036743]], [[-0.15589475631713867]], [[0.08496685326099396]], [[0.2090633064508438]], [[-0.39272165298461914]], [[-0.21336020529270172]], [[-0.04292147234082222]], [[-0.26635199785232544]], [[0.9731974601745605]], [[-0.06611437350511551]], [[-0.29342782497406006]], [[0.0]], [[0.23631475865840912]], [[0.24193400144577026]], [[0.12748706340789795]], [[0.02314920723438263]], [[-0.3017749488353729]], [[0.0]], [[-0.11315028369426727]], [[-0.16095438599586487]], [[-0.32827508449554443]], [[-0.3177723288536072]], [[-0.9374514818191528]], [[-0.3428511321544647]], [[0.0]], [[0.6195987462997437]], [[0.2813819646835327]], [[0.6263552904129028]], [[0.3347102701663971]], [[0.14111021161079407]], [[0.10234580934047699]], [[0.8636057376861572]], [[-0.3791171610355377]], [[0.0]], [[-0.0494956374168396]], [[-0.02441958151757717]], [[0.17810788750648499]], [[0.5916984677314758]], [[0.29732465744018555]], [[0.21197515726089478]], [[-0.029691623523831367]], [[-0.006939411163330078]], [[-0.07446646690368652]], [[-1.0550837516784668]], [[-0.1024923175573349]], [[-0.11646057665348053]], [[-0.4333414137363434]], [[0.0]], [[-1.0451041460037231]], [[-0.8495089411735535]], [[-0.715611457824707]], [[0.020462453365325928]], [[-0.21524077653884888]], [[0.4296792149543762]], [[0.18540215492248535]], [[-0.0544714629650116]], [[-0.1397612988948822]], [[-1.0246851444244385]], [[-0.9792667627334595]], [[-0.4391999840736389]], [[0.008254297077655792]], [[-0.014320097863674164]], [[-0.2421032339334488]], [[-0.7000473737716675]], [[-0.06908495724201202]], [[0.27226507663726807]], [[-0.3234168291091919]], [[-0.1670716106891632]], [[1.3261514902114868]], [[-0.2033063769340515]], [[0.31578558683395386]], [[0.027059204876422882]], [[0.3521672189235687]], [[-0.000431746244430542]], [[0.009138792753219604]], [[0.006018131971359253]], [[-0.4795389175415039]], [[0.0]], [[-0.6785926222801208]], [[-0.3761034905910492]], [[0.017589807510375977]], [[-0.6922722458839417]], [[-0.22230327129364014]], [[0.24792560935020447]], [[0.4533674120903015]], [[0.26135215163230896]], [[0.37375324964523315]], [[0.09969964623451233]], [[0.3789459466934204]], [[-0.4140129089355469]], [[0.22210529446601868]], [[-0.08618903160095215]], [[-0.6229642629623413]], [[-0.36461949348449707]], [[0.001928761601448059]], [[0.07460097968578339]], [[-0.024405986070632935]], [[0.41536790132522583]], [[-0.5022562742233276]], [[0.0]], [[-0.6514624953269958]], [[0.2527366280555725]], [[0.6406691670417786]], [[0.42520418763160706]], [[0.9283555150032043]], [[0.19699525833129883]], [[-0.07319112867116928]], [[1.0091948509216309]], [[0.22232165932655334]], [[-0.27614766359329224]], [[-0.10661779344081879]], [[-0.40129587054252625]], [[0.4566565155982971]], [[0.12052021920681]], [[-0.1585906594991684]], [[0.7687742114067078]], [[-0.24234357476234436]], [[-0.1884719580411911]], [[-0.11890310794115067]], [[0.029736220836639404]], [[-0.14734989404678345]], [[-0.07720616459846497]], [[-0.962885856628418]], [[-0.5457957983016968]], [[0.0]], [[1.7316524982452393]], [[0.5812966823577881]], [[-0.0170558113604784]], [[0.6157525777816772]], [[0.3585219979286194]], [[1.0859313011169434]], [[1.2293637990951538]], [[0.6657370328903198]], [[-0.27110129594802856]], [[0.576088547706604]], [[0.18467089533805847]], [[0.2059115618467331]], [[-0.09626752138137817]], [[-0.2475784868001938]], [[0.30291682481765747]], [[-0.3672313690185547]], [[-0.45793458819389343]], [[0.12776628136634827]], [[0.116434246301651]], [[-0.3311045169830322]], [[-0.3291718363761902]], [[-0.5881142020225525]], [[0.0]], [[-0.11315010488033295]], [[-0.1609543263912201]], [[-0.3282749652862549]], [[-0.31777238845825195]], [[-1.2128386497497559]], [[-0.2958676218986511]], [[0.16817514598369598]], [[-0.04518979415297508]], [[0.9555439352989197]], [[-0.647606372833252]], [[0.0]], [[-0.6321414709091187]], [[-0.18863695859909058]], [[-0.24577367305755615]], [[-0.11126789450645447]], [[-0.5538936853408813]], [[-0.6566932201385498]], [[-0.23045940697193146]], [[0.7552281618118286]], [[-0.022055909037590027]], [[0.22129753232002258]], [[-0.07048245519399643]], [[-0.3302536904811859]], [[-0.670423150062561]], [[0.0]], [[-0.11315010488033295]], [[-0.1609543263912201]], [[-0.3282749652862549]], [[-0.31777238845825195]], [[-0.9512451887130737]], [[-0.21725928783416748]], [[-0.4660855531692505]], [[-0.10142922401428223]], [[-0.5325442552566528]], [[-0.39290139079093933]], [[-0.6951211094856262]], [[0.0]], [[0.9831665754318237]], [[0.4578494131565094]], [[0.08543424308300018]], [[-0.8154470324516296]], [[-0.25467103719711304]], [[0.30182507634162903]], [[-0.43891215324401855]], [[0.04721388220787048]], [[0.7508964538574219]], [[-0.1610533595085144]], [[0.1081523671746254]], [[0.013144731521606445]], [[0.3151005804538727]], [[0.10959285497665405]], [[-0.7592026591300964]], [[0.0]], [[-0.11315015703439713]], [[-0.1609542965888977]], [[-0.3282751142978668]], [[-0.31777223944664]], [[-0.9684522151947021]], [[-0.1416284441947937]], [[1.1775922775268555]], [[-0.08222812414169312]], [[-0.04870787262916565]], [[-0.48747432231903076]], [[0.06947419047355652]], [[-0.09850706160068512]], [[0.5855370759963989]], [[0.47989678382873535]], [[-0.03977227210998535]], [[0.2939939796924591]], [[0.07914671301841736]], [[-0.6952564120292664]], [[-0.5079337358474731]], [[-0.23966261744499207]], [[1.3068702220916748]], [[0.22201064229011536]], [[-0.23787713050842285]], [[-0.26504847407341003]], [[1.147975206375122]], [[-0.3136684000492096]], [[-0.15930332243442535]], [[-0.22612649202346802]], [[-0.7896324992179871]], [[0.0]], [[-0.16508659720420837]], [[0.19238050282001495]], [[-0.3783668875694275]], [[-0.029806990176439285]], [[1.1177510023117065]], [[0.26610076427459717]], [[0.42510926723480225]], [[0.270589143037796]], [[0.007959051057696342]], [[-0.21738484501838684]], [[0.23324723541736603]], [[0.1351674646139145]], [[0.07237818837165833]], [[0.2051428258419037]], [[1.0726890563964844]], [[-0.11582723259925842]], [[0.7605658769607544]], [[0.05052123963832855]], [[-0.21626761555671692]], [[-0.048646390438079834]], [[0.1022816002368927]], [[0.19236895442008972]], [[0.06973028928041458]], [[0.36506563425064087]], [[0.24742719531059265]], [[0.1370040774345398]], [[-0.37505871057510376]], [[-0.5912803411483765]], [[0.19713395833969116]], [[-0.19305771589279175]], [[-0.022530287504196167]], [[-0.807009220123291]], [[0.0]], [[-0.23948270082473755]], [[0.23459550738334656]], [[0.35819733142852783]], [[0.22004404664039612]], [[0.6655341982841492]], [[1.2659815549850464]], [[0.42358943819999695]], [[1.1665126085281372]], [[0.10800701379776001]], [[0.7678462862968445]], [[0.34882646799087524]], [[0.1190594732761383]], [[-0.2907504439353943]], [[-0.22656695544719696]], [[0.44792672991752625]], [[0.4304298758506775]], [[0.4432483911514282]], [[-0.011124484241008759]], [[-0.43258318305015564]], [[0.5367149710655212]], [[0.30280691385269165]], [[-0.745915949344635]], [[-0.20244798064231873]], [[0.11665849387645721]], [[-0.13029369711875916]], [[0.03775295615196228]], [[1.3005520105361938]], [[0.12205465137958527]], [[0.3567902743816376]], [[0.20819202065467834]], [[1.1356762647628784]], [[0.07403004169464111]], [[-0.08696544170379639]], [[0.6840282082557678]], [[-0.06953636556863785]], [[0.16206207871437073]], [[0.14589133858680725]], [[-0.2873399555683136]], [[-0.8634119033813477]], [[0.0]], [[-1.066534161567688]], [[-0.2957526743412018]], [[0.7042972445487976]], [[-0.5734511613845825]], [[-0.6283057928085327]], [[0.05885763466358185]], [[0.22921967506408691]], [[-0.014938801527023315]], [[-0.21995554864406586]], [[1.2027610540390015]], [[0.058524370193481445]], [[0.22777575254440308]], [[0.046930715441703796]], [[0.513462245464325]], [[0.08161523193120956]], [[0.2233387529850006]], [[-0.028177255764603615]], [[-0.270009309053421]], [[0.605848491191864]], [[-0.21079128980636597]], [[-0.07574090361595154]], [[-0.8880038261413574]], [[0.0]], [[-0.349075049161911]], [[-0.03794197738170624]], [[0.10097456723451614]], [[-0.1835077702999115]], [[1.1666603088378906]], [[-0.03571096062660217]], [[0.3642069697380066]], [[0.04140689969062805]], [[1.1963859796524048]], [[0.2140587419271469]], [[0.04134552180767059]], [[-0.21254763007164001]], [[0.3866804540157318]], [[0.20443511009216309]], [[1.0101633071899414]], [[-0.10698840022087097]], [[0.02245423197746277]], [[-0.9398739337921143]], [[0.0]], [[-0.31944748759269714]], [[-0.14069755375385284]], [[-0.13131114840507507]], [[0.2538451552391052]], [[-0.33476167917251587]], [[-0.12414151430130005]], [[-0.2321847677230835]], [[-0.3681277334690094]], [[-0.2025008201599121]], [[-0.020148247480392456]], [[-0.2814178466796875]], [[-0.39795398712158203]], [[-0.4727461338043213]], [[-0.5009709000587463]], [[0.13382738828659058]], [[-0.29346248507499695]], [[0.2754056453704834]], [[0.7385140061378479]], [[-0.3606310188770294]], [[0.011190176010131836]], [[0.6106678247451782]], [[0.6563968658447266]], [[0.29783523082733154]], [[0.21507014334201813]], [[0.07135206460952759]], [[0.05531121790409088]], [[0.034417085349559784]], [[0.5709330439567566]], [[-0.2831955850124359]], [[-0.05203181877732277]], [[-0.37318456172943115]], [[-0.21381771564483643]], [[0.05036003887653351]], [[0.2826773524284363]], [[0.1545170545578003]], [[0.6225979328155518]], [[0.3056192398071289]], [[-0.40037697553634644]], [[0.2433236837387085]], [[-0.9666733741760254]], [[0.0]], [[-0.11315028369426727]], [[-0.16095438599586487]], [[-0.32827508449554443]], [[-0.3177723288536072]], [[-1.0019066333770752]], [[0.0]], [[-1.0665342807769775]], [[0.0]], [[0.3358927071094513]], [[0.27658388018608093]], [[-0.02390420436859131]], [[-0.8246665596961975]], [[0.02490532398223877]], [[-0.0751577615737915]], [[-0.4204099476337433]], [[-0.08679783344268799]], [[-0.16970598697662354]], [[-1.0981321334838867]], [[0.0]], [[-0.8151009678840637]], [[-0.7751039862632751]], [[-0.21434929966926575]], [[0.32458919286727905]], [[-0.3131054639816284]], [[-0.36295178532600403]], [[0.11368314921855927]], [[0.5701156258583069]], [[-0.06972941756248474]], [[-0.5664778351783752]], [[-0.4124923348426819]], [[-0.33932021260261536]], [[-0.3057430684566498]], [[-0.28953155875205994]], [[-0.47142714262008667]], [[0.11034680157899857]], [[-0.4426458477973938]], [[-1.1512389183044434]], [[0.0]], [[-0.06898057460784912]], [[-0.2641478180885315]], [[-0.09434257447719574]], [[-0.031158894300460815]], [[-0.14534389972686768]], [[-0.21303969621658325]], [[-0.26282310485839844]], [[-1.1948001384735107]], [[-1.1622021198272705]], [[0.0]], [[-0.5835639834403992]], [[0.45616796612739563]], [[0.2697812020778656]], [[1.4126311540603638]], [[-0.4246101975440979]], [[1.2141125202178955]], [[0.12956398725509644]], [[0.35592541098594666]], [[-0.14977876842021942]], [[0.45999911427497864]], [[-0.05046969652175903]], [[0.9155892133712769]], [[0.31853216886520386]], [[-0.14723096787929535]], [[-0.006107032299041748]], [[-0.26036378741264343]], [[-0.2650581896305084]], [[-0.031888797879219055]], [[-0.1363539695739746]], [[-0.2604137659072876]], [[0.023786455392837524]], [[-1.1961283683776855]], [[0.0]], [[-0.5948150753974915]], [[-0.015451949089765549]], [[0.41560128331184387]], [[0.04535946995019913]], [[0.3976423144340515]], [[0.3443436920642853]], [[0.2303028404712677]], [[0.3749541640281677]], [[0.05363166332244873]], [[-0.10203158855438232]], [[-1.2533457279205322]], [[0.0]], [[-1.309175729751587]], [[0.0]], [[-0.6427646279335022]], [[-0.25277280807495117]], [[0.4590364694595337]], [[0.10614445060491562]], [[0.04178336262702942]], [[0.5063835382461548]], [[0.05558121204376221]], [[-0.07124608755111694]], [[-1.312891960144043]], [[0.0]], [[-1.1375932693481445]], [[0.008406013250350952]], [[0.20435731112957]], [[-0.20710459351539612]], [[0.7313645482063293]], [[0.03327249363064766]], [[-0.24077190458774567]], [[-0.3632660508155823]], [[-0.24666494131088257]], [[-0.9493073225021362]], [[-1.3717505931854248]], [[0.0]], [[-0.4777224063873291]], [[-0.008904270827770233]], [[-0.06744605302810669]], [[-0.254372239112854]], [[-1.4030426740646362]], [[0.0]], [[-0.02302481234073639]], [[0.18093010783195496]], [[-0.3258199393749237]], [[0.1840234100818634]], [[0.4959213137626648]], [[0.3415820598602295]], [[0.34320011734962463]], [[-0.5092895030975342]], [[0.09893601387739182]], [[0.7498610615730286]], [[-0.2590195834636688]], [[-0.27427077293395996]], [[-0.2192639857530594]], [[-0.5760754346847534]], [[0.21253322064876556]], [[0.43418270349502563]], [[0.5187410116195679]], [[0.28893759846687317]], [[-0.019045859575271606]], [[-0.03517922759056091]], [[-1.4540209770202637]], [[0.0]], [[-1.4740253686904907]], [[0.0]], [[-0.1294383406639099]], [[-0.9234673976898193]], [[-0.29208123683929443]], [[0.3168879449367523]], [[-0.2587331533432007]], [[-0.3450998067855835]], [[-0.9210726022720337]], [[-0.28276610374450684]], [[-0.39471161365509033]], [[-0.28002044558525085]], [[0.6951402425765991]], [[-0.12371709942817688]], [[-0.18290072679519653]], [[-0.31371670961380005]], [[-1.5445067882537842]], [[0.0]], [[-0.04949557036161423]], [[0.0677909255027771]], [[-0.17038728296756744]], [[-0.1645030379295349]], [[-0.21819227933883667]], [[-1.6618385314941406]], [[0.0]]], \"firstDimensionName\": \"Layer\", \"secondDimensionName\": \"Neuron\"}\n",
       "    )\n",
       "    </script>"
      ],
      "text/plain": [
       "<circuitsvis.utils.render.RenderedHTML at 0x7fd37584ac50>"
      ]
     },
     "execution_count": 11,
     "metadata": {},
     "output_type": "execute_result"
    }
   ],
   "source": [
    "import interp_utils\n",
    "import importlib\n",
    "importlib.reload(interp_utils)\n",
    "\n",
    "feature = 69\n",
    "text_list, full_text, token_list, full_token_list, indices = get_feature_datapoints_with_idx(feature, model_activations[layer], model.tokenizer, token_amount, dataset, setting=\"uniform\", k=100)\n",
    "interp_utils.visualize_text(text_list, feature, model, None, layer=layer, setting=\"model\")"
   ]
  },
  {
   "cell_type": "markdown",
   "metadata": {},
   "source": [
    "## Looking at constructive interference"
   ]
  },
  {
   "cell_type": "code",
   "execution_count": null,
   "metadata": {},
   "outputs": [],
   "source": [
    "k = 5_000\n",
    "neuron_index = 69"
   ]
  },
  {
   "cell_type": "code",
   "execution_count": null,
   "metadata": {},
   "outputs": [
    {
     "name": "stdout",
     "output_type": "stream",
     "text": [
      "(9909,)\n",
      "[93, 289, 325, 470, 509]\n"
     ]
    },
    {
     "data": {
      "text/plain": [
       "(509, None)"
      ]
     },
     "execution_count": 20,
     "metadata": {},
     "output_type": "execute_result"
    }
   ],
   "source": [
    "\n",
    "def get_relevant_other_neurons(neuron_index: int, layer=0, k=100, weight_cutoff=1.2): # TODO: check weight cutoff vis a vis using quantified models\n",
    "\t# Get the input data-points that most activate the neuron\n",
    "\tbest_feature_activations = model_activations[layer][:, :, neuron_index]\n",
    "\tsummed_along_sentence = best_feature_activations.sum(axis=1)\n",
    "\tprint(summed_along_sentence.shape)\n",
    "\t# Find the input data-points that most activate the neuron\n",
    "\tfound_indices = np.argsort(summed_along_sentence)[::-1][:k]\n",
    "\n",
    "\tdef get_activated_neurons(layer: int):\n",
    "\t\tneurons = set()\n",
    "\t\tfor i in found_indices:\n",
    "\t\t\tcutoff_n = model_activations[layer][i, :, :] > weight_cutoff\n",
    "\t\t\t_pos_nonzero, neuron_nonzero = np.nonzero(cutoff_n)\n",
    "\t\t\t# print(\"LEN\", neuron_nonzero.shape)\n",
    "\t\t\tneurons.update(neuron_nonzero)\n",
    "\t\treturn list(neurons)\n",
    "\t\n",
    "\tother_layer_neurons = []\n",
    "\tfor i in range(n_layers):\n",
    "\t\tif i != layer:\n",
    "\t\t\tother_layer_neurons.append((i, get_activated_neurons(i)))\n",
    "\treturn other_layer_neurons\n",
    "\n",
    "other_neurons = get_relevant_other_neurons(neuron_index, layer=layer, k=k, weight_cutoff=2)\n",
    "len(other_neurons[4][1]), print([len(i[1]) for i in other_neurons])"
   ]
  },
  {
   "cell_type": "code",
   "execution_count": null,
   "metadata": {},
   "outputs": [
    {
     "name": "stdout",
     "output_type": "stream",
     "text": [
      "(5000, 1177)\n",
      "(5000,)\n"
     ]
    },
    {
     "data": {
      "text/plain": [
       "(None, None)"
      ]
     },
     "execution_count": 21,
     "metadata": {},
     "output_type": "execute_result"
    }
   ],
   "source": [
    "go_to_n_layers = 4\n",
    "\n",
    "def get_auxiliary_data(neuron_index: int, layer: int):\n",
    "\t# TODO: this should be a different function!! (UTILS)\n",
    "\t# Get the input data-points that most activate the neuron\n",
    "\tbest_feature_activations = model_activations[layer][:, :, neuron_index]\n",
    "\tsummed_along_sentence = best_feature_activations.sum(axis=1)\n",
    "\t# Find the input data-points that most activate the neuron\n",
    "\tfound_indices = np.argsort(summed_along_sentence)[::-1][:k]\n",
    "\ttotal_other_neurons = 0\n",
    "\tfor other_neur in other_neurons:\n",
    "\t\tother_layer, neurons = other_neur\n",
    "\t\tif other_layer <= go_to_n_layers:\n",
    "\t\t\ttotal_other_neurons += len(neurons)\n",
    "\t# sum([len(i[1]) for i in other_neurons])\n",
    "\n",
    "\tconcatenated = np.zeros((len(found_indices), total_other_neurons))\n",
    "\n",
    "\tcounter = 0\n",
    "\tfor other_neur in other_neurons:\n",
    "\t\tother_layer, neurons = other_neur\n",
    "\t\tif other_layer <= go_to_n_layers:\n",
    "\t\t\tr = model_activations[other_layer][:, :, neurons][found_indices].sum(axis=1) # Sum over the entire sentence/ text input\n",
    "\t\t\tconcatenated[:, counter:counter+len(neurons)] = r\n",
    "\t\t\tcounter += len(neurons)\n",
    "\t\t\n",
    "\treturn concatenated, found_indices\n",
    "\n",
    "\n",
    "aux_data, datapoints_used = get_auxiliary_data(neuron_index, layer=0)\n",
    "# TODO: CONSIDER ONLY USING THE CLOSER LAYERS...\n",
    "print(aux_data.shape), print(datapoints_used.shape)"
   ]
  },
  {
   "cell_type": "code",
   "execution_count": null,
   "metadata": {},
   "outputs": [],
   "source": [
    "def run_gaussian_mixture_model():\n",
    "\t# TODO:\n",
    "\tpass"
   ]
  },
  {
   "cell_type": "code",
   "execution_count": null,
   "metadata": {},
   "outputs": [
    {
     "name": "stdout",
     "output_type": "stream",
     "text": [
      "Done with iteration 0\n",
      "Done with iteration 1\n",
      "Done with iteration 2\n",
      "Done with iteration 3\n",
      "Done with iteration 4\n",
      "Done with iteration 5\n",
      "Done with iteration 6\n",
      "Done with iteration 7\n",
      "Done with iteration 8\n",
      "Done with iteration 9\n",
      "Done with iteration 10\n",
      "Done with iteration 11\n",
      "Done with iteration 12\n",
      "Done with iteration 13\n",
      "Done with iteration 14\n",
      "Done with iteration 15\n",
      "Done with iteration 16\n",
      "Done with iteration 17\n",
      "Done with iteration 18\n",
      "Done with iteration 19\n",
      "Done with iteration 20\n",
      "Done with iteration 21\n",
      "Done with iteration 22\n",
      "Done with iteration 23\n",
      "Done with iteration 24\n",
      "Done with iteration 25\n",
      "Done with iteration 26\n",
      "Done with iteration 27\n",
      "Done with iteration 28\n",
      "Done with iteration 29\n",
      "Done with iteration 30\n",
      "Done with iteration 31\n",
      "Done with iteration 32\n",
      "Done with iteration 33\n",
      "Done with iteration 34\n",
      "Done with iteration 35\n",
      "Done with iteration 36\n",
      "Done with iteration 37\n",
      "Done with iteration 38\n",
      "Done with iteration 39\n",
      "Done with iteration 40\n",
      "Done with iteration 41\n"
     ]
    }
   ],
   "source": [
    "import numpy as np\n",
    "from sklearn.preprocessing import normalize\n",
    "from sklearn.decomposition import PCA\n",
    "from sklearn.decomposition import IncrementalPCA\n",
    "\n",
    "# Cosine similarity function\n",
    "# TODO: yay or no\n",
    "def cosine_similarity(a, b):\n",
    "    return np.dot(a, b) / (np.linalg.norm(a) * np.linalg.norm(b))\n",
    "\n",
    "# KMeans with cosine similarity\n",
    "def kmeans_cosine(X, n_clusters:int, iterations=100):\n",
    "    k = n_clusters\n",
    "    # Normalize input data\n",
    "    X_normalized = normalize(X, axis=1)\n",
    "\n",
    "    # Randomly initialize centroids\n",
    "    n_samples, n_features = X_normalized.shape\n",
    "    centroids = X_normalized[np.random.choice(n_samples, k, replace=False)]\n",
    "\n",
    "    for iter in range(iterations):\n",
    "        # Cluster assignment step\n",
    "        clusters = [[] for _ in range(k)]\n",
    "        for idx, x in enumerate(X_normalized):\n",
    "            similarities = [cosine_similarity(x, centroid) for centroid in centroids]\n",
    "            # similarities = [np.dot(x, centroid) for centroid in centroids]\n",
    "            closest = np.argmax(similarities)\n",
    "            clusters[closest].append(idx)\n",
    "\n",
    "        # Update centroids\n",
    "        # TODO: we maybe able to just **not use** PCA at all here.... slow it may be\n",
    "        new_centroids = []\n",
    "        for cluster in clusters:\n",
    "            if cluster:  # Check if cluster is not empty\n",
    "                new_centroid = np.mean(X_normalized[cluster], axis=0)\n",
    "                new_centroids.append(new_centroid)\n",
    "            else:\n",
    "                new_centroids.append(np.random.rand(n_features))  # Reinitialize empty clusters\n",
    "\n",
    "        new_centroids = np.array(new_centroids)\n",
    "        if np.allclose(centroids, new_centroids):\n",
    "            break\n",
    "        centroids = new_centroids\n",
    "        print(\"Done with iteration\", iter)\n",
    "\n",
    "    return centroids, clusters\n",
    "\n",
    "# TODO: no function. Just on global so we can stop middway etc etc\n",
    "# TODO: can we speed this up??? Maybe we use PCA\n",
    "_, cluster_by_idx = kmeans_cosine(aux_data, iterations=400, n_clusters=30)"
   ]
  },
  {
   "cell_type": "code",
   "execution_count": null,
   "metadata": {},
   "outputs": [
    {
     "name": "stdout",
     "output_type": "stream",
     "text": [
      "[102, 40, 325, 7, 182, 107, 116, 226, 159, 146, 151, 192, 181, 67, 328, 143, 58, 356, 350, 174, 141, 303, 39, 320, 34, 86, 276, 116, 185, 90]\n"
     ]
    }
   ],
   "source": [
    "# TODO: GMMs\n",
    "print([len(c) for c in cluster_by_idx])"
   ]
  },
  {
   "cell_type": "code",
   "execution_count": null,
   "metadata": {},
   "outputs": [
    {
     "data": {
      "text/plain": [
       "(2681, 9909)"
      ]
     },
     "execution_count": 24,
     "metadata": {},
     "output_type": "execute_result"
    }
   ],
   "source": [
    "datapoints_used[4], len(dataset)"
   ]
  },
  {
   "cell_type": "code",
   "execution_count": null,
   "metadata": {},
   "outputs": [
    {
     "name": "stdout",
     "output_type": "stream",
     "text": [
      "Responses of natural wildlife populations to air pollution.\n",
      "Deer mice (Peromyscus californicus) trap\n",
      "(90, 40, 512)\n"
     ]
    },
    {
     "data": {
      "text/html": [
       "<div id=\"circuits-vis-c9c3b226-c542\" style=\"margin: 15px 0;\"/>\n",
       "    <script crossorigin type=\"module\">\n",
       "    import { render, TextNeuronActivations } from \"https://unpkg.com/circuitsvis@1.41.0/dist/cdn/esm.js\";\n",
       "    render(\n",
       "      \"circuits-vis-c9c3b226-c542\",\n",
       "      TextNeuronActivations,\n",
       "      {\"tokens\": [\"1\", \"\\n\", \"P\", \"el\", \"arg\", \"onium\", \"xc\", \"3\", \"x\", \"97\", \"\\n\", \"International\", \" myc\", \"otoxin\", \" check\", \" sample\", \" program\", \":\", \" Part\", \" II\", \".\", \" Report\", \" on\", \"\\n\", \"Ir\", \"rit\", \"ant\", \" contact\", \" dermat\", \"itis\", \" and\", \" chrome\", \"-\", \"pass\", \"ivated\", \" metal\", \".\", \"\\\\newline\", \"An\", \" outbreak\", \" of\", \" hand\", \" dermat\", \"itis\", \" is\", \" reported\", \" amongst\", \" employees\", \" working\", \" on\", \"\\n\", \"H\", \"alo\", \"alk\", \"aline\", \" Bi\", \"ocon\", \"versions\", \" for\", \" Meth\", \"ane\", \" Production\", \" from\", \" Micro\", \"al\", \"gae\", \" G\", \"rown\", \" on\", \" Sun\", \"light\", \".\", \"\\\\newline\", \"Micro\", \"al\", \"gal\", \" biomass\", \" can\", \" be\", \" converted\", \" to\", \" bio\", \"fu\", \"els\", \" to\", \"\\n\", \"S\", \"om\", \"itic\", \"-\", \"verte\", \"bral\", \" correlation\", \" and\", \" vertebral\", \" levels\", \" in\", \" the\", \" human\", \" embryo\", \".\", \"\\\\newline\", \"S\", \"om\", \"itic\", \" and\", \" vertebral\", \" inter\", \"relations\", \"hips\", \" and\", \" levels\", \" were\", \" studied\", \" in\", \"\\n\", \"Ass\", \"essment\", \" of\", \" HIV\", \"-\", \"1\", \" screening\", \" test\", \" sensit\", \"ivities\", \" using\", \"\\n\", \"P\", \"53\", \"\\n\", \"Ac\", \"ute\", \" and\", \" long\", \"-\", \"term\", \" effects\", \" of\", \"\\n\", \"International\", \" myc\", \"otoxin\", \" check\", \" sample\", \" program\", \":\", \" Part\", \" II\", \".\", \" Report\", \" on\", \" laboratory\", \" performance\", \" for\", \" determination\", \" of\", \"\\n\", \"B\", \"ung\", \"ar\", \"otoxin\", \"\\\\newline\", \"\\\\newline\", \"B\", \"ung\", \"ar\", \"otox\", \"ins\", \" are\", \" a\", \" group\", \" of\", \" closely\", \" related\", \" neuro\", \"toxic\", \" proteins\", \" of\", \"\\n\", \"A\", \"tax\", \"ia\", \"\\u2013\", \"\\n\", \"P\", \"el\", \"arg\", \"onium\", \"xc\", \"3\", \"x\", \"97\", \"p\", \"elt\", \"atum\", \" (\", \"\\n\", \"Ph\", \"ag\", \"ocytosis\", \" of\", \" the\", \" Legion\", \"na\", \"ires\", \"'\", \" disease\", \" bacterium\", \" (\", \"Leg\", \"ion\", \"ella\", \" pneum\", \"ophila\", \")\", \" occurs\", \" by\", \" a\", \" novel\", \" mechanism\", \":\", \" engulf\", \"ment\", \"\\n\", \"C\", \"aps\", \"ular\", \" hy\", \"al\", \"ur\", \"onic\", \" acid\", \"-\", \"mediated\", \" adhesion\", \" of\", \" P\", \"aste\", \"ure\", \"lla\", \" mult\", \"oc\", \"ida\", \" to\", \" turkey\", \" air\", \" sac\", \" macrophages\", \".\", \"\\\\newline\", \"Ser\", \"ogr\", \"oup\", \" A\", \" strains\", \" of\", \" P\", \"aste\", \"ure\", \"lla\", \" mult\", \"oc\", \"ida\", \"\\n\", \"A\", \"tax\", \"ia\", \"\\u2013\", \"tel\", \"ang\", \"ie\", \"ct\", \"asia\", \"\\n\", \"A\", \"qu\", \"agen\", \"ic\", \" ker\", \"at\", \"oderm\", \"a\", \" associated\", \" with\", \" a\", \" mutation\", \" of\", \" the\", \" cystic\", \" fibrosis\", \" gene\", \".\", \"\\\\newline\", \"Rep\", \"orted\", \" for\", \" the\", \" first\", \" time\", \" in\", \" 1996\", \",\", \" aqu\", \"agen\", \"ic\", \" ker\", \"at\", \"oderm\", \"a\", \" is\", \"\\n\", \"Ident\", \"ification\", \" of\", \" Ten\", \" Additional\", \"\\n\", \"Evaluation\", \" of\", \" S\", \"cler\", \"otin\", \"ia\", \" St\", \"em\", \" Rot\", \" Resistance\", \" in\", \" Oil\", \"seed\", \" Br\", \"ass\", \"ica\", \" nap\", \"us\", \" Using\", \" a\", \" Pet\", \"io\", \"le\", \" In\", \"oc\", \"ulation\", \" Techn\", \"ique\", \" Under\", \" Green\", \"house\", \" Conditions\", \".\", \"\\\\newline\", \"\\n\", \"Are\", \" End\", \"\\n\", \"B\", \"ung\", \"ar\", \"otoxin\", \"\\\\newline\", \"\\\\newline\", \"B\", \"ung\", \"ar\", \"otox\", \"ins\", \" are\", \" a\", \" group\", \" of\", \" closely\", \" related\", \" neuro\", \"toxic\", \" proteins\", \" of\", \" the\", \" three\", \"-\", \"finger\", \" toxin\", \" super\", \"\\n\", \"Ag\", \"ric\", \"ultural\", \" and\", \" h\", \"ort\", \"icultural\", \" pesticides\", \" fatal\", \" poisoning\", \";\", \" the\", \" Jordan\", \"\\n\", \"Fat\", \" extrav\", \"as\", \"ation\", \" due\", \" to\", \" un\", \"ream\", \"ed\", \" and\", \" experimentally\", \" re\", \"amed\", \" intr\", \"amed\", \"ullary\", \" n\", \"ailing\", \" of\", \" the\", \" sheep\", \"\\n\", \"S\", \"afety\", \" of\", \" Ed\", \"h\", \"azard\", \"ia\", \" a\", \"ed\", \"is\", \" (\", \"Micro\", \"sp\", \"ora\", \":\", \" Amb\", \"ly\", \"ospor\", \"idae\", \")\", \" for\", \" nont\", \"arget\", \" aquatic\", \" organisms\", \".\", \"\\\\newline\", \"The\", \" susceptibility\", \" of\", \" common\", \"\\n\", \"New\", \"\\n\", \"M\", \"ERS\", \" Virus\", \"\\\\newline\", \"\\\\newline\", \"M\", \"ERS\", \" Virus\", \"\\n\", \"Ac\", \"ute\", \" and\", \" long\", \"-\", \"term\", \" effects\", \" of\", \" t\", \"rophic\", \" exposure\", \" to\", \" silver\", \" nan\", \"osp\", \"heres\", \" in\", \" the\", \" central\", \" nervous\", \" system\", \" of\", \" a\", \" ne\", \"ot\", \"ropical\", \" fish\", \" Hop\", \"li\", \"as\", \" intermedi\", \"us\", \".\", \"\\\\newline\", \"Nan\", \"\\n\", \"cock\", \"tail\", \" (\", \"P\", \"MA\", \"-\", \"ion\", \"omycin\", \",\", \" e\", \"B\", \"ios\", \"c\", \"ience\", \")\", \" in\", \" the\", \" presence\", \" of\", \" 1\", \" ml\", \"/\", \"ml\", \" Golgi\", \"Stop\", \" (\", \"BD\", \")\", \" for\", \" 4\", \" hours\", \" at\", \" 37\", \"\\u00b0\", \"C\", \".\", \"\\\\newline\", \"Cells\", \"\\n\", \"R\", \"um\", \"inal\", \" trypt\", \"ophan\", \"-\", \"util\", \"izing\", \" bacteria\", \" degrade\", \" erg\", \"ov\", \"aline\", \" from\", \" tall\", \" f\", \"esc\", \"ue\", \" seed\", \" extract\", \".\", \"\\\\newline\", \"The\", \"\\n\", \"The\", \"\\n\"], \"activations\": [[[1.7576960325241089]], [[0.0]], [[0.2726935148239136]], [[0.158161923289299]], [[0.20629259943962097]], [[0.3141082525253296]], [[0.43785324692726135]], [[1.0978598594665527]], [[0.8257490992546082]], [[1.6229074001312256]], [[0.0]], [[-0.42249006032943726]], [[0.1806640326976776]], [[0.050661638379096985]], [[0.040769219398498535]], [[0.15887987613677979]], [[0.19919374585151672]], [[0.3170190453529358]], [[-0.34404808282852173]], [[-0.22977076470851898]], [[-0.09419895708560944]], [[-0.2083536833524704]], [[1.5116242170333862]], [[0.0]], [[-0.28633636236190796]], [[0.0023054834455251694]], [[0.8211274743080139]], [[0.21569234132766724]], [[0.47746551036834717]], [[0.11948198080062866]], [[0.1431245654821396]], [[-0.08790335804224014]], [[0.2872289717197418]], [[0.11897329986095428]], [[0.18468046188354492]], [[0.21940559148788452]], [[-0.36947429180145264]], [[-0.08577218651771545]], [[-0.4446222186088562]], [[-0.048681288957595825]], [[0.7929792404174805]], [[-0.46323174238204956]], [[0.019243745133280754]], [[-0.20718581974506378]], [[0.156272292137146]], [[0.0902882069349289]], [[1.0011581182479858]], [[0.04576236009597778]], [[0.14705674350261688]], [[1.3833441734313965]], [[0.0]], [[-0.14490920305252075]], [[0.2387208491563797]], [[0.004313677549362183]], [[-0.3909619450569153]], [[0.01900884509086609]], [[0.3576356768608093]], [[0.5578722953796387]], [[1.0372710227966309]], [[-0.24839046597480774]], [[0.22433771193027496]], [[0.4238329529762268]], [[1.0001336336135864]], [[-0.04744916781783104]], [[-0.10119151324033737]], [[-0.1231950968503952]], [[0.15680864453315735]], [[0.0035646669566631317]], [[1.2698118686676025]], [[-0.058851465582847595]], [[-0.32602986693382263]], [[-0.19056496024131775]], [[-0.08073914051055908]], [[-0.8706956505775452]], [[-0.32132768630981445]], [[-0.027467161417007446]], [[-0.017976827919483185]], [[-0.13697421550750732]], [[0.09559526294469833]], [[0.5025023221969604]], [[1.2045339345932007]], [[-0.21829698979854584]], [[0.48096662759780884]], [[0.035847924649715424]], [[1.288616418838501]], [[0.0]], [[0.05357524752616882]], [[0.25106990337371826]], [[0.5184374451637268]], [[0.03513006865978241]], [[0.16912055015563965]], [[0.15887503325939178]], [[0.2284843623638153]], [[0.12883904576301575]], [[0.42139774560928345]], [[0.169526606798172]], [[1.3362921476364136]], [[-0.05161979794502258]], [[-0.3127259612083435]], [[-0.25979599356651306]], [[-0.30186694860458374]], [[-0.1094827950000763]], [[-0.5561814308166504]], [[0.028135567903518677]], [[0.318075567483902]], [[-0.15818122029304504]], [[0.17285214364528656]], [[-0.04010767117142677]], [[0.11746412515640259]], [[0.3870004117488861]], [[0.1772516816854477]], [[-0.11650466918945312]], [[0.13477793335914612]], [[0.03264036774635315]], [[1.2341184616088867]], [[0.0]], [[-0.2358599603176117]], [[0.47290873527526855]], [[0.7384817600250244]], [[0.05955973267555237]], [[0.5617584586143494]], [[0.8115419745445251]], [[0.5638943910598755]], [[0.16292668879032135]], [[0.33126935362815857]], [[0.40166953206062317]], [[1.186196208000183]], [[0.0]], [[0.27269357442855835]], [[1.0624459981918335]], [[0.0]], [[0.14078570902347565]], [[-0.020392075181007385]], [[-0.009065045043826103]], [[-0.06879028677940369]], [[0.11449093371629715]], [[-0.27629554271698]], [[0.06001019477844238]], [[0.9389426708221436]], [[0.0]], [[-0.42248982191085815]], [[0.18066412210464478]], [[0.05066157877445221]], [[0.04076918959617615]], [[0.15887993574142456]], [[0.19919410347938538]], [[0.3170193135738373]], [[-0.34404829144477844]], [[-0.22977085411548615]], [[-0.09419986605644226]], [[-0.20835380256175995]], [[1.5116238594055176]], [[-0.20921431481838226]], [[0.4123375415802002]], [[1.0484366416931152]], [[-0.23123252391815186]], [[0.8316415548324585]], [[0.0]], [[-0.045263200998306274]], [[0.3216094374656677]], [[0.8398309350013733]], [[0.26781412959098816]], [[0.06060543656349182]], [[-0.10466310381889343]], [[-0.4556235671043396]], [[0.1541772037744522]], [[0.730877161026001]], [[0.16191913187503815]], [[0.24312959611415863]], [[-0.02125205285847187]], [[-0.11999187618494034]], [[-0.48784616589546204]], [[0.497152715921402]], [[-0.3068212866783142]], [[0.3132903575897217]], [[-0.04553084075450897]], [[0.3453219532966614]], [[0.25941386818885803]], [[0.775543212890625]], [[0.0]], [[-0.05799320712685585]], [[0.2491169422864914]], [[0.5131334662437439]], [[0.684432864189148]], [[0.0]], [[0.2726935148239136]], [[0.158161923289299]], [[0.20629259943962097]], [[0.3141082525253296]], [[0.43785324692726135]], [[1.0978598594665527]], [[0.8257490992546082]], [[1.6229074001312256]], [[0.9451971054077148]], [[0.20054997503757477]], [[0.6652822494506836]], [[0.5375623106956482]], [[0.0]], [[-0.09903546422719955]], [[0.4685177505016327]], [[0.3506130576133728]], [[0.8217638731002808]], [[-0.3807716369628906]], [[-0.44022679328918457]], [[0.5573141574859619]], [[0.28776997327804565]], [[0.37509000301361084]], [[-0.2332998514175415]], [[-0.12561610341072083]], [[0.38295239210128784]], [[-0.6497613191604614]], [[0.06605568528175354]], [[0.08717024326324463]], [[0.1095050722360611]], [[-0.11147379875183105]], [[0.3251311182975769]], [[0.13235177099704742]], [[0.6847705245018005]], [[-0.00790492445230484]], [[0.15501192212104797]], [[0.07287473231554031]], [[0.32291120290756226]], [[0.1073598638176918]], [[0.4917397201061249]], [[0.0]], [[0.6195986866950989]], [[0.5177023410797119]], [[0.08830273151397705]], [[0.3454726040363312]], [[0.2550971210002899]], [[0.44497382640838623]], [[0.13359667360782623]], [[0.3609158992767334]], [[0.2795564830303192]], [[0.5099270939826965]], [[0.48229849338531494]], [[0.8928114175796509]], [[0.13661552965641022]], [[-0.07635153084993362]], [[0.4011557698249817]], [[0.2084059864282608]], [[-0.1399925798177719]], [[0.3929038643836975]], [[0.5486153960227966]], [[1.364897608757019]], [[-0.18054303526878357]], [[0.24662941694259644]], [[-0.023492276668548584]], [[0.34187188744544983]], [[-0.1382627785205841]], [[0.002033233642578125]], [[-0.10248027741909027]], [[-0.047065868973731995]], [[0.4919374883174896]], [[0.05750183388590813]], [[-0.32500267028808594]], [[0.6656909584999084]], [[0.11865009367465973]], [[-0.18111824989318848]], [[0.2737981677055359]], [[0.12641790509223938]], [[-0.24061940610408783]], [[0.3283573389053345]], [[0.42687034606933594]], [[0.0]], [[-0.05799320712685585]], [[0.24911701679229736]], [[0.5131334066390991]], [[0.6844329833984375]], [[-0.21388857066631317]], [[0.16880378127098083]], [[0.5183084607124329]], [[0.5248348116874695]], [[0.33498573303222656]], [[0.0]], [[-0.05799331143498421]], [[0.06579554080963135]], [[0.5423117876052856]], [[0.34562060236930847]], [[0.43024545907974243]], [[0.882027268409729]], [[-0.03171434998512268]], [[0.6498730778694153]], [[0.703260064125061]], [[1.202277660369873]], [[0.08903464674949646]], [[-0.18188877403736115]], [[0.6716877222061157]], [[-0.34486618638038635]], [[-0.43747103214263916]], [[-0.00242045521736145]], [[0.24767720699310303]], [[-0.22439619898796082]], [[-0.057268500328063965]], [[-0.038983941078186035]], [[0.042998820543289185]], [[0.9250968098640442]], [[-0.3610388934612274]], [[-0.09862872213125229]], [[0.17043258249759674]], [[1.0829981565475464]], [[0.11043277382850647]], [[-0.10506875813007355]], [[0.10390269756317139]], [[0.3999159336090088]], [[0.3532729744911194]], [[0.2534908056259155]], [[0.7305747866630554]], [[-0.16962096095085144]], [[0.5082749128341675]], [[0.22099030017852783]], [[0.0]], [[-0.24233385920524597]], [[0.24576488137245178]], [[0.5905412435531616]], [[-0.017479628324508667]], [[0.1436878740787506]], [[0.0]], [[-0.05780229717493057]], [[0.45360857248306274]], [[-0.24612438678741455]], [[0.10238660871982574]], [[0.21089985966682434]], [[0.39146101474761963]], [[0.2382318675518036]], [[0.050174444913864136]], [[-0.2830590605735779]], [[-0.12856262922286987]], [[1.0999772548675537]], [[4.929304122924805e-05]], [[0.35934978723526]], [[-0.016881421208381653]], [[0.12137752771377563]], [[0.5073013305664062]], [[0.19613052904605865]], [[0.3353062570095062]], [[0.9215966463088989]], [[-0.04730451852083206]], [[0.2017151266336441]], [[0.252916157245636]], [[0.7868677377700806]], [[0.3046696186065674]], [[0.6889244914054871]], [[0.25104719400405884]], [[0.0022516846656799316]], [[0.2580793797969818]], [[0.009836927056312561]], [[0.489602267742157]], [[0.2215871512889862]], [[0.4514848589897156]], [[-0.021594297140836716]], [[0.01403200626373291]], [[0.0]], [[-0.23532690107822418]], [[-0.04776449501514435]], [[0.0]], [[-0.045263200998306274]], [[0.3216094374656677]], [[0.8398309350013733]], [[0.26781412959098816]], [[0.06060543656349182]], [[-0.10466310381889343]], [[-0.4556235671043396]], [[0.1541772037744522]], [[0.730877161026001]], [[0.16191913187503815]], [[0.24312959611415863]], [[-0.02125205285847187]], [[-0.11999187618494034]], [[-0.48784616589546204]], [[0.497152715921402]], [[-0.3068212866783142]], [[0.3132903575897217]], [[-0.04553084075450897]], [[0.3453219532966614]], [[0.25941386818885803]], [[0.775543212890625]], [[-0.32585760951042175]], [[-0.026681283488869667]], [[0.3043891489505768]], [[-0.7382479906082153]], [[0.008379220962524414]], [[-0.14672043919563293]], [[0.0]], [[0.5391553044319153]], [[0.26021653413772583]], [[0.5088958740234375]], [[0.025959597900509834]], [[0.16548511385917664]], [[-0.023944199085235596]], [[0.6731057167053223]], [[0.15503889322280884]], [[0.4868610203266144]], [[0.5827964544296265]], [[0.16780473291873932]], [[-0.5383313894271851]], [[-0.22480109333992004]], [[0.0]], [[-0.34451016783714294]], [[0.18071307241916656]], [[0.6812690496444702]], [[0.4528018832206726]], [[0.7331838607788086]], [[1.4667391777038574]], [[0.3671277165412903]], [[-0.03335018455982208]], [[0.6353017687797546]], [[0.24061685800552368]], [[-0.18706323206424713]], [[0.3945646584033966]], [[0.5641100406646729]], [[-0.46283483505249023]], [[0.5018758177757263]], [[0.06410208344459534]], [[0.15082523226737976]], [[0.4720476269721985]], [[0.8156614303588867]], [[-0.2693139314651489]], [[-0.3475521206855774]], [[0.0]], [[0.05357524752616882]], [[0.3050561249256134]], [[0.7287243604660034]], [[0.02807752788066864]], [[0.34208419919013977]], [[0.7206056118011475]], [[0.4023444950580597]], [[0.10189475119113922]], [[0.48739874362945557]], [[0.4178081452846527]], [[0.41000211238861084]], [[-0.45677459239959717]], [[0.26251035928726196]], [[0.10252168774604797]], [[0.32232359051704407]], [[-0.6255035400390625]], [[0.2215307056903839]], [[0.5033066868782043]], [[0.1477833241224289]], [[0.2195020616054535]], [[0.8878719210624695]], [[0.2695426046848297]], [[0.06367852538824081]], [[0.2281390279531479]], [[-0.22584658861160278]], [[-0.16416782140731812]], [[-0.07769355177879333]], [[-0.8660143613815308]], [[-0.22154685854911804]], [[0.6303197145462036]], [[-0.4270218014717102]], [[0.0]], [[-0.5384616255760193]], [[0.0]], [[-0.31262996792793274]], [[-0.06290936470031738]], [[-0.4816063344478607]], [[-0.0790204405784607]], [[-0.19095754623413086]], [[-0.5143592357635498]], [[-0.3918839693069458]], [[-0.6419139504432678]], [[0.0]], [[0.14078596234321594]], [[-0.020392537117004395]], [[-0.009064475074410439]], [[-0.06879042088985443]], [[0.11449124664068222]], [[-0.2762959599494934]], [[0.06001052260398865]], [[0.9389426708221436]], [[0.432483047246933]], [[0.2675245702266693]], [[0.0337129682302475]], [[1.432325005531311]], [[-0.06487470865249634]], [[-0.42433708906173706]], [[0.6618994474411011]], [[0.14120954275131226]], [[1.1386632919311523]], [[-0.11550448834896088]], [[0.10315650701522827]], [[0.20314905047416687]], [[-0.0022154301404953003]], [[0.6986405253410339]], [[-0.11192858964204788]], [[0.19804807007312775]], [[0.19013701379299164]], [[0.4107067584991455]], [[-0.1581173539161682]], [[0.0010083913803100586]], [[0.3550416827201843]], [[0.6408528685569763]], [[-0.8358125686645508]], [[0.32843443751335144]], [[-0.16425821185112]], [[-0.013040304183959961]], [[-0.7546486854553223]], [[0.0]], [[0.574428915977478]], [[0.9213564395904541]], [[0.5142078995704651]], [[0.3488905131816864]], [[0.6360836029052734]], [[0.1593954712152481]], [[-0.05186064541339874]], [[0.2604767382144928]], [[-0.13401222229003906]], [[0.0689508244395256]], [[-0.029586687684059143]], [[0.22639000415802002]], [[0.5195693969726562]], [[0.30019551515579224]], [[0.18879973888397217]], [[0.880509078502655]], [[-0.18296822905540466]], [[0.03366667777299881]], [[0.6895275115966797]], [[0.3727516531944275]], [[-0.09983158111572266]], [[0.0101146399974823]], [[-0.22289876639842987]], [[-0.18041089177131653]], [[0.2673617899417877]], [[0.1676509827375412]], [[-0.24458251893520355]], [[0.05827513709664345]], [[0.8429899215698242]], [[0.26950621604919434]], [[-0.1754244565963745]], [[1.0058021545410156]], [[0.5136510133743286]], [[0.044500932097435]], [[0.5624059438705444]], [[0.08008386939764023]], [[-0.03358101844787598]], [[-0.8399314880371094]], [[0.0]], [[-0.08138033747673035]], [[0.26139166951179504]], [[0.6475658416748047]], [[-0.00915980339050293]], [[0.19746723771095276]], [[0.07616414874792099]], [[0.08155684918165207]], [[0.5142189264297485]], [[-0.16561809182167053]], [[0.36507102847099304]], [[-0.11979551613330841]], [[0.24261172115802765]], [[-0.438514769077301]], [[0.8091349005699158]], [[0.01881188154220581]], [[-0.041936978697776794]], [[0.5372864007949829]], [[0.7610303163528442]], [[0.20427164435386658]], [[0.28626197576522827]], [[-0.14998078346252441]], [[-0.06363072991371155]], [[-0.9166978597640991]], [[0.0]], [[-1.0665342807769775]], [[0.0]]], \"firstDimensionName\": \"Layer\", \"secondDimensionName\": \"Neuron\"}\n",
       "    )\n",
       "    </script>"
      ],
      "text/plain": [
       "<circuitsvis.utils.render.RenderedHTML at 0x7fd36777fb10>"
      ]
     },
     "execution_count": 27,
     "metadata": {},
     "output_type": "execute_result"
    }
   ],
   "source": [
    "cluster_idx = 3\n",
    "\n",
    "cluster_inds = [int(datapoints_used[int(cluster_by_idx[cluster_idx][i])]) for i in range(len(cluster_by_idx[cluster_idx]))]\n",
    "print(dataset[int(cluster_inds[0])]['text'][:100])\n",
    "\n",
    "new_dataset = []\n",
    "for i in cluster_inds:\n",
    "\tnew_dataset.append(dataset[i])\n",
    "# for i in range(len(cluster_by_idx[cluster_idx])):\n",
    "# \tprint(dataset[int(datapoints_used[int(cluster_by_idx[cluster_idx][i])])]['text'][:100])\n",
    "# \tprint(\"+++++++++++++++++++++++++++++++++++++++++++++++++\")\n",
    "# TODO: this now wrong?\n",
    "activations = model_activations[layer][cluster_inds, :, :]\n",
    "# .reshape(-1, model_activations[layer].shape[-1])[cluster, :], 1)\n",
    "print(activations.shape)\n",
    "text_list, full_text, token_list, full_token_list, indices = get_feature_datapoints_with_idx(neuron_index, activations, model.tokenizer, token_amount, new_dataset, setting=\"uniform\", k=30)\n",
    "interp_utils.visualize_text(text_list, feature, model, None, layer=layer, setting=\"model\")\n",
    "# TODO: maybe do everything on MLP side where we get only positive activations"
   ]
  },
  {
   "cell_type": "code",
   "execution_count": null,
   "metadata": {},
   "outputs": [],
   "source": []
  }
 ],
 "metadata": {
  "kernelspec": {
   "display_name": "logan",
   "language": "python",
   "name": "python3"
  },
  "language_info": {
   "codemirror_mode": {
    "name": "ipython",
    "version": 3
   },
   "file_extension": ".py",
   "mimetype": "text/x-python",
   "name": "python",
   "nbconvert_exporter": "python",
   "pygments_lexer": "ipython3",
   "version": "3.11.5"
  },
  "orig_nbformat": 4
 },
 "nbformat": 4,
 "nbformat_minor": 2
}
