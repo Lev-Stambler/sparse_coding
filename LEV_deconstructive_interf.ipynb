{
 "cells": [
  {
   "cell_type": "code",
   "execution_count": 1,
   "metadata": {},
   "outputs": [],
   "source": [
    "from huggingface_hub import hf_hub_download\n",
    "import torch\n",
    "\n",
    "device = torch.device(\"cuda\" if torch.cuda.is_available() else \"cpu\")"
   ]
  },
  {
   "cell_type": "code",
   "execution_count": 2,
   "metadata": {},
   "outputs": [],
   "source": [
    "from scipy.optimize import linear_sum_assignment\n",
    "import matplotlib.pyplot as plt\n",
    "import numpy as np"
   ]
  },
  {
   "cell_type": "code",
   "execution_count": 3,
   "metadata": {},
   "outputs": [
    {
     "name": "stdout",
     "output_type": "stream",
     "text": [
      "Loaded pretrained model EleutherAI/pythia-70m-deduped into HookedTransformer\n"
     ]
    }
   ],
   "source": [
    "from transformer_lens import HookedTransformer\n",
    "model_name = \"EleutherAI/pythia-70m-deduped\"\n",
    "\n",
    "model = HookedTransformer.from_pretrained(model_name, device=device)"
   ]
  },
  {
   "cell_type": "code",
   "execution_count": 4,
   "metadata": {},
   "outputs": [
    {
     "name": "stderr",
     "output_type": "stream",
     "text": [
      "Found cached dataset parquet (/home/lev/.cache/huggingface/datasets/JeanKaddour___parquet/JeanKaddour--minipile-0d7d2d1ff79d1d36/0.0.0/2a3b91fbd88a2c90d1dbbb32b460cf621d31bd5b05b934492fdef7d8d6f236ec)\n",
      "Loading cached processed dataset at /home/lev/.cache/huggingface/datasets/JeanKaddour___parquet/JeanKaddour--minipile-0d7d2d1ff79d1d36/0.0.0/2a3b91fbd88a2c90d1dbbb32b460cf621d31bd5b05b934492fdef7d8d6f236ec/cache-ad2ecfd158f710eb.arrow\n",
      "Loading cached processed dataset at /home/lev/.cache/huggingface/datasets/JeanKaddour___parquet/JeanKaddour--minipile-0d7d2d1ff79d1d36/0.0.0/2a3b91fbd88a2c90d1dbbb32b460cf621d31bd5b05b934492fdef7d8d6f236ec/cache-d173f762c78db5b8.arrow\n",
      "Loading cached processed dataset at /home/lev/.cache/huggingface/datasets/JeanKaddour___parquet/JeanKaddour--minipile-0d7d2d1ff79d1d36/0.0.0/2a3b91fbd88a2c90d1dbbb32b460cf621d31bd5b05b934492fdef7d8d6f236ec/cache-bd49b6b2e3856158.arrow\n"
     ]
    }
   ],
   "source": [
    "# Downnload dataset\n",
    "from datasets import Dataset, load_dataset\n",
    "dataset_name = \"JeanKaddour/minipile\"\n",
    "token_amount= 40\n",
    "#TODO: change train[:1000] to train if you want whole dataset\n",
    "# 100_000 datasets\n",
    "# I think that we want to use the full 100_000 at some point...\n",
    "# dataset = load_dataset(dataset_name, split=\"train[:100000]\").map(\n",
    "dataset = load_dataset(dataset_name, split=\"train[:10000]\").map( # 1_000 to get started\n",
    "    lambda x: model.tokenizer(x['text']),\n",
    "    batched=True,\n",
    ").filter(\n",
    "    lambda x: len(x['input_ids']) > token_amount\n",
    ").map(\n",
    "    lambda x: {'input_ids': x['input_ids'][:token_amount]}\n",
    ")\n",
    "# TODO: we can maybe make this faster for the larger dataset?"
   ]
  },
  {
   "cell_type": "code",
   "execution_count": 5,
   "metadata": {},
   "outputs": [],
   "source": [
    "setting = \"mlp_out\" # \"residual\", \"mlp\", \"attention\", \"mlp_out\n",
    "\n",
    "def get_cache_name_neurons(layer: int):\n",
    "    if setting == \"residual\":\n",
    "        cache_name = f\"blocks.{layer}.hook_resid_post\"\n",
    "        neurons = model.cfg.d_model\n",
    "    elif setting == \"mlp\":\n",
    "        cache_name = f\"blocks.{layer}.mlp.hook_post\"\n",
    "        neurons = model.cfg.d_mlp\n",
    "    elif setting == \"attention\":\n",
    "        cache_name = f\"blocks.{layer}.hook_attn_out\"\n",
    "        neurons = model.cfg.d_model\n",
    "    elif setting == \"mlp_out\":\n",
    "        cache_name = f\"blocks.{layer}.hook_mlp_out\"\n",
    "        neurons = model.cfg.d_model\n",
    "    else:\n",
    "        raise NotImplementedError\n",
    "    return cache_name, neurons"
   ]
  },
  {
   "cell_type": "code",
   "execution_count": 6,
   "metadata": {},
   "outputs": [
    {
     "data": {
      "text/plain": [
       "(512, 6)"
      ]
     },
     "execution_count": 6,
     "metadata": {},
     "output_type": "execute_result"
    }
   ],
   "source": [
    "n_layers = model.cfg.n_layers\n",
    "model.cfg.d_model, n_layers"
   ]
  },
  {
   "cell_type": "markdown",
   "metadata": {},
   "source": [
    "# Get Dictionary Activations"
   ]
  },
  {
   "cell_type": "code",
   "execution_count": 7,
   "metadata": {},
   "outputs": [
    {
     "data": {
      "application/vnd.jupyter.widget-view+json": {
       "model_id": "badc6567018444c0b34b4166344ce88c",
       "version_major": 2,
       "version_minor": 0
      },
      "text/plain": [
       "  0%|          | 0/310 [00:00<?, ?it/s]"
      ]
     },
     "metadata": {},
     "output_type": "display_data"
    },
    {
     "data": {
      "application/vnd.jupyter.widget-view+json": {
       "model_id": "7dc6be36ba8d42e1b0efca5d1d9618f0",
       "version_major": 2,
       "version_minor": 0
      },
      "text/plain": [
       "  0%|          | 0/310 [00:00<?, ?it/s]"
      ]
     },
     "metadata": {},
     "output_type": "display_data"
    },
    {
     "data": {
      "application/vnd.jupyter.widget-view+json": {
       "model_id": "ba89b2d0516748388bab2347f725d83a",
       "version_major": 2,
       "version_minor": 0
      },
      "text/plain": [
       "  0%|          | 0/310 [00:00<?, ?it/s]"
      ]
     },
     "metadata": {},
     "output_type": "display_data"
    },
    {
     "data": {
      "application/vnd.jupyter.widget-view+json": {
       "model_id": "38ddca23bce14282b6cab7dec1d901db",
       "version_major": 2,
       "version_minor": 0
      },
      "text/plain": [
       "  0%|          | 0/310 [00:00<?, ?it/s]"
      ]
     },
     "metadata": {},
     "output_type": "display_data"
    },
    {
     "data": {
      "application/vnd.jupyter.widget-view+json": {
       "model_id": "fe9bac6a46c84795acb653f1759f5d77",
       "version_major": 2,
       "version_minor": 0
      },
      "text/plain": [
       "  0%|          | 0/310 [00:00<?, ?it/s]"
      ]
     },
     "metadata": {},
     "output_type": "display_data"
    },
    {
     "data": {
      "application/vnd.jupyter.widget-view+json": {
       "model_id": "308bb47104dd4843ba1c818d888a91e7",
       "version_major": 2,
       "version_minor": 0
      },
      "text/plain": [
       "  0%|          | 0/310 [00:00<?, ?it/s]"
      ]
     },
     "metadata": {},
     "output_type": "display_data"
    }
   ],
   "source": [
    "# TODO: in chunks...\n",
    "# Now we can use the model to get the activations\n",
    "from torch.utils.data import DataLoader\n",
    "from datasets import DatasetDict\n",
    "from tqdm.auto import tqdm\n",
    "from einops import rearrange\n",
    "import math\n",
    "\n",
    "# MAX_CHUNK_SIZE = 1_000\n",
    "\n",
    "# TODO: move to a separate file or something\n",
    "def get_activations(layer: int):\n",
    "    datapoints = dataset.num_rows\n",
    "    embedding_size = model.cfg.d_model\n",
    "    activations_final = np.memmap(f'layer-{layer}.mymemmap', dtype='float32', mode='w+', shape=(datapoints, token_amount, embedding_size))\n",
    "    batch_size = 32\n",
    "\n",
    "    with torch.no_grad(), dataset.formatted_as(\"pt\"):\n",
    "        dl = DataLoader(dataset[\"input_ids\"], batch_size=batch_size)\n",
    "        cache_name = get_cache_name_neurons(layer)[0]\n",
    "        for i, batch in enumerate(tqdm(dl)):\n",
    "            # print(batch)\n",
    "            _, cache = model.run_with_cache(batch.to(device))\n",
    "            # print(\"AA\", cache[cache_name].shape)\n",
    "            # batched_neuron_activations = rearrange(cache[cache_name], \"b s n -> (b s) n\" )\n",
    "\n",
    "            real_batch_size = batch.shape[0]\n",
    "            activations_final[i*batch_size:i*batch_size + real_batch_size, :, :] = cache[cache_name].cpu().numpy()\n",
    "    return activations_final\n",
    "\n",
    "model_activations = [get_activations(layer) for layer in range(n_layers)]"
   ]
  },
  {
   "cell_type": "markdown",
   "metadata": {},
   "source": [
    "## Get activations for a specific feature and visualize them"
   ]
  },
  {
   "cell_type": "code",
   "execution_count": 8,
   "metadata": {},
   "outputs": [
    {
     "data": {
      "text/plain": [
       "((9909, 40, 512), (396360, 512))"
      ]
     },
     "execution_count": 8,
     "metadata": {},
     "output_type": "execute_result"
    }
   ],
   "source": [
    "layer = 0\n",
    "model_activations[0].shape, model_activations[layer].reshape(-1, model_activations[layer].shape[-1]).shape"
   ]
  },
  {
   "cell_type": "code",
   "execution_count": 9,
   "metadata": {},
   "outputs": [],
   "source": [
    "from interp_utils import *\n",
    "import torch\n",
    "import numpy as np\n",
    "\n",
    "# Get the activations for the best dict features\n",
    "def get_feature_datapoints_with_idx(feature_index, dictionary_activations, tokenizer, token_amount, dataset, k=10, setting=\"max\"):\n",
    "    if len(dictionary_activations.shape) == 3:\n",
    "        best_feature_activations = dictionary_activations[:, :, feature_index].flatten()\n",
    "    else:\n",
    "        best_feature_activations = dictionary_activations\n",
    "    # Sort the features by activation, get the indices\n",
    "    if setting==\"max\":\n",
    "        # TODO:! Urrr.... is this backwards? CHECK IF ::-1 is correct but I think that it is\n",
    "        found_indices = np.argsort(best_feature_activations)[::-1][:k]\n",
    "        # found_indices = np.argsort(best_feature_activations, descending=True)[:k]\n",
    "    elif setting==\"uniform\":\n",
    "        # min_value = torch.min(best_feature_activations)\n",
    "        min_value = np.min(best_feature_activations)\n",
    "        max_value = np.max(best_feature_activations)\n",
    "\n",
    "        # Define the number of bins\n",
    "        num_bins = k\n",
    "\n",
    "        # Calculate the bin boundaries as linear interpolation between min and max\n",
    "        bin_boundaries = np.linspace(min_value, max_value, num_bins + 1)\n",
    "\n",
    "        # Assign each activation to its respective bin\n",
    "        # TODO: hmm\n",
    "        # np bucketize?\n",
    "        # bins = torch.bucketize(best_feature_activations, bin_boundaries)\n",
    "        bins = np.digitize(best_feature_activations, bin_boundaries)\n",
    "\n",
    "        # Initialize a list to store the sampled indices\n",
    "        sampled_indices = []\n",
    "\n",
    "        # Sample from each bin\n",
    "        for bin_idx in np.unique(bins):\n",
    "            if(bin_idx==0): # Skip the first one. This is below the median\n",
    "                continue\n",
    "            # Get the indices corresponding to the current bin\n",
    "            bin_indices = np.array(np.nonzero(bins == bin_idx)).squeeze(axis=0)\n",
    "            # print(bin_indices.shape)\n",
    "            \n",
    "            # Randomly sample from the current bin\n",
    "            sampled_indices.extend(np.random.choice(bin_indices, size=1, replace=False))\n",
    "\n",
    "        # Convert the sampled indices to a PyTorch tensor & reverse order\n",
    "        found_indices = np.flip(np.array(sampled_indices), axis=[0])\n",
    "    else: # random\n",
    "        # get nonzero indices\n",
    "        nonzero_indices = torch.nonzero(best_feature_activations)[:, 0]\n",
    "        # shuffle\n",
    "        shuffled_indices = nonzero_indices[torch.randperm(nonzero_indices.shape[0])]\n",
    "        found_indices = shuffled_indices[:k]\n",
    "    num_datapoints = int(dictionary_activations.shape[0])\n",
    "    datapoint_indices =[np.unravel_index(i, (num_datapoints, token_amount)) for i in found_indices]\n",
    "    text_list = []\n",
    "    full_text = []\n",
    "    token_list = []\n",
    "    full_token_list = []\n",
    "    for md, s_ind in datapoint_indices:\n",
    "        md = int(md)\n",
    "        s_ind = int(s_ind)\n",
    "        full_tok = torch.tensor(dataset[md][\"input_ids\"])\n",
    "        full_text.append(tokenizer.decode(full_tok))\n",
    "        tok = dataset[md][\"input_ids\"][:s_ind+1]\n",
    "        text = tokenizer.decode(tok)\n",
    "        text_list.append(text)\n",
    "        token_list.append(tok)\n",
    "        full_token_list.append(full_tok)\n",
    "    return text_list, full_text, token_list, full_token_list, found_indices"
   ]
  },
  {
   "cell_type": "markdown",
   "metadata": {},
   "source": [
    "## Baseline before looking at \"deconstructive interference\""
   ]
  },
  {
   "cell_type": "code",
   "execution_count": 25,
   "metadata": {},
   "outputs": [
    {
     "data": {
      "text/html": [
       "<div id=\"circuits-vis-8aa8f04f-98c1\" style=\"margin: 15px 0;\"/>\n",
       "    <script crossorigin type=\"module\">\n",
       "    import { render, TextNeuronActivations } from \"https://unpkg.com/circuitsvis@1.41.0/dist/cdn/esm.js\";\n",
       "    render(\n",
       "      \"circuits-vis-8aa8f04f-98c1\",\n",
       "      TextNeuronActivations,\n",
       "      {\"tokens\": [\"The\", \" present\", \" invention\", \" relates\", \" to\", \" lining\", \" elements\", \" for\", \" mounting\", \" onto\", \"\\n\", \"HL\", \"N\", \" said\", \" today\", \" its\", \" new\", \" anth\", \"ology\", \" true\", \"-\", \"crime\", \" series\", \" How\", \" It\", \" Really\", \" Happ\", \"ened\", \" With\", \" Hill\", \" Harper\", \" will\", \" dig\", \" into\", \"\\n\", \"President\", \" Trump\", \" signed\", \" into\", \" law\", \" the\", \" \\u201c\", \"VA\", \" Account\", \"ability\", \"\\u201d\", \" bill\", \" on\", \"\\n\", \"Le\", \" par\", \"quet\", \" d\", \"'\", \"Ev\", \"ry\", \" a\", \" ou\", \"vert\", \" merc\", \"red\", \"i\", \" mat\", \"in\", \" une\", \" enqu\", \"\\u00eate\", \" sur\", \" les\", \" cir\", \"const\", \"ances\", \" du\", \" suicide\", \" d\", \"'\", \"une\", \" je\", \"une\", \" fem\", \"me\", \" \\u00e0\", \"\\n\", \"Fab\", \"ian\", \" Sch\", \"\\u00e4r\", \" st\", \"i\", \"ess\", \" im\", \" Som\", \"mer\", \" 2012\", \" vom\", \" FC\", \" Wil\", \" 1900\", \",\", \" f\\u00fcr\", \"\\n\", \"Q\", \":\", \"\\\\newline\", \"\\\\newline\", \"A\", \"AD\", \" Application\", \" Permission\", \" issue\", \"\\\\newline\", \"\\\\newline\", \"I\", \" have\", \" added\", \" an\", \" Azure\", \" AD\", \" application\", \" and\", \" removed\", \" all\", \" required\", \" permissions\", \" within\", \" the\", \" az\", \"ure\", \" portal\", \":\", \"\\\\newline\", \"\\\\newline\", \"However\", \",\", \" the\", \" application\", \" still\", \" has\", \" access\", \" to\", \"\\n\", \"H\", \"ur\", \"ricane\", \" Harvey\", \"\\u2019\", \"s\", \" unprecedented\", \" rains\", \" and\", \" flooding\", \" last\", \" month\", \" caused\", \" a\", \" leak\", \" from\", \" a\", \" heavily\", \" poll\", \"uted\", \" site\", \" along\", \" the\", \" San\", \" Jac\", \"into\", \"\\n\", \"The\", \" present\", \" invention\", \" relates\", \" to\", \" hand\", \" held\", \" exercise\", \" devices\", \",\", \" specifically\", \" to\", \" an\", \" improved\", \" fill\", \"able\", \" hand\", \" held\", \" exercise\", \" device\", \".\", \"\\\\newline\", \"Here\", \"to\", \"\\n\", \"PET\", \" Sy\", \"rup\", \" Bott\", \"les\", \"\\\\newline\", \"\\\\newline\", \"Details\", \"\\\\newline\", \"\\\\newline\", \"These\", \" are\", \" THE\", \" Pl\", \"astic\", \" alternative\", \" to\", \" Glass\", \" Liquid\", \" Medical\", \" Bott\", \"les\", \".\", \" PET\", \" is\", \" a\", \" relatively\", \" new\", \" polymer\", \" that\", \" brings\", \" Pl\", \"astic\", \" containers\", \" much\", \" closer\", \" towards\", \"\\n\", \"Abstract\", \"\\\\newline\", \"\\\\newline\", \"We\", \" demonstrate\", \" highly\", \" efficient\", \" inverted\", \" bottom\", \"-\", \"emission\", \" organic\", \" light\", \"-\", \"emitting\", \" diodes\", \" (\", \"IB\", \"OL\", \"ED\", \"s\", \")\", \" by\", \" using\", \"\\n\", \"HT\", \"C\", \"'s\", \" V\", \"ive\", \" Pro\", \" headset\", \" is\", \" available\", \" to\", \" pre\", \"-\", \"order\", \" for\", \" $\", \"7\", \"99\", \"\\\\newline\", \"\\\\newline\", \"We\", \"'ve\", \" seen\", \" plenty\", \" of\", \" Be\", \"ats\", \"-\", \"focused\", \" K\", \"IR\", \"Fs\", \" in\", \"\\n\", \"/*\", \"\\\\newline\", \" *\", \" Licensed\", \" to\", \" the\", \" Apache\", \" Software\", \" Foundation\", \" (\", \"AS\", \"F\", \")\", \" under\", \" one\", \" or\", \" more\", \"\\\\newline\", \" *\", \" contributor\", \" license\", \" agreements\", \".\", \"  \", \"See\", \" the\", \" NOTICE\", \" file\", \" distributed\", \" with\", \"\\n\", \"Steve\", \"'s\", \" Website\", \"\\\\newline\", \"\\\\newline\", \"SIM\", \"PLE\", \"\\\\newline\", \"\\\\newline\", \"here\", \" is\", \" an\", \" article\", \" from\", \" my\", \" friend\", \" Doug\", \" R\", \"oe\", \"\\\\newline\", \"\\\\newline\", \"for\", \"\\n\", \"C\", \"oup\", \" de\", \"\\n\", \"/*\", \" v\", \"im\", \":\", \" set\", \" ts\", \"=\", \"8\", \"\\n\", \"577\", \" F\", \".\", \"2\", \"d\", \" 444\", \"\\\\newline\", \"23\", \" W\", \"age\", \" &\", \" Hour\", \" Cas\", \".\", \" (\", \"BN\", \" 8\", \"89\", \"\\n\", \"One\", \" conventional\", \" data\", \" transfer\", \" method\", \" adopts\", \" the\", \" IEEE\", \"13\", \"94\", \" standard\", \" (\", \"IEEE\", \":\", \" The\", \" Institute\", \" of\", \" Electrical\", \" and\", \" Electronics\", \" Engineers\", \",\", \" Inc\", \".).\", \" (\", \"Reference\", \":\", \" IEEE\", \" St\", \"d\", \" 139\", \"4\", \"\\n\", \"\\\\newline\", \"What\", \" is\", \" the\", \" r\", \"'t\", \"h\", \" term\", \" of\", \" 39\", \"888\", \",\", \" 53\", \"158\", \"\\n\", \"C\", \"ata\", \"w\", \"ba\", \" College\", \" signs\", \" 5\", \" year\", \" deal\", \" with\", \" Ad\", \"idas\", \"\\\\newline\", \"\\\\newline\", \"2015\", \"-\", \"01\", \"-\", \"19\", \"T\", \"22\", \":\", \"25\", \":\", \"10\", \"Z\", \"2015\", \"-\", \"01\", \"-\", \"19\", \"T\", \"22\", \":\", \"25\", \":\", \"11\", \"\\n\", \"/*\", \"\\\\newline\", \"   \", \"+\", \"----------------------------------------------------------------------\", \"+\", \"\\\\newline\", \"   \", \"|\", \" PHP\", \" Version\", \" 7\", \"                        \", \"                        \", \"        \", \"|\", \"\\\\newline\", \"   \", \"+\", \"----------------------------------------------------------------------\", \"\\n\", \"P\", \"rav\", \"ast\", \"atin\", \" activates\", \" the\", \" expression\", \" of\", \" f\", \"arn\", \"es\", \"oid\", \" X\", \" receptor\", \" and\", \" liver\", \" X\", \" receptor\", \" alpha\", \" in\", \" Hep\", \"3\", \"B\", \" cells\", \".\", \"\\\\newline\", \"Stat\", \"ins\", \" are\", \" suggested\", \" to\", \" preserve\", \" gall\", \"bl\", \"adder\", \" function\", \" by\", \"\\n\", \"LU\", \"BB\", \"OCK\", \",\", \" TEXAS\", \" -\", \" N\", \"OV\", \"EM\", \"BER\", \" 05\", \":\", \" Members\", \" of\", \" the\", \" Texas\", \" Tech\", \" Red\", \" Raiders\", \" including\", \" guards\", \" Jah\", \"mi\", \"'\", \"us\", \" Ramsey\", \" #\", \"3\", \" and\", \" Ter\", \"rence\", \" Shannon\", \" #\", \"1\", \"\\n\", \"Join\", \" This\", \" Site\", \"\\\\newline\", \"\\\\newline\", \"To\", \" join\", \" this\", \" site\", \",\", \" ensure\", \" you\", \" have\", \" logged\", \" in\", \" with\", \" your\", \" Wik\", \"id\", \"ot\", \" Account\", \" and\", \" click\", \" the\", \" button\", \" below\", \"\\n\", \"api\", \"Version\", \":\", \" extensions\", \"/\", \"v\", \"1\", \"beta\", \"1\", \"\\\\newline\", \"kind\", \":\", \" De\", \"\\n\", \"Q\", \":\", \"\\\\newline\", \"\\\\newline\", \"Example\", \" of\", \" a\", \" nil\", \"potent\", \" matrix\", \" which\", \" is\", \" not\", \" a\", \" nil\", \"potent\", \" element\", \" of\", \"\\n\", \"1\", \".\", \" Field\", \" of\", \" the\", \" Invention\", \"\\\\newline\", \"The\", \" invention\", \" relates\", \" to\", \" a\", \" hydraulic\", \" tool\", \" and\", \",\", \" more\", \" specifically\", \",\", \" a\", \" hand\", \"-\", \"held\", \",\", \" portable\", \",\", \" battery\", \"-\", \"powered\", \" hydraulic\", \" tool\", \".\", \"\\\\newline\", \"2\", \"\\n\", \"--------------\", \"of\", \"Camera\", \" parameters\", \"--------------\", \"\\\\newline\", \"transform\", \"Matrix\", \"\\\\newline\", \"-\", \"0\", \"\\n\", \"The\", \" Royal\", \" Country\", \" Club\", \" is\", \" situated\", \" at\", \" the\", \" border\", \" of\", \" Za\", \"oc\", \"iao\", \" and\", \" Tou\", \"wu\", \" in\", \" M\", \"ia\", \"oli\", \".\", \" Nest\", \"led\", \" among\", \" the\", \" pristine\", \" wilderness\", \" northeast\", \" of\", \" Ming\", \"te\", \"\\n\", \"Monday\", \",\", \" January\", \" 10\", \",\", \" 2011\", \"\\\\newline\", \"\\\\newline\", \"On\", \" the\", \" Trail\", \"--\", \"\\\\newline\", \"\\\\newline\", \"Our\", \" friend\", \" Tom\", \" the\", \" Travel\", \"er\", \" has\", \" often\", \"\\u2014\", \"almost\", \" obsess\", \"ively\", \"\\u2014\", \"talk\", \"ed\", \" about\", \" the\", \" blue\", \" corn\", \" panc\", \"akes\", \" that\", \" he\", \" had\", \"\\n\", \"Effect\", \" of\", \" dose\", \",\", \" time\", \",\", \" and\", \" pretreatment\", \" on\", \" the\", \" biliary\", \" excretion\", \" and\", \" tissue\", \" distribution\", \" of\", \" 2\", \",\", \"3\", \",\", \"7\", \",\", \"8\", \"-\", \"t\", \"etr\", \"ach\", \"lor\", \"od\", \"iben\", \"zo\", \"\\n\", \"This\", \" Novel\", \",\", \" Hand\", \"made\", \"\\n\", \"CA\", \"IR\", \"NS\", \" CITY\", \" WE\", \"BC\", \"AM\", \" -\", \" L\", \"IVE\", \" ST\", \"REAM\", \"\\\\newline\", \"\\\\newline\", \"The\", \" C\", \"air\", \"ns\", \" City\", \" Web\", \"cam\", \" is\", \" located\", \" on\", \" the\", \" Pacific\", \" Hotel\", \" R\", \"oo\", \"ft\", \"op\", \"\\n\", \"[\", \"Summary\", \" of\", \" the\", \" annual\", \" meeting\", \" of\", \" the\", \" German\", \" society\", \" for\", \" neuro\", \"g\", \"astro\", \"enter\", \"ology\", \" and\", \" motility\", \",\", \" March\", \" 28\", \" -\", \" 30\", \",\", \" 2008\", \" at\", \" Castle\", \" Ho\", \"hen\", \"k\", \"am\", \"mer\", \"].\", \"\\\\newline\", \"\\n\", \"B\", \"\\u00fc\", \"tt\", \"\\n\", \"---\", \"\\\\newline\", \"abstract\", \":\", \" '\", \"We\", \" consider\", \" charge\", \" relaxation\", \" in\", \" the\", \" mes\", \"oscopic\", \" equivalent\", \" of\", \" an\", \" RC\", \" circuit\", \".\", \" For\", \" a\", \" single\", \"-\", \"channel\", \",\", \" spin\", \"\\n\", \"Q\", \":\", \"\\\\newline\", \"\\\\newline\", \"How\", \" to\", \" insert\", \" characters\", \" in\", \" the\", \" middle\", \" of\", \" every\", \" two\", \" consecutive\", \" repeating\", \" characters\", \"?\", \"\\\\newline\", \"\\\\newline\", \"I\", \" have\", \" a\", \" file\", \" like\", \" this\", \":\", \"\\\\newline\", \"user\", \"$\", \" cat\", \" -\", \"t\", \" file\", \"\\\\newline\", \"0\", \".\", \"1\", \"^\", \"\\n\", \"P\", \"ant\", \"hers\", \" back\", \" from\", \" the\", \" dead\", \" to\", \" st\", \"un\", \"\\n\", \"This\", \" is\", \" a\", \" very\", \" good\", \" tam\", \"per\", \" that\", \" fit\", \" my\", \" needs\", \" perfectly\", \".\", \" With\", \" it\", \"'s\", \" weight\", \" ratio\", \" with\", \" the\", \" low\", \" \\\"\", \"weight\", \" point\", \"\\\"\", \" is\", \"\\n\", \"Prof\", \"iling\", \" the\", \" immunity\", \" status\", \" of\", \" children\", \" with\", \" non\", \"-\", \"pol\", \"io\", \" acute\", \" fl\", \"acc\", \"id\", \" paralysis\", \" who\", \" had\", \" not\", \" received\", \" any\", \" doses\", \" of\", \" oral\", \" pol\", \"io\", \"\\n\", \"Up\", \"grad\", \"ing\", \" to\", \" IIS\", \" 7\", \" should\", \" be\", \"\\n\", \"{\", \"\\\\newline\", \"  \", \"\\\"\", \"name\", \"\\\":\", \" \\\"@\", \"bb\", \"c\", \"/\", \"gel\", \"-\", \"found\", \"ations\", \"/\", \"prop\", \"-\", \"types\", \"\\\",\", \"\\\\newline\", \"  \", \"\\\"\", \"\\n\", \"Q\", \":\", \"\\\\newline\", \"\\\\newline\", \"URL\", \" Rew\", \"rite\", \":\", \" PHP\", \" variable\", \" as\", \" directory\", \"\\\\newline\", \"\\\\newline\", \"Alright\", \",\", \" how\", \" would\", \" I\", \" get\", \" something\", \" like\", \":\", \"\\\\newline\", \"domain\", \".\", \"\\n\", \"Q\", \":\", \"\\\\newline\", \"\\\\newline\", \"M\", \"aven\", \" learning\", \" curve\", \" &\", \" overhead\", \" for\", \" small\", \"/\", \"medium\", \" projects\", \"?\", \"\\\\newline\", \"\\\\newline\", \"what\", \" would\", \" be\", \" (\", \"rough\", \" estimation\", \",\", \" average\", \",\", \" of\", \" course\", \")\", \" the\", \" initial\", \" learning\", \" and\", \"\\n\", \"May\", \" 22\", \",\", \" 2018\", \" Damascus\", \" Is\", \" Sec\", \"ured\", \",\", \" D\", \"ara\", \"a\", \" Is\", \" Next\", \"Tue\", \" May\", \" 22\", \",\", \" 2018\", \" 22\", \":\", \"02\", \" |\", \" Scott\", \"https\", \"://\", \"south\", \"front\", \".\", \"org\", \"/\", \"sy\", \"rian\", \"-\", \"war\", \"-\", \"rep\", \"...\", \"\\n\", \"Wednesday\", \",\", \" 26\", \" November\", \" 2014\", \"\\\\newline\", \"\\\\newline\", \"W\", \"oman\", \" throws\", \" 10\", \" year\", \" old\", \" Boy\", \" into\", \" Im\", \"o\", \" River\", \" over\", \" Witch\", \"craft\", \"\\n\", \"Q\", \":\", \"\\\\newline\", \"\\\\newline\", \"Kernel\", \" of\", \" the\", \" induced\", \" map\", \" of\", \" the\", \" wedge\", \" product\", \"\\\\newline\", \"\\\\newline\", \"Let\", \" $\", \"A\", \"$\", \" be\", \" a\", \" no\", \"ethe\", \"rian\", \" ring\", \" and\", \" let\", \" $\", \"M\", \"\\n\", \"Japan\", \" has\", \" a\", \" new\", \" har\", \"a\", \".\", \" No\", \",\", \" the\", \" nice\", \" couple\", \" down\", \" the\", \" hall\", \" didn\", \"\\u2019\", \"t\", \" just\", \" have\", \" a\", \" baby\", \";\", \" according\", \" to\", \" recent\", \" news\", \",\", \" yet\", \" another\", \"\\n\", \"theory\", \" God\", \"\\\\newline\", \"import\", \"s\", \" A\", \"o\", \"C\", \"\\\\newline\", \"\\\\newline\", \"begin\", \"\\\\newline\", \"const\", \"s\", \" E\", \" ::\", \" \\\"\", \"c\", \"\\\"\", \" (\\\"\", \"E\", \"!\\\"\", \")\", \"\\\\newline\", \"const\", \"s\", \" G\", \" ::\", \" \\\"\", \"c\", \"\\\"\", \" (\\\"\", \"G\", \"\\\")\", \"\\\\newline\", \"\\\\newline\", \"definition\", \" N\", \"\\n\", \"P\", \"ermanent\", \" magnet\", \" cylinder\", \" elements\", \" (\", \"e\", \".\", \"g\", \".\", \" cylinders\", \" and\", \" sections\", \" of\", \" cylinders\", \")\", \" having\", \" radial\", \" polarization\", \" patterns\", \",\", \" are\", \" used\", \" extensively\", \" in\", \" electro\", \"stat\", \"ographic\", \" imaging\", \" apparatus\", \"\\n\", \"A\", \"rom\", \"at\", \"isation\", \" of\", \" and\", \"rost\", \"ened\", \"ione\", \" by\", \" human\", \" breast\", \" cancer\", \" tissue\", \":\", \" correlation\", \" with\", \" hormone\", \" receptor\", \" activity\", \" and\", \" possible\", \" bi\", \"ologic\", \" significance\", \"\\n\", \"Th\", \"yme\", \"\\\\newline\", \"\\\\newline\", \"There\", \" are\", \" few\", \" things\", \" more\", \" comforting\", \" than\", \" having\", \" a\", \" real\", \" French\", \" On\", \"ion\", \" Soup\", \" \\u2013\", \" slowly\", \" cooked\", \",\", \" caramel\", \"ized\", \" onions\", \" that\", \" turn\", \" m\", \"\\n\", \"I\", \" think\", \" that\", \" having\", \" rubbish\", \" weather\", \" in\", \" the\", \" northern\", \" hemisphere\", \" at\", \" the\", \" moment\", \" means\", \" people\", \" have\", \" not\", \" been\", \" out\", \" on\", \" their\", \" bikes\", \" very\", \" much\", \".\", \" In\", \" turn\", \" that\", \" means\", \" not\", \" so\", \" much\", \" to\", \" post\", \" about\", \".\", \" So\", \" what\", \" you\", \"\\n\", \"This\", \" invention\", \" relates\", \" to\", \" a\", \" valve\", \" system\", \" for\", \" a\", \" press\", \"urized\", \" fluid\", \" container\", \",\", \"\\n\", \"Stand\", \"ing\", \" as\", \" a\", \" bul\", \"w\", \"ark\", \" of\", \" liberty\", \",\", \" the\", \" Oklahoma\", \" House\", \" of\", \" Representatives\", \" passed\", \" a\", \" bill\", \" protecting\", \" citizens\", \" of\", \" the\", \" Soon\", \"er\", \" State\", \" from\", \" the\", \" unconstitutional\", \"\\n\", \"Pro\", \"vision\", \"al\", \" Council\", \" of\", \" the\", \" Russian\", \" Republic\", \"\\\\newline\", \"\\\\newline\", \"Pro\", \"vision\", \"al\", \" Council\", \" of\", \" the\", \"\\n\", \"Pol\", \"and\", \" Says\", \" EU\", \" Going\", \" Soft\", \" On\", \" Gaz\", \"prom\", \" Market\", \" Abuse\", \"\\\\newline\", \"\\\\newline\", \"By\", \" Dam\", \"ir\", \" Kal\", \"et\", \"ovic\", \" Poland\", \" is\", \" threatening\", \" to\", \" use\", \" all\", \" legal\", \" means\", \" possible\", \" to\", \" block\", \" the\", \" settlement\", \",\", \" without\", \" fines\", \"\\n\", \"New\", \"sp\", \"aper\", \" headlines\", \":\", \" Div\", \"orce\", \" law\", \" change\", \" and\", \" '\", \"Bor\", \"is\", \"'\", \" blonde\", \"'\", \" By\", \" BBC\", \" News\", \"\\\\newline\", \"\\\\newline\", \"Staff\", \"\\n\", \"1\", \" F\", \".\", \"3\", \"d\", \" 12\", \"46\", \"NOT\", \"ICE\", \":\", \" Ninth\", \" Circuit\", \" Rule\", \" 36\", \"-\", \"3\", \" provides\", \" that\", \" dispositions\", \" other\", \" than\", \" opinions\", \" or\", \" orders\", \"\\n\", \"[\", \"F\", \"amil\", \"ial\", \" cutaneous\", \" amyloid\", \"osis\", \"].\", \"\\\\newline\", \"F\", \"amil\", \"ial\", \" diseases\", \" with\", \" skin\", \" lesions\", \" of\", \" amyloid\", \"osis\", \" are\", \" numerous\", \" and\", \" diverse\", \",\", \" including\", \" widely\", \" different\", \" entities\", \".\", \" The\", \" most\", \" homogeneous\", \" group\", \"\\n\", \"O\", \"scill\", \"atory\", \" potentials\", \" and\", \" light\", \" microscopic\", \"\\n\", \"Follow\", \" T\", \"enders\", \" &\", \" Tra\", \"ils\", \"!\", \"\\\\newline\", \"\\\\newline\", \"Hey\", \"!\", \" I\", \"'m\", \" Jill\", \"ian\", \" Be\", \"jt\", \"lich\", \".\", \" I\", \"\\u2019\", \"m\", \" a\", \" lifelong\", \" New\", \" England\", \"er\", \" with\", \" a\", \" serious\", \" love\", \" of\", \" the\", \" outdoors\", \",\", \" adventure\", \"\\n\", \"Quick\", \" Tip\", \":\", \" How\", \" JavaScript\", \" References\", \" Work\", \"\\n\", \"991\", \" F\", \".\", \"2\", \"d\", \" 800\", \"\\\\newline\", \"NOT\", \"ICE\", \":\", \" Seventh\", \" Circuit\", \" Rule\", \" 53\", \"(\", \"b\", \")(\", \"2\", \")\", \" states\", \" unpublished\", \" orders\", \" shall\", \" not\", \" be\", \" cited\", \" or\", \" used\", \" as\", \" precedent\", \" except\", \" to\", \" support\", \" a\", \" claim\", \" of\", \" res\", \" judicata\", \",\", \" collateral\", \"\\n\", \"Q\", \":\", \"\\\\newline\", \"\\\\newline\", \"How\", \"\\n\", \"App\", \"arent\", \" treatment\", \"-\", \"resistant\", \" hypertension\", \" among\", \" elderly\", \" Korean\", \" hypert\", \"ens\", \"ives\", \":\", \" an\", \" insight\", \" from\", \" the\", \" H\", \"IT\", \" registry\", \".\", \"\\\\newline\", \"The\", \" aim\", \" of\", \" this\", \" study\", \" was\", \" to\", \" determine\", \" the\", \" clinical\", \"\\n\", \"program\", \" test\", \"unicode\", \";\", \"\\\\newline\", \"\\\\newline\", \"{\", \" Unicode\", \" test\", \" program\", \" using\", \" UTF\", \"8\", \"String\", \" }\", \"\\\\newline\", \"\\\\newline\", \"{$\", \"mode\", \" obj\", \"f\", \"pc\", \"}{\", \"$\", \"H\", \"+}\", \"\\\\newline\", \"{$\", \"cod\", \"ep\", \"age\", \" utf\", \"8\", \"}\", \"\\\\newline\", \"{$\", \"IFN\", \"\\n\", \"With\", \" warm\", \" weather\", \" now\", \" gr\", \"acing\", \" much\", \" of\", \" the\", \" country\", \",\", \" many\", \" are\", \" heading\", \" to\", \" the\", \" great\", \" outdoors\", \" to\", \" camp\", \",\", \" hike\", \" and\", \" fish\", \".\", \" Depending\", \"\\n\", \"Joy\", \"\\n\", \"A\", \" cell\", \"-\", \"free\", \" system\", \" from\", \" eth\", \"ionine\", \"-\", \"treated\", \" rat\", \" liver\", \"\\n\", \"Today\", \"\\n\", \"Q\", \":\", \"\\\\newline\", \"\\\\newline\", \"App\", \"ending\", \" images\", \" using\", \" python\", \" and\", \" imag\", \"em\", \"ag\", \"ick\", \"\\\\newline\", \"\\\\newline\", \"Most\", \"\\n\", \"Good\", \" or\", \" Bad\", \"\\n\", \"Ex\", \"pert\", \" Private\", \" Detect\", \"ives\", \" in\", \" Bristol\", \"\\\\newline\", \"\\\\newline\", \"25\", \" Years\", \"\\n\", \"M\", \"AD\", \"ISON\", \",\", \" Wis\", \".\", \" -\", \" Everybody\", \"\\n\", \"Fr\", \"ontal\", \" lobe\", \" hyp\", \"omet\", \"abolism\", \" and\", \" impaired\", \" insight\", \" in\", \" Alzheimer\", \" disease\", \".\", \"\\\\newline\", \"The\", \" authors\", \" examined\", \" the\", \" relationship\", \" between\", \" impaired\", \" insight\", \" regarding\", \" cognitive\", \" and\", \" functional\", \" deficits\", \" and\", \" frontal\", \" cortex\", \" hyp\", \"omet\", \"abolism\", \" in\", \" 41\", \" patients\", \"\\n\", \"Apple\", \" is\", \" offering\", \" partial\", \" ref\", \"unds\", \" to\", \" recent\", \" i\", \"Cloud\", \" subscribers\", \" as\", \" it\", \" drops\", \" the\", \" price\", \" of\", \" its\", \" cloud\", \" storage\", \" plans\", \".\", \"\\\\newline\", \"\\\\newline\", \"The\", \" ref\", \"unds\", \"\\n\", \"Hum\", \"mus\", \" +\", \" Sp\", \"ag\", \"hetti\", \" Squ\", \"ash\", \"\\\\newline\", \"\\\\newline\", \"Sometimes\", \"\\n\", \"//\", \"\\\\newline\", \"//\", \" as\", \"io\", \".\", \"hpp\", \"\\\\newline\", \"//\", \" \", \"~~~~~~~~\", \"\\\\newline\", \"//\", \"\\\\newline\", \"//\", \" Copyright\", \" (\", \"c\", \")\", \" 2003\", \"-\", \"2018\", \" Christopher\", \" M\", \".\", \" Koh\", \"\\n\", \"\\ufeff\", \"using\", \" Harm\", \"\\n\", \"Evaluation\", \" of\", \" visual\", \" outcome\", \" following\", \" cataract\", \"\\n\", \"Q\", \":\", \"\\\\newline\", \"\\\\newline\", \"\\u041a\", \"\\u0430\\u043a\", \" \\u043e\\u043f\", \"\\u044f\\u0442\", \"\\u044c\", \" \\u043f\", \"\\u043e\\u0431\", \"\\u0435\\u0434\", \"\\u0438\\u0442\\u044c\", \" URL\", \"manager\", \"?\", \"\\\\newline\", \"\\\\newline\", \"\\u0432\", \"\\u043e\\u0437\", \"\\u043d\\u0438\\u043a\", \" \\u0442\\u0430\\u043a\", \"\\u043e\\u0439\", \" \\u0432\", \"\\u043e\\u043f\", \"\\u0440\\u043e\\u0441\", \"  \", \"\\u0432\", \"\\u043e\\u0442\", \" \\u043f\\u0440\\u0430\\u0432\", \"\\n\", \"\\\"\", \"Hi\", \" Frank\", \"ie\", \".\\\"\", \" \\\"\", \"Hello\", \".\\\"\", \" \\\"\", \"Get\", \" in\", \" here\", \".\\\"\", \" \\\"\", \"Nothing\", \"\\n\", \"A\", \"mand\", \"a\", \" Dob\", \"bs\", \" withdraw\", \"s\", \" from\", \" US\", \" Nation\", \"als\", \"\\\\newline\", \"\\\\newline\", \"I\", \" am\", \" sad\", \" to\", \" announce\", \" that\", \" I\", \" have\", \" had\", \" to\", \" withdraw\", \" from\", \" the\", \" 2011\", \" US\", \" National\", \" Championships\", \" in\", \" Greens\", \"boro\", \",\", \" NC\", \".\", \" I\", \" took\", \" a\", \" weird\", \"\\n\", \"<!\", \"DOCTYPE\", \" html\", \">\", \"\\\\newline\", \"<\", \"html\", \">\", \"\\\\newline\", \"<\", \"head\", \">\", \"\\\\newline\", \"    \", \"<\", \"title\", \">\", \"\\ufffd\", \"\\ufffd\", \"\\u5355\", \"\\ufffd\", \"\\ufffd\", \"\\u60c5\", \"\\n\", \"Look\", \"\\n\", \"Res\", \"earchers\", \" tell\", \" us\", \" that\", \" by\", \" the\", \" time\", \" children\", \" from\", \" low\", \"-\", \"income\", \" homes\", \" enter\", \" kinder\", \"\\n\", \"24\", \"04\", \"15\", \"_\", \"MO\", \"_\", \"00\", \" (\", \"6\", \").\", \"jpg\", \"\\\\newline\", \"\\\\newline\", \"Members\", \" of\", \" al\", \"-\", \"M\", \"ujah\", \"ide\", \"en\", \" brig\", \"\\n\"], \"activations\": [[[-1.0665342807769775]], [[-0.3541179895401001]], [[-0.18284957110881805]], [[0.10712214559316635]], [[1.1954445838928223]], [[0.6751125454902649]], [[0.3555653691291809]], [[1.2173128128051758]], [[0.5695748329162598]], [[1.5457415580749512]], [[0.0]], [[0.7667972445487976]], [[0.2878909111022949]], [[0.3100043535232544]], [[0.4346367120742798]], [[0.24443934857845306]], [[-0.26718422770500183]], [[0.5524556636810303]], [[0.06887733936309814]], [[0.3499128818511963]], [[0.26311367750167847]], [[-0.46491602063179016]], [[0.25041264295578003]], [[-0.11219316720962524]], [[-0.1909819096326828]], [[-0.4227445721626282]], [[-0.620910108089447]], [[0.2613195776939392]], [[0.8724218606948853]], [[0.2663379907608032]], [[0.3910718560218811]], [[0.3300836682319641]], [[0.08306211233139038]], [[1.567795753479004]], [[0.0]], [[0.35690516233444214]], [[0.23375117778778076]], [[1.1057850122451782]], [[1.949135422706604]], [[0.16998302936553955]], [[-0.010753631591796875]], [[0.7252042889595032]], [[0.6656877994537354]], [[0.19522079825401306]], [[0.5231943726539612]], [[0.6245037317276001]], [[0.30827081203460693]], [[1.6213560104370117]], [[0.0]], [[0.086321160197258]], [[0.4689948558807373]], [[0.5214886665344238]], [[0.45791298151016235]], [[0.06185172125697136]], [[-0.30619195103645325]], [[0.040192268788814545]], [[-0.10579157620668411]], [[0.2762143611907959]], [[0.6220775246620178]], [[-0.6032856702804565]], [[0.5826191902160645]], [[0.3260725438594818]], [[0.2060549259185791]], [[1.002537727355957]], [[0.6514209508895874]], [[-0.23410212993621826]], [[0.6558739542961121]], [[1.0896973609924316]], [[0.1655576080083847]], [[0.935806393623352]], [[0.5479375123977661]], [[0.1560869812965393]], [[0.2556473910808563]], [[0.26606446504592896]], [[0.2800910472869873]], [[0.09535421431064606]], [[0.11554776132106781]], [[0.48659878969192505]], [[0.3653455078601837]], [[-0.24996787309646606]], [[0.007533952593803406]], [[1.3854882717132568]], [[0.0]], [[-0.04037129506468773]], [[0.3049541115760803]], [[0.24904382228851318]], [[0.19729474186897278]], [[0.506781280040741]], [[0.32536691427230835]], [[-0.1208895668387413]], [[0.015098407864570618]], [[-0.4353903830051422]], [[0.3839912414550781]], [[0.4049343466758728]], [[0.631375253200531]], [[0.5350823402404785]], [[0.20593982934951782]], [[0.6430184841156006]], [[-0.0058744847774505615]], [[1.0414044857025146]], [[0.0]], [[-0.11315008997917175]], [[-0.16095426678657532]], [[-0.3282749652862549]], [[-0.3177720904350281]], [[-0.29008737206459045]], [[0.11125613003969193]], [[-0.3900785744190216]], [[-1.111940860748291]], [[-0.06381193548440933]], [[0.16880321502685547]], [[0.008382856845855713]], [[-0.6949906945228577]], [[0.11143068969249725]], [[0.3203037679195404]], [[-0.10053333640098572]], [[-0.5457137823104858]], [[-0.14571933448314667]], [[-0.3204079270362854]], [[0.09033405035734177]], [[0.48252493143081665]], [[0.06859079003334045]], [[0.4915469288825989]], [[-0.3930715024471283]], [[0.8636211156845093]], [[-0.019325047731399536]], [[0.37242233753204346]], [[0.22399935126304626]], [[-0.25202426314353943]], [[0.22851675748825073]], [[0.07000571489334106]], [[0.06424856185913086]], [[-0.9492661952972412]], [[-0.47492146492004395]], [[-0.690261721611023]], [[-0.43943458795547485]], [[0.21226882934570312]], [[0.6756278276443481]], [[-0.09379453957080841]], [[1.3500728607177734]], [[0.0]], [[-0.14490914344787598]], [[0.279472678899765]], [[-0.5580263733863831]], [[0.22728058695793152]], [[0.5298429131507874]], [[0.11925547569990158]], [[-0.41604557633399963]], [[-0.025813937187194824]], [[0.17233392596244812]], [[-0.06260758638381958]], [[0.7216008901596069]], [[0.5605227947235107]], [[0.8390909433364868]], [[0.27434176206588745]], [[-0.030988484621047974]], [[1.0283141136169434]], [[0.08957880735397339]], [[0.46977439522743225]], [[0.623778223991394]], [[0.35296303033828735]], [[0.28561657667160034]], [[1.0683012008666992]], [[-0.09752985835075378]], [[0.41654717922210693]], [[0.28887709975242615]], [[1.490142583847046]], [[0.0]], [[-1.066534161567688]], [[-0.35411787033081055]], [[-0.18284918367862701]], [[0.1071220338344574]], [[1.1954447031021118]], [[-0.17531508207321167]], [[0.17745843529701233]], [[0.07530654966831207]], [[0.17407160997390747]], [[-0.1807020604610443]], [[-0.33750104904174805]], [[1.1939224004745483]], [[0.10541554540395737]], [[0.19202536344528198]], [[0.21900786459445953]], [[0.3768724799156189]], [[-0.3549211621284485]], [[0.3485708236694336]], [[0.11714395880699158]], [[0.10858355462551117]], [[-0.09830719232559204]], [[0.009631723165512085]], [[-0.5586796998977661]], [[0.9630306363105774]], [[0.0]], [[0.8562500476837158]], [[0.3325718641281128]], [[0.6675662994384766]], [[0.1914633810520172]], [[0.6109349727630615]], [[0.16224586963653564]], [[-0.039330363273620605]], [[-0.8286940455436707]], [[0.018017590045928955]], [[-0.12462431192398071]], [[-0.8347436189651489]], [[-0.2217855304479599]], [[-0.36060041189193726]], [[-0.20607426762580872]], [[-0.18245548009872437]], [[-0.12151521444320679]], [[1.2768213748931885]], [[-0.23316511511802673]], [[-0.29086577892303467]], [[-0.513526439666748]], [[-0.39409777522087097]], [[0.27837684750556946]], [[-0.21512064337730408]], [[-0.05713696777820587]], [[0.03567495942115784]], [[-0.11525679379701614]], [[0.027487583458423615]], [[-0.48255929350852966]], [[0.20101790130138397]], [[0.23543137311935425]], [[0.13288678228855133]], [[-0.14052830636501312]], [[-0.15946659445762634]], [[0.015036463737487793]], [[-0.18795950710773468]], [[0.13311612606048584]], [[1.2139430046081543]], [[0.0]], [[-0.34796926379203796]], [[-0.22989937663078308]], [[-0.301001638174057]], [[-0.9393709897994995]], [[-0.5506278872489929]], [[-0.19361841678619385]], [[-0.43206456303596497]], [[-0.2706189751625061]], [[0.2504153847694397]], [[0.2828172743320465]], [[0.031105853617191315]], [[0.09527474641799927]], [[-0.41319379210472107]], [[-0.009422704577445984]], [[-0.10116851329803467]], [[0.11655203998088837]], [[0.25999748706817627]], [[-0.2356082648038864]], [[0.1974359005689621]], [[0.486841082572937]], [[0.23372963070869446]], [[0.24016959965229034]], [[0.6584262251853943]], [[0.937151312828064]], [[0.0]], [[0.5349839329719543]], [[0.8104472160339355]], [[-0.06789550185203552]], [[0.0987280011177063]], [[0.37670305371284485]], [[0.3167248070240021]], [[-0.04896775260567665]], [[0.2921125888824463]], [[0.34189024567604065]], [[1.3353568315505981]], [[0.5216065049171448]], [[0.3886209726333618]], [[-0.15132366120815277]], [[1.0820289850234985]], [[0.15998442471027374]], [[0.8237349390983582]], [[1.2644779682159424]], [[0.38303840160369873]], [[0.09507271647453308]], [[-0.5352624654769897]], [[-0.22195026278495789]], [[-0.10661997646093369]], [[-0.39055973291397095]], [[0.4759328365325928]], [[-0.1061103343963623]], [[-0.012339681386947632]], [[0.21337980031967163]], [[-0.048660170286893845]], [[0.34736254811286926]], [[-0.11501777172088623]], [[0.287583589553833]], [[1.0341639518737793]], [[0.0]], [[0.029275957494974136]], [[-0.20758888125419617]], [[0.09062658250331879]], [[-0.058978304266929626]], [[0.9705135226249695]], [[-0.35175684094429016]], [[-0.10788469761610031]], [[-0.38987916707992554]], [[0.27663087844848633]], [[0.397737979888916]], [[0.1940438449382782]], [[0.5486445426940918]], [[0.11917981505393982]], [[0.8224762678146362]], [[0.4310509264469147]], [[-0.042585015296936035]], [[0.42024192214012146]], [[0.32026728987693787]], [[0.23713915050029755]], [[0.0923599824309349]], [[-0.18253174424171448]], [[0.3945304751396179]], [[-0.05378299951553345]], [[-0.03001229465007782]], [[-0.10527840256690979]], [[-0.2971687614917755]], [[0.32744300365448]], [[0.15978381037712097]], [[0.5437183976173401]], [[1.0315215587615967]], [[0.0]], [[0.3814865052700043]], [[-0.17617405951023102]], [[0.4247930645942688]], [[0.1565546989440918]], [[-0.015258938074111938]], [[-0.5765706896781921]], [[-0.009131267666816711]], [[0.06964746117591858]], [[-0.047595053911209106]], [[-0.5267728567123413]], [[-0.09301397949457169]], [[-0.2095108926296234]], [[0.09338614344596863]], [[0.9501042366027832]], [[-0.1698065549135208]], [[-0.3466549217700958]], [[0.38515323400497437]], [[0.07333607971668243]], [[0.4860174059867859]], [[0.32503417134284973]], [[0.13111400604248047]], [[0.7291922569274902]], [[0.0]], [[0.619598925113678]], [[0.8233233690261841]], [[1.017251968383789]], [[0.0]], [[0.029275942593812943]], [[-0.5368825197219849]], [[0.2576000690460205]], [[0.31163403391838074]], [[0.44535526633262634]], [[-0.007099535316228867]], [[0.08881653845310211]], [[0.9083153009414673]], [[0.0]], [[1.3444178104400635]], [[0.5886585712432861]], [[-0.07995116710662842]], [[0.6125091314315796]], [[0.34509697556495667]], [[1.0004111528396606]], [[0.5881608128547668]], [[0.9422584176063538]], [[0.29490962624549866]], [[0.4147228002548218]], [[0.23044666647911072]], [[-0.5078338980674744]], [[0.021557064726948738]], [[0.011954007670283318]], [[0.06220795214176178]], [[0.2848031520843506]], [[0.6300309896469116]], [[1.2489176988601685]], [[0.0]], [[-0.22577473521232605]], [[-0.3212030231952667]], [[0.03293342888355255]], [[0.31171420216560364]], [[0.17049722373485565]], [[0.895235002040863]], [[-0.3080208897590637]], [[-0.7559381127357483]], [[0.6406968235969543]], [[1.3055675029754639]], [[0.28737327456474304]], [[0.29201990365982056]], [[-0.4169659912586212]], [[0.122586190700531]], [[-0.6845165491104126]], [[-0.330478698015213]], [[0.5092707276344299]], [[-0.31057190895080566]], [[0.09390677511692047]], [[-0.7822921276092529]], [[-0.15882378816604614]], [[-0.2412301003932953]], [[-0.22216227650642395]], [[-0.03294696658849716]], [[0.20596431195735931]], [[-0.008195146918296814]], [[0.16803088784217834]], [[-0.757159948348999]], [[0.12608812749385834]], [[0.1330990046262741]], [[0.43985819816589355]], [[1.2367323637008667]], [[0.0]], [[-0.3604313135147095]], [[-1.0665347576141357]], [[-0.28565263748168945]], [[-0.614614725112915]], [[-0.25188273191452026]], [[-0.1731158345937729]], [[0.26277458667755127]], [[0.08361521363258362]], [[0.6312057375907898]], [[0.6691694855690002]], [[0.9179231524467468]], [[0.008130282163619995]], [[0.6300977468490601]], [[1.223867416381836]], [[0.0]], [[0.6195986866950989]], [[0.7837287187576294]], [[0.2929588854312897]], [[0.6391819715499878]], [[0.2699463367462158]], [[0.5827934741973877]], [[1.2738466262817383]], [[0.6399952173233032]], [[0.35375338792800903]], [[1.570313572883606]], [[0.6121278405189514]], [[0.3540040850639343]], [[0.3422648310661316]], [[0.11056125164031982]], [[0.43049514293670654]], [[0.305564284324646]], [[1.0364331007003784]], [[0.2825678884983063]], [[0.8747626543045044]], [[0.4131684899330139]], [[0.8461904525756836]], [[0.5586721301078796]], [[1.1364657878875732]], [[0.5900624394416809]], [[1.1868809461593628]], [[0.6644972562789917]], [[0.7963143587112427]], [[0.3601386547088623]], [[1.074906349182129]], [[0.3447027802467346]], [[0.9002538919448853]], [[0.35409998893737793]], [[0.8652041554450989]], [[0.594829797744751]], [[1.1053231954574585]], [[0.579517126083374]], [[0.9922704100608826]], [[0.0]], [[0.029275957494974136]], [[-0.20758888125419617]], [[-0.3092467486858368]], [[-0.1489793211221695]], [[0.37159693241119385]], [[0.1798407882452011]], [[-0.07085922360420227]], [[-0.3090749680995941]], [[0.11997056007385254]], [[-0.10081823170185089]], [[-0.05141293257474899]], [[0.2501513361930847]], [[0.5238581895828247]], [[0.49631646275520325]], [[0.4757729470729828]], [[0.3654436469078064]], [[0.03131452202796936]], [[-0.21305915713310242]], [[-0.07245059311389923]], [[0.4300580620765686]], [[0.0]], [[0.2726936936378479]], [[0.22972866892814636]], [[0.5718650221824646]], [[0.6532153487205505]], [[0.9503700733184814]], [[-0.3808784484863281]], [[0.25424784421920776]], [[0.7052656412124634]], [[-0.12413417547941208]], [[0.2481555938720703]], [[0.46719983220100403]], [[-0.04664452373981476]], [[-0.1464645266532898]], [[0.15553148090839386]], [[0.1318635493516922]], [[-0.7448495626449585]], [[-0.12801432609558105]], [[0.1729278713464737]], [[0.29437386989593506]], [[0.9902571439743042]], [[-0.3524441719055176]], [[0.7604842185974121]], [[0.345846951007843]], [[-0.04911143705248833]], [[-0.14354673027992249]], [[-0.04362916946411133]], [[-0.4665873050689697]], [[0.05936190485954285]], [[0.059673987329006195]], [[0.199965238571167]], [[1.180755376815796]], [[0.4391733705997467]], [[-0.3944493234157562]], [[-0.30976244807243347]], [[-0.46864959597587585]], [[0.10984169691801071]], [[0.7710795998573303]], [[0.0]], [[0.767440915107727]], [[0.8427350521087646]], [[0.6366041898727417]], [[-0.3701629638671875]], [[0.5511962175369263]], [[0.5429430603981018]], [[0.01292109489440918]], [[0.7158362865447998]], [[0.7551098465919495]], [[0.6540892124176025]], [[1.3695435523986816]], [[0.8839660286903381]], [[0.06856146454811096]], [[0.956280529499054]], [[-0.17552778124809265]], [[0.5010967254638672]], [[-0.0932665765285492]], [[0.23367998003959656]], [[0.41929274797439575]], [[0.7790992259979248]], [[0.0848110020160675]], [[0.3002009391784668]], [[0.33559903502464294]], [[0.12098506093025208]], [[0.16771847009658813]], [[0.7733058929443359]], [[0.6937326788902283]], [[0.8688123822212219]], [[0.3455064594745636]], [[0.14544418454170227]], [[0.3980112373828888]], [[0.3389318585395813]], [[0.6468256115913391]], [[0.8837171792984009]], [[0.0]], [[0.3430092930793762]], [[-0.13507206737995148]], [[-0.20010249316692352]], [[0.1347259283065796]], [[-0.021772295236587524]], [[0.2638101875782013]], [[0.4331197738647461]], [[0.10067382454872131]], [[-0.047248538583517075]], [[-0.43498533964157104]], [[0.09561984986066818]], [[-0.26619648933410645]], [[0.4712718725204468]], [[0.4989597797393799]], [[1.3496580123901367]], [[0.9906703233718872]], [[-0.10314691811800003]], [[-0.4265275299549103]], [[-0.09606940299272537]], [[0.2175326943397522]], [[-0.14441785216331482]], [[0.0586310476064682]], [[-0.36804908514022827]], [[-0.35861724615097046]], [[-0.42647290229797363]], [[0.5885669589042664]], [[0.0]], [[0.23374882340431213]], [[0.018712669610977173]], [[0.05778926610946655]], [[-0.4070838391780853]], [[-0.09512284398078918]], [[-0.24384576082229614]], [[0.7865026593208313]], [[0.3599418103694916]], [[1.0223191976547241]], [[0.2637200951576233]], [[-0.5222156643867493]], [[0.01711180806159973]], [[0.43930503726005554]], [[0.0]], [[-0.11315015703439713]], [[-0.1609542965888977]], [[-0.3282751142978668]], [[-0.31777223944664]], [[-0.9554216265678406]], [[0.37843555212020874]], [[-0.32619547843933105]], [[-0.49463093280792236]], [[0.16890844702720642]], [[-0.0882527083158493]], [[0.03386298194527626]], [[0.09022840857505798]], [[0.27824336290359497]], [[-0.0556187704205513]], [[-0.24334074556827545]], [[0.2375885248184204]], [[0.017945701256394386]], [[0.605306088924408]], [[0.0]], [[1.7576960325241089]], [[0.26526764035224915]], [[-0.5320762395858765]], [[0.46684327721595764]], [[-0.43167439103126526]], [[-0.17716315388679504]], [[0.1179126501083374]], [[-0.8099088668823242]], [[-0.23466694355010986]], [[0.0048907846212387085]], [[1.1284435987472534]], [[-0.19554948806762695]], [[-0.29922372102737427]], [[-0.41635608673095703]], [[0.031698666512966156]], [[-0.4623050093650818]], [[-0.25261181592941284]], [[-0.13521885871887207]], [[-0.24565240740776062]], [[-0.33708059787750244]], [[-0.5938520431518555]], [[0.08229976147413254]], [[-0.06733140349388123]], [[-0.45071130990982056]], [[-0.1553107649087906]], [[-0.5204855799674988]], [[-0.5531243085861206]], [[0.11551468819379807]], [[-0.05106881260871887]], [[-0.3506771922111511]], [[-0.5131175518035889]], [[-0.22763296961784363]], [[0.02462822198867798]], [[0.14285394549369812]], [[0.0]], [[0.1966840922832489]], [[0.5596960783004761]], [[-0.5877103805541992]], [[-0.10714221000671387]], [[0.6014277338981628]], [[-0.10375934839248657]], [[-0.31044715642929077]], [[-0.7114083170890808]], [[-0.03666192293167114]], [[-0.3264899253845215]], [[-0.09827125072479248]], [[0.0]], [[-1.066534161567688]], [[-1.1584073305130005]], [[0.05639314651489258]], [[0.5924773812294006]], [[0.013334475457668304]], [[0.33662474155426025]], [[1.0645034313201904]], [[-0.2217601239681244]], [[0.2688804864883423]], [[0.7652188539505005]], [[0.13146933913230896]], [[0.6611376404762268]], [[0.286818265914917]], [[0.06221954524517059]], [[0.4814208149909973]], [[0.5363578796386719]], [[1.0422664880752563]], [[0.10354219377040863]], [[0.23474806547164917]], [[0.31719958782196045]], [[-0.20665329694747925]], [[0.11949384212493896]], [[0.18645510077476501]], [[1.0277223587036133]], [[-0.10408541560173035]], [[-0.07263483107089996]], [[-0.19937393069267273]], [[0.20717817544937134]], [[0.7193710803985596]], [[0.09486515820026398]], [[0.6989721655845642]], [[0.0]], [[0.4298488199710846]], [[0.13524675369262695]], [[0.5060396194458008]], [[0.9113305807113647]], [[-0.06923940777778625]], [[0.12668214738368988]], [[0.37917202711105347]], [[0.17121726274490356]], [[0.39061546325683594]], [[-0.41352906823158264]], [[0.08930008113384247]], [[0.22006021440029144]], [[-0.008338749408721924]], [[0.016644835472106934]], [[-0.43207961320877075]], [[-0.5933126211166382]], [[0.12471770495176315]], [[-0.5700701475143433]], [[-0.6328443288803101]], [[0.2916351556777954]], [[0.4532708525657654]], [[0.09610399603843689]], [[0.8175967931747437]], [[0.029428690671920776]], [[-0.05952037125825882]], [[0.47778260707855225]], [[0.7973272800445557]], [[0.055046312510967255]], [[0.6682538390159607]], [[0.973111629486084]], [[-0.18130750954151154]], [[-0.18212300539016724]], [[0.12971070408821106]], [[-0.27040910720825195]], [[0.29406309127807617]], [[0.3388291001319885]], [[0.017860233783721924]], [[0.6632246971130371]], [[0.0]], [[-0.42055654525756836]], [[0.35655099153518677]], [[-0.3856356143951416]], [[-0.40290066599845886]], [[-0.2727229595184326]], [[-0.4763275384902954]], [[-0.4256660044193268]], [[-0.060728028416633606]], [[1.3871047496795654]], [[-0.2668338418006897]], [[-0.9462125897407532]], [[-0.029721660539507866]], [[0.02053879015147686]], [[-0.3082149028778076]], [[0.18923723697662354]], [[0.6816417574882507]], [[0.23904643952846527]], [[-0.14544251561164856]], [[0.7075152397155762]], [[-0.27763277292251587]], [[0.7968952059745789]], [[-0.3231968879699707]], [[0.9345251321792603]], [[0.2297973334789276]], [[0.10087218135595322]], [[-0.058510921895504]], [[0.47053444385528564]], [[0.22231897711753845]], [[0.08219616115093231]], [[0.33703112602233887]], [[0.6397439241409302]], [[0.0]], [[-0.6688679456710815]], [[-0.6003124713897705]], [[-0.5716768503189087]], [[-0.49560099840164185]], [[0.18894141912460327]], [[0.0]], [[1.3596495389938354]], [[0.6018798351287842]], [[0.7090681195259094]], [[0.7762072086334229]], [[0.005966663360595703]], [[0.49077948927879333]], [[0.7874002456665039]], [[0.5581162571907043]], [[0.0652940422296524]], [[0.31408268213272095]], [[0.6161463260650635]], [[0.2993704378604889]], [[0.27578291296958923]], [[0.030510157346725464]], [[-0.7474642992019653]], [[0.07427874207496643]], [[0.026858314871788025]], [[0.4835473895072937]], [[0.13438564538955688]], [[0.3794877529144287]], [[-0.17530328035354614]], [[0.105235755443573]], [[0.1395702362060547]], [[1.3231027126312256]], [[-0.19477158784866333]], [[0.21301814913749695]], [[0.19202011823654175]], [[0.16992850601673126]], [[0.44128233194351196]], [[0.38058048486709595]], [[0.6025977730751038]], [[0.0]], [[0.47156763076782227]], [[0.3380337655544281]], [[0.7204283475875854]], [[-0.38057103753089905]], [[0.10988520085811615]], [[0.24391618371009827]], [[0.8514915704727173]], [[-0.31937336921691895]], [[0.19701871275901794]], [[-0.17509733140468597]], [[1.174068570137024]], [[0.14120608568191528]], [[0.07806694507598877]], [[0.27159449458122253]], [[-0.025158405303955078]], [[0.17796635627746582]], [[0.23146952688694]], [[0.3236849308013916]], [[-0.15499280393123627]], [[0.2184905707836151]], [[0.624721884727478]], [[0.4512542486190796]], [[0.7386341094970703]], [[-0.0635451078414917]], [[0.2117406278848648]], [[1.2270712852478027]], [[0.3349025845527649]], [[0.4855901598930359]], [[0.15092706680297852]], [[0.21837693452835083]], [[0.042357467114925385]], [[0.341133713722229]], [[-0.060156919062137604]], [[0.058943986892700195]], [[0.0]], [[-0.04526330530643463]], [[0.5748041272163391]], [[0.4553070664405823]], [[0.0]], [[-0.06898051500320435]], [[-0.26414790749549866]], [[-0.09434261918067932]], [[-0.031159043312072754]], [[-0.24360425770282745]], [[-0.9623231887817383]], [[-0.5798124074935913]], [[-0.4472969174385071]], [[-0.25927913188934326]], [[0.8956363797187805]], [[-0.3730704188346863]], [[-0.0544334352016449]], [[-0.41592684388160706]], [[-0.4069812297821045]], [[0.49837419390678406]], [[-0.22493043541908264]], [[0.20471428334712982]], [[-0.023721208795905113]], [[-0.24972636997699738]], [[-0.17554447054862976]], [[-0.33618587255477905]], [[-0.7042685151100159]], [[0.13603705167770386]], [[-0.2464962899684906]], [[-0.4945993423461914]], [[-0.18794234097003937]], [[0.0]], [[-0.11315008997917175]], [[-0.16095426678657532]], [[-0.3282749652862549]], [[-0.3177720904350281]], [[-0.9512453079223633]], [[0.8140403032302856]], [[0.35521095991134644]], [[-0.07602404057979584]], [[1.0525155067443848]], [[-0.22767840325832367]], [[-0.6682277917861938]], [[0.4746628999710083]], [[-0.17911049723625183]], [[-0.09568831324577332]], [[-0.28055429458618164]], [[0.08655001223087311]], [[0.03742550313472748]], [[0.06993834674358368]], [[0.09533578157424927]], [[0.0397493839263916]], [[-0.7722190618515015]], [[0.10853435099124908]], [[-0.08330193907022476]], [[-0.2626190781593323]], [[0.1635430008172989]], [[-0.22204726934432983]], [[0.062387704849243164]], [[-0.023205041885375977]], [[-0.4778956174850464]], [[0.15433381497859955]], [[-0.6253702640533447]], [[0.09491201490163803]], [[0.007455095648765564]], [[-0.32415133714675903]], [[0.30137568712234497]], [[0.27721959352493286]], [[0.08242212980985641]], [[0.6924151182174683]], [[0.2887990474700928]], [[0.0]], [[0.2726935148239136]], [[0.5629859566688538]], [[0.3673454225063324]], [[1.049422025680542]], [[1.111159324645996]], [[-0.17334836721420288]], [[0.26189759373664856]], [[1.2941560745239258]], [[0.48401859402656555]], [[0.21308954060077667]], [[0.0]], [[-0.6688678860664368]], [[-0.2133808434009552]], [[-0.3452450633049011]], [[-0.4969315528869629]], [[-0.7893462181091309]], [[-0.12226054072380066]], [[0.5299828052520752]], [[0.16716699302196503]], [[0.09146974980831146]], [[-0.17043250799179077]], [[0.2938784956932068]], [[-0.21850994229316711]], [[-0.2992519736289978]], [[0.35269761085510254]], [[-0.11754418909549713]], [[-0.3061975836753845]], [[-0.0219804085791111]], [[0.29191941022872925]], [[0.947501540184021]], [[-0.29881197214126587]], [[-0.3068316578865051]], [[0.21991215646266937]], [[-0.3594023585319519]], [[0.058055341243743896]], [[0.1173199862241745]], [[0.14694392681121826]], [[0.0]], [[0.05529603362083435]], [[0.38782745599746704]], [[-0.5690609216690063]], [[-0.1692047268152237]], [[0.4721844494342804]], [[0.7360710501670837]], [[-0.029695898294448853]], [[1.1839543581008911]], [[-0.04942715913057327]], [[0.1194615289568901]], [[0.5001450181007385]], [[0.24111127853393555]], [[-0.20327213406562805]], [[0.3257395327091217]], [[0.4853273630142212]], [[0.1623108834028244]], [[-0.06943333148956299]], [[0.2449100911617279]], [[0.8128064870834351]], [[0.6938944458961487]], [[0.8337662220001221]], [[0.25360092520713806]], [[0.24841967225074768]], [[0.96184241771698]], [[0.2015828788280487]], [[0.7437913417816162]], [[0.3539671301841736]], [[0.0]], [[0.12684446573257446]], [[-0.3918852210044861]], [[0.5087336301803589]], [[1.4556257724761963]], [[-0.2147960662841797]], [[0.5369291305541992]], [[0.5646488666534424]], [[0.41659796237945557]], [[0.0]], [[-0.09614183008670807]], [[-0.2674556076526642]], [[-0.3885986804962158]], [[-0.3764009475708008]], [[-0.2782024145126343]], [[0.33374863862991333]], [[-0.16504377126693726]], [[-0.22814533114433289]], [[0.5917518138885498]], [[0.05102032423019409]], [[-0.26039251685142517]], [[0.3451274037361145]], [[-0.22204621136188507]], [[-0.02431224286556244]], [[0.0499950647354126]], [[0.8412864208221436]], [[0.2396739423274994]], [[-0.5074609518051147]], [[-0.14533507823944092]], [[-0.06882014870643616]], [[-0.2600609064102173]], [[-0.23046660423278809]], [[0.0]], [[-0.11315015703439713]], [[-0.1609542965888977]], [[-0.3282751142978668]], [[-0.31777223944664]], [[-0.4508402645587921]], [[-0.6790749430656433]], [[-0.3726694583892822]], [[-0.11399632692337036]], [[-0.16773194074630737]], [[-0.5214226245880127]], [[0.46679040789604187]], [[-0.41574516892433167]], [[0.1583614945411682]], [[-0.04547718167304993]], [[-1.315847396850586]], [[-0.6878283619880676]], [[-0.4058985412120819]], [[0.06385525315999985]], [[-0.558418333530426]], [[-0.015218723565340042]], [[-0.38652950525283813]], [[0.15484590828418732]], [[-0.06727814674377441]], [[-0.08743515610694885]], [[-0.5540162324905396]], [[-0.3952209949493408]], [[0.0]], [[-0.11315008997917175]], [[-0.16095426678657532]], [[-0.3282749652862549]], [[-0.3177720904350281]], [[-0.5112034678459167]], [[-0.47987961769104004]], [[-0.1413213312625885]], [[-0.07649863511323929]], [[-0.11320529878139496]], [[-0.1339108943939209]], [[0.7367843389511108]], [[-0.5894446969032288]], [[-0.24593451619148254]], [[-0.19380851089954376]], [[-0.4621734023094177]], [[-0.03400236368179321]], [[-1.4662742614746094e-05]], [[-0.026261627674102783]], [[-0.7405977249145508]], [[-0.14673852920532227]], [[0.008875660598278046]], [[0.18609784543514252]], [[-0.20542991161346436]], [[-0.01922747492790222]], [[-0.27993565797805786]], [[-0.25867217779159546]], [[-0.394738107919693]], [[0.35565662384033203]], [[-0.339232861995697]], [[0.09974172711372375]], [[-0.3844637870788574]], [[0.0355011522769928]], [[-0.04112052917480469]], [[0.13813693821430206]], [[0.0]], [[0.4256014823913574]], [[0.970806896686554]], [[0.10277369618415833]], [[0.3007538616657257]], [[0.585382342338562]], [[0.12529459595680237]], [[0.48468875885009766]], [[0.5751297473907471]], [[-0.1264687478542328]], [[0.23719991743564606]], [[0.6440402269363403]], [[0.6012054681777954]], [[-0.0754258781671524]], [[0.06650857627391815]], [[0.07985632121562958]], [[0.1263926923274994]], [[0.4912058115005493]], [[-0.026335030794143677]], [[0.3233434855937958]], [[0.7013136744499207]], [[0.7161204814910889]], [[1.061991810798645]], [[0.7075989246368408]], [[0.16572074592113495]], [[0.12566152215003967]], [[0.1915324479341507]], [[-0.02845146879553795]], [[0.1215304434299469]], [[-0.015800874680280685]], [[0.2123713195323944]], [[0.15882018208503723]], [[0.08447166532278061]], [[0.31162235140800476]], [[0.20876619219779968]], [[-0.12608079612255096]], [[0.1287088394165039]], [[0.31631916761398315]], [[0.024630891159176826]], [[0.0]], [[0.3258550465106964]], [[0.0894034206867218]], [[0.5129883289337158]], [[0.821715772151947]], [[0.3742854595184326]], [[0.52227783203125]], [[0.21701359748840332]], [[-0.2972056567668915]], [[-0.09907878935337067]], [[-0.3708736002445221]], [[0.6224226951599121]], [[0.2942681610584259]], [[-0.021346062421798706]], [[-0.5466085076332092]], [[1.4991164207458496]], [[-0.5696174502372742]], [[0.3060603141784668]], [[-0.14448708295822144]], [[0.6906301379203796]], [[-0.07795025408267975]], [[0.13319838047027588]], [[0.0]], [[-0.11315015703439713]], [[-0.1609542965888977]], [[-0.3282751142978668]], [[-0.31777223944664]], [[-0.7202116250991821]], [[0.32677340507507324]], [[-0.6291718482971191]], [[-0.11999240517616272]], [[0.06992574036121368]], [[0.4859467148780823]], [[-0.570487380027771]], [[0.05461546778678894]], [[-0.17611773312091827]], [[0.179658442735672]], [[-0.016475826501846313]], [[-0.12761805951595306]], [[-0.33584246039390564]], [[-0.14941920340061188]], [[0.1818322241306305]], [[-0.10490117967128754]], [[-0.12501217424869537]], [[-0.6460844278335571]], [[-0.033255577087402344]], [[0.3336118757724762]], [[-0.2402879297733307]], [[0.046339914202690125]], [[0.2890712320804596]], [[-0.10862482339143753]], [[-0.21109803020954132]], [[0.0]], [[0.3849796652793884]], [[0.511505126953125]], [[0.017741233110427856]], [[-0.45973455905914307]], [[-0.27957239747047424]], [[0.5404094457626343]], [[-0.11890473961830139]], [[-0.7195225358009338]], [[-0.3177606165409088]], [[-0.5964630842208862]], [[-0.7562408447265625]], [[-0.6785739660263062]], [[0.7489535212516785]], [[-0.16755083203315735]], [[-0.24396653473377228]], [[0.7274710536003113]], [[0.4751187860965729]], [[0.306389719247818]], [[0.2632492780685425]], [[0.6474220752716064]], [[0.14139540493488312]], [[-0.44367650151252747]], [[-0.0063598304986953735]], [[-0.10021188855171204]], [[1.1016216278076172]], [[-0.09737861156463623]], [[0.12506145238876343]], [[-0.10399535298347473]], [[0.09181559830904007]], [[-0.030667081475257874]], [[0.0]], [[0.21930643916130066]], [[0.0999106764793396]], [[-0.011823534965515137]], [[-0.27395325899124146]], [[-0.09899914264678955]], [[-0.01836194470524788]], [[0.17239105701446533]], [[0.2889173626899719]], [[-0.004222512245178223]], [[-0.13079798221588135]], [[-0.37900054454803467]], [[-0.10725390911102295]], [[-0.0845859944820404]], [[-0.18197205662727356]], [[-0.10231940448284149]], [[0.39823853969573975]], [[-0.004639148712158203]], [[-0.10763897001743317]], [[-0.10065604001283646]], [[-0.10973210632801056]], [[-0.24031636118888855]], [[0.1304982602596283]], [[-0.06138082593679428]], [[0.08042418956756592]], [[0.02447594702243805]], [[-0.1103614866733551]], [[0.012515336275100708]], [[0.571636438369751]], [[0.04519951343536377]], [[-0.041860178112983704]], [[-0.04768607020378113]], [[-0.07547245919704437]], [[-0.26218563318252563]], [[0.13881802558898926]], [[0.12305271625518799]], [[0.057061195373535156]], [[-0.5674136877059937]], [[-0.3149719834327698]], [[0.0]], [[0.2726935148239136]], [[-0.7738203406333923]], [[-0.19815990328788757]], [[-0.38820648193359375]], [[0.2895885109901428]], [[0.32688143849372864]], [[0.2949933707714081]], [[-0.29651784896850586]], [[-0.24254214763641357]], [[-0.23689045011997223]], [[-0.46344345808029175]], [[0.022824449464678764]], [[-0.2872370481491089]], [[0.523137092590332]], [[-0.33901816606521606]], [[0.19121059775352478]], [[0.5191805958747864]], [[-0.03155571222305298]], [[0.10268084704875946]], [[-0.023912176489830017]], [[-0.21086663007736206]], [[-0.10889513790607452]], [[0.7292420268058777]], [[0.24113982915878296]], [[1.161316990852356]], [[-0.09591510891914368]], [[-0.02447228878736496]], [[0.2589411735534668]], [[-0.17669278383255005]], [[-0.02247200906276703]], [[0.0]], [[-0.05799330398440361]], [[-0.25650089979171753]], [[0.47092440724372864]], [[0.4831486940383911]], [[0.9221639633178711]], [[0.07784992456436157]], [[0.5852439403533936]], [[0.5364842414855957]], [[0.9218305349349976]], [[0.9799270629882812]], [[-0.3660903573036194]], [[0.008791446685791016]], [[0.029208838939666748]], [[0.0284174382686615]], [[0.29258641600608826]], [[0.19435831904411316]], [[1.0380074977874756]], [[-0.08960621058940887]], [[0.2999034523963928]], [[0.13296283781528473]], [[0.24044162034988403]], [[-0.1273530125617981]], [[0.05541716888546944]], [[0.14341966807842255]], [[0.0629238486289978]], [[0.0]], [[-0.3909609317779541]], [[-0.3224771022796631]], [[-0.026407450437545776]], [[-0.1868617832660675]], [[-0.7645169496536255]], [[-0.25793302059173584]], [[-0.723332405090332]], [[-0.5780926942825317]], [[0.11881217360496521]], [[0.09062793850898743]], [[0.5885360836982727]], [[0.746154248714447]], [[0.0203276127576828]], [[-0.4052690863609314]], [[-0.005676310509443283]], [[0.4655598998069763]], [[-0.03727462887763977]], [[-0.11839576810598373]], [[0.4027511477470398]], [[-0.1965886354446411]], [[0.04828133434057236]], [[-0.31003329157829285]], [[-0.17516133189201355]], [[0.6199132204055786]], [[-0.6100455522537231]], [[0.23104840517044067]], [[0.3052135705947876]], [[-0.12510940432548523]], [[0.0]], [[-0.6990689635276794]], [[-0.2921156883239746]], [[0.17987126111984253]], [[0.9219398498535156]], [[-0.03250989317893982]], [[0.19738803803920746]], [[1.208245038986206]], [[-0.07612624764442444]], [[-0.055580347776412964]], [[0.14114822447299957]], [[1.048764705657959]], [[-0.15929891169071198]], [[-0.08387202024459839]], [[-0.09105071425437927]], [[-0.4095700681209564]], [[0.5899242162704468]], [[0.577320396900177]], [[0.47861188650131226]], [[0.7213393449783325]], [[1.4881757497787476]], [[0.20873011648654938]], [[-0.1972680240869522]], [[-0.010978341102600098]], [[-0.06458285450935364]], [[-0.08158496767282486]], [[0.05980372428894043]], [[0.014949105679988861]], [[0.21639752388000488]], [[-0.11994227766990662]], [[0.4210900068283081]], [[0.5009262561798096]], [[0.06246545910835266]], [[1.0716004371643066]], [[0.9434406757354736]], [[0.9754797220230103]], [[-0.06536970287561417]], [[-0.05528785288333893]], [[-0.5082844495773315]], [[-0.2145644575357437]], [[0.0]], [[-0.6688679456710815]], [[-0.3367314338684082]], [[0.03961809724569321]], [[1.2141932249069214]], [[-0.1034291461110115]], [[-0.4874478876590729]], [[-0.05718357115983963]], [[1.1233364343643188]], [[-0.1637122631072998]], [[-0.39774394035339355]], [[0.2969498038291931]], [[-0.25256267189979553]], [[0.09121987968683243]], [[-0.20027536153793335]], [[0.0]], [[0.10407477617263794]], [[0.5940275192260742]], [[0.8139916658401489]], [[-0.12514697015285492]], [[-0.3024963438510895]], [[0.3213450312614441]], [[0.3002063035964966]], [[0.6737896203994751]], [[-0.22107508778572083]], [[-0.09897026419639587]], [[-0.4774453938007355]], [[0.43288910388946533]], [[0.5689770579338074]], [[0.7843776345252991]], [[0.6809198260307312]], [[0.8492990136146545]], [[0.34556251764297485]], [[0.2345072627067566]], [[0.8939814567565918]], [[0.35958436131477356]], [[1.0560449361801147]], [[-0.11558744311332703]], [[-0.4933769702911377]], [[0.32995057106018066]], [[0.2651015818119049]], [[1.297825813293457]], [[-0.042424529790878296]], [[0.1333220899105072]], [[0.0]], [[0.0047763437032699585]], [[0.11857971549034119]], [[0.5140550136566162]], [[0.7584934830665588]], [[0.987568736076355]], [[-0.20475316047668457]], [[0.2676936686038971]], [[-0.009924650192260742]], [[0.25075405836105347]], [[0.009532570838928223]], [[-0.3640630841255188]], [[-0.13420987129211426]], [[0.3401813209056854]], [[0.3849259614944458]], [[0.8302992582321167]], [[-0.3374941945075989]], [[0.0]], [[-0.005572499707341194]], [[0.22141814231872559]], [[0.16819781064987183]], [[0.4527698755264282]], [[0.4944043755531311]], [[0.03606165945529938]], [[0.7733482122421265]], [[0.15639115869998932]], [[0.15105502307415009]], [[-0.1676023304462433]], [[-0.313755601644516]], [[0.4941975176334381]], [[0.20958063006401062]], [[0.06095947325229645]], [[-0.7618770003318787]], [[0.3715846538543701]], [[-0.154387429356575]], [[0.3476678431034088]], [[0.4439355134963989]], [[0.499214768409729]], [[0.2762237787246704]], [[0.040112271904945374]], [[1.636584997177124]], [[1.1509684324264526]], [[0.24253608286380768]], [[0.01358252763748169]], [[-0.09384101629257202]], [[0.005421727895736694]], [[1.3314512968063354]], [[0.24606746435165405]], [[-0.0110606849193573]], [[0.12603220343589783]], [[-0.14913609623908997]], [[0.3285931646823883]], [[0.06569916009902954]], [[0.0]], [[-0.5384615063667297]], [[0.4496139883995056]], [[0.27600282430648804]], [[0.6155773401260376]], [[0.4795434772968292]], [[-0.1877831369638443]], [[0.18973195552825928]], [[0.14169594645500183]], [[0.24274754524230957]], [[0.3276071846485138]], [[0.44819337129592896]], [[0.21608281135559082]], [[0.5832297801971436]], [[0.1995343565940857]], [[-0.25064462423324585]], [[0.06786935031414032]], [[0.39367154240608215]], [[-0.27192214131355286]], [[-0.08201679587364197]], [[0.3476923704147339]], [[0.1341395080089569]], [[-0.4673578143119812]], [[0.0]], [[1.7576959133148193]], [[0.533495306968689]], [[-0.029707493260502815]], [[0.8735285997390747]], [[0.42078155279159546]], [[0.66633540391922]], [[1.5342235565185547]], [[0.6747890114784241]], [[0.37585923075675964]], [[0.5324486494064331]], [[-0.7004796266555786]], [[0.1888144165277481]], [[0.20852389931678772]], [[0.9632961750030518]], [[0.6861769556999207]], [[1.2012889385223389]], [[0.6690879464149475]], [[0.39766964316368103]], [[-0.05715817213058472]], [[0.05391150712966919]], [[0.8715382814407349]], [[0.021770060062408447]], [[0.08557027578353882]], [[-0.06370741128921509]], [[0.0]], [[0.47156763076782227]], [[0.1567382514476776]], [[0.043475329875946045]], [[0.46788153052330017]], [[0.038418591022491455]], [[0.16605152189731598]], [[0.2058209627866745]], [[-0.030166424810886383]], [[-0.1504988670349121]], [[-0.3228667378425598]], [[-0.11803865432739258]], [[0.23525986075401306]], [[-0.061452075839042664]], [[1.039477825164795]], [[0.012683048844337463]], [[-0.21686549484729767]], [[0.6839714646339417]], [[-0.12312065809965134]], [[0.08020441234111786]], [[0.1149531677365303]], [[-0.002058379352092743]], [[0.16271860897541046]], [[-0.3948582708835602]], [[-0.19684627652168274]], [[0.37050706148147583]], [[0.1270550638437271]], [[-0.42856964468955994]], [[-0.0805051326751709]], [[-0.20422908663749695]], [[-0.6243659853935242]], [[-0.3073413074016571]], [[0.07186053693294525]], [[-0.4121386408805847]], [[0.0]], [[0.24333061277866364]], [[-0.8613511919975281]], [[0.3585124611854553]], [[-0.1250055432319641]], [[0.004613982513546944]], [[-0.5285415053367615]], [[-0.6235142350196838]], [[0.0]], [[0.03137972950935364]], [[0.4398859739303589]], [[0.455918550491333]], [[0.4484349489212036]], [[0.4627935290336609]], [[0.06527623534202576]], [[0.3141457438468933]], [[-0.07441520690917969]], [[-0.11485004425048828]], [[-0.7940656542778015]], [[-0.032669201493263245]], [[-0.8455739617347717]], [[-0.8967181444168091]], [[-0.07087257504463196]], [[0.4371184706687927]], [[-0.1456546038389206]], [[-0.08491428941488266]], [[0.4524034261703491]], [[-0.299996554851532]], [[-0.789570152759552]], [[0.08658163249492645]], [[-0.4904128611087799]], [[-0.19451600313186646]], [[-0.2781122028827667]], [[-0.4313872456550598]], [[0.1097632646560669]], [[0.4527754783630371]], [[1.0079995393753052]], [[-0.0052962228655815125]], [[-0.5605214834213257]], [[-0.12410368025302887]], [[0.7157443761825562]], [[-0.29207083582878113]], [[-0.1367315649986267]], [[-0.1535588800907135]], [[-0.5490202307701111]], [[0.0]], [[-0.6544442176818848]], [[-0.23817038536071777]], [[0.1364654302597046]], [[-0.5053034424781799]], [[-0.22805841267108917]], [[0.30896663665771484]], [[-0.11590883135795593]], [[0.0]], [[1.160627841949463]], [[0.5503142476081848]], [[-0.0687064602971077]], [[0.5705925822257996]], [[0.41366851329803467]], [[0.622809648513794]], [[0.4876247048377991]], [[0.041233569383621216]], [[0.17494945228099823]], [[0.27624908089637756]], [[-0.7867419719696045]], [[-0.11108479648828506]], [[-0.14775580167770386]], [[0.7955484986305237]], [[0.7039229869842529]], [[0.4954788386821747]], [[0.7176791429519653]], [[0.7468266487121582]], [[0.36155274510383606]], [[0.10846668481826782]], [[0.11584366858005524]], [[0.008518129587173462]], [[0.3733682930469513]], [[0.5699212551116943]], [[0.5258622169494629]], [[0.772480845451355]], [[0.05149620771408081]], [[1.0346218347549438]], [[0.9063643217086792]], [[0.38664087653160095]], [[0.3477841913700104]], [[1.3966835737228394]], [[0.8803575038909912]], [[0.4067564606666565]], [[0.33945420384407043]], [[0.9669075012207031]], [[-0.011256903409957886]], [[0.37287652492523193]], [[0.03961607813835144]], [[-0.14598074555397034]], [[0.0]], [[-0.11315028369426727]], [[-0.16095438599586487]], [[-0.32827508449554443]], [[-0.3177723288536072]], [[-0.9512455463409424]], [[0.0]], [[0.6661834716796875]], [[0.6495625376701355]], [[0.32582443952560425]], [[0.7177636027336121]], [[0.39485669136047363]], [[0.08508199453353882]], [[1.4471371173858643]], [[0.09405964612960815]], [[0.7289509177207947]], [[0.04693002998828888]], [[0.3664105534553528]], [[0.15872186422348022]], [[0.4046335220336914]], [[-0.08939765393733978]], [[-0.49967846274375916]], [[1.0428744554519653]], [[-0.1694851815700531]], [[0.08960267901420593]], [[-0.13837876915931702]], [[0.05577245354652405]], [[-0.11619904637336731]], [[0.03195121884346008]], [[-0.8198024034500122]], [[-0.36422649025917053]], [[0.4591647684574127]], [[-0.07913896441459656]], [[-0.2242041677236557]], [[0.10635357350111008]], [[1.2302145957946777]], [[0.16489551961421967]], [[-0.30069252848625183]], [[-0.69126957654953]], [[0.0]], [[0.04471266269683838]], [[0.32755959033966064]], [[0.4876120090484619]], [[-0.007288336753845215]], [[-0.3532668352127075]], [[-0.31092506647109985]], [[-0.3192247152328491]], [[0.04526600241661072]], [[-0.2550544738769531]], [[-0.32314157485961914]], [[1.0799527168273926]], [[-0.00550992414355278]], [[0.8861234784126282]], [[-0.23808130621910095]], [[0.32466575503349304]], [[0.12332260608673096]], [[0.015354394912719727]], [[-0.00037732720375061035]], [[-0.5360109210014343]], [[-0.7327004671096802]], [[-0.03746971860527992]], [[0.21222926676273346]], [[-0.0017379820346832275]], [[0.12692315876483917]], [[-0.11952679604291916]], [[0.028833255171775818]], [[0.13970869779586792]], [[0.03544434905052185]], [[-0.22939267754554749]], [[0.41272878646850586]], [[0.338360071182251]], [[-0.3527469038963318]], [[0.9614423513412476]], [[0.2907480299472809]], [[0.20956948399543762]], [[0.11132785677909851]], [[-0.8791388273239136]], [[0.0]], [[0.1779436618089676]], [[-0.4475494623184204]], [[-0.13520213961601257]], [[0.2853761613368988]], [[-0.06614774465560913]], [[1.006757140159607]], [[-0.13558556139469147]], [[0.5439278483390808]], [[-0.4162769019603729]], [[-0.16757838428020477]], [[-0.21114397048950195]], [[-0.24908877909183502]], [[0.14571405947208405]], [[0.7713272571563721]], [[1.282352089881897]], [[-0.17172890901565552]], [[-0.606825590133667]], [[-0.25712496042251587]], [[1.3362886905670166]], [[0.6212171316146851]], [[-0.09607116878032684]], [[0.1713474541902542]], [[0.1637658029794693]], [[-0.19762656092643738]], [[-0.1664981245994568]], [[-0.7938188314437866]], [[0.0]], [[-0.6608147621154785]], [[0.0]], [[-0.05799320712685585]], [[-0.15302245318889618]], [[0.29130324721336365]], [[0.19543474912643433]], [[-0.07420528680086136]], [[0.901675820350647]], [[-0.41272521018981934]], [[0.18764454126358032]], [[0.18846485018730164]], [[0.08882693201303482]], [[-0.5649425387382507]], [[-0.5616966485977173]], [[0.0]], [[-0.5974192023277283]], [[0.0]], [[-0.11315015703439713]], [[-0.1609542965888977]], [[-0.3282751142978668]], [[-0.31777223944664]], [[-0.34004563093185425]], [[0.4049977660179138]], [[-0.31442075967788696]], [[0.8860808610916138]], [[-0.9208911061286926]], [[-0.175603449344635]], [[-0.6339786648750305]], [[0.15890510380268097]], [[0.566871166229248]], [[-0.04214803874492645]], [[0.11581000685691833]], [[-0.02868899703025818]], [[-0.9944220781326294]], [[0.0]], [[-1.2972173690795898]], [[-0.5935200452804565]], [[-0.756976842880249]], [[0.0]], [[-0.06375810503959656]], [[0.10418777167797089]], [[-0.08710438013076782]], [[0.11048930883407593]], [[0.1445508897304535]], [[1.1263809204101562]], [[0.09867100417613983]], [[0.24938857555389404]], [[0.010216772556304932]], [[0.6744062304496765]], [[-0.3372112512588501]], [[0.0]], [[-0.31262996792793274]], [[0.27365368604660034]], [[0.6837831139564514]], [[-0.2584291696548462]], [[0.2002394199371338]], [[0.1295129805803299]], [[0.19557586312294006]], [[-0.8434012532234192]], [[0.0]], [[-0.45910799503326416]], [[0.5758599042892456]], [[0.16570331156253815]], [[0.5745242238044739]], [[0.11602111160755157]], [[0.3291538953781128]], [[0.14980804920196533]], [[0.14064759016036987]], [[-0.21646255254745483]], [[1.2118422985076904]], [[-0.10973423719406128]], [[-0.1347631812095642]], [[-0.13311001658439636]], [[0.0036416053771972656]], [[-0.8102648258209229]], [[-0.26008886098861694]], [[0.01660069078207016]], [[-0.3464517891407013]], [[-0.16519996523857117]], [[1.2835361957550049]], [[-0.07079888135194778]], [[-0.6153056621551514]], [[1.0031139850616455]], [[0.17379464209079742]], [[0.11926513910293579]], [[-0.07634413987398148]], [[0.23812684416770935]], [[0.1894560307264328]], [[0.05232249200344086]], [[0.10838602483272552]], [[0.5333555936813354]], [[0.06747499108314514]], [[0.3034293055534363]], [[1.0728951692581177]], [[0.5484641790390015]], [[-0.44797608256340027]], [[0.0]], [[0.38223063945770264]], [[0.2081785500049591]], [[0.4778607487678528]], [[0.5055094957351685]], [[0.5391533374786377]], [[-0.32461971044540405]], [[1.5727474689483643]], [[0.18423491716384888]], [[-0.21904689073562622]], [[-0.2522360682487488]], [[0.43759050965309143]], [[0.8787981271743774]], [[0.06969299912452698]], [[0.2484457790851593]], [[0.05587032437324524]], [[0.13519614934921265]], [[0.8821965456008911]], [[0.04383034259080887]], [[-0.21671995520591736]], [[0.06591953337192535]], [[0.4120962619781494]], [[-0.13341152667999268]], [[0.0662519633769989]], [[0.0349983274936676]], [[-0.7319464683532715]], [[0.027283810079097748]], [[-0.8965859413146973]], [[0.0]], [[-0.5948150753974915]], [[-0.015451949089765549]], [[0.41560128331184387]], [[0.04535946995019913]], [[0.3976423144340515]], [[0.3443436920642853]], [[0.2303028404712677]], [[0.3749541640281677]], [[0.05363166332244873]], [[-0.10203158855438232]], [[-1.2533457279205322]], [[0.0]], [[0.11805015057325363]], [[-0.3014725148677826]], [[-0.09759718179702759]], [[0.277713805437088]], [[-0.05740071088075638]], [[-0.3203030228614807]], [[-0.849483847618103]], [[-0.15776118636131287]], [[-0.055748164653778076]], [[-0.32782483100891113]], [[0.3884856700897217]], [[-0.10456743836402893]], [[-0.01599818468093872]], [[-0.15355262160301208]], [[-0.055828213691711426]], [[-0.6299903988838196]], [[0.06592409312725067]], [[0.0897030234336853]], [[-0.05809292197227478]], [[-0.01605740189552307]], [[0.37852245569229126]], [[0.5873533487319946]], [[-0.05233383923768997]], [[0.0279255211353302]], [[-0.09397786855697632]], [[-1.0655328035354614]], [[0.0]], [[0.10044369101524353]], [[0.44170117378234863]], [[-1.154435157775879]], [[0.0]], [[-0.0578022226691246]], [[0.45360857248306274]], [[-0.345947265625]], [[-0.11546547710895538]], [[0.5400956273078918]], [[-0.9278996586799622]], [[0.0]], [[-0.11315015703439713]], [[-0.1609542965888977]], [[-0.3282751142978668]], [[-0.31777223944664]], [[-0.7060416340827942]], [[-0.66359943151474]], [[-0.5789345502853394]], [[-0.2313680350780487]], [[0.3349880874156952]], [[0.11961890012025833]], [[-0.2596210837364197]], [[0.25271403789520264]], [[0.34325385093688965]], [[0.06095685064792633]], [[0.0905543863773346]], [[-0.09098096191883087]], [[0.006193608045578003]], [[-0.009373396635055542]], [[-0.08859403431415558]], [[0.06293163448572159]], [[-0.18937838077545166]], [[-0.3872123956680298]], [[-0.06106428802013397]], [[0.23349294066429138]], [[0.4743523597717285]], [[-0.3995959460735321]], [[0.054317839443683624]], [[0.1183498278260231]], [[0.046073392033576965]], [[-1.0957119464874268]], [[0.0]], [[-0.1294383406639099]], [[-0.9234673976898193]], [[-0.29208123683929443]], [[0.3168879449367523]], [[-0.2587331533432007]], [[-0.3450998067855835]], [[-0.9210726022720337]], [[-0.28276610374450684]], [[-0.39471161365509033]], [[-0.28002044558525085]], [[0.6951402425765991]], [[-0.12371709942817688]], [[-0.18290072679519653]], [[-0.31371670961380005]], [[-1.5445067882537842]], [[0.0]], [[-0.05799331143498421]], [[0.6781444549560547]], [[0.7785986661911011]], [[0.25657129287719727]], [[0.4497023820877075]], [[0.9823766350746155]], [[0.7348352670669556]], [[1.396528959274292]], [[0.23899856209754944]], [[0.3550182282924652]], [[0.07025328278541565]], [[0.5018707513809204]], [[0.1469639539718628]], [[-0.5715603232383728]], [[-0.30618810653686523]], [[-0.5830767750740051]], [[1.2303407192230225]], [[0.05865061283111572]], [[0.276338130235672]], [[-0.4978942275047302]], [[0.2924671769142151]], [[0.6575446128845215]], [[1.3114246129989624]], [[0.6522818803787231]], [[1.3427261114120483]], [[-0.036783367395401]], [[0.16763924062252045]], [[-0.0647074282169342]], [[0.24765098094940186]], [[0.0715661346912384]], [[1.3907562494277954]], [[0.5233153700828552]], [[0.4730234742164612]], [[-0.06890977919101715]], [[0.4564324617385864]], [[-0.09543327242136002]], [[-0.5562340617179871]], [[0.16195493936538696]], [[0.07056714594364166]], [[-1.0923627614974976]], [[0.0]], [[0.25627121329307556]], [[-0.49386993050575256]], [[0.2848663330078125]], [[-0.007170096039772034]], [[-0.18811485171318054]], [[-0.03743857145309448]], [[-0.21695172786712646]], [[-0.13751699030399323]], [[-0.24432417750358582]], [[-0.0743979811668396]], [[-0.09197324514389038]], [[-0.20359088480472565]], [[-0.20967617630958557]], [[-0.20180222392082214]], [[-0.10865962505340576]], [[0.038191020488739014]], [[-0.13346780836582184]], [[-0.4286231994628906]], [[-0.12789113819599152]], [[-0.6821844577789307]], [[0.38605985045433044]], [[0.18558189272880554]], [[-0.9590399861335754]], [[0.0]], [[-1.4740253686904907]], [[0.0]], [[0.2720594108104706]], [[-0.2540561854839325]], [[0.04090547561645508]], [[-0.07545825839042664]], [[0.14223237335681915]], [[0.5963332653045654]], [[-0.3539067804813385]], [[-0.01672167330980301]], [[-0.2417946755886078]], [[1.041564702987671]], [[-0.12693239748477936]], [[0.16261295974254608]], [[-0.19277504086494446]], [[0.2115548849105835]], [[0.30392420291900635]], [[-1.0354472398757935]], [[0.0]], [[1.9040393829345703]], [[1.9951273202896118]], [[2.1335010528564453]], [[0.844784140586853]], [[0.4475041329860687]], [[0.43548616766929626]], [[0.6192337274551392]], [[0.37881776690483093]], [[0.7888859510421753]], [[-0.3350163698196411]], [[-0.2302011251449585]], [[0.10426324605941772]], [[0.0065965354442596436]], [[-0.28070393204689026]], [[0.5978317856788635]], [[0.25349292159080505]], [[0.14860743284225464]], [[-0.1737523227930069]], [[-0.19568751752376556]], [[-0.16469953954219818]], [[0.2592897415161133]], [[-1.3599356412887573]], [[0.0]]], \"firstDimensionName\": \"Layer\", \"secondDimensionName\": \"Neuron\"}\n",
       "    )\n",
       "    </script>"
      ],
      "text/plain": [
       "<circuitsvis.utils.render.RenderedHTML at 0x7f493ef1fa10>"
      ]
     },
     "execution_count": 25,
     "metadata": {},
     "output_type": "execute_result"
    }
   ],
   "source": [
    "import interp_utils\n",
    "import importlib\n",
    "importlib.reload(interp_utils)\n",
    "\n",
    "feature = 69\n",
    "layer = 0\n",
    "\n",
    "text_list, full_text, token_list, full_token_list, indices = get_feature_datapoints_with_idx(feature, model_activations[layer], model.tokenizer, token_amount, dataset, setting=\"uniform\", k=100)\n",
    "interp_utils.visualize_text(text_list, feature, model, None, layer=layer, setting=\"model\")"
   ]
  },
  {
   "cell_type": "markdown",
   "metadata": {},
   "source": [
    "## Looking at constructive interference"
   ]
  },
  {
   "cell_type": "code",
   "execution_count": 11,
   "metadata": {},
   "outputs": [],
   "source": [
    "k = 5_000\n",
    "neuron_index = 69"
   ]
  },
  {
   "cell_type": "code",
   "execution_count": 12,
   "metadata": {},
   "outputs": [
    {
     "name": "stdout",
     "output_type": "stream",
     "text": [
      "(9909,)\n",
      "[11, 64, 91, 157, 508]\n"
     ]
    },
    {
     "data": {
      "text/plain": [
       "(508, None)"
      ]
     },
     "execution_count": 12,
     "metadata": {},
     "output_type": "execute_result"
    }
   ],
   "source": [
    "\n",
    "def get_relevant_other_neurons(neuron_index: int, layer=0, k=100, weight_cutoff=1.2): # TODO: check weight cutoff vis a vis using quantified models\n",
    "\t# Get the input data-points that most activate the neuron\n",
    "\tbest_feature_activations = model_activations[layer][:, :, neuron_index]\n",
    "\tsummed_along_sentence = best_feature_activations.sum(axis=1)\n",
    "\tprint(summed_along_sentence.shape)\n",
    "\t# Find the input data-points that most activate the neuron\n",
    "\tfound_indices = np.argsort(summed_along_sentence)[::-1][:k]\n",
    "\n",
    "\tdef get_activated_neurons(layer: int):\n",
    "\t\tneurons = set()\n",
    "\t\tfor i in found_indices:\n",
    "\t\t\tcutoff_n = model_activations[layer][i, :, :] > weight_cutoff\n",
    "\t\t\t_pos_nonzero, neuron_nonzero = np.nonzero(cutoff_n)\n",
    "\t\t\t# print(\"LEN\", neuron_nonzero.shape)\n",
    "\t\t\tneurons.update(neuron_nonzero)\n",
    "\t\treturn list(neurons)\n",
    "\t\n",
    "\tother_layer_neurons = []\n",
    "\tfor i in range(n_layers):\n",
    "\t\tif i != layer:\n",
    "\t\t\tother_layer_neurons.append((i, get_activated_neurons(i)))\n",
    "\treturn other_layer_neurons\n",
    "\n",
    "other_neurons = get_relevant_other_neurons(neuron_index, layer=0, k=k, weight_cutoff=2)\n",
    "len(other_neurons[4][1]), print([len(i[1]) for i in other_neurons])"
   ]
  },
  {
   "cell_type": "code",
   "execution_count": 13,
   "metadata": {},
   "outputs": [
    {
     "name": "stdout",
     "output_type": "stream",
     "text": [
      "(5000, 75)\n",
      "(5000,)\n"
     ]
    },
    {
     "data": {
      "text/plain": [
       "(None, None)"
      ]
     },
     "execution_count": 13,
     "metadata": {},
     "output_type": "execute_result"
    }
   ],
   "source": [
    "go_to_n_layers = 2\n",
    "\n",
    "def get_auxiliary_data(neuron_index: int, layer: int):\n",
    "\t# TODO: this should be a different function!! (UTILS)\n",
    "\t# Get the input data-points that most activate the neuron\n",
    "\tbest_feature_activations = model_activations[layer][:, :, neuron_index]\n",
    "\tsummed_along_sentence = best_feature_activations.sum(axis=1)\n",
    "\t# Find the input data-points that most activate the neuron\n",
    "\tfound_indices = np.argsort(summed_along_sentence)[::-1][:k]\n",
    "\ttotal_other_neurons = 0\n",
    "\tfor other_neur in other_neurons:\n",
    "\t\tother_layer, neurons = other_neur\n",
    "\t\tif other_layer <= go_to_n_layers:\n",
    "\t\t\ttotal_other_neurons += len(neurons)\n",
    "\t# sum([len(i[1]) for i in other_neurons])\n",
    "\n",
    "\tconcatenated = np.zeros((len(found_indices), total_other_neurons))\n",
    "\n",
    "\tcounter = 0\n",
    "\tfor other_neur in other_neurons:\n",
    "\t\tother_layer, neurons = other_neur\n",
    "\t\tif other_layer <= go_to_n_layers:\n",
    "\t\t\tr = model_activations[other_layer][:, :, neurons][found_indices].sum(axis=1) # Sum over the entire sentence/ text input\n",
    "\t\t\tconcatenated[:, counter:counter+len(neurons)] = r\n",
    "\t\t\tcounter += len(neurons)\n",
    "\t\t\n",
    "\treturn concatenated, found_indices\n",
    "\n",
    "\n",
    "aux_data, datapoints_used = get_auxiliary_data(neuron_index, layer=0)\n",
    "# TODO: CONSIDER ONLY USING THE CLOSER LAYERS...\n",
    "print(aux_data.shape), print(datapoints_used.shape)"
   ]
  },
  {
   "cell_type": "code",
   "execution_count": 14,
   "metadata": {},
   "outputs": [],
   "source": [
    "def run_gaussian_mixture_model():\n",
    "\t# TODO:\n",
    "\tpass"
   ]
  },
  {
   "cell_type": "code",
   "execution_count": 28,
   "metadata": {},
   "outputs": [
    {
     "name": "stdout",
     "output_type": "stream",
     "text": [
      "Done with iteration 0\n",
      "Done with iteration 1\n",
      "Done with iteration 2\n",
      "Done with iteration 3\n",
      "Done with iteration 4\n",
      "Done with iteration 5\n",
      "Done with iteration 6\n",
      "Done with iteration 7\n",
      "Done with iteration 8\n",
      "Done with iteration 9\n",
      "Done with iteration 10\n",
      "Done with iteration 11\n",
      "Done with iteration 12\n",
      "Done with iteration 13\n",
      "Done with iteration 14\n",
      "Done with iteration 15\n",
      "Done with iteration 16\n",
      "Done with iteration 17\n",
      "Done with iteration 18\n",
      "Done with iteration 19\n",
      "Done with iteration 20\n",
      "Done with iteration 21\n",
      "Done with iteration 22\n",
      "Done with iteration 23\n",
      "Done with iteration 24\n",
      "Done with iteration 25\n",
      "Done with iteration 26\n",
      "Done with iteration 27\n",
      "Done with iteration 28\n",
      "Done with iteration 29\n",
      "Done with iteration 30\n",
      "Done with iteration 31\n",
      "Done with iteration 32\n",
      "Done with iteration 33\n",
      "Done with iteration 34\n",
      "Done with iteration 35\n",
      "Done with iteration 36\n",
      "Done with iteration 37\n",
      "Done with iteration 38\n",
      "Done with iteration 39\n",
      "Done with iteration 40\n",
      "Done with iteration 41\n",
      "Done with iteration 42\n",
      "Done with iteration 43\n",
      "Done with iteration 44\n",
      "Done with iteration 45\n",
      "Done with iteration 46\n",
      "Done with iteration 47\n",
      "Done with iteration 48\n",
      "Done with iteration 49\n",
      "Done with iteration 50\n",
      "Done with iteration 51\n",
      "Done with iteration 52\n",
      "Done with iteration 53\n",
      "Done with iteration 54\n"
     ]
    }
   ],
   "source": [
    "import numpy as np\n",
    "from sklearn.preprocessing import normalize\n",
    "from sklearn.decomposition import PCA\n",
    "from sklearn.decomposition import IncrementalPCA\n",
    "\n",
    "# Cosine similarity function\n",
    "def cosine_similarity(a, b):\n",
    "    return np.dot(a, b) / (np.linalg.norm(a) * np.linalg.norm(b))\n",
    "\n",
    "# KMeans with cosine similarity\n",
    "def kmeans_cosine(X, n_clusters:int, iterations=100):\n",
    "    k = n_clusters\n",
    "    # Normalize input data\n",
    "    X_normalized = normalize(X, axis=1)\n",
    "\n",
    "    # Randomly initialize centroids\n",
    "    n_samples, n_features = X_normalized.shape\n",
    "    centroids = X_normalized[np.random.choice(n_samples, k, replace=False)]\n",
    "\n",
    "    for iter in range(iterations):\n",
    "        # Cluster assignment step\n",
    "        clusters = [[] for _ in range(k)]\n",
    "        for idx, x in enumerate(X_normalized):\n",
    "            similarities = [cosine_similarity(x, centroid) for centroid in centroids]\n",
    "            # similarities = [np.dot(x, centroid) for centroid in centroids]\n",
    "            closest = np.argmax(similarities)\n",
    "            clusters[closest].append(idx)\n",
    "\n",
    "        # Update centroids\n",
    "        # TODO: we maybe able to just **not use** PCA at all here.... slow it may be\n",
    "        new_centroids = []\n",
    "        for cluster in clusters:\n",
    "            if cluster:  # Check if cluster is not empty\n",
    "                new_centroid = np.mean(X_normalized[cluster], axis=0)\n",
    "                new_centroids.append(new_centroid)\n",
    "            else:\n",
    "                new_centroids.append(np.random.rand(n_features))  # Reinitialize empty clusters\n",
    "\n",
    "        new_centroids = np.array(new_centroids)\n",
    "        if np.allclose(centroids, new_centroids):\n",
    "            break\n",
    "        centroids = new_centroids\n",
    "        print(\"Done with iteration\", iter)\n",
    "\n",
    "    return centroids, clusters\n",
    "\n",
    "# TODO: no function. Just on global so we can stop middway etc etc\n",
    "# TODO: can we speed this up??? Maybe we use PCA\n",
    "_, cluster_by_idx = kmeans_cosine(aux_data, iterations=400, n_clusters=30)"
   ]
  },
  {
   "cell_type": "code",
   "execution_count": 29,
   "metadata": {},
   "outputs": [
    {
     "name": "stdout",
     "output_type": "stream",
     "text": [
      "[240, 45, 131, 111, 113, 274, 314, 163, 62, 195, 108, 229, 103, 358, 138, 138, 172, 202, 134, 95, 103, 43, 216, 219, 305, 190, 210, 81, 52, 256]\n"
     ]
    }
   ],
   "source": [
    "# TODO: GMMs\n",
    "print([len(c) for c in cluster_by_idx])"
   ]
  },
  {
   "cell_type": "code",
   "execution_count": 30,
   "metadata": {},
   "outputs": [
    {
     "data": {
      "text/plain": [
       "(1325, 9909)"
      ]
     },
     "execution_count": 30,
     "metadata": {},
     "output_type": "execute_result"
    }
   ],
   "source": [
    "datapoints_used[4], len(dataset)"
   ]
  },
  {
   "cell_type": "code",
   "execution_count": 33,
   "metadata": {},
   "outputs": [
    {
     "name": "stdout",
     "output_type": "stream",
     "text": [
      "# -*- coding: utf-8 -*-\n",
      "#\n",
      "#   pyhwp : hwp file format parser in python\n",
      "#   Copyright (C) 2010-2015 m\n",
      "(103, 40, 512)\n"
     ]
    },
    {
     "data": {
      "text/html": [
       "<div id=\"circuits-vis-9166a396-1ca0\" style=\"margin: 15px 0;\"/>\n",
       "    <script crossorigin type=\"module\">\n",
       "    import { render, TextNeuronActivations } from \"https://unpkg.com/circuitsvis@1.41.0/dist/cdn/esm.js\";\n",
       "    render(\n",
       "      \"circuits-vis-9166a396-1ca0\",\n",
       "      TextNeuronActivations,\n",
       "      {\"tokens\": [\"//\", \"\\\\newline\", \"//\", \"  \", \"Application\", \"Test\", \"Log\", \"Files\", \"Listener\", \"Spec\", \".\", \"swift\", \"\\\\newline\", \"//\", \"  \", \"F\", \"BS\", \"nap\", \"shots\", \"View\", \"er\", \"\\\\newline\", \"//\", \"\\\\newline\", \"//\", \"  \", \"Created\", \" by\", \" Anton\", \" Dom\", \"ash\", \"ne\", \"v\", \" on\", \"\\n\", \"#\", \" Copyright\", \" Cont\", \"ributors\", \" to\", \"\\n\", \"#\", \" -*-\", \" coding\", \":\", \" utf\", \"-\", \"8\", \" -*-\", \"\\\\newline\", \"\\\\newline\", \"from\", \"...\", \" import\", \" Or\", \"ator\", \"TestCase\", \"\\\\newline\", \"from\", \" or\", \"ator\", \" import\", \" Model\", \" as\", \" Base\", \"Model\", \"\\\\newline\", \"from\", \" or\", \"ator\", \".\", \"orm\", \" import\", \" (\", \"\\\\newline\", \"    \", \"m\", \"orph\", \"_\", \"to\", \"\\n\", \"#\", \" -*-\", \" coding\", \":\", \" utf\", \"-\", \"8\", \" -*-\", \"\\\\newline\", \"#\", \"\\\\newline\", \"#\", \"   \", \"py\", \"hw\", \"p\", \" :\", \" h\", \"wp\", \" file\", \" format\", \" parser\", \" in\", \"\\n\", \"import\", \" fs\", \" from\", \" '\", \"fs\", \"';\", \"\\\\newline\", \"import\", \" pupp\", \"ete\", \"er\", \" from\", \"\\n\", \"#\", \" -*-\", \" coding\", \":\", \" utf\", \"-\", \"8\", \"\\n\", \"#\", \"include\", \" \\\"\", \"l\", \"ino\", \"_\", \"base\", \".\", \"h\", \"\\\"\", \"\\\\newline\", \"\\\\newline\", \"int\", \" main\", \"(\", \"int\", \" argc\", \",\", \" char\", \"**\", \" argv\", \" )\", \"\\\\newline\", \"{\", \"\\\\newline\", \"    \", \"ros\", \"::\", \"\\n\", \"#\", \"include\", \" <\", \"bits\", \"/\", \"std\", \"c\", \"++\", \".\", \"h\", \">\", \"\\\\newline\", \"using\", \"\\n\", \"#\", \"\\n\", \"//\", \" Copyright\", \" 1996\", \" Michael\", \" E\", \".\", \" Still\", \"man\", \"\\\\newline\", \"\\\\newline\", \"#\", \"ifndef\", \" _\", \"h\", \"il\", \"b\", \"_\", \"hh\", \"_\", \"\\\\newline\", \"#\", \"define\", \" _\", \"h\", \"il\", \"b\", \"_\", \"hh\", \"_\", \"\\\\newline\", \"\\\\newline\", \"//\", \" Com\", \"putation\", \" of\", \"\\n\", \"<?\", \"php\", \"\\\\newline\", \"\\\\newline\", \"namespace\", \" Gu\", \"zzle\", \"\\\\\", \"Plugin\", \"\\\\\", \"Cache\", \";\", \"\\\\newline\", \"\\\\newline\", \"use\", \" Gu\", \"zzle\", \"\\n\", \"using\", \" Coy\", \"pu\", \".\", \"Actions\", \";\", \"\\r\\\\newline\\r\", \"\\\\newline\", \"namespace\", \" Coy\", \"pu\", \".\", \"Tests\", \".\", \"When\", \"_\", \"making\", \"_\", \"browser\", \"_\", \"inter\", \"actions\", \"_\", \"rob\", \"ust\", \"\\r\", \"\\\\newline\", \"{\", \"\\r\\\\newline\", \"    \", \"public\", \" class\", \" Count\", \"T\", \"ries\", \"Action\", \" :\", \"\\n\", \"package\", \" m\", \"st\", \"\\n\", \"/**\", \" Autom\", \"atically\", \" generated\", \" file\", \".\", \" DO\", \" NOT\", \" MOD\", \"IFY\", \" */\", \"\\\\newline\", \"\\n\", \"<?\", \"php\", \"\\\\newline\", \"\\\\newline\", \"namespace\", \" Gu\", \"zzle\", \"\\\\\", \"Plugin\", \"\\\\\", \"Cache\", \";\", \"\\\\newline\", \"\\\\newline\", \"use\", \" Gu\", \"zzle\", \"\\\\\", \"Common\", \"\\\\\", \"Exception\", \"\\\\\", \"Invalid\", \"ArgumentException\", \";\", \"\\\\newline\", \"use\", \" Gu\", \"zzle\", \"\\\\\", \"Http\", \"\\\\\", \"\\n\", \"<?\", \"php\", \"\\\\newline\", \"/**\", \"\\\\newline\", \" *\", \" PHP\", \"\\u8868\", \"\\u5355\", \"\\u751f\", \"\\u6210\", \"\\u5668\", \"\\\\newline\", \" *\", \"\\\\newline\", \" *\", \" @\", \"package\", \"  \", \"Form\", \"Builder\", \"\\\\newline\", \" *\", \" @\", \"author\", \"   \", \"x\", \"ab\", \"\\n\", \"import\", \" it\", \"ert\", \"ools\", \"\\\\newline\", \"\\\\newline\", \"from\", \"..\", \"lang\", \" import\", \" sig\", \"\\\\newline\", \"from\", \"..\", \"lang\", \" import\", \" H\", \"\\\\newline\", \"from\", \"..\", \"lang\", \" import\", \" t\", \"\\\\newline\", \"from\", \"..\", \"lang\", \" import\", \"\\n\", \"\\ufeff\", \"using\", \" System\", \".\", \"Collections\", \".\", \"Generic\", \";\", \"\\\\newline\", \"\\\\newline\", \"namespace\", \" S\", \"odium\", \".\", \"Fr\", \"p\", \"\\\\newline\", \"{\", \"\\\\newline\", \"    \", \"internal\", \" static\", \" class\", \" Oper\", \"ational\", \"\\n\", \"import\", \" '\", \"package\", \":\", \"fl\", \"utter\", \"/\", \"material\", \".\", \"d\", \"art\", \"';\", \"\\\\newline\", \"import\", \" '\", \"package\", \":\", \"fl\", \"utter\", \"_\", \"wordpress\", \"/\", \"fl\", \"\\n\", \"import\", \" copy\", \"\\\\newline\", \"import\", \" logging\", \"\\\\newline\", \"import\", \" warnings\", \"\\\\newline\", \"\\\\newline\", \"from\", \" ru\", \"amel\", \".\", \"yaml\", \" import\", \" Y\", \"AML\", \"\\\\newline\", \"\\\\newline\", \"from\", \" great\", \"_\", \"expect\", \"ations\", \"\\n\", \"#\", \"include\", \"\\n\", \"#\", \"include\", \" \\\"\", \"st\", \"da\", \"fx\", \".\", \"h\", \"\\\"\", \"\\\\newline\", \"#\", \"ifdef\", \" DEBUG\", \"\\\\newline\", \"#\", \"include\", \" \\\"\", \"phys\", \"ics\", \".\", \"h\", \"\\\"\", \"\\\\newline\", \"#\", \"include\", \" \\\"\", \"Math\", \"\\n\", \"import\", \" *\", \" as\", \" types\", \"\\n\", \"#\", \" -*-\", \" coding\", \":\", \" utf\", \"-\", \"8\", \" -*-\", \"\\\\newline\", \"\\\\newline\", \"from\", \"...\", \" import\", \" Or\", \"ator\", \"TestCase\", \"\\\\newline\", \"from\", \" or\", \"\\n\", \"/*\", \"\\\\newline\", \"\\t\", \"This\", \" file\", \" is\", \" part\", \" of\", \" lib\", \"sw\", \"irl\", \"\\n\", \"\\ufeff\", \"using\", \" System\", \".\", \"Collections\", \".\", \"Generic\", \";\", \"\\\\newline\", \"\\\\newline\", \"namespace\", \" S\", \"odium\", \".\", \"Fr\", \"\\n\", \"package\", \" im\", \"ap\", \"\\\\newline\", \"\\\\newline\", \"import\", \" (\", \"\\\\newline\", \"\\t\", \"\\\"\", \"bytes\", \"\\\"\", \"\\\\newline\", \"\\t\", \"\\\"\", \"errors\", \"\\n\", \"import\", \" copy\", \"\\\\newline\", \"import\", \" logging\", \"\\\\newline\", \"import\", \" warnings\", \"\\\\newline\", \"\\\\newline\", \"from\", \" ru\", \"amel\", \".\", \"yaml\", \" import\", \" Y\", \"AML\", \"\\\\newline\", \"\\\\newline\", \"from\", \" great\", \"\\n\", \"using\", \" Coy\", \"pu\", \".\", \"Actions\", \";\", \"\\r\\\\newline\\r\", \"\\\\newline\", \"namespace\", \" Coy\", \"pu\", \".\", \"Tests\", \".\", \"When\", \"_\", \"making\", \"_\", \"browser\", \"_\", \"inter\", \"actions\", \"_\", \"rob\", \"ust\", \"\\r\", \"\\\\newline\", \"{\", \"\\r\\\\newline\", \"    \", \"public\", \" class\", \" Count\", \"T\", \"ries\", \"Action\", \" :\", \" Browser\", \"Action\", \"\\n\", \"//\", \"\\\\newline\", \"//\", \"  \", \"Application\", \"Test\", \"Log\", \"Files\", \"Listener\", \"Spec\", \".\", \"swift\", \"\\\\newline\", \"//\", \"  \", \"F\", \"BS\", \"nap\", \"shots\", \"View\", \"\\n\"], \"activations\": [[[0.11805025488138199]], [[-0.30147242546081543]], [[-0.09759743511676788]], [[-0.2324381023645401]], [[-0.5287067890167236]], [[-0.08715105801820755]], [[-0.21993157267570496]], [[-0.17129644751548767]], [[0.15481266379356384]], [[-0.1154201403260231]], [[-0.2453208565711975]], [[-0.22156435251235962]], [[-0.025264620780944824]], [[-0.00438256561756134]], [[-0.1942777782678604]], [[-0.27185219526290894]], [[0.1419781595468521]], [[-0.16734038293361664]], [[-0.0003860294818878174]], [[-0.6531932353973389]], [[0.36752820014953613]], [[0.0896959900856018]], [[0.13727548718452454]], [[-0.010646820068359375]], [[0.036083802580833435]], [[-0.2071126252412796]], [[-0.1378997266292572]], [[0.7186751961708069]], [[-0.11306013911962509]], [[0.17810577154159546]], [[0.2962947189807892]], [[0.3531183898448944]], [[-0.14218533039093018]], [[1.2958253622055054]], [[0.0]], [[0.48325157165527344]], [[-0.4467289447784424]], [[0.18726173043251038]], [[0.03941228985786438]], [[1.5176541805267334]], [[0.0]], [[0.483251690864563]], [[-0.23988090455532074]], [[-0.24831713736057281]], [[0.2530277967453003]], [[-0.20747017860412598]], [[0.09504260867834091]], [[0.976498544216156]], [[-0.06622332334518433]], [[0.014113664627075195]], [[-0.07739442586898804]], [[0.35826602578163147]], [[-0.11757369339466095]], [[-0.2064206898212433]], [[-0.7299773693084717]], [[0.13549567759037018]], [[-0.10876315087080002]], [[0.04679840803146362]], [[0.4438264071941376]], [[-0.37101221084594727]], [[0.3288571834564209]], [[0.019289862364530563]], [[-0.479078084230423]], [[0.5813625454902649]], [[-0.24464420974254608]], [[-0.5012040138244629]], [[0.004513680934906006]], [[0.4491446912288666]], [[-0.34570157527923584]], [[0.35645508766174316]], [[-0.15369412302970886]], [[-0.027183085680007935]], [[-0.027998708188533783]], [[0.16972045600414276]], [[0.12777817249298096]], [[0.04493507742881775]], [[-0.18903817236423492]], [[0.17327652871608734]], [[0.3051392436027527]], [[1.039259433746338]], [[0.0]], [[0.4832516312599182]], [[-0.23988096415996552]], [[-0.2483171969652176]], [[0.25302746891975403]], [[-0.20747004449367523]], [[0.09504237025976181]], [[0.9764987230300903]], [[-0.06622327864170074]], [[0.014113694429397583]], [[0.5447125434875488]], [[-0.09225526452064514]], [[0.4440348148345947]], [[-0.1577194631099701]], [[-0.06379726529121399]], [[-0.3482171297073364]], [[0.500390887260437]], [[0.21455195546150208]], [[-0.11583433300256729]], [[0.46383342146873474]], [[-0.1621357649564743]], [[0.07683493942022324]], [[0.33057355880737305]], [[0.9878931641578674]], [[0.0]], [[-0.08035370707511902]], [[-0.4494270384311676]], [[0.656895101070404]], [[0.3838390111923218]], [[-0.24480615556240082]], [[0.04793321341276169]], [[-0.2274532914161682]], [[-0.4234599471092224]], [[-0.39211970567703247]], [[0.03299245238304138]], [[0.31634899973869324]], [[0.6578497290611267]], [[0.0]], [[0.48325157165527344]], [[-0.23988096415996552]], [[-0.24831686913967133]], [[0.25302764773368835]], [[-0.20747020840644836]], [[0.09504225105047226]], [[0.9764979481697083]], [[0.0]], [[0.4832516312599182]], [[-0.30536949634552]], [[0.01978759467601776]], [[-0.09768006950616837]], [[0.55553138256073]], [[0.5496848821640015]], [[-0.13014447689056396]], [[-0.2802865505218506]], [[0.028163358569145203]], [[-0.03353540599346161]], [[0.00945553183555603]], [[-0.07031002640724182]], [[-0.6019951701164246]], [[-0.2866488993167877]], [[0.11561065912246704]], [[-0.34098535776138306]], [[0.4228666424751282]], [[-0.2105538547039032]], [[0.03302083909511566]], [[0.1859373152256012]], [[0.2158595621585846]], [[0.29929161071777344]], [[0.13000249862670898]], [[-0.11854507029056549]], [[-0.09892341494560242]], [[-0.2854200601577759]], [[-0.19889120757579803]], [[0.43869125843048096]], [[0.0]], [[0.48325151205062866]], [[-0.30536949634552]], [[0.28741809725761414]], [[-0.5937709212303162]], [[0.058856576681137085]], [[-0.020049868151545525]], [[0.090177983045578]], [[0.1811811476945877]], [[-0.42663997411727905]], [[-0.11844608187675476]], [[0.14347852766513824]], [[-0.16722548007965088]], [[0.2792033553123474]], [[0.0]], [[0.48325151205062866]], [[0.0]], [[0.11805025488138199]], [[-0.5383676290512085]], [[0.13602513074874878]], [[0.22271165251731873]], [[0.2912563681602478]], [[-0.07984767109155655]], [[-0.41063615679740906]], [[0.14331427216529846]], [[0.20466071367263794]], [[0.0781511664390564]], [[0.38366758823394775]], [[-0.3755887746810913]], [[0.08721223473548889]], [[-0.0904160663485527]], [[-0.12391232699155807]], [[0.27579429745674133]], [[0.37650591135025024]], [[-0.7733224630355835]], [[0.3006289303302765]], [[-0.011779427528381348]], [[0.498974084854126]], [[-0.41552478075027466]], [[0.11188679933547974]], [[-0.08850129693746567]], [[-0.16144263744354248]], [[0.28370487689971924]], [[0.3385186791419983]], [[-0.8514143228530884]], [[0.24861866235733032]], [[0.006053447723388672]], [[-0.029870271682739258]], [[-0.08663864433765411]], [[-0.25433292984962463]], [[-0.12579670548439026]], [[0.6594004034996033]], [[0.0]], [[-0.2642902135848999]], [[-0.06768005341291428]], [[-0.01989474892616272]], [[-0.1194780170917511]], [[-0.1262647956609726]], [[-0.3042232394218445]], [[0.20891830325126648]], [[0.12115716934204102]], [[-0.3551143407821655]], [[0.019391119480133057]], [[-0.257754385471344]], [[-0.2891702651977539]], [[-0.20407643914222717]], [[-0.13691750168800354]], [[-0.05898004770278931]], [[-0.3391802906990051]], [[0.196480393409729]], [[0.0]], [[0.47852301597595215]], [[-0.02582445740699768]], [[0.6296842098236084]], [[-0.2966489791870117]], [[-0.5809087753295898]], [[-0.03943714499473572]], [[0.04613444209098816]], [[-0.1399761438369751]], [[-0.29975903034210205]], [[-0.15269146859645844]], [[0.21829354763031006]], [[-0.18212810158729553]], [[-0.4038279056549072]], [[-0.17063173651695251]], [[-0.8076174855232239]], [[0.13714265823364258]], [[0.03091992437839508]], [[0.30876651406288147]], [[-0.07887584716081619]], [[0.23102343082427979]], [[-0.29776209592819214]], [[-0.2486962378025055]], [[0.37744635343551636]], [[-0.1956249475479126]], [[0.37756288051605225]], [[-0.08742684125900269]], [[0.06040799617767334]], [[-0.12222594022750854]], [[-0.10003803670406342]], [[-0.21482986211776733]], [[-0.13337384164333344]], [[-0.09495032578706741]], [[-0.4835423231124878]], [[0.037943191826343536]], [[0.19037841260433197]], [[-0.7987988591194153]], [[0.3148556351661682]], [[0.0]], [[-0.3194476366043091]], [[-0.37497562170028687]], [[0.304995596408844]], [[0.0]], [[0.45188993215560913]], [[-0.463940292596817]], [[0.3267483413219452]], [[0.6663355231285095]], [[0.1644362360239029]], [[-0.16604600846767426]], [[0.10096091032028198]], [[0.15488529205322266]], [[-0.14679132401943207]], [[0.45928066968917847]], [[0.09592551738023758]], [[0.0066863298416137695]], [[0.0]], [[-0.2642902135848999]], [[-0.06768005341291428]], [[-0.01989474892616272]], [[-0.1194780170917511]], [[-0.1262647956609726]], [[-0.3042232394218445]], [[0.20891830325126648]], [[0.12115716934204102]], [[-0.3551143407821655]], [[0.019391119480133057]], [[-0.257754385471344]], [[-0.2891702651977539]], [[-0.20407643914222717]], [[-0.13691750168800354]], [[-0.05898004770278931]], [[-0.3391802906990051]], [[0.196480393409729]], [[0.12359213829040527]], [[-0.8383384346961975]], [[0.03394895792007446]], [[-0.5279735326766968]], [[0.11606252193450928]], [[-0.7086423635482788]], [[-0.6059842109680176]], [[-0.2626829743385315]], [[-0.12581148743629456]], [[-0.030406296253204346]], [[-0.2987321615219116]], [[0.24556311964988708]], [[0.15900826454162598]], [[-0.4801446497440338]], [[0.07891598343849182]], [[0.0]], [[-0.2642902135848999]], [[-0.06768005341291428]], [[-0.01989474892616272]], [[0.11118229478597641]], [[0.11259225010871887]], [[0.2765170931816101]], [[-0.07707209885120392]], [[-0.0637308657169342]], [[-0.5299809575080872]], [[0.266508013010025]], [[0.4136182367801666]], [[0.1733005940914154]], [[0.29229187965393066]], [[0.135284885764122]], [[0.10101631283760071]], [[0.03035174310207367]], [[-0.10651004314422607]], [[-0.435657799243927]], [[-0.12521426379680634]], [[-0.542477011680603]], [[-0.31793445348739624]], [[0.13986331224441528]], [[0.0732605904340744]], [[-0.0821114182472229]], [[0.19164767861366272]], [[-0.0033623874187469482]], [[-0.1340031921863556]], [[0.12484537065029144]], [[0.0]], [[-0.08035360276699066]], [[-0.37678563594818115]], [[0.37075257301330566]], [[0.05585627257823944]], [[0.007795065641403198]], [[-0.193418949842453]], [[0.5164641737937927]], [[-0.05714897811412811]], [[-0.43512123823165894]], [[-0.025509923696517944]], [[-0.07329146564006805]], [[-0.010536938905715942]], [[0.550330638885498]], [[0.01242169737815857]], [[-0.4143003225326538]], [[0.025309979915618896]], [[-0.06582248210906982]], [[-0.008738130331039429]], [[0.51195228099823]], [[0.034214526414871216]], [[-0.4078099727630615]], [[0.02976250648498535]], [[0.29261621832847595]], [[0.10050317645072937]], [[0.5600285530090332]], [[0.04655614495277405]], [[-0.4022565186023712]], [[0.038220494985580444]], [[0.0]], [[0.10044354200363159]], [[0.4417010545730591]], [[-0.454259991645813]], [[-0.09123444557189941]], [[-0.4667188227176666]], [[-0.023615242913365364]], [[-0.3118138015270233]], [[-0.11552970111370087]], [[-0.17215684056282043]], [[-0.11060336232185364]], [[-0.3166900873184204]], [[-0.345106840133667]], [[0.20075584948062897]], [[-0.15433377027511597]], [[-0.8564589619636536]], [[0.199723482131958]], [[0.0659818947315216]], [[-0.11754120886325836]], [[-0.11562469601631165]], [[-0.2680121064186096]], [[-0.08990412950515747]], [[0.00814010575413704]], [[-0.10647762566804886]], [[-0.29980602860450745]], [[-0.0681014433503151]], [[0.0]], [[-0.08035360276699066]], [[0.25210267305374146]], [[-0.19173330068588257]], [[0.10076579451560974]], [[-0.21041402220726013]], [[-0.17776089906692505]], [[-0.11385369300842285]], [[0.1226290613412857]], [[-0.14279469847679138]], [[-0.0018333978950977325]], [[-0.0071748532354831696]], [[-0.018138324841856956]], [[-0.18480601906776428]], [[-0.4477526545524597]], [[0.17580962181091309]], [[-0.2905312478542328]], [[0.013277590274810791]], [[-0.3416302502155304]], [[-0.2983267903327942]], [[0.27441832423210144]], [[0.1988111436367035]], [[-0.06329876184463501]], [[-0.19269584119319916]], [[0.0]], [[-0.08035360276699066]], [[-0.2430064082145691]], [[-0.012900441884994507]], [[-0.2735435366630554]], [[-0.12939536571502686]], [[0.027106791734695435]], [[-0.32768136262893677]], [[-0.254591703414917]], [[0.11928054690361023]], [[-0.09804067015647888]], [[0.5336791276931763]], [[-0.14023357629776]], [[0.03880906105041504]], [[-0.10641345381736755]], [[-0.17698773741722107]], [[-0.0051049888134002686]], [[-0.031057395040988922]], [[0.3789529800415039]], [[0.018718093633651733]], [[-0.06649675965309143]], [[0.47925034165382385]], [[-0.757991373538971]], [[0.3273015320301056]], [[-0.20155219733715057]], [[0.05364789068698883]], [[0.0]], [[0.48325157165527344]], [[-0.30536949634552]], [[0.0]], [[0.4832516312599182]], [[-0.30536949634552]], [[0.01978759467601776]], [[0.19702011346817017]], [[0.36904215812683105]], [[0.34543147683143616]], [[-0.32459670305252075]], [[0.02367474138736725]], [[-0.06176091730594635]], [[-0.010914117097854614]], [[0.5166255831718445]], [[-0.7307833433151245]], [[-0.09168452024459839]], [[-0.0011692345142364502]], [[0.4871833324432373]], [[-0.3460012674331665]], [[-0.09317381680011749]], [[0.08945901691913605]], [[-0.10579603165388107]], [[-0.2852541208267212]], [[-0.026636019349098206]], [[-0.11793755739927292]], [[0.054068177938461304]], [[0.5234036445617676]], [[-0.3518425226211548]], [[-0.06062956154346466]], [[-0.3917413055896759]], [[0.0]], [[-0.08035352826118469]], [[0.268078088760376]], [[0.5994439125061035]], [[-0.2859065532684326]], [[0.0]], [[0.4832516312599182]], [[-0.23988096415996552]], [[-0.2483171969652176]], [[0.25302746891975403]], [[-0.20747004449367523]], [[0.09504237025976181]], [[0.9764987230300903]], [[-0.06622327864170074]], [[0.014113694429397583]], [[-0.0773945152759552]], [[0.35826560854911804]], [[-0.11757364124059677]], [[-0.20642048120498657]], [[-0.7299774289131165]], [[0.13549573719501495]], [[-0.10876312851905823]], [[0.04679819941520691]], [[0.44382598996162415]], [[-0.3710123896598816]], [[0.0]], [[0.029275942593812943]], [[-0.2075890302658081]], [[-0.22542953491210938]], [[-0.6655702590942383]], [[-0.43100279569625854]], [[-0.10779412090778351]], [[-0.4229329526424408]], [[0.5719807147979736]], [[0.050453171133995056]], [[-0.054727911949157715]], [[-0.18956957757472992]], [[0.0]], [[0.10044354200363159]], [[0.4417009949684143]], [[-0.4542599320411682]], [[-0.09123389422893524]], [[-0.466718465089798]], [[-0.023615047335624695]], [[-0.3118133544921875]], [[-0.115529865026474]], [[-0.1721569299697876]], [[-0.11060315370559692]], [[-0.31668972969055176]], [[-0.3451068103313446]], [[0.20075584948062897]], [[-0.15433369576931]], [[-0.8564590215682983]], [[0.0]], [[-0.31944745779037476]], [[-0.5256144404411316]], [[0.2824649214744568]], [[-0.0764341950416565]], [[-0.22789478302001953]], [[-0.3813791871070862]], [[-0.07993151247501373]], [[-0.11215496063232422]], [[-0.17789554595947266]], [[-0.36491748690605164]], [[-0.9148904085159302]], [[-0.11060065776109695]], [[-0.07753944396972656]], [[-0.17289716005325317]], [[-0.3440264165401459]], [[-0.8754334449768066]], [[0.0]], [[-0.08035360276699066]], [[-0.2430064082145691]], [[-0.012900441884994507]], [[-0.2735435366630554]], [[-0.12939536571502686]], [[0.027106791734695435]], [[-0.32768136262893677]], [[-0.254591703414917]], [[0.11928054690361023]], [[-0.09804067015647888]], [[0.5336791276931763]], [[-0.14023357629776]], [[0.03880906105041504]], [[-0.10641345381736755]], [[-0.17698773741722107]], [[-0.0051049888134002686]], [[-0.031057395040988922]], [[0.3789529800415039]], [[0.018718093633651733]], [[-0.06649675965309143]], [[0.47925034165382385]], [[-0.757991373538971]], [[0.0]], [[0.47852301597595215]], [[-0.02582445740699768]], [[0.6296842098236084]], [[-0.2966489791870117]], [[-0.5809087753295898]], [[-0.03943714499473572]], [[0.04613444209098816]], [[-0.1399761438369751]], [[-0.29975903034210205]], [[-0.15269146859645844]], [[0.21829354763031006]], [[-0.18212810158729553]], [[-0.4038279056549072]], [[-0.17063173651695251]], [[-0.8076174855232239]], [[0.13714265823364258]], [[0.03091992437839508]], [[0.30876651406288147]], [[-0.07887584716081619]], [[0.23102343082427979]], [[-0.29776209592819214]], [[-0.2486962378025055]], [[0.37744635343551636]], [[-0.1956249475479126]], [[0.37756288051605225]], [[-0.08742684125900269]], [[0.06040799617767334]], [[-0.12222594022750854]], [[-0.10003803670406342]], [[-0.21482986211776733]], [[-0.13337384164333344]], [[-0.09495032578706741]], [[-0.4835423231124878]], [[0.037943191826343536]], [[0.19037841260433197]], [[-0.7987988591194153]], [[0.3148556351661682]], [[-0.09305539727210999]], [[-0.8530563712120056]], [[0.0]], [[0.11805015057325363]], [[-0.3014725148677826]], [[-0.09759718179702759]], [[-0.23243819177150726]], [[-0.5287070870399475]], [[-0.087150938808918]], [[-0.21993163228034973]], [[-0.17129650712013245]], [[0.15481269359588623]], [[-0.11541999131441116]], [[-0.24532093107700348]], [[-0.2215643674135208]], [[-0.025264590978622437]], [[-0.0043822526931762695]], [[-0.19427798688411713]], [[-0.271852046251297]], [[0.1419781595468521]], [[-0.16734038293361664]], [[-0.00038598477840423584]], [[-0.6531935334205627]], [[0.0]]], \"firstDimensionName\": \"Layer\", \"secondDimensionName\": \"Neuron\"}\n",
       "    )\n",
       "    </script>"
      ],
      "text/plain": [
       "<circuitsvis.utils.render.RenderedHTML at 0x7f483bfc6950>"
      ]
     },
     "execution_count": 33,
     "metadata": {},
     "output_type": "execute_result"
    }
   ],
   "source": [
    "cluster_idx = 20\n",
    "\n",
    "cluster_inds = [int(datapoints_used[int(cluster_by_idx[cluster_idx][i])]) for i in range(len(cluster_by_idx[cluster_idx]))]\n",
    "print(dataset[int(cluster_inds[0])]['text'][:100])\n",
    "\n",
    "new_dataset = []\n",
    "for i in cluster_inds:\n",
    "\tnew_dataset.append(dataset[i])\n",
    "# for i in range(len(cluster_by_idx[cluster_idx])):\n",
    "# \tprint(dataset[int(datapoints_used[int(cluster_by_idx[cluster_idx][i])])]['text'][:100])\n",
    "# \tprint(\"+++++++++++++++++++++++++++++++++++++++++++++++++\")\n",
    "# TODO: this now wrong?\n",
    "activations = model_activations[layer][cluster_inds, :, :]\n",
    "# .reshape(-1, model_activations[layer].shape[-1])[cluster, :], 1)\n",
    "print(activations.shape)\n",
    "text_list, full_text, token_list, full_token_list, indices = get_feature_datapoints_with_idx(neuron_index, activations, model.tokenizer, token_amount, new_dataset, setting=\"uniform\", k=30)\n",
    "interp_utils.visualize_text(text_list, feature, model, None, layer=layer, setting=\"model\")\n",
    "# TODO: maybe do everything on MLP side where we get only positive activations"
   ]
  },
  {
   "cell_type": "code",
   "execution_count": null,
   "metadata": {},
   "outputs": [],
   "source": []
  }
 ],
 "metadata": {
  "kernelspec": {
   "display_name": "logan",
   "language": "python",
   "name": "python3"
  },
  "language_info": {
   "codemirror_mode": {
    "name": "ipython",
    "version": 3
   },
   "file_extension": ".py",
   "mimetype": "text/x-python",
   "name": "python",
   "nbconvert_exporter": "python",
   "pygments_lexer": "ipython3",
   "version": "3.11.5"
  },
  "orig_nbformat": 4
 },
 "nbformat": 4,
 "nbformat_minor": 2
}
