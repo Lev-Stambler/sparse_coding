{
 "cells": [
  {
   "cell_type": "code",
   "execution_count": 1,
   "metadata": {},
   "outputs": [
    {
     "name": "stderr",
     "output_type": "stream",
     "text": [
      "/root/logan/lib/python3.10/site-packages/tqdm/auto.py:21: TqdmWarning: IProgress not found. Please update jupyter and ipywidgets. See https://ipywidgets.readthedocs.io/en/stable/user_install.html\n",
      "  from .autonotebook import tqdm as notebook_tqdm\n"
     ]
    }
   ],
   "source": [
    "import torch \n",
    "from transformer_lens import HookedTransformer\n",
    "import numpy as np \n",
    "import argparse\n",
    "from utils import dotdict\n",
    "from activation_dataset import setup_token_data\n",
    "import wandb\n",
    "import json\n",
    "from datetime import datetime\n",
    "from tqdm import tqdm\n",
    "from einops import rearrange\n",
    "# from standard_metrics import run_with_model_intervention, perplexity_under_reconstruction, mean_nonzero_activations\n",
    "# Create \n",
    "# # make an argument parser directly below\n",
    "# parser = argparse.ArgumentParser()\n",
    "# parser.add_argument(\"--model_name\", type=str, default=\"EleutherAI/pythia-70m-deduped\")\n",
    "# parser.add_argument(\"--layer\", type=int, default=4)\n",
    "# parser.add_argument(\"--setting\", type=str, default=\"residual\")\n",
    "# parser.add_argument(\"--l1_alpha\", type=float, default=3e-3)\n",
    "# parser.add_argument(\"--num_epochs\", type=int, default=10)\n",
    "# parser.add_argument(\"--model_batch_size\", type=int, default=4)\n",
    "# parser.add_argument(\"--lr\", type=float, default=1e-3)\n",
    "# parser.add_argument(\"--kl\", type=bool, default=False)\n",
    "# parser.add_argument(\"--reconstruction\", type=bool, default=False)\n",
    "# parser.add_argument(\"--dataset_name\", type=str, default=\"NeelNanda/pile-10k\")\n",
    "# parser.add_argument(\"--device\", type=str, default=\"cuda:4\")\n",
    "\n",
    "# args = parser.parse_args()\n",
    "cfg = dotdict()\n",
    "# cfg.model_name=\"EleutherAI/pythia-70m-deduped\"\n",
    "cfg.model_name=\"EleutherAI/pythia-70m-deduped\"\n",
    "cfg.layers=[4]\n",
    "cfg.setting=\"residual\"\n",
    "cfg.tensor_name=\"gpt_neox.layers.{layer}\"\n",
    "cfg.l1_alpha=1e-3\n",
    "cfg.sparsity=None\n",
    "cfg.num_epochs=10\n",
    "cfg.model_batch_size=4\n",
    "cfg.lr=1e-3\n",
    "cfg.kl=False\n",
    "cfg.reconstruction=False\n",
    "cfg.dataset_name=\"NeelNanda/pile-10k\"\n",
    "cfg.device=\"cuda:0\"\n",
    "cfg.ratio = 4\n",
    "# cfg.device=\"cpu\""
   ]
  },
  {
   "cell_type": "code",
   "execution_count": 2,
   "metadata": {},
   "outputs": [],
   "source": [
    "tensor_names = [cfg.tensor_name.format(layer=layer) for layer in cfg.layers]"
   ]
  },
  {
   "cell_type": "code",
   "execution_count": 3,
   "metadata": {},
   "outputs": [],
   "source": [
    "# Load in the model\n",
    "from transformers import AutoModelForCausalLM, AutoTokenizer\n",
    "model = AutoModelForCausalLM.from_pretrained(cfg.model_name).to(cfg.device)\n",
    "tokenizer = AutoTokenizer.from_pretrained(cfg.model_name)"
   ]
  },
  {
   "cell_type": "code",
   "execution_count": 4,
   "metadata": {},
   "outputs": [
    {
     "name": "stderr",
     "output_type": "stream",
     "text": [
      "Found cached dataset parquet (/root/.cache/huggingface/datasets/NeelNanda___parquet/NeelNanda--pile-10k-72f566e9f7c464ab/0.0.0/2a3b91fbd88a2c90d1dbbb32b460cf621d31bd5b05b934492fdef7d8d6f236ec)\n",
      "Loading cached processed dataset at /root/.cache/huggingface/datasets/NeelNanda___parquet/NeelNanda--pile-10k-72f566e9f7c464ab/0.0.0/2a3b91fbd88a2c90d1dbbb32b460cf621d31bd5b05b934492fdef7d8d6f236ec/cache-bf32bd9ecc05cbbb_*_of_00008.arrow\n"
     ]
    },
    {
     "name": "stdout",
     "output_type": "stream",
     "text": [
      "Number of tokens: 15360000\n"
     ]
    }
   ],
   "source": [
    "# Download the dataset\n",
    "# TODO iteratively grab dataset?\n",
    "cfg.max_length = 256\n",
    "cfg.model_batch_size = 4\n",
    "token_loader = setup_token_data(cfg, tokenizer, model)\n",
    "num_tokens = cfg.max_length*cfg.model_batch_size*len(token_loader)\n",
    "print(f\"Number of tokens: {num_tokens}\")"
   ]
  },
  {
   "cell_type": "code",
   "execution_count": 5,
   "metadata": {},
   "outputs": [
    {
     "name": "stdout",
     "output_type": "stream",
     "text": [
      "Activation size: 512\n"
     ]
    }
   ],
   "source": [
    "# Run 1 datapoint on model to get the activation size\n",
    "from baukit import Trace\n",
    "\n",
    "text = \"1\"\n",
    "tokens = tokenizer(text, return_tensors=\"pt\").input_ids.to(cfg.device)\n",
    "# Your activation name will be different. In the next cells, we will show you how to find it.\n",
    "with torch.no_grad():\n",
    "    with Trace(model, tensor_names[0]) as ret:\n",
    "        _ = model(tokens)\n",
    "        representation = ret.output\n",
    "        # check if instance tuple\n",
    "        if(isinstance(representation, tuple)):\n",
    "            representation = representation[0]\n",
    "        activation_size = representation.shape[-1]\n",
    "print(f\"Activation size: {activation_size}\")"
   ]
  },
  {
   "cell_type": "code",
   "execution_count": 6,
   "metadata": {},
   "outputs": [],
   "source": [
    "# Initialize New autoencoder\n",
    "from autoencoders.learned_dict import TiedSAE\n",
    "from torch import nn\n",
    "params = dict()\n",
    "n_dict_components = activation_size*cfg.ratio\n",
    "params[\"encoder\"] = torch.empty((n_dict_components, activation_size), device=cfg.device)\n",
    "nn.init.xavier_uniform_(params[\"encoder\"])\n",
    "\n",
    "params[\"encoder_bias\"] = torch.empty((n_dict_components,), device=cfg.device)\n",
    "nn.init.zeros_(params[\"encoder_bias\"])\n",
    "\n",
    "autoencoder = TiedSAE(\n",
    "    # n_feats = n_dict_components, \n",
    "    # activation_size=activation_size,\n",
    "    encoder=params[\"encoder\"],\n",
    "    encoder_bias=params[\"encoder_bias\"],\n",
    ")\n",
    "autoencoder.to_device(cfg.device)"
   ]
  },
  {
   "cell_type": "code",
   "execution_count": 7,
   "metadata": {},
   "outputs": [
    {
     "name": "stdout",
     "output_type": "stream",
     "text": [
      "Target sparsity: 51\n"
     ]
    }
   ],
   "source": [
    "# Set target sparsity to 10% of activation_size if not set\n",
    "if cfg.sparsity is None:\n",
    "    cfg.sparsity = int(activation_size*0.1)\n",
    "    print(f\"Target sparsity: {cfg.sparsity}\")\n",
    "\n",
    "target_lower_sparsity = cfg.sparsity - 5.0\n",
    "target_upper_sparsity = cfg.sparsity + 5.0\n",
    "adjustment_factor = 0.1  # You can set this to whatever you like"
   ]
  },
  {
   "cell_type": "code",
   "execution_count": 8,
   "metadata": {},
   "outputs": [
    {
     "name": "stderr",
     "output_type": "stream",
     "text": [
      "Failed to detect the name of this notebook, you can set it manually with the WANDB_NOTEBOOK_NAME environment variable to enable code saving.\n"
     ]
    },
    {
     "name": "stdout",
     "output_type": "stream",
     "text": [
      "WARNING: Only works on tied SAE\n"
     ]
    },
    {
     "name": "stderr",
     "output_type": "stream",
     "text": [
      "\u001b[34m\u001b[1mwandb\u001b[0m: Currently logged in as: \u001b[33melriggs\u001b[0m (\u001b[33msparse_coding\u001b[0m). Use \u001b[1m`wandb login --relogin`\u001b[0m to force relogin\n",
      "\u001b[34m\u001b[1mwandb\u001b[0m: \u001b[33mWARNING\u001b[0m If you're specifying your api key in code, ensure this code is not shared publicly.\n",
      "\u001b[34m\u001b[1mwandb\u001b[0m: \u001b[33mWARNING\u001b[0m Consider setting the WANDB_API_KEY environment variable, or running `wandb login` from the command line.\n",
      "\u001b[34m\u001b[1mwandb\u001b[0m: Appending key for api.wandb.ai to your netrc file: /root/.netrc\n"
     ]
    },
    {
     "name": "stdout",
     "output_type": "stream",
     "text": [
      "wandb_run_name: EleutherAI/pythia-70m-deduped_1003-153306_51\n"
     ]
    },
    {
     "data": {
      "text/html": [
       "wandb version 0.15.11 is available!  To upgrade, please run:\n",
       " $ pip install wandb --upgrade"
      ],
      "text/plain": [
       "<IPython.core.display.HTML object>"
      ]
     },
     "metadata": {},
     "output_type": "display_data"
    },
    {
     "data": {
      "text/html": [
       "Tracking run with wandb version 0.15.3"
      ],
      "text/plain": [
       "<IPython.core.display.HTML object>"
      ]
     },
     "metadata": {},
     "output_type": "display_data"
    },
    {
     "data": {
      "text/html": [
       "Run data is saved locally in <code>/root/sparse_coding/wandb/run-20231003_153306-7stl9owp</code>"
      ],
      "text/plain": [
       "<IPython.core.display.HTML object>"
      ]
     },
     "metadata": {},
     "output_type": "display_data"
    },
    {
     "data": {
      "text/html": [
       "Syncing run <strong><a href='https://wandb.ai/sparse_coding/sparse%20coding/runs/7stl9owp' target=\"_blank\">EleutherAI/pythia-70m-deduped_1003-153306_51</a></strong> to <a href='https://wandb.ai/sparse_coding/sparse%20coding' target=\"_blank\">Weights & Biases</a> (<a href='https://wandb.me/run' target=\"_blank\">docs</a>)<br/>"
      ],
      "text/plain": [
       "<IPython.core.display.HTML object>"
      ]
     },
     "metadata": {},
     "output_type": "display_data"
    },
    {
     "data": {
      "text/html": [
       " View project at <a href='https://wandb.ai/sparse_coding/sparse%20coding' target=\"_blank\">https://wandb.ai/sparse_coding/sparse%20coding</a>"
      ],
      "text/plain": [
       "<IPython.core.display.HTML object>"
      ]
     },
     "metadata": {},
     "output_type": "display_data"
    },
    {
     "data": {
      "text/html": [
       " View run at <a href='https://wandb.ai/sparse_coding/sparse%20coding/runs/7stl9owp' target=\"_blank\">https://wandb.ai/sparse_coding/sparse%20coding/runs/7stl9owp</a>"
      ],
      "text/plain": [
       "<IPython.core.display.HTML object>"
      ]
     },
     "metadata": {},
     "output_type": "display_data"
    },
    {
     "data": {
      "text/html": [
       "<button onClick=\"this.nextSibling.style.display='block';this.style.display='none';\">Display W&B run</button><iframe src='https://wandb.ai/sparse_coding/sparse%20coding/runs/7stl9owp?jupyter=true' style='border:none;width:100%;height:420px;display:none;'></iframe>"
      ],
      "text/plain": [
       "<wandb.sdk.wandb_run.Run at 0x7f68506ca0b0>"
      ]
     },
     "execution_count": 8,
     "metadata": {},
     "output_type": "execute_result"
    }
   ],
   "source": [
    "print(\"WARNING: Only works on tied SAE\")\n",
    "# Set gradient to true for encoder & bias\n",
    "autoencoder.encoder.requires_grad = True\n",
    "autoencoder.encoder_bias.requires_grad = True\n",
    "optimizer = torch.optim.Adam([autoencoder.encoder, autoencoder.encoder_bias], lr=1e-3)\n",
    "original_bias = autoencoder.encoder_bias.clone().detach()\n",
    "# Wandb setup\n",
    "secrets = json.load(open(\"secrets.json\"))\n",
    "wandb.login(key=secrets[\"wandb_key\"])\n",
    "start_time = datetime.now().strftime(\"%Y%m%d-%H%M%S\")\n",
    "wandb_run_name = f\"{cfg.model_name}_{start_time[4:]}_{cfg.sparsity}\"  # trim year\n",
    "print(f\"wandb_run_name: {wandb_run_name}\")\n",
    "wandb.init(project=\"sparse coding\", config=dict(cfg), name=wandb_run_name, entity=\"sparse_coding\")"
   ]
  },
  {
   "cell_type": "code",
   "execution_count": 9,
   "metadata": {},
   "outputs": [
    {
     "name": "stdout",
     "output_type": "stream",
     "text": [
      "Sparsity: 1025.0 | Dead Features: 0 | Total Loss: 0.90 | Reconstruction Loss: 0.53 | L1 Loss: 0.37 | l1_alpha: 1.00e-03 | Tokens: 0 | Self Similarity: 1.00\n",
      "Sparsity: 321.5 | Dead Features: 0 | Total Loss: 0.16 | Reconstruction Loss: 0.08 | L1 Loss: 0.08 | l1_alpha: 1.00e-03 | Tokens: 512000 | Self Similarity: 0.83\n",
      "Sparsity: 270.2 | Dead Features: 0 | Total Loss: 0.13 | Reconstruction Loss: 0.06 | L1 Loss: 0.07 | l1_alpha: 1.00e-03 | Tokens: 1024000 | Self Similarity: 0.87\n",
      "Sparsity: 253.7 | Dead Features: 1 | Total Loss: 0.12 | Reconstruction Loss: 0.05 | L1 Loss: 0.07 | l1_alpha: 1.00e-03 | Tokens: 1536000 | Self Similarity: 0.90\n",
      "Sparsity: 222.1 | Dead Features: 0 | Total Loss: 0.11 | Reconstruction Loss: 0.05 | L1 Loss: 0.06 | l1_alpha: 1.00e-03 | Tokens: 2048000 | Self Similarity: 0.92\n",
      "Sparsity: 237.8 | Dead Features: 1 | Total Loss: 0.12 | Reconstruction Loss: 0.06 | L1 Loss: 0.06 | l1_alpha: 1.00e-03 | Tokens: 2560000 | Self Similarity: 0.93\n",
      "Sparsity: 211.0 | Dead Features: 1 | Total Loss: 0.11 | Reconstruction Loss: 0.05 | L1 Loss: 0.06 | l1_alpha: 1.00e-03 | Tokens: 3072000 | Self Similarity: 0.94\n",
      "Sparsity: 214.7 | Dead Features: 0 | Total Loss: 0.12 | Reconstruction Loss: 0.05 | L1 Loss: 0.06 | l1_alpha: 1.00e-03 | Tokens: 3584000 | Self Similarity: 0.95\n",
      "Sparsity: 195.7 | Dead Features: 1 | Total Loss: 0.11 | Reconstruction Loss: 0.05 | L1 Loss: 0.06 | l1_alpha: 1.00e-03 | Tokens: 4096000 | Self Similarity: 0.96\n",
      "Sparsity: 187.4 | Dead Features: 0 | Total Loss: 0.11 | Reconstruction Loss: 0.05 | L1 Loss: 0.06 | l1_alpha: 1.00e-03 | Tokens: 4608000 | Self Similarity: 0.95\n",
      "Sparsity: 178.0 | Dead Features: 0 | Total Loss: 0.11 | Reconstruction Loss: 0.05 | L1 Loss: 0.06 | l1_alpha: 1.00e-03 | Tokens: 5120000 | Self Similarity: 0.96\n",
      "Sparsity: 134.0 | Dead Features: 0 | Total Loss: 0.12 | Reconstruction Loss: 0.06 | L1 Loss: 0.07 | l1_alpha: 1.33e-03 | Tokens: 5632000 | Self Similarity: 0.96\n",
      "Sparsity: 97.5 | Dead Features: 0 | Total Loss: 0.14 | Reconstruction Loss: 0.07 | L1 Loss: 0.07 | l1_alpha: 1.61e-03 | Tokens: 6144000 | Self Similarity: 0.95\n",
      "Sparsity: 74.6 | Dead Features: 0 | Total Loss: 0.16 | Reconstruction Loss: 0.08 | L1 Loss: 0.08 | l1_alpha: 2.14e-03 | Tokens: 6656000 | Self Similarity: 0.94\n",
      "Sparsity: 46.8 | Dead Features: 0 | Total Loss: 0.17 | Reconstruction Loss: 0.10 | L1 Loss: 0.07 | l1_alpha: 2.59e-03 | Tokens: 7168000 | Self Similarity: 0.93\n",
      "Sparsity: 54.8 | Dead Features: 0 | Total Loss: 0.19 | Reconstruction Loss: 0.10 | L1 Loss: 0.09 | l1_alpha: 2.59e-03 | Tokens: 7680000 | Self Similarity: 0.94\n",
      "Sparsity: 53.9 | Dead Features: 0 | Total Loss: 0.17 | Reconstruction Loss: 0.09 | L1 Loss: 0.08 | l1_alpha: 2.33e-03 | Tokens: 8192000 | Self Similarity: 0.94\n",
      "Sparsity: 52.3 | Dead Features: 0 | Total Loss: 0.17 | Reconstruction Loss: 0.10 | L1 Loss: 0.08 | l1_alpha: 2.33e-03 | Tokens: 8704000 | Self Similarity: 0.95\n",
      "Sparsity: 49.7 | Dead Features: 0 | Total Loss: 0.16 | Reconstruction Loss: 0.08 | L1 Loss: 0.08 | l1_alpha: 2.33e-03 | Tokens: 9216000 | Self Similarity: 0.95\n",
      "Sparsity: 55.7 | Dead Features: 0 | Total Loss: 0.16 | Reconstruction Loss: 0.08 | L1 Loss: 0.07 | l1_alpha: 2.10e-03 | Tokens: 9728000 | Self Similarity: 0.95\n",
      "Sparsity: 47.3 | Dead Features: 0 | Total Loss: 0.16 | Reconstruction Loss: 0.09 | L1 Loss: 0.08 | l1_alpha: 2.31e-03 | Tokens: 10240000 | Self Similarity: 0.96\n",
      "Sparsity: 48.6 | Dead Features: 0 | Total Loss: 0.16 | Reconstruction Loss: 0.08 | L1 Loss: 0.08 | l1_alpha: 2.31e-03 | Tokens: 10752000 | Self Similarity: 0.96\n",
      "Sparsity: 48.4 | Dead Features: 1 | Total Loss: 0.15 | Reconstruction Loss: 0.08 | L1 Loss: 0.07 | l1_alpha: 2.08e-03 | Tokens: 11264000 | Self Similarity: 0.96\n",
      "Sparsity: 51.3 | Dead Features: 1 | Total Loss: 0.16 | Reconstruction Loss: 0.09 | L1 Loss: 0.07 | l1_alpha: 2.08e-03 | Tokens: 11776000 | Self Similarity: 0.96\n",
      "Sparsity: 44.2 | Dead Features: 2 | Total Loss: 0.14 | Reconstruction Loss: 0.08 | L1 Loss: 0.07 | l1_alpha: 2.08e-03 | Tokens: 12288000 | Self Similarity: 0.96\n",
      "Sparsity: 51.1 | Dead Features: 0 | Total Loss: 0.14 | Reconstruction Loss: 0.08 | L1 Loss: 0.07 | l1_alpha: 1.87e-03 | Tokens: 12800000 | Self Similarity: 0.96\n",
      "Sparsity: 47.9 | Dead Features: 1 | Total Loss: 0.15 | Reconstruction Loss: 0.08 | L1 Loss: 0.07 | l1_alpha: 2.06e-03 | Tokens: 13312000 | Self Similarity: 0.97\n",
      "Sparsity: 52.7 | Dead Features: 1 | Total Loss: 0.17 | Reconstruction Loss: 0.09 | L1 Loss: 0.07 | l1_alpha: 2.06e-03 | Tokens: 13824000 | Self Similarity: 0.97\n",
      "Sparsity: 54.9 | Dead Features: 1 | Total Loss: 0.16 | Reconstruction Loss: 0.08 | L1 Loss: 0.08 | l1_alpha: 2.06e-03 | Tokens: 14336000 | Self Similarity: 0.96\n",
      "Sparsity: 47.4 | Dead Features: 1 | Total Loss: 0.15 | Reconstruction Loss: 0.09 | L1 Loss: 0.07 | l1_alpha: 2.06e-03 | Tokens: 14848000 | Self Similarity: 0.96\n"
     ]
    }
   ],
   "source": [
    "dead_features = torch.zeros(autoencoder.encoder.shape[0])\n",
    "# num_batches = 1000\n",
    "# Freeze model parameters \n",
    "model.eval()\n",
    "model.requires_grad_(False)\n",
    "last_encoder = autoencoder.encoder.clone().detach()\n",
    "for i, batch in enumerate(token_loader):\n",
    "    # if(i > num_batches):\n",
    "    #     break\n",
    "    tokens = batch[\"input_ids\"].to(cfg.device)\n",
    "    with torch.no_grad(): # As long as not doing KL divergence, don't need gradients for model\n",
    "        with Trace(model, tensor_names[0]) as ret:\n",
    "            _ = model(tokens)\n",
    "            representation = ret.output\n",
    "            if(isinstance(representation, tuple)):\n",
    "                representation = representation[0]\n",
    "    layer_activations = rearrange(representation, \"b seq d_model -> (b seq) d_model\")\n",
    "\n",
    "    c = autoencoder.encode(layer_activations)\n",
    "    x_hat = autoencoder.decode(c)\n",
    "    \n",
    "    reconstruction_loss = (x_hat - layer_activations).pow(2).mean()\n",
    "    l1_loss = torch.norm(c, 1, dim=-1).mean()\n",
    "    total_loss = reconstruction_loss + cfg.l1_alpha*l1_loss\n",
    "\n",
    "    dead_features += c.sum(dim=0).cpu()\n",
    "    if (i % 500 == 0): # Check here so first check is model w/o change\n",
    "        # self_similarity = torch.cosine_similarity(c, last_encoder, dim=-1).mean().cpu().item()\n",
    "        # Above is wrong, should be similarity between encoder and last encoder\n",
    "        self_similarity = torch.cosine_similarity(autoencoder.encoder, last_encoder, dim=-1).mean().cpu().item()\n",
    "        last_encoder = autoencoder.encoder.clone().detach()\n",
    "        num_tokens_so_far = i*cfg.max_length*cfg.model_batch_size\n",
    "        with torch.no_grad():\n",
    "            sparsity = (c != 0).float().mean(dim=0).sum().cpu().item()\n",
    "            # Count number of dead_features are zero\n",
    "            num_dead_features = (dead_features == 0).sum().item()\n",
    "        print(f\"Sparsity: {sparsity:.1f} | Dead Features: {num_dead_features} | Total Loss: {total_loss:.2f} | Reconstruction Loss: {reconstruction_loss:.2f} | L1 Loss: {cfg.l1_alpha*l1_loss:.2f} | l1_alpha: {cfg.l1_alpha:.2e} | Tokens: {num_tokens_so_far} | Self Similarity: {self_similarity:.2f}\")\n",
    "        wandb.log({\n",
    "            'Sparsity': sparsity,\n",
    "            'Dead Features': num_dead_features,\n",
    "            'Total Loss': total_loss.item(),\n",
    "            'Reconstruction Loss': reconstruction_loss.item(),\n",
    "            'L1 Loss': (cfg.l1_alpha*l1_loss).item(),\n",
    "            'l1_alpha': cfg.l1_alpha,\n",
    "            'Tokens': num_tokens_so_far,\n",
    "            'Self Similarity': self_similarity\n",
    "        })\n",
    "        dead_features = torch.zeros(autoencoder.encoder.shape[0])\n",
    "\n",
    "    optimizer.zero_grad()\n",
    "    total_loss.backward()\n",
    "    optimizer.step()\n",
    "\n",
    "    # Running sparsity check\n",
    "    if(num_tokens_so_far > 5000000):\n",
    "        if(i % 200 == 0):\n",
    "            with torch.no_grad():\n",
    "                sparsity = (c != 0).float().mean(dim=0).sum().cpu().item()\n",
    "            if sparsity > target_upper_sparsity:\n",
    "                cfg.l1_alpha *= (1 + adjustment_factor)\n",
    "            elif sparsity < target_lower_sparsity:\n",
    "                cfg.l1_alpha *= (1 - adjustment_factor)\n",
    "            # print(f\"Sparsity: {sparsity:.1f} | l1_alpha: {cfg.l1_alpha:.2e}\")"
   ]
  },
  {
   "cell_type": "code",
   "execution_count": 10,
   "metadata": {},
   "outputs": [
    {
     "data": {
      "text/html": [
       "Waiting for W&B process to finish... <strong style=\"color:green\">(success).</strong>"
      ],
      "text/plain": [
       "<IPython.core.display.HTML object>"
      ]
     },
     "metadata": {},
     "output_type": "display_data"
    },
    {
     "data": {
      "text/html": [
       "<style>\n",
       "    table.wandb td:nth-child(1) { padding: 0 10px; text-align: left ; width: auto;} td:nth-child(2) {text-align: left ; width: 100%}\n",
       "    .wandb-row { display: flex; flex-direction: row; flex-wrap: wrap; justify-content: flex-start; width: 100% }\n",
       "    .wandb-col { display: flex; flex-direction: column; flex-basis: 100%; flex: 1; padding: 10px; }\n",
       "    </style>\n",
       "<div class=\"wandb-row\"><div class=\"wandb-col\"><h3>Run history:</h3><br/><table class=\"wandb\"><tr><td>Dead Features</td><td>▁▁▁▅▁▅▅▁▅▁▁▁▁▁▁▁▁▁▁▁▁▁▅▅█▁▅▅▅▅</td></tr><tr><td>L1 Loss</td><td>█▂▁▁▁▁▁▁▁▁▁▁▁▂▁▂▂▁▁▁▁▁▁▁▁▁▁▁▁▁</td></tr><tr><td>Reconstruction Loss</td><td>█▁▁▁▁▁▁▁▁▁▁▁▁▁▂▂▂▂▁▁▂▁▁▂▁▁▁▂▁▁</td></tr><tr><td>Self Similarity</td><td>█▁▃▄▅▅▆▆▆▆▆▆▆▆▅▆▆▆▆▆▆▆▆▆▆▇▇▇▇▇</td></tr><tr><td>Sparsity</td><td>█▃▃▂▂▂▂▂▂▂▂▂▁▁▁▁▁▁▁▁▁▁▁▁▁▁▁▁▁▁</td></tr><tr><td>Tokens</td><td>▁▁▁▂▂▂▂▃▃▃▃▄▄▄▄▅▅▅▅▆▆▆▆▇▇▇▇███</td></tr><tr><td>Total Loss</td><td>█▁▁▁▁▁▁▁▁▁▁▁▁▁▂▂▂▂▁▁▁▁▁▁▁▁▁▂▁▁</td></tr><tr><td>l1_alpha</td><td>▁▁▁▁▁▁▁▁▁▁▁▂▄▆██▇▇▇▆▇▇▆▆▆▅▆▆▆▆</td></tr></table><br/></div><div class=\"wandb-col\"><h3>Run summary:</h3><br/><table class=\"wandb\"><tr><td>Dead Features</td><td>1</td></tr><tr><td>L1 Loss</td><td>0.06866</td></tr><tr><td>Reconstruction Loss</td><td>0.08504</td></tr><tr><td>Self Similarity</td><td>0.96401</td></tr><tr><td>Sparsity</td><td>47.42188</td></tr><tr><td>Tokens</td><td>14848000</td></tr><tr><td>Total Loss</td><td>0.1537</td></tr><tr><td>l1_alpha</td><td>0.00206</td></tr></table><br/></div></div>"
      ],
      "text/plain": [
       "<IPython.core.display.HTML object>"
      ]
     },
     "metadata": {},
     "output_type": "display_data"
    },
    {
     "data": {
      "text/html": [
       " View run <strong style=\"color:#cdcd00\">EleutherAI/pythia-70m-deduped_1003-153306_51</strong> at: <a href='https://wandb.ai/sparse_coding/sparse%20coding/runs/7stl9owp' target=\"_blank\">https://wandb.ai/sparse_coding/sparse%20coding/runs/7stl9owp</a><br/>Synced 5 W&B file(s), 0 media file(s), 0 artifact file(s) and 0 other file(s)"
      ],
      "text/plain": [
       "<IPython.core.display.HTML object>"
      ]
     },
     "metadata": {},
     "output_type": "display_data"
    },
    {
     "data": {
      "text/html": [
       "Find logs at: <code>./wandb/run-20231003_153306-7stl9owp/logs</code>"
      ],
      "text/plain": [
       "<IPython.core.display.HTML object>"
      ]
     },
     "metadata": {},
     "output_type": "display_data"
    }
   ],
   "source": [
    "wandb.finish()"
   ]
  },
  {
   "cell_type": "code",
   "execution_count": 13,
   "metadata": {},
   "outputs": [],
   "source": [
    "model_save_name = cfg.model_name.split(\"/\")[-1]\n",
    "save_name = f\"{model_save_name}_sp{cfg.sparsity}_r{cfg.ratio}_{tensor_names[0]}\"  # trim year\n",
    "\n",
    "# Make directory traiend_models if it doesn't exist\n",
    "import os\n",
    "if not os.path.exists(\"trained_models\"):\n",
    "    os.makedirs(\"trained_models\")\n",
    "# Save model\n",
    "torch.save(autoencoder, f\"trained_models/{save_name}.pt\")"
   ]
  },
  {
   "cell_type": "code",
   "execution_count": 12,
   "metadata": {},
   "outputs": [
    {
     "data": {
      "text/plain": [
       "{'model_name': 'EleutherAI/pythia-70m-deduped',\n",
       " 'layers': [4],\n",
       " 'setting': 'residual',\n",
       " 'tensor_name': 'gpt_neox.layers.{layer}',\n",
       " 'l1_alpha': 0.0020591228579666505,\n",
       " 'sparsity': 51,\n",
       " 'num_epochs': 10,\n",
       " 'model_batch_size': 4,\n",
       " 'lr': 0.001,\n",
       " 'kl': False,\n",
       " 'reconstruction': False,\n",
       " 'dataset_name': 'NeelNanda/pile-10k',\n",
       " 'device': 'cuda:0',\n",
       " 'ratio': 4,\n",
       " 'max_length': 256}"
      ]
     },
     "execution_count": 12,
     "metadata": {},
     "output_type": "execute_result"
    }
   ],
   "source": [
    "cfg"
   ]
  }
 ],
 "metadata": {
  "kernelspec": {
   "display_name": "logan",
   "language": "python",
   "name": "python3"
  },
  "language_info": {
   "codemirror_mode": {
    "name": "ipython",
    "version": 3
   },
   "file_extension": ".py",
   "mimetype": "text/x-python",
   "name": "python",
   "nbconvert_exporter": "python",
   "pygments_lexer": "ipython3",
   "version": "3.10.11"
  },
  "orig_nbformat": 4
 },
 "nbformat": 4,
 "nbformat_minor": 2
}
