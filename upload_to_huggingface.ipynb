{
 "cells": [
  {
   "cell_type": "code",
   "execution_count": 1,
   "metadata": {},
   "outputs": [
    {
     "name": "stderr",
     "output_type": "stream",
     "text": [
      "/opt/conda/lib/python3.10/site-packages/tqdm/auto.py:21: TqdmWarning: IProgress not found. Please update jupyter and ipywidgets. See https://ipywidgets.readthedocs.io/en/stable/user_install.html\n",
      "  from .autonotebook import tqdm as notebook_tqdm\n"
     ]
    }
   ],
   "source": [
    "from huggingface_hub import login"
   ]
  },
  {
   "cell_type": "code",
   "execution_count": 6,
   "metadata": {},
   "outputs": [],
   "source": [
    "model_repo_name = \"Benw8888/pythia-6.9b-sae\"\n",
    "model_id = \"Benw8888/pythia-6.9b-sae\"\n",
    "file_in_repo = \"base_sae_6b.pt\""
   ]
  },
  {
   "cell_type": "code",
   "execution_count": 4,
   "metadata": {},
   "outputs": [
    {
     "name": "stderr",
     "output_type": "stream",
     "text": [
      "eleuther-pythia6.9b-hh-sft_sp409_r4_gpt_neox.layers.4.pt: 100%|██████████| 537M/537M [00:14<00:00, 37.5MB/s]\n",
      "Upload 1 LFS files: 100%|██████████| 1/1 [00:14<00:00, 14.57s/it]\n"
     ]
    },
    {
     "data": {
      "text/plain": [
       "'https://huggingface.co/Benw8888/pythia-6.9b-sae/blob/main/base_sae_6b.pt'"
      ]
     },
     "execution_count": 4,
     "metadata": {},
     "output_type": "execute_result"
    }
   ],
   "source": [
    "from huggingface_hub import HfApi\n",
    "api = HfApi()\n",
    "api.upload_file(\n",
    "    path_or_fileobj=\"/root/sparse_coding/trained_models/eleuther-pythia6.9b-hh-sft_sp409_r4_gpt_neox.layers.4.pt\",\n",
    "    path_in_repo=file_in_repo,\n",
    "    repo_id=model_id,\n",
    "    repo_type=\"model\",\n",
    ")"
   ]
  },
  {
   "cell_type": "code",
   "execution_count": 7,
   "metadata": {},
   "outputs": [
    {
     "name": "stderr",
     "output_type": "stream",
     "text": [
      "Downloading base_sae_6b.pt: 100%|██████████| 537M/537M [00:09<00:00, 59.4MB/s] \n"
     ]
    }
   ],
   "source": [
    "from huggingface_hub import hf_hub_download\n",
    "import torch\n",
    "# model_id = \"Elriggs/pythia-70m-deduped-layer-2\"\n",
    "ae_download_location = hf_hub_download(repo_id=model_id, filename=file_in_repo)\n",
    "all_autoencoders = torch.load(ae_download_location)"
   ]
  },
  {
   "cell_type": "code",
   "execution_count": null,
   "metadata": {},
   "outputs": [],
   "source": [
    "num_l1s = len(all_autoencoders)\n",
    "all_l1s = [hyperparams[\"l1_alpha\"] for autoencoder, hyperparams in all_autoencoders]\n",
    "print(all_l1s)\n",
    "autoencoder, hyperparams = all_autoencoders[5]\n",
    "print(hyperparams)"
   ]
  }
 ],
 "metadata": {
  "kernelspec": {
   "display_name": "logan",
   "language": "python",
   "name": "python3"
  },
  "language_info": {
   "codemirror_mode": {
    "name": "ipython",
    "version": 3
   },
   "file_extension": ".py",
   "mimetype": "text/x-python",
   "name": "python",
   "nbconvert_exporter": "python",
   "pygments_lexer": "ipython3",
   "version": "3.10.13"
  },
  "orig_nbformat": 4
 },
 "nbformat": 4,
 "nbformat_minor": 2
}
