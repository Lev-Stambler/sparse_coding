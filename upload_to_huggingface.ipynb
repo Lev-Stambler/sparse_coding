{
 "cells": [
  {
   "cell_type": "code",
   "execution_count": 3,
   "metadata": {},
   "outputs": [],
   "source": [
    "from huggingface_hub import login"
   ]
  },
  {
   "cell_type": "code",
   "execution_count": 4,
   "metadata": {},
   "outputs": [],
   "source": [
    "model_repo_name = \"Benw8888/pythia-6.9b-sae\"\n",
    "model_id = \"Benw8888/pythia-6.9b-sae\"\n",
    "mode = \"scale\"\n",
    "local_file = f\"/root/sparse_coding/trained_models/pythia-6.9b_transfer_{mode}_sp204_r4_gpt_neox.layers.10.pt\"\n",
    "file_in_repo = f\"transfer_base_sft_6b_{mode}.pt\" # \"base_sae_6b.pt\" \"sft_sae_6b.pt\" \"transfer_sft_ppo_6b.pt\""
   ]
  },
  {
   "cell_type": "code",
   "execution_count": 10,
   "metadata": {},
   "outputs": [
    {
     "data": {
      "application/vnd.jupyter.widget-view+json": {
       "model_id": "b3e61c09737644b29bc92fa26f0e9b72",
       "version_major": 2,
       "version_minor": 0
      },
      "text/plain": [
       "pythia-6.9b_transfer_scale_sp204_r4_gpt_neox.layers.10.pt:   0%|          | 0.00/537M [00:00<?, ?B/s]"
      ]
     },
     "metadata": {},
     "output_type": "display_data"
    },
    {
     "data": {
      "application/vnd.jupyter.widget-view+json": {
       "model_id": "2b68c18c26ec440bb6f175b6e5a9e4c0",
       "version_major": 2,
       "version_minor": 0
      },
      "text/plain": [
       "Upload 1 LFS files:   0%|          | 0/1 [00:00<?, ?it/s]"
      ]
     },
     "metadata": {},
     "output_type": "display_data"
    },
    {
     "data": {
      "text/plain": [
       "'https://huggingface.co/Benw8888/pythia-6.9b-sae/blob/main/transfer_base_sft_6b_scale.pt'"
      ]
     },
     "execution_count": 10,
     "metadata": {},
     "output_type": "execute_result"
    }
   ],
   "source": [
    "from huggingface_hub import HfApi\n",
    "api = HfApi()\n",
    "# api.upload_file(\n",
    "#     path_or_fileobj=local_file,\n",
    "#     path_in_repo=file_in_repo,\n",
    "#     repo_id=model_id,\n",
    "#     repo_type=\"model\",\n",
    "# )"
   ]
  },
  {
   "cell_type": "code",
   "execution_count": null,
   "metadata": {},
   "outputs": [],
   "source": []
  },
  {
   "cell_type": "code",
   "execution_count": 5,
   "metadata": {},
   "outputs": [],
   "source": [
    "model_repo_name = \"Benw8888/pythia-6.9b-sae\"\n",
    "model_id = \"Benw8888/pythia-6.9b-sae\"\n",
    "modes = [\"scale\", \"rotation\", \"bias\", \"free\"]\n",
    "huggingface_model_names = [\"base_sae_6b.pt\", ] + [f\"transfer_base_sft_6b_{mode}.pt\" for mode in modes]"
   ]
  },
  {
   "cell_type": "code",
   "execution_count": 7,
   "metadata": {},
   "outputs": [
    {
     "data": {
      "application/vnd.jupyter.widget-view+json": {
       "model_id": "2af250c6b9d540d28e94178fb888540f",
       "version_major": 2,
       "version_minor": 0
      },
      "text/plain": [
       "Downloading base_sae_6b.pt:   0%|          | 0.00/537M [00:00<?, ?B/s]"
      ]
     },
     "metadata": {},
     "output_type": "display_data"
    },
    {
     "data": {
      "application/vnd.jupyter.widget-view+json": {
       "model_id": "71498846f68745bab1821cc42638ccbc",
       "version_major": 2,
       "version_minor": 0
      },
      "text/plain": [
       "Downloading (…)e_sft_6b_rotation.pt:   0%|          | 0.00/537M [00:00<?, ?B/s]"
      ]
     },
     "metadata": {},
     "output_type": "display_data"
    },
    {
     "data": {
      "application/vnd.jupyter.widget-view+json": {
       "model_id": "e95121d60d7d458a868cda14954b25f9",
       "version_major": 2,
       "version_minor": 0
      },
      "text/plain": [
       "Downloading (…)_base_sft_6b_bias.pt:   0%|          | 0.00/537M [00:00<?, ?B/s]"
      ]
     },
     "metadata": {},
     "output_type": "display_data"
    },
    {
     "data": {
      "application/vnd.jupyter.widget-view+json": {
       "model_id": "e02092140a634b03add292e973eeadaa",
       "version_major": 2,
       "version_minor": 0
      },
      "text/plain": [
       "Downloading (…)_base_sft_6b_free.pt:   0%|          | 0.00/537M [00:00<?, ?B/s]"
      ]
     },
     "metadata": {},
     "output_type": "display_data"
    }
   ],
   "source": [
    "from huggingface_hub import hf_hub_download\n",
    "import torch\n",
    "# model_id = \"Elriggs/pythia-70m-deduped-layer-2\"\n",
    "\n",
    "for hf_name in huggingface_model_names:\n",
    "    ae_download_location = hf_hub_download(repo_id=model_id, filename=hf_name)\n",
    "    downloaded_autoencoder = torch.load(ae_download_location)\n",
    "        \n",
    "    import os\n",
    "    if not os.path.exists(\"trained_models\"):\n",
    "        os.makedirs(\"trained_models\")\n",
    "    # Save model\n",
    "    torch.save(downloaded_autoencoder, f\"trained_models/{hf_name}\")"
   ]
  },
  {
   "cell_type": "code",
   "execution_count": null,
   "metadata": {},
   "outputs": [],
   "source": [
    "num_l1s = len(all_autoencoders)\n",
    "all_l1s = [hyperparams[\"l1_alpha\"] for autoencoder, hyperparams in all_autoencoders]\n",
    "print(all_l1s)\n",
    "autoencoder, hyperparams = all_autoencoders[5]\n",
    "print(hyperparams)"
   ]
  }
 ],
 "metadata": {
  "kernelspec": {
   "display_name": "logan",
   "language": "python",
   "name": "python3"
  },
  "language_info": {
   "codemirror_mode": {
    "name": "ipython",
    "version": 3
   },
   "file_extension": ".py",
   "mimetype": "text/x-python",
   "name": "python",
   "nbconvert_exporter": "python",
   "pygments_lexer": "ipython3",
   "version": "3.10.13"
  },
  "orig_nbformat": 4
 },
 "nbformat": 4,
 "nbformat_minor": 2
}
