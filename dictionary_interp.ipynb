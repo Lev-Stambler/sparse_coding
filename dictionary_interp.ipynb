{
 "cells": [
  {
   "cell_type": "code",
   "execution_count": 48,
   "metadata": {},
   "outputs": [
    {
     "name": "stderr",
     "output_type": "stream",
     "text": [
      "Downloading learned_dicts.pt: 100%|██████████| 56.7M/56.7M [00:00<00:00, 61.8MB/s]"
     ]
    },
    {
     "name": "stdout",
     "output_type": "stream",
     "text": [
      "[0.0, 9.999999747378752e-05, 0.00019306977628730237, 0.000372759357560426, 0.0007196856895461679, 0.0013894954463467002, 0.0026826958637684584, 0.005179474595934153, 0.009999999776482582]\n",
      "{'dict_size': 3072, 'l1_alpha': 0.0013894954463467002}\n"
     ]
    },
    {
     "name": "stderr",
     "output_type": "stream",
     "text": [
      "\n"
     ]
    }
   ],
   "source": [
    "from huggingface_hub import hf_hub_download\n",
    "import torch\n",
    "layer = 2\n",
    "model_id = \"Elriggs/pythia-70m-deduped\"\n",
    "# model_id = \"Elriggs/pythia-410m-deduped\"\n",
    "ae_download_location = hf_hub_download(repo_id=model_id, filename=f\"tied_residual_l{layer}_r6/_63/learned_dicts.pt\")\n",
    "all_autoencoders = torch.load(ae_download_location)\n",
    "num_l1s = len(all_autoencoders)\n",
    "all_l1s = [hyperparams[\"l1_alpha\"] for autoencoder, hyperparams in all_autoencoders]\n",
    "print(all_l1s)\n",
    "auto_num = 5\n",
    "autoencoder, hyperparams = all_autoencoders[auto_num]\n",
    "# You want a hyperparam around 1e-3. Higher is less features/datapoint (at the cost of reconstruction error); lower is more features/datapoint (at the cost of polysemanticity)\n",
    "device = torch.device(\"cuda\" if torch.cuda.is_available() else \"cpu\")\n",
    "autoencoder.to_device(device)\n",
    "print(hyperparams)"
   ]
  },
  {
   "cell_type": "code",
   "execution_count": 49,
   "metadata": {},
   "outputs": [
    {
     "name": "stdout",
     "output_type": "stream",
     "text": [
      "('# of features above 0.9:', 1502)\n"
     ]
    },
    {
     "data": {
      "image/png": "[encoded data removed]",
      "text/plain": [
       "<Figure size 640x480 with 1 Axes>"
      ]
     },
     "metadata": {},
     "output_type": "display_data"
    }
   ],
   "source": [
    "from scipy.optimize import linear_sum_assignment\n",
    "import matplotlib.pyplot as plt\n",
    "import numpy as np\n",
    "autoencoder_larger, larger_hyperparams = all_autoencoders[auto_num+1]\n",
    "\n",
    "#Dictionary Comparison\n",
    "autoencoder_features = hyperparams[\"dict_size\"]\n",
    "autoencoder_larger_features = larger_hyperparams[\"dict_size\"]\n",
    "autoencoder_larger.to_device(device)\n",
    "\n",
    "# Hungary algorithm\n",
    "# Calculate all cosine similarities and store in a 2D array\n",
    "cos_sims = np.zeros((autoencoder_features, autoencoder_larger_features))\n",
    "for idx, vector in enumerate(autoencoder.get_learned_dict()):\n",
    "    cos_sims[idx] = torch.nn.functional.cosine_similarity(vector.to(device), autoencoder_larger.get_learned_dict(), dim=1).cpu().numpy()\n",
    "# Convert to a minimization problem\n",
    "cos_sims = 1 - cos_sims\n",
    "# Use the Hungarian algorithm to solve the assignment problem\n",
    "row_ind, col_ind = linear_sum_assignment(cos_sims)\n",
    "# Retrieve the max cosine similarities and corresponding indices\n",
    "max_cosine_similarities = 1 - cos_sims[row_ind, col_ind]\n",
    "\n",
    "# Get the indices of the max cosine similarities in descending order\n",
    "max_indices = np.argsort(max_cosine_similarities)[::-1]\n",
    "max_cosine_similarities[max_indices][:20]\n",
    "print((\"# of features above 0.9:\", (max_cosine_similarities > .9).sum()))\n",
    "# Plot histogram of max_cosine_similarities\n",
    "plt.hist(max_cosine_similarities, bins=20)\n",
    "plt.xlabel(\"Cosine Similarity\")\n",
    "plt.title(f\"Max Cos Sim between {hyperparams['l1_alpha']:.2E} & {larger_hyperparams['l1_alpha']:.2E}\")\n",
    "plt.show()"
   ]
  },
  {
   "cell_type": "code",
   "execution_count": 50,
   "metadata": {},
   "outputs": [
    {
     "name": "stderr",
     "output_type": "stream",
     "text": [
      "Using pad_token, but it is not set yet.\n"
     ]
    },
    {
     "name": "stdout",
     "output_type": "stream",
     "text": [
      "Loaded pretrained model EleutherAI/pythia-70m-deduped into HookedTransformer\n"
     ]
    }
   ],
   "source": [
    "from transformer_lens import HookedTransformer\n",
    "setting = \"residual\"\n",
    "model_name = \"EleutherAI/pythia-70m-deduped\"\n",
    "\n",
    "model = HookedTransformer.from_pretrained(model_name, device=device)\n",
    "\n",
    "if setting == \"residual\":\n",
    "    cache_name = f\"blocks.{layer}.hook_resid_post\"\n",
    "    neurons = model.cfg.d_model\n",
    "elif setting == \"mlp\":\n",
    "    cache_name = f\"blocks.{layer}.mlp.hook_post\"\n",
    "    neurons = model.cfg.d_mlp\n",
    "elif setting == \"attention\":\n",
    "    cache_name = f\"blocks.{layer}.hook_attn_out\"\n",
    "    neurons = model.cfg.d_model\n",
    "elif setting == \"mlp_out\":\n",
    "    cache_name = f\"blocks.{layer}.hook_mlp_out\"\n",
    "    neurons = model.cfg.d_model\n",
    "else:\n",
    "    raise NotImplementedError"
   ]
  },
  {
   "cell_type": "code",
   "execution_count": 51,
   "metadata": {},
   "outputs": [
    {
     "name": "stderr",
     "output_type": "stream",
     "text": [
      "Found cached dataset parquet (/home/mchorse/.cache/huggingface/datasets/NeelNanda___parquet/NeelNanda--pile-10k-72f566e9f7c464ab/0.0.0/2a3b91fbd88a2c90d1dbbb32b460cf621d31bd5b05b934492fdef7d8d6f236ec)\n",
      "                                                                   \r"
     ]
    }
   ],
   "source": [
    "# Downnload dataset\n",
    "from datasets import Dataset, load_dataset\n",
    "dataset_name = \"NeelNanda/pile-10k\"\n",
    "token_amount= 40\n",
    "#TODO: change train[:1000] to train if you want whole dataset\n",
    "dataset = load_dataset(dataset_name, split=\"train[:1000]\").map(\n",
    "    lambda x: model.tokenizer(x['text']),\n",
    "    batched=True,\n",
    ").filter(\n",
    "    lambda x: len(x['input_ids']) > token_amount\n",
    ").map(\n",
    "    lambda x: {'input_ids': x['input_ids'][:token_amount]}\n",
    ")"
   ]
  },
  {
   "cell_type": "markdown",
   "metadata": {},
   "source": [
    "# Get Dictionary Activations"
   ]
  },
  {
   "cell_type": "code",
   "execution_count": 52,
   "metadata": {},
   "outputs": [
    {
     "name": "stderr",
     "output_type": "stream",
     "text": [
      "  0%|          | 0/31 [00:00<?, ?it/s]"
     ]
    },
    {
     "name": "stderr",
     "output_type": "stream",
     "text": [
      "100%|██████████| 31/31 [00:08<00:00,  3.73it/s]\n"
     ]
    }
   ],
   "source": [
    "# Now we can use the model to get the activations\n",
    "from torch.utils.data import DataLoader\n",
    "from tqdm.auto import tqdm\n",
    "from einops import rearrange\n",
    "num_features, d_model = autoencoder.encoder.shape\n",
    "datapoints = dataset.num_rows\n",
    "batch_size = 32\n",
    "neuron_activations = torch.zeros((datapoints*token_amount, d_model))\n",
    "dictionary_activations = torch.zeros((datapoints*token_amount, num_features))\n",
    "smaller_auto_encoder = autoencoder\n",
    "smaller_auto_encoder.to_device(device)\n",
    "\n",
    "with torch.no_grad(), dataset.formatted_as(\"pt\"):\n",
    "    dl = DataLoader(dataset[\"input_ids\"], batch_size=batch_size)\n",
    "    for i, batch in enumerate(tqdm(dl)):\n",
    "        _, cache = model.run_with_cache(batch.to(device))\n",
    "        batched_neuron_activations = rearrange(cache[cache_name], \"b s n -> (b s) n\" )\n",
    "        neuron_activations[i*batch_size*token_amount:(i+1)*batch_size*token_amount,:] = batched_neuron_activations.cpu()\n",
    "        batched_dictionary_activations = smaller_auto_encoder.encode(batched_neuron_activations)\n",
    "        dictionary_activations[i*batch_size*token_amount:(i+1)*batch_size*token_amount,:] = batched_dictionary_activations.cpu()"
   ]
  },
  {
   "cell_type": "markdown",
   "metadata": {},
   "source": [
    "# Feature Interp\n",
    "Investigate the example sentences the activate this feature.\n",
    "\n",
    "Max: show max activating (tokens,contexts)\n",
    "\n",
    "Uniform: Show range of activations from each bin (e.g. sample an example from 1-2, 2-3, etc). \n",
    "[Note: if a feature is monosemantic, then the full range of activations should be that feature, not just max-activating ones]\n",
    "\n",
    "Full_text: shows the full text example\n",
    "\n",
    "Text_list: shows up to the most activating example (try w/ max activating on a couple of examples to see)\n",
    "\n",
    "ablate_text: remove the context one token at a time, and show the decrease/increase in activation of that feature\n",
    "\n",
    "ablate_feature_direction: removes feature direction from model's activation mid-inference, showing the logit diff in the output for every token.\n",
    "\n",
    "logit_lens: show the logit lens for that feature. If matches ablate_feature_direction, then the computation path is through the residual stream, else, it's through future layers"
   ]
  },
  {
   "cell_type": "code",
   "execution_count": 85,
   "metadata": {},
   "outputs": [
    {
     "data": {
      "text/html": [
       "<div id=\"circuits-vis-bf98af56-e110\" style=\"margin: 15px 0;\"/>\n",
       "    <script crossorigin type=\"module\">\n",
       "    import { render, TextNeuronActivations } from \"https://unpkg.com/circuitsvis@1.41.0/dist/cdn/esm.js\";\n",
       "    render(\n",
       "      \"circuits-vis-bf98af56-e110\",\n",
       "      TextNeuronActivations,\n",
       "      {\"tokens\": [\"Children\", \" and\", \" their\", \" caret\", \"akers\", \" walk\", \" by\", \" the\", \" remains\", \" of\", \" the\", \" F\", \"lower\", \" Branch\", \" Apart\", \"ments\", \" fire\", \" that\", \" killed\", \" 7\", \" and\", \" left\", \" about\", \" 100\", \" homeless\", \" last\", \" month\", \" as\", \" they\", \" get\", \" out\", \" of\", \"\\n\", \"C\", \"uc\", \" Ph\", \"u\", \"ong\", \" is\", \" very\", \" diverse\", \" in\", \" flora\", \" species\", \" composition\", \" structure\", \".\", \" With\", \" such\", \" an\", \" area\", \" equ\", \"aling\", \" to\", \" 0\", \".\", \"07\", \" %\", \" out\", \" of\", \"\\n\", \"Wednesday\", \",\", \" November\", \" 26\", \",\", \" 2008\", \"\\\\newline\", \"\\\\newline\", \"I\", \" just\", \" took\", \" a\", \" pie\", \" out\", \" of\", \"\\n\", \"Based\", \" out\", \" of\", \"\\n\", \"So\", \" this\", \" guy\", \" was\", \" sucking\", \" bre\", \"zz\", \",\", \" felt\", \" something\", \" in\", \" his\", \" mouth\", \",\", \" tasted\", \" somehow\", \"\\\\newline\\\\newline\\\\newline\", \"\\\\newline\", \"Are\", \" you\", \" pregnant\", \"?\", \"\\\\newline\\\\newline\\\\newline\", \"\\\\newline\", \"No\", \"!\", \"\\\\newline\\\\newline\\\\newline\", \"\\\\newline\", \"Why\", \" is\", \" me\", \"ek\", \" coming\", \" out\", \" from\", \"\\n\", \"About\", \" the\", \" Program\", \"\\\\newline\", \"\\\\newline\", \"Fac\", \"ulty\", \" (\", \"including\", \" research\", \" faculty\", \")\", \" participating\", \" in\", \" the\", \" program\", \" receive\", \" 40\", \" percent\", \" salary\", \" support\", \" from\", \" the\", \" V\", \"PR\", \" Office\", \" and\", \" are\", \" released\", \" from\", \"\\n\", \"D\", \"omin\", \"ik\", \" Brun\", \"ner\", \" -\", \" Nord\", \"ket\", \"ten\", \" Check\", \" out\", \" from\", \"\\n\"], \"activations\": [[[0.0]], [[0.0]], [[0.0]], [[0.0]], [[0.0]], [[0.0]], [[0.0]], [[0.0]], [[0.0]], [[0.0]], [[0.0]], [[0.0]], [[0.0]], [[0.0]], [[0.0]], [[0.0]], [[0.0]], [[0.0]], [[0.0]], [[0.0]], [[0.0]], [[0.0]], [[0.0]], [[0.0]], [[0.0]], [[0.0]], [[0.0]], [[0.0]], [[0.0]], [[0.0]], [[0.3280043601989746]], [[5.242128372192383]], [[0.0]], [[0.0]], [[0.0]], [[0.0]], [[0.0]], [[0.0]], [[0.0]], [[0.0]], [[0.0]], [[0.0]], [[0.0]], [[0.0]], [[0.0]], [[0.0]], [[0.0]], [[0.0]], [[0.0]], [[0.0]], [[0.0]], [[0.0]], [[0.0]], [[0.0]], [[0.0]], [[0.0]], [[0.0]], [[0.0]], [[0.0]], [[4.436679840087891]], [[0.0]], [[0.0]], [[0.0]], [[0.0]], [[0.0]], [[0.0]], [[0.0]], [[0.0]], [[0.0]], [[0.0]], [[0.0]], [[0.0]], [[0.0]], [[0.0]], [[0.0]], [[3.7700960636138916]], [[0.0]], [[0.0]], [[0.0]], [[2.7452523708343506]], [[0.0]], [[0.0]], [[0.0]], [[0.0]], [[0.0]], [[0.0]], [[0.0]], [[0.0]], [[0.0]], [[0.0]], [[0.0]], [[0.0]], [[0.0]], [[0.0]], [[0.0]], [[0.0]], [[0.0]], [[0.0]], [[0.0]], [[0.0]], [[0.0]], [[0.0]], [[0.0]], [[0.0]], [[0.0]], [[0.0]], [[0.0]], [[0.0]], [[0.0]], [[0.0]], [[0.0]], [[0.0]], [[0.0]], [[0.0]], [[0.0]], [[1.9103338718414307]], [[0.0]], [[0.0]], [[0.0]], [[0.0]], [[0.0]], [[0.0]], [[0.0]], [[0.0]], [[0.0]], [[0.0]], [[0.0]], [[0.0]], [[0.0]], [[0.0]], [[0.0]], [[0.0]], [[0.0]], [[0.0]], [[0.0]], [[0.0]], [[0.0]], [[0.0]], [[0.0]], [[0.0]], [[0.0]], [[0.0]], [[0.0]], [[0.0]], [[0.0]], [[0.0]], [[0.7625181674957275]], [[0.0]], [[0.0]], [[0.0]], [[0.0]], [[0.0]], [[0.0]], [[0.0]], [[0.0]], [[0.0]], [[0.0]], [[0.0]], [[0.0]], [[0.21433568000793457]], [[0.0]]], \"firstDimensionName\": \"Layer\", \"secondDimensionName\": \"Neuron\"}\n",
       "    )\n",
       "    </script>"
      ],
      "text/plain": [
       "<circuitsvis.utils.render.RenderedHTML at 0x7fe9372ceb90>"
      ]
     },
     "execution_count": 85,
     "metadata": {},
     "output_type": "execute_result"
    }
   ],
   "source": [
    "from interp_utils import *\n",
    "# Can sort by MMCS w/ the larger dictionary\n",
    "# indexed_feature = 13\n",
    "# best_feature = int(max_indices[indexed_feature])\n",
    "# Or just random index \n",
    "best_feature = 10\n",
    "\n",
    "text_list, full_text, token_list, full_token_list = get_feature_datapoints(best_feature, dictionary_activations, model.tokenizer, token_amount, dataset, setting=\"uniform\")\n",
    "# text_list, full_text, token_list, full_token_list = get_feature_datapoints(best_feature, dictionary_activations, dataset, setting=\"max\")\n",
    "# visualize_text(full_text, best_feature, model, autoencoder, layer)\n",
    "visualize_text(text_list, best_feature, model, autoencoder, layer)"
   ]
  },
  {
   "cell_type": "code",
   "execution_count": 81,
   "metadata": {},
   "outputs": [
    {
     "data": {
      "text/html": [
       "<div id=\"circuits-vis-f5239aaa-77ca\" style=\"margin: 15px 0;\"/>\n",
       "    <script crossorigin type=\"module\">\n",
       "    import { render, TextNeuronActivations } from \"https://unpkg.com/circuitsvis@1.41.0/dist/cdn/esm.js\";\n",
       "    render(\n",
       "      \"circuits-vis-f5239aaa-77ca\",\n",
       "      TextNeuronActivations,\n",
       "      {\"tokens\": [\"Running\", \"\\\\newline\", \"\\\\newline\", \"Stat\", \"\\\\newline\", \"\\\\newline\", \"D\", \"inner\", \" with\", \" people\", \" is\", \" always\", \" better\", \" than\", \" eating\", \" alone\", \",\", \" especially\", \" when\", \" the\", \" food\", \" is\", \" good\", \".\", \" Good\", \" food\", \" tastes\", \" even\", \" better\", \" when\", \" enjoyed\", \" with\", \" people\", \".\", \" Tonight\", \"\\n\", \"1942\", \" Iowa\", \" Pre\", \"-\", \"F\", \"light\", \" Seah\", \"awks\", \" football\", \" team\", \"\\\\newline\", \"\\\\newline\", \"The\", \" 1942\", \"\\n\", \"The\", \" quantum\", \" computing\", \" ap\", \"ocalypse\", \" is\", \" imminent\", \"\\\\newline\", \"\\\\newline\", \"Sh\", \"l\", \"omi\", \" D\", \"olev\", \"\\n\", \"Gen\", \"etic\", \" diversity\", \" studies\", \" of\", \" Brazilian\", \" garlic\", \" cultivars\", \" and\", \" quality\", \" control\", \" of\", \" garlic\", \"-\", \"cl\", \"over\", \" production\", \".\", \"\\\\newline\", \"The\", \" garlic\", \"\\n\", \"package\", \" io\", \".\", \"git\", \"lab\", \".\", \"art\", \"urb\", \"os\", \"ch\", \".\", \"det\", \"ek\", \"t\", \".\", \"generator\", \"\\n\", \"The\", \" terrifying\", \" 38\", \"-\", \"minute\", \"\\n\", \"Q\", \":\", \"\\\\newline\", \"\\\\newline\", \"How\", \" do\", \" you\", \" call\", \" a\", \" javascript\", \" method\", \" on\", \" a\", \" html\", \"widget\", \"\\n\", \"E\", \"och\", \"ry\", \"sis\", \",\", \" a\", \" new\", \" replacement\", \" name\", \" for\", \" the\", \" fossil\", \" Pro\", \"to\", \"ch\", \"ry\", \"sis\", \" B\", \"isch\", \"off\", \",\", \" 1916\", \"\\n\", \"Too\", \" late\", \" smart\", \":\", \" farmers\", \"'\", \" adoption\", \" of\", \" self\", \"-\", \"protective\", \"\\n\", \"Molecular\", \"-\", \"dynamics\", \" simulations\", \" of\", \" electron\", \"-\", \"ion\", \" temperature\", \" relaxation\", \" in\", \" a\", \" classical\", \" Coulomb\", \" plasma\", \".\", \"\\\\newline\", \"Molecular\", \"-\", \"dynamics\", \" simulations\", \" are\", \" used\", \" to\", \" investigate\", \" temperature\", \" relaxation\", \" between\", \" electrons\", \" and\", \" ions\", \" in\", \" a\", \" fully\", \" ionized\", \",\", \" classical\", \" Coulomb\", \"\\n\"], \"activations\": [[[0.036580562591552734]], [[0.0018630027770996094]], [[0.0018630027770996094]], [[-0.028443336486816406]], [[0.006285667419433594]], [[0.006285667419433594]], [[0.005984783172607422]], [[-0.030710697174072266]], [[-0.00905609130859375]], [[-0.017623424530029297]], [[0.0005283355712890625]], [[-0.006586551666259766]], [[-0.012554645538330078]], [[-0.0213167667388916]], [[-0.030131816864013672]], [[-0.028044700622558594]], [[-0.010616302490234375]], [[-0.02196049690246582]], [[-0.022726774215698242]], [[-0.019023418426513672]], [[-0.06820392608642578]], [[-0.0006327629089355469]], [[-0.026746749877929688]], [[-0.0456843376159668]], [[-0.04124283790588379]], [[-0.076812744140625]], [[-0.05358290672302246]], [[-0.046109914779663086]], [[-0.034416913986206055]], [[0.003367185592651367]], [[-0.08241820335388184]], [[0.0736703872680664]], [[-0.0603480339050293]], [[-0.24490070343017578]], [[-1.1241035461425781]], [[0.0]], [[-0.23934197425842285]], [[0.00843954086303711]], [[-0.027715206146240234]], [[-0.0041387081146240234]], [[-0.03857135772705078]], [[-0.033748626708984375]], [[-0.03830671310424805]], [[-0.12811660766601562]], [[0.047594547271728516]], [[0.0660710334777832]], [[0.037377357482910156]], [[0.037377357482910156]], [[0.7677936553955078]], [[-0.9479007720947266]], [[0.0]], [[-0.060033321380615234]], [[0.13395404815673828]], [[0.024629592895507812]], [[0.05676412582397461]], [[-0.05410957336425781]], [[0.016494274139404297]], [[0.0957174301147461]], [[0.052446842193603516]], [[0.052446842193603516]], [[0.1580367088317871]], [[0.09587907791137695]], [[-0.10515642166137695]], [[-0.06278586387634277]], [[-0.8785524368286133]], [[0.0]], [[-0.030053138732910156]], [[-0.0015354156494140625]], [[-0.07878923416137695]], [[-0.008085966110229492]], [[0.011852025985717773]], [[0.017077922821044922]], [[0.09238696098327637]], [[-0.06117391586303711]], [[-0.01826620101928711]], [[0.023015975952148438]], [[0.015549659729003906]], [[-0.011553764343261719]], [[0.14039230346679688]], [[-0.010395526885986328]], [[0.02393817901611328]], [[0.022101163864135742]], [[-0.0010247230529785156]], [[-0.0530240535736084]], [[-0.05652475357055664]], [[0.6838726997375488]], [[-0.6968226432800293]], [[0.0]], [[0.177567720413208]], [[0.10396623611450195]], [[-0.04401397705078125]], [[-0.016407251358032227]], [[-0.04537630081176758]], [[0.04545474052429199]], [[-0.04215049743652344]], [[-0.009006261825561523]], [[0.0408787727355957]], [[0.012883186340332031]], [[0.13220691680908203]], [[-0.030273914337158203]], [[0.06105327606201172]], [[0.08679533004760742]], [[-0.6068768501281738]], [[-0.6068768501281738]], [[0.0]], [[-0.07016253471374512]], [[-0.1554279327392578]], [[-0.2698643207550049]], [[0.2872166633605957]], [[-0.4983558654785156]], [[0.0]], [[0.17963528633117676]], [[-0.043237924575805664]], [[-0.04700922966003418]], [[-0.04700922966003418]], [[-0.0656733512878418]], [[-0.009479522705078125]], [[-0.022616147994995117]], [[-0.007574558258056641]], [[0.04131460189819336]], [[-0.12658333778381348]], [[0.016837358474731445]], [[0.034270524978637695]], [[0.12765240669250488]], [[-0.001967191696166992]], [[-0.4152872562408447]], [[0.0]], [[-0.0009412765502929688]], [[0.0004107952117919922]], [[0.013852596282958984]], [[-0.005985736846923828]], [[-0.05312204360961914]], [[-0.10021138191223145]], [[-0.07764625549316406]], [[-0.0005612373352050781]], [[0.004539012908935547]], [[-0.009862899780273438]], [[-0.058092594146728516]], [[-0.09506559371948242]], [[0.032731056213378906]], [[-0.02102494239807129]], [[0.0034456253051757812]], [[-0.008230209350585938]], [[-0.025435924530029297]], [[0.019410133361816406]], [[-0.027085065841674805]], [[-0.033852577209472656]], [[-0.26532649993896484]], [[-0.3038787841796875]], [[0.0]], [[-0.016012907028198242]], [[0.022747278213500977]], [[0.003623485565185547]], [[0.0072286128997802734]], [[0.09918522834777832]], [[-0.06085014343261719]], [[-0.07490086555480957]], [[-0.19566822052001953]], [[0.02748584747314453]], [[0.05005812644958496]], [[-0.1983323097229004]], [[0.0]], [[-0.002695322036743164]], [[-0.009193658828735352]], [[0.013657569885253906]], [[0.029587745666503906]], [[0.0009760856628417969]], [[0.014264822006225586]], [[0.005007266998291016]], [[0.004446506500244141]], [[-0.006173849105834961]], [[-0.0052947998046875]], [[-0.016016244888305664]], [[0.03180336952209473]], [[0.09606266021728516]], [[-0.08756637573242188]], [[0.007225990295410156]], [[-0.002861499786376953]], [[-0.028420209884643555]], [[-0.008383989334106445]], [[0.028505563735961914]], [[-0.002321481704711914]], [[-0.006463050842285156]], [[0.04909968376159668]], [[0.016332387924194336]], [[0.024135351181030273]], [[0.0064296722412109375]], [[0.0075075626373291016]], [[0.01797008514404297]], [[0.06874394416809082]], [[0.019381284713745117]], [[0.02547931671142578]], [[0.015942811965942383]], [[0.02694559097290039]], [[0.05451011657714844]], [[-0.08756637573242188]], [[0.05142378807067871]], [[0.08810997009277344]], [[-0.08756637573242188]], [[-0.08756637573242188]], [[0.0]]], \"firstDimensionName\": \"Layer\", \"secondDimensionName\": \"Neuron\"}\n",
       "    )\n",
       "    </script>"
      ],
      "text/plain": [
       "<circuitsvis.utils.render.RenderedHTML at 0x7fe8c7e03e50>"
      ]
     },
     "execution_count": 81,
     "metadata": {},
     "output_type": "execute_result"
    }
   ],
   "source": [
    "ablate_text(text_list, best_feature, model, autoencoder, layer)"
   ]
  },
  {
   "cell_type": "code",
   "execution_count": 82,
   "metadata": {},
   "outputs": [
    {
     "data": {
      "text/html": [
       "<div id=\"circuits-vis-629d0d86-826c\" style=\"margin: 15px 0;\"/>\n",
       "    <script crossorigin type=\"module\">\n",
       "    import { render, TextNeuronActivations } from \"https://unpkg.com/circuitsvis@1.41.0/dist/cdn/esm.js\";\n",
       "    render(\n",
       "      \"circuits-vis-629d0d86-826c\",\n",
       "      TextNeuronActivations,\n",
       "      {\"tokens\": [\"\\\\newline\", \"\\\\newline\", \"Stat\", \"\\\\newline\", \"\\\\newline\", \"D\", \"inner\", \" with\", \" people\", \" is\", \" always\", \" better\", \" than\", \" eating\", \" alone\", \",\", \" especially\", \" when\", \" the\", \" food\", \" is\", \" good\", \".\", \" Good\", \" food\", \" tastes\", \" even\", \" better\", \" when\", \" enjoyed\", \" with\", \" people\", \".\", \" Tonight\", \" Amy\", \" came\", \" over\", \" to\", \" try\", \"\\n\", \" Iowa\", \" Pre\", \"-\", \"F\", \"light\", \" Seah\", \"awks\", \" football\", \" team\", \"\\\\newline\", \"\\\\newline\", \"The\", \" 1942\", \" Iowa\", \" Pre\", \"-\", \"F\", \"light\", \" Seah\", \"awks\", \" football\", \" team\", \" represented\", \" the\", \" United\", \" States\", \" Navy\", \" pre\", \"-\", \"flight\", \" aviation\", \" training\", \" school\", \" at\", \" the\", \" University\", \" of\", \" Iowa\", \" as\", \"\\n\", \" quantum\", \" computing\", \" ap\", \"ocalypse\", \" is\", \" imminent\", \"\\\\newline\", \"\\\\newline\", \"Sh\", \"l\", \"omi\", \" D\", \"olev\", \" is\", \" the\", \" Chair\", \" Professor\", \" and\", \" founder\", \" of\", \" the\", \" Computer\", \" Science\", \" department\", \" of\", \" Ben\", \"-\", \"G\", \"ur\", \"ion\", \" University\", \" of\", \" the\", \" Ne\", \"ge\", \"v\", \".\", \" He\", \" is\", \"\\n\", \"etic\", \" diversity\", \" studies\", \" of\", \" Brazilian\", \" garlic\", \" cultivars\", \" and\", \" quality\", \" control\", \" of\", \" garlic\", \"-\", \"cl\", \"over\", \" production\", \".\", \"\\\\newline\", \"The\", \" garlic\", \" cultivars\", \" grown\", \" in\", \" Brazil\", \" evolved\", \" from\", \" somatic\", \" mutations\", \" and\", \" clone\", \" selection\", \" by\", \" breeding\", \" programs\", \" and\", \" by\", \" the\", \" introduction\", \" of\", \"\\n\", \" io\", \".\", \"git\", \"lab\", \".\", \"art\", \"urb\", \"os\", \"ch\", \".\", \"det\", \"ek\", \"t\", \".\", \"generator\", \".\", \"collection\", \"\\\\newline\", \"\\\\newline\", \"import\", \" io\", \".\", \"git\", \"lab\", \".\", \"art\", \"urb\", \"os\", \"ch\", \".\", \"det\", \"ek\", \"t\", \".\", \"api\", \".\", \"Det\", \"ek\", \"t\", \"\\n\", \" terrifying\", \" 38\", \"-\", \"minute\", \" or\", \"deal\", \" suffered\", \" by\", \" Hawaii\", \" residents\", \" on\", \" Saturday\", \",\", \" when\", \" the\", \" state\", \"\\u2019\", \"s\", \" emergency\", \"-\", \"management\", \" agency\", \" sent\", \" out\", \" a\", \" false\", \" alert\", \" warning\", \" of\", \" an\", \" imminent\", \" ballistic\", \"-\", \"miss\", \"ile\", \" strike\", \" amid\", \" rising\", \" tensions\", \"\\n\", \":\", \"\\\\newline\", \"\\\\newline\", \"How\", \" do\", \" you\", \" call\", \" a\", \" javascript\", \" method\", \" on\", \" a\", \" html\", \"widget\", \" (\", \"json\", \"editor\", \")\", \" in\", \" shiny\", \"?\", \"\\\\newline\", \"\\\\newline\", \"I\", \"'m\", \" trying\", \" to\", \" use\", \" json\", \"edit\", \" from\", \" the\", \" list\", \"view\", \"er\", \" package\", \" in\", \" a\", \" shiny\", \"\\n\", \"och\", \"ry\", \"sis\", \",\", \" a\", \" new\", \" replacement\", \" name\", \" for\", \" the\", \" fossil\", \" Pro\", \"to\", \"ch\", \"ry\", \"sis\", \" B\", \"isch\", \"off\", \",\", \" 1916\", \" (\", \"In\", \"sect\", \"a\", \":\", \" H\", \"ym\", \"en\", \"optera\", \":\", \" Chrys\", \"id\", \"idae\", \")\", \" nec\", \" P\", \"asc\", \"her\", \"\\n\", \" late\", \" smart\", \":\", \" farmers\", \"'\", \" adoption\", \" of\", \" self\", \"-\", \"protective\", \" behaviors\", \" in\", \" response\", \" to\", \" exposure\", \" to\", \" hazardous\", \" noise\", \".\", \"\\\\newline\", \"F\", \"arm\", \"ers\", \" are\", \" exposed\", \" to\", \" hazardous\", \" noise\", \" from\", \" equipment\", \" and\", \" livestock\", \" and\", \" experience\", \" high\", \" rates\", \" of\", \" noise\", \"-\", \"\\n\", \"-\", \"dynamics\", \" simulations\", \" of\", \" electron\", \"-\", \"ion\", \" temperature\", \" relaxation\", \" in\", \" a\", \" classical\", \" Coulomb\", \" plasma\", \".\", \"\\\\newline\", \"Molecular\", \"-\", \"dynamics\", \" simulations\", \" are\", \" used\", \" to\", \" investigate\", \" temperature\", \" relaxation\", \" between\", \" electrons\", \" and\", \" ions\", \" in\", \" a\", \" fully\", \" ionized\", \",\", \" classical\", \" Coulomb\", \" plasma\", \" with\", \"\\n\"], \"activations\": [[[0.0]], [[0.0]], [[-0.00045013427734375]], [[0.0]], [[0.0]], [[0.0]], [[0.0]], [[-0.0038423538208007812]], [[-0.005978107452392578]], [[-0.005221843719482422]], [[0.006378173828125]], [[0.0023851394653320312]], [[0.0017158985137939453]], [[0.005677223205566406]], [[-0.009165763854980469]], [[0.0005879402160644531]], [[0.004388093948364258]], [[0.0036656856536865234]], [[0.0003857612609863281]], [[-0.0009794235229492188]], [[4.44948673248291e-05]], [[-0.0006988048553466797]], [[0.0001380443572998047]], [[0.0038194656372070312]], [[-0.0020804405212402344]], [[0.003345489501953125]], [[-8.726119995117188e-05]], [[-0.00017964839935302734]], [[0.00010979175567626953]], [[0.0011749267578125]], [[0.0006213188171386719]], [[-0.0033712387084960938]], [[0.0004309415817260742]], [[-0.00012683868408203125]], [[0.2338123321533203]], [[0.027787208557128906]], [[-0.0928351879119873]], [[0.013607144355773926]], [[0.02984905242919922]], [[0.0]], [[0.04960060119628906]], [[-0.0031652450561523438]], [[0.004082679748535156]], [[-0.0008182525634765625]], [[-0.005749702453613281]], [[-0.010946273803710938]], [[-0.003116011619567871]], [[-0.0006427764892578125]], [[0.0067893266677856445]], [[-0.00034743547439575195]], [[4.985928535461426e-05]], [[0.0003955364227294922]], [[-0.007386207580566406]], [[0.1502208709716797]], [[-0.05327177047729492]], [[0.00013227853924036026]], [[-0.0012168735265731812]], [[-0.0012280791997909546]], [[-0.021798551082611084]], [[-0.001275874674320221]], [[-0.006322793662548065]], [[-0.0009949803352355957]], [[0.0698552131652832]], [[-0.019248604774475098]], [[-0.0035550594329833984]], [[0.00033579766750335693]], [[-0.022203683853149414]], [[-0.047138214111328125]], [[4.111975431442261e-05]], [[0.016221284866333008]], [[-0.018303871154785156]], [[-0.030181407928466797]], [[-0.015289783477783203]], [[0.01363515853881836]], [[-0.008981823921203613]], [[0.024682998657226562]], [[1.0522082448005676e-05]], [[-0.0088844895362854]], [[-0.006505489349365234]], [[0.0]], [[0.0]], [[-0.0005269050598144531]], [[0.00130462646484375]], [[0.0]], [[0.004534482955932617]], [[0.005635738372802734]], [[-0.014948844909667969]], [[-0.00026422739028930664]], [[0.002068042755126953]], [[-0.0004153251647949219]], [[0.000118255615234375]], [[-0.00032520294189453125]], [[-0.002445220947265625]], [[0.05647611618041992]], [[0.011361956596374512]], [[-0.01767444610595703]], [[-0.003913402557373047]], [[0.0026895999908447266]], [[-0.0013666152954101562]], [[0.00040402263402938843]], [[0.0034769773483276367]], [[0.0028471946716308594]], [[0.00022017955780029297]], [[0.00469970703125]], [[0.004689335823059082]], [[0.042054176330566406]], [[-0.025165319442749023]], [[0.002219676971435547]], [[0.0023520588874816895]], [[0.0026047229766845703]], [[-0.004454970359802246]], [[-0.0033502578735351562]], [[0.003371000289916992]], [[0.0014123916625976562]], [[0.00024356693029403687]], [[3.5159289836883545e-05]], [[0.0038847923278808594]], [[0.017811298370361328]], [[0.0010069608688354492]], [[0.0]], [[0.0]], [[0.0]], [[0.0]], [[-0.0002505779266357422]], [[-0.0006084442138671875]], [[-0.010508537292480469]], [[-0.02149653434753418]], [[0.0070037841796875]], [[0.012836456298828125]], [[0.003001093864440918]], [[-0.0010824203491210938]], [[-0.15459060668945312]], [[0.02586650848388672]], [[0.01954174041748047]], [[-0.031228065490722656]], [[0.004570960998535156]], [[0.0011849403381347656]], [[-0.0014421939849853516]], [[0.0023927688598632812]], [[-0.17483186721801758]], [[-0.15117168426513672]], [[0.0038366317749023438]], [[0.0027538537979125977]], [[0.01005411148071289]], [[0.013397216796875]], [[0.002642512321472168]], [[-0.010433197021484375]], [[-0.005749702453613281]], [[0.007315397262573242]], [[-0.024347305297851562]], [[0.011211872100830078]], [[-0.005810737609863281]], [[0.03584003448486328]], [[0.02913951873779297]], [[0.0018444061279296875]], [[-0.009600639343261719]], [[-0.004693508148193359]], [[0.013007164001464844]], [[4.8832967877388e-05]], [[0.0]], [[0.0]], [[0.0]], [[0.0]], [[0.07296085357666016]], [[0.0029694437980651855]], [[0.008685588836669922]], [[0.0076007843017578125]], [[0.002384185791015625]], [[0.0033593177795410156]], [[0.001238107681274414]], [[0.008761405944824219]], [[0.003387451171875]], [[-0.0016965866088867188]], [[0.0007287859916687012]], [[-0.02362203598022461]], [[-0.03687489032745361]], [[0.07537698745727539]], [[-0.0018634796142578125]], [[-0.0006287097930908203]], [[-0.001771003007888794]], [[-0.010090827941894531]], [[2.0341947674751282e-05]], [[-0.00498276948928833]], [[2.426188439130783e-05]], [[-1.899711787700653e-05]], [[-0.04831719398498535]], [[-8.957274258136749e-05]], [[1.7428305000066757e-05]], [[-2.0099803805351257e-05]], [[0.00013947486877441406]], [[0.05387711524963379]], [[0.00013435259461402893]], [[5.8836303651332855e-05]], [[-0.017474085092544556]], [[0.39814138412475586]], [[-0.0009491294622421265]], [[0.04684734344482422]], [[2.61012464761734e-05]], [[-0.0005335509777069092]], [[0.0]], [[0.0]], [[-0.0034427642822265625]], [[0.002596735954284668]], [[0.007297515869140625]], [[0.011205673217773438]], [[0.12556886672973633]], [[0.05129432678222656]], [[0.0021982192993164062]], [[-0.0019130706787109375]], [[0.009903430938720703]], [[0.0006976127624511719]], [[0.0008270740509033203]], [[-0.00022280216217041016]], [[0.014101982116699219]], [[0.0007257461547851562]], [[-0.0038514137268066406]], [[0.010043144226074219]], [[2.2643653210252523e-06]], [[-0.001766204833984375]], [[-0.0005435943603515625]], [[0.005014896392822266]], [[0.0019450187683105469]], [[0.0005121231079101562]], [[0.000263214111328125]], [[0.0002243518829345703]], [[0.001743316650390625]], [[-0.003318309783935547]], [[0.0013451576232910156]], [[-0.0010819435119628906]], [[0.00023102760314941406]], [[-0.004542112350463867]], [[0.0051555633544921875]], [[0.0010383129119873047]], [[0.00010490790009498596]], [[-0.00017224252223968506]], [[0.0019030570983886719]], [[0.0006947517395019531]], [[0.0007824897766113281]], [[0.001157522201538086]], [[0.0]], [[0.0]], [[1.68532133102417e-05]], [[0.0]], [[0.0]], [[9.059906005859375e-05]], [[-2.9325485229492188e-05]], [[0.0]], [[3.2782554626464844e-05]], [[0.0]], [[0.0]], [[0.0002570152282714844]], [[0.00022399425506591797]], [[0.0]], [[-0.0035772323608398438]], [[-0.022995948791503906]], [[0.003943443298339844]], [[-0.03890228271484375]], [[-0.0017073750495910645]], [[0.009585142135620117]], [[-0.005558967590332031]], [[-0.06537950038909912]], [[-0.0002963542938232422]], [[-0.0008068382740020752]], [[-0.0049446821212768555]], [[-0.0005364418029785156]], [[0.002186298370361328]], [[5.7853758335113525e-05]], [[0.0018532276153564453]], [[0.016196727752685547]], [[0.006670951843261719]], [[0.0028281211853027344]], [[0.008223772048950195]], [[-0.02618885040283203]], [[0.019341707229614258]], [[0.0022859573364257812]], [[-0.0026254653930664062]], [[0.0011475086212158203]], [[0.0053195953369140625]], [[-0.03276395797729492]], [[0.0]], [[0.0]], [[0.0]], [[0.00025272369384765625]], [[1.1920928955078125e-05]], [[0.00011587142944335938]], [[9.5367431640625e-06]], [[0.000263214111328125]], [[-1.621246337890625e-05]], [[-2.5033950805664062e-06]], [[0.0001913309097290039]], [[0.0011501312255859375]], [[-0.000499725341796875]], [[0.0]], [[0.001495361328125]], [[-2.980232238769531e-07]], [[2.3096799850463867e-07]], [[-4.76837158203125e-07]], [[0.0]], [[0.0]], [[0.0]], [[-0.0036296844482421875]], [[-0.027332544326782227]], [[-0.010049819946289062]], [[0.019861221313476562]], [[0.0040509700775146484]], [[0.002960681915283203]], [[-2.3365020751953125e-05]], [[0.0002846717834472656]], [[-0.0003178715705871582]], [[-0.0036563873291015625]], [[-0.0023267269134521484]], [[0.001262664794921875]], [[0.0006003379821777344]], [[0.0001989603042602539]], [[-0.0072203874588012695]], [[-0.030821800231933594]], [[-0.00080108642578125]], [[0.0004405975341796875]], [[-0.0016565322875976562]], [[0.0]], [[0.0]], [[0.0]], [[-2.574920654296875e-05]], [[0.00019550323486328125]], [[1.7404556274414062e-05]], [[8.296966552734375e-05]], [[-1.728534698486328e-05]], [[-0.00011348724365234375]], [[9.324401617050171e-06]], [[0.0]], [[-0.014026165008544922]], [[0.00157928466796875]], [[-0.00048160552978515625]], [[1.2446194887161255e-05]], [[-0.00525665283203125]], [[0.00030499696731567383]], [[0.0003409385681152344]], [[-0.00017309188842773438]], [[4.494190216064453e-05]], [[-0.00018298625946044922]], [[0.0005741119384765625]], [[0.0001659393310546875]], [[8.380413055419922e-05]], [[0.00025022029876708984]], [[-0.002911090850830078]], [[-2.246350049972534e-06]], [[-0.0005555152893066406]], [[0.0003357231616973877]], [[0.00014829635620117188]], [[0.0020055770874023438]], [[0.0002837181091308594]], [[0.0012478828430175781]], [[0.0007874965667724609]], [[-0.0003070831298828125]], [[7.62939453125e-06]], [[-0.0005583763122558594]], [[1.1827796697616577e-07]], [[0.0007054805755615234]], [[0.0002493858337402344]], [[0.0]], [[0.0]], [[0.0]], [[-1.049041748046875e-05]], [[-4.410743713378906e-06]], [[-7.867813110351562e-05]], [[0.0]], [[0.0]], [[0.0]], [[-2.7179718017578125e-05]], [[-3.337860107421875e-06]], [[-6.4373016357421875e-06]], [[2.5272369384765625e-05]], [[0.0]], [[0.0]], [[3.337860107421875e-06]], [[0.0]], [[0.0]], [[0.0]], [[0.0]], [[0.0]], [[8.344650268554688e-06]], [[0.0]], [[0.0]], [[0.0]], [[-0.00015974044799804688]], [[0.0]], [[-3.8623809814453125e-05]], [[-0.00025177001953125]], [[-7.748603820800781e-07]], [[0.0]], [[0.0]], [[1.0848045349121094e-05]], [[0.0]], [[0.0]], [[0.0]], [[0.0]], [[0.0]], [[-0.004911288619041443]], [[0.00015997886657714844]], [[0.0]]], \"firstDimensionName\": \"Layer\", \"secondDimensionName\": \"Neuron\"}\n",
       "    )\n",
       "    </script>"
      ],
      "text/plain": [
       "<circuitsvis.utils.render.RenderedHTML at 0x7fe9372b1630>"
      ]
     },
     "execution_count": 82,
     "metadata": {},
     "output_type": "execute_result"
    }
   ],
   "source": [
    "ablate_feature_direction_display(full_text, autoencoder, model, layer, features=best_feature)"
   ]
  },
  {
   "cell_type": "code",
   "execution_count": 84,
   "metadata": {},
   "outputs": [
    {
     "name": "stdout",
     "output_type": "stream",
     "text": [
      "['obar', 'osa', 'antly', ' illum', 'ama', 'oku', 'ftware', 'ordo', 'framework', 'gradle', 'ply', ' mant', 'odal', 'ingly', ' brackets', ' hips', ' yoga', ' Yoga', 'student', 'avia']\n",
      "tensor([1.8662, 1.5685, 1.4807, 1.4003, 1.3656, 1.3377, 1.3342, 1.2819, 1.2748,\n",
      "        1.2736, 1.2726, 1.2630, 1.2535, 1.2501, 1.2482, 1.2402, 1.2378, 1.2351,\n",
      "        1.2312, 1.2129])\n"
     ]
    }
   ],
   "source": [
    "logit_lens(model, best_feature, autoencoder.get_learned_dict())"
   ]
  }
 ],
 "metadata": {
  "kernelspec": {
   "display_name": "logan",
   "language": "python",
   "name": "python3"
  },
  "language_info": {
   "codemirror_mode": {
    "name": "ipython",
    "version": 3
   },
   "file_extension": ".py",
   "mimetype": "text/x-python",
   "name": "python",
   "nbconvert_exporter": "python",
   "pygments_lexer": "ipython3",
   "version": "3.10.13"
  },
  "orig_nbformat": 4
 },
 "nbformat": 4,
 "nbformat_minor": 2
}
