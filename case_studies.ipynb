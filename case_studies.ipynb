{
 "cells": [
  {
   "cell_type": "code",
   "execution_count": 2,
   "metadata": {},
   "outputs": [
    {
     "name": "stderr",
     "output_type": "stream",
     "text": [
      "/home/mchorse/miniconda3/envs/logan/lib/python3.10/site-packages/tqdm/auto.py:21: TqdmWarning: IProgress not found. Please update jupyter and ipywidgets. See https://ipywidgets.readthedocs.io/en/stable/user_install.html\n",
      "  from .autonotebook import tqdm as notebook_tqdm\n"
     ]
    }
   ],
   "source": [
    "import torch\n",
    "from transformer_lens import HookedTransformer\n",
    "import numpy as np \n",
    "from torch import nn\n",
    "import pickle\n",
    "\n",
    "# Define the autoencoder so pickle knows how to serialize it. \n",
    "# Later, we should actually save as a state_dict instead of a dumb pickle\n",
    "class AutoEncoder(nn.Module):\n",
    "    def __init__(self, activation_size, n_dict_components, t_type=torch.float32, l1_coef=0.0):\n",
    "        super(AutoEncoder, self).__init__()\n",
    "        \n",
    "        # Only defining the decoder layer, encoder will share its weights\n",
    "        self.decoder = nn.Linear(n_dict_components, activation_size, bias=True)\n",
    "        # Create a bias layer\n",
    "        self.encoder_bias= nn.Parameter(torch.zeros(n_dict_components))\n",
    "\n",
    "        \n",
    "        # Initialize the decoder weights orthogonally\n",
    "        nn.init.orthogonal_(self.decoder.weight)\n",
    "        self.decoder = self.decoder.to(t_type)\n",
    "\n",
    "        # Encoder is a Sequential with the ReLU activation\n",
    "        # No need to define a Linear layer for the encoder as its weights are tied with the decoder\n",
    "        self.encoder = nn.Sequential(nn.ReLU()).to(t_type)\n",
    "\n",
    "        self.l1_coef = l1_coef\n",
    "        self.activation_size = activation_size\n",
    "        self.n_dict_components = n_dict_components\n",
    "\n",
    "    def forward(self, x):\n",
    "        c = self.encoder(x @ self.decoder.weight + self.encoder_bias)\n",
    "        # Apply unit norm constraint to the decoder weights\n",
    "        self.decoder.weight.data = nn.functional.normalize(self.decoder.weight.data, dim=0)\n",
    "\n",
    "        # Decoding step as before\n",
    "        x_hat = self.decoder(c)\n",
    "        return x_hat, c\n",
    "\n",
    "\n",
    "    @property\n",
    "    def device(self):\n",
    "        return next(self.parameters()).device"
   ]
  },
  {
   "cell_type": "code",
   "execution_count": 3,
   "metadata": {},
   "outputs": [
    {
     "name": "stderr",
     "output_type": "stream",
     "text": [
      "Using pad_token, but it is not set yet.\n"
     ]
    },
    {
     "name": "stdout",
     "output_type": "stream",
     "text": [
      "Loaded pretrained model EleutherAI/pythia-70m-deduped into HookedTransformer\n",
      "torch.Size([512, 512])\n",
      "torch.Size([1024, 512])\n",
      "torch.Size([2048, 512])\n",
      "torch.Size([4096, 512])\n",
      "torch.Size([8192, 512])\n",
      "len of autoencoders:  1\n",
      "smaller_dict.shape:  torch.Size([4096, 512])\n",
      "larger_dict.shape:  torch.Size([8192, 512])\n"
     ]
    }
   ],
   "source": [
    "filename = \"ae4.pkl\"\n",
    "layer = 4\n",
    "setting = \"residual\"\n",
    "model_name = \"EleutherAI/pythia-70m-deduped\"\n",
    "\n",
    "device = torch.device(\"cuda:5\" if torch.cuda.is_available() else \"cpu\")\n",
    "model = HookedTransformer.from_pretrained(model_name, device=device)\n",
    "\n",
    "if setting == \"residual\":\n",
    "    cache_name = f\"blocks.{layer}.hook_resid_post\"\n",
    "    neurons = model.cfg.d_model\n",
    "elif setting == \"mlp\":\n",
    "    cache_name = f\"blocks.{layer}.mlp.hook_post\"\n",
    "    neurons = model.cfg.d_mlp\n",
    "else:\n",
    "    raise NotImplementedError\n",
    "\n",
    "\n",
    "# Load the pickle file\n",
    "with open(filename, 'rb') as file:\n",
    "    autoencoders = pickle.load(file)\n",
    "\n",
    "# Index for l1 value, usually only 1 value is available\n",
    "l1_index = 0\n",
    "dictionaries = [autoencoder.decoder.weight.data.T for autoencoder in autoencoders[l1_index]]\n",
    "for d in dictionaries:\n",
    "    print(d.shape)\n",
    "print(\"len of autoencoders: \", len(autoencoders))\n",
    "dict_index = 3\n",
    "smaller_dict, larger_dict = dictionaries[dict_index], dictionaries[dict_index+1]\n",
    "smaller_auto_encoder, larger_auto_encoder = autoencoders[l1_index][dict_index], autoencoders[l1_index][dict_index+1]\n",
    "print(\"smaller_dict.shape: \", smaller_dict.shape)\n",
    "print(\"larger_dict.shape: \", larger_dict.shape)"
   ]
  },
  {
   "cell_type": "code",
   "execution_count": 4,
   "metadata": {},
   "outputs": [
    {
     "name": "stdout",
     "output_type": "stream",
     "text": [
      "('# of features above 0.9:', 2717)\n"
     ]
    },
    {
     "data": {
      "image/png": "[encoded data removed]",
      "text/plain": [
       "<Figure size 640x480 with 1 Axes>"
      ]
     },
     "metadata": {},
     "output_type": "display_data"
    }
   ],
   "source": [
    "from scipy.optimize import linear_sum_assignment\n",
    "import matplotlib.pyplot as plt\n",
    "#Dictionary Comparison\n",
    "smaller_dict_features, _ = smaller_dict.shape\n",
    "larger_dict_features, _ = larger_dict.shape\n",
    "larger_dict = larger_dict.to(device)\n",
    "# Hungary algorithm\n",
    "# Calculate all cosine similarities and store in a 2D array\n",
    "cos_sims = np.zeros((smaller_dict_features, larger_dict_features))\n",
    "for idx, vector in enumerate(smaller_dict):\n",
    "    cos_sims[idx] = torch.nn.functional.cosine_similarity(vector.to(device), larger_dict, dim=1).cpu().numpy()\n",
    "# Convert to a minimization problem\n",
    "cos_sims = 1 - cos_sims\n",
    "# Use the Hungarian algorithm to solve the assignment problem\n",
    "row_ind, col_ind = linear_sum_assignment(cos_sims)\n",
    "# Retrieve the max cosine similarities and corresponding indices\n",
    "max_cosine_similarities = 1 - cos_sims[row_ind, col_ind]\n",
    "\n",
    "# Get the indices of the max cosine similarities in descending order\n",
    "max_indices = np.argsort(max_cosine_similarities)[::-1].copy()\n",
    "print((\"# of features above 0.9:\", (max_cosine_similarities > .9).sum()))\n",
    "# Plot histogram of max_cosine_similarities\n",
    "plt.hist(max_cosine_similarities, bins=20)\n",
    "plt.show()"
   ]
  },
  {
   "cell_type": "code",
   "execution_count": 5,
   "metadata": {},
   "outputs": [
    {
     "name": "stderr",
     "output_type": "stream",
     "text": [
      "Found cached dataset parquet (/home/mchorse/.cache/huggingface/datasets/NeelNanda___parquet/NeelNanda--pile-10k-72f566e9f7c464ab/0.0.0/2a3b91fbd88a2c90d1dbbb32b460cf621d31bd5b05b934492fdef7d8d6f236ec)\n",
      "Loading cached processed dataset at /home/mchorse/.cache/huggingface/datasets/NeelNanda___parquet/NeelNanda--pile-10k-72f566e9f7c464ab/0.0.0/2a3b91fbd88a2c90d1dbbb32b460cf621d31bd5b05b934492fdef7d8d6f236ec/cache-3d918a3b8bb67278.arrow\n",
      "Loading cached processed dataset at /home/mchorse/.cache/huggingface/datasets/NeelNanda___parquet/NeelNanda--pile-10k-72f566e9f7c464ab/0.0.0/2a3b91fbd88a2c90d1dbbb32b460cf621d31bd5b05b934492fdef7d8d6f236ec/cache-936b79d074ce1a9e.arrow\n",
      "Loading cached processed dataset at /home/mchorse/.cache/huggingface/datasets/NeelNanda___parquet/NeelNanda--pile-10k-72f566e9f7c464ab/0.0.0/2a3b91fbd88a2c90d1dbbb32b460cf621d31bd5b05b934492fdef7d8d6f236ec/cache-5899fa893faa3f67.arrow\n"
     ]
    }
   ],
   "source": [
    "# Downnload dataset\n",
    "from datasets import Dataset, load_dataset\n",
    "dataset_name = \"NeelNanda/pile-10k\"\n",
    "token_amount= 40\n",
    "dataset = load_dataset(dataset_name, split=\"train\").map(\n",
    "    lambda x: model.tokenizer(x['text']),\n",
    "    batched=True,\n",
    ").filter(\n",
    "    lambda x: len(x['input_ids']) > token_amount\n",
    ").map(\n",
    "    lambda x: {'input_ids': x['input_ids'][:token_amount]}\n",
    ")"
   ]
  },
  {
   "cell_type": "code",
   "execution_count": 6,
   "metadata": {},
   "outputs": [
    {
     "name": "stderr",
     "output_type": "stream",
     "text": [
      "100%|██████████| 155/155 [00:05<00:00, 29.36it/s]\n"
     ]
    }
   ],
   "source": [
    "# Now we can use the model to get the activations\n",
    "from torch.utils.data import DataLoader\n",
    "from tqdm.auto import tqdm\n",
    "from einops import rearrange\n",
    "# neurons = model.W_in.shape[-1]\n",
    "neurons = model.cfg.d_model\n",
    "datapoints = dataset.num_rows\n",
    "batch_size = 64\n",
    "neuron_activations = torch.zeros((datapoints*token_amount, neurons))\n",
    "dictionary_activations = torch.zeros((datapoints*token_amount, smaller_dict_features))\n",
    "smaller_auto_encoder = smaller_auto_encoder.to(device)\n",
    "\n",
    "with torch.no_grad(), dataset.formatted_as(\"pt\"):\n",
    "    dl = DataLoader(dataset[\"input_ids\"], batch_size=batch_size)\n",
    "    for i, batch in enumerate(tqdm(dl)):\n",
    "        _, cache = model.run_with_cache(batch.to(device))\n",
    "        batched_neuron_activations = rearrange(cache[cache_name], \"b s n -> (b s) n\" )\n",
    "        neuron_activations[i*batch_size*token_amount:(i+1)*batch_size*token_amount,:] = batched_neuron_activations.cpu()\n",
    "        reconstruction, batched_dictionary_activations = smaller_auto_encoder(batched_neuron_activations)\n",
    "        dictionary_activations[i*batch_size*token_amount:(i+1)*batch_size*token_amount,:] = batched_dictionary_activations.cpu()"
   ]
  },
  {
   "cell_type": "code",
   "execution_count": 7,
   "metadata": {},
   "outputs": [],
   "source": [
    "from circuitsvis.activations import text_neuron_activations\n",
    "# Get the activations for the best dict features\n",
    "def get_feature_datapoints(feature_index, dictionary_activations, dataset, k=10, setting=\"max\"):\n",
    "    best_feature_activations = dictionary_activations[:, feature_index]\n",
    "    # Sort the features by activation, get the indices\n",
    "    if setting==\"max\":\n",
    "        found_indices = torch.argsort(best_feature_activations, descending=True)[:k]\n",
    "    elif setting==\"uniform\":\n",
    "        min_value = torch.min(best_feature_activations)\n",
    "        max_value = torch.max(best_feature_activations)\n",
    "\n",
    "        # Define the number of bins\n",
    "        num_bins = k\n",
    "\n",
    "        # Calculate the bin boundaries as linear interpolation between min and max\n",
    "        bin_boundaries = torch.linspace(min_value, max_value, num_bins + 1)\n",
    "\n",
    "        # Assign each activation to its respective bin\n",
    "        bins = torch.bucketize(best_feature_activations, bin_boundaries)\n",
    "\n",
    "        # Initialize a list to store the sampled indices\n",
    "        sampled_indices = []\n",
    "\n",
    "        # Sample from each bin\n",
    "        for bin_idx in torch.unique(bins):\n",
    "            # Get the indices corresponding to the current bin\n",
    "            bin_indices = torch.nonzero(bins == bin_idx, as_tuple=False).squeeze(dim=1)\n",
    "            \n",
    "            # Randomly sample from the current bin\n",
    "            sampled_indices.extend(np.random.choice(bin_indices, size=1, replace=False))\n",
    "\n",
    "        # Convert the sampled indices to a PyTorch tensor & reverse order\n",
    "        found_indices = torch.tensor(sampled_indices).long().flip(dims=[0])\n",
    "    else: # random\n",
    "        # get nonzero indices\n",
    "        nonzero_indices = torch.nonzero(best_feature_activations)[:, 0]\n",
    "        # shuffle\n",
    "        shuffled_indices = nonzero_indices[torch.randperm(nonzero_indices.shape[0])]\n",
    "        found_indices = shuffled_indices[:k]\n",
    "    datapoint_indices =[np.unravel_index(i, (datapoints, token_amount)) for i in found_indices]\n",
    "    text_list = []\n",
    "    full_text = []\n",
    "    token_list = []\n",
    "    full_token_list = []\n",
    "    for md, s_ind in datapoint_indices:\n",
    "        md = int(md)\n",
    "        s_ind = int(s_ind)\n",
    "        full_tok = torch.tensor(dataset[md][\"input_ids\"])\n",
    "        full_text.append(model.tokenizer.decode(full_tok))\n",
    "        tok = dataset[md][\"input_ids\"][:s_ind+1]\n",
    "        text = model.tokenizer.decode(tok)\n",
    "        text_list.append(text)\n",
    "        token_list.append(tok)\n",
    "        full_token_list.append(full_tok)\n",
    "    return text_list, full_text, token_list, full_token_list\n",
    "\n",
    "def get_neuron_activation(token, feature, model, setting=\"dictionary_basis\"):\n",
    "    with torch.no_grad():\n",
    "        _, cache = model.run_with_cache(token.to(model.cfg.device))\n",
    "        neuron_act_batch = cache[cache_name]\n",
    "        if setting==\"dictionary_basis\":\n",
    "            _, act = smaller_auto_encoder(neuron_act_batch)\n",
    "            return act[0, :, feature].tolist()\n",
    "        else: # neuron/residual basis\n",
    "            return neuron_act_batch[0, :, feature].tolist()\n",
    "\n",
    "def ablate_text(text, feature, model, setting=\"plot\"):\n",
    "    if isinstance(text, str):\n",
    "        text = [text]\n",
    "    display_text_list = []\n",
    "    activation_list = []\n",
    "    for t in text:\n",
    "        # Convert text into tokens\n",
    "        if isinstance(t, str): # If the text is a list of tokens\n",
    "            split_text = model.to_str_tokens(t, prepend_bos=False)\n",
    "            tokens = model.to_tokens(t, prepend_bos=False)\n",
    "        else: # t equals tokens\n",
    "            tokens = t\n",
    "            split_text = model.to_str_tokens(t, prepend_bos=False)\n",
    "        seq_size = tokens.shape[1]\n",
    "        if(seq_size == 1): # If the text is a single token, we can't ablate it\n",
    "            continue\n",
    "        original = get_neuron_activation(tokens, feature, model)[-1]\n",
    "        changed_activations = torch.zeros(seq_size, device=device).cpu()\n",
    "        for i in range(seq_size):\n",
    "            # Remove the i'th token from the input\n",
    "            ablated_tokens = torch.cat((tokens[:,:i], tokens[:,i+1:]), dim=1)\n",
    "            changed_activations[i] += get_neuron_activation(ablated_tokens, feature, model)[-1]\n",
    "        changed_activations -= original\n",
    "        display_text_list += [x.replace('\\n', '\\\\newline') for x in split_text] + [\"\\n\"]\n",
    "        activation_list += changed_activations.tolist() + [0.0]\n",
    "    activation_list = torch.tensor(activation_list).reshape(-1,1,1)\n",
    "    if setting == \"plot\":\n",
    "        return text_neuron_activations(tokens=display_text_list, activations=activation_list)\n",
    "    else:\n",
    "        return display_text_list, activation_list\n",
    "def visualize_text(text, feature, model, setting=\"dictionary_basis\", max_activation = None):\n",
    "    if isinstance(text, str):\n",
    "        text = [text]\n",
    "    if isinstance(feature, int):\n",
    "        feature = [feature]\n",
    "    display_text_list = []\n",
    "    act_list = []\n",
    "    for t in text:\n",
    "        if isinstance(t, str): # If the text is a list of tokens\n",
    "            split_text = model.to_str_tokens(t, prepend_bos=False)\n",
    "            token = model.to_tokens(t, prepend_bos=False)\n",
    "        else: # t are tokens\n",
    "            token = t\n",
    "            split_text = model.to_str_tokens(t, prepend_bos=False)\n",
    "        for f in feature:\n",
    "            display_text_list += [x.replace('\\n', '\\\\newline') for x in split_text] + [\"\\n\"]\n",
    "            act_list += get_neuron_activation(token, f, model, setting) + [0.0]\n",
    "    act_list = torch.tensor(act_list).reshape(-1,1,1)\n",
    "    if(max_activation is not None):\n",
    "        act_list = torch.clamp(act_list, max=max_activation)\n",
    "    return text_neuron_activations(tokens=display_text_list, activations=act_list)\n",
    "# Ablate the feature direction of the tokens\n",
    "# token_list is a list of tokens, convert to tensor of shape (batch_size, seq_len)\n",
    "from einops import rearrange\n",
    "def ablate_feature_direction(tokens, feature, model, autoencoder, entire_feature_direction=False):\n",
    "    def mlp_ablation_hook(value, hook):\n",
    "        # Rearrange to fit autoencoder\n",
    "        int_val = rearrange(value, 'b s h -> (b s) h')\n",
    "\n",
    "        # Run through the autoencoder\n",
    "        _, act = autoencoder(int_val)\n",
    "        feature_to_ablate = feature # TODO: bring this out of the function\n",
    "\n",
    "        # Subtract value with feature direction*act_of_feature\n",
    "        feature_direction = torch.outer(act[:, feature_to_ablate].squeeze(), autoencoder.decoder.weight[:, feature_to_ablate].squeeze())\n",
    "        batch, seq_len, hidden_size = value.shape\n",
    "        feature_direction = rearrange(feature_direction, '(b s) h -> b s h', b=batch, s=seq_len)\n",
    "        value -= feature_direction\n",
    "        return value\n",
    "    \n",
    "    def ablated_this_feature_dir(value, hook):\n",
    "        value -= feature\n",
    "        return value\n",
    "    if(entire_feature_direction):\n",
    "        return model.run_with_hooks(tokens, \n",
    "            fwd_hooks=[(\n",
    "                cache_name, \n",
    "                ablated_this_feature_dir\n",
    "                )]\n",
    "            )\n",
    "    else:\n",
    "        return model.run_with_hooks(tokens, \n",
    "            fwd_hooks=[(\n",
    "                cache_name, \n",
    "                mlp_ablation_hook\n",
    "                )]\n",
    "            )\n",
    "\n",
    "def add_feature_direction(tokens, feature, model, autoencoder, scalar=1.0):\n",
    "    def residual_add_hook(value, hook):\n",
    "        feature_direction = autoencoder.decoder.weight[:, feature].squeeze()\n",
    "        value += scalar*feature_direction\n",
    "        return value\n",
    "\n",
    "    return model.run_with_hooks(tokens, \n",
    "        fwd_hooks=[(\n",
    "            cache_name,\n",
    "            residual_add_hook\n",
    "            )]\n",
    "        )\n",
    "def ablate_feature_direction_display(text, features=None, setting=\"true_tokens\", verbose=False, entire_feature_direction=False):\n",
    "\n",
    "    if features==None:\n",
    "        features = torch.tensor([best_feature])\n",
    "    if isinstance(features, int):\n",
    "        features = torch.tensor([features])\n",
    "    if isinstance(features, list):\n",
    "        features = torch.tensor(features)\n",
    "    if isinstance(text, str):\n",
    "        text = [text]\n",
    "    text_list = []\n",
    "    logit_list = []\n",
    "    for t in text:\n",
    "        tokens = model.to_tokens(t, prepend_bos=False)\n",
    "        with torch.no_grad():\n",
    "            original_logits = model(tokens).log_softmax(-1).cpu()\n",
    "            ablated_logits = ablate_feature_direction(tokens, features, model, smaller_auto_encoder, entire_feature_direction).log_softmax(-1).cpu()\n",
    "        diff_logits = ablated_logits  - original_logits# ablated > original -> negative diff\n",
    "        tokens = tokens.cpu()\n",
    "        if setting == \"true_tokens\":\n",
    "            split_text = model.to_str_tokens(t, prepend_bos=False)\n",
    "            gather_tokens = rearrange(tokens[:,1:], \"b s -> b s 1\") # TODO: verify this is correct\n",
    "            # Gather the logits for the true tokens\n",
    "            diff = rearrange(diff_logits[:, :-1].gather(-1,gather_tokens), \"b s n -> (b s n)\")\n",
    "        elif setting == \"max\":\n",
    "            # Negate the diff_logits to see which tokens have the largest effect on the neuron\n",
    "            val, ind = (-1*diff_logits).max(-1)\n",
    "            diff = rearrange(val[:, :-1], \"b s -> (b s)\")\n",
    "            diff*= -1 # Negate the values gathered\n",
    "            split_text = model.to_str_tokens(ind, prepend_bos=False)\n",
    "            gather_tokens = rearrange(ind[:,1:], \"1 s -> 1 s 1\")\n",
    "        split_text = split_text[1:] # Remove the first token since we're not predicting it\n",
    "        if(verbose):\n",
    "            text_list += [x.replace('\\n', '\\\\newline') for x in split_text] + [\"\\n\"]\n",
    "            text_list += [x.replace('\\n', '\\\\newline') for x in split_text] + [\"\\n\"]\n",
    "            orig = rearrange(original_logits[:, :-1].gather(-1, gather_tokens), \"b s n -> (b s n)\")\n",
    "            ablated = rearrange(ablated_logits[:, :-1].gather(-1, gather_tokens), \"b s n -> (b s n)\")\n",
    "            logit_list += orig.tolist() + [0.0]\n",
    "            logit_list += ablated.tolist() + [0.0]\n",
    "        text_list += [x.replace('\\n', '\\\\newline') for x in split_text] + [\"\\n\"]\n",
    "        logit_list += diff.tolist() + [0.0]\n",
    "    logit_list = torch.tensor(logit_list).reshape(-1,1,1)\n",
    "    if verbose:\n",
    "        print(f\"Max & Min logit-diff: {logit_list.max().item():.2f} & {logit_list.min().item():.2f}\")\n",
    "    return text_neuron_activations(tokens=text_list, activations=logit_list)\n",
    "def generate_text(input_text, num_tokens, model, autoencoder, feature, temperature=0.7, setting=\"add\", scalar=1.0):\n",
    "    # Convert input text to tokens\n",
    "    input_ids = model.tokenizer.encode(input_text, return_tensors='pt').to(device)\n",
    "\n",
    "    for _ in range(num_tokens):\n",
    "        # Generate logits\n",
    "        with torch.no_grad():\n",
    "            if(setting==\"add\"):\n",
    "                logits = add_feature_direction(input_ids, feature, model, autoencoder, scalar=scalar)\n",
    "            else:\n",
    "                logits = model(input_ids)\n",
    "\n",
    "        # Apply temperature\n",
    "        logits = logits / temperature\n",
    "\n",
    "        # Sample from the distribution\n",
    "        probs = torch.nn.functional.softmax(logits[:, -1, :], dim=-1)\n",
    "        predicted_token = torch.multinomial(probs, num_samples=1)\n",
    "\n",
    "        # Append predicted token to input_ids\n",
    "        input_ids = torch.cat((input_ids, predicted_token), dim=-1)\n",
    "\n",
    "    # Decode the tokens to text\n",
    "    output_text = model.tokenizer.decode(input_ids[0])\n",
    "\n",
    "    return output_text\n",
    "\n",
    "# Logit Lens\n",
    "def logit_lens(model, best_feature, smaller_dict, layer):\n",
    "    with torch.no_grad():\n",
    "        # There are never-used tokens, which have high norm. We want to ignore these.\n",
    "        bad_ind = (model.W_U.norm(dim=0) > 20)\n",
    "        feature_direction = smaller_dict[best_feature].to(device)\n",
    "        # feature_direction = torch.matmul(feature_direction, model.W_out[layer]) # if MLP\n",
    "        logits = torch.matmul(feature_direction, model.W_U).cpu()\n",
    "    # Don't include bad indices\n",
    "    logits[bad_ind] = -1000\n",
    "    topk_values, topk_indices = torch.topk(logits, 20)\n",
    "    top_text = model.to_str_tokens(topk_indices)\n",
    "    print(f\"{top_text}\")\n",
    "    print(topk_values)\n"
   ]
  },
  {
   "cell_type": "code",
   "execution_count": 92,
   "metadata": {},
   "outputs": [
    {
     "name": "stdout",
     "output_type": "stream",
     "text": [
      "Bin 1\n",
      "Number of datapoints: 350\n",
      "’:    138 times\n",
      "':     25 times\n",
      "s:     20 times\n",
      "My:     18 times\n",
      " ‘:     12 times\n",
      "Your:      7 times\n",
      " number:      7 times\n",
      " ':      5 times\n",
      "2:      5 times\n",
      " 1990:      4 times\n",
      "Bin 2\n",
      "Number of datapoints: 160\n",
      "’:    125 times\n",
      "‘:     11 times\n",
      "':      5 times\n",
      " ’:      3 times\n",
      ".':      2 times\n",
      "1960:      1 times\n",
      "´:      1 times\n",
      "1970:      1 times\n",
      "1800:      1 times\n",
      "?’:      1 times\n",
      "Bin 3\n",
      "Number of datapoints: 94\n",
      "’:     86 times\n",
      "':      4 times\n",
      ".':      1 times\n",
      ":      1 times\n",
      "‘:      1 times\n",
      "1980:      1 times\n",
      "Bin 4\n",
      "Number of datapoints: 66\n",
      "’:     54 times\n",
      "':      3 times\n",
      "'':      2 times\n",
      ":      2 times\n",
      ";:      1 times\n",
      "€™:      1 times\n",
      "´:      1 times\n",
      ".’:      1 times\n",
      "\\':      1 times\n",
      "Bin 5\n",
      "Number of datapoints: 59\n",
      "’:     51 times\n",
      "':      4 times\n",
      "‘:      2 times\n",
      "\\':      1 times\n",
      ".’:      1 times\n",
      "Bin 6\n",
      "Number of datapoints: 70\n",
      "’:     70 times\n",
      "Bin 7\n",
      "Number of datapoints: 99\n",
      "’:     97 times\n",
      "‘:      1 times\n",
      "\\':      1 times\n",
      "Bin 8\n",
      "Number of datapoints: 123\n",
      "’:    122 times\n",
      "\\':      1 times\n",
      "Bin 9\n",
      "Number of datapoints: 91\n",
      "’:     91 times\n",
      "Bin 10\n",
      "Number of datapoints: 20\n",
      "’:     20 times\n"
     ]
    }
   ],
   "source": [
    "# 2079 2122 2118\n",
    "feature_index = 2118\n",
    "best_feature_activations = dictionary_activations[:, feature_index]\n",
    "\n",
    "min_value = torch.min(best_feature_activations)\n",
    "# second_minimum = 0.01\n",
    "max_value = torch.max(best_feature_activations)\n",
    "\n",
    "# Define the number of bins\n",
    "num_bins = 10\n",
    "\n",
    "# Calculate the bin boundaries as linear interpolation between min and max\n",
    "bin_boundaries = torch.linspace(min_value, max_value, num_bins+1)\n",
    "# bin_boundaries = torch.cat([bin_boundaries, torch.tensor([second_minimum])])\n",
    "# bin_boundaries = bin_boundaries.sort().values\n",
    "\n",
    "# Assign each activation to its respective bin\n",
    "bins = torch.bucketize(best_feature_activations, bin_boundaries)\n",
    "# Count the number of unique tokens\n",
    "num_unique_tokens = 5\n",
    "from collections import Counter\n",
    "nonzero = bins.nonzero()[:,0]\n",
    "datapoint_indices =[np.unravel_index(i, (datapoints, token_amount)) for i in nonzero]\n",
    "max_token = []\n",
    "for md, s_ind in datapoint_indices:\n",
    "    md = int(md)\n",
    "    s_ind = int(s_ind)\n",
    "    max_token.append(dataset[md][\"input_ids\"][s_ind])\n",
    "\n",
    "ac = Counter(max_token)\n",
    "max_tokens = [token_ind for token_ind, count in ac.most_common(num_unique_tokens)]\n",
    "token_dict = {token: np.zeros(num_bins) for token in max_tokens}\n",
    "misc_count = np.zeros(num_bins)\n",
    "for i in range(1,num_bins+1):\n",
    "    print(f'Bin {i}')\n",
    "    bin_tokens_ind = (bins == i).nonzero()[:,0]\n",
    "    print(f'Number of datapoints: {len(bin_tokens_ind)}')\n",
    "    # Grab the datapoint for each nonzero bin\n",
    "    datapoint_indices =[np.unravel_index(ind, (datapoints, token_amount)) for ind in bin_tokens_ind]\n",
    "    max_token = []\n",
    "    for md, s_ind in datapoint_indices:\n",
    "        md = int(md)\n",
    "        s_ind = int(s_ind)\n",
    "        max_token.append(dataset[md][\"input_ids\"][s_ind])\n",
    "    ac = Counter(max_token)\n",
    "    for token_ind, count in ac.most_common(10):\n",
    "        if(token_ind in max_tokens):\n",
    "            token_dict[token_ind][i-1] = count\n",
    "        else:\n",
    "            misc_count[i-1] += count\n",
    "        print(f'{model.tokenizer.decode(token_ind)}: {count:6} times')"
   ]
  },
  {
   "cell_type": "code",
   "execution_count": 79,
   "metadata": {},
   "outputs": [
    {
     "data": {
      "text/plain": [
       "torch.Size([394480, 4096])"
      ]
     },
     "execution_count": 79,
     "metadata": {},
     "output_type": "execute_result"
    }
   ],
   "source": [
    "dictionary_activations.shape"
   ]
  },
  {
   "cell_type": "code",
   "execution_count": 95,
   "metadata": {},
   "outputs": [
    {
     "data": {
      "image/png": "[encoded data removed]",
      "text/plain": [
       "<Figure size 640x480 with 1 Axes>"
      ]
     },
     "metadata": {},
     "output_type": "display_data"
    }
   ],
   "source": [
    "import matplotlib.pyplot as plt\n",
    "import numpy as np\n",
    "\n",
    "# Sample data\n",
    "data = np.random.rand(10)\n",
    "\n",
    "# Sample custom bin boundaries\n",
    "bin_boundaries = np.array([0.0000, 0.6026, 1.2051, 1.8077, 2.4102, 3.0128, 3.6154, 4.2179, 4.8205, 5.4230, 6.0256])\n",
    "\n",
    "# Compute the midpoints for bar positions\n",
    "r = (bin_boundaries[:-1] + bin_boundaries[1:]) / 2\n",
    "\n",
    "# Creating bar chart\n",
    "plt.bar(r, data, width=np.diff(bin_boundaries), align='center', edgecolor='black')\n",
    "\n",
    "# Setting the x-ticks\n",
    "plt.xticks(bin_boundaries, [f\"{val:.2f}\" for val in bin_boundaries])\n",
    "\n",
    "plt.show()\n"
   ]
  },
  {
   "cell_type": "code",
   "execution_count": 64,
   "metadata": {},
   "outputs": [
    {
     "ename": "AttributeError",
     "evalue": "'Tensor' object has no attribute 'append'",
     "output_type": "error",
     "traceback": [
      "\u001b[0;31m---------------------------------------------------------------------------\u001b[0m",
      "\u001b[0;31mAttributeError\u001b[0m                            Traceback (most recent call last)",
      "Cell \u001b[0;32mIn[64], line 1\u001b[0m\n\u001b[0;32m----> 1\u001b[0m bin_boundaries\u001b[39m.\u001b[39;49mappend(\u001b[39m0.01\u001b[39m)\n",
      "\u001b[0;31mAttributeError\u001b[0m: 'Tensor' object has no attribute 'append'"
     ]
    }
   ],
   "source": [
    "bin_boundaries.append(0.01)"
   ]
  },
  {
   "cell_type": "code",
   "execution_count": 45,
   "metadata": {},
   "outputs": [
    {
     "data": {
      "text/plain": [
       "tensor(5.)"
      ]
     },
     "execution_count": 45,
     "metadata": {},
     "output_type": "execute_result"
    }
   ],
   "source": [
    "min_value"
   ]
  },
  {
   "cell_type": "code",
   "execution_count": 36,
   "metadata": {},
   "outputs": [],
   "source": [
    "import re\n",
    "import numpy as np\n",
    "\n",
    "# Assuming you have a tokenizer like this (for example, from HuggingFace's tokenizers)\n",
    "  # Replace with your tokenizer\n",
    "\n",
    "def char_to_token_position(tokenized_output, char_idx):\n",
    "    \"\"\"\n",
    "    Given a char-level index in the original string, find the corresponding token-level index.\n",
    "    \"\"\"\n",
    "    token_positions = tokenized_output.char_to_token(char_idx)\n",
    "    return token_positions\n",
    "\n",
    "def find_text_in_regex(tokens, regex_pattern):\n",
    "    \"\"\"\n",
    "    Find tokens inside parentheses and return token-level start and end indices.\n",
    "    \"\"\"\n",
    "    detokenized_text = model.tokenizer.decode(tokens.input_ids)\n",
    "    \n",
    "    # Find matches in the detokenized text\n",
    "    pattern = re.compile(regex_pattern)\n",
    "    matches = pattern.finditer(detokenized_text)\n",
    "    \n",
    "    token_positions = []\n",
    "    for match in matches:\n",
    "        start_char, end_char = match.span()\n",
    "        start_token = char_to_token_position(tokens, start_char)\n",
    "        end_token = char_to_token_position(tokens, end_char)\n",
    "        token_positions.append((start_token, end_token))\n",
    "    return token_positions\n",
    "\n",
    "# Sample data\n",
    "texts = [\n",
    "    \"This is a sample (with something in parentheses) and\",\n",
    "    # ... more samples\n",
    "]\n",
    "\n",
    "# Inneficient way, but handles the token-to-string mapping\n",
    "regex_pattern =  r'(?<=\\().*?(?=\\))'\n",
    "texts = dataset[\"text\"]\n",
    "masks = []\n",
    "for text_ind, text in enumerate(texts):\n",
    "    tokens = model.tokenizer(text)\n",
    "    tokens['input_ids'] = tokens['input_ids'][:token_amount]\n",
    "    token_positions = find_text_in_regex(tokens, regex_pattern =regex_pattern)\n",
    "    mask = np.zeros(len(tokens.input_ids), dtype=int)  # Initial mask\n",
    "    for start, end in token_positions:\n",
    "        mask[start:end] = 1\n",
    "    masks.append(mask)"
   ]
  },
  {
   "cell_type": "code",
   "execution_count": 10,
   "metadata": {},
   "outputs": [
    {
     "data": {
      "text/plain": [
       "(9862, 40)"
      ]
     },
     "execution_count": 10,
     "metadata": {},
     "output_type": "execute_result"
    }
   ],
   "source": [
    "np.array(masks).shape"
   ]
  },
  {
   "cell_type": "code",
   "execution_count": 31,
   "metadata": {},
   "outputs": [
    {
     "name": "stdout",
     "output_type": "stream",
     "text": [
      "\n",
      "Bin 1\n",
      " (:    245 times\n",
      ".:    127 times\n",
      "\n",
      ":    111 times\n",
      "\n",
      "Bin 2\n",
      " (:     83 times\n",
      ".:     10 times\n",
      "\n",
      ":      4 times\n",
      "\n",
      "Bin 3\n",
      "\n",
      ":     10 times\n",
      " (:      5 times\n",
      "C:      3 times\n",
      "\n",
      "Bin 4\n",
      "H:      2 times\n",
      "Q:      2 times\n",
      "DR:      1 times\n",
      "\n",
      "Bin 5\n",
      "AC:      2 times\n",
      "SM:      1 times\n",
      "DX:      1 times\n",
      "\n",
      "Bin 6\n",
      "NA:      2 times\n",
      "PE:      1 times\n",
      "EM:      1 times\n",
      "\n",
      "Bin 7\n",
      "PC:      1 times\n",
      "s:      1 times\n",
      "AC:      1 times\n",
      "\n",
      "Bin 8\n",
      "PD:      2 times\n",
      "AC:      1 times\n",
      "MI:      1 times\n",
      "\n",
      "Bin 9\n",
      "MM:      1 times\n",
      "IP:      1 times\n",
      "S:      1 times\n",
      "\n",
      "Bin 10\n"
     ]
    }
   ],
   "source": [
    "# 2079 2122 2118\n",
    "feature_index = 2079\n",
    "best_feature_activations = dictionary_activations[:, feature_index]\n",
    "\n",
    "min_value = torch.min(best_feature_activations)\n",
    "max_value = torch.max(best_feature_activations)\n",
    "\n",
    "# Define the number of bins\n",
    "num_bins = 10\n",
    "\n",
    "# Calculate the bin boundaries as linear interpolation between min and max\n",
    "bin_boundaries = torch.linspace(min_value, max_value, num_bins + 1)\n",
    "\n",
    "# Assign each activation to its respective bin\n",
    "bins = torch.bucketize(best_feature_activations, bin_boundaries)\n",
    "# Count the number of unique tokens\n",
    "# num_unique_tokens = 5\n",
    "# from collections import Counter\n",
    "# nonzero = bins.nonzero()[:,0]\n",
    "# datapoint_indices =[np.unravel_index(i, (datapoints, token_amount)) for i in nonzero]\n",
    "# max_token = []\n",
    "# for md, s_ind in datapoint_indices:\n",
    "#     md = int(md)\n",
    "#     s_ind = int(s_ind)\n",
    "#     max_token.append(dataset[md][\"input_ids\"][s_ind])\n",
    "\n",
    "# ac = Counter(max_token)\n",
    "# max_tokens = [token_ind for token_ind, count in ac.most_common(num_unique_tokens)]\n",
    "# token_dict = {token: np.zeros(num_bins) for token in max_tokens}\n",
    "# misc_count = np.zeros(num_bins)\n",
    "regex_matches_vs_nonmatches = np.zeros((num_bins, 2))\n",
    "all_non_matched_tokens = []\n",
    "for i in range(1,num_bins+1):\n",
    "    bin_non_matched_tokens = []\n",
    "    bin_tokens_ind = (bins == i).nonzero()[:,0]\n",
    "    # Grab the datapoint for each nonzero bin\n",
    "    datapoint_indices =[np.unravel_index(i, (datapoints, token_amount)) for i in bin_tokens_ind]\n",
    "    max_token = []\n",
    "    for md, s_ind in datapoint_indices:\n",
    "        md = int(md)\n",
    "        s_ind = int(s_ind)\n",
    "        regex_matches_vs_nonmatches[i-1, masks[md][s_ind]] += 1\n",
    "        # Also count up instances of non-matches\n",
    "        if(not masks[md][s_ind]):\n",
    "            all_non_matched_tokens.append(dataset[md][\"input_ids\"][s_ind])\n",
    "            bin_non_matched_tokens.append(dataset[md][\"input_ids\"][s_ind])\n",
    "\n",
    "\n",
    "    #     max_token.append(dataset[md][\"input_ids\"][s_ind])\n",
    "    # ac = Counter(bin_non_matched_tokens)\n",
    "    # print(f'\\nBin {i}')\n",
    "    # for token_ind, count in ac.most_common(3):\n",
    "    #     print(f'{model.tokenizer.decode(token_ind)}: {count:6} times')"
   ]
  },
  {
   "cell_type": "code",
   "execution_count": 33,
   "metadata": {},
   "outputs": [
    {
     "data": {
      "text/plain": [
       "(10, 2)"
      ]
     },
     "execution_count": 33,
     "metadata": {},
     "output_type": "execute_result"
    }
   ],
   "source": [
    "regex_matches_vs_nonmatches.shape"
   ]
  },
  {
   "cell_type": "code",
   "execution_count": 86,
   "metadata": {},
   "outputs": [
    {
     "ename": "ValueError",
     "evalue": "The number of FixedLocator locations (10), usually from a call to set_ticks, does not match the number of labels (11).",
     "output_type": "error",
     "traceback": [
      "\u001b[0;31m---------------------------------------------------------------------------\u001b[0m",
      "\u001b[0;31mValueError\u001b[0m                                Traceback (most recent call last)",
      "Cell \u001b[0;32mIn[86], line 25\u001b[0m\n\u001b[1;32m     23\u001b[0m plt\u001b[39m.\u001b[39mtitle(\u001b[39mf\u001b[39m\u001b[39m'\u001b[39m\u001b[39mToken Count for Feature \u001b[39m\u001b[39m{\u001b[39;00mfeature_index\u001b[39m}\u001b[39;00m\u001b[39m Across Activation Ranges\u001b[39m\u001b[39m'\u001b[39m)\n\u001b[1;32m     24\u001b[0m plt\u001b[39m.\u001b[39mxlabel(\u001b[39m'\u001b[39m\u001b[39mActivation\u001b[39m\u001b[39m'\u001b[39m)\n\u001b[0;32m---> 25\u001b[0m plt\u001b[39m.\u001b[39;49mxticks(r, [\u001b[39mf\u001b[39;49m\u001b[39m\"\u001b[39;49m\u001b[39m{\u001b[39;49;00mval\u001b[39m:\u001b[39;49;00m\u001b[39m.1f\u001b[39;49m\u001b[39m}\u001b[39;49;00m\u001b[39m\"\u001b[39;49m \u001b[39mfor\u001b[39;49;00m val \u001b[39min\u001b[39;49;00m bin_boundaries[:]])\n\u001b[1;32m     26\u001b[0m plt\u001b[39m.\u001b[39mlegend()\n\u001b[1;32m     27\u001b[0m plt\u001b[39m.\u001b[39mtight_layout()\n",
      "File \u001b[0;32m~/miniconda3/envs/logan/lib/python3.10/site-packages/matplotlib/pyplot.py:1893\u001b[0m, in \u001b[0;36mxticks\u001b[0;34m(ticks, labels, minor, **kwargs)\u001b[0m\n\u001b[1;32m   1891\u001b[0m         l\u001b[39m.\u001b[39m_internal_update(kwargs)\n\u001b[1;32m   1892\u001b[0m \u001b[39melse\u001b[39;00m:\n\u001b[0;32m-> 1893\u001b[0m     labels \u001b[39m=\u001b[39m ax\u001b[39m.\u001b[39;49mset_xticklabels(labels, minor\u001b[39m=\u001b[39;49mminor, \u001b[39m*\u001b[39;49m\u001b[39m*\u001b[39;49mkwargs)\n\u001b[1;32m   1895\u001b[0m \u001b[39mreturn\u001b[39;00m locs, labels\n",
      "File \u001b[0;32m~/miniconda3/envs/logan/lib/python3.10/site-packages/matplotlib/axes/_base.py:74\u001b[0m, in \u001b[0;36m_axis_method_wrapper.__set_name__.<locals>.wrapper\u001b[0;34m(self, *args, **kwargs)\u001b[0m\n\u001b[1;32m     73\u001b[0m \u001b[39mdef\u001b[39;00m \u001b[39mwrapper\u001b[39m(\u001b[39mself\u001b[39m, \u001b[39m*\u001b[39margs, \u001b[39m*\u001b[39m\u001b[39m*\u001b[39mkwargs):\n\u001b[0;32m---> 74\u001b[0m     \u001b[39mreturn\u001b[39;00m get_method(\u001b[39mself\u001b[39;49m)(\u001b[39m*\u001b[39;49margs, \u001b[39m*\u001b[39;49m\u001b[39m*\u001b[39;49mkwargs)\n",
      "File \u001b[0;32m~/miniconda3/envs/logan/lib/python3.10/site-packages/matplotlib/_api/deprecation.py:297\u001b[0m, in \u001b[0;36mrename_parameter.<locals>.wrapper\u001b[0;34m(*args, **kwargs)\u001b[0m\n\u001b[1;32m    292\u001b[0m     warn_deprecated(\n\u001b[1;32m    293\u001b[0m         since, message\u001b[39m=\u001b[39m\u001b[39mf\u001b[39m\u001b[39m\"\u001b[39m\u001b[39mThe \u001b[39m\u001b[39m{\u001b[39;00mold\u001b[39m!r}\u001b[39;00m\u001b[39m parameter of \u001b[39m\u001b[39m{\u001b[39;00mfunc\u001b[39m.\u001b[39m\u001b[39m__name__\u001b[39m\u001b[39m}\u001b[39;00m\u001b[39m() \u001b[39m\u001b[39m\"\u001b[39m\n\u001b[1;32m    294\u001b[0m         \u001b[39mf\u001b[39m\u001b[39m\"\u001b[39m\u001b[39mhas been renamed \u001b[39m\u001b[39m{\u001b[39;00mnew\u001b[39m!r}\u001b[39;00m\u001b[39m since Matplotlib \u001b[39m\u001b[39m{\u001b[39;00msince\u001b[39m}\u001b[39;00m\u001b[39m; support \u001b[39m\u001b[39m\"\u001b[39m\n\u001b[1;32m    295\u001b[0m         \u001b[39mf\u001b[39m\u001b[39m\"\u001b[39m\u001b[39mfor the old name will be dropped %(removal)s.\u001b[39m\u001b[39m\"\u001b[39m)\n\u001b[1;32m    296\u001b[0m     kwargs[new] \u001b[39m=\u001b[39m kwargs\u001b[39m.\u001b[39mpop(old)\n\u001b[0;32m--> 297\u001b[0m \u001b[39mreturn\u001b[39;00m func(\u001b[39m*\u001b[39;49margs, \u001b[39m*\u001b[39;49m\u001b[39m*\u001b[39;49mkwargs)\n",
      "File \u001b[0;32m~/miniconda3/envs/logan/lib/python3.10/site-packages/matplotlib/axis.py:1969\u001b[0m, in \u001b[0;36mAxis.set_ticklabels\u001b[0;34m(self, labels, minor, fontdict, **kwargs)\u001b[0m\n\u001b[1;32m   1965\u001b[0m \u001b[39mif\u001b[39;00m \u001b[39misinstance\u001b[39m(locator, mticker\u001b[39m.\u001b[39mFixedLocator):\n\u001b[1;32m   1966\u001b[0m     \u001b[39m# Passing [] as a list of labels is often used as a way to\u001b[39;00m\n\u001b[1;32m   1967\u001b[0m     \u001b[39m# remove all tick labels, so only error for > 0 labels\u001b[39;00m\n\u001b[1;32m   1968\u001b[0m     \u001b[39mif\u001b[39;00m \u001b[39mlen\u001b[39m(locator\u001b[39m.\u001b[39mlocs) \u001b[39m!=\u001b[39m \u001b[39mlen\u001b[39m(labels) \u001b[39mand\u001b[39;00m \u001b[39mlen\u001b[39m(labels) \u001b[39m!=\u001b[39m \u001b[39m0\u001b[39m:\n\u001b[0;32m-> 1969\u001b[0m         \u001b[39mraise\u001b[39;00m \u001b[39mValueError\u001b[39;00m(\n\u001b[1;32m   1970\u001b[0m             \u001b[39m\"\u001b[39m\u001b[39mThe number of FixedLocator locations\u001b[39m\u001b[39m\"\u001b[39m\n\u001b[1;32m   1971\u001b[0m             \u001b[39mf\u001b[39m\u001b[39m\"\u001b[39m\u001b[39m (\u001b[39m\u001b[39m{\u001b[39;00m\u001b[39mlen\u001b[39m(locator\u001b[39m.\u001b[39mlocs)\u001b[39m}\u001b[39;00m\u001b[39m), usually from a call to\u001b[39m\u001b[39m\"\u001b[39m\n\u001b[1;32m   1972\u001b[0m             \u001b[39m\"\u001b[39m\u001b[39m set_ticks, does not match\u001b[39m\u001b[39m\"\u001b[39m\n\u001b[1;32m   1973\u001b[0m             \u001b[39mf\u001b[39m\u001b[39m\"\u001b[39m\u001b[39m the number of labels (\u001b[39m\u001b[39m{\u001b[39;00m\u001b[39mlen\u001b[39m(labels)\u001b[39m}\u001b[39;00m\u001b[39m).\u001b[39m\u001b[39m\"\u001b[39m)\n\u001b[1;32m   1974\u001b[0m     tickd \u001b[39m=\u001b[39m {loc: lab \u001b[39mfor\u001b[39;00m loc, lab \u001b[39min\u001b[39;00m \u001b[39mzip\u001b[39m(locator\u001b[39m.\u001b[39mlocs, labels)}\n\u001b[1;32m   1975\u001b[0m     func \u001b[39m=\u001b[39m functools\u001b[39m.\u001b[39mpartial(\u001b[39mself\u001b[39m\u001b[39m.\u001b[39m_format_with_dict, tickd)\n",
      "\u001b[0;31mValueError\u001b[0m: The number of FixedLocator locations (10), usually from a call to set_ticks, does not match the number of labels (11)."
     ]
    },
    {
     "data": {
      "image/png": "[encoded data removed]",
      "text/plain": [
       "<Figure size 640x480 with 1 Axes>"
      ]
     },
     "metadata": {},
     "output_type": "display_data"
    }
   ],
   "source": [
    "import matplotlib.pyplot as plt\n",
    "import numpy as np\n",
    "import seaborn as sns\n",
    "\n",
    "colors = sns.color_palette('deep', num_unique_tokens + 1)  # +1 for the 'Misc' bar\n",
    "\n",
    "setting = \"regex\"\n",
    "data = regex_matches_vs_nonmatches\n",
    "num_bins, num_unique_tokens = data.shape\n",
    "\n",
    "# Set position of bars\n",
    "r = np.arange(num_bins)\n",
    "running_sum = np.zeros(num_bins)\n",
    "for i in range(num_unique_tokens):\n",
    "    if i == 0:\n",
    "        text_label = \"non-matches\"\n",
    "    else:\n",
    "        text_label = regex_pattern\n",
    "    token_count_array = data[:,i]\n",
    "    plt.bar(r, token_count_array, bottom=running_sum, label=text_label, color=colors[i])  # Stack on top of data1+data2\n",
    "    running_sum += token_count_array\n",
    "# plt.bar(r, misc_count, bottom=running_sum,  label='Misc', color=colors[-1])  # Stack on top of data1+data2\n",
    "plt.title(f'Token Count for Feature {feature_index} Across Activation Ranges')\n",
    "plt.xlabel('Activation')\n",
    "plt.xticks(r, [f\"{val:.1f}\" for val in bin_boundaries[:]])\n",
    "plt.legend()\n",
    "plt.tight_layout()\n",
    "plt.show()\n",
    "# Include non-zero+\n",
    "# PCA/ICA baselines"
   ]
  },
  {
   "cell_type": "code",
   "execution_count": 90,
   "metadata": {},
   "outputs": [
    {
     "data": {
      "image/png": "[encoded data removed]",
      "text/plain": [
       "<Figure size 640x480 with 1 Axes>"
      ]
     },
     "metadata": {},
     "output_type": "display_data"
    }
   ],
   "source": [
    "import matplotlib.pyplot as plt\n",
    "import numpy as np\n",
    "\n",
    "# Sample data\n",
    "data = np.random.rand(10)\n",
    "\n",
    "# Bar positions\n",
    "r = np.arange(0.5, 10.5, 1)\n",
    "\n",
    "# Creating bar chart\n",
    "plt.bar(r, data, width=1, align='center', edgecolor='black')\n",
    "\n",
    "# X-ticks - they should be on either side of the bars\n",
    "bin_boundaries = np.arange(0, 11, 1)\n",
    "\n",
    "plt.xticks(bin_boundaries, [f\"{val:.1f}\" for val in bin_boundaries])\n",
    "\n",
    "plt.show()\n"
   ]
  },
  {
   "cell_type": "code",
   "execution_count": 91,
   "metadata": {},
   "outputs": [
    {
     "data": {
      "text/plain": [
       "array([ 0,  2,  4,  6,  8, 10, 12, 14, 16, 18, 20])"
      ]
     },
     "execution_count": 91,
     "metadata": {},
     "output_type": "execute_result"
    }
   ],
   "source": [
    "bin_boundaries"
   ]
  },
  {
   "cell_type": "code",
   "execution_count": 35,
   "metadata": {},
   "outputs": [
    {
     "ename": "NameError",
     "evalue": "name 'regex_pattern' is not defined",
     "output_type": "error",
     "traceback": [
      "\u001b[0;31m---------------------------------------------------------------------------\u001b[0m",
      "\u001b[0;31mNameError\u001b[0m                                 Traceback (most recent call last)",
      "Cell \u001b[0;32mIn[35], line 1\u001b[0m\n\u001b[0;32m----> 1\u001b[0m regex_pattern\n",
      "\u001b[0;31mNameError\u001b[0m: name 'regex_pattern' is not defined"
     ]
    }
   ],
   "source": [
    "regex_pattern"
   ]
  },
  {
   "cell_type": "code",
   "execution_count": 105,
   "metadata": {},
   "outputs": [
    {
     "data": {
      "image/png": "[encoded data removed]",
      "text/plain": [
       "<Figure size 640x480 with 1 Axes>"
      ]
     },
     "metadata": {},
     "output_type": "display_data"
    }
   ],
   "source": [
    "import matplotlib.pyplot as plt\n",
    "import numpy as np\n",
    "import seaborn as sns\n",
    "\n",
    "# This line gets a palette of colors. 'deep' is just one of many palettes available.\n",
    "colors = sns.color_palette('colorblind', num_unique_tokens + 1)  # +1 for the 'Misc' bar\n",
    "\n",
    "\n",
    "# Set position of bars\n",
    "barWidth = (bin_boundaries[1] - bin_boundaries[0]) * 0.8\n",
    "# r = np.arange(num_bins)\n",
    "r = (bin_boundaries[:-1] + bin_boundaries[1:]) / 2\n",
    "running_sum = np.zeros(num_bins)\n",
    "for i in range(num_unique_tokens):\n",
    "    token_id_name = max_tokens[i]\n",
    "    token_count_array = token_dict[token_id_name]\n",
    "    text_label = model.tokenizer.decode(token_id_name)\n",
    "    plt.bar(r, token_count_array, bottom=running_sum, label=text_label, color=colors[i], width=barWidth)\n",
    "    running_sum += token_count_array\n",
    "plt.bar(r, misc_count, bottom=running_sum,  label='Misc', color=colors[-1], width=barWidth)  # Stack on top of data1+data2\n",
    "plt.title(f'Token Count for Feature {feature_index} Across Activation Ranges')\n",
    "plt.xlabel('Activation')\n",
    "# plt.xticks(r, [f\"{val:.1f}\" for val in bin_boundaries])\n",
    "plt.xticks(bin_boundaries, [f\"{val:.2f}\" for val in bin_boundaries])\n",
    "\n",
    "plt.legend()\n",
    "plt.tight_layout()\n",
    "plt.show()\n",
    "# Include non-zero+\n",
    "# PCA/ICA baselines"
   ]
  },
  {
   "cell_type": "code",
   "execution_count": 32,
   "metadata": {},
   "outputs": [
    {
     "name": "stdout",
     "output_type": "stream",
     "text": [
      "Activations: [2.71, 2.58, 2.32, 1.45, 1.39, 1.38, 1.15, 0.93, 0.42, 0.19]\n",
      "Feature_ids [3119, 2118, 3920, 3608, 3146, 50, 1978, 2016, 3190, 3025]\n"
     ]
    }
   ],
   "source": [
    "t = \"いさんさん��に\"\n",
    "# t = \" Bratwurst, Sauerkraut, und Bier\"\n",
    "# t = \"我们一起去玩吧\"\n",
    "# t = \"for i in range\"\n",
    "t = \" I don't know about Dave'\"\n",
    "# t = \" I like to eat them (apples and oranges\"\n",
    "# t = \" I like to eat them at National Institute of Justice (NIJ\"\n",
    "split_text = model.to_str_tokens(t, prepend_bos=False)\n",
    "token = model.to_tokens(t, prepend_bos=False)\n",
    "_, cache = model.run_with_cache(token.to(model.cfg.device))\n",
    "neuron_act_batch = cache[cache_name]\n",
    "_, act = smaller_auto_encoder(neuron_act_batch)\n",
    "v, i = act[0, -1, :].topk(10)\n",
    "\n",
    "print(\"Activations:\",[round(val,2) for val in v.tolist()])\n",
    "print(\"Feature_ids\", i.tolist())"
   ]
  },
  {
   "cell_type": "code",
   "execution_count": 120,
   "metadata": {},
   "outputs": [
    {
     "name": "stdout",
     "output_type": "stream",
     "text": [
      "bias: -2.6281512\n",
      "Feature index: 2079\n",
      "MCS: 0.9694181084632874\n"
     ]
    },
    {
     "data": {
      "text/html": [
       "<div id=\"circuits-vis-7fe5b624-fdc4\" style=\"margin: 15px 0;\"/>\n",
       "    <script crossorigin type=\"module\">\n",
       "    import { render, TextNeuronActivations } from \"https://unpkg.com/circuitsvis@1.40.1/dist/cdn/esm.js\";\n",
       "    render(\n",
       "      \"circuits-vis-7fe5b624-fdc4\",\n",
       "      TextNeuronActivations,\n",
       "      {\"tokens\": [\"Background\", \" {#\", \"Sec\", \"1\", \"}\", \"\\\\newline\", \"==========\", \"\\\\newline\", \"\\\\newline\", \"The\", \" development\", \" of\", \" resistance\", \" to\", \" cytotoxic\", \" agents\", \" represents\", \" a\", \" major\", \" concern\", \" in\", \" cancer\", \" chemotherapy\", \".\", \" Multi\", \"-\", \"drug\", \" resistance\", \" (\", \"M\", \"DR\", \"\\n\", \"In\", \"hibition\", \" of\", \" DPP\", \"-\", \"4\", \":\", \" a\", \" new\", \" therapeutic\", \" approach\", \" for\", \" the\", \" treatment\", \" of\", \" type\", \" 2\", \" diabetes\", \".\", \"\\\\newline\", \"Gl\", \"uc\", \"agon\", \"-\", \"like\", \" peptide\", \"-\", \"1\", \" (\", \"GL\", \"P\", \"\\n\", \"An\", \" introduction\", \" to\", \" quality\", \" of\", \" life\", \" assessment\", \" in\", \" onc\", \"ology\", \":\", \" the\", \" value\", \" of\", \" measuring\", \" patient\", \"-\", \"reported\", \" outcomes\", \".\", \"\\\\newline\", \"This\", \" article\", \" provides\", \" an\", \" introduction\", \" to\", \" the\", \" concepts\", \" of\", \" quality\", \" of\", \" life\", \" (\", \"Q\", \"OL\", \"\\n\", \"Introduction\", \"\\\\newline\", \"============\", \"\\\\newline\", \"\\\\newline\", \"B\", \"one\", \" Target\", \"ing\", \" Agents\", \" (\", \"BT\", \"\\n\", \"The\", \" Americans\", \" with\", \" Dis\", \"abilities\", \" Act\", \" (\", \"ADA\", \"\\n\", \"Red\", \"uct\", \"ive\", \" de\", \"chlor\", \"ination\", \" of\", \" B\", \"Cl\", \"3\", \" for\", \" efficient\", \" ammonia\", \" bor\", \"ane\", \" regeneration\", \".\", \"\\\\newline\", \"This\", \" paper\", \" reports\", \" a\", \" complete\", \" ammonia\", \" bor\", \"ane\", \" (\", \"AB\", \"\\n\", \"A\", \" window\", \" ball\", \" grid\", \" array\", \" (\", \"WB\", \"GA\", \"\\n\", \"Incre\", \"ased\", \" (\", \"18\", \")\", \"F\", \"-\", \"de\", \"oxy\", \"glucose\", \" uptake\", \" in\", \" the\", \" lung\", \" during\", \" the\", \" first\", \" weeks\", \" of\", \" radiotherapy\", \" is\", \" correlated\", \" with\", \" subsequent\", \" Rad\", \"iation\", \"-\", \"In\", \"duced\", \" Lung\", \" T\", \"ox\", \"icity\", \" (\", \"R\", \"\\n\", \"3\", \"D\", \"-\", \"QS\", \"AR\", \" Co\", \"M\", \"FA\", \" on\", \" cyclin\", \"-\", \"dependent\", \" kinase\", \" inhibitors\", \".\", \"\\\\newline\", \"Several\", \" series\", \" of\", \" cyclin\", \"-\", \"dependent\", \" kinase\", \" inhibitors\", \" previously\", \" prepared\", \" in\", \" our\", \" laboratory\", \" were\", \" compared\", \" using\", \" 3\", \"D\", \"-\", \"QS\", \"\\n\", \"IF\", \"MA\", \" Names\", \" 2008\", \" Fellow\", \"s\", \"\\\\newline\", \"\\\\newline\", \"The\", \" International\", \" Facility\", \" Management\", \" Association\", \" (\", \"IF\", \"MA\", \")\", \" announced\", \" earlier\", \" this\", \" week\", \" its\", \" 2008\", \" class\", \" of\", \" IF\", \"\\n\", \"H\", \"oused\", \" in\", \" Asian\", \" American\", \" Studies\", \" Department\", \",\", \" The\", \" Bul\", \"os\", \"\\n\"], \"activations\": [[[0.0]], [[0.0]], [[0.0]], [[0.0]], [[0.0]], [[0.0]], [[0.0]], [[0.0]], [[0.0]], [[0.0]], [[0.0]], [[0.0]], [[0.0]], [[0.0]], [[0.0]], [[0.0]], [[0.0]], [[0.0]], [[0.0]], [[0.0]], [[0.0]], [[0.0]], [[0.0]], [[0.0]], [[0.0]], [[0.0]], [[0.0]], [[0.0]], [[1.1092305183410645]], [[2.449171304702759]], [[6.266234397888184]], [[0.0]], [[0.0]], [[0.0]], [[0.0]], [[0.0]], [[0.0]], [[0.0]], [[0.0]], [[0.0]], [[0.0]], [[0.0]], [[0.0]], [[0.0]], [[0.0]], [[0.0]], [[0.0]], [[0.0]], [[0.0]], [[0.0]], [[0.0]], [[0.0]], [[0.0]], [[0.0]], [[0.0]], [[0.0]], [[0.0]], [[0.0]], [[0.0]], [[0.0]], [[0.25939345359802246]], [[2.7055184841156006]], [[5.346433639526367]], [[0.0]], [[0.0]], [[0.0]], [[0.0]], [[0.0]], [[0.0]], [[0.0]], [[0.0]], [[0.0]], [[0.0]], [[0.0]], [[0.0]], [[0.0]], [[0.0]], [[0.0]], [[0.0]], [[0.0]], [[0.0]], [[0.0]], [[0.0]], [[0.0]], [[0.0]], [[0.0]], [[0.0]], [[0.0]], [[0.0]], [[0.0]], [[0.0]], [[0.0]], [[0.0]], [[0.0]], [[0.0]], [[0.0]], [[0.0]], [[0.10298490524291992]], [[2.873366117477417]], [[4.770186424255371]], [[0.0]], [[0.0]], [[0.0]], [[0.0]], [[0.0]], [[0.0]], [[0.0]], [[0.0]], [[0.0]], [[0.0]], [[0.0]], [[0.0]], [[4.453909873962402]], [[0.0]], [[0.0]], [[0.0]], [[0.0]], [[0.0]], [[0.0]], [[0.0]], [[0.0]], [[3.3559682369232178]], [[0.0]], [[0.0]], [[0.0]], [[0.0]], [[0.0]], [[0.0]], [[0.0]], [[0.0]], [[0.0]], [[0.0]], [[0.0]], [[0.0]], [[0.0]], [[0.0]], [[0.0]], [[0.0]], [[0.0]], [[0.0]], [[0.0]], [[0.0]], [[0.0]], [[0.0]], [[0.0]], [[0.0]], [[0.0]], [[0.0]], [[0.0]], [[0.0]], [[3.184880495071411]], [[0.0]], [[0.0]], [[0.0]], [[0.0]], [[0.0]], [[0.0]], [[0.0]], [[1.7959263324737549]], [[2.308706045150757]], [[0.0]], [[0.0]], [[0.0]], [[0.0]], [[0.0]], [[0.0]], [[0.0]], [[0.0]], [[0.0]], [[0.0]], [[0.0]], [[0.0]], [[0.0]], [[0.0]], [[0.0]], [[0.0]], [[0.0]], [[0.0]], [[0.0]], [[0.0]], [[0.0]], [[0.0]], [[0.0]], [[0.0]], [[0.0]], [[0.0]], [[0.0]], [[0.0]], [[0.0]], [[0.0]], [[0.0]], [[0.0]], [[0.0]], [[0.0]], [[0.0]], [[1.4319932460784912]], [[0.0]], [[0.0]], [[0.0]], [[0.0]], [[0.6523959636688232]], [[0.0]], [[0.0]], [[0.0]], [[0.0]], [[0.0]], [[0.0]], [[0.0]], [[0.0]], [[0.0]], [[0.0]], [[0.0]], [[0.0]], [[0.0]], [[0.0]], [[0.0]], [[0.0]], [[0.0]], [[0.0]], [[0.0]], [[0.0]], [[0.0]], [[0.0]], [[0.0]], [[0.0]], [[0.0]], [[0.0]], [[0.0]], [[0.0]], [[0.0]], [[0.0]], [[0.0]], [[1.120138168334961]], [[0.0]], [[0.0]], [[0.0]], [[0.0]], [[0.0]], [[0.0]], [[0.0]], [[0.0]], [[0.0]], [[0.0]], [[0.0]], [[0.0]], [[0.0]], [[0.0]], [[0.8055694103240967]], [[3.2836716175079346]], [[5.164273262023926]], [[0.0]], [[0.0]], [[0.0]], [[0.0]], [[0.0]], [[0.0]], [[0.0]], [[0.0]], [[0.0]], [[0.07129430770874023]], [[0.0]], [[0.0]], [[0.0]], [[0.0]], [[0.0]], [[0.0]], [[0.0]], [[0.0]], [[0.0]], [[0.0]], [[0.0]], [[0.0]], [[0.0]]], \"firstDimensionName\": \"Layer\", \"secondDimensionName\": \"Neuron\"}\n",
       "    )\n",
       "    </script>"
      ],
      "text/plain": [
       "<circuitsvis.utils.render.RenderedHTML at 0x7fcbc43ca9b0>"
      ]
     },
     "execution_count": 120,
     "metadata": {},
     "output_type": "execute_result"
    }
   ],
   "source": [
    "N = 101\n",
    "best_feature = int(max_indices[N])\n",
    "# best_feature = 2122 #Mandarin\n",
    "# best_feature = 2118 # 's\n",
    "best_feature = 2079 # (within parentheses)\n",
    "\n",
    "# best_feature = 2917 # open paran before acronym\n",
    "# best_feature = 2808 # open paran before acronym\n",
    "# best_feature = 2808 # (within parentheses)\n",
    "# best_feature = 3482 # 3482, 4072, 3920, 310\n",
    "print(\"bias:\", smaller_auto_encoder.encoder_bias.detach().cpu().numpy()[best_feature])\n",
    "print(f\"Feature index: {best_feature}\")\n",
    "print(f\"MCS: {max_cosine_similarities[best_feature]}\")\n",
    "# text_list, full_text, token_list, full_token_list = get_feature_datapoints(best_feature, dictionary_activations, dataset, setting=\"max\")\n",
    "text_list, full_text, token_list, full_token_list = get_feature_datapoints(best_feature, dictionary_activations, dataset, setting=\"uniform\")\n",
    "# visualize_text(full_text, best_feature, model)\n",
    "visualize_text(text_list, best_feature, model)"
   ]
  },
  {
   "cell_type": "code",
   "execution_count": 118,
   "metadata": {},
   "outputs": [
    {
     "data": {
      "text/html": [
       "<div id=\"circuits-vis-75bdb067-9a69\" style=\"margin: 15px 0;\"/>\n",
       "    <script crossorigin type=\"module\">\n",
       "    import { render, TextNeuronActivations } from \"https://unpkg.com/circuitsvis@1.40.1/dist/cdn/esm.js\";\n",
       "    render(\n",
       "      \"circuits-vis-75bdb067-9a69\",\n",
       "      TextNeuronActivations,\n",
       "      {\"tokens\": [\"The\", \" invention\", \" relates\", \" generally\", \" to\", \" Internet\", \" Protocol\", \" (\", \"IP\", \")\", \" packet\", \" communication\", \" methods\", \" and\", \" apparatus\", \" and\", \" more\", \" particularly\", \" to\", \" point\", \" to\", \" point\", \" protocol\", \" (\", \"PP\", \"P\", \"\\n\", \"Introduction\", \"\\\\newline\", \"============\", \"\\\\newline\", \"\\\\newline\", \"H\", \"id\", \"rotic\", \" ect\", \"od\", \"ermal\", \" dysplasia\", \" (\", \"H\", \"ED\", \"\\n\", \"In\", \" the\", \" semiconductor\", \" industry\", \",\", \" metal\", \" sil\", \"icides\", \" have\", \" typically\", \" been\", \" used\", \" to\", \" provide\", \" low\", \" resist\", \"ive\", \" contacts\", \" to\", \" source\", \"/\", \"d\", \"rain\", \" regions\", \" and\", \" gate\", \" electrodes\", \" in\", \" metal\", \" oxide\", \" semiconductor\", \" (\", \"M\", \"OS\", \"\\n\", \"The\", \" invention\", \" relates\", \" generally\", \" to\", \" Internet\", \" Protocol\", \" (\", \"IP\", \")\", \" packet\", \" communication\", \" methods\", \" and\", \" apparatus\", \" and\", \" more\", \" particularly\", \" to\", \" point\", \" to\", \" point\", \" protocol\", \" (\", \"PP\", \"P\", \")\", \" packet\", \" communication\", \" methods\", \" and\", \" apparatus\", \".\", \"\\\\newline\", \"Internet\", \" Protocol\", \" (\", \"IP\", \"\\n\", \"St\", \"im\", \"ulating\", \" PAC\", \"alpha\", \" increases\", \" miniature\", \" excitatory\", \" junction\", \" potential\", \" frequency\", \" at\", \" the\", \" D\", \"rosophila\", \" neurom\", \"uscular\", \" junction\", \".\", \"\\\\newline\", \"Photo\", \"activated\", \" aden\", \"ylate\", \" cycl\", \"ase\", \" alpha\", \" (\", \"P\", \"AC\", \"alpha\", \"\\n\", \"Introduction\", \" {#\", \"Sec\", \"1\", \"}\", \"\\\\newline\", \"============\", \"\\\\newline\", \"\\\\newline\", \"Pre\", \"-\", \"di\", \"abetes\", \" (\", \"pre\", \"-\", \"DM\", \"\\n\", \"Cor\", \"related\", \" noise\", \" in\", \" the\", \" two\", \" L\", \"IG\", \"O\", \" gravitational\", \"-\", \"wave\", \" detectors\", \" may\", \" provide\", \" evidence\", \" that\", \" the\", \" universe\", \" is\", \" governed\", \" by\", \" conformal\", \" cyclic\", \" cosmology\", \" (\", \"CCC\", \"\\n\", \"[\", \"Cut\", \"aneous\", \" squamous\", \" cell\", \" carcinoma\", \"].\", \"\\\\newline\", \"Squ\", \"amous\", \" cell\", \" carcinoma\", \" (\", \"S\", \"\\n\", \"SL\", \"C\", \"22\", \"A\", \"12\", \"\\\\newline\", \"\\\\newline\", \"S\", \"olute\", \" carrier\", \" family\", \" 22\", \" (\", \"organic\", \" anion\", \"/\", \"cation\", \" transporter\", \"\\n\", \"359\", \" F\", \".\", \"\\n\", \"Thus\", \" far\", \",\", \" high\", \"-\", \"capacity\", \" optical\", \" disks\", \" of\", \" various\", \" kinds\", \" have\", \" been\", \" achieved\", \"\\n\"], \"activations\": [[[-0.3106698989868164]], [[0.04902172088623047]], [[-0.21544170379638672]], [[-0.04694843292236328]], [[-0.013058662414550781]], [[-0.08002185821533203]], [[0.024262428283691406]], [[-0.11491107940673828]], [[-0.15204620361328125]], [[-0.6638555526733398]], [[-0.05000495910644531]], [[-0.09958839416503906]], [[0.04533195495605469]], [[0.05687236785888672]], [[0.027756690979003906]], [[0.006468772888183594]], [[0.0851144790649414]], [[-0.0692281723022461]], [[0.13702392578125]], [[-0.30438899993896484]], [[-0.09653949737548828]], [[-0.15993976593017578]], [[-1.137974739074707]], [[-4.855456352233887]], [[-2.4906156063079834]], [[-1.6955327987670898]], [[0.0]], [[-0.41158390045166016]], [[0.15594863891601562]], [[-0.07738113403320312]], [[-0.004343986511230469]], [[-0.004343986511230469]], [[-0.07220172882080078]], [[0.10317611694335938]], [[0.021013259887695312]], [[-0.0095367431640625]], [[0.028888702392578125]], [[-0.11103534698486328]], [[-0.5125627517700195]], [[-4.576090335845947]], [[-1.317551851272583]], [[-2.5158674716949463]], [[0.0]], [[-0.00156402587890625]], [[-0.07114696502685547]], [[-0.026767730712890625]], [[0.06868553161621094]], [[-0.06077289581298828]], [[-0.08029556274414062]], [[-0.009940147399902344]], [[-0.021844863891601562]], [[0.04067516326904297]], [[-0.060929298400878906]], [[-0.038117408752441406]], [[-0.03817939758300781]], [[-0.02814769744873047]], [[-0.04053497314453125]], [[-0.023192405700683594]], [[0.010044097900390625]], [[-0.03632926940917969]], [[-0.017296791076660156]], [[-0.02778148651123047]], [[0.0001068115234375]], [[-0.004215240478515625]], [[0.007555961608886719]], [[-0.005771636962890625]], [[0.009831428527832031]], [[-0.041312217712402344]], [[-0.04507255554199219]], [[0.005290985107421875]], [[0.5577297210693359]], [[-0.0069255828857421875]], [[-0.18298625946044922]], [[-0.15555477142333984]], [[-4.848036766052246]], [[-0.6869058609008789]], [[-2.398887872695923]], [[0.0]], [[-0.0859537124633789]], [[0.05744743347167969]], [[0.04651451110839844]], [[0.02147960662841797]], [[0.04265403747558594]], [[0.11998462677001953]], [[0.05053424835205078]], [[0.1977548599243164]], [[0.2617225646972656]], [[-0.3918931484222412]], [[-0.059584617614746094]], [[-0.04844856262207031]], [[0.03576469421386719]], [[-0.005077362060546875]], [[-0.0568695068359375]], [[-0.04876232147216797]], [[-0.021178245544433594]], [[-0.01692962646484375]], [[-0.032253265380859375]], [[-0.026599884033203125]], [[-0.04718494415283203]], [[-0.016686439514160156]], [[0.020865440368652344]], [[-0.14823436737060547]], [[0.021453857421875]], [[-0.061247825622558594]], [[0.1312398910522461]], [[-0.04459667205810547]], [[-0.1142282485961914]], [[-0.005741119384765625]], [[-0.06119537353515625]], [[-0.1016998291015625]], [[-0.28851985931396484]], [[-0.10155391693115234]], [[-0.7179529666900635]], [[-0.6367361545562744]], [[-3.8774943351745605]], [[-3.6615993976593018]], [[0.0]], [[0.07507038116455078]], [[-0.010942459106445312]], [[-0.10317039489746094]], [[-0.16979551315307617]], [[-0.14760780334472656]], [[-0.9621372222900391]], [[0.04164886474609375]], [[0.0595703125]], [[0.012280941009521484]], [[0.03626823425292969]], [[-0.035802364349365234]], [[-0.022016048431396484]], [[-0.008553504943847656]], [[0.06647682189941406]], [[-0.01699066162109375]], [[-0.009141921997070312]], [[-0.08680295944213867]], [[-0.0641932487487793]], [[-0.2939739227294922]], [[0.018939495086669922]], [[0.41089558601379395]], [[-0.05961418151855469]], [[-0.06500530242919922]], [[-0.29768848419189453]], [[-0.27153491973876953]], [[-0.2505655288696289]], [[-0.5280008316040039]], [[-3.640406370162964]], [[-0.14010334014892578]], [[-0.12973880767822266]], [[0.6924803256988525]], [[0.0]], [[-0.5256357192993164]], [[-0.02729034423828125]], [[0.08072662353515625]], [[0.020298004150390625]], [[-0.004500389099121094]], [[0.039586544036865234]], [[0.1510448455810547]], [[0.05588817596435547]], [[0.05588817596435547]], [[-0.027713775634765625]], [[-0.2218151092529297]], [[-0.1116943359375]], [[-0.38721132278442383]], [[-3.018104314804077]], [[0.5393333435058594]], [[0.3136873245239258]], [[-3.018104314804077]], [[0.0]], [[0.07505321502685547]], [[-0.06226539611816406]], [[-0.1130990982055664]], [[-0.020485877990722656]], [[0.0027666091918945312]], [[0.014973640441894531]], [[0.07995796203613281]], [[-0.01539468765258789]], [[0.031099319458007812]], [[0.0713958740234375]], [[-0.052547454833984375]], [[-0.04799032211303711]], [[-0.0930171012878418]], [[0.00151824951171875]], [[-0.13543987274169922]], [[0.004221916198730469]], [[-0.10206794738769531]], [[-0.03722715377807617]], [[-0.06478357315063477]], [[0.02479076385498047]], [[-0.1950511932373047]], [[-0.07343053817749023]], [[-0.303438663482666]], [[-0.27952098846435547]], [[0.5810213088989258]], [[-2.3906381130218506]], [[-2.3906381130218506]], [[0.0]], [[-0.10099363327026367]], [[-0.0373835563659668]], [[-0.0783076286315918]], [[-0.27452564239501953]], [[-0.15589332580566406]], [[-0.1718912124633789]], [[0.03354787826538086]], [[-0.13140487670898438]], [[-0.22710347175598145]], [[-0.0870809555053711]], [[-0.013143539428710938]], [[-0.10245466232299805]], [[-1.574761152267456]], [[-1.574761152267456]], [[0.0]], [[0.0691370964050293]], [[-0.03265571594238281]], [[-0.1874539852142334]], [[0.13224363327026367]], [[-0.038340091705322266]], [[0.12854576110839844]], [[0.12854576110839844]], [[-0.2530233860015869]], [[-0.9106583595275879]], [[-0.5068182945251465]], [[-0.7169671058654785]], [[0.07227849960327148]], [[-1.0692322254180908]], [[-0.33059191703796387]], [[-0.3355898857116699]], [[0.17952466011047363]], [[0.00273895263671875]], [[-0.32337474822998047]], [[0.0]], [[0.3367960453033447]], [[-0.010452985763549805]], [[-0.010452985763549805]], [[0.0]], [[0.0]], [[0.0]], [[0.0]], [[0.0]], [[0.0]], [[0.0]], [[0.0]], [[0.0]], [[0.0]], [[0.0]], [[0.0]], [[0.0]], [[0.0]], [[0.0]], [[0.0]]], \"firstDimensionName\": \"Layer\", \"secondDimensionName\": \"Neuron\"}\n",
       "    )\n",
       "    </script>"
      ],
      "text/plain": [
       "<circuitsvis.utils.render.RenderedHTML at 0x7fcbec36d420>"
      ]
     },
     "execution_count": 118,
     "metadata": {},
     "output_type": "execute_result"
    }
   ],
   "source": [
    "ablate_text(text_list, best_feature, model)"
   ]
  },
  {
   "cell_type": "code",
   "execution_count": 31,
   "metadata": {},
   "outputs": [
    {
     "data": {
      "text/html": [
       "<div id=\"circuits-vis-1fa955ee-ec91\" style=\"margin: 15px 0;\"/>\n",
       "    <script crossorigin type=\"module\">\n",
       "    import { render, TextNeuronActivations } from \"https://unpkg.com/circuitsvis@1.40.1/dist/cdn/esm.js\";\n",
       "    render(\n",
       "      \"circuits-vis-1fa955ee-ec91\",\n",
       "      TextNeuronActivations,\n",
       "      {\"tokens\": [\" \\u201e\", \"Sch\", \"reck\", \"ens\", \"n\", \"acht\", \"\\u201c\", \" von\", \" Im\", \"st\", \"\\\\newline\", \"\\\\newline\", \"En\", \"de\", \" April\", \" 1938\", \" haben\", \" Nazis\", \" in\", \" der\", \" Ti\", \"rol\", \"er\", \" Kle\", \"inst\", \"ad\", \"t\", \" Im\", \"st\", \" einen\", \" G\", \"ew\", \"al\", \"tex\", \"z\", \"ess\", \" gegen\", \" Aust\", \"ro\", \"\\n\", \"ien\", \" G\", \"eg\", \"ner\", \"n\", \" der\", \" R\", \"und\", \"fun\", \"k\", \"geb\", \"\\u00fc\", \"hr\", \" l\", \"assen\", \" AR\", \"D\", \" und\", \" Z\", \"DF\", \" durch\", \"aus\", \" die\", \" W\", \"ucht\", \" des\", \" Ges\", \"et\", \"zes\", \" sp\", \"\\u00fc\", \"ren\", \".\", \" Wer\", \" die\", \" s\", \"ogen\", \"ann\", \"te\", \"\\n\", \"German\", \":\", \" \", \"\\\\newline\", \"[\", \"Mus\", \"ik\", \"]\", \"\\\\newline\", \"Fre\", \"unde\", \" in\", \" dieser\", \" bes\", \"onde\", \"ren\", \" Episode\", \" von\", \" G\", \"low\", \"\\\\newline\", \"Tr\", \"ab\", \" mit\", \" T\", \"rey\", \" Dean\", \" Kom\", \"pl\", \"ize\", \"\\\\newline\", \"er\", \"z\", \"\\u00e4h\", \"lt\", \" eine\", \" Gesch\", \"ichte\", \" dar\", \"\\n\", \"\\u00f6\", \"z\", \"\\u00f6s\", \" k\\u00f6\", \"z\", \"lem\", \"\\u00e9\", \"ny\", \"ben\", \" re\", \"ag\", \"\\u00e1\", \"lt\", \"ak\", \" a\", \" mag\", \"y\", \"ar\", \" gy\", \"erm\", \"ek\", \"or\", \"v\", \"osi\", \" sz\", \"ak\", \"ma\", \" font\", \"os\", \"abb\", \" cs\", \"op\", \"ort\", \"j\", \"ai\", \" egy\", \" net\", \"es\", \" pos\", \"\\n\", \"icht\", \"weg\", \" (\", \"H\", \"amb\", \"urg\", \" U\", \"-\", \"B\", \"ahn\", \" station\", \")\", \"\\\\newline\", \"\\\\newline\", \"R\", \"icht\", \"weg\", \" is\", \" a\", \" public\", \" transport\", \" station\", \" for\", \" the\", \" rapid\", \" transit\", \" trains\", \" of\", \" Hamburg\", \"'s\", \" underground\", \" railway\", \" line\", \" U\", \"1\", \",\", \" located\", \" in\", \" N\", \"\\n\", \"ier\", \"z\", \"ch\", \"ow\", \"o\", \",\", \" Draw\", \"sk\", \"o\", \" County\", \"\\\\newline\", \"\\\\newline\", \"W\", \"ier\", \"z\", \"ch\", \"ow\", \"o\", \"  \", \"(\", \"formerly\", \" German\", \" Vir\", \"ch\", \"ow\", \")\", \" is\", \" a\", \" village\", \" in\", \" Draw\", \"sk\", \"o\", \" County\", \",\", \" West\", \" P\", \"omer\", \"anian\", \"\\n\", \" K\", \"ung\", \"str\", \"\\u00e4\", \"dg\", \"\\u00e5r\", \"den\", \" i\", \" Stockholm\", \" st\", \"\\u00e5r\", \" en\", \" tung\", \",\", \" gr\", \"\\u00f6n\", \" br\", \"ons\", \"stat\", \"y\", \" av\", \" Karl\", \" XII\", \".\", \" K\", \"ungen\", \" har\", \" en\", \" dr\", \"agen\", \" v\", \"\\u00e4r\", \"ja\", \" i\", \" hand\", \"en\", \" och\", \" pe\", \"kar\", \"\\n\", \"an\", \" Dol\", \"ins\", \"k\", \"\\u00fd\", \"\\\\newline\", \"\\\\newline\", \"Mil\", \"an\", \" Dol\", \"ins\", \"k\", \"\\u00fd\", \" (\", \"born\", \" 17\", \" April\", \" 1935\", \")\", \" is\", \" a\", \" former\", \" Slov\", \"ak\", \" footballer\", \".\", \"\\\\newline\", \"\\\\newline\", \"During\", \" his\", \" career\", \" he\", \" played\", \" for\", \" CH\", \" Br\", \"at\", \"isl\", \"ava\", \"\\n\", \"omonas\", \" aeruginosa\", \" (\", \"PA\", \")\", \" is\", \" an\", \" opportun\", \"istic\", \" gram\", \"-\", \"negative\", \" pathogen\", \" responsible\", \" for\", \" a\", \" large\", \" number\", \" of\", \" nos\", \"ocom\", \"ial\", \" infections\", \".\", \" Dr\", \".\", \" Jo\", \"anne\", \" Eng\", \"el\", \" and\", \" her\", \" group\", \" have\", \" shown\", \" that\", \" PA\", \"103\", \" induces\", \"\\n\", \"empl\", \"ative\", \" Rubio\", \".\", \" Photo\", \":\", \" Nicholas\", \" K\", \"amm\", \"/\", \"AFP\", \"/\", \"Getty\", \" Images\", \"\\\\newline\", \"\\\\newline\", \"Let\", \"\\u2019\", \"s\", \" not\", \" beat\", \" around\", \" the\", \" Bush\", \" (\", \"v\", \"ague\", \",\", \" lazy\", \" pun\", \" intended\", \"):\", \" The\", \" No\", \".\", \" 1\", \" reason\", \" that\", \" Marco\", \"\\n\", \" confirmed\", \" human\", \" cases\", \" of\", \" West\", \" Nile\", \" Virus\", \" in\", \" Colorado\", \"\\\\newline\", \"\\\\newline\", \"K\", \"USA\", \" \\u2014\", \" State\", \" health\", \" officials\", \" confirm\", \" two\", \" people\", \" have\", \" tested\", \" positive\", \" for\", \" West\", \" Nile\", \" virus\", \" in\", \" Colorado\", \".\", \" The\", \" cases\", \",\", \" out\", \" of\", \" W\", \"eld\", \" County\", \" and\", \"\\n\"], \"activations\": [[[0.0]], [[-0.03405427932739258]], [[0.2490215301513672]], [[-0.0581202507019043]], [[-0.6372222900390625]], [[0.31957387924194336]], [[-0.10135459899902344]], [[-0.23215675354003906]], [[0.0005040168762207031]], [[-0.3912343978881836]], [[-0.7827916145324707]], [[0.01648801565170288]], [[0.00916147232055664]], [[-0.1365278959274292]], [[0.032378196716308594]], [[-0.2373828887939453]], [[-0.020662784576416016]], [[-0.0003261566162109375]], [[0.027923107147216797]], [[0.0020020008087158203]], [[-0.01848316192626953]], [[0.14165449142456055]], [[-0.01774144172668457]], [[0.19151687622070312]], [[0.058062076568603516]], [[0.08988332748413086]], [[0.13077223300933838]], [[0.1912841796875]], [[-0.3908209800720215]], [[0.33807373046875]], [[-0.028678417205810547]], [[0.0693962574005127]], [[-0.1273024082183838]], [[-0.3626422882080078]], [[0.04343080520629883]], [[-0.3062715530395508]], [[0.06350040435791016]], [[-0.009252548217773438]], [[0.20022153854370117]], [[0.0]], [[0.0]], [[0.07901859283447266]], [[-0.020241260528564453]], [[-0.13695430755615234]], [[-0.14786624908447266]], [[-0.294461727142334]], [[-0.0010957717895507812]], [[-0.08999490737915039]], [[-0.2895314693450928]], [[0.04015994071960449]], [[-0.6400089263916016]], [[-0.17246007919311523]], [[-0.0024503394961357117]], [[0.4344654083251953]], [[0.16057538986206055]], [[0.04611396789550781]], [[0.1401768922805786]], [[0.07624125480651855]], [[-0.051349639892578125]], [[0.020066261291503906]], [[-0.06017780303955078]], [[-0.05312633514404297]], [[0.021903038024902344]], [[0.012537240982055664]], [[-0.012995719909667969]], [[-0.34998464584350586]], [[-0.03542947769165039]], [[0.3351418972015381]], [[0.007710229605436325]], [[-0.26664209365844727]], [[-0.02010345458984375]], [[-0.004131197929382324]], [[-2.0265579223632812e-06]], [[-0.0741415023803711]], [[0.1676034927368164]], [[0.024347782135009766]], [[-0.0027636289596557617]], [[0.00817069411277771]], [[0.13254916667938232]], [[0.0]], [[0.0]], [[0.04058253765106201]], [[-0.003700733184814453]], [[-1.044943928718567e-06]], [[-0.0003185272216796875]], [[-1.049041748046875e-05]], [[-1.2516975402832031e-06]], [[0.012072324752807617]], [[0.0013930797576904297]], [[0.0009622573852539062]], [[2.384185791015625e-06]], [[-0.009787559509277344]], [[-0.05121612548828125]], [[0.01970195770263672]], [[0.002547144889831543]], [[0.008153557777404785]], [[0.0006160736083984375]], [[-0.1635446548461914]], [[-0.014088630676269531]], [[-0.05354595184326172]], [[0.12540411949157715]], [[0.043015480041503906]], [[0.0013704299926757812]], [[0.03999137878417969]], [[0.0060787200927734375]], [[0.07776403427124023]], [[0.15283489227294922]], [[-0.057842254638671875]], [[-0.11720132827758789]], [[0.25397348403930664]], [[0.10815465450286865]], [[0.029313087463378906]], [[-0.029453277587890625]], [[-0.00760340690612793]], [[0.27305519580841064]], [[0.011164188385009766]], [[-0.0019168853759765625]], [[0.19438201189041138]], [[-0.049498558044433594]], [[0.0]], [[0.0]], [[-0.06657600402832031]], [[-0.9812831878662109]], [[0.056771278381347656]], [[0.6667592525482178]], [[0.2570919990539551]], [[-0.046724796295166016]], [[0.040088653564453125]], [[-0.0806112289428711]], [[0.12502670288085938]], [[0.007647991180419922]], [[0.13111209869384766]], [[0.00426483154296875]], [[0.0214996337890625]], [[-0.019036293029785156]], [[0.010250091552734375]], [[-8.344650268554688e-07]], [[1.1548399925231934e-07]], [[-7.915496826171875e-05]], [[0.0]], [[0.001239776611328125]], [[-0.014033317565917969]], [[-0.19080781936645508]], [[0.23267364501953125]], [[0.027500152587890625]], [[-0.010954141616821289]], [[4.291534423828125e-05]], [[-0.010889053344726562]], [[0.04181861877441406]], [[0.004918098449707031]], [[0.0022025108337402344]], [[3.337860107421875e-06]], [[5.0067901611328125e-06]], [[1.430511474609375e-06]], [[0.038756370544433594]], [[-1.430511474609375e-05]], [[0.0005140304565429688]], [[0.0]], [[1.9073486328125e-06]], [[0.0]], [[0.0]], [[-0.7057266235351562]], [[-0.5406777858734131]], [[-0.03399085998535156]], [[-0.025369644165039062]], [[-0.12603521347045898]], [[0.9277544021606445]], [[-0.9303772449493408]], [[-0.04646778106689453]], [[-1.0886173248291016]], [[1.542809009552002]], [[-0.00027817487716674805]], [[-0.024229884147644043]], [[-0.00038677453994750977]], [[-0.005499839782714844]], [[0.02792149782180786]], [[0.00578265031799674]], [[0.3871314525604248]], [[0.010420680046081543]], [[-0.0037736892700195312]], [[-3.337860107421875e-05]], [[-0.00017631053924560547]], [[-0.0020368099212646484]], [[0.00853884220123291]], [[1.9073486328125e-06]], [[1.1920928955078125e-07]], [[0.0]], [[0.00023317337036132812]], [[-0.02719736099243164]], [[-0.13054370880126953]], [[0.0003123283386230469]], [[-0.014713287353515625]], [[-0.005555152893066406]], [[0.034605979919433594]], [[0.4389767646789551]], [[0.00781261920928955]], [[-0.026215076446533203]], [[-0.002475261688232422]], [[0.012233734130859375]], [[0.0]], [[0.0]], [[-0.0862889289855957]], [[-0.10744667053222656]], [[0.0052073001861572266]], [[0.007729053497314453]], [[0.017655372619628906]], [[0.00016117095947265625]], [[9.72747802734375e-05]], [[0.0394282341003418]], [[-0.0038499832153320312]], [[0.0004906654357910156]], [[0.00012165307998657227]], [[-0.0015931129455566406]], [[0.002002120018005371]], [[0.0019566304981708527]], [[0.0029346346855163574]], [[0.0027961591258645058]], [[0.007636070251464844]], [[-0.0025954246520996094]], [[-0.0013573169708251953]], [[-0.0012021064758300781]], [[-0.005014896392822266]], [[0.0036945343017578125]], [[-0.02674245834350586]], [[0.004047498106956482]], [[-0.4371800422668457]], [[0.005117893218994141]], [[-0.0002852976322174072]], [[-7.843971252441406e-05]], [[4.2557716369628906e-05]], [[0.02392101287841797]], [[-0.005216237157583237]], [[0.12684476375579834]], [[0.01267288625240326]], [[0.00016394257545471191]], [[0.0028192996978759766]], [[-0.037262916564941406]], [[-0.012984871864318848]], [[-0.00950002670288086]], [[0.0]], [[0.0]], [[0.0]], [[-0.13164424896240234]], [[-0.5204038619995117]], [[-0.23471641540527344]], [[0.45406997203826904]], [[0.12980133295059204]], [[0.2836146354675293]], [[-0.05388498306274414]], [[0.2198634147644043]], [[-0.008623123168945312]], [[-0.008719444274902344]], [[0.0062732696533203125]], [[9.5367431640625e-07]], [[5.245208740234375e-06]], [[-4.3392181396484375e-05]], [[-0.035747528076171875]], [[0.012731075286865234]], [[-0.06972122192382812]], [[-0.0035386085510253906]], [[0.011769771575927734]], [[-0.018651962280273438]], [[0.13890838623046875]], [[0.07602524757385254]], [[-0.01671910285949707]], [[-0.15799760818481445]], [[0.10482645034790039]], [[-0.02810835838317871]], [[0.007143974304199219]], [[-6.67572021484375e-06]], [[0.049279212951660156]], [[-0.0016202926635742188]], [[-0.07177495956420898]], [[0.010301589965820312]], [[0.000392913818359375]], [[0.03153419494628906]], [[-0.014140129089355469]], [[0.002013683319091797]], [[-6.103515625e-05]], [[0.0]], [[0.0]], [[0.0]], [[0.0]], [[0.0]], [[-0.08071422576904297]], [[-0.006453514099121094]], [[-0.003516077995300293]], [[-0.0012373924255371094]], [[-8.940696716308594e-08]], [[-1.0132789611816406e-06]], [[1.043081283569336e-07]], [[0.0026516858488321304]], [[0.0033328095450997353]], [[-0.1044471263885498]], [[-0.007173776626586914]], [[-0.0024542808532714844]], [[-0.003674030303955078]], [[-0.0019817352294921875]], [[0.0004984736442565918]], [[-0.007131218910217285]], [[0.00028246641159057617]], [[0.00013709068298339844]], [[-4.363059997558594e-05]], [[-1.4901161193847656e-07]], [[4.76837158203125e-07]], [[-1.430511474609375e-06]], [[4.9114227294921875e-05]], [[-4.857778549194336e-06]], [[-1.430511474609375e-06]], [[1.2159347534179688e-05]], [[0.0]], [[0.0]], [[-1.1920928955078125e-07]], [[0.0]], [[-0.0027332305908203125]], [[0.0]], [[0.0]], [[0.014398813247680664]], [[0.008043155074119568]], [[0.0]], [[0.0]], [[0.014962196350097656]], [[-0.0005207061767578125]], [[-7.62939453125e-06]], [[-3.5762786865234375e-07]], [[0.0004494190216064453]], [[0.0001609325408935547]], [[7.152557373046875e-07]], [[0.0]], [[9.5367431640625e-07]], [[0.0]], [[0.0]], [[-3.0994415283203125e-06]], [[-0.000293731689453125]], [[0.0]], [[0.00012302398681640625]], [[0.0]], [[0.0]], [[-2.4505890905857086e-05]], [[0.0]], [[1.1548399925231934e-07]], [[0.0]], [[5.960464477539063e-08]], [[0.0]], [[-3.814697265625e-06]], [[0.0]], [[0.0]], [[0.0]], [[-0.002495288848876953]], [[-0.007825374603271484]], [[0.0834803581237793]], [[0.011092424392700195]], [[-0.0008792877197265625]], [[-0.0025696754455566406]], [[0.0]], [[6.854534149169922e-07]], [[0.0]], [[0.0]], [[0.0]], [[0.0]], [[0.0]], [[0.0]], [[7.05718994140625e-05]], [[6.9141387939453125e-06]], [[0.0]], [[0.0]], [[-1.1444091796875e-05]], [[2.47955322265625e-05]], [[0.0]], [[-0.00801849365234375]], [[-0.0017330646514892578]], [[6.556510925292969e-07]], [[-4.6193599700927734e-07]], [[-1.1734664440155029e-07]], [[6.258487701416016e-07]], [[0.0]], [[0.0]], [[0.0]], [[0.0]], [[0.0]], [[0.0]], [[0.0]], [[0.0]], [[0.0]], [[0.0]], [[0.0]], [[0.0]], [[0.0]], [[0.0]], [[0.0]], [[0.0]], [[0.0]], [[0.0]], [[0.0]], [[0.0]], [[0.0]], [[0.0]], [[0.0]], [[0.0]], [[0.0]], [[0.0]], [[-0.000152587890625]], [[0.0]], [[-2.7060508728027344e-05]], [[-0.00017547607421875]], [[0.0]], [[-3.8623809814453125e-05]], [[0.0]], [[4.3392181396484375e-05]], [[0.0]], [[0.0]], [[0.0007543563842773438]], [[0.0]], [[-7.152557373046875e-06]], [[0.00014972686767578125]], [[0.000118255615234375]], [[0.00010478496551513672]], [[0.0001010894775390625]], [[0.00018215179443359375]], [[5.1021575927734375e-05]], [[-6.890296936035156e-05]], [[0.0]], [[-0.00028437376022338867]], [[0.0]], [[0.0]], [[0.0]], [[0.0]], [[0.0]], [[-0.0006879568099975586]], [[-5.4955482482910156e-05]], [[-0.0007574558258056641]], [[0.00039577484130859375]], [[0.0002541542053222656]], [[0.0010929107666015625]], [[0.0]], [[-0.0015392303466796875]], [[0.0]], [[0.04845479130744934]], [[-0.00836634635925293]], [[0.0]]], \"firstDimensionName\": \"Layer\", \"secondDimensionName\": \"Neuron\"}\n",
       "    )\n",
       "    </script>"
      ],
      "text/plain": [
       "<circuitsvis.utils.render.RenderedHTML at 0x7f0b7c6a54e0>"
      ]
     },
     "execution_count": 31,
     "metadata": {},
     "output_type": "execute_result"
    }
   ],
   "source": [
    "ablate_feature_direction_display(full_text, best_feature)"
   ]
  },
  {
   "cell_type": "code",
   "execution_count": 32,
   "metadata": {},
   "outputs": [
    {
     "name": "stdout",
     "output_type": "stream",
     "text": [
      "['stadt', 'heim', 'sson', 'reich', ' GmbH', 'ös', 'hof', 'haus', ' Germany', 'enburg', 'mann', 'heimer', 'äs', 'ungs', 'furt', 'feld', ' von', 'hardt', 'sche', ' Munich']\n",
      "tensor([2.4493, 2.3906, 2.3506, 2.2867, 2.2223, 2.2117, 2.1515, 2.1397, 2.1175,\n",
      "        2.1167, 2.0961, 2.0806, 2.0570, 2.0537, 2.0246, 2.0191, 2.0135, 2.0103,\n",
      "        2.0070, 2.0050])\n"
     ]
    }
   ],
   "source": [
    "logit_lens(model,best_feature, smaller_dict, layer)"
   ]
  }
 ],
 "metadata": {
  "kernelspec": {
   "display_name": "logan",
   "language": "python",
   "name": "python3"
  },
  "language_info": {
   "codemirror_mode": {
    "name": "ipython",
    "version": 3
   },
   "file_extension": ".py",
   "mimetype": "text/x-python",
   "name": "python",
   "nbconvert_exporter": "python",
   "pygments_lexer": "ipython3",
   "version": "3.10.6"
  },
  "orig_nbformat": 4
 },
 "nbformat": 4,
 "nbformat_minor": 2
}
