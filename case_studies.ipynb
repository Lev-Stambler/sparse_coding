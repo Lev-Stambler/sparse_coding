{
 "cells": [
  {
   "cell_type": "code",
   "execution_count": 9,
   "metadata": {},
   "outputs": [
    {
     "name": "stderr",
     "output_type": "stream",
     "text": [
      "/home/mchorse/miniconda3/envs/logan/lib/python3.10/site-packages/tqdm/auto.py:21: TqdmWarning:\n",
      "\n",
      "IProgress not found. Please update jupyter and ipywidgets. See https://ipywidgets.readthedocs.io/en/stable/user_install.html\n",
      "\n"
     ]
    }
   ],
   "source": [
    "import torch\n",
    "from transformer_lens import HookedTransformer\n",
    "import numpy as np \n",
    "from torch import nn\n",
    "import pickle\n",
    "\n",
    "# Define the autoencoder so pickle knows how to serialize it. \n",
    "# Later, we should actually save as a state_dict instead of a dumb pickle\n",
    "class AutoEncoder(nn.Module):\n",
    "    def __init__(self, activation_size, n_dict_components, t_type=torch.float32, l1_coef=0.0):\n",
    "        super(AutoEncoder, self).__init__()\n",
    "        \n",
    "        # Only defining the decoder layer, encoder will share its weights\n",
    "        self.decoder = nn.Linear(n_dict_components, activation_size, bias=True)\n",
    "        # Create a bias layer\n",
    "        self.encoder_bias= nn.Parameter(torch.zeros(n_dict_components))\n",
    "\n",
    "        \n",
    "        # Initialize the decoder weights orthogonally\n",
    "        nn.init.orthogonal_(self.decoder.weight)\n",
    "        self.decoder = self.decoder.to(t_type)\n",
    "\n",
    "        # Encoder is a Sequential with the ReLU activation\n",
    "        # No need to define a Linear layer for the encoder as its weights are tied with the decoder\n",
    "        self.encoder = nn.Sequential(nn.ReLU()).to(t_type)\n",
    "\n",
    "        self.l1_coef = l1_coef\n",
    "        self.activation_size = activation_size\n",
    "        self.n_dict_components = n_dict_components\n",
    "\n",
    "    def forward(self, x):\n",
    "        c = self.encoder(x @ self.decoder.weight + self.encoder_bias)\n",
    "        # Apply unit norm constraint to the decoder weights\n",
    "        self.decoder.weight.data = nn.functional.normalize(self.decoder.weight.data, dim=0)\n",
    "\n",
    "        # Decoding step as before\n",
    "        x_hat = self.decoder(c)\n",
    "        return x_hat, c\n",
    "\n",
    "\n",
    "    @property\n",
    "    def device(self):\n",
    "        return next(self.parameters()).device"
   ]
  },
  {
   "cell_type": "code",
   "execution_count": 10,
   "metadata": {},
   "outputs": [
    {
     "name": "stderr",
     "output_type": "stream",
     "text": [
      "Using pad_token, but it is not set yet.\n"
     ]
    },
    {
     "name": "stdout",
     "output_type": "stream",
     "text": [
      "Loaded pretrained model EleutherAI/pythia-70m-deduped into HookedTransformer\n",
      "torch.Size([512, 512])\n",
      "torch.Size([1024, 512])\n",
      "torch.Size([2048, 512])\n",
      "torch.Size([4096, 512])\n",
      "torch.Size([8192, 512])\n",
      "len of autoencoders:  1\n",
      "smaller_dict.shape:  torch.Size([4096, 512])\n",
      "larger_dict.shape:  torch.Size([8192, 512])\n"
     ]
    }
   ],
   "source": [
    "filename = \"ae4.pkl\"\n",
    "layer = 4\n",
    "setting = \"residual\"\n",
    "model_name = \"EleutherAI/pythia-70m-deduped\"\n",
    "\n",
    "device = torch.device(\"cuda:5\" if torch.cuda.is_available() else \"cpu\")\n",
    "model = HookedTransformer.from_pretrained(model_name, device=device)\n",
    "\n",
    "if setting == \"residual\":\n",
    "    cache_name = f\"blocks.{layer}.hook_resid_post\"\n",
    "    neurons = model.cfg.d_model\n",
    "elif setting == \"mlp\":\n",
    "    cache_name = f\"blocks.{layer}.mlp.hook_post\"\n",
    "    neurons = model.cfg.d_mlp\n",
    "else:\n",
    "    raise NotImplementedError\n",
    "\n",
    "\n",
    "# Load the pickle file\n",
    "with open(filename, 'rb') as file:\n",
    "    autoencoders = pickle.load(file)\n",
    "\n",
    "# Index for l1 value, usually only 1 value is available\n",
    "l1_index = 0\n",
    "dictionaries = [autoencoder.decoder.weight.data.T for autoencoder in autoencoders[l1_index]]\n",
    "for d in dictionaries:\n",
    "    print(d.shape)\n",
    "print(\"len of autoencoders: \", len(autoencoders))\n",
    "dict_index = 3\n",
    "smaller_dict, larger_dict = dictionaries[dict_index], dictionaries[dict_index+1]\n",
    "smaller_auto_encoder, larger_auto_encoder = autoencoders[l1_index][dict_index], autoencoders[l1_index][dict_index+1]\n",
    "print(\"smaller_dict.shape: \", smaller_dict.shape)\n",
    "print(\"larger_dict.shape: \", larger_dict.shape)"
   ]
  },
  {
   "cell_type": "code",
   "execution_count": 11,
   "metadata": {},
   "outputs": [
    {
     "name": "stdout",
     "output_type": "stream",
     "text": [
      "('# of features above 0.9:', 2717)\n"
     ]
    },
    {
     "data": {
      "image/png": "[encoded data removed]",
      "text/plain": [
       "<Figure size 640x480 with 1 Axes>"
      ]
     },
     "metadata": {},
     "output_type": "display_data"
    }
   ],
   "source": [
    "from scipy.optimize import linear_sum_assignment\n",
    "import matplotlib.pyplot as plt\n",
    "#Dictionary Comparison\n",
    "smaller_dict_features, _ = smaller_dict.shape\n",
    "larger_dict_features, _ = larger_dict.shape\n",
    "larger_dict = larger_dict.to(device)\n",
    "# Hungary algorithm\n",
    "# Calculate all cosine similarities and store in a 2D array\n",
    "cos_sims = np.zeros((smaller_dict_features, larger_dict_features))\n",
    "for idx, vector in enumerate(smaller_dict):\n",
    "    cos_sims[idx] = torch.nn.functional.cosine_similarity(vector.to(device), larger_dict, dim=1).cpu().numpy()\n",
    "# Convert to a minimization problem\n",
    "cos_sims = 1 - cos_sims\n",
    "# Use the Hungarian algorithm to solve the assignment problem\n",
    "row_ind, col_ind = linear_sum_assignment(cos_sims)\n",
    "# Retrieve the max cosine similarities and corresponding indices\n",
    "max_cosine_similarities = 1 - cos_sims[row_ind, col_ind]\n",
    "\n",
    "# Get the indices of the max cosine similarities in descending order\n",
    "max_indices = np.argsort(max_cosine_similarities)[::-1].copy()\n",
    "print((\"# of features above 0.9:\", (max_cosine_similarities > .9).sum()))\n",
    "# Plot histogram of max_cosine_similarities\n",
    "plt.hist(max_cosine_similarities, bins=20)\n",
    "plt.show()"
   ]
  },
  {
   "cell_type": "code",
   "execution_count": 12,
   "metadata": {},
   "outputs": [
    {
     "name": "stderr",
     "output_type": "stream",
     "text": [
      "Found cached dataset parquet (/home/mchorse/.cache/huggingface/datasets/NeelNanda___parquet/NeelNanda--pile-10k-72f566e9f7c464ab/0.0.0/2a3b91fbd88a2c90d1dbbb32b460cf621d31bd5b05b934492fdef7d8d6f236ec)\n",
      "Loading cached processed dataset at /home/mchorse/.cache/huggingface/datasets/NeelNanda___parquet/NeelNanda--pile-10k-72f566e9f7c464ab/0.0.0/2a3b91fbd88a2c90d1dbbb32b460cf621d31bd5b05b934492fdef7d8d6f236ec/cache-3d918a3b8bb67278.arrow\n",
      "Loading cached processed dataset at /home/mchorse/.cache/huggingface/datasets/NeelNanda___parquet/NeelNanda--pile-10k-72f566e9f7c464ab/0.0.0/2a3b91fbd88a2c90d1dbbb32b460cf621d31bd5b05b934492fdef7d8d6f236ec/cache-936b79d074ce1a9e.arrow\n",
      "Loading cached processed dataset at /home/mchorse/.cache/huggingface/datasets/NeelNanda___parquet/NeelNanda--pile-10k-72f566e9f7c464ab/0.0.0/2a3b91fbd88a2c90d1dbbb32b460cf621d31bd5b05b934492fdef7d8d6f236ec/cache-5899fa893faa3f67.arrow\n"
     ]
    }
   ],
   "source": [
    "# Downnload dataset\n",
    "from datasets import Dataset, load_dataset\n",
    "dataset_name = \"NeelNanda/pile-10k\"\n",
    "token_amount= 40\n",
    "dataset = load_dataset(dataset_name, split=\"train\").map(\n",
    "    lambda x: model.tokenizer(x['text']),\n",
    "    batched=True,\n",
    ").filter(\n",
    "    lambda x: len(x['input_ids']) > token_amount\n",
    ").map(\n",
    "    lambda x: {'input_ids': x['input_ids'][:token_amount]}\n",
    ")"
   ]
  },
  {
   "cell_type": "code",
   "execution_count": 13,
   "metadata": {},
   "outputs": [
    {
     "name": "stderr",
     "output_type": "stream",
     "text": [
      "100%|██████████| 155/155 [00:05<00:00, 26.99it/s]\n"
     ]
    }
   ],
   "source": [
    "# Now we can use the model to get the activations\n",
    "from torch.utils.data import DataLoader\n",
    "from tqdm.auto import tqdm\n",
    "from einops import rearrange\n",
    "# neurons = model.W_in.shape[-1]\n",
    "neurons = model.cfg.d_model\n",
    "datapoints = dataset.num_rows\n",
    "batch_size = 64\n",
    "neuron_activations = torch.zeros((datapoints*token_amount, neurons))\n",
    "dictionary_activations = torch.zeros((datapoints*token_amount, smaller_dict_features))\n",
    "smaller_auto_encoder = smaller_auto_encoder.to(device)\n",
    "\n",
    "with torch.no_grad(), dataset.formatted_as(\"pt\"):\n",
    "    dl = DataLoader(dataset[\"input_ids\"], batch_size=batch_size)\n",
    "    for i, batch in enumerate(tqdm(dl)):\n",
    "        _, cache = model.run_with_cache(batch.to(device))\n",
    "        batched_neuron_activations = rearrange(cache[cache_name], \"b s n -> (b s) n\" )\n",
    "        neuron_activations[i*batch_size*token_amount:(i+1)*batch_size*token_amount,:] = batched_neuron_activations.cpu()\n",
    "        reconstruction, batched_dictionary_activations = smaller_auto_encoder(batched_neuron_activations)\n",
    "        dictionary_activations[i*batch_size*token_amount:(i+1)*batch_size*token_amount,:] = batched_dictionary_activations.cpu()"
   ]
  },
  {
   "cell_type": "code",
   "execution_count": 14,
   "metadata": {},
   "outputs": [],
   "source": [
    "from circuitsvis.activations import text_neuron_activations\n",
    "# Get the activations for the best dict features\n",
    "def get_feature_datapoints(feature_index, dictionary_activations, dataset, k=10, setting=\"max\"):\n",
    "    best_feature_activations = dictionary_activations[:, feature_index]\n",
    "    # Sort the features by activation, get the indices\n",
    "    if setting==\"max\":\n",
    "        found_indices = torch.argsort(best_feature_activations, descending=True)[:k]\n",
    "    elif setting==\"uniform\":\n",
    "        min_value = torch.min(best_feature_activations)\n",
    "        max_value = torch.max(best_feature_activations)\n",
    "\n",
    "        # Define the number of bins\n",
    "        num_bins = k\n",
    "\n",
    "        # Calculate the bin boundaries as linear interpolation between min and max\n",
    "        bin_boundaries = torch.linspace(min_value, max_value, num_bins + 1)\n",
    "\n",
    "        # Assign each activation to its respective bin\n",
    "        bins = torch.bucketize(best_feature_activations, bin_boundaries)\n",
    "\n",
    "        # Initialize a list to store the sampled indices\n",
    "        sampled_indices = []\n",
    "\n",
    "        # Sample from each bin\n",
    "        for bin_idx in torch.unique(bins):\n",
    "            # Get the indices corresponding to the current bin\n",
    "            bin_indices = torch.nonzero(bins == bin_idx, as_tuple=False).squeeze(dim=1)\n",
    "            \n",
    "            # Randomly sample from the current bin\n",
    "            sampled_indices.extend(np.random.choice(bin_indices, size=1, replace=False))\n",
    "\n",
    "        # Convert the sampled indices to a PyTorch tensor & reverse order\n",
    "        found_indices = torch.tensor(sampled_indices).long().flip(dims=[0])\n",
    "    else: # random\n",
    "        # get nonzero indices\n",
    "        nonzero_indices = torch.nonzero(best_feature_activations)[:, 0]\n",
    "        # shuffle\n",
    "        shuffled_indices = nonzero_indices[torch.randperm(nonzero_indices.shape[0])]\n",
    "        found_indices = shuffled_indices[:k]\n",
    "    datapoint_indices =[np.unravel_index(i, (datapoints, token_amount)) for i in found_indices]\n",
    "    text_list = []\n",
    "    full_text = []\n",
    "    token_list = []\n",
    "    full_token_list = []\n",
    "    for md, s_ind in datapoint_indices:\n",
    "        md = int(md)\n",
    "        s_ind = int(s_ind)\n",
    "        full_tok = torch.tensor(dataset[md][\"input_ids\"])\n",
    "        full_text.append(model.tokenizer.decode(full_tok))\n",
    "        tok = dataset[md][\"input_ids\"][:s_ind+1]\n",
    "        text = model.tokenizer.decode(tok)\n",
    "        text_list.append(text)\n",
    "        token_list.append(tok)\n",
    "        full_token_list.append(full_tok)\n",
    "    return text_list, full_text, token_list, full_token_list\n",
    "\n",
    "def get_neuron_activation(token, feature, model, setting=\"dictionary_basis\"):\n",
    "    with torch.no_grad():\n",
    "        _, cache = model.run_with_cache(token.to(model.cfg.device))\n",
    "        neuron_act_batch = cache[cache_name]\n",
    "        if setting==\"dictionary_basis\":\n",
    "            _, act = smaller_auto_encoder(neuron_act_batch)\n",
    "            return act[0, :, feature].tolist()\n",
    "        else: # neuron/residual basis\n",
    "            return neuron_act_batch[0, :, feature].tolist()\n",
    "\n",
    "def ablate_text(text, feature, model, setting=\"plot\"):\n",
    "    if isinstance(text, str):\n",
    "        text = [text]\n",
    "    display_text_list = []\n",
    "    activation_list = []\n",
    "    for t in text:\n",
    "        # Convert text into tokens\n",
    "        if isinstance(t, str): # If the text is a list of tokens\n",
    "            split_text = model.to_str_tokens(t, prepend_bos=False)\n",
    "            tokens = model.to_tokens(t, prepend_bos=False)\n",
    "        else: # t equals tokens\n",
    "            tokens = t\n",
    "            split_text = model.to_str_tokens(t, prepend_bos=False)\n",
    "        seq_size = tokens.shape[1]\n",
    "        if(seq_size == 1): # If the text is a single token, we can't ablate it\n",
    "            continue\n",
    "        original = get_neuron_activation(tokens, feature, model)[-1]\n",
    "        changed_activations = torch.zeros(seq_size, device=device).cpu()\n",
    "        for i in range(seq_size):\n",
    "            # Remove the i'th token from the input\n",
    "            ablated_tokens = torch.cat((tokens[:,:i], tokens[:,i+1:]), dim=1)\n",
    "            changed_activations[i] += get_neuron_activation(ablated_tokens, feature, model)[-1]\n",
    "        changed_activations -= original\n",
    "        display_text_list += [x.replace('\\n', '\\\\newline') for x in split_text] + [\"\\n\"]\n",
    "        activation_list += changed_activations.tolist() + [0.0]\n",
    "    activation_list = torch.tensor(activation_list).reshape(-1,1,1)\n",
    "    if setting == \"plot\":\n",
    "        return text_neuron_activations(tokens=display_text_list, activations=activation_list)\n",
    "    else:\n",
    "        return display_text_list, activation_list\n",
    "def visualize_text(text, feature, model, setting=\"dictionary_basis\", max_activation = None):\n",
    "    if isinstance(text, str):\n",
    "        text = [text]\n",
    "    if isinstance(feature, int):\n",
    "        feature = [feature]\n",
    "    display_text_list = []\n",
    "    act_list = []\n",
    "    for t in text:\n",
    "        if isinstance(t, str): # If the text is a list of tokens\n",
    "            split_text = model.to_str_tokens(t, prepend_bos=False)\n",
    "            token = model.to_tokens(t, prepend_bos=False)\n",
    "        else: # t are tokens\n",
    "            token = t\n",
    "            split_text = model.to_str_tokens(t, prepend_bos=False)\n",
    "        for f in feature:\n",
    "            display_text_list += [x.replace('\\n', '\\\\newline') for x in split_text] + [\"\\n\"]\n",
    "            act_list += get_neuron_activation(token, f, model, setting) + [0.0]\n",
    "    act_list = torch.tensor(act_list).reshape(-1,1,1)\n",
    "    if(max_activation is not None):\n",
    "        act_list = torch.clamp(act_list, max=max_activation)\n",
    "    return text_neuron_activations(tokens=display_text_list, activations=act_list)\n",
    "# Ablate the feature direction of the tokens\n",
    "# token_list is a list of tokens, convert to tensor of shape (batch_size, seq_len)\n",
    "from einops import rearrange\n",
    "def ablate_feature_direction(tokens, feature, model, autoencoder, entire_feature_direction=False):\n",
    "    def mlp_ablation_hook(value, hook):\n",
    "        # Rearrange to fit autoencoder\n",
    "        int_val = rearrange(value, 'b s h -> (b s) h')\n",
    "\n",
    "        # Run through the autoencoder\n",
    "        _, act = autoencoder(int_val)\n",
    "        feature_to_ablate = feature # TODO: bring this out of the function\n",
    "\n",
    "        # Subtract value with feature direction*act_of_feature\n",
    "        feature_direction = torch.outer(act[:, feature_to_ablate].squeeze(), autoencoder.decoder.weight[:, feature_to_ablate].squeeze())\n",
    "        batch, seq_len, hidden_size = value.shape\n",
    "        feature_direction = rearrange(feature_direction, '(b s) h -> b s h', b=batch, s=seq_len)\n",
    "        value -= feature_direction\n",
    "        return value\n",
    "    \n",
    "    def ablated_this_feature_dir(value, hook):\n",
    "        value -= feature\n",
    "        return value\n",
    "    if(entire_feature_direction):\n",
    "        return model.run_with_hooks(tokens, \n",
    "            fwd_hooks=[(\n",
    "                cache_name, \n",
    "                ablated_this_feature_dir\n",
    "                )]\n",
    "            )\n",
    "    else:\n",
    "        return model.run_with_hooks(tokens, \n",
    "            fwd_hooks=[(\n",
    "                cache_name, \n",
    "                mlp_ablation_hook\n",
    "                )]\n",
    "            )\n",
    "\n",
    "def add_feature_direction(tokens, feature, model, autoencoder, scalar=1.0):\n",
    "    def residual_add_hook(value, hook):\n",
    "        feature_direction = autoencoder.decoder.weight[:, feature].squeeze()\n",
    "        value += scalar*feature_direction\n",
    "        return value\n",
    "\n",
    "    return model.run_with_hooks(tokens, \n",
    "        fwd_hooks=[(\n",
    "            cache_name,\n",
    "            residual_add_hook\n",
    "            )]\n",
    "        )\n",
    "def ablate_feature_direction_display(text, features=None, setting=\"true_tokens\", verbose=False, entire_feature_direction=False):\n",
    "\n",
    "    if features==None:\n",
    "        features = torch.tensor([best_feature])\n",
    "    if isinstance(features, int):\n",
    "        features = torch.tensor([features])\n",
    "    if isinstance(features, list):\n",
    "        features = torch.tensor(features)\n",
    "    if isinstance(text, str):\n",
    "        text = [text]\n",
    "    text_list = []\n",
    "    logit_list = []\n",
    "    for t in text:\n",
    "        tokens = model.to_tokens(t, prepend_bos=False)\n",
    "        with torch.no_grad():\n",
    "            original_logits = model(tokens).log_softmax(-1).cpu()\n",
    "            ablated_logits = ablate_feature_direction(tokens, features, model, smaller_auto_encoder, entire_feature_direction).log_softmax(-1).cpu()\n",
    "        diff_logits = ablated_logits  - original_logits# ablated > original -> negative diff\n",
    "        tokens = tokens.cpu()\n",
    "        if setting == \"true_tokens\":\n",
    "            split_text = model.to_str_tokens(t, prepend_bos=False)\n",
    "            gather_tokens = rearrange(tokens[:,1:], \"b s -> b s 1\") # TODO: verify this is correct\n",
    "            # Gather the logits for the true tokens\n",
    "            diff = rearrange(diff_logits[:, :-1].gather(-1,gather_tokens), \"b s n -> (b s n)\")\n",
    "        elif setting == \"max\":\n",
    "            # Negate the diff_logits to see which tokens have the largest effect on the neuron\n",
    "            val, ind = (-1*diff_logits).max(-1)\n",
    "            diff = rearrange(val[:, :-1], \"b s -> (b s)\")\n",
    "            diff*= -1 # Negate the values gathered\n",
    "            split_text = model.to_str_tokens(ind, prepend_bos=False)\n",
    "            gather_tokens = rearrange(ind[:,1:], \"1 s -> 1 s 1\")\n",
    "        split_text = split_text[1:] # Remove the first token since we're not predicting it\n",
    "        if(verbose):\n",
    "            text_list += [x.replace('\\n', '\\\\newline') for x in split_text] + [\"\\n\"]\n",
    "            text_list += [x.replace('\\n', '\\\\newline') for x in split_text] + [\"\\n\"]\n",
    "            orig = rearrange(original_logits[:, :-1].gather(-1, gather_tokens), \"b s n -> (b s n)\")\n",
    "            ablated = rearrange(ablated_logits[:, :-1].gather(-1, gather_tokens), \"b s n -> (b s n)\")\n",
    "            logit_list += orig.tolist() + [0.0]\n",
    "            logit_list += ablated.tolist() + [0.0]\n",
    "        text_list += [x.replace('\\n', '\\\\newline') for x in split_text] + [\"\\n\"]\n",
    "        logit_list += diff.tolist() + [0.0]\n",
    "    logit_list = torch.tensor(logit_list).reshape(-1,1,1)\n",
    "    if verbose:\n",
    "        print(f\"Max & Min logit-diff: {logit_list.max().item():.2f} & {logit_list.min().item():.2f}\")\n",
    "    return text_neuron_activations(tokens=text_list, activations=logit_list)\n",
    "def generate_text(input_text, num_tokens, model, autoencoder, feature, temperature=0.7, setting=\"add\", scalar=1.0):\n",
    "    # Convert input text to tokens\n",
    "    input_ids = model.tokenizer.encode(input_text, return_tensors='pt').to(device)\n",
    "\n",
    "    for _ in range(num_tokens):\n",
    "        # Generate logits\n",
    "        with torch.no_grad():\n",
    "            if(setting==\"add\"):\n",
    "                logits = add_feature_direction(input_ids, feature, model, autoencoder, scalar=scalar)\n",
    "            else:\n",
    "                logits = model(input_ids)\n",
    "\n",
    "        # Apply temperature\n",
    "        logits = logits / temperature\n",
    "\n",
    "        # Sample from the distribution\n",
    "        probs = torch.nn.functional.softmax(logits[:, -1, :], dim=-1)\n",
    "        predicted_token = torch.multinomial(probs, num_samples=1)\n",
    "\n",
    "        # Append predicted token to input_ids\n",
    "        input_ids = torch.cat((input_ids, predicted_token), dim=-1)\n",
    "\n",
    "    # Decode the tokens to text\n",
    "    output_text = model.tokenizer.decode(input_ids[0])\n",
    "\n",
    "    return output_text\n",
    "\n",
    "# Logit Lens\n",
    "def logit_lens(model, best_feature, smaller_dict, layer):\n",
    "    with torch.no_grad():\n",
    "        # There are never-used tokens, which have high norm. We want to ignore these.\n",
    "        bad_ind = (model.W_U.norm(dim=0) > 20)\n",
    "        feature_direction = smaller_dict[best_feature].to(device)\n",
    "        # feature_direction = torch.matmul(feature_direction, model.W_out[layer]) # if MLP\n",
    "        logits = torch.matmul(feature_direction, model.W_U).cpu()\n",
    "    # Don't include bad indices\n",
    "    logits[bad_ind] = -1000\n",
    "    topk_values, topk_indices = torch.topk(logits, 20)\n",
    "    top_text = model.to_str_tokens(topk_indices)\n",
    "    print(f\"{top_text}\")\n",
    "    print(topk_values)\n"
   ]
  },
  {
   "cell_type": "code",
   "execution_count": 15,
   "metadata": {},
   "outputs": [
    {
     "name": "stderr",
     "output_type": "stream",
     "text": [
      "/tmp/ipykernel_72616/4020067778.py:14: UserWarning:\n",
      "\n",
      "torch.searchsorted(): input value tensor is non-contiguous, this will lower the performance due to extra data copy when converting non-contiguous tensor to contiguous, please use contiguous input value tensor if possible. This message will only appear once per program. (Triggered internally at ../aten/src/ATen/native/BucketizationUtils.h:33.)\n",
      "\n"
     ]
    }
   ],
   "source": [
    "feature_index = 2118\n",
    "best_feature_activations = dictionary_activations[:, feature_index]\n",
    "\n",
    "min_value = torch.min(best_feature_activations)\n",
    "max_value = torch.max(best_feature_activations)\n",
    "\n",
    "# Define the number of bins\n",
    "num_bins = 10\n",
    "\n",
    "# Calculate the bin boundaries as linear interpolation between min and max\n",
    "bin_boundaries = torch.linspace(min_value, max_value, num_bins + 1)\n",
    "\n",
    "# Assign each activation to its respective bin\n",
    "bins = torch.bucketize(best_feature_activations, bin_boundaries)"
   ]
  },
  {
   "cell_type": "code",
   "execution_count": null,
   "metadata": {},
   "outputs": [],
   "source": [
    "# Count the number of unique tokens\n",
    "num_unique_tokens = 5\n",
    "from collections import Counter\n",
    "nonzero = bins.nonzero()[:,0]\n",
    "datapoint_indices =[np.unravel_index(i, (datapoints, token_amount)) for i in nonzero]\n",
    "max_token = []\n",
    "for md, s_ind in datapoint_indices:\n",
    "    md = int(md)\n",
    "    s_ind = int(s_ind)\n",
    "    max_token.append(dataset[md][\"input_ids\"][s_ind])\n",
    "\n",
    "ac = Counter(max_token)\n",
    "max_tokens = [token_ind for token_ind, count in ac.most_common(num_unique_tokens)]\n",
    "token_dict = {token: np.zeros(num_bins) for token in max_tokens}\n",
    "misc_count = np.zeros(num_bins)\n",
    "for i in range(1,11):\n",
    "    print(f'Number of unique tokens in bin {i}')\n",
    "    bin_tokens_ind = (bins == i).nonzero()[:,0]\n",
    "    # Grab the datapoint for each nonzero bin\n",
    "    datapoint_indices =[np.unravel_index(i, (datapoints, token_amount)) for i in bin_tokens_ind]\n",
    "    max_token = []\n",
    "    for md, s_ind in datapoint_indices:\n",
    "        md = int(md)\n",
    "        s_ind = int(s_ind)\n",
    "        max_token.append(dataset[md][\"input_ids\"][s_ind])\n",
    "    ac = Counter(max_token)\n",
    "    for token_ind, count in ac.most_common(10):\n",
    "        if(token_ind in max_tokens):\n",
    "            token_dict[token_ind][i-1] = count\n",
    "        else:\n",
    "            misc_count[i-1] += count\n",
    "        print(f'{model.tokenizer.decode(token_ind)}: {count:6} times')"
   ]
  },
  {
   "cell_type": "code",
   "execution_count": 27,
   "metadata": {},
   "outputs": [
    {
     "data": {
      "text/plain": [
       "({457: array([138., 125.,  86.,  54.,  51.,  70.,  97., 122.,  91.,  20.]),\n",
       "  8: array([25.,  5.,  4.,  3.,  4.,  0.,  0.,  0.,  0.,  0.]),\n",
       "  84: array([20.,  0.,  0.,  0.,  0.,  0.,  0.,  0.,  0.,  0.]),\n",
       "  3220: array([18.,  0.,  0.,  0.,  0.,  0.,  0.,  0.,  0.,  0.]),\n",
       "  8924: array([ 0., 11.,  1.,  0.,  2.,  0.,  1.,  0.,  0.,  0.])},\n",
       " array([40., 10.,  3.,  9.,  2.,  0.,  1.,  1.,  0.,  0.]))"
      ]
     },
     "execution_count": 27,
     "metadata": {},
     "output_type": "execute_result"
    }
   ],
   "source": [
    "token_dict, misc_count"
   ]
  },
  {
   "cell_type": "code",
   "execution_count": 70,
   "metadata": {},
   "outputs": [
    {
     "data": {
      "image/png": "[encoded data removed]",
      "text/plain": [
       "<Figure size 640x480 with 1 Axes>"
      ]
     },
     "metadata": {},
     "output_type": "display_data"
    }
   ],
   "source": [
    "import matplotlib.pyplot as plt\n",
    "import numpy as np\n",
    "import seaborn as sns\n",
    "\n",
    "# This line gets a palette of colors. 'deep' is just one of many palettes available.\n",
    "colors = sns.color_palette('colorblind', num_unique_tokens + 1)  # +1 for the 'Misc' bar\n",
    "\n",
    "\n",
    "# Set position of bars\n",
    "r = np.arange(num_bins)\n",
    "running_sum = np.zeros(num_bins)\n",
    "for i in range(num_unique_tokens):\n",
    "    token_id_name = max_tokens[i]\n",
    "    token_count_array = token_dict[token_id_name]\n",
    "    text_label = model.tokenizer.decode(token_id_name)\n",
    "    # if i == 0:\n",
    "    #     plt.bar(r, token_count_array, label=text_label)\n",
    "    # else:\n",
    "    #     # plt.bar(r, data2, bottom=data1, color='#66B2FF', label='data2')  # Stack on top of data1\n",
    "    plt.bar(r, token_count_array, bottom=running_sum, label=text_label, color=colors[i])  # Stack on top of data1+data2\n",
    "    running_sum += token_count_array\n",
    "plt.bar(r, misc_count, bottom=running_sum,  label='Misc', color=colors[-1])  # Stack on top of data1+data2\n",
    "\n",
    "# Title & Subtitle\n",
    "plt.title(f'Token Count for Feature {feature_index} Across Activation Ranges')\n",
    "\n",
    "# X axis\n",
    "plt.xlabel('Activation')\n",
    "# plt.xticks([r for r in range(num_bins)], bin_boundaries[1:])\n",
    "plt.xticks(r, [f\"{val:.1f}\" for val in bin_boundaries[1:]])\n",
    "\n",
    "# Legend\n",
    "plt.legend()\n",
    "\n",
    "# Show the plot\n",
    "plt.tight_layout()\n",
    "plt.show()"
   ]
  },
  {
   "cell_type": "code",
   "execution_count": 64,
   "metadata": {},
   "outputs": [
    {
     "data": {
      "text/plain": [
       "tensor([0.6026, 1.2051, 1.8077, 2.4102, 3.0128, 3.6154, 4.2179, 4.8205, 5.4230,\n",
       "        6.0256])"
      ]
     },
     "execution_count": 64,
     "metadata": {},
     "output_type": "execute_result"
    }
   ],
   "source": []
  },
  {
   "cell_type": "code",
   "execution_count": 52,
   "metadata": {},
   "outputs": [
    {
     "ename": "ModuleNotFoundError",
     "evalue": "No module named 'seaborn'",
     "output_type": "error",
     "traceback": [
      "\u001b[0;31m---------------------------------------------------------------------------\u001b[0m",
      "\u001b[0;31mModuleNotFoundError\u001b[0m                       Traceback (most recent call last)",
      "Cell \u001b[0;32mIn[52], line 1\u001b[0m\n\u001b[0;32m----> 1\u001b[0m \u001b[39mimport\u001b[39;00m \u001b[39mseaborn\u001b[39;00m \u001b[39mas\u001b[39;00m \u001b[39msns\u001b[39;00m\n\u001b[1;32m      3\u001b[0m \u001b[39m# This line gets a palette of colors. 'deep' is just one of many palettes available.\u001b[39;00m\n\u001b[1;32m      4\u001b[0m colors \u001b[39m=\u001b[39m sns\u001b[39m.\u001b[39mcolor_palette(\u001b[39m'\u001b[39m\u001b[39mdeep\u001b[39m\u001b[39m'\u001b[39m, num_unique_tokens \u001b[39m+\u001b[39m \u001b[39m1\u001b[39m)  \u001b[39m# +1 for the 'Misc' bar\u001b[39;00m\n",
      "\u001b[0;31mModuleNotFoundError\u001b[0m: No module named 'seaborn'"
     ]
    }
   ],
   "source": []
  },
  {
   "cell_type": "code",
   "execution_count": 44,
   "metadata": {},
   "outputs": [
    {
     "data": {
      "text/plain": [
       "array([63., 16.,  5.,  3.,  6.,  0.,  1.,  0.,  0.,  0.])"
      ]
     },
     "execution_count": 44,
     "metadata": {},
     "output_type": "execute_result"
    }
   ],
   "source": [
    "# ’:    138 times\n",
    "# ':     25 times\n",
    "# s:     20 times\n",
    "# My:     18 times\n",
    "#  ‘:     12 times\n",
    "# Your:      7 times\n",
    "#  number:      7 times\n",
    "#  ':      5 times\n",
    "# 2:      5 times\n",
    "#  1990:      4 times\n"
   ]
  },
  {
   "cell_type": "code",
   "execution_count": 39,
   "metadata": {},
   "outputs": [
    {
     "data": {
      "text/plain": [
       "(array([25.,  5.,  4.,  3.,  4.,  0.,  0.,  0.,  0.,  0.]),\n",
       " array([25.,  5.,  4.,  3.,  4.,  0.,  0.,  0.,  0.,  0.]))"
      ]
     },
     "execution_count": 39,
     "metadata": {},
     "output_type": "execute_result"
    }
   ],
   "source": [
    "running_sum, token_count_array"
   ]
  },
  {
   "cell_type": "code",
   "execution_count": 34,
   "metadata": {},
   "outputs": [
    {
     "data": {
      "text/plain": [
       "array([138., 125.,  86.,  54.,  51.,  70.,  97., 122.,  91.,  20.])"
      ]
     },
     "execution_count": 34,
     "metadata": {},
     "output_type": "execute_result"
    }
   ],
   "source": [
    "token_dict[]"
   ]
  },
  {
   "cell_type": "code",
   "execution_count": 30,
   "metadata": {},
   "outputs": [
    {
     "data": {
      "image/png": "[encoded data removed]",
      "text/plain": [
       "<Figure size 1000x600 with 1 Axes>"
      ]
     },
     "metadata": {},
     "output_type": "display_data"
    }
   ],
   "source": [
    "import matplotlib.pyplot as plt\n",
    "import numpy as np\n",
    "\n",
    "# Sample data\n",
    "labels = ['A', 'B', 'C', 'D', 'E']\n",
    "data1 = [5, 7, 3, 4, 6]\n",
    "data2 = [6, 6, 4, 5, 7]\n",
    "data3 = [7, 8, 5, 6, 8]\n",
    "\n",
    "# Set bar width\n",
    "barWidth = 0.6\n",
    "\n",
    "# Set position of bars\n",
    "r = np.arange(len(data1))\n",
    "\n",
    "# Improved aesthetics\n",
    "plt.figure(figsize=(10,6))\n",
    "plt.bar(r, data1, width=barWidth, color='#FF9999', alpha=0.7, label='data1', zorder=1)\n",
    "plt.bar(r, data2, width=barWidth, color='#66B2FF', alpha=0.7, label='data2', zorder=2)\n",
    "plt.bar(r, data3, width=barWidth, color='#99FF99', alpha=0.7, label='data3', zorder=0)\n",
    "\n",
    "# Improved Title & Subtitle\n",
    "plt.title('Overlapping Bars', fontweight='bold', fontsize=15, pad=20)\n",
    "plt.ylabel('Value', fontweight='bold', fontsize=13)\n",
    "plt.xlabel('Categories', fontweight='bold', fontsize=13)\n",
    "plt.xticks([r for r in range(len(data1))], labels, fontsize=12)\n",
    "\n",
    "# Adding a grid\n",
    "# plt.grid(axis='y', linestyle='--', linewidth=0.7, alpha=0.6)\n",
    "\n",
    "# Remove spines for cleaner look\n",
    "plt.gca().spines['top'].set_visible(False)\n",
    "plt.gca().spines['right'].set_visible(False)\n",
    "\n",
    "# Legend\n",
    "plt.legend(fontsize=12)\n",
    "\n",
    "# Show the plot\n",
    "plt.tight_layout()\n",
    "plt.show()\n"
   ]
  },
  {
   "cell_type": "code",
   "execution_count": 21,
   "metadata": {},
   "outputs": [
    {
     "data": {
      "text/plain": [
       "'\"'"
      ]
     },
     "execution_count": 21,
     "metadata": {},
     "output_type": "execute_result"
    }
   ],
   "source": [
    "bins.max()\n",
    "model.tokenizer.decode([3])"
   ]
  },
  {
   "cell_type": "code",
   "execution_count": 22,
   "metadata": {},
   "outputs": [
    {
     "name": "stdout",
     "output_type": "stream",
     "text": [
      "’:    854 times\n",
      "':     41 times\n",
      "s:     21 times\n",
      "My:     18 times\n",
      "‘:     18 times\n",
      " ‘:     13 times\n",
      "Your:      7 times\n",
      " number:      7 times\n",
      "´:      5 times\n",
      " ':      5 times\n"
     ]
    }
   ],
   "source": []
  },
  {
   "cell_type": "code",
   "execution_count": 28,
   "metadata": {},
   "outputs": [
    {
     "name": "stdout",
     "output_type": "stream",
     "text": [
      "Activations: [3.7, 2.79, 2.23, 1.66, 0.98, 0.91, 0.9, 0.67, 0.66, 0.45]\n",
      "Feature_ids [3482, 4072, 3920, 310, 2015, 3969, 478, 367, 1940, 1911]\n"
     ]
    }
   ],
   "source": [
    "# t = \"いさんさん��に\"\n",
    "t = \" Bratwurst, Sauerkraut, und Bier\"\n",
    "# t = \"我们一起去玩吧\"\n",
    "# t = \"for i in range\"\n",
    "# t = \" I don't know about Dave'\"\n",
    "# t = \" I like to eat them (apples and oranges\"\n",
    "# t = \" I like to eat them at National Institute of Justice (NIJ\"\n",
    "split_text = model.to_str_tokens(t, prepend_bos=False)\n",
    "token = model.to_tokens(t, prepend_bos=False)\n",
    "_, cache = model.run_with_cache(token.to(model.cfg.device))\n",
    "neuron_act_batch = cache[cache_name]\n",
    "_, act = smaller_auto_encoder(neuron_act_batch)\n",
    "v, i = act[0, -1, :].topk(10)\n",
    "\n",
    "print(\"Activations:\",[round(val,2) for val in v.tolist()])\n",
    "print(\"Feature_ids\", i.tolist())"
   ]
  },
  {
   "cell_type": "code",
   "execution_count": 29,
   "metadata": {},
   "outputs": [
    {
     "name": "stdout",
     "output_type": "stream",
     "text": [
      "bias: -1.6748704\n",
      "Feature index: 3482\n",
      "MCS: 0.8248700499534607\n"
     ]
    },
    {
     "data": {
      "text/html": [
       "<div id=\"circuits-vis-d96edc30-0b6b\" style=\"margin: 15px 0;\"/>\n",
       "    <script crossorigin type=\"module\">\n",
       "    import { render, TextNeuronActivations } from \"https://unpkg.com/circuitsvis@1.40.1/dist/cdn/esm.js\";\n",
       "    render(\n",
       "      \"circuits-vis-d96edc30-0b6b\",\n",
       "      TextNeuronActivations,\n",
       "      {\"tokens\": [\"Die\", \" \\u201e\", \"Sch\", \"reck\", \"\\n\", \"W\", \"ien\", \" G\", \"eg\", \"ner\", \"n\", \" der\", \" R\", \"und\", \"fun\", \"k\", \"geb\", \"\\u00fc\", \"hr\", \"\\n\", \"\\\\newline\", \"German\", \":\", \" \", \"\\\\newline\", \"[\", \"Mus\", \"ik\", \"]\", \"\\\\newline\", \"Fre\", \"unde\", \" in\", \" dieser\", \" bes\", \"onde\", \"ren\", \" Episode\", \" von\", \" G\", \"low\", \"\\\\newline\", \"Tr\", \"ab\", \" mit\", \" T\", \"rey\", \" Dean\", \" Kom\", \"pl\", \"ize\", \"\\\\newline\", \"er\", \"z\", \"\\u00e4h\", \"lt\", \" eine\", \" Gesch\", \"ichte\", \"\\n\", \"K\", \"\\u00f6\", \"z\", \"\\u00f6s\", \"\\n\", \"R\", \"icht\", \"weg\", \" (\", \"H\", \"amb\", \"urg\", \" U\", \"\\n\", \"W\", \"ier\", \"z\", \"ch\", \"ow\", \"o\", \",\", \" Draw\", \"sk\", \"o\", \" County\", \"\\\\newline\", \"\\\\newline\", \"W\", \"ier\", \"\\n\", \"I\", \" K\", \"ung\", \"str\", \"\\u00e4\", \"dg\", \"\\u00e5r\", \"\\n\", \"Mil\", \"an\", \" Dol\", \"ins\", \"k\", \"\\u00fd\", \"\\\\newline\", \"\\\\newline\", \"Mil\", \"an\", \" Dol\", \"ins\", \"k\", \"\\u00fd\", \" (\", \"born\", \" 17\", \" April\", \" 1935\", \")\", \" is\", \" a\", \" former\", \" Slov\", \"ak\", \" footballer\", \".\", \"\\\\newline\", \"\\\\newline\", \"During\", \" his\", \" career\", \" he\", \" played\", \" for\", \" CH\", \" Br\", \"at\", \"\\n\", \"Pseud\", \"omonas\", \" aeruginosa\", \" (\", \"PA\", \")\", \" is\", \" an\", \" opportun\", \"istic\", \" gram\", \"-\", \"negative\", \" pathogen\", \" responsible\", \" for\", \" a\", \" large\", \" number\", \" of\", \" nos\", \"ocom\", \"ial\", \" infections\", \".\", \" Dr\", \".\", \" Jo\", \"anne\", \" Eng\", \"\\n\", \"Cont\", \"empl\", \"ative\", \" Rubio\", \".\", \" Photo\", \":\", \" Nicholas\", \" K\", \"amm\", \"\\n\", \"Two\", \" confirmed\", \"\\n\"], \"activations\": [[[0.0]], [[0.21785175800323486]], [[2.1043877601623535]], [[4.213967323303223]], [[0.0]], [[0.0]], [[0.8692375421524048]], [[0.12849712371826172]], [[0.3742133378982544]], [[0.6921850442886353]], [[1.4489365816116333]], [[0.24074363708496094]], [[1.005804181098938]], [[2.03729248046875]], [[1.1642435789108276]], [[2.13893461227417]], [[1.4429322481155396]], [[1.0341624021530151]], [[3.7412710189819336]], [[0.0]], [[0.0]], [[0.30478060245513916]], [[0.0]], [[0.0]], [[0.0]], [[0.0]], [[0.0]], [[0.0833824872970581]], [[0.0]], [[0.0]], [[0.0]], [[1.9747332334518433]], [[0.0]], [[0.0]], [[0.0]], [[0.0]], [[0.4798933267593384]], [[0.38952815532684326]], [[0.7004667520523071]], [[1.1251715421676636]], [[2.075643539428711]], [[0.0]], [[0.0]], [[0.5170928239822388]], [[0.0]], [[0.23531126976013184]], [[1.4960025548934937]], [[0.0]], [[0.409298300743103]], [[1.3763688802719116]], [[1.9379879236221313]], [[0.0]], [[0.07750082015991211]], [[0.0]], [[1.1997545957565308]], [[0.045575737953186035]], [[0.0]], [[2.316567897796631]], [[3.2398219108581543]], [[0.0]], [[0.0]], [[1.660946011543274]], [[3.440843105316162]], [[2.931210517883301]], [[0.0]], [[0.0]], [[2.104461193084717]], [[2.8696727752685547]], [[0.06408166885375977]], [[0.2722620964050293]], [[1.896941065788269]], [[4.430606842041016]], [[2.708357810974121]], [[0.0]], [[0.0]], [[0.8831440210342407]], [[0.5026575326919556]], [[0.5443407297134399]], [[0.0]], [[0.1683896780014038]], [[0.0]], [[0.0]], [[0.27519237995147705]], [[0.0]], [[0.0]], [[0.0]], [[0.0]], [[0.0]], [[1.9242242574691772]], [[0.0]], [[0.0]], [[0.0]], [[0.23138058185577393]], [[0.9087718725204468]], [[0.8880232572555542]], [[2.2483386993408203]], [[1.5318611860275269]], [[0.0]], [[0.0]], [[0.0]], [[0.0]], [[0.0]], [[0.7768036127090454]], [[0.07245278358459473]], [[0.0]], [[0.0]], [[0.0]], [[0.0]], [[0.0]], [[0.6910704374313354]], [[1.4135011434555054]], [[0.3801196813583374]], [[0.0]], [[0.0]], [[0.0]], [[0.0]], [[0.0]], [[0.0]], [[0.0]], [[0.0]], [[0.0]], [[0.0]], [[0.0]], [[0.0]], [[0.0]], [[0.0]], [[0.0]], [[0.0]], [[0.0]], [[0.0]], [[0.0]], [[0.0]], [[0.0]], [[0.0]], [[0.0]], [[0.9865399599075317]], [[0.0]], [[0.0]], [[0.0438457727432251]], [[0.0]], [[0.0]], [[0.0]], [[0.0]], [[0.0]], [[0.0]], [[0.0]], [[0.0]], [[0.0]], [[0.0]], [[0.0]], [[0.0]], [[0.0]], [[0.0]], [[0.0]], [[0.0]], [[0.0]], [[0.0]], [[0.0]], [[0.0]], [[0.0]], [[0.0]], [[0.0]], [[0.0]], [[0.0]], [[0.0]], [[0.0]], [[0.7734335660934448]], [[0.0]], [[0.0]], [[0.0]], [[0.0]], [[0.0]], [[0.0]], [[0.0]], [[0.0]], [[0.0]], [[0.0]], [[0.14564204216003418]], [[0.0]], [[0.0]], [[0.0]], [[0.0]]], \"firstDimensionName\": \"Layer\", \"secondDimensionName\": \"Neuron\"}\n",
       "    )\n",
       "    </script>"
      ],
      "text/plain": [
       "<circuitsvis.utils.render.RenderedHTML at 0x7f0b7c6a45e0>"
      ]
     },
     "execution_count": 29,
     "metadata": {},
     "output_type": "execute_result"
    }
   ],
   "source": [
    "N = 101\n",
    "best_feature = int(max_indices[N])\n",
    "# best_feature = 2122 #Mandarin\n",
    "# best_feature = 2118 # 's\n",
    "# best_feature = 2079 # (within parentheses)\n",
    "\n",
    "# best_feature = 2917 # open paran before acronym\n",
    "# best_feature = 2808 # open paran before acronym\n",
    "# best_feature = 2808 # (within parentheses)\n",
    "best_feature = 3482 # 3482, 4072, 3920, 310\n",
    "print(\"bias:\", smaller_auto_encoder.encoder_bias.detach().cpu().numpy()[best_feature])\n",
    "print(f\"Feature index: {best_feature}\")\n",
    "print(f\"MCS: {max_cosine_similarities[best_feature]}\")\n",
    "# text_list, full_text, token_list, full_token_list = get_feature_datapoints(best_feature, dictionary_activations, dataset, setting=\"max\")\n",
    "text_list, full_text, token_list, full_token_list = get_feature_datapoints(best_feature, dictionary_activations, dataset, setting=\"uniform\")\n",
    "# visualize_text(full_text, best_feature, model)\n",
    "visualize_text(text_list, best_feature, model)"
   ]
  },
  {
   "cell_type": "code",
   "execution_count": 30,
   "metadata": {},
   "outputs": [
    {
     "data": {
      "text/html": [
       "<div id=\"circuits-vis-9ab2ae18-77f3\" style=\"margin: 15px 0;\"/>\n",
       "    <script crossorigin type=\"module\">\n",
       "    import { render, TextNeuronActivations } from \"https://unpkg.com/circuitsvis@1.40.1/dist/cdn/esm.js\";\n",
       "    render(\n",
       "      \"circuits-vis-9ab2ae18-77f3\",\n",
       "      TextNeuronActivations,\n",
       "      {\"tokens\": [\"Die\", \" \\u201e\", \"Sch\", \"reck\", \"\\n\", \"W\", \"ien\", \" G\", \"eg\", \"ner\", \"n\", \" der\", \" R\", \"und\", \"fun\", \"k\", \"geb\", \"\\u00fc\", \"hr\", \"\\n\", \"\\\\newline\", \"German\", \":\", \" \", \"\\\\newline\", \"[\", \"Mus\", \"ik\", \"]\", \"\\\\newline\", \"Fre\", \"unde\", \" in\", \" dieser\", \" bes\", \"onde\", \"ren\", \" Episode\", \" von\", \" G\", \"low\", \"\\\\newline\", \"Tr\", \"ab\", \" mit\", \" T\", \"rey\", \" Dean\", \" Kom\", \"pl\", \"ize\", \"\\\\newline\", \"er\", \"z\", \"\\u00e4h\", \"lt\", \" eine\", \" Gesch\", \"ichte\", \"\\n\", \"K\", \"\\u00f6\", \"z\", \"\\u00f6s\", \"\\n\", \"R\", \"icht\", \"weg\", \" (\", \"H\", \"amb\", \"urg\", \" U\", \"\\n\", \"W\", \"ier\", \"z\", \"ch\", \"ow\", \"o\", \",\", \" Draw\", \"sk\", \"o\", \" County\", \"\\\\newline\", \"\\\\newline\", \"W\", \"ier\", \"\\n\", \"I\", \" K\", \"ung\", \"str\", \"\\u00e4\", \"dg\", \"\\u00e5r\", \"\\n\", \"Mil\", \"an\", \" Dol\", \"ins\", \"k\", \"\\u00fd\", \"\\\\newline\", \"\\\\newline\", \"Mil\", \"an\", \" Dol\", \"ins\", \"k\", \"\\u00fd\", \" (\", \"born\", \" 17\", \" April\", \" 1935\", \")\", \" is\", \" a\", \" former\", \" Slov\", \"ak\", \" footballer\", \".\", \"\\\\newline\", \"\\\\newline\", \"During\", \" his\", \" career\", \" he\", \" played\", \" for\", \" CH\", \" Br\", \"at\", \"\\n\", \"Pseud\", \"omonas\", \" aeruginosa\", \" (\", \"PA\", \")\", \" is\", \" an\", \" opportun\", \"istic\", \" gram\", \"-\", \"negative\", \" pathogen\", \" responsible\", \" for\", \" a\", \" large\", \" number\", \" of\", \" nos\", \"ocom\", \"ial\", \" infections\", \".\", \" Dr\", \".\", \" Jo\", \"anne\", \" Eng\", \"\\n\", \"Cont\", \"empl\", \"ative\", \" Rubio\", \".\", \" Photo\", \":\", \" Nicholas\", \" K\", \"amm\", \"\\n\", \"Two\", \" confirmed\", \"\\n\"], \"activations\": [[[-1.374094009399414]], [[-0.5124411582946777]], [[-1.4404253959655762]], [[-2.109579563140869]], [[0.0]], [[0.36356067657470703]], [[-0.03865337371826172]], [[-0.022887229919433594]], [[-0.09320306777954102]], [[-0.2739992141723633]], [[-0.06149101257324219]], [[-1.2515125274658203]], [[-0.5285067558288574]], [[-0.19074726104736328]], [[0.48576927185058594]], [[-0.16632509231567383]], [[-0.18833446502685547]], [[-0.33612775802612305]], [[-2.707108497619629]], [[0.0]], [[-0.04654550552368164]], [[0.026667118072509766]], [[-0.013097286224365234]], [[0.015738487243652344]], [[-0.04851341247558594]], [[-0.03415107727050781]], [[0.0510401725769043]], [[0.03787851333618164]], [[0.09560346603393555]], [[-0.05037117004394531]], [[0.04584503173828125]], [[0.0013303756713867188]], [[-0.05917215347290039]], [[-0.047688961029052734]], [[0.013016700744628906]], [[-0.028172016143798828]], [[-0.024478435516357422]], [[0.1617140769958496]], [[-0.03979158401489258]], [[-0.005259037017822266]], [[-0.027018070220947266]], [[-0.10509920120239258]], [[0.035616397857666016]], [[0.023407459259033203]], [[0.03423595428466797]], [[-0.030073165893554688]], [[0.010654926300048828]], [[0.015472888946533203]], [[-0.03407621383666992]], [[0.009059429168701172]], [[0.026295185089111328]], [[0.03127717971801758]], [[-0.05661153793334961]], [[0.0017933845520019531]], [[-0.1076650619506836]], [[-0.03894186019897461]], [[-0.04682779312133789]], [[-1.1714935302734375]], [[-0.9232540130615234]], [[0.0]], [[-0.5697822570800781]], [[-0.6090512275695801]], [[0.7697229385375977]], [[0.5096325874328613]], [[0.0]], [[0.552088737487793]], [[-0.49559497833251953]], [[-1.1477841138839722]], [[-0.6195478439331055]], [[-0.8049713373184204]], [[-0.20865535736083984]], [[-0.4163961410522461]], [[1.7221155166625977]], [[0.0]], [[-0.6379196643829346]], [[-1.1332645416259766]], [[-0.5449073314666748]], [[-0.021892309188842773]], [[-0.014189720153808594]], [[-0.06439471244812012]], [[-0.24017739295959473]], [[-0.04927325248718262]], [[-0.5415704250335693]], [[0.1301652193069458]], [[0.18320858478546143]], [[0.029140233993530273]], [[0.029140233993530273]], [[-1.9242242574691772]], [[-1.9242242574691772]], [[0.0]], [[0.39438939094543457]], [[0.37196969985961914]], [[-0.04107832908630371]], [[-0.15329790115356445]], [[-0.1225278377532959]], [[-0.5493423938751221]], [[0.7164775133132935]], [[0.0]], [[0.022769927978515625]], [[-0.0875864028930664]], [[0.06955385208129883]], [[0.004929542541503906]], [[-0.019690513610839844]], [[0.002950429916381836]], [[-0.017329692840576172]], [[-0.017329692840576172]], [[-0.004312276840209961]], [[0.011626243591308594]], [[0.043230295181274414]], [[-0.025560855865478516]], [[-0.01807689666748047]], [[-0.005316734313964844]], [[-0.004694938659667969]], [[0.11274886131286621]], [[0.012517213821411133]], [[-0.0174562931060791]], [[-0.056967735290527344]], [[0.1494312286376953]], [[0.034820556640625]], [[0.0026946067810058594]], [[0.09364652633666992]], [[-0.1746532917022705]], [[-0.034802913665771484]], [[-0.029211044311523438]], [[-0.09626913070678711]], [[-0.0182647705078125]], [[-0.0182647705078125]], [[0.025429964065551758]], [[-0.0038144588470458984]], [[0.03508615493774414]], [[-0.1418304443359375]], [[-0.17544817924499512]], [[-0.14080572128295898]], [[0.03317689895629883]], [[-0.8423808813095093]], [[-0.9865399599075317]], [[0.0]], [[-0.021538496017456055]], [[0.006280183792114258]], [[0.02521657943725586]], [[-0.005312442779541016]], [[0.016832351684570312]], [[0.10213899612426758]], [[-0.0049593448638916016]], [[-0.00029730796813964844]], [[0.0226438045501709]], [[-0.024964332580566406]], [[-0.01825737953186035]], [[-0.012846708297729492]], [[0.006847381591796875]], [[-0.00680994987487793]], [[0.002152681350708008]], [[0.012618303298950195]], [[0.02146315574645996]], [[0.009543895721435547]], [[0.023260831832885742]], [[0.03738141059875488]], [[0.009330272674560547]], [[-0.0685417652130127]], [[-0.040930986404418945]], [[0.016141176223754883]], [[0.4696829319000244]], [[0.1773688793182373]], [[0.14322495460510254]], [[0.04902076721191406]], [[0.15040946006774902]], [[-0.7734335660934448]], [[0.0]], [[-0.03130805492401123]], [[-0.01463615894317627]], [[0.04402768611907959]], [[0.22901904582977295]], [[-0.0013556480407714844]], [[-0.023121237754821777]], [[-0.14564204216003418]], [[-0.14564204216003418]], [[-0.14564204216003418]], [[-0.14564204216003418]], [[0.0]], [[0.0]], [[0.0]], [[0.0]]], \"firstDimensionName\": \"Layer\", \"secondDimensionName\": \"Neuron\"}\n",
       "    )\n",
       "    </script>"
      ],
      "text/plain": [
       "<circuitsvis.utils.render.RenderedHTML at 0x7f0b7c747ee0>"
      ]
     },
     "execution_count": 30,
     "metadata": {},
     "output_type": "execute_result"
    }
   ],
   "source": [
    "ablate_text(text_list, best_feature, model)"
   ]
  },
  {
   "cell_type": "code",
   "execution_count": 31,
   "metadata": {},
   "outputs": [
    {
     "data": {
      "text/html": [
       "<div id=\"circuits-vis-1fa955ee-ec91\" style=\"margin: 15px 0;\"/>\n",
       "    <script crossorigin type=\"module\">\n",
       "    import { render, TextNeuronActivations } from \"https://unpkg.com/circuitsvis@1.40.1/dist/cdn/esm.js\";\n",
       "    render(\n",
       "      \"circuits-vis-1fa955ee-ec91\",\n",
       "      TextNeuronActivations,\n",
       "      {\"tokens\": [\" \\u201e\", \"Sch\", \"reck\", \"ens\", \"n\", \"acht\", \"\\u201c\", \" von\", \" Im\", \"st\", \"\\\\newline\", \"\\\\newline\", \"En\", \"de\", \" April\", \" 1938\", \" haben\", \" Nazis\", \" in\", \" der\", \" Ti\", \"rol\", \"er\", \" Kle\", \"inst\", \"ad\", \"t\", \" Im\", \"st\", \" einen\", \" G\", \"ew\", \"al\", \"tex\", \"z\", \"ess\", \" gegen\", \" Aust\", \"ro\", \"\\n\", \"ien\", \" G\", \"eg\", \"ner\", \"n\", \" der\", \" R\", \"und\", \"fun\", \"k\", \"geb\", \"\\u00fc\", \"hr\", \" l\", \"assen\", \" AR\", \"D\", \" und\", \" Z\", \"DF\", \" durch\", \"aus\", \" die\", \" W\", \"ucht\", \" des\", \" Ges\", \"et\", \"zes\", \" sp\", \"\\u00fc\", \"ren\", \".\", \" Wer\", \" die\", \" s\", \"ogen\", \"ann\", \"te\", \"\\n\", \"German\", \":\", \" \", \"\\\\newline\", \"[\", \"Mus\", \"ik\", \"]\", \"\\\\newline\", \"Fre\", \"unde\", \" in\", \" dieser\", \" bes\", \"onde\", \"ren\", \" Episode\", \" von\", \" G\", \"low\", \"\\\\newline\", \"Tr\", \"ab\", \" mit\", \" T\", \"rey\", \" Dean\", \" Kom\", \"pl\", \"ize\", \"\\\\newline\", \"er\", \"z\", \"\\u00e4h\", \"lt\", \" eine\", \" Gesch\", \"ichte\", \" dar\", \"\\n\", \"\\u00f6\", \"z\", \"\\u00f6s\", \" k\\u00f6\", \"z\", \"lem\", \"\\u00e9\", \"ny\", \"ben\", \" re\", \"ag\", \"\\u00e1\", \"lt\", \"ak\", \" a\", \" mag\", \"y\", \"ar\", \" gy\", \"erm\", \"ek\", \"or\", \"v\", \"osi\", \" sz\", \"ak\", \"ma\", \" font\", \"os\", \"abb\", \" cs\", \"op\", \"ort\", \"j\", \"ai\", \" egy\", \" net\", \"es\", \" pos\", \"\\n\", \"icht\", \"weg\", \" (\", \"H\", \"amb\", \"urg\", \" U\", \"-\", \"B\", \"ahn\", \" station\", \")\", \"\\\\newline\", \"\\\\newline\", \"R\", \"icht\", \"weg\", \" is\", \" a\", \" public\", \" transport\", \" station\", \" for\", \" the\", \" rapid\", \" transit\", \" trains\", \" of\", \" Hamburg\", \"'s\", \" underground\", \" railway\", \" line\", \" U\", \"1\", \",\", \" located\", \" in\", \" N\", \"\\n\", \"ier\", \"z\", \"ch\", \"ow\", \"o\", \",\", \" Draw\", \"sk\", \"o\", \" County\", \"\\\\newline\", \"\\\\newline\", \"W\", \"ier\", \"z\", \"ch\", \"ow\", \"o\", \"  \", \"(\", \"formerly\", \" German\", \" Vir\", \"ch\", \"ow\", \")\", \" is\", \" a\", \" village\", \" in\", \" Draw\", \"sk\", \"o\", \" County\", \",\", \" West\", \" P\", \"omer\", \"anian\", \"\\n\", \" K\", \"ung\", \"str\", \"\\u00e4\", \"dg\", \"\\u00e5r\", \"den\", \" i\", \" Stockholm\", \" st\", \"\\u00e5r\", \" en\", \" tung\", \",\", \" gr\", \"\\u00f6n\", \" br\", \"ons\", \"stat\", \"y\", \" av\", \" Karl\", \" XII\", \".\", \" K\", \"ungen\", \" har\", \" en\", \" dr\", \"agen\", \" v\", \"\\u00e4r\", \"ja\", \" i\", \" hand\", \"en\", \" och\", \" pe\", \"kar\", \"\\n\", \"an\", \" Dol\", \"ins\", \"k\", \"\\u00fd\", \"\\\\newline\", \"\\\\newline\", \"Mil\", \"an\", \" Dol\", \"ins\", \"k\", \"\\u00fd\", \" (\", \"born\", \" 17\", \" April\", \" 1935\", \")\", \" is\", \" a\", \" former\", \" Slov\", \"ak\", \" footballer\", \".\", \"\\\\newline\", \"\\\\newline\", \"During\", \" his\", \" career\", \" he\", \" played\", \" for\", \" CH\", \" Br\", \"at\", \"isl\", \"ava\", \"\\n\", \"omonas\", \" aeruginosa\", \" (\", \"PA\", \")\", \" is\", \" an\", \" opportun\", \"istic\", \" gram\", \"-\", \"negative\", \" pathogen\", \" responsible\", \" for\", \" a\", \" large\", \" number\", \" of\", \" nos\", \"ocom\", \"ial\", \" infections\", \".\", \" Dr\", \".\", \" Jo\", \"anne\", \" Eng\", \"el\", \" and\", \" her\", \" group\", \" have\", \" shown\", \" that\", \" PA\", \"103\", \" induces\", \"\\n\", \"empl\", \"ative\", \" Rubio\", \".\", \" Photo\", \":\", \" Nicholas\", \" K\", \"amm\", \"/\", \"AFP\", \"/\", \"Getty\", \" Images\", \"\\\\newline\", \"\\\\newline\", \"Let\", \"\\u2019\", \"s\", \" not\", \" beat\", \" around\", \" the\", \" Bush\", \" (\", \"v\", \"ague\", \",\", \" lazy\", \" pun\", \" intended\", \"):\", \" The\", \" No\", \".\", \" 1\", \" reason\", \" that\", \" Marco\", \"\\n\", \" confirmed\", \" human\", \" cases\", \" of\", \" West\", \" Nile\", \" Virus\", \" in\", \" Colorado\", \"\\\\newline\", \"\\\\newline\", \"K\", \"USA\", \" \\u2014\", \" State\", \" health\", \" officials\", \" confirm\", \" two\", \" people\", \" have\", \" tested\", \" positive\", \" for\", \" West\", \" Nile\", \" virus\", \" in\", \" Colorado\", \".\", \" The\", \" cases\", \",\", \" out\", \" of\", \" W\", \"eld\", \" County\", \" and\", \"\\n\"], \"activations\": [[[0.0]], [[-0.03405427932739258]], [[0.2490215301513672]], [[-0.0581202507019043]], [[-0.6372222900390625]], [[0.31957387924194336]], [[-0.10135459899902344]], [[-0.23215675354003906]], [[0.0005040168762207031]], [[-0.3912343978881836]], [[-0.7827916145324707]], [[0.01648801565170288]], [[0.00916147232055664]], [[-0.1365278959274292]], [[0.032378196716308594]], [[-0.2373828887939453]], [[-0.020662784576416016]], [[-0.0003261566162109375]], [[0.027923107147216797]], [[0.0020020008087158203]], [[-0.01848316192626953]], [[0.14165449142456055]], [[-0.01774144172668457]], [[0.19151687622070312]], [[0.058062076568603516]], [[0.08988332748413086]], [[0.13077223300933838]], [[0.1912841796875]], [[-0.3908209800720215]], [[0.33807373046875]], [[-0.028678417205810547]], [[0.0693962574005127]], [[-0.1273024082183838]], [[-0.3626422882080078]], [[0.04343080520629883]], [[-0.3062715530395508]], [[0.06350040435791016]], [[-0.009252548217773438]], [[0.20022153854370117]], [[0.0]], [[0.0]], [[0.07901859283447266]], [[-0.020241260528564453]], [[-0.13695430755615234]], [[-0.14786624908447266]], [[-0.294461727142334]], [[-0.0010957717895507812]], [[-0.08999490737915039]], [[-0.2895314693450928]], [[0.04015994071960449]], [[-0.6400089263916016]], [[-0.17246007919311523]], [[-0.0024503394961357117]], [[0.4344654083251953]], [[0.16057538986206055]], [[0.04611396789550781]], [[0.1401768922805786]], [[0.07624125480651855]], [[-0.051349639892578125]], [[0.020066261291503906]], [[-0.06017780303955078]], [[-0.05312633514404297]], [[0.021903038024902344]], [[0.012537240982055664]], [[-0.012995719909667969]], [[-0.34998464584350586]], [[-0.03542947769165039]], [[0.3351418972015381]], [[0.007710229605436325]], [[-0.26664209365844727]], [[-0.02010345458984375]], [[-0.004131197929382324]], [[-2.0265579223632812e-06]], [[-0.0741415023803711]], [[0.1676034927368164]], [[0.024347782135009766]], [[-0.0027636289596557617]], [[0.00817069411277771]], [[0.13254916667938232]], [[0.0]], [[0.0]], [[0.04058253765106201]], [[-0.003700733184814453]], [[-1.044943928718567e-06]], [[-0.0003185272216796875]], [[-1.049041748046875e-05]], [[-1.2516975402832031e-06]], [[0.012072324752807617]], [[0.0013930797576904297]], [[0.0009622573852539062]], [[2.384185791015625e-06]], [[-0.009787559509277344]], [[-0.05121612548828125]], [[0.01970195770263672]], [[0.002547144889831543]], [[0.008153557777404785]], [[0.0006160736083984375]], [[-0.1635446548461914]], [[-0.014088630676269531]], [[-0.05354595184326172]], [[0.12540411949157715]], [[0.043015480041503906]], [[0.0013704299926757812]], [[0.03999137878417969]], [[0.0060787200927734375]], [[0.07776403427124023]], [[0.15283489227294922]], [[-0.057842254638671875]], [[-0.11720132827758789]], [[0.25397348403930664]], [[0.10815465450286865]], [[0.029313087463378906]], [[-0.029453277587890625]], [[-0.00760340690612793]], [[0.27305519580841064]], [[0.011164188385009766]], [[-0.0019168853759765625]], [[0.19438201189041138]], [[-0.049498558044433594]], [[0.0]], [[0.0]], [[-0.06657600402832031]], [[-0.9812831878662109]], [[0.056771278381347656]], [[0.6667592525482178]], [[0.2570919990539551]], [[-0.046724796295166016]], [[0.040088653564453125]], [[-0.0806112289428711]], [[0.12502670288085938]], [[0.007647991180419922]], [[0.13111209869384766]], [[0.00426483154296875]], [[0.0214996337890625]], [[-0.019036293029785156]], [[0.010250091552734375]], [[-8.344650268554688e-07]], [[1.1548399925231934e-07]], [[-7.915496826171875e-05]], [[0.0]], [[0.001239776611328125]], [[-0.014033317565917969]], [[-0.19080781936645508]], [[0.23267364501953125]], [[0.027500152587890625]], [[-0.010954141616821289]], [[4.291534423828125e-05]], [[-0.010889053344726562]], [[0.04181861877441406]], [[0.004918098449707031]], [[0.0022025108337402344]], [[3.337860107421875e-06]], [[5.0067901611328125e-06]], [[1.430511474609375e-06]], [[0.038756370544433594]], [[-1.430511474609375e-05]], [[0.0005140304565429688]], [[0.0]], [[1.9073486328125e-06]], [[0.0]], [[0.0]], [[-0.7057266235351562]], [[-0.5406777858734131]], [[-0.03399085998535156]], [[-0.025369644165039062]], [[-0.12603521347045898]], [[0.9277544021606445]], [[-0.9303772449493408]], [[-0.04646778106689453]], [[-1.0886173248291016]], [[1.542809009552002]], [[-0.00027817487716674805]], [[-0.024229884147644043]], [[-0.00038677453994750977]], [[-0.005499839782714844]], [[0.02792149782180786]], [[0.00578265031799674]], [[0.3871314525604248]], [[0.010420680046081543]], [[-0.0037736892700195312]], [[-3.337860107421875e-05]], [[-0.00017631053924560547]], [[-0.0020368099212646484]], [[0.00853884220123291]], [[1.9073486328125e-06]], [[1.1920928955078125e-07]], [[0.0]], [[0.00023317337036132812]], [[-0.02719736099243164]], [[-0.13054370880126953]], [[0.0003123283386230469]], [[-0.014713287353515625]], [[-0.005555152893066406]], [[0.034605979919433594]], [[0.4389767646789551]], [[0.00781261920928955]], [[-0.026215076446533203]], [[-0.002475261688232422]], [[0.012233734130859375]], [[0.0]], [[0.0]], [[-0.0862889289855957]], [[-0.10744667053222656]], [[0.0052073001861572266]], [[0.007729053497314453]], [[0.017655372619628906]], [[0.00016117095947265625]], [[9.72747802734375e-05]], [[0.0394282341003418]], [[-0.0038499832153320312]], [[0.0004906654357910156]], [[0.00012165307998657227]], [[-0.0015931129455566406]], [[0.002002120018005371]], [[0.0019566304981708527]], [[0.0029346346855163574]], [[0.0027961591258645058]], [[0.007636070251464844]], [[-0.0025954246520996094]], [[-0.0013573169708251953]], [[-0.0012021064758300781]], [[-0.005014896392822266]], [[0.0036945343017578125]], [[-0.02674245834350586]], [[0.004047498106956482]], [[-0.4371800422668457]], [[0.005117893218994141]], [[-0.0002852976322174072]], [[-7.843971252441406e-05]], [[4.2557716369628906e-05]], [[0.02392101287841797]], [[-0.005216237157583237]], [[0.12684476375579834]], [[0.01267288625240326]], [[0.00016394257545471191]], [[0.0028192996978759766]], [[-0.037262916564941406]], [[-0.012984871864318848]], [[-0.00950002670288086]], [[0.0]], [[0.0]], [[0.0]], [[-0.13164424896240234]], [[-0.5204038619995117]], [[-0.23471641540527344]], [[0.45406997203826904]], [[0.12980133295059204]], [[0.2836146354675293]], [[-0.05388498306274414]], [[0.2198634147644043]], [[-0.008623123168945312]], [[-0.008719444274902344]], [[0.0062732696533203125]], [[9.5367431640625e-07]], [[5.245208740234375e-06]], [[-4.3392181396484375e-05]], [[-0.035747528076171875]], [[0.012731075286865234]], [[-0.06972122192382812]], [[-0.0035386085510253906]], [[0.011769771575927734]], [[-0.018651962280273438]], [[0.13890838623046875]], [[0.07602524757385254]], [[-0.01671910285949707]], [[-0.15799760818481445]], [[0.10482645034790039]], [[-0.02810835838317871]], [[0.007143974304199219]], [[-6.67572021484375e-06]], [[0.049279212951660156]], [[-0.0016202926635742188]], [[-0.07177495956420898]], [[0.010301589965820312]], [[0.000392913818359375]], [[0.03153419494628906]], [[-0.014140129089355469]], [[0.002013683319091797]], [[-6.103515625e-05]], [[0.0]], [[0.0]], [[0.0]], [[0.0]], [[0.0]], [[-0.08071422576904297]], [[-0.006453514099121094]], [[-0.003516077995300293]], [[-0.0012373924255371094]], [[-8.940696716308594e-08]], [[-1.0132789611816406e-06]], [[1.043081283569336e-07]], [[0.0026516858488321304]], [[0.0033328095450997353]], [[-0.1044471263885498]], [[-0.007173776626586914]], [[-0.0024542808532714844]], [[-0.003674030303955078]], [[-0.0019817352294921875]], [[0.0004984736442565918]], [[-0.007131218910217285]], [[0.00028246641159057617]], [[0.00013709068298339844]], [[-4.363059997558594e-05]], [[-1.4901161193847656e-07]], [[4.76837158203125e-07]], [[-1.430511474609375e-06]], [[4.9114227294921875e-05]], [[-4.857778549194336e-06]], [[-1.430511474609375e-06]], [[1.2159347534179688e-05]], [[0.0]], [[0.0]], [[-1.1920928955078125e-07]], [[0.0]], [[-0.0027332305908203125]], [[0.0]], [[0.0]], [[0.014398813247680664]], [[0.008043155074119568]], [[0.0]], [[0.0]], [[0.014962196350097656]], [[-0.0005207061767578125]], [[-7.62939453125e-06]], [[-3.5762786865234375e-07]], [[0.0004494190216064453]], [[0.0001609325408935547]], [[7.152557373046875e-07]], [[0.0]], [[9.5367431640625e-07]], [[0.0]], [[0.0]], [[-3.0994415283203125e-06]], [[-0.000293731689453125]], [[0.0]], [[0.00012302398681640625]], [[0.0]], [[0.0]], [[-2.4505890905857086e-05]], [[0.0]], [[1.1548399925231934e-07]], [[0.0]], [[5.960464477539063e-08]], [[0.0]], [[-3.814697265625e-06]], [[0.0]], [[0.0]], [[0.0]], [[-0.002495288848876953]], [[-0.007825374603271484]], [[0.0834803581237793]], [[0.011092424392700195]], [[-0.0008792877197265625]], [[-0.0025696754455566406]], [[0.0]], [[6.854534149169922e-07]], [[0.0]], [[0.0]], [[0.0]], [[0.0]], [[0.0]], [[0.0]], [[7.05718994140625e-05]], [[6.9141387939453125e-06]], [[0.0]], [[0.0]], [[-1.1444091796875e-05]], [[2.47955322265625e-05]], [[0.0]], [[-0.00801849365234375]], [[-0.0017330646514892578]], [[6.556510925292969e-07]], [[-4.6193599700927734e-07]], [[-1.1734664440155029e-07]], [[6.258487701416016e-07]], [[0.0]], [[0.0]], [[0.0]], [[0.0]], [[0.0]], [[0.0]], [[0.0]], [[0.0]], [[0.0]], [[0.0]], [[0.0]], [[0.0]], [[0.0]], [[0.0]], [[0.0]], [[0.0]], [[0.0]], [[0.0]], [[0.0]], [[0.0]], [[0.0]], [[0.0]], [[0.0]], [[0.0]], [[0.0]], [[0.0]], [[-0.000152587890625]], [[0.0]], [[-2.7060508728027344e-05]], [[-0.00017547607421875]], [[0.0]], [[-3.8623809814453125e-05]], [[0.0]], [[4.3392181396484375e-05]], [[0.0]], [[0.0]], [[0.0007543563842773438]], [[0.0]], [[-7.152557373046875e-06]], [[0.00014972686767578125]], [[0.000118255615234375]], [[0.00010478496551513672]], [[0.0001010894775390625]], [[0.00018215179443359375]], [[5.1021575927734375e-05]], [[-6.890296936035156e-05]], [[0.0]], [[-0.00028437376022338867]], [[0.0]], [[0.0]], [[0.0]], [[0.0]], [[0.0]], [[-0.0006879568099975586]], [[-5.4955482482910156e-05]], [[-0.0007574558258056641]], [[0.00039577484130859375]], [[0.0002541542053222656]], [[0.0010929107666015625]], [[0.0]], [[-0.0015392303466796875]], [[0.0]], [[0.04845479130744934]], [[-0.00836634635925293]], [[0.0]]], \"firstDimensionName\": \"Layer\", \"secondDimensionName\": \"Neuron\"}\n",
       "    )\n",
       "    </script>"
      ],
      "text/plain": [
       "<circuitsvis.utils.render.RenderedHTML at 0x7f0b7c6a54e0>"
      ]
     },
     "execution_count": 31,
     "metadata": {},
     "output_type": "execute_result"
    }
   ],
   "source": [
    "ablate_feature_direction_display(full_text, best_feature)"
   ]
  },
  {
   "cell_type": "code",
   "execution_count": 32,
   "metadata": {},
   "outputs": [
    {
     "name": "stdout",
     "output_type": "stream",
     "text": [
      "['stadt', 'heim', 'sson', 'reich', ' GmbH', 'ös', 'hof', 'haus', ' Germany', 'enburg', 'mann', 'heimer', 'äs', 'ungs', 'furt', 'feld', ' von', 'hardt', 'sche', ' Munich']\n",
      "tensor([2.4493, 2.3906, 2.3506, 2.2867, 2.2223, 2.2117, 2.1515, 2.1397, 2.1175,\n",
      "        2.1167, 2.0961, 2.0806, 2.0570, 2.0537, 2.0246, 2.0191, 2.0135, 2.0103,\n",
      "        2.0070, 2.0050])\n"
     ]
    }
   ],
   "source": [
    "logit_lens(model,best_feature, smaller_dict, layer)"
   ]
  }
 ],
 "metadata": {
  "kernelspec": {
   "display_name": "logan",
   "language": "python",
   "name": "python3"
  },
  "language_info": {
   "codemirror_mode": {
    "name": "ipython",
    "version": 3
   },
   "file_extension": ".py",
   "mimetype": "text/x-python",
   "name": "python",
   "nbconvert_exporter": "python",
   "pygments_lexer": "ipython3",
   "version": "3.10.6"
  },
  "orig_nbformat": 4
 },
 "nbformat": 4,
 "nbformat_minor": 2
}
