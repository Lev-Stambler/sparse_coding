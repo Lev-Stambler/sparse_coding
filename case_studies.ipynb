{
 "cells": [
  {
   "cell_type": "code",
   "execution_count": 1,
   "metadata": {},
   "outputs": [
    {
     "name": "stderr",
     "output_type": "stream",
     "text": [
      "/home/mchorse/miniconda3/envs/logan/lib/python3.10/site-packages/tqdm/auto.py:21: TqdmWarning: IProgress not found. Please update jupyter and ipywidgets. See https://ipywidgets.readthedocs.io/en/stable/user_install.html\n",
      "  from .autonotebook import tqdm as notebook_tqdm\n"
     ]
    }
   ],
   "source": [
    "import torch\n",
    "from transformer_lens import HookedTransformer\n",
    "import numpy as np \n",
    "from torch import nn\n",
    "import pickle\n",
    "\n",
    "# Define the autoencoder so pickle knows how to serialize it. \n",
    "# Later, we should actually save as a state_dict instead of a dumb pickle\n",
    "class AutoEncoder(nn.Module):\n",
    "    def __init__(self, activation_size, n_dict_components, t_type=torch.float32, l1_coef=0.0):\n",
    "        super(AutoEncoder, self).__init__()\n",
    "        \n",
    "        # Only defining the decoder layer, encoder will share its weights\n",
    "        self.decoder = nn.Linear(n_dict_components, activation_size, bias=True)\n",
    "        \n",
    "        # Create a bias layer\n",
    "        self.encoder_bias= nn.Parameter(torch.zeros(n_dict_components))\n",
    "        \n",
    "        # Initialize the decoder weights orthogonally\n",
    "        nn.init.orthogonal_(self.decoder.weight)\n",
    "        self.decoder = self.decoder.to(t_type)\n",
    "\n",
    "        # Encoder is a Sequential with the ReLU activation\n",
    "        # No need to define a Linear layer for the encoder as its weights are tied with the decoder\n",
    "        self.encoder = nn.Sequential(nn.ReLU()).to(t_type)\n",
    "\n",
    "        self.l1_coef = l1_coef\n",
    "        self.activation_size = activation_size\n",
    "        self.n_dict_components = n_dict_components\n",
    "\n",
    "    def forward(self, x):\n",
    "        c = self.encoder(x @ self.decoder.weight + self.encoder_bias)\n",
    "        # Apply unit norm constraint to the decoder weights\n",
    "        self.decoder.weight.data = nn.functional.normalize(self.decoder.weight.data, dim=0)\n",
    "\n",
    "        # Decoding step as before\n",
    "        x_hat = self.decoder(c)\n",
    "        return x_hat, c\n",
    "\n",
    "\n",
    "    @property\n",
    "    def device(self):\n",
    "        return next(self.parameters()).device"
   ]
  },
  {
   "cell_type": "code",
   "execution_count": 54,
   "metadata": {},
   "outputs": [
    {
     "name": "stdout",
     "output_type": "stream",
     "text": [
      "Loaded 8 autoencoders\n",
      "Hyperparams: {'dict_size': 2048, 'l1_alpha': 0.0013894954463467002}, {'dict_size': 2048, 'l1_alpha': 0.0026826958637684584}\n"
     ]
    },
    {
     "name": "stderr",
     "output_type": "stream",
     "text": [
      "Using pad_token, but it is not set yet.\n"
     ]
    },
    {
     "name": "stdout",
     "output_type": "stream",
     "text": [
      "Loaded pretrained model EleutherAI/pythia-70m-deduped into HookedTransformer\n"
     ]
    }
   ],
   "source": [
    "import torch\n",
    "from transformer_lens import HookedTransformer\n",
    "import numpy as np \n",
    "from torch import nn\n",
    "import pickle\n",
    "# autoencoder_filename = \"/home/mchorse/logan/sparse_coding/output_sweep_tied_mlpout_l1_r8/_9/learned_dicts.pt\"\n",
    "autoencoder_filename = \"/home/mchorse/sparse_coding_hoagy/tiedlong_tied_residual_l4_r4/_80/learned_dicts.pt\"\n",
    "auto_num = 4 # Selects which specific autoencoder to use\n",
    "all_autoencoders = torch.load(autoencoder_filename)\n",
    "num_dictionaries = len(all_autoencoders)\n",
    "print(f\"Loaded {num_dictionaries} autoencoders\")\n",
    "smaller_autoencoder, hyperparams = all_autoencoders[auto_num]\n",
    "l1_alpha = hyperparams['l1_alpha']\n",
    "larger_autoencoder, hyperparams2 = all_autoencoders[auto_num+1]\n",
    "smaller_dict = smaller_autoencoder.get_learned_dict()\n",
    "larger_dict = larger_autoencoder.get_learned_dict()\n",
    "print(f\"Hyperparams: {hyperparams}, {hyperparams2}\")\n",
    "#Change these settings to load the correct autoencoder\n",
    "layer = 4\n",
    "setting = \"residual\"\n",
    "# setting = \"attention\"\n",
    "# setting = \"mlp\"\n",
    "# setting = \"mlp_out\"\n",
    "model_name = \"EleutherAI/pythia-70m-deduped\"\n",
    "# model_name = \"EleutherAI/pythia-160m\"\n",
    "\n",
    "device = torch.device(\"cuda:3\" if torch.cuda.is_available() else \"cpu\")\n",
    "model = HookedTransformer.from_pretrained(model_name, device=device)\n",
    "\n",
    "if setting == \"residual\":\n",
    "    cache_name = f\"blocks.{layer}.hook_resid_post\"\n",
    "    neurons = model.cfg.d_model\n",
    "elif setting == \"mlp\":\n",
    "    cache_name = f\"blocks.{layer}.mlp.hook_post\"\n",
    "    neurons = model.cfg.d_mlp\n",
    "elif setting == \"attention\":\n",
    "    cache_name = f\"blocks.{layer}.hook_attn_out\"\n",
    "    neurons = model.cfg.d_model\n",
    "elif setting == \"mlp_out\":\n",
    "    cache_name = f\"blocks.{layer}.hook_mlp_out\"\n",
    "    neurons = model.cfg.d_model\n",
    "else:\n",
    "    raise NotImplementedError"
   ]
  },
  {
   "cell_type": "code",
   "execution_count": 2,
   "metadata": {},
   "outputs": [],
   "source": [
    "filename_pca = \"/mnt/ssd-cluster/baselines/l4_residual/pca_topk.pt\"\n",
    "pca_topk = torch.load(filename_pca)\n",
    "filename_ica = \"/mnt/ssd-cluster/baselines/l4_residual/ica_topk.pt\"\n",
    "ica_topk = torch.load(filename_ica)\n",
    "pca_dict = pca_topk.get_learned_dict()\n",
    "ica_dict = ica_topk.get_learned_dict()"
   ]
  },
  {
   "cell_type": "code",
   "execution_count": 5,
   "metadata": {},
   "outputs": [
    {
     "name": "stderr",
     "output_type": "stream",
     "text": [
      "Using pad_token, but it is not set yet.\n"
     ]
    },
    {
     "name": "stdout",
     "output_type": "stream",
     "text": [
      "Loaded pretrained model EleutherAI/pythia-70m-deduped into HookedTransformer\n",
      "torch.Size([512, 512])\n",
      "torch.Size([1024, 512])\n",
      "torch.Size([2048, 512])\n",
      "torch.Size([4096, 512])\n",
      "torch.Size([8192, 512])\n",
      "len of autoencoders:  1\n",
      "smaller_dict.shape:  torch.Size([1024, 512])\n",
      "larger_dict.shape:  torch.Size([2048, 512])\n"
     ]
    }
   ],
   "source": [
    "# filename = \"ae4.pkl\"\n",
    "# layer = 4\n",
    "# setting = \"residual\"\n",
    "# model_name = \"EleutherAI/pythia-70m-deduped\"\n",
    "\n",
    "# device = torch.device(\"cuda:5\" if torch.cuda.is_available() else \"cpu\")\n",
    "# model = HookedTransformer.from_pretrained(model_name, device=device)\n",
    "\n",
    "# if setting == \"residual\":\n",
    "#     cache_name = f\"blocks.{layer}.hook_resid_post\"\n",
    "#     neurons = model.cfg.d_model\n",
    "# elif setting == \"mlp\":\n",
    "#     cache_name = f\"blocks.{layer}.mlp.hook_post\"\n",
    "#     neurons = model.cfg.d_mlp\n",
    "# else:\n",
    "#     raise NotImplementedError\n",
    "\n",
    "\n",
    "# # Load the pickle file\n",
    "# with open(filename, 'rb') as file:\n",
    "#     autoencoders = pickle.load(file)\n",
    "\n",
    "# # Index for l1 value, usually only 1 value is available\n",
    "# l1_index = 0\n",
    "# dictionaries = [autoencoder.decoder.weight.data.T for autoencoder in autoencoders[l1_index]]\n",
    "# for d in dictionaries:\n",
    "#     print(d.shape)\n",
    "# print(\"len of autoencoders: \", len(autoencoders))\n",
    "# dict_index = 1\n",
    "# smaller_dict, larger_dict = dictionaries[dict_index], dictionaries[dict_index+1]\n",
    "# smaller_auto_encoder, larger_auto_encoder = autoencoders[l1_index][dict_index], autoencoders[l1_index][dict_index+1]\n",
    "# print(\"smaller_dict.shape: \", smaller_dict.shape)\n",
    "# print(\"larger_dict.shape: \", larger_dict.shape)"
   ]
  },
  {
   "cell_type": "code",
   "execution_count": 55,
   "metadata": {},
   "outputs": [
    {
     "name": "stdout",
     "output_type": "stream",
     "text": [
      "('# of features above 0.9:', 811)\n"
     ]
    },
    {
     "data": {
      "image/png": "[encoded data removed]",
      "text/plain": [
       "<Figure size 640x480 with 1 Axes>"
      ]
     },
     "metadata": {},
     "output_type": "display_data"
    }
   ],
   "source": [
    "from scipy.optimize import linear_sum_assignment\n",
    "import matplotlib.pyplot as plt\n",
    "#Dictionary Comparison\n",
    "smaller_dict_features, _ = smaller_dict.shape\n",
    "larger_dict_features, _ = larger_dict.shape\n",
    "larger_dict = larger_dict.to(device)\n",
    "# Hungary algorithm\n",
    "# Calculate all cosine similarities and store in a 2D array\n",
    "cos_sims = np.zeros((smaller_dict_features, larger_dict_features))\n",
    "for idx, vector in enumerate(smaller_dict):\n",
    "    cos_sims[idx] = torch.nn.functional.cosine_similarity(vector.to(device), larger_dict, dim=1).cpu().numpy()\n",
    "# Convert to a minimization problem\n",
    "cos_sims = 1 - cos_sims\n",
    "# Use the Hungarian algorithm to solve the assignment problem\n",
    "row_ind, col_ind = linear_sum_assignment(cos_sims)\n",
    "# Retrieve the max cosine similarities and corresponding indices\n",
    "max_cosine_similarities = 1 - cos_sims[row_ind, col_ind]\n",
    "\n",
    "# Get the indices of the max cosine similarities in descending order\n",
    "max_indices = np.argsort(max_cosine_similarities)[::-1].copy()\n",
    "print((\"# of features above 0.9:\", (max_cosine_similarities > .9).sum()))\n",
    "# Plot histogram of max_cosine_similarities\n",
    "plt.hist(max_cosine_similarities, bins=20)\n",
    "plt.show()"
   ]
  },
  {
   "cell_type": "code",
   "execution_count": 56,
   "metadata": {},
   "outputs": [
    {
     "name": "stderr",
     "output_type": "stream",
     "text": [
      "Found cached dataset parquet (/home/mchorse/.cache/huggingface/datasets/NeelNanda___parquet/NeelNanda--pile-10k-72f566e9f7c464ab/0.0.0/2a3b91fbd88a2c90d1dbbb32b460cf621d31bd5b05b934492fdef7d8d6f236ec)\n",
      "                                                                     \r"
     ]
    }
   ],
   "source": [
    "# Downnload dataset\n",
    "from datasets import Dataset, load_dataset\n",
    "dataset_name = \"NeelNanda/pile-10k\"\n",
    "token_amount= 40\n",
    "dataset = load_dataset(dataset_name, split=\"train\").map(\n",
    "    lambda x: model.tokenizer(x['text']),\n",
    "    batched=True,\n",
    ").filter(\n",
    "    lambda x: len(x['input_ids']) > token_amount\n",
    ").map(\n",
    "    lambda x: {'input_ids': x['input_ids'][:token_amount]}\n",
    ")"
   ]
  },
  {
   "cell_type": "code",
   "execution_count": 57,
   "metadata": {},
   "outputs": [
    {
     "name": "stderr",
     "output_type": "stream",
     "text": [
      "100%|██████████| 155/155 [00:10<00:00, 14.40it/s]\n"
     ]
    }
   ],
   "source": [
    "# Now we can use the model to get the activations\n",
    "from torch.utils.data import DataLoader\n",
    "from tqdm.auto import tqdm\n",
    "from einops import rearrange\n",
    "# neurons = model.W_in.shape[-1]\n",
    "neurons = model.cfg.d_model\n",
    "datapoints = dataset.num_rows\n",
    "batch_size = 64\n",
    "neuron_activations = torch.zeros((datapoints*token_amount, neurons))\n",
    "dictionary_activations = torch.zeros((datapoints*token_amount, smaller_dict_features))\n",
    "# pca_dictionary_activations = torch.zeros((datapoints*token_amount, pca_dict.shape[0]))\n",
    "# ica_dictionary_activations = torch.zeros((datapoints*token_amount, ica_dict.shape[0]))\n",
    "# smaller_autoencoder = smaller_autoencoder.to(device)\n",
    "smaller_autoencoder.to_device(device)\n",
    "pca_topk.to_device(device)\n",
    "ica_topk.to_device(device)\n",
    "\n",
    "with torch.no_grad(), dataset.formatted_as(\"pt\"):\n",
    "    dl = DataLoader(dataset[\"input_ids\"], batch_size=batch_size)\n",
    "    for i, batch in enumerate(tqdm(dl)):\n",
    "        _, cache = model.run_with_cache(batch.to(device))\n",
    "        batched_neuron_activations = rearrange(cache[cache_name], \"b s n -> (b s) n\" )\n",
    "        neuron_activations[i*batch_size*token_amount:(i+1)*batch_size*token_amount,:] = batched_neuron_activations.cpu()\n",
    "        # normal dictionary\n",
    "        batched_dictionary_activations = smaller_autoencoder.encode(batched_neuron_activations)\n",
    "        dictionary_activations[i*batch_size*token_amount:(i+1)*batch_size*token_amount,:] = batched_dictionary_activations.cpu()\n",
    "        # pca dictionary\n",
    "        batched_pca_dictionary_activations = pca_topk.encode(batched_neuron_activations)\n",
    "        pca_dictionary_activations[i*batch_size*token_amount:(i+1)*batch_size*token_amount,:] = batched_pca_dictionary_activations.cpu()\n",
    "        # ica dictionary\n",
    "        batched_ica_dictionary_activations = ica_topk.encode(batched_neuron_activations)\n",
    "        ica_dictionary_activations[i*batch_size*token_amount:(i+1)*batch_size*token_amount,:] = batched_ica_dictionary_activations.cpu()"
   ]
  },
  {
   "cell_type": "code",
   "execution_count": 74,
   "metadata": {},
   "outputs": [],
   "source": [
    "from circuitsvis.activations import text_neuron_activations\n",
    "# Get the activations for the best dict features\n",
    "def get_feature_datapoints(feature_index, dictionary_activations, dataset, k=10, setting=\"max\"):\n",
    "    best_feature_activations = dictionary_activations[:, feature_index]\n",
    "    # Sort the features by activation, get the indices\n",
    "    if setting==\"max\":\n",
    "        found_indices = torch.argsort(best_feature_activations, descending=True)[:k]\n",
    "    elif setting==\"uniform\":\n",
    "        min_value = torch.min(best_feature_activations)\n",
    "        max_value = torch.max(best_feature_activations)\n",
    "\n",
    "        # Define the number of bins\n",
    "        num_bins = k\n",
    "\n",
    "        # Calculate the bin boundaries as linear interpolation between min and max\n",
    "        bin_boundaries = torch.linspace(min_value, max_value, num_bins + 1)\n",
    "\n",
    "        # Assign each activation to its respective bin\n",
    "        bins = torch.bucketize(best_feature_activations, bin_boundaries)\n",
    "\n",
    "        # Initialize a list to store the sampled indices\n",
    "        sampled_indices = []\n",
    "\n",
    "        # Sample from each bin\n",
    "        for bin_idx in torch.unique(bins):\n",
    "            # Get the indices corresponding to the current bin\n",
    "            bin_indices = torch.nonzero(bins == bin_idx, as_tuple=False).squeeze(dim=1)\n",
    "            \n",
    "            # Randomly sample from the current bin\n",
    "            sampled_indices.extend(np.random.choice(bin_indices, size=1, replace=False))\n",
    "\n",
    "        # Convert the sampled indices to a PyTorch tensor & reverse order\n",
    "        found_indices = torch.tensor(sampled_indices).long().flip(dims=[0])\n",
    "    else: # random\n",
    "        # get nonzero indices\n",
    "        nonzero_indices = torch.nonzero(best_feature_activations)[:, 0]\n",
    "        # shuffle\n",
    "        shuffled_indices = nonzero_indices[torch.randperm(nonzero_indices.shape[0])]\n",
    "        found_indices = shuffled_indices[:k]\n",
    "    datapoint_indices =[np.unravel_index(i, (datapoints, token_amount)) for i in found_indices]\n",
    "    text_list = []\n",
    "    full_text = []\n",
    "    token_list = []\n",
    "    full_token_list = []\n",
    "    for md, s_ind in datapoint_indices:\n",
    "        md = int(md)\n",
    "        s_ind = int(s_ind)\n",
    "        full_tok = torch.tensor(dataset[md][\"input_ids\"])\n",
    "        full_text.append(model.tokenizer.decode(full_tok))\n",
    "        tok = dataset[md][\"input_ids\"][:s_ind+1]\n",
    "        text = model.tokenizer.decode(tok)\n",
    "        text_list.append(text)\n",
    "        token_list.append(tok)\n",
    "        full_token_list.append(full_tok)\n",
    "    return text_list, full_text, token_list, full_token_list\n",
    "\n",
    "def get_neuron_activation(token, feature, model, autoencoder, setting=\"dictionary_basis\"):\n",
    "    with torch.no_grad():\n",
    "        _, cache = model.run_with_cache(token.to(model.cfg.device))\n",
    "        neuron_act_batch = cache[cache_name]\n",
    "        if setting==\"dictionary_basis\":\n",
    "            neuron_act_batch = rearrange(neuron_act_batch, \"b s n -> (b s) n\" )\n",
    "            act = autoencoder.encode(neuron_act_batch)\n",
    "            return act[:, feature].tolist()\n",
    "        else: # neuron/residual basis\n",
    "            return neuron_act_batch[0, :, feature].tolist()\n",
    "\n",
    "def ablate_text(text, feature, model, autoencoder, setting=\"dictionary_basis\"):\n",
    "    if isinstance(text, str):\n",
    "        text = [text]\n",
    "    display_text_list = []\n",
    "    activation_list = []\n",
    "    for t in text:\n",
    "        # Convert text into tokens\n",
    "        if isinstance(t, str): # If the text is a list of tokens\n",
    "            split_text = model.to_str_tokens(t, prepend_bos=False)\n",
    "            tokens = model.to_tokens(t, prepend_bos=False)\n",
    "        else: # t equals tokens\n",
    "            tokens = t\n",
    "            split_text = model.to_str_tokens(t, prepend_bos=False)\n",
    "        seq_size = tokens.shape[1]\n",
    "        if(seq_size == 1): # If the text is a single token, we can't ablate it\n",
    "            continue\n",
    "        original = get_neuron_activation(tokens, feature, model, autoencoder)[-1]\n",
    "        changed_activations = torch.zeros(seq_size, device=device).cpu()\n",
    "        for i in range(seq_size):\n",
    "            # Remove the i'th token from the input\n",
    "            ablated_tokens = torch.cat((tokens[:,:i], tokens[:,i+1:]), dim=1)\n",
    "            changed_activations[i] += get_neuron_activation(ablated_tokens, feature, model,autoencoder, setting)[-1]\n",
    "        changed_activations -= original\n",
    "        display_text_list += [x.replace('\\n', '\\\\newline') for x in split_text] + [\"\\n\"]\n",
    "        activation_list += changed_activations.tolist() + [0.0]\n",
    "    activation_list = torch.tensor(activation_list).reshape(-1,1,1)\n",
    "    return text_neuron_activations(tokens=display_text_list, activations=activation_list)\n",
    "\n",
    "def visualize_text(text, feature, model, autoencoder, setting=\"dictionary_basis\", max_activation = None):\n",
    "    if isinstance(text, str):\n",
    "        text = [text]\n",
    "    if isinstance(feature, int):\n",
    "        feature = [feature]\n",
    "    display_text_list = []\n",
    "    act_list = []\n",
    "    for t in text:\n",
    "        if isinstance(t, str): # If the text is a list of tokens\n",
    "            split_text = model.to_str_tokens(t, prepend_bos=False)\n",
    "            token = model.to_tokens(t, prepend_bos=False)\n",
    "        else: # t are tokens\n",
    "            token = t\n",
    "            split_text = model.to_str_tokens(t, prepend_bos=False)\n",
    "        for f in feature:\n",
    "            display_text_list += [x.replace('\\n', '\\\\newline') for x in split_text] + [\"\\n\"]\n",
    "            act_list += get_neuron_activation(token, f, model, autoencoder, setting) + [0.0]\n",
    "    act_list = torch.tensor(act_list).reshape(-1,1,1)\n",
    "    if(max_activation is not None):\n",
    "        act_list = torch.clamp(act_list, max=max_activation)\n",
    "    return text_neuron_activations(tokens=display_text_list, activations=act_list)\n",
    "# Ablate the feature direction of the tokens\n",
    "# token_list is a list of tokens, convert to tensor of shape (batch_size, seq_len)\n",
    "from einops import rearrange\n",
    "def ablate_feature_direction(tokens, feature, model, autoencoder):\n",
    "    def mlp_ablation_hook(value, hook):\n",
    "        # Rearrange to fit autoencoder\n",
    "        int_val = rearrange(value, 'b s h -> (b s) h')\n",
    "\n",
    "        # Run through the autoencoder\n",
    "        act = autoencoder.encode(int_val)\n",
    "        feature_to_ablate = feature # TODO: bring this out of the function\n",
    "\n",
    "        # Subtract value with feature direction*act_of_feature\n",
    "        dictionary_for_this_autoencoder = autoencoder.get_learned_dict()\n",
    "        feature_direction = torch.outer(act[:, feature_to_ablate].squeeze(), dictionary_for_this_autoencoder[feature_to_ablate].squeeze())\n",
    "        batch, seq_len, hidden_size = value.shape\n",
    "        feature_direction = rearrange(feature_direction, '(b s) h -> b s h', b=batch, s=seq_len)\n",
    "        value -= feature_direction\n",
    "        return value\n",
    "\n",
    "    return model.run_with_hooks(tokens, \n",
    "        fwd_hooks=[(\n",
    "            cache_name, \n",
    "            mlp_ablation_hook\n",
    "            )]\n",
    "        )\n",
    "def add_feature_direction(tokens, feature, model, autoencoder, scalar=1.0):\n",
    "    def residual_add_hook(value, hook):\n",
    "        feature_direction = autoencoder.decoder.weight[:, feature].squeeze()\n",
    "        value += scalar*feature_direction\n",
    "        return value\n",
    "\n",
    "    return model.run_with_hooks(tokens, \n",
    "        fwd_hooks=[(\n",
    "            cache_name,\n",
    "            residual_add_hook\n",
    "            )]\n",
    "        )\n",
    "def ablate_feature_direction_display(text, features, autoencoder, setting=\"true_tokens\", verbose=False):\n",
    "\n",
    "    if features==None:\n",
    "        features = torch.tensor([best_feature])\n",
    "    if isinstance(features, int):\n",
    "        features = torch.tensor([features])\n",
    "    if isinstance(features, list):\n",
    "        features = torch.tensor(features)\n",
    "    if isinstance(text, str):\n",
    "        text = [text]\n",
    "    text_list = []\n",
    "    logit_list = []\n",
    "    for t in text:\n",
    "        tokens = model.to_tokens(t, prepend_bos=False)\n",
    "        with torch.no_grad():\n",
    "            original_logits = model(tokens).log_softmax(-1).cpu()\n",
    "            ablated_logits = ablate_feature_direction(tokens, features, model, autoencoder).log_softmax(-1).cpu()\n",
    "        diff_logits = ablated_logits  - original_logits# ablated > original -> negative diff\n",
    "        tokens = tokens.cpu()\n",
    "        if setting == \"true_tokens\":\n",
    "            split_text = model.to_str_tokens(t, prepend_bos=False)\n",
    "            gather_tokens = rearrange(tokens[:,1:], \"b s -> b s 1\") # TODO: verify this is correct\n",
    "            # Gather the logits for the true tokens\n",
    "            diff = rearrange(diff_logits[:, :-1].gather(-1,gather_tokens), \"b s n -> (b s n)\")\n",
    "        elif setting == \"max\":\n",
    "            # Negate the diff_logits to see which tokens have the largest effect on the neuron\n",
    "            val, ind = (-1*diff_logits).max(-1)\n",
    "            diff = rearrange(val[:, :-1], \"b s -> (b s)\")\n",
    "            diff*= -1 # Negate the values gathered\n",
    "            split_text = model.to_str_tokens(ind, prepend_bos=False)\n",
    "            gather_tokens = rearrange(ind[:,1:], \"1 s -> 1 s 1\")\n",
    "        split_text = split_text[1:] # Remove the first token since we're not predicting it\n",
    "        if(verbose):\n",
    "            text_list += [x.replace('\\n', '\\\\newline') for x in split_text] + [\"\\n\"]\n",
    "            text_list += [x.replace('\\n', '\\\\newline') for x in split_text] + [\"\\n\"]\n",
    "            orig = rearrange(original_logits[:, :-1].gather(-1, gather_tokens), \"b s n -> (b s n)\")\n",
    "            ablated = rearrange(ablated_logits[:, :-1].gather(-1, gather_tokens), \"b s n -> (b s n)\")\n",
    "            logit_list += orig.tolist() + [0.0]\n",
    "            logit_list += ablated.tolist() + [0.0]\n",
    "        text_list += [x.replace('\\n', '\\\\newline') for x in split_text] + [\"\\n\"]\n",
    "        logit_list += diff.tolist() + [0.0]\n",
    "    logit_list = torch.tensor(logit_list).reshape(-1,1,1)\n",
    "    if verbose:\n",
    "        print(f\"Max & Min logit-diff: {logit_list.max().item():.2f} & {logit_list.min().item():.2f}\")\n",
    "    return text_neuron_activations(tokens=text_list, activations=logit_list)\n",
    "def generate_text(input_text, num_tokens, model, autoencoder, feature, temperature=0.7, setting=\"add\", scalar=1.0):\n",
    "    # Convert input text to tokens\n",
    "    input_ids = model.tokenizer.encode(input_text, return_tensors='pt').to(device)\n",
    "\n",
    "    for _ in range(num_tokens):\n",
    "        # Generate logits\n",
    "        with torch.no_grad():\n",
    "            if(setting==\"add\"):\n",
    "                logits = add_feature_direction(input_ids, feature, model, autoencoder, scalar=scalar)\n",
    "            else:\n",
    "                logits = model(input_ids)\n",
    "\n",
    "        # Apply temperature\n",
    "        logits = logits / temperature\n",
    "\n",
    "        # Sample from the distribution\n",
    "        probs = torch.nn.functional.softmax(logits[:, -1, :], dim=-1)\n",
    "        predicted_token = torch.multinomial(probs, num_samples=1)\n",
    "\n",
    "        # Append predicted token to input_ids\n",
    "        input_ids = torch.cat((input_ids, predicted_token), dim=-1)\n",
    "\n",
    "    # Decode the tokens to text\n",
    "    output_text = model.tokenizer.decode(input_ids[0])\n",
    "\n",
    "    return output_text\n",
    "\n",
    "# Logit Lens\n",
    "def logit_lens(model, best_feature, smaller_dict, layer):\n",
    "    with torch.no_grad():\n",
    "        # There are never-used tokens, which have high norm. We want to ignore these.\n",
    "        bad_ind = (model.W_U.norm(dim=0) > 20)\n",
    "        feature_direction = smaller_dict[best_feature].to(device)\n",
    "        # feature_direction = torch.matmul(feature_direction, model.W_out[layer]) # if MLP\n",
    "        logits = torch.matmul(feature_direction, model.W_U).cpu()\n",
    "    # Don't include bad indices\n",
    "    logits[bad_ind] = -1000\n",
    "    topk_values, topk_indices = torch.topk(logits, 20)\n",
    "    top_text = model.to_str_tokens(topk_indices)\n",
    "    print(f\"{top_text}\")\n",
    "    print(topk_values)\n"
   ]
  },
  {
   "cell_type": "code",
   "execution_count": 159,
   "metadata": {},
   "outputs": [],
   "source": [
    "import re\n",
    "import numpy as np\n",
    "\n",
    "# Assuming you have a tokenizer like this (for example, from HuggingFace's tokenizers)\n",
    "  # Replace with your tokenizer\n",
    "\n",
    "def char_to_token_position(tokenized_output, char_idx):\n",
    "    \"\"\"\n",
    "    Given a char-level index in the original string, find the corresponding token-level index.\n",
    "    \"\"\"\n",
    "    token_positions = tokenized_output.char_to_token(char_idx)\n",
    "    return token_positions\n",
    "\n",
    "def find_text_in_regex(tokens, regex_pattern):\n",
    "    \"\"\"\n",
    "    Find tokens inside parentheses and return token-level start and end indices.\n",
    "    \"\"\"\n",
    "    detokenized_text = model.tokenizer.decode(tokens.input_ids)\n",
    "    \n",
    "    # Find matches in the detokenized text\n",
    "    pattern = re.compile(regex_pattern)\n",
    "    matches = pattern.finditer(detokenized_text)\n",
    "    \n",
    "    token_positions = []\n",
    "    for match in matches:\n",
    "        start_char, end_char = match.span()\n",
    "        start_token = char_to_token_position(tokens, start_char)\n",
    "        end_token = char_to_token_position(tokens, end_char)\n",
    "        token_positions.append((start_token, end_token))\n",
    "    return token_positions\n",
    "\n",
    "\n",
    "import numpy as np\n",
    "import matplotlib.pyplot as plt\n",
    "import seaborn as sns\n",
    "from collections import Counter\n",
    "\n",
    "def prepare_data(dictionary_activations, feature_index, num_bins=10):\n",
    "    best_feature_activations = dictionary_activations[:, feature_index]\n",
    "    min_value = torch.min(best_feature_activations)\n",
    "    max_value = torch.max(best_feature_activations)\n",
    "    bin_boundaries = torch.linspace(min_value, max_value, num_bins+1)\n",
    "    bins = torch.bucketize(best_feature_activations, bin_boundaries)\n",
    "    return best_feature_activations, bin_boundaries, bins\n",
    "\n",
    "def compute_bar_positions(bin_boundaries):\n",
    "    barWidth = (bin_boundaries[1] - bin_boundaries[0]) * 0.8\n",
    "    r = (bin_boundaries[:-1] + bin_boundaries[1:]) / 2\n",
    "    return r, barWidth\n",
    "\n",
    "def process_data_type1(bins, dataset, num_bins, num_unique_tokens, model):\n",
    "    nonzero = bins.nonzero()[:,0]\n",
    "    datapoint_indices = [np.unravel_index(i, (datapoints, token_amount)) for i in nonzero]\n",
    "    max_token = [dataset[int(md)][\"input_ids\"][int(s_ind)] for md, s_ind in datapoint_indices]\n",
    "    \n",
    "    ac = Counter(max_token)\n",
    "    max_tokens = [token_ind for token_ind, count in ac.most_common(num_unique_tokens)]\n",
    "    token_dict = {token: np.zeros(num_bins) for token in max_tokens}\n",
    "    misc_count = np.zeros(num_bins)\n",
    "\n",
    "    for i in range(1, num_bins+1):\n",
    "        bin_tokens_ind = (bins == i).nonzero()[:,0]\n",
    "        datapoint_indices = [np.unravel_index(ind, (datapoints, token_amount)) for ind in bin_tokens_ind]\n",
    "        max_token = [dataset[int(md)][\"input_ids\"][int(s_ind)] for md, s_ind in datapoint_indices]\n",
    "        \n",
    "        total_tokens = len(max_token)\n",
    "        running_count = 0\n",
    "        ac = Counter(max_token)\n",
    "        for token_ind, count in ac.most_common(10):\n",
    "            if token_ind in max_tokens:\n",
    "                token_dict[token_ind][i-1] = count\n",
    "                running_count += count\n",
    "        misc_count[i-1] = total_tokens - running_count\n",
    "\n",
    "    max_text = [model.tokenizer.decode([token]) for token in max_tokens]\n",
    "    return token_dict, misc_count, max_tokens, max_text\n",
    "\n",
    "def process_data_type2(bins, dataset, num_bins, masks):\n",
    "    regex_matches_vs_nonmatches = np.zeros((num_bins, 2))\n",
    "    all_non_matched_tokens = []\n",
    "    non_matched_all_tokens = []\n",
    "    for i in range(1,num_bins+1):\n",
    "        bin_tokens_ind = (bins == i).nonzero()[:,0]\n",
    "        datapoint_indices = [np.unravel_index(i, (datapoints, token_amount)) for i in bin_tokens_ind]\n",
    "        for md, s_ind in datapoint_indices:\n",
    "            md = int(md)\n",
    "            s_ind = int(s_ind)\n",
    "            regex_matches_vs_nonmatches[i-1, masks[md][s_ind]] += 1\n",
    "            if not masks[md][s_ind]:\n",
    "                all_non_matched_tokens.append(dataset[md][\"input_ids\"][s_ind])\n",
    "                non_matched_all_tokens.append(dataset[md][\"input_ids\"][:s_ind+1])\n",
    "    return regex_matches_vs_nonmatches, all_non_matched_tokens\n",
    "\n",
    "def plot_data_type1(r, barWidth, bin_boundaries, data, model):\n",
    "    token_dict, misc_count, max_tokens, max_text = data\n",
    "    colors = sns.color_palette('colorblind', len(max_tokens) + 1)\n",
    "    running_sum = np.zeros(len(bin_boundaries) - 1)\n",
    "    for i in range(len(max_tokens)):\n",
    "        token_id_name = max_tokens[i]\n",
    "        token_count_array = token_dict[token_id_name]\n",
    "        text_label = max_text[i]\n",
    "        plt.bar(r, token_count_array, bottom=running_sum, label=text_label, color=colors[i], width=barWidth)\n",
    "        running_sum += token_count_array\n",
    "    plt.bar(r, misc_count, bottom=running_sum, label='[All Other Tokens]', color=colors[-1], width=barWidth)\n",
    "    plt.title(f'Token Count for Feature {feature_index} Across Activation Ranges')\n",
    "    plt.xlabel('Activation')\n",
    "    plt.xticks(bin_boundaries, [f\"{val:.2f}\" for val in bin_boundaries])\n",
    "    plt.legend()\n",
    "    plt.tight_layout()\n",
    "    plt.show()\n",
    "\n",
    "def plot_data_type2(r, barWidth, bin_boundaries, data, regex_pattern):\n",
    "    regex_matches_vs_nonmatches, all_non_matched_tokens = data\n",
    "    colors = sns.color_palette('deep', regex_matches_vs_nonmatches.shape[1] + 1)\n",
    "    running_sum = np.zeros(len(bin_boundaries) - 1)\n",
    "    for i in range(regex_matches_vs_nonmatches.shape[1]):\n",
    "        text_label = regex_pattern if i == 0 else \"non-matches\"\n",
    "        token_count_array = regex_matches_vs_nonmatches[:, (i+1)%2]\n",
    "        plt.bar(r, token_count_array, bottom=running_sum, label=text_label, color=colors[i], width=barWidth)\n",
    "        running_sum += token_count_array\n",
    "    plt.title(f'Token Count for Feature {feature_index} Across Activation Ranges')\n",
    "    plt.xlabel('Activation')\n",
    "    plt.xticks(bin_boundaries, [f\"{val:.2f}\" for val in bin_boundaries])\n",
    "    plt.legend()\n",
    "    plt.tight_layout()\n",
    "    plt.show()\n",
    "\n",
    "import numpy as np\n",
    "\n",
    "def generate_masks(dataset, model, feature_index, token_amount, regex_pattern, extra_token_amount=2):\n",
    "    \"\"\"\n",
    "    Generates masks based on a regex pattern.\n",
    "\n",
    "    Parameters:\n",
    "    - dataset: dataset containing the texts to be searched\n",
    "    - model: the model containing the tokenizer\n",
    "    - feature_index: index of the feature (not used in the function based on given code, but kept for consistency)\n",
    "    - token_amount: limit to number of tokens to be considered from the tokenized text\n",
    "    - regex_pattern: the regular expression pattern to be searched for\n",
    "    - extra_token_amount: additional tokens to consider\n",
    "\n",
    "    Returns:\n",
    "    - masks: a list of masks generated based on the regex_pattern\n",
    "    \"\"\"\n",
    "    texts = dataset[\"text\"]\n",
    "    masks = []\n",
    "\n",
    "    for text_ind, text in enumerate(texts):\n",
    "        tokens = model.tokenizer(text)\n",
    "        tokens['input_ids'] = tokens['input_ids'][:token_amount + extra_token_amount]\n",
    "        token_positions = find_text_in_regex(tokens, regex_pattern=regex_pattern)\n",
    "        mask = np.zeros(token_amount, dtype=int)  # Initial mask\n",
    "        for start, end in token_positions:\n",
    "            if end is None:\n",
    "                print(\"No match found for text: \", model.tokenizer.decode(tokens.input_ids))\n",
    "                print(start, end)\n",
    "                continue\n",
    "            if end > token_amount:\n",
    "                end = token_amount\n",
    "            mask[start:end] = 1\n",
    "        masks.append(mask)\n",
    "\n",
    "    return masks"
   ]
  },
  {
   "cell_type": "code",
   "execution_count": 59,
   "metadata": {},
   "outputs": [
    {
     "name": "stdout",
     "output_type": "stream",
     "text": [
      "Activations: [7.28, 2.83, 2.39, 2.07, 1.79, 1.39, 0.75, 0.7, 0.7, 0.5]\n",
      "Feature_ids [1359, 1764, 475, 1815, 513, 1184, 1100, 995, 1001, 365]\n",
      "PCA: [6.01, 5.16, 3.74, 2.77, 2.55, 2.48, 2.23, 1.71, 1.59, 1.51]\n",
      "PCA_ids [0, 513, 1022, 3, 514, 4, 521, 518, 5, 50]\n",
      "ICA: [4.56, 0.09, 0.06, 0.06, 0.06, 0.05, 0.05, 0.05, 0.05, 0.05]\n",
      "ICA_ids [339, 421, 216, 234, 456, 311, 232, 55, 319, 53]\n",
      "Neuron: [6.71, 2.8, 2.43, 1.36, 1.35, 1.21, 1.17, 1.15, 1.14, 1.03]\n",
      "Neuron_ids [156, 307, 25, 466, 348, 225, 181, 317, 510, 274]\n",
      "Reverse Neuron: [-3.69, -1.73, -1.7, -1.63, -1.34, -1.17, -1.14, -1.08, -1.04, -0.93]\n",
      "Reverse Neuron_ids [21, 78, 126, 450, 240, 423, 255, 300, 30, 160]\n"
     ]
    }
   ],
   "source": [
    "# Feature Search\n",
    "# t = \" Bratwurst, Sauerkraut, und Bier\"\n",
    "# t = \"我们一起去玩吧\"\n",
    "# t = \"for i in range\"\n",
    "t = \" I don't know about that. It is now up to Dave'\"\n",
    "# t = \" I like to eat them (apples and oranges\"\n",
    "# t = \" I like to eat them at National Institute of Justice (NIJ\"\n",
    "# t = \" I like to eat them at National Institute of Justice (\"\n",
    "# t = \" I like to eat them but (NIJ\"\n",
    "# t = \"いさんさん��に\"\n",
    "split_text = model.to_str_tokens(t, prepend_bos=False)\n",
    "token = model.to_tokens(t, prepend_bos=False)\n",
    "_, cache = model.run_with_cache(token.to(model.cfg.device))\n",
    "neuron_act_batch = cache[cache_name]\n",
    "act = smaller_autoencoder.encode(neuron_act_batch.squeeze())\n",
    "pca_act = pca_topk.encode(neuron_act_batch.squeeze())\n",
    "ica_act = ica_topk.encode(neuron_act_batch.squeeze())\n",
    "v, i = act[-1, :].topk(10)\n",
    "pv, pi = pca_act[-1, :].topk(10)\n",
    "iv, ii = ica_act[-1, :].topk(10)\n",
    "nbv, nbi = neuron_act_batch[0, -1, :].topk(10)\n",
    "r_nbv, r_nbi = neuron_act_batch[0, -1, :].topk(10, largest=False)\n",
    "\n",
    "print(\"Activations:\",[round(val,2) for val in v.tolist()])\n",
    "print(\"Feature_ids\", i.tolist())\n",
    "print(\"PCA:\",[round(val,2) for val in pv.tolist()])\n",
    "print(\"PCA_ids\", pi.tolist())\n",
    "print(\"ICA:\",[round(val,2) for val in iv.tolist()])\n",
    "print(\"ICA_ids\", ii.tolist())\n",
    "print(\"Neuron:\",[round(val,2) for val in nbv.tolist()])\n",
    "print(\"Neuron_ids\", nbi.tolist())\n",
    "print(\"Reverse Neuron:\",[round(val,2) for val in r_nbv.tolist()])\n",
    "print(\"Reverse Neuron_ids\", r_nbi.tolist())"
   ]
  },
  {
   "cell_type": "code",
   "execution_count": 31,
   "metadata": {},
   "outputs": [
    {
     "data": {
      "text/plain": [
       "torch.Size([7, 512])"
      ]
     },
     "execution_count": 31,
     "metadata": {},
     "output_type": "execute_result"
    }
   ],
   "source": [
    "neuron_act_batch.squeeze().shape"
   ]
  },
  {
   "cell_type": "code",
   "execution_count": 166,
   "metadata": {},
   "outputs": [
    {
     "data": {
      "text/plain": [
       "tensor(4080)"
      ]
     },
     "execution_count": 166,
     "metadata": {},
     "output_type": "execute_result"
    }
   ],
   "source": [
    "neuron_activations[:, 21]\n",
    "just_negative = neuron_activations[:, :21+1].clone()\n",
    "just_negative[just_negative > -5.11] = 0\n",
    "# just_negative[just_negative > -0] = 0\n",
    "just_negative[:, 21].count_nonzero()"
   ]
  },
  {
   "cell_type": "code",
   "execution_count": 165,
   "metadata": {},
   "outputs": [
    {
     "name": "stdout",
     "output_type": "stream",
     "text": [
      "[204240 108233  65095  12819   2518    849    438    189     80     19]\n"
     ]
    }
   ],
   "source": [
    "counts, _ = np.histogram(just_negative[:,21].abs(), bins=bin_boundaries)\n",
    "print(counts)"
   ]
  },
  {
   "cell_type": "code",
   "execution_count": 167,
   "metadata": {},
   "outputs": [],
   "source": [
    "just_negative = just_negative.abs()"
   ]
  },
  {
   "cell_type": "code",
   "execution_count": 168,
   "metadata": {},
   "outputs": [
    {
     "data": {
      "image/png": "[encoded data removed]",
      "text/plain": [
       "<Figure size 640x480 with 1 Axes>"
      ]
     },
     "metadata": {},
     "output_type": "display_data"
    }
   ],
   "source": [
    "# Token level\n",
    "# feature_index = 1764 # dictionary\n",
    "# feature_index = 513 # PCA\n",
    "# feature_index = 966 # ICA\n",
    "feature_index = 21 # neuron\n",
    "num_bins=10\n",
    "# activations, bin_boundaries, bins = prepare_data(dictionary_activations, feature_index)\n",
    "# activations, bin_boundaries, bins = prepare_data(pca_dictionary_activations, feature_index)\n",
    "activations, bin_boundaries, bins = prepare_data(just_negative, feature_index)\n",
    "r, barWidth = compute_bar_positions(bin_boundaries)\n",
    "title = f\"Token Count for Feature {feature_index} Neuron Basis\"\n",
    "data1 = process_data_type1(bins, dataset, num_bins, num_unique_tokens=5, model=model)\n",
    "# counts, _ = np.histogram(just_negative[:,feature_index].abs(), bins=bin_boundaries)\n",
    "\n",
    "# # `counts` now holds the number of activations in each bin defined by bin_boundaries.\n",
    "all_variables = (r, barWidth, bin_boundaries, data1,title, counts)\n",
    "with open(f\"images/neuron_basis_21.pkl\", 'wb') as f:\n",
    "    pickle.dump(all_variables, f)\n",
    "plot_data_type1(r, barWidth, bin_boundaries, data1, model)"
   ]
  },
  {
   "cell_type": "code",
   "execution_count": 12,
   "metadata": {},
   "outputs": [
    {
     "data": {
      "image/png": "[encoded data removed]",
      "text/plain": [
       "<Figure size 640x480 with 1 Axes>"
      ]
     },
     "metadata": {},
     "output_type": "display_data"
    }
   ],
   "source": [
    "feature_index = 2808\n",
    "# regex_pattern =  r'(?<=\\().*?(?=\\))'\n",
    "regex_pattern = r'\\((?=[A-Z]{1,})'\n",
    "masks = generate_masks(dataset, model, feature_index, token_amount, regex_pattern)\n",
    "\n",
    "activations, bin_boundaries, bins = prepare_data(dictionary_activations, feature_index)\n",
    "r, barWidth = compute_bar_positions(bin_boundaries)\n",
    "data2 = process_data_type2(bins, dataset, num_bins, masks)\n",
    "plot_data_type2(r, barWidth, bin_boundaries, data2, regex_pattern)"
   ]
  },
  {
   "cell_type": "code",
   "execution_count": 13,
   "metadata": {},
   "outputs": [
    {
     "name": "stdout",
     "output_type": "stream",
     "text": [
      "(992,) (292,) (1705,)\n",
      "Matches: 992, False Positives: 292, False Negatives: 1705\n"
     ]
    },
    {
     "data": {
      "text/html": [
       "<div id=\"circuits-vis-16b2bebe-a15a\" style=\"margin: 15px 0;\"/>\n",
       "    <script crossorigin type=\"module\">\n",
       "    import { render, TextNeuronActivations } from \"https://unpkg.com/circuitsvis@1.40.1/dist/cdn/esm.js\";\n",
       "    render(\n",
       "      \"circuits-vis-16b2bebe-a15a\",\n",
       "      TextNeuronActivations,\n",
       "      {\"tokens\": [\"But\", \" something\", \" is\", \" happening\", \" here\", \" and\", \" you\", \" don\", \"\\u2019\", \"t\", \" know\", \" what\", \" it\", \" is\", \"\\\\newline\", \"\\\\newline\", \"Do\", \" you\", \",\", \" Mr\", \",\", \" Jones\", \"?\", \" (\", \"\\n\", \"Story\", \" highlights\", \" To\", \"ys\", \" \\\"\", \"R\", \"\\\"\", \" Us\", \" Canada\", \" is\", \" searching\", \" for\", \" a\", \" new\", \" chief\", \" play\", \" officer\", \"\\\\newline\", \"\\\\newline\", \"Alex\", \" Th\", \"orne\", \",\", \" 13\", \",\", \" is\", \" stepping\", \" down\", \"\\\\newline\", \"\\\\newline\", \"(\", \"\\n\", \"---\", \"\\\\newline\", \"abstract\", \":\", \" '\", \"The\", \" purpose\", \" of\", \" this\", \" article\", \" is\", \" to\", \" study\", \" the\", \" problem\", \" of\", \" finding\", \" sharp\", \" lower\", \" bounds\", \" for\", \" the\", \" norm\", \" of\", \" the\", \" product\", \" of\", \" polynomials\", \" in\", \" the\", \" ultra\", \"products\", \" of\", \" Banach\", \" spaces\", \" $(\", \"\\n\", \"J\", \"ake\", \" Jones\", \"\\\\newline\", \"\\\\newline\", \"James\", \" Mur\", \"rell\", \" \\\"\", \"J\", \"ake\", \"\\\"\", \" Jones\", \" (\", \"\\n\", \"T\", \"ar\", \"ab\", \"ou\", \"ra\", \"\\\\newline\", \"\\\\newline\", \"T\", \"ar\", \"ab\", \"ou\", \"ra\", \" (\", \"\\n\", \"In\", \" the\", \" Community\", \"\\\\newline\", \"\\\\newline\", \"Near\", \"by\", \" Schools\", \"\\\\newline\", \"\\\\newline\", \"3\", \"208\", \" Per\", \"dot\", \" Avenue\", \",\", \" Ros\", \"amond\", \",\", \" CA\", \" 9\", \"35\", \"60\", \" (\", \"\\n\", \"E\", \"och\", \"ry\", \"sis\", \",\", \" a\", \" new\", \" replacement\", \" name\", \" for\", \" the\", \" fossil\", \" Pro\", \"to\", \"ch\", \"ry\", \"sis\", \" B\", \"isch\", \"off\", \",\", \" 1916\", \" (\", \"\\n\", \"A\", \"ra\", \"uc\", \"aria\", \" clonal\", \" forest\", \"ry\", \":\", \" types\", \" of\", \" cut\", \"t\", \"ings\", \" and\", \" mother\", \" tree\", \" sex\", \" in\", \" field\", \" survival\", \" and\", \" growth\", \"\\\\newline\", \"\\\\newline\", \"Res\", \"um\", \"o\", \":\", \"\\\\newline\", \"\\\\newline\", \"A\", \"ra\", \"uc\", \"aria\", \" ang\", \"ust\", \"if\", \"olia\", \" (\", \"\\n\", \"\\\\newline\", \"#\", \"if\", \"!\", \"defined\", \"\\n\", \"Div\", \"esting\", \" Of\", \" K\", \"ru\", \"ger\", \"\\u2019\", \"s\", \" Cash\", \" (\", \"\\n\", \"Rob\", \"ins\", \"ons\", \" ready\", \" to\", \" roll\", \"\\\\newline\", \"\\\\newline\", \"Tw\", \"ins\", \" Ty\", \"rell\", \" and\", \" Ty\", \"ree\", \" Robinson\", \" making\", \" their\", \" marks\", \" in\", \" football\", \",\", \" basketball\", \"\\\\newline\", \"\\\\newline\", \"A\", \" quick\", \" look\", \" at\", \" twin\", \" brothers\", \" Ty\", \"ree\", \" and\", \" Ty\", \"rell\", \" Robinson\", \" (\", \"\\n\", \"M\", \"oss\", \" (\", \"\\n\", \"Poly\", \"(\", \"\\n\", \"We\", \" now\", \" require\", \" registration\", \" to\", \" download\", \" high\", \" resolution\", \" fan\", \" art\", \".\", \" Please\", \" take\", \" a\", \" few\", \" seconds\", \" to\", \" register\", \" absolutely\", \" free\", \"!\", \" Click\", \" here\", \" now\", \".\", \" (\", \"\\n\", \"PE\", \"OR\", \"IA\", \",\", \" Ill\", \".\", \" (\", \"\\n\", \"A\", \"val\", \"anch\", \"a\", \" de\", \" \\u00c9\", \"xit\", \"os\", \"\\\\newline\", \"\\\\newline\", \"A\", \"val\", \"anch\", \"a\", \" de\", \" \\u00c9\", \"xit\", \"os\", \" (\", \"\\n\", \"Anthony\", \" I\", \"lu\", \"obe\", \"\\\\newline\", \"\\\\newline\", \"Chief\", \" Anthony\", \" I\", \"lu\", \"obe\", \" (\", \"\\n\", \"Anthony\", \" I\", \"lu\", \"obe\", \"\\\\newline\", \"\\\\newline\", \"Chief\", \" Anthony\", \" I\", \"lu\", \"obe\", \" (\", \"JP\", \")\", \" was\", \" born\", \" in\", \" 1945\", \" to\", \" the\", \" family\", \" of\", \" Chief\", \" and\", \" Mrs\", \" Joseph\", \" Ag\", \"im\", \"hel\", \"en\", \" I\", \"lu\", \"obe\", \" (\", \"\\n\", \"(\", \"\\n\", \"Q\", \":\", \"\\\\newline\", \"\\\\newline\", \"union\", \" all\", \" in\", \" SQL\", \" (\", \"\\n\"], \"activations\": [[[0.0]], [[0.0]], [[0.0]], [[0.0]], [[0.0]], [[0.0]], [[0.0]], [[0.0]], [[0.0]], [[0.0]], [[0.0]], [[0.0]], [[0.0]], [[0.0]], [[0.0]], [[0.0]], [[0.0]], [[0.0]], [[0.0]], [[0.0]], [[0.0]], [[0.0]], [[0.0]], [[0.0]], [[0.0]], [[0.0]], [[0.0]], [[0.0]], [[0.0]], [[0.0]], [[0.0]], [[0.0]], [[0.0]], [[0.0]], [[0.0]], [[0.0]], [[0.0]], [[0.0]], [[0.0]], [[0.0]], [[0.0]], [[0.0]], [[0.0]], [[0.0]], [[0.0]], [[0.0]], [[0.0]], [[0.0]], [[0.0]], [[0.0]], [[0.0]], [[0.0]], [[0.0]], [[0.0]], [[0.0]], [[0.0]], [[0.0]], [[0.0]], [[0.0]], [[0.0]], [[0.0]], [[0.0]], [[0.0]], [[0.0]], [[0.0]], [[0.0]], [[0.0]], [[0.0]], [[0.0]], [[0.0]], [[0.0]], [[0.0]], [[0.0]], [[0.0]], [[0.0]], [[0.0]], [[0.0]], [[0.0]], [[0.0]], [[0.0]], [[0.0]], [[0.0]], [[0.0]], [[0.0]], [[0.0]], [[0.0]], [[0.0]], [[0.0]], [[0.0]], [[0.0]], [[0.0]], [[0.0]], [[0.0]], [[0.0]], [[0.0]], [[0.0]], [[0.0]], [[0.0]], [[0.0]], [[0.0]], [[0.0]], [[0.0]], [[0.0]], [[0.0]], [[0.0]], [[0.0]], [[0.0]], [[0.0]], [[0.0]], [[0.0]], [[0.0]], [[0.0]], [[0.0]], [[0.0]], [[0.0]], [[0.0]], [[0.0]], [[0.0]], [[0.0]], [[0.0]], [[0.0]], [[0.0]], [[0.0]], [[0.0]], [[0.0]], [[0.0]], [[0.0]], [[0.0]], [[0.0]], [[0.0]], [[0.0]], [[0.0]], [[0.0]], [[0.0]], [[0.0]], [[0.0]], [[0.0]], [[0.0]], [[0.0]], [[0.0]], [[0.0]], [[0.0]], [[0.0]], [[0.0]], [[0.0]], [[0.0]], [[0.0]], [[0.0]], [[0.0]], [[0.0]], [[0.0]], [[0.0]], [[0.0]], [[0.0]], [[0.0]], [[0.0]], [[0.0]], [[0.0]], [[0.0]], [[0.0]], [[0.0]], [[0.0]], [[0.0]], [[0.0]], [[0.0]], [[0.0]], [[0.0]], [[0.0]], [[0.0]], [[0.0]], [[0.0]], [[0.0]], [[0.0]], [[0.0]], [[0.0]], [[0.0]], [[0.0]], [[0.0]], [[0.0]], [[0.0]], [[0.0]], [[0.0]], [[0.0]], [[0.0]], [[0.0]], [[0.0]], [[0.0]], [[0.0]], [[0.0]], [[0.0]], [[0.0]], [[0.0]], [[0.0]], [[0.0]], [[0.0]], [[0.0]], [[0.0]], [[0.0]], [[0.0]], [[0.0]], [[0.0]], [[0.0]], [[0.0]], [[0.0]], [[0.0]], [[0.0]], [[0.0]], [[0.0]], [[0.0]], [[0.0]], [[0.0]], [[0.0]], [[0.0]], [[0.0]], [[0.0]], [[0.0]], [[0.0]], [[0.0]], [[0.0]], [[0.0]], [[0.0]], [[0.0]], [[0.0]], [[0.0]], [[0.0]], [[0.0]], [[0.0]], [[0.0]], [[0.0]], [[0.0]], [[0.0]], [[0.0]], [[0.0]], [[0.0]], [[0.0]], [[0.0]], [[0.0]], [[0.0]], [[0.0]], [[0.0]], [[0.0]], [[0.0]], [[0.0]], [[0.0]], [[0.0]], [[0.0]], [[0.0]], [[0.0]], [[0.0]], [[0.0]], [[0.0]], [[0.0]], [[0.0]], [[0.0]], [[0.0]], [[0.0]], [[0.0]], [[0.0]], [[0.0]], [[0.0]], [[0.0]], [[0.0]], [[0.0]], [[0.0]], [[0.0]], [[0.0]], [[0.0]], [[0.0]], [[0.0]], [[0.0]], [[0.0]], [[0.0]], [[0.0]], [[0.0]], [[0.0]], [[0.0]], [[0.0]], [[0.0]], [[0.0]], [[0.0]], [[0.0]], [[0.0]], [[0.0]], [[0.0]], [[0.0]], [[0.0]], [[0.0]], [[0.0]], [[0.0]], [[0.0]], [[0.0]], [[0.0]], [[0.0]], [[0.0]], [[0.0]], [[0.0]], [[0.0]], [[0.0]], [[0.0]], [[0.0]], [[0.0]], [[0.0]], [[0.0]], [[0.0]], [[0.0]], [[0.0]], [[0.0]], [[0.0]], [[0.0]], [[0.0]], [[0.0]], [[0.0]], [[0.0]], [[0.0]], [[0.0]], [[0.0]], [[0.0]], [[0.0]], [[0.0]], [[0.0]], [[0.0]], [[0.0]], [[0.0]], [[0.0]], [[0.0]], [[0.0]], [[0.0]], [[0.0]], [[0.01338648796081543]], [[0.0]], [[0.0]], [[0.0]], [[0.0]], [[0.0]], [[0.0]], [[0.0]], [[0.0]], [[0.0]], [[0.0]], [[0.0]], [[0.0]], [[0.0]], [[0.0]], [[0.0]], [[0.0]], [[0.0]], [[0.0]], [[0.0]], [[0.0]], [[0.0]], [[0.0]], [[0.0]], [[0.0]], [[0.0]], [[0.0]], [[0.0]], [[0.0]], [[0.0]], [[0.0]], [[0.0]], [[0.0]], [[0.0]], [[0.0]], [[0.0]], [[0.0]], [[0.0]], [[0.0]], [[0.0]], [[0.0]], [[0.0]], [[0.0]], [[0.0]], [[0.0]], [[0.0]], [[0.0]], [[0.0]], [[0.0]], [[0.0]], [[0.0]], [[0.0]], [[0.0]], [[0.0]], [[0.0]], [[0.0]], [[0.0]], [[0.0]], [[0.0]], [[0.0]], [[0.0]], [[0.0]]], \"firstDimensionName\": \"Layer\", \"secondDimensionName\": \"Neuron\"}\n",
       "    )\n",
       "    </script>"
      ],
      "text/plain": [
       "<circuitsvis.utils.render.RenderedHTML at 0x7ff81414b610>"
      ]
     },
     "execution_count": 13,
     "metadata": {},
     "output_type": "execute_result"
    }
   ],
   "source": [
    "regex_nonzero, feature_nonzero = np.array(masks).flatten().nonzero()[0], dictionary_activations[:, feature_index].numpy().nonzero()[0]\n",
    "index_matches = np.intersect1d(regex_nonzero, feature_nonzero)\n",
    "false_positives = np.setdiff1d(regex_nonzero, index_matches)\n",
    "false_negatives = np.setdiff1d(feature_nonzero, index_matches)\n",
    "print(index_matches.shape, false_positives.shape, false_negatives.shape)\n",
    "print(f\"Matches: {index_matches.shape[0]}, False Positives: {false_positives.shape[0]}, False Negatives: {false_negatives.shape[0]}\")\n",
    "found_indices = false_positives[:20]\n",
    "\n",
    "datapoint_indices =[np.unravel_index(i, (datapoints, token_amount)) for i in found_indices]\n",
    "text_list = []\n",
    "full_text = []\n",
    "token_list = []\n",
    "full_token_list = []\n",
    "for md, s_ind in datapoint_indices:\n",
    "    md = int(md)\n",
    "    s_ind = int(s_ind)\n",
    "    full_tok = torch.tensor(dataset[md][\"input_ids\"])\n",
    "    full_text.append(model.tokenizer.decode(full_tok))\n",
    "    tok = dataset[md][\"input_ids\"][:s_ind+1]\n",
    "    text = model.tokenizer.decode(tok)\n",
    "    text_list.append(text)\n",
    "    token_list.append(tok)\n",
    "    full_token_list.append(full_tok)\n",
    "# text_list, full_text, token_list, full_token_list\n",
    "visualize_text(text_list, feature_index, model)"
   ]
  },
  {
   "cell_type": "code",
   "execution_count": 90,
   "metadata": {},
   "outputs": [
    {
     "name": "stdout",
     "output_type": "stream",
     "text": [
      "Feature index: 103\n",
      "MCS: 0.9794006943702698\n"
     ]
    },
    {
     "data": {
      "text/html": [
       "<div id=\"circuits-vis-971a12a7-2366\" style=\"margin: 15px 0;\"/>\n",
       "    <script crossorigin type=\"module\">\n",
       "    import { render, TextNeuronActivations } from \"https://unpkg.com/circuitsvis@1.40.1/dist/cdn/esm.js\";\n",
       "    render(\n",
       "      \"circuits-vis-971a12a7-2366\",\n",
       "      TextNeuronActivations,\n",
       "      {\"tokens\": [\"Q\", \":\", \"\\\\newline\", \"\\\\newline\", \"Thomas\", \"-\", \"W\", \"igner\", \" rotation\", \" of\", \" a\", \" stick\", \" directly\", \" from\", \" the\", \" Lorentz\", \" Trans\", \"formation\", \"\\\\newline\", \"\\\\newline\", \"I\", \"'m\", \" trying\", \" to\", \" better\", \" understand\", \" Thomas\", \"-\", \"\\n\", \"Q\", \":\", \"\\\\newline\", \"\\\\newline\", \"Can\", \"'t\", \" exclude\", \" directory\", \" names\", \" with\", \" c\", \"w\", \"-\", \"rs\", \"ync\", \"\\\\newline\", \"\\\\newline\", \"I\", \"'m\", \" using\", \" c\", \"\\n\", \"Dor\", \"ais\", \"w\", \"amy\", \" Raj\", \"u\", \"\\\\newline\", \"\\\\newline\", \"Dor\", \"ais\", \"\\n\", \"Jean\", \" W\", \"rig\", \"ley\", \"\\\\newline\", \"\\\\newline\", \"Jean\", \" W\", \"rig\", \"ley\", \" (\", \"born\", \" 22\", \" December\", \" 1935\", \")\", \" is\", \" a\", \" British\", \" former\", \" swim\", \"mer\", \".\", \"\\n\", \"\\ufffd\", \"\\ufffd\", \"ag\", \"iew\", \"n\", \"iki\", \",\", \" W\", \"\\u0142\", \"oc\", \"\\u0142a\", \"we\", \"k\", \" County\", \"\\\\newline\", \"\\\\newline\", \"\\ufffd\", \"\\ufffd\", \"ag\", \"iew\", \"n\", \"iki\", \"  \", \"()\", \" is\", \" a\", \" village\", \" in\", \" the\", \" administrative\", \" district\", \" of\", \" G\", \"mina\", \" W\", \"\\u0142\", \"oc\", \"\\u0142a\", \"\\n\", \"John\", \" Wyn\", \"ne\", \" (\", \"died\", \" 17\", \"47\", \")\", \"\\\\newline\", \"\\\\newline\", \"John\", \"\\n\", \"/**\", \"\\\\newline\", \" *\", \" Mar\", \"lin\", \" 3\", \"D\", \" Pr\", \"inter\", \" Firm\", \"ware\", \"\\\\newline\", \" *\", \" Copyright\", \" (\", \"c\", \")\", \" 2020\", \" Mar\", \"lin\", \"F\", \"irm\", \"ware\", \" [\", \"https\", \"://\", \"github\", \".\", \"com\", \"/\", \"Mar\", \"lin\", \"F\", \"irm\", \"\\n\", \"J\", \"azz\", \" F\", \"ills\", \" the\", \" Air\", \" Near\", \" Brook\", \"haven\", \" Acc\", \"om\", \"mod\", \"ations\", \" for\", \" Annual\", \" Winter\", \"fest\", \" Gu\", \"ests\", \"\\\\newline\", \"\\\\newline\", \"W\", \"iner\", \"ies\", \" Open\", \" Their\", \" T\", \"asting\", \" Ro\", \"oms\", \" to\", \" J\", \"az\", \"zy\", \" Winter\", \" Fun\", \"\\\\newline\\\\newline\", \"\\n\", \"Wire\", \"\\n\", \"Q\", \"\\n\", \"Light\", \" regulation\", \" of\", \" plant\", \" gene\", \" expression\", \" by\", \" an\", \" upstream\", \" enhancer\", \"-\", \"like\", \" element\", \".\", \"\\\\newline\", \"Light\", \" regulates\", \" many\", \" varied\", \" physiological\", \" and\", \" developmental\", \" phenomena\", \" during\", \"\\n\"], \"activations\": [[[0.22166991233825684]], [[0.0]], [[0.0]], [[0.0]], [[0.0]], [[0.0]], [[0.0]], [[0.0]], [[0.0]], [[0.18262863159179688]], [[0.0]], [[0.0]], [[0.0]], [[0.0]], [[0.0]], [[0.0]], [[0.0]], [[0.0]], [[0.0]], [[0.21547317504882812]], [[0.0]], [[0.0]], [[0.0]], [[0.0]], [[0.0]], [[0.0]], [[1.2112529277801514]], [[6.295956611633301]], [[0.0]], [[0.22166991233825684]], [[0.0]], [[0.0]], [[0.0]], [[0.0]], [[0.0]], [[0.0]], [[0.0]], [[0.0]], [[0.0]], [[0.0]], [[0.0]], [[0.7032907009124756]], [[0.0]], [[0.0]], [[0.0]], [[0.0]], [[0.0]], [[0.0]], [[0.0]], [[5.498703479766846]], [[0.0]], [[0.0]], [[0.0]], [[0.0]], [[0.0]], [[0.0]], [[0.0]], [[0.0]], [[0.0]], [[0.0]], [[4.627742290496826]], [[0.0]], [[0.054601192474365234]], [[0.0]], [[0.18969964981079102]], [[0.0]], [[0.0]], [[0.0]], [[1.7780990600585938]], [[0.22098922729492188]], [[1.627753734588623]], [[0.8519364595413208]], [[0.0]], [[0.30425918102264404]], [[0.0]], [[0.0]], [[0.0]], [[0.0]], [[0.0]], [[0.0]], [[0.0]], [[0.0]], [[0.0]], [[0.0]], [[3.9676008224487305]], [[0.0]], [[0.0560530424118042]], [[0.0]], [[0.0]], [[0.18959498405456543]], [[0.05242776870727539]], [[0.3100470304489136]], [[0.0]], [[0.0]], [[0.0]], [[0.9350661039352417]], [[1.1586451530456543]], [[0.5112621784210205]], [[0.3823080062866211]], [[0.3388080596923828]], [[0.3563356399536133]], [[0.5997625589370728]], [[0.12676918506622314]], [[0.0]], [[2.9019088745117188]], [[1.1291592121124268]], [[1.444897174835205]], [[0.493330717086792]], [[1.7244811058044434]], [[0.7123465538024902]], [[0.3347806930541992]], [[1.697005033493042]], [[0.0]], [[2.5994553565979004]], [[0.7263271808624268]], [[0.0]], [[0.0]], [[0.0]], [[0.16389620304107666]], [[1.589064598083496]], [[0.7040219306945801]], [[0.042043209075927734]], [[2.783637046813965]], [[3.2101802825927734]], [[0.0]], [[0.3239402770996094]], [[0.4459104537963867]], [[0.0]], [[0.21482086181640625]], [[0.0]], [[0.0]], [[0.0]], [[0.12754154205322266]], [[0.0]], [[0.3855637311935425]], [[3.0510568618774414]], [[0.0]], [[0.0]], [[0.0]], [[0.0]], [[0.0]], [[0.0]], [[0.0]], [[0.0]], [[0.0]], [[0.0]], [[0.0]], [[0.0]], [[0.0]], [[0.0]], [[0.0]], [[0.0]], [[0.0]], [[0.0]], [[0.0]], [[0.0]], [[0.0]], [[0.0]], [[0.34121251106262207]], [[0.0]], [[0.0]], [[0.0]], [[0.007731437683105469]], [[0.0]], [[0.0]], [[0.0]], [[0.0]], [[0.0]], [[0.0]], [[0.49770236015319824]], [[2.059598445892334]], [[0.0]], [[0.0]], [[0.0]], [[0.0]], [[0.0]], [[0.0]], [[0.0]], [[0.0]], [[0.0]], [[0.0]], [[0.0]], [[0.0]], [[0.0]], [[0.0]], [[0.0]], [[0.0]], [[0.0]], [[0.0]], [[0.0]], [[0.0]], [[0.0]], [[0.2486257553100586]], [[0.0]], [[0.04848027229309082]], [[0.0]], [[0.0]], [[0.0]], [[0.0]], [[0.0]], [[0.0]], [[0.0]], [[0.0]], [[0.0]], [[0.0]], [[0.0]], [[0.0]], [[0.0]], [[0.8183733224868774]], [[0.0]], [[1.076395869255066]], [[0.0]], [[0.22166967391967773]], [[0.0]], [[0.0]], [[0.0]], [[0.0]], [[0.0]], [[0.0]], [[0.0]], [[0.0]], [[0.0]], [[0.0]], [[0.0]], [[0.0]], [[0.0]], [[0.0]], [[0.0]], [[0.0]], [[0.0]], [[0.0]], [[0.0]], [[0.0]], [[0.0]], [[0.0]], [[0.0]], [[0.0]], [[0.0]], [[0.0]]], \"firstDimensionName\": \"Layer\", \"secondDimensionName\": \"Neuron\"}\n",
       "    )\n",
       "    </script>"
      ],
      "text/plain": [
       "<circuitsvis.utils.render.RenderedHTML at 0x7f2068bb2440>"
      ]
     },
     "execution_count": 90,
     "metadata": {},
     "output_type": "execute_result"
    }
   ],
   "source": [
    "N = 106\n",
    "best_feature = int(max_indices[N])\n",
    "# best_feature = 21 # Change this one for global index (N is sorted by MCS)\n",
    "# best_feature = 1764 # Feature_ids [1359, 1764, 475, 1815, 513, 1184, 1100, 995, 1001, 365]\n",
    "\n",
    "\n",
    "feature_setting = \"dictionary\"\n",
    "# feature_setting = \"pca\"\n",
    "# feature_setting = \"ica\"\n",
    "# feature_setting = \"neuron\"\n",
    "setting=\"dictionary_basis\"\n",
    "if(feature_setting == \"dictionary\"):\n",
    "    autoencoder = smaller_autoencoder\n",
    "    activations = dictionary_activations\n",
    "elif(feature_setting == \"pca\"):\n",
    "    autoencoder = pca_topk\n",
    "    activations = pca_dictionary_activations\n",
    "elif(feature_setting == \"ica\"):\n",
    "    autoencoder = ica_topk\n",
    "    activations = ica_dictionary_activations\n",
    "elif(feature_setting == \"neuron\"):\n",
    "    autoencoder = smaller_autoencoder # Doesn't matter actually\n",
    "    activations = neuron_activations\n",
    "    setting = \"neuron_basis\"\n",
    "\n",
    "# autoencoder = pca_topk\n",
    "print(f\"Feature index: {best_feature}\")\n",
    "print(f\"MCS: {max_cosine_similarities[best_feature]}\")\n",
    "text_list, full_text, token_list, full_token_list = get_feature_datapoints(best_feature, activations, dataset, setting=\"uniform\")\n",
    "# text_list, full_text, token_list, full_token_list = get_feature_datapoints(best_feature, activations, dataset, setting=\"max\")\n",
    "visualize_text(text_list, best_feature, model, autoencoder, setting=setting)\n",
    "# visualize_text(full_text, best_feature, model, autoencoder)"
   ]
  },
  {
   "cell_type": "code",
   "execution_count": 88,
   "metadata": {},
   "outputs": [
    {
     "data": {
      "text/html": [
       "<div id=\"circuits-vis-1c8979ce-ce37\" style=\"margin: 15px 0;\"/>\n",
       "    <script crossorigin type=\"module\">\n",
       "    import { render, TextNeuronActivations } from \"https://unpkg.com/circuitsvis@1.40.1/dist/cdn/esm.js\";\n",
       "    render(\n",
       "      \"circuits-vis-1c8979ce-ce37\",\n",
       "      TextNeuronActivations,\n",
       "      {\"tokens\": [\"{\", \"\\\\newline\", \"  \", \"\\\"\", \"short\", \"_\", \"name\", \"\\\":\", \" \\\"\", \"Re\", \"act\", \" App\", \"\\\",\", \"\\\\newline\", \"  \", \"\\\"\", \"name\", \"\\\":\", \" \\\"\", \"Create\", \" React\", \" App\", \" Sample\", \"\\\",\", \"\\\\newline\", \"  \", \"\\\"\", \"icons\", \"\\\":\", \" [\", \"\\\\newline\", \"    \", \"{\", \"\\\\newline\", \"\\n\", \"using\", \" System\", \";\", \"\\\\newline\", \"using\", \" System\", \".\", \"Collections\", \".\", \"Generic\", \";\", \"\\\\newline\", \"\\\\newline\", \"public\", \" static\", \" class\", \" Program\", \" {\", \"\\\\newline\", \"    \", \"public\", \" static\", \" void\", \" Main\", \" ()\", \" {\", \"\\\\newline\", \"\\n\", \"{\", \"\\\\newline\", \"  \", \"\\\"\", \"id\", \"\\\":\", \" \\\"\", \"bian\", \"cas\", \"-\", \"post\", \"er\", \"\\\",\", \"\\\\newline\", \"  \", \"\\\"\", \"name\", \"\\\":\", \" \\\"\", \"B\", \"ian\", \"ca\", \"'s\", \" Post\", \"er\", \"\\\",\", \"\\\\newline\", \"  \", \"\\\"\", \"games\", \"\\\":\", \" {\", \"\\\\newline\", \"    \", \"\\\"\", \"nh\", \"\\\":\", \" {\", \"\\\\newline\", \"\\n\", \"Q\", \":\", \"\\\\newline\", \"\\\\newline\", \"How\", \" to\", \" display\", \" comma\", \" delim\", \"ited\", \" JSON\", \" value\", \" as\", \" a\", \" list\", \"?\", \"\\\\newline\", \"\\\\newline\", \"Say\", \" I\", \" have\", \" an\", \" array\", \" like\", \" this\", \":\", \"\\\\newline\", \"    \", \"var\", \" ART\", \"ISTS\", \":\", \" Artist\", \"[]\", \" =\", \" [\", \"\\\\newline\", \"\\n\", \"def\", \"module\", \" Abs\", \"int\", \"he\", \".\", \"Execution\", \".\", \"Sub\", \"scription\", \"Test\", \" do\", \"\\\\newline\", \"  \", \"use\", \" Abs\", \"int\", \"he\", \".\", \"Case\", \"\\\\newline\\\\newline\", \"  \", \"import\", \" Ex\", \"Unit\", \".\", \"Capture\", \"Log\", \"\\\\newline\\\\newline\", \"  \", \"def\", \"module\", \" Pub\", \"Sub\", \" do\", \"\\\\newline\", \"\\n\", \"var\", \" path\", \" =\", \" require\", \"('\", \"path\", \"');\", \"\\\\newline\", \"var\", \" test\", \" =\", \" require\", \"('\", \"ta\", \"pe\", \"');\", \"\\\\newline\", \"var\", \" resolve\", \" =\", \" require\", \"('\", \"../\", \"');\", \"\\\\newline\", \"\\\\newline\", \"test\", \"('\", \"mock\", \"',\", \" function\", \" (\", \"t\", \")\", \" {\", \"\\\\newline\", \"\\n\", \"#\", \"%\", \"R\", \"AML\", \" 0\", \".\", \"8\", \"\\\\newline\", \"title\", \":\", \" test\", \" API\", \"\\\\newline\", \"\\\\newline\", \"traits\", \":\", \"\\\\newline\", \"  \", \"-\", \" tr\", \":\", \"\\\\newline\", \"      \", \"body\", \":\", \"\\\\newline\", \"        \", \"application\", \"/\", \"json\", \":\", \"\\\\newline\", \"schemas\", \":\", \"\\\\newline\", \"\\n\", \"\\ufeff\", \"<?\", \"xml\", \" version\", \"=\\\"\", \"1\", \".\", \"0\", \"\\\"\", \" encoding\", \"=\\\"\", \"utf\", \"-\", \"8\", \"\\\"?>\", \"\\\\newline\", \"<\", \"packages\", \">\", \"\\\\newline\", \"\\n\", \"<\", \"import\", \" src\", \"=\\\"../../../\", \"common\", \"/\", \"head\", \".\", \"w\", \"xml\", \"\\\"/>\", \"\\\\newline\", \"<\", \"import\", \" src\", \"=\\\"../../../\", \"common\", \"/\", \"foot\", \".\", \"w\", \"xml\", \"\\\"/>\", \"\\\\newline\", \"\\\\newline\", \"<\", \"view\", \" class\", \"=\\\"\", \"container\", \"\\\">\", \"\\\\newline\", \"\\n\", \"Q\", \":\", \"\\\\newline\", \"\\\\newline\", \"Remove\", \" Civ\", \"i\", \"CR\", \"M\", \" and\", \" Dr\", \"upal\", \" links\", \" /\", \" banner\", \" on\", \" profile\", \" form\", \"\\\\newline\", \"\\\\newline\", \"we\", \" have\", \" setup\", \"\\n\"], \"activations\": [[[-0.05282306671142578]], [[-0.09582996368408203]], [[-0.3855762481689453]], [[-0.032744407653808594]], [[-0.004718780517578125]], [[0.009586334228515625]], [[-0.0173187255859375]], [[0.00017452239990234375]], [[-0.015905380249023438]], [[-0.034465789794921875]], [[-0.030303955078125]], [[-0.005657196044921875]], [[-0.06683158874511719]], [[-0.08339691162109375]], [[-0.046112060546875]], [[-0.0653371810913086]], [[-0.046680450439453125]], [[-0.01898193359375]], [[-0.008938789367675781]], [[-0.11631584167480469]], [[-0.12004852294921875]], [[-0.0057849884033203125]], [[-0.0815420150756836]], [[-0.014980316162109375]], [[-0.022333145141601562]], [[-0.16211795806884766]], [[-0.06834602355957031]], [[-0.23598670959472656]], [[-0.012862205505371094]], [[-0.6197566986083984]], [[-2.1739869117736816]], [[-3.007229804992676]], [[-5.113026142120361]], [[-7.676754951477051]], [[0.0]], [[-0.10081672668457031]], [[-0.09051704406738281]], [[-0.10903549194335938]], [[0.1627063751220703]], [[0.02359485626220703]], [[-0.06094074249267578]], [[0.059439659118652344]], [[0.0972604751586914]], [[0.033211708068847656]], [[-0.12462711334228516]], [[-0.09424304962158203]], [[0.08259868621826172]], [[0.08259868621826172]], [[-0.019189834594726562]], [[0.14142322540283203]], [[-0.051293373107910156]], [[0.12973499298095703]], [[-0.14618873596191406]], [[-1.1865434646606445]], [[-4.184104919433594]], [[-0.20795726776123047]], [[0.18148040771484375]], [[0.20858192443847656]], [[0.3202543258666992]], [[0.03116893768310547]], [[-5.270135402679443]], [[-6.892463684082031]], [[0.0]], [[-0.11366653442382812]], [[-0.11583137512207031]], [[-0.21476364135742188]], [[0.06947135925292969]], [[0.0034008026123046875]], [[0.0049915313720703125]], [[-0.00231170654296875]], [[0.0276641845703125]], [[0.023710250854492188]], [[0.045757293701171875]], [[0.012340545654296875]], [[0.03362083435058594]], [[0.044635772705078125]], [[0.015916824340820312]], [[0.05467796325683594]], [[0.03766155242919922]], [[-0.026437759399414062]], [[0.07056999206542969]], [[0.0692300796508789]], [[0.032604217529296875]], [[0.036078453063964844]], [[0.05188274383544922]], [[0.0169830322265625]], [[0.03017425537109375]], [[0.05296897888183594]], [[-0.025590896606445312]], [[0.01869964599609375]], [[-0.02820873260498047]], [[0.25434112548828125]], [[0.3632068634033203]], [[0.002666473388671875]], [[-0.2148427963256836]], [[-1.0868520736694336]], [[-2.579944610595703]], [[-0.15546798706054688]], [[-0.23647117614746094]], [[0.2935905456542969]], [[-2.6321001052856445]], [[-6.209822654724121]], [[0.0]], [[0.2937355041503906]], [[0.19865751266479492]], [[0.19319581985473633]], [[0.19319581985473633]], [[-0.003978252410888672]], [[0.060307979583740234]], [[-0.005369663238525391]], [[-0.002090930938720703]], [[-0.006201744079589844]], [[0.008944034576416016]], [[-0.02184438705444336]], [[-0.04089498519897461]], [[0.030008792877197266]], [[0.02816152572631836]], [[-0.0969996452331543]], [[-0.20431137084960938]], [[0.14037513732910156]], [[0.14037513732910156]], [[-0.07794809341430664]], [[0.048243045806884766]], [[-0.017259597778320312]], [[0.030581951141357422]], [[-0.10365152359008789]], [[0.11260366439819336]], [[0.009078025817871094]], [[0.16255855560302734]], [[-3.4068312644958496]], [[-3.5384113788604736]], [[-0.19568777084350586]], [[0.01173257827758789]], [[-0.1332254409790039]], [[0.23871612548828125]], [[0.00998544692993164]], [[0.4426703453063965]], [[-0.49718761444091797]], [[-2.4332871437072754]], [[-5.054487705230713]], [[0.0]], [[0.14579248428344727]], [[-0.12338590621948242]], [[0.0275421142578125]], [[-0.013364791870117188]], [[-0.00799417495727539]], [[0.05959939956665039]], [[0.04904747009277344]], [[0.03761625289916992]], [[0.0135955810546875]], [[-0.08091020584106445]], [[-0.059148311614990234]], [[-0.17810392379760742]], [[-0.012614727020263672]], [[-0.23629140853881836]], [[0.03512096405029297]], [[-0.02877044677734375]], [[-0.013364791870117188]], [[0.0031995773315429688]], [[0.019304275512695312]], [[0.04441356658935547]], [[0.1293320655822754]], [[-0.3296642303466797]], [[0.3623175621032715]], [[-0.07948875427246094]], [[-0.029572486877441406]], [[0.05758237838745117]], [[-0.08652687072753906]], [[-0.04946279525756836]], [[-1.6745729446411133]], [[-0.8315200805664062]], [[-1.5001640319824219]], [[-0.3344416618347168]], [[0.06306791305541992]], [[-0.12490224838256836]], [[-2.259669780731201]], [[-4.6619038581848145]], [[0.0]], [[-0.14470243453979492]], [[-0.010295867919921875]], [[-0.041810035705566406]], [[0.03318071365356445]], [[0.0883946418762207]], [[-0.02023601531982422]], [[-0.17964696884155273]], [[-0.0023183822631835938]], [[-0.4014425277709961]], [[-0.07372570037841797]], [[-0.039519309997558594]], [[-0.02681446075439453]], [[-0.0650634765625]], [[-0.018804550170898438]], [[-0.024858474731445312]], [[-0.042923927307128906]], [[0.10865020751953125]], [[-0.39060211181640625]], [[-0.01825714111328125]], [[-0.09441184997558594]], [[0.017027854919433594]], [[-0.18667125701904297]], [[0.01116037368774414]], [[-0.08402252197265625]], [[-0.06867790222167969]], [[-0.06867790222167969]], [[0.07457923889160156]], [[-0.31230831146240234]], [[-0.16333723068237305]], [[-0.4284791946411133]], [[-0.2624855041503906]], [[-0.8113927841186523]], [[0.03901863098144531]], [[0.09866905212402344]], [[-2.718623638153076]], [[-3.6447744369506836]], [[0.0]], [[-0.03319072723388672]], [[-0.02807760238647461]], [[-0.05649852752685547]], [[-0.024672985076904297]], [[-0.02787017822265625]], [[-0.24538755416870117]], [[-0.08853721618652344]], [[0.07222270965576172]], [[-0.08769989013671875]], [[-0.1358165740966797]], [[0.0128173828125]], [[-0.047847747802734375]], [[0.008577823638916016]], [[0.008577823638916016]], [[-0.13935470581054688]], [[-0.5038514137268066]], [[-0.39472341537475586]], [[-0.1094202995300293]], [[-0.01012277603149414]], [[-0.08498716354370117]], [[-0.12799835205078125]], [[-0.1246347427368164]], [[-0.3941497802734375]], [[-0.14089155197143555]], [[-0.09984016418457031]], [[-0.3176279067993164]], [[-0.7923393249511719]], [[-0.25154685974121094]], [[0.16834545135498047]], [[-0.5896196365356445]], [[0.6760120391845703]], [[0.41440486907958984]], [[-1.3673596382141113]], [[-2.661378860473633]], [[-2.661378860473633]], [[0.0]], [[0.01650524139404297]], [[0.11296558380126953]], [[0.006031990051269531]], [[-0.05127143859863281]], [[0.02203083038330078]], [[-0.05695676803588867]], [[-0.1269822120666504]], [[-0.050307273864746094]], [[-0.017425060272216797]], [[-0.07720756530761719]], [[-0.026372909545898438]], [[-0.1321582794189453]], [[-0.021536827087402344]], [[0.007236957550048828]], [[-0.3357672691345215]], [[-1.8549613952636719]], [[-0.9108641147613525]], [[0.4793548583984375]], [[0.9775142669677734]], [[-1.8549613952636719]], [[0.0]], [[0.0018033981323242188]], [[0.01928424835205078]], [[-0.3127255439758301]], [[0.22760605812072754]], [[0.017453432083129883]], [[-0.0032427310943603516]], [[0.05491828918457031]], [[-0.0752725601196289]], [[-0.001032114028930664]], [[-0.07453608512878418]], [[0.09071755409240723]], [[0.12058806419372559]], [[0.2076399326324463]], [[-0.25070905685424805]], [[0.47457098960876465]], [[0.22519850730895996]], [[-0.0018770694732666016]], [[0.039148807525634766]], [[-0.028024911880493164]], [[-0.0013782978057861328]], [[-0.01165628433227539]], [[-0.09449958801269531]], [[0.1118173599243164]], [[-0.3605773448944092]], [[-0.3605773448944092]], [[-0.7748043537139893]], [[-0.025907039642333984]], [[-0.45363473892211914]], [[0.17664837837219238]], [[0.3730475902557373]], [[-0.30550312995910645]], [[-1.4067366123199463]], [[0.0]], [[0.0]], [[0.0]], [[0.0]], [[0.0]], [[0.0]], [[0.0]], [[0.0]], [[0.0]], [[0.0]], [[0.0]], [[0.0]], [[0.0]], [[0.0]], [[0.0]], [[0.0]], [[0.0]], [[0.0]], [[0.0]], [[0.0]], [[0.0]], [[0.0]], [[0.0]], [[0.0]], [[0.0]]], \"firstDimensionName\": \"Layer\", \"secondDimensionName\": \"Neuron\"}\n",
       "    )\n",
       "    </script>"
      ],
      "text/plain": [
       "<circuitsvis.utils.render.RenderedHTML at 0x7f20506670d0>"
      ]
     },
     "execution_count": 88,
     "metadata": {},
     "output_type": "execute_result"
    }
   ],
   "source": [
    "ablate_text(text_list, best_feature, model, autoencoder)"
   ]
  },
  {
   "cell_type": "code",
   "execution_count": 89,
   "metadata": {},
   "outputs": [
    {
     "data": {
      "text/html": [
       "<div id=\"circuits-vis-e01104eb-1de9\" style=\"margin: 15px 0;\"/>\n",
       "    <script crossorigin type=\"module\">\n",
       "    import { render, TextNeuronActivations } from \"https://unpkg.com/circuitsvis@1.40.1/dist/cdn/esm.js\";\n",
       "    render(\n",
       "      \"circuits-vis-e01104eb-1de9\",\n",
       "      TextNeuronActivations,\n",
       "      {\"tokens\": [\"\\\\newline\", \"  \", \"\\\"\", \"short\", \"_\", \"name\", \"\\\":\", \" \\\"\", \"Re\", \"act\", \" App\", \"\\\",\", \"\\\\newline\", \"  \", \"\\\"\", \"name\", \"\\\":\", \" \\\"\", \"Create\", \" React\", \" App\", \" Sample\", \"\\\",\", \"\\\\newline\", \"  \", \"\\\"\", \"icons\", \"\\\":\", \" [\", \"\\\\newline\", \"    \", \"{\", \"\\\\newline\", \"      \", \"\\\"\", \"src\", \"\\\":\", \" \\\"\", \"fav\", \"\\n\", \" System\", \";\", \"\\\\newline\", \"using\", \" System\", \".\", \"Collections\", \".\", \"Generic\", \";\", \"\\\\newline\", \"\\\\newline\", \"public\", \" static\", \" class\", \" Program\", \" {\", \"\\\\newline\", \"    \", \"public\", \" static\", \" void\", \" Main\", \" ()\", \" {\", \"\\\\newline\", \"        \", \"var\", \" str\", \" =\", \" \\\"\", \"abc\", \"def\", \"gh\", \"\\\";\", \"\\\\newline\", \"        \", \"var\", \" str\", \"\\n\", \"\\\\newline\", \"  \", \"\\\"\", \"id\", \"\\\":\", \" \\\"\", \"bian\", \"cas\", \"-\", \"post\", \"er\", \"\\\",\", \"\\\\newline\", \"  \", \"\\\"\", \"name\", \"\\\":\", \" \\\"\", \"B\", \"ian\", \"ca\", \"'s\", \" Post\", \"er\", \"\\\",\", \"\\\\newline\", \"  \", \"\\\"\", \"games\", \"\\\":\", \" {\", \"\\\\newline\", \"    \", \"\\\"\", \"nh\", \"\\\":\", \" {\", \"\\\\newline\", \"      \", \"\\n\", \":\", \"\\\\newline\", \"\\\\newline\", \"How\", \" to\", \" display\", \" comma\", \" delim\", \"ited\", \" JSON\", \" value\", \" as\", \" a\", \" list\", \"?\", \"\\\\newline\", \"\\\\newline\", \"Say\", \" I\", \" have\", \" an\", \" array\", \" like\", \" this\", \":\", \"\\\\newline\", \"    \", \"var\", \" ART\", \"ISTS\", \":\", \" Artist\", \"[]\", \" =\", \" [\", \"\\\\newline\", \"      \", \"{\", \"\\\\newline\", \"\\n\", \"module\", \" Abs\", \"int\", \"he\", \".\", \"Execution\", \".\", \"Sub\", \"scription\", \"Test\", \" do\", \"\\\\newline\", \"  \", \"use\", \" Abs\", \"int\", \"he\", \".\", \"Case\", \"\\\\newline\\\\newline\", \"  \", \"import\", \" Ex\", \"Unit\", \".\", \"Capture\", \"Log\", \"\\\\newline\\\\newline\", \"  \", \"def\", \"module\", \" Pub\", \"Sub\", \" do\", \"\\\\newline\", \"    \", \"@\", \"be\", \"haviour\", \"\\n\", \" path\", \" =\", \" require\", \"('\", \"path\", \"');\", \"\\\\newline\", \"var\", \" test\", \" =\", \" require\", \"('\", \"ta\", \"pe\", \"');\", \"\\\\newline\", \"var\", \" resolve\", \" =\", \" require\", \"('\", \"../\", \"');\", \"\\\\newline\", \"\\\\newline\", \"test\", \"('\", \"mock\", \"',\", \" function\", \" (\", \"t\", \")\", \" {\", \"\\\\newline\", \"    \", \"t\", \".\", \"plan\", \"\\n\", \"%\", \"R\", \"AML\", \" 0\", \".\", \"8\", \"\\\\newline\", \"title\", \":\", \" test\", \" API\", \"\\\\newline\", \"\\\\newline\", \"traits\", \":\", \"\\\\newline\", \"  \", \"-\", \" tr\", \":\", \"\\\\newline\", \"      \", \"body\", \":\", \"\\\\newline\", \"        \", \"application\", \"/\", \"json\", \":\", \"\\\\newline\", \"schemas\", \":\", \"\\\\newline\", \"  \", \"-\", \" My\", \"Type\", \":\", \"\\n\", \"<?\", \"xml\", \" version\", \"=\\\"\", \"1\", \".\", \"0\", \"\\\"\", \" encoding\", \"=\\\"\", \"utf\", \"-\", \"8\", \"\\\"?>\", \"\\\\newline\", \"<\", \"packages\", \">\", \"\\\\newline\", \"  \", \"<\", \"package\", \" id\", \"=\\\"\", \"D\", \"apper\", \"\\\"\", \" version\", \"=\\\"\", \"1\", \".\", \"50\", \".\", \"4\", \"-\", \"alpha\", \"1\", \"-\", \"000\", \"\\n\", \"import\", \" src\", \"=\\\"../../../\", \"common\", \"/\", \"head\", \".\", \"w\", \"xml\", \"\\\"/>\", \"\\\\newline\", \"<\", \"import\", \" src\", \"=\\\"../../../\", \"common\", \"/\", \"foot\", \".\", \"w\", \"xml\", \"\\\"/>\", \"\\\\newline\", \"\\\\newline\", \"<\", \"view\", \" class\", \"=\\\"\", \"container\", \"\\\">\", \"\\\\newline\", \"  \", \"<\", \"template\", \" is\", \"=\\\"\", \"head\", \"\\\"\", \" data\", \"\\n\", \"xml\", \" version\", \"=\\\"\", \"1\", \".\", \"0\", \"\\\"\", \" encoding\", \"=\\\"\", \"utf\", \"-\", \"8\", \"\\\"?>\", \"\\\\newline\", \"<\", \"merge\", \" xmlns\", \":\", \"android\", \"=\\\"\", \"http\", \"://\", \"schemas\", \".\", \"android\", \".\", \"com\", \"/\", \"apk\", \"/\", \"res\", \"/\", \"android\", \"\\\"\", \"\\\\newline\", \"  \", \"xml\", \"ns\", \":\", \"\\n\", \":\", \"\\\\newline\", \"\\\\newline\", \"Remove\", \" Civ\", \"i\", \"CR\", \"M\", \" and\", \" Dr\", \"upal\", \" links\", \" /\", \" banner\", \" on\", \" profile\", \" form\", \"\\\\newline\", \"\\\\newline\", \"we\", \" have\", \" setup\", \" an\", \" online\", \" profile\", \" form\", \" that\", \" new\", \" members\", \" to\", \" our\", \" charity\", \" can\", \" complete\", \".\", \" The\", \" information\", \" then\", \" pulls\", \"\\n\"], \"activations\": [[[0.008095741271972656]], [[-0.002104520797729492]], [[0.001767873764038086]], [[-0.0010905265808105469]], [[-0.0007115602493286133]], [[0.0002570152282714844]], [[-4.556775093078613e-05]], [[-3.807246685028076e-05]], [[0.0004572868347167969]], [[0.0009241104125976562]], [[-0.00018978118896484375]], [[-0.0010242462158203125]], [[7.819011807441711e-05]], [[0.00016319751739501953]], [[-0.00044080428779125214]], [[0.00046443939208984375]], [[-4.1812658309936523e-05]], [[-7.260963320732117e-05]], [[0.0022950172424316406]], [[-0.003288745880126953]], [[0.0003058314323425293]], [[-0.00048351287841796875]], [[-0.0004685819149017334]], [[5.462439730763435e-06]], [[7.604481652379036e-06]], [[0.00019074697047472]], [[0.00125885009765625]], [[0.00014012306928634644]], [[-0.00021541118621826172]], [[0.000551123172044754]], [[-0.12025503814220428]], [[0.0003762245178222656]], [[0.0006155334413051605]], [[-3.492995500564575]], [[0.00011627376079559326]], [[0.0015869140625]], [[1.0699033737182617e-05]], [[-0.0014958381652832031]], [[-0.0001506805419921875]], [[0.0]], [[0.0]], [[0.0]], [[0.0]], [[0.0]], [[0.0]], [[0.0]], [[0.0]], [[0.0]], [[0.0]], [[0.0]], [[-0.00020097941160202026]], [[0.0]], [[0.0]], [[0.0]], [[0.0]], [[0.000614166259765625]], [[0.0]], [[0.0]], [[-0.2631896734237671]], [[-0.008169710636138916]], [[1.5944242477416992e-06]], [[0.0]], [[0.0]], [[0.0]], [[0.00702667236328125]], [[-3.8743019104003906e-07]], [[-3.9799234867095947]], [[1.9073486328125e-06]], [[0.0]], [[0.0]], [[4.76837158203125e-07]], [[-0.0009045600891113281]], [[0.0]], [[0.0]], [[1.9073486328125e-06]], [[-0.012820050120353699]], [[-0.00032103434205055237]], [[-8.344650268554688e-07]], [[1.1324882507324219e-06]], [[0.0]], [[0.008095741271972656]], [[-0.002104520797729492]], [[0.001767873764038086]], [[-0.0006003379821777344]], [[-0.00023430585861206055]], [[-0.0001208186149597168]], [[-0.0022420883178710938]], [[-0.005634307861328125]], [[0.0007615089416503906]], [[7.152557373046875e-06]], [[-0.0008969306945800781]], [[-0.0011650323867797852]], [[0.00013053789734840393]], [[0.00017005205154418945]], [[-0.0001501934602856636]], [[0.0009361505508422852]], [[-2.9764138162136078e-05]], [[-3.725104033946991e-05]], [[-0.0004985332489013672]], [[-0.0026144981384277344]], [[-0.0012181997299194336]], [[-0.0003123283386230469]], [[0.00019359588623046875]], [[0.00025787949562072754]], [[-4.7206878662109375e-05]], [[1.9033905118703842e-06]], [[6.780726835131645e-06]], [[5.520868580788374e-05]], [[0.0014429092407226562]], [[-0.0008053779602050781]], [[-1.0686926543712616e-06]], [[-8.575094398111105e-06]], [[-0.04409658536314964]], [[-1.1548399925231934e-07]], [[-0.004841923713684082]], [[5.490705370903015e-05]], [[-0.00016354769468307495]], [[7.708068005740643e-05]], [[-7.120122909545898]], [[0.0]], [[0.0]], [[-9.072571992874146e-05]], [[0.0]], [[0.0]], [[-1.049041748046875e-05]], [[0.0]], [[0.0021982192993164062]], [[0.004055500030517578]], [[0.0]], [[0.0]], [[0.0036878585815429688]], [[0.00042819976806640625]], [[0.0025014877319335938]], [[0.0]], [[0.0004391670227050781]], [[0.0]], [[0.0]], [[0.0]], [[0.0005142092704772949]], [[0.0]], [[-0.006119489669799805]], [[0.0]], [[-0.0010509490966796875]], [[0.0030886828899383545]], [[-0.0009800195693969727]], [[-0.00014841929078102112]], [[0.0]], [[0.0]], [[0.0]], [[0.0]], [[0.0]], [[-0.011178970336914062]], [[0.0]], [[0.0]], [[0.0]], [[-0.008163928985595703]], [[-0.6551125049591064]], [[-7.265806198120117e-05]], [[-0.0037461519241333008]], [[0.0]], [[0.0]], [[0.0]], [[0.00023603439331054688]], [[0.0]], [[6.747245788574219e-05]], [[0.0]], [[3.647804260253906e-05]], [[0.0025548934936523438]], [[-0.0014917850494384766]], [[0.0]], [[1.239776611328125e-05]], [[-3.981590270996094e-05]], [[0.16071009635925293]], [[-0.014544010162353516]], [[0.002254962921142578]], [[-2.384185791015625e-06]], [[0.0]], [[-7.414817810058594e-05]], [[3.910064697265625e-05]], [[-0.0424346923828125]], [[-0.003340393304824829]], [[0.004132270812988281]], [[4.76837158203125e-07]], [[0.0]], [[-0.0002651214599609375]], [[0.0]], [[0.0]], [[-9.5367431640625e-07]], [[-0.001443374902009964]], [[-3.886222839355469e-05]], [[0.004212856292724609]], [[0.0]], [[0.0]], [[0.0]], [[0.0]], [[-0.02523723989725113]], [[0.00023746490478515625]], [[0.0]], [[1.6689300537109375e-06]], [[0.0]], [[0.0]], [[0.0]], [[0.0]], [[0.0]], [[0.0]], [[0.0]], [[0.0]], [[0.0]], [[0.0]], [[0.0]], [[0.0]], [[0.0]], [[0.0]], [[0.0]], [[0.0]], [[0.0]], [[0.0]], [[0.0]], [[0.0]], [[0.0]], [[0.0]], [[0.0]], [[0.0]], [[0.0]], [[0.0]], [[0.0]], [[0.0]], [[0.0]], [[0.0]], [[0.0]], [[0.0]], [[0.0]], [[0.0]], [[0.0]], [[-0.0004811286926269531]], [[-0.8558322191238403]], [[2.2411346435546875e-05]], [[2.1606683731079102e-07]], [[9.5367431640625e-06]], [[0.0]], [[0.0]], [[0.0]], [[0.0]], [[0.0]], [[-0.00011467933654785156]], [[0.0]], [[0.0]], [[0.0]], [[0.0]], [[0.0045795440673828125]], [[0.0]], [[3.0994415283203125e-05]], [[0.0]], [[0.012683868408203125]], [[0.0]], [[-0.0011508464813232422]], [[0.0]], [[0.0]], [[0.0035562515258789062]], [[0.0]], [[-0.009894132614135742]], [[-1.0414140224456787]], [[7.62939453125e-06]], [[-1.9371509552001953e-07]], [[0.0007479190826416016]], [[-2.29270601272583]], [[3.337860107421875e-06]], [[-4.661083221435547e-05]], [[1.1920928955078125e-07]], [[-1.5735626220703125e-05]], [[-0.0003460347652435303]], [[2.5388450622558594]], [[-0.03545665740966797]], [[-0.0030957013368606567]], [[-0.2660346031188965]], [[-2.0742416381835938e-05]], [[0.0]], [[0.0]], [[-0.002954423427581787]], [[0.0]], [[0.0]], [[0.0]], [[0.0]], [[0.0]], [[0.0]], [[0.0]], [[0.0]], [[0.0]], [[0.0]], [[0.0]], [[0.0]], [[0.0]], [[0.0]], [[0.0]], [[0.00023027509450912476]], [[0.00608111172914505]], [[-2.384185791015625e-07]], [[0.0]], [[-0.0007696598768234253]], [[0.11796486377716064]], [[3.390014171600342e-07]], [[0.0]], [[0.0]], [[0.0]], [[0.0]], [[0.0]], [[2.384185791015625e-07]], [[0.040355026721954346]], [[0.0]], [[0.0]], [[0.0]], [[0.0]], [[0.0]], [[1.6689300537109375e-06]], [[-4.76837158203125e-07]], [[9.5367431640625e-07]], [[-9.5367431640625e-06]], [[2.384185791015625e-07]], [[0.0]], [[0.0]], [[0.0]], [[0.0]], [[0.0]], [[0.0]], [[0.0]], [[0.0]], [[0.0]], [[0.0]], [[0.0]], [[0.0]], [[-7.003545761108398e-05]], [[0.0]], [[0.0]], [[0.0]], [[0.0]], [[0.0]], [[0.0]], [[0.0]], [[0.0]], [[0.0]], [[0.0]], [[0.0]], [[0.0]], [[0.0]], [[0.0]], [[0.0]], [[0.0]], [[0.0]], [[0.0]], [[0.0]], [[0.0]], [[0.13516318798065186]], [[-0.00021477043628692627]], [[9.5367431640625e-07]], [[0.0]], [[0.0]], [[0.0]], [[4.76837158203125e-07]], [[0.0]], [[0.0]], [[-0.004550755023956299]], [[0.0011255741119384766]], [[1.0915100574493408e-05]], [[2.321973443031311e-05]], [[-0.0001144111156463623]], [[-0.000118255615234375]], [[0.0012950897216796875]], [[0.0001385509967803955]], [[1.1874362826347351e-07]], [[2.4437904357910156e-05]], [[1.1915108188986778e-06]], [[2.3702159523963928e-07]], [[9.459257125854492e-05]], [[-1.537427306175232e-05]], [[0.009357407689094543]], [[0.0013027191162109375]], [[-2.1576881408691406e-05]], [[2.3767352104187012e-05]], [[-3.692507743835449e-05]], [[0.0]], [[2.380693331360817e-07]], [[0.0]], [[2.555549144744873e-06]], [[0.0]], [[0.0]], [[0.0]], [[0.0]], [[0.0]], [[0.0]], [[-2.3836037144064903e-07]], [[1.1915108188986778e-07]], [[-1.1874362826347351e-07]], [[1.428648829460144e-06]], [[4.500150680541992e-05]], [[-0.0035489648580551147]], [[-5.7220458984375e-06]], [[-3.159046173095703e-05]], [[0.0]], [[0.0]], [[0.0]], [[0.0]], [[0.0]], [[0.0]], [[0.0]], [[0.0]], [[0.0]], [[0.0]], [[0.0]], [[0.0]], [[0.0]], [[0.0]], [[0.0]], [[0.0]], [[0.0]], [[0.0]], [[0.0]], [[0.0]], [[0.0]], [[0.0]], [[0.0]], [[0.0]], [[0.0]], [[0.0]], [[0.0]], [[0.0]], [[0.0]], [[0.0]], [[0.0]], [[0.0]], [[0.0]], [[0.0]], [[0.0]], [[0.0]], [[0.0]], [[0.0]], [[0.0]], [[0.0]], [[0.0]], [[0.0]], [[0.0]]], \"firstDimensionName\": \"Layer\", \"secondDimensionName\": \"Neuron\"}\n",
       "    )\n",
       "    </script>"
      ],
      "text/plain": [
       "<circuitsvis.utils.render.RenderedHTML at 0x7f1efc148d30>"
      ]
     },
     "execution_count": 89,
     "metadata": {},
     "output_type": "execute_result"
    }
   ],
   "source": [
    "ablate_feature_direction_display(full_text, best_feature, autoencoder)"
   ]
  },
  {
   "cell_type": "code",
   "execution_count": 25,
   "metadata": {},
   "outputs": [
    {
     "name": "stdout",
     "output_type": "stream",
     "text": [
      "['14514500', '�', '�', 'disambiguation', '?)', '.),', 'formerly', \")',\", ' {¶', '?).', 'founded', 'himself', 'NFTA', '\"),', \"'),\", 'aka', 'marined', ',)', ')\",', ')_']\n",
      "tensor([2.9057, 2.8045, 2.6344, 2.4723, 2.2787, 2.2187, 2.0828, 1.9988, 1.9918,\n",
      "        1.9741, 1.9419, 1.9317, 1.9227, 1.8658, 1.8624, 1.8610, 1.8581, 1.8155,\n",
      "        1.7683, 1.7504])\n"
     ]
    }
   ],
   "source": [
    "logit_lens(model,best_feature, smaller_dict, layer)"
   ]
  }
 ],
 "metadata": {
  "kernelspec": {
   "display_name": "logan",
   "language": "python",
   "name": "python3"
  },
  "language_info": {
   "codemirror_mode": {
    "name": "ipython",
    "version": 3
   },
   "file_extension": ".py",
   "mimetype": "text/x-python",
   "name": "python",
   "nbconvert_exporter": "python",
   "pygments_lexer": "ipython3",
   "version": "3.10.6"
  },
  "orig_nbformat": 4
 },
 "nbformat": 4,
 "nbformat_minor": 2
}
