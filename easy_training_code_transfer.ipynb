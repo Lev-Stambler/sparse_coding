{
 "cells": [
  {
   "cell_type": "code",
   "execution_count": 114,
   "metadata": {},
   "outputs": [],
   "source": [
    "import torch \n",
    "import argparse\n",
    "from utils import dotdict\n",
    "from activation_dataset import setup_token_data\n",
    "import wandb\n",
    "import json\n",
    "from datetime import datetime\n",
    "from tqdm import tqdm\n",
    "from einops import rearrange\n",
    "import matplotlib.pyplot as plt\n",
    "# from standard_metrics import run_with_model_intervention, perplexity_under_reconstruction, mean_nonzero_activations\n",
    "# Create \n",
    "# # make an argument parser directly below\n",
    "# parser = argparse.ArgumentParser()\n",
    "# parser.add_argument(\"--model_name\", type=str, default=\"EleutherAI/pythia-70m-deduped\")\n",
    "# parser.add_argument(\"--layer\", type=int, default=4)\n",
    "# parser.add_argument(\"--setting\", type=str, default=\"residual\")\n",
    "# parser.add_argument(\"--l1_alpha\", type=float, default=3e-3)\n",
    "# parser.add_argument(\"--num_epochs\", type=int, default=10)\n",
    "# parser.add_argument(\"--model_batch_size\", type=int, default=4)\n",
    "# parser.add_argument(\"--lr\", type=float, default=1e-3)\n",
    "# parser.add_argument(\"--kl\", type=bool, default=False)\n",
    "# parser.add_argument(\"--reconstruction\", type=bool, default=False)\n",
    "# parser.add_argument(\"--dataset_name\", type=str, default=\"NeelNanda/pile-10k\")\n",
    "# parser.add_argument(\"--device\", type=str, default=\"cuda:4\")\n",
    "\n",
    "# args = parser.parse_args()\n",
    "cfg = dotdict()\n",
    "# cfg.model_name=\"EleutherAI/pythia-70m-deduped\", \"usvsnsp/pythia-6.9b-sft\"\n",
    "cfg.model_name=\"EleutherAI/pythia-70m-deduped\"\n",
    "cfg.target_name=\"EleutherAI/pythia-70m-deduped\"\n",
    "cfg.layers=[4]\n",
    "cfg.setting=\"residual\"\n",
    "cfg.tensor_name=\"gpt_neox.layers.{layer}\"\n",
    "cfg.l1_alpha=5e-3\n",
    "cfg.sparsity=None\n",
    "cfg.num_epochs=10\n",
    "cfg.model_batch_size=4\n",
    "cfg.lr=1e-3\n",
    "cfg.kl=False\n",
    "cfg.reconstruction=False\n",
    "# cfg.dataset_name=\"NeelNanda/pile-10k\"\n",
    "cfg.dataset_name=\"Elriggs/openwebtext-100k\"\n",
    "cfg.device=\"cuda:0\"\n",
    "cfg.ratio = 4\n",
    "# cfg.device=\"cpu\""
   ]
  },
  {
   "cell_type": "code",
   "execution_count": 115,
   "metadata": {},
   "outputs": [],
   "source": [
    "tensor_names = [cfg.tensor_name.format(layer=layer) for layer in cfg.layers]"
   ]
  },
  {
   "cell_type": "code",
   "execution_count": 116,
   "metadata": {},
   "outputs": [],
   "source": [
    "# Load in the model\n",
    "from transformers import AutoModelForCausalLM, AutoTokenizer\n",
    "model = AutoModelForCausalLM.from_pretrained(cfg.model_name)\n",
    "model = model.to(cfg.device)\n",
    "tokenizer = AutoTokenizer.from_pretrained(cfg.model_name)"
   ]
  },
  {
   "cell_type": "code",
   "execution_count": 117,
   "metadata": {},
   "outputs": [
    {
     "name": "stderr",
     "output_type": "stream",
     "text": [
      "Found cached dataset parquet (/root/.cache/huggingface/datasets/Elriggs___parquet/Elriggs--openwebtext-100k-79076ecafee8a6d5/0.0.0/2a3b91fbd88a2c90d1dbbb32b460cf621d31bd5b05b934492fdef7d8d6f236ec)\n",
      "Loading cached processed dataset at /root/.cache/huggingface/datasets/Elriggs___parquet/Elriggs--openwebtext-100k-79076ecafee8a6d5/0.0.0/2a3b91fbd88a2c90d1dbbb32b460cf621d31bd5b05b934492fdef7d8d6f236ec/cache-8401ec7d4dbd84d2_*_of_00008.arrow\n"
     ]
    },
    {
     "name": "stdout",
     "output_type": "stream",
     "text": [
      "Number of tokens: 112750592\n"
     ]
    }
   ],
   "source": [
    "# Download the dataset\n",
    "# TODO iteratively grab dataset?\n",
    "cfg.max_length = 256\n",
    "cfg.model_batch_size = 16\n",
    "token_loader = setup_token_data(cfg, tokenizer, model)\n",
    "num_tokens = cfg.max_length*cfg.model_batch_size*len(token_loader)\n",
    "print(f\"Number of tokens: {num_tokens}\")"
   ]
  },
  {
   "cell_type": "code",
   "execution_count": 118,
   "metadata": {},
   "outputs": [
    {
     "name": "stdout",
     "output_type": "stream",
     "text": [
      "Activation size: 512\n"
     ]
    }
   ],
   "source": [
    "# Run 1 datapoint on model to get the activation size\n",
    "from baukit import Trace\n",
    "\n",
    "text = \"1\"\n",
    "tokens = tokenizer(text, return_tensors=\"pt\").input_ids.to(cfg.device)\n",
    "# Your activation name will be different. In the next cells, we will show you how to find it.\n",
    "with torch.no_grad():\n",
    "    with Trace(model, tensor_names[0]) as ret:\n",
    "        _ = model(tokens)\n",
    "        representation = ret.output\n",
    "        # check if instance tuple\n",
    "        if(isinstance(representation, tuple)):\n",
    "            representation = representation[0]\n",
    "        activation_size = representation.shape[-1]\n",
    "print(f\"Activation size: {activation_size}\")"
   ]
  },
  {
   "cell_type": "code",
   "execution_count": 119,
   "metadata": {},
   "outputs": [],
   "source": [
    "# Initialize New autoencoder\n",
    "from autoencoders.learned_dict import TiedSAE, UntiedSAE, AnthropicSAE\n",
    "from torch import nn\n",
    "params = dict()\n",
    "n_dict_components = activation_size*cfg.ratio\n",
    "params[\"encoder\"] = torch.empty((n_dict_components, activation_size), device=cfg.device)\n",
    "nn.init.xavier_uniform_(params[\"encoder\"])\n",
    "\n",
    "params[\"decoder\"] = torch.empty((n_dict_components, activation_size), device=cfg.device)\n",
    "nn.init.xavier_uniform_(params[\"decoder\"])\n",
    "\n",
    "params[\"encoder_bias\"] = torch.empty((n_dict_components,), device=cfg.device)\n",
    "nn.init.zeros_(params[\"encoder_bias\"])\n",
    "\n",
    "params[\"shift_bias\"] = torch.empty((activation_size,), device=cfg.device)\n",
    "nn.init.zeros_(params[\"shift_bias\"])\n",
    "\n",
    "autoencoder = TiedSAE(  # Note: this has no decoder bias\n",
    "    # n_feats = n_dict_components, \n",
    "    # activation_size=activation_size,\n",
    "    encoder=params[\"encoder\"],\n",
    "    encoder_bias=params[\"encoder_bias\"],\n",
    "    # decoder=params[\"decoder\"],\n",
    "    # shift_bias=params[\"shift_bias\"],\n",
    ")\n",
    "autoencoder.to_device(cfg.device)\n",
    "autoencoder.encoder.requires_grad = True\n",
    "autoencoder.encoder_bias.requires_grad = True\n",
    "# autoencoder.decoder.requires_grad = True\n",
    "# autoencoder.shift_bias.requires_grad = True\n",
    "optimizer = torch.optim.Adam(\n",
    "    [\n",
    "        autoencoder.encoder, \n",
    "        autoencoder.encoder_bias,\n",
    "        # autoencoder.decoder,\n",
    "        # autoencoder.shift_bias,\n",
    "    ], lr=cfg.lr)"
   ]
  },
  {
   "cell_type": "code",
   "execution_count": 120,
   "metadata": {},
   "outputs": [
    {
     "name": "stdout",
     "output_type": "stream",
     "text": [
      "Target sparsity: 51\n"
     ]
    }
   ],
   "source": [
    "# Set target sparsity to 10% of activation_size if not set\n",
    "if cfg.sparsity is None:\n",
    "    cfg.sparsity = int(activation_size*0.1)\n",
    "    print(f\"Target sparsity: {cfg.sparsity}\")\n",
    "\n",
    "target_lower_sparsity = cfg.sparsity - 5.0\n",
    "target_upper_sparsity = cfg.sparsity + 5.0\n",
    "adjustment_factor = 0.1  # You can set this to whatever you like"
   ]
  },
  {
   "cell_type": "code",
   "execution_count": 121,
   "metadata": {},
   "outputs": [
    {
     "name": "stderr",
     "output_type": "stream",
     "text": [
      "\u001b[34m\u001b[1mwandb\u001b[0m: \u001b[33mWARNING\u001b[0m Calling wandb.login() after wandb.init() has no effect.\n"
     ]
    },
    {
     "name": "stdout",
     "output_type": "stream",
     "text": [
      "wandb_run_name: EleutherAI/pythia-70m-deduped_1008-222616_51\n"
     ]
    }
   ],
   "source": [
    "original_bias = autoencoder.encoder_bias.clone().detach()\n",
    "# Wandb setup\n",
    "secrets = json.load(open(\"secrets.json\"))\n",
    "wandb.login(key=secrets[\"wandb_key\"])\n",
    "start_time = datetime.now().strftime(\"%Y%m%d-%H%M%S\")\n",
    "wandb_run_name = f\"{cfg.model_name}_{start_time[4:]}_{cfg.sparsity}\"  # trim year\n",
    "print(f\"wandb_run_name: {wandb_run_name}\")"
   ]
  },
  {
   "cell_type": "code",
   "execution_count": 122,
   "metadata": {},
   "outputs": [
    {
     "data": {
      "text/html": [
       "Finishing last run (ID:ah37clp6) before initializing another..."
      ],
      "text/plain": [
       "<IPython.core.display.HTML object>"
      ]
     },
     "metadata": {},
     "output_type": "display_data"
    },
    {
     "data": {
      "text/html": [
       "Waiting for W&B process to finish... <strong style=\"color:green\">(success).</strong>"
      ],
      "text/plain": [
       "<IPython.core.display.HTML object>"
      ]
     },
     "metadata": {},
     "output_type": "display_data"
    },
    {
     "data": {
      "text/html": [
       "<style>\n",
       "    table.wandb td:nth-child(1) { padding: 0 10px; text-align: left ; width: auto;} td:nth-child(2) {text-align: left ; width: 100%}\n",
       "    .wandb-row { display: flex; flex-direction: row; flex-wrap: wrap; justify-content: flex-start; width: 100% }\n",
       "    .wandb-col { display: flex; flex-direction: column; flex-basis: 100%; flex: 1; padding: 10px; }\n",
       "    </style>\n",
       "<div class=\"wandb-row\"><div class=\"wandb-col\"><h3>Run history:</h3><br/><table class=\"wandb\"><tr><td>Dead Features</td><td>▁▁▁▁▁▁▁▁▁▁</td></tr><tr><td>L1 Loss</td><td>█▁▁▁▁▁▁▁▁▁</td></tr><tr><td>Reconstruction Loss</td><td>█▁▁▁▁▁▁▁▁▁</td></tr><tr><td>Self Similarity</td><td>█▁▃▄▅▅▆▇▇▇</td></tr><tr><td>Sparsity</td><td>█▂▂▁▁▁▁▁▁▁</td></tr><tr><td>Tokens</td><td>▁▂▃▃▄▅▆▆▇█</td></tr><tr><td>Total Loss</td><td>█▁▁▁▁▁▁▁▁▁</td></tr><tr><td>l1_alpha</td><td>▁▁▁▁▁▁▁▁▁▁</td></tr></table><br/></div><div class=\"wandb-col\"><h3>Run summary:</h3><br/><table class=\"wandb\"><tr><td>Dead Features</td><td>0</td></tr><tr><td>L1 Loss</td><td>0.05667</td></tr><tr><td>Reconstruction Loss</td><td>0.04423</td></tr><tr><td>Self Similarity</td><td>0.96337</td></tr><tr><td>Sparsity</td><td>187.8418</td></tr><tr><td>Tokens</td><td>18432000</td></tr><tr><td>Total Loss</td><td>0.10091</td></tr><tr><td>l1_alpha</td><td>0.001</td></tr></table><br/></div></div>"
      ],
      "text/plain": [
       "<IPython.core.display.HTML object>"
      ]
     },
     "metadata": {},
     "output_type": "display_data"
    },
    {
     "data": {
      "text/html": [
       " View run <strong style=\"color:#cdcd00\">EleutherAI/pythia-70m-deduped_1008-214158_51</strong> at: <a href='https://wandb.ai/benw8888/sparse%20coding/runs/ah37clp6' target=\"_blank\">https://wandb.ai/benw8888/sparse%20coding/runs/ah37clp6</a><br/>Synced 6 W&B file(s), 0 media file(s), 0 artifact file(s) and 0 other file(s)"
      ],
      "text/plain": [
       "<IPython.core.display.HTML object>"
      ]
     },
     "metadata": {},
     "output_type": "display_data"
    },
    {
     "data": {
      "text/html": [
       "Find logs at: <code>./wandb/run-20231008_214200-ah37clp6/logs</code>"
      ],
      "text/plain": [
       "<IPython.core.display.HTML object>"
      ]
     },
     "metadata": {},
     "output_type": "display_data"
    },
    {
     "data": {
      "text/html": [
       "Successfully finished last run (ID:ah37clp6). Initializing new run:<br/>"
      ],
      "text/plain": [
       "<IPython.core.display.HTML object>"
      ]
     },
     "metadata": {},
     "output_type": "display_data"
    },
    {
     "data": {
      "text/html": [
       "wandb version 0.15.12 is available!  To upgrade, please run:\n",
       " $ pip install wandb --upgrade"
      ],
      "text/plain": [
       "<IPython.core.display.HTML object>"
      ]
     },
     "metadata": {},
     "output_type": "display_data"
    },
    {
     "data": {
      "text/html": [
       "Tracking run with wandb version 0.15.3"
      ],
      "text/plain": [
       "<IPython.core.display.HTML object>"
      ]
     },
     "metadata": {},
     "output_type": "display_data"
    },
    {
     "data": {
      "text/html": [
       "Run data is saved locally in <code>/root/sparse_coding/wandb/run-20231008_222616-qcb8va32</code>"
      ],
      "text/plain": [
       "<IPython.core.display.HTML object>"
      ]
     },
     "metadata": {},
     "output_type": "display_data"
    },
    {
     "data": {
      "text/html": [
       "Syncing run <strong><a href='https://wandb.ai/benw8888/sparse%20coding/runs/qcb8va32' target=\"_blank\">EleutherAI/pythia-70m-deduped_1008-222616_51</a></strong> to <a href='https://wandb.ai/benw8888/sparse%20coding' target=\"_blank\">Weights & Biases</a> (<a href='https://wandb.me/run' target=\"_blank\">docs</a>)<br/>"
      ],
      "text/plain": [
       "<IPython.core.display.HTML object>"
      ]
     },
     "metadata": {},
     "output_type": "display_data"
    },
    {
     "data": {
      "text/html": [
       " View project at <a href='https://wandb.ai/benw8888/sparse%20coding' target=\"_blank\">https://wandb.ai/benw8888/sparse%20coding</a>"
      ],
      "text/plain": [
       "<IPython.core.display.HTML object>"
      ]
     },
     "metadata": {},
     "output_type": "display_data"
    },
    {
     "data": {
      "text/html": [
       " View run at <a href='https://wandb.ai/benw8888/sparse%20coding/runs/qcb8va32' target=\"_blank\">https://wandb.ai/benw8888/sparse%20coding/runs/qcb8va32</a>"
      ],
      "text/plain": [
       "<IPython.core.display.HTML object>"
      ]
     },
     "metadata": {},
     "output_type": "display_data"
    },
    {
     "data": {
      "text/html": [
       "<button onClick=\"this.nextSibling.style.display='block';this.style.display='none';\">Display W&B run</button><iframe src='https://wandb.ai/benw8888/sparse%20coding/runs/qcb8va32?jupyter=true' style='border:none;width:100%;height:420px;display:none;'></iframe>"
      ],
      "text/plain": [
       "<wandb.sdk.wandb_run.Run at 0x7fa2100eb370>"
      ]
     },
     "execution_count": 122,
     "metadata": {},
     "output_type": "execute_result"
    }
   ],
   "source": [
    "wandb.init(project=\"sparse coding\", config=dict(cfg), name=wandb_run_name)"
   ]
  },
  {
   "cell_type": "code",
   "execution_count": 123,
   "metadata": {},
   "outputs": [
    {
     "name": "stderr",
     "output_type": "stream",
     "text": [
      "  0%|          | 1/27527 [00:00<54:17,  8.45it/s]"
     ]
    },
    {
     "name": "stderr",
     "output_type": "stream",
     "text": [
      "  0%|          | 3/27527 [00:00<39:04, 11.74it/s]"
     ]
    },
    {
     "name": "stdout",
     "output_type": "stream",
     "text": [
      "Sparsity: 1030.8 | Dead Features: 0 | Total Loss: 2.39 | Reconstruction Loss: 0.51 | L1 Loss: 1.88 | l1_alpha: 5.00e-03 | Tokens: 0 | Self Similarity: 1.00\n"
     ]
    },
    {
     "name": "stderr",
     "output_type": "stream",
     "text": [
      "  2%|▏         | 503/27527 [00:37<33:46, 13.34it/s]"
     ]
    },
    {
     "name": "stdout",
     "output_type": "stream",
     "text": [
      "Sparsity: 11.7 | Dead Features: 0 | Total Loss: 0.30 | Reconstruction Loss: 0.22 | L1 Loss: 0.08 | l1_alpha: 5.00e-03 | Tokens: 2048000 | Self Similarity: 0.90\n"
     ]
    },
    {
     "name": "stderr",
     "output_type": "stream",
     "text": [
      "  4%|▎         | 1003/27527 [01:15<33:27, 13.21it/s]"
     ]
    },
    {
     "name": "stdout",
     "output_type": "stream",
     "text": [
      "Sparsity: 11.1 | Dead Features: 0 | Total Loss: 0.28 | Reconstruction Loss: 0.20 | L1 Loss: 0.09 | l1_alpha: 5.00e-03 | Tokens: 4096000 | Self Similarity: 0.99\n"
     ]
    },
    {
     "name": "stderr",
     "output_type": "stream",
     "text": [
      "  5%|▌         | 1503/27527 [01:53<33:21, 13.00it/s]"
     ]
    },
    {
     "name": "stdout",
     "output_type": "stream",
     "text": [
      "Sparsity: 12.5 | Dead Features: 0 | Total Loss: 0.28 | Reconstruction Loss: 0.18 | L1 Loss: 0.09 | l1_alpha: 5.00e-03 | Tokens: 6144000 | Self Similarity: 0.98\n"
     ]
    },
    {
     "name": "stderr",
     "output_type": "stream",
     "text": [
      "  7%|▋         | 2003/27527 [02:31<32:29, 13.09it/s]"
     ]
    },
    {
     "name": "stdout",
     "output_type": "stream",
     "text": [
      "Sparsity: 13.2 | Dead Features: 0 | Total Loss: 0.27 | Reconstruction Loss: 0.17 | L1 Loss: 0.10 | l1_alpha: 5.00e-03 | Tokens: 8192000 | Self Similarity: 0.99\n"
     ]
    },
    {
     "name": "stderr",
     "output_type": "stream",
     "text": [
      "  9%|▉         | 2503/27527 [03:09<32:01, 13.02it/s]"
     ]
    },
    {
     "name": "stdout",
     "output_type": "stream",
     "text": [
      "Sparsity: 14.0 | Dead Features: 0 | Total Loss: 0.27 | Reconstruction Loss: 0.18 | L1 Loss: 0.10 | l1_alpha: 5.00e-03 | Tokens: 10240000 | Self Similarity: 0.99\n"
     ]
    },
    {
     "name": "stderr",
     "output_type": "stream",
     "text": [
      " 11%|█         | 3003/27527 [03:47<30:58, 13.19it/s]"
     ]
    },
    {
     "name": "stdout",
     "output_type": "stream",
     "text": [
      "Sparsity: 14.8 | Dead Features: 0 | Total Loss: 0.26 | Reconstruction Loss: 0.17 | L1 Loss: 0.10 | l1_alpha: 5.00e-03 | Tokens: 12288000 | Self Similarity: 0.98\n"
     ]
    },
    {
     "name": "stderr",
     "output_type": "stream",
     "text": [
      " 13%|█▎        | 3503/27527 [04:25<30:22, 13.18it/s]"
     ]
    },
    {
     "name": "stdout",
     "output_type": "stream",
     "text": [
      "Sparsity: 16.4 | Dead Features: 0 | Total Loss: 0.26 | Reconstruction Loss: 0.16 | L1 Loss: 0.10 | l1_alpha: 5.00e-03 | Tokens: 14336000 | Self Similarity: 0.98\n"
     ]
    },
    {
     "name": "stderr",
     "output_type": "stream",
     "text": [
      " 15%|█▍        | 4003/27527 [05:03<29:56, 13.10it/s]"
     ]
    },
    {
     "name": "stdout",
     "output_type": "stream",
     "text": [
      "Sparsity: 15.9 | Dead Features: 0 | Total Loss: 0.25 | Reconstruction Loss: 0.15 | L1 Loss: 0.10 | l1_alpha: 5.00e-03 | Tokens: 16384000 | Self Similarity: 0.98\n"
     ]
    },
    {
     "name": "stderr",
     "output_type": "stream",
     "text": [
      " 16%|█▋        | 4503/27527 [05:41<29:19, 13.08it/s]"
     ]
    },
    {
     "name": "stdout",
     "output_type": "stream",
     "text": [
      "Sparsity: 16.7 | Dead Features: 0 | Total Loss: 0.25 | Reconstruction Loss: 0.15 | L1 Loss: 0.10 | l1_alpha: 5.00e-03 | Tokens: 18432000 | Self Similarity: 0.97\n"
     ]
    },
    {
     "name": "stderr",
     "output_type": "stream",
     "text": [
      " 18%|█▊        | 5003/27527 [06:20<28:40, 13.09it/s]"
     ]
    },
    {
     "name": "stdout",
     "output_type": "stream",
     "text": [
      "Sparsity: 17.2 | Dead Features: 0 | Total Loss: 0.26 | Reconstruction Loss: 0.15 | L1 Loss: 0.10 | l1_alpha: 5.00e-03 | Tokens: 20480000 | Self Similarity: 0.98\n"
     ]
    },
    {
     "name": "stderr",
     "output_type": "stream",
     "text": [
      " 20%|█▉        | 5503/27527 [06:58<28:00, 13.10it/s]"
     ]
    },
    {
     "name": "stdout",
     "output_type": "stream",
     "text": [
      "Sparsity: 17.7 | Dead Features: 0 | Total Loss: 0.25 | Reconstruction Loss: 0.14 | L1 Loss: 0.10 | l1_alpha: 5.00e-03 | Tokens: 22528000 | Self Similarity: 0.97\n"
     ]
    },
    {
     "name": "stderr",
     "output_type": "stream",
     "text": [
      " 22%|██▏       | 6003/27527 [07:36<29:13, 12.28it/s]"
     ]
    },
    {
     "name": "stdout",
     "output_type": "stream",
     "text": [
      "Sparsity: 17.9 | Dead Features: 0 | Total Loss: 0.25 | Reconstruction Loss: 0.14 | L1 Loss: 0.10 | l1_alpha: 5.00e-03 | Tokens: 24576000 | Self Similarity: 0.97\n"
     ]
    },
    {
     "name": "stderr",
     "output_type": "stream",
     "text": [
      " 24%|██▎       | 6503/27527 [08:17<27:33, 12.72it/s]"
     ]
    },
    {
     "name": "stdout",
     "output_type": "stream",
     "text": [
      "Sparsity: 18.3 | Dead Features: 0 | Total Loss: 0.24 | Reconstruction Loss: 0.14 | L1 Loss: 0.10 | l1_alpha: 5.00e-03 | Tokens: 26624000 | Self Similarity: 0.97\n"
     ]
    },
    {
     "name": "stderr",
     "output_type": "stream",
     "text": [
      " 25%|██▌       | 7003/27527 [08:56<26:49, 12.75it/s]"
     ]
    },
    {
     "name": "stdout",
     "output_type": "stream",
     "text": [
      "Sparsity: 18.4 | Dead Features: 0 | Total Loss: 0.24 | Reconstruction Loss: 0.14 | L1 Loss: 0.10 | l1_alpha: 5.00e-03 | Tokens: 28672000 | Self Similarity: 0.96\n"
     ]
    },
    {
     "name": "stderr",
     "output_type": "stream",
     "text": [
      " 27%|██▋       | 7503/27527 [09:35<26:29, 12.60it/s]"
     ]
    },
    {
     "name": "stdout",
     "output_type": "stream",
     "text": [
      "Sparsity: 19.2 | Dead Features: 0 | Total Loss: 0.25 | Reconstruction Loss: 0.14 | L1 Loss: 0.11 | l1_alpha: 5.00e-03 | Tokens: 30720000 | Self Similarity: 0.96\n"
     ]
    },
    {
     "name": "stderr",
     "output_type": "stream",
     "text": [
      " 29%|██▉       | 8003/27527 [10:15<25:25, 12.80it/s]"
     ]
    },
    {
     "name": "stdout",
     "output_type": "stream",
     "text": [
      "Sparsity: 19.0 | Dead Features: 0 | Total Loss: 0.24 | Reconstruction Loss: 0.14 | L1 Loss: 0.10 | l1_alpha: 5.00e-03 | Tokens: 32768000 | Self Similarity: 0.96\n"
     ]
    },
    {
     "name": "stderr",
     "output_type": "stream",
     "text": [
      " 31%|███       | 8503/27527 [10:54<25:32, 12.42it/s]"
     ]
    },
    {
     "name": "stdout",
     "output_type": "stream",
     "text": [
      "Sparsity: 19.7 | Dead Features: 0 | Total Loss: 0.24 | Reconstruction Loss: 0.13 | L1 Loss: 0.11 | l1_alpha: 5.00e-03 | Tokens: 34816000 | Self Similarity: 0.95\n"
     ]
    },
    {
     "name": "stderr",
     "output_type": "stream",
     "text": [
      " 33%|███▎      | 9003/27527 [11:33<24:23, 12.66it/s]"
     ]
    },
    {
     "name": "stdout",
     "output_type": "stream",
     "text": [
      "Sparsity: 19.3 | Dead Features: 0 | Total Loss: 0.24 | Reconstruction Loss: 0.13 | L1 Loss: 0.11 | l1_alpha: 5.00e-03 | Tokens: 36864000 | Self Similarity: 0.95\n"
     ]
    },
    {
     "name": "stderr",
     "output_type": "stream",
     "text": [
      " 35%|███▍      | 9503/27527 [12:12<23:20, 12.87it/s]"
     ]
    },
    {
     "name": "stdout",
     "output_type": "stream",
     "text": [
      "Sparsity: 19.1 | Dead Features: 0 | Total Loss: 0.23 | Reconstruction Loss: 0.13 | L1 Loss: 0.10 | l1_alpha: 5.00e-03 | Tokens: 38912000 | Self Similarity: 0.95\n"
     ]
    },
    {
     "name": "stderr",
     "output_type": "stream",
     "text": [
      " 36%|███▋      | 10003/27527 [12:51<22:49, 12.80it/s]"
     ]
    },
    {
     "name": "stdout",
     "output_type": "stream",
     "text": [
      "Sparsity: 18.7 | Dead Features: 0 | Total Loss: 0.23 | Reconstruction Loss: 0.13 | L1 Loss: 0.10 | l1_alpha: 5.00e-03 | Tokens: 40960000 | Self Similarity: 0.95\n"
     ]
    },
    {
     "name": "stderr",
     "output_type": "stream",
     "text": [
      " 38%|███▊      | 10503/27527 [13:31<22:08, 12.81it/s]"
     ]
    },
    {
     "name": "stdout",
     "output_type": "stream",
     "text": [
      "Sparsity: 19.1 | Dead Features: 0 | Total Loss: 0.23 | Reconstruction Loss: 0.12 | L1 Loss: 0.10 | l1_alpha: 5.00e-03 | Tokens: 43008000 | Self Similarity: 0.95\n"
     ]
    },
    {
     "name": "stderr",
     "output_type": "stream",
     "text": [
      " 40%|███▉      | 11003/27527 [14:10<21:43, 12.68it/s]"
     ]
    },
    {
     "name": "stdout",
     "output_type": "stream",
     "text": [
      "Sparsity: 18.4 | Dead Features: 0 | Total Loss: 0.23 | Reconstruction Loss: 0.13 | L1 Loss: 0.10 | l1_alpha: 5.00e-03 | Tokens: 45056000 | Self Similarity: 0.96\n"
     ]
    },
    {
     "name": "stderr",
     "output_type": "stream",
     "text": [
      " 42%|████▏     | 11503/27527 [14:49<21:06, 12.65it/s]"
     ]
    },
    {
     "name": "stdout",
     "output_type": "stream",
     "text": [
      "Sparsity: 18.6 | Dead Features: 0 | Total Loss: 0.23 | Reconstruction Loss: 0.13 | L1 Loss: 0.10 | l1_alpha: 5.00e-03 | Tokens: 47104000 | Self Similarity: 0.95\n"
     ]
    },
    {
     "name": "stderr",
     "output_type": "stream",
     "text": [
      " 44%|████▎     | 12003/27527 [15:28<20:10, 12.82it/s]"
     ]
    },
    {
     "name": "stdout",
     "output_type": "stream",
     "text": [
      "Sparsity: 18.1 | Dead Features: 0 | Total Loss: 0.23 | Reconstruction Loss: 0.12 | L1 Loss: 0.10 | l1_alpha: 5.00e-03 | Tokens: 49152000 | Self Similarity: 0.96\n"
     ]
    },
    {
     "name": "stderr",
     "output_type": "stream",
     "text": [
      " 45%|████▌     | 12503/27527 [16:07<19:24, 12.90it/s]"
     ]
    },
    {
     "name": "stdout",
     "output_type": "stream",
     "text": [
      "Sparsity: 19.0 | Dead Features: 0 | Total Loss: 0.23 | Reconstruction Loss: 0.12 | L1 Loss: 0.11 | l1_alpha: 5.00e-03 | Tokens: 51200000 | Self Similarity: 0.96\n"
     ]
    },
    {
     "name": "stderr",
     "output_type": "stream",
     "text": [
      " 47%|████▋     | 13003/27527 [16:46<18:45, 12.91it/s]"
     ]
    },
    {
     "name": "stdout",
     "output_type": "stream",
     "text": [
      "Sparsity: 19.0 | Dead Features: 0 | Total Loss: 0.23 | Reconstruction Loss: 0.13 | L1 Loss: 0.10 | l1_alpha: 5.00e-03 | Tokens: 53248000 | Self Similarity: 0.97\n"
     ]
    },
    {
     "name": "stderr",
     "output_type": "stream",
     "text": [
      " 49%|████▉     | 13503/27527 [17:25<18:25, 12.69it/s]"
     ]
    },
    {
     "name": "stdout",
     "output_type": "stream",
     "text": [
      "Sparsity: 18.6 | Dead Features: 0 | Total Loss: 0.23 | Reconstruction Loss: 0.12 | L1 Loss: 0.10 | l1_alpha: 5.00e-03 | Tokens: 55296000 | Self Similarity: 0.97\n"
     ]
    },
    {
     "name": "stderr",
     "output_type": "stream",
     "text": [
      " 51%|█████     | 14003/27527 [18:04<17:37, 12.79it/s]"
     ]
    },
    {
     "name": "stdout",
     "output_type": "stream",
     "text": [
      "Sparsity: 18.9 | Dead Features: 0 | Total Loss: 0.22 | Reconstruction Loss: 0.12 | L1 Loss: 0.10 | l1_alpha: 5.00e-03 | Tokens: 57344000 | Self Similarity: 0.97\n"
     ]
    },
    {
     "name": "stderr",
     "output_type": "stream",
     "text": [
      " 53%|█████▎    | 14503/27527 [18:43<17:03, 12.73it/s]"
     ]
    },
    {
     "name": "stdout",
     "output_type": "stream",
     "text": [
      "Sparsity: 18.5 | Dead Features: 0 | Total Loss: 0.23 | Reconstruction Loss: 0.12 | L1 Loss: 0.10 | l1_alpha: 5.00e-03 | Tokens: 59392000 | Self Similarity: 0.97\n"
     ]
    },
    {
     "name": "stderr",
     "output_type": "stream",
     "text": [
      " 55%|█████▍    | 15003/27527 [19:22<16:15, 12.84it/s]"
     ]
    },
    {
     "name": "stdout",
     "output_type": "stream",
     "text": [
      "Sparsity: 18.8 | Dead Features: 0 | Total Loss: 0.23 | Reconstruction Loss: 0.12 | L1 Loss: 0.10 | l1_alpha: 5.00e-03 | Tokens: 61440000 | Self Similarity: 0.97\n"
     ]
    },
    {
     "name": "stderr",
     "output_type": "stream",
     "text": [
      " 55%|█████▍    | 15105/27527 [19:30<16:02, 12.91it/s]\n"
     ]
    },
    {
     "ename": "KeyboardInterrupt",
     "evalue": "",
     "output_type": "error",
     "traceback": [
      "\u001b[0;31m---------------------------------------------------------------------------\u001b[0m",
      "\u001b[0;31mKeyboardInterrupt\u001b[0m                         Traceback (most recent call last)",
      "Cell \u001b[0;32mIn[123], line 18\u001b[0m\n\u001b[1;32m     16\u001b[0m             representation \u001b[39m=\u001b[39m representation[\u001b[39m0\u001b[39m]\n\u001b[1;32m     17\u001b[0m layer_activations \u001b[39m=\u001b[39m rearrange(representation, \u001b[39m\"\u001b[39m\u001b[39mb seq d_model -> (b seq) d_model\u001b[39m\u001b[39m\"\u001b[39m)\n\u001b[0;32m---> 18\u001b[0m saved_activations\u001b[39m.\u001b[39mappend(layer_activations\u001b[39m.\u001b[39;49mclone()\u001b[39m.\u001b[39;49mcpu()\u001b[39m.\u001b[39mdetach())\n\u001b[1;32m     20\u001b[0m c \u001b[39m=\u001b[39m autoencoder\u001b[39m.\u001b[39mencode(layer_activations)\n\u001b[1;32m     21\u001b[0m x_hat \u001b[39m=\u001b[39m autoencoder\u001b[39m.\u001b[39mdecode(c)\n",
      "\u001b[0;31mKeyboardInterrupt\u001b[0m: "
     ]
    }
   ],
   "source": [
    "dead_features = torch.zeros(autoencoder.encoder.shape[0])\n",
    "max_num_tokens = 100000000\n",
    "saved_activations = []\n",
    "# Freeze model parameters \n",
    "model.eval()\n",
    "model.requires_grad_(False)\n",
    "model.to(cfg.device)\n",
    "last_encoder = autoencoder.encoder.clone().detach()\n",
    "for i, batch in enumerate(tqdm(token_loader)):\n",
    "    tokens = batch[\"input_ids\"].to(cfg.device)\n",
    "    with torch.no_grad(): # As long as not doing KL divergence, don't need gradients for model\n",
    "        with Trace(model, tensor_names[0]) as ret:\n",
    "            _ = model(tokens)\n",
    "            representation = ret.output\n",
    "            if(isinstance(representation, tuple)):\n",
    "                representation = representation[0]\n",
    "    layer_activations = rearrange(representation, \"b seq d_model -> (b seq) d_model\")\n",
    "    saved_activations.append(layer_activations.clone().cpu().detach())\n",
    "\n",
    "    c = autoencoder.encode(layer_activations)\n",
    "    x_hat = autoencoder.decode(c)\n",
    "    \n",
    "    reconstruction_loss = (x_hat - layer_activations).pow(2).mean()\n",
    "    l1_loss = torch.norm(c, 1, dim=-1).mean()\n",
    "    total_loss = reconstruction_loss + cfg.l1_alpha*l1_loss\n",
    "\n",
    "    dead_features += c.sum(dim=0).cpu()\n",
    "    if (i % 500 == 0): # Check here so first check is model w/o change\n",
    "        # self_similarity = torch.cosine_similarity(c, last_encoder, dim=-1).mean().cpu().item()\n",
    "        # Above is wrong, should be similarity between encoder and last encoder\n",
    "        self_similarity = torch.cosine_similarity(autoencoder.encoder, last_encoder, dim=-1).mean().cpu().item()\n",
    "        last_encoder = autoencoder.encoder.clone().detach()\n",
    "        num_tokens_so_far = i*cfg.max_length*cfg.model_batch_size\n",
    "        with torch.no_grad():\n",
    "            sparsity = (c != 0).float().mean(dim=0).sum().cpu().item()\n",
    "            # Count number of dead_features are zero\n",
    "            num_dead_features = (dead_features == 0).sum().item()\n",
    "        print(f\"Sparsity: {sparsity:.1f} | Dead Features: {num_dead_features} | Total Loss: {total_loss:.2f} | Reconstruction Loss: {reconstruction_loss:.2f} | L1 Loss: {cfg.l1_alpha*l1_loss:.2f} | l1_alpha: {cfg.l1_alpha:.2e} | Tokens: {num_tokens_so_far} | Self Similarity: {self_similarity:.2f}\")\n",
    "        wandb.log({\n",
    "            'Sparsity': sparsity,\n",
    "            'Dead Features': num_dead_features,\n",
    "            'Total Loss': total_loss.item(),\n",
    "            'Reconstruction Loss': reconstruction_loss.item(),\n",
    "            'L1 Loss': (cfg.l1_alpha*l1_loss).item(),\n",
    "            'l1_alpha': cfg.l1_alpha,\n",
    "            'Tokens': num_tokens_so_far,\n",
    "            'Self Similarity': self_similarity\n",
    "        })\n",
    "        \n",
    "        # # RESAMPLING\n",
    "        # if num_dead_features > 0:\n",
    "        #     # hyperparams:\n",
    "        #     max_resample_tokens = 1000\n",
    "        #     # compute loss of model on random subset of inputs\n",
    "        #     i=10\n",
    "        #     resample_loader = setup_token_data(cfg, tokenizer, model, seed=i)\n",
    "        #     num_resample_data = 0\n",
    "\n",
    "        #     resample_activations = torch.empty(0, activation_size)\n",
    "        #     resample_losses = torch.empty(0)\n",
    "\n",
    "        #     for resample_batch in resample_loader:\n",
    "        #         resample_tokens = resample_batch[\"input_ids\"].to(cfg.device)\n",
    "        #         with torch.no_grad(): # As long as not doing KL divergence, don't need gradients for model\n",
    "        #             with Trace(model, tensor_names[0]) as ret:\n",
    "        #                 _ = model(resample_tokens)\n",
    "        #                 representation = ret.output\n",
    "        #                 if(isinstance(representation, tuple)):\n",
    "        #                     representation = representation[0]\n",
    "        #         layer_activations = rearrange(representation, \"b seq d_model -> (b seq) d_model\")\n",
    "        #         resample_activations = torch.cat((resample_activations, layer_activations.detach().cpu()), dim=0)\n",
    "\n",
    "        #         c = autoencoder.encode(layer_activations)\n",
    "        #         x_hat = autoencoder.decode(c)\n",
    "                \n",
    "        #         reconstruction_loss = (x_hat - layer_activations).pow(2).mean(dim=-1)\n",
    "        #         l1_loss = torch.norm(c, 1, dim=-1)\n",
    "        #         total_loss = reconstruction_loss + cfg.l1_alpha*l1_loss\n",
    "                \n",
    "        #         resample_losses = torch.cat((resample_losses, total_loss.detach().cpu()), dim=0)\n",
    "                \n",
    "        #         num_resample_data +=layer_activations.shape[0]\n",
    "        #         if num_resample_data > max_resample_tokens:\n",
    "        #             break\n",
    "\n",
    "                \n",
    "        #     # sample num_dead_features vectors of input activations\n",
    "        #     probabilities = resample_losses**2\n",
    "        #     sampled_indices = torch.multinomial(probabilities, num_dead_features)\n",
    "        #     new_vectors = resample_activations[sampled_indices]\n",
    "\n",
    "        #     # calculate average encoder norm of alive neurons\n",
    "        #     alive_neurons = list((dead_features!=0))\n",
    "        #     modified_columns = dead_features==0\n",
    "        #     avg_norm = autoencoder.encoder.data[alive_neurons].norm(dim=-1).mean()\n",
    "\n",
    "        #     # replace dictionary and encoder weights with vectors\n",
    "        #     new_vectors = new_vectors / new_vectors.norm(dim=1, keepdim=True)\n",
    "            \n",
    "        #     params_to_modify = [autoencoder.encoder, autoencoder.encoder_bias]\n",
    "\n",
    "        #     current_weights = autoencoder.encoder.data\n",
    "        #     current_weights[modified_columns] = new_vectors * avg_norm * 0.2\n",
    "        #     autoencoder.encoder.data = current_weights\n",
    "\n",
    "        #     current_weights = autoencoder.encoder_bias.data\n",
    "        #     current_weights[modified_columns] = 0\n",
    "        #     autoencoder.encoder_bias.data = current_weights\n",
    "            \n",
    "        #     if hasattr(autoencoder, 'decoder'):\n",
    "        #         current_weights = autoencoder.decoder.data\n",
    "        #         current_weights[modified_columns] = new_vectors\n",
    "        #         autoencoder.decoder.data = current_weights\n",
    "        #         params_to_modify += [autoencoder.decoder]\n",
    "\n",
    "        #     for param_group in optimizer.param_groups:\n",
    "        #         for param in param_group['params']:\n",
    "        #             if param in params_to_modify:\n",
    "        #                 # Extract the corresponding rows from m and v\n",
    "        #                 m = optimizer.state[param]['exp_avg']\n",
    "        #                 v = optimizer.state[param]['exp_avg_sq']\n",
    "                        \n",
    "        #                 # Update the m and v values for the modified columns\n",
    "        #                 m[modified_columns] = 0  # Reset moving average for modified columns\n",
    "        #                 v[modified_columns] = 0  # Reset squared moving average for modified columns\n",
    "        \n",
    "        dead_features = torch.zeros(autoencoder.encoder.shape[0])\n",
    "        \n",
    "        if(num_tokens_so_far > max_num_tokens):\n",
    "            print(f\"Reached max number of tokens: {max_num_tokens}\")\n",
    "            break\n",
    "\n",
    "    optimizer.zero_grad()\n",
    "    total_loss.backward()\n",
    "    optimizer.step()\n",
    "\n",
    "    # # Running sparsity check\n",
    "    # if(num_tokens_so_far > 500000):\n",
    "    #     if(i % 200 == 0):\n",
    "    #         with torch.no_grad():\n",
    "    #             sparsity = (c != 0).float().mean(dim=0).sum().cpu().item()\n",
    "    #         if sparsity > target_upper_sparsity:\n",
    "    #             cfg.l1_alpha *= (1 + adjustment_factor)\n",
    "    #         elif sparsity < target_lower_sparsity:\n",
    "    #             cfg.l1_alpha *= (1 - adjustment_factor)\n",
    "    #         # print(f\"Sparsity: {sparsity:.1f} | l1_alpha: {cfg.l1_alpha:.2e}\")"
   ]
  },
  {
   "cell_type": "code",
   "execution_count": 20,
   "metadata": {},
   "outputs": [
    {
     "ename": "RuntimeError",
     "evalue": "[enforce fail at inline_container.cc:337] . unexpected pos 95545616512 vs 95545616408",
     "output_type": "error",
     "traceback": [
      "\u001b[0;31m---------------------------------------------------------------------------\u001b[0m",
      "\u001b[0;31mRuntimeError\u001b[0m                              Traceback (most recent call last)",
      "File \u001b[0;32m/opt/conda/lib/python3.10/site-packages/torch/serialization.py:441\u001b[0m, in \u001b[0;36msave\u001b[0;34m(obj, f, pickle_module, pickle_protocol, _use_new_zipfile_serialization)\u001b[0m\n\u001b[1;32m    440\u001b[0m \u001b[39mwith\u001b[39;00m _open_zipfile_writer(f) \u001b[39mas\u001b[39;00m opened_zipfile:\n\u001b[0;32m--> 441\u001b[0m     _save(obj, opened_zipfile, pickle_module, pickle_protocol)\n\u001b[1;32m    442\u001b[0m     \u001b[39mreturn\u001b[39;00m\n",
      "File \u001b[0;32m/opt/conda/lib/python3.10/site-packages/torch/serialization.py:668\u001b[0m, in \u001b[0;36m_save\u001b[0;34m(obj, zip_file, pickle_module, pickle_protocol)\u001b[0m\n\u001b[1;32m    667\u001b[0m num_bytes \u001b[39m=\u001b[39m storage\u001b[39m.\u001b[39mnbytes()\n\u001b[0;32m--> 668\u001b[0m zip_file\u001b[39m.\u001b[39;49mwrite_record(name, storage\u001b[39m.\u001b[39;49mdata_ptr(), num_bytes)\n",
      "\u001b[0;31mRuntimeError\u001b[0m: [enforce fail at inline_container.cc:471] . PytorchStreamWriter failed writing file data/50996: file write failed",
      "\nDuring handling of the above exception, another exception occurred:\n",
      "\u001b[0;31mRuntimeError\u001b[0m                              Traceback (most recent call last)",
      "Cell \u001b[0;32mIn[20], line 14\u001b[0m\n\u001b[1;32m     12\u001b[0m     os\u001b[39m.\u001b[39mmakedirs(\u001b[39m\"\u001b[39m\u001b[39mactivations\u001b[39m\u001b[39m\"\u001b[39m)\n\u001b[1;32m     13\u001b[0m \u001b[39m# Save model\u001b[39;00m\n\u001b[0;32m---> 14\u001b[0m torch\u001b[39m.\u001b[39;49msave(saved_activations[:\u001b[39m-\u001b[39;49m\u001b[39m1\u001b[39;49m], \u001b[39mf\u001b[39;49m\u001b[39m\"\u001b[39;49m\u001b[39mactivations/\u001b[39;49m\u001b[39m{\u001b[39;49;00msave_name\u001b[39m}\u001b[39;49;00m\u001b[39m.pt\u001b[39;49m\u001b[39m\"\u001b[39;49m)\n",
      "File \u001b[0;32m/opt/conda/lib/python3.10/site-packages/torch/serialization.py:440\u001b[0m, in \u001b[0;36msave\u001b[0;34m(obj, f, pickle_module, pickle_protocol, _use_new_zipfile_serialization)\u001b[0m\n\u001b[1;32m    437\u001b[0m _check_save_filelike(f)\n\u001b[1;32m    439\u001b[0m \u001b[39mif\u001b[39;00m _use_new_zipfile_serialization:\n\u001b[0;32m--> 440\u001b[0m     \u001b[39mwith\u001b[39;00m _open_zipfile_writer(f) \u001b[39mas\u001b[39;00m opened_zipfile:\n\u001b[1;32m    441\u001b[0m         _save(obj, opened_zipfile, pickle_module, pickle_protocol)\n\u001b[1;32m    442\u001b[0m         \u001b[39mreturn\u001b[39;00m\n",
      "File \u001b[0;32m/opt/conda/lib/python3.10/site-packages/torch/serialization.py:291\u001b[0m, in \u001b[0;36m_open_zipfile_writer_file.__exit__\u001b[0;34m(self, *args)\u001b[0m\n\u001b[1;32m    290\u001b[0m \u001b[39mdef\u001b[39;00m \u001b[39m__exit__\u001b[39m(\u001b[39mself\u001b[39m, \u001b[39m*\u001b[39margs) \u001b[39m-\u001b[39m\u001b[39m>\u001b[39m \u001b[39mNone\u001b[39;00m:\n\u001b[0;32m--> 291\u001b[0m     \u001b[39mself\u001b[39;49m\u001b[39m.\u001b[39;49mfile_like\u001b[39m.\u001b[39;49mwrite_end_of_file()\n",
      "\u001b[0;31mRuntimeError\u001b[0m: [enforce fail at inline_container.cc:337] . unexpected pos 95545616512 vs 95545616408"
     ]
    }
   ],
   "source": [
    "model_save_name = cfg.model_name.split(\"/\")[-1]\n",
    "save_name = f\"{model_save_name}_sp{cfg.sparsity}_r{cfg.ratio}_{tensor_names[0]}\"  # trim year\n",
    "\n",
    "# Make directory traiend_models if it doesn't exist\n",
    "import os\n",
    "if not os.path.exists(\"trained_models\"):\n",
    "    os.makedirs(\"trained_models\")\n",
    "# Save model\n",
    "torch.save(autoencoder, f\"trained_models/{save_name}.pt\")\n",
    "\n",
    "# if not os.path.exists(\"activations\"):\n",
    "#     os.makedirs(\"activations\")\n",
    "# # Save model\n",
    "# torch.save(saved_activations[:-1], f\"activations/{save_name}.pt\")"
   ]
  },
  {
   "cell_type": "code",
   "execution_count": 103,
   "metadata": {},
   "outputs": [
    {
     "data": {
      "text/html": [
       "Waiting for W&B process to finish... <strong style=\"color:green\">(success).</strong>"
      ],
      "text/plain": [
       "<IPython.core.display.HTML object>"
      ]
     },
     "metadata": {},
     "output_type": "display_data"
    },
    {
     "data": {
      "text/html": [
       "<style>\n",
       "    table.wandb td:nth-child(1) { padding: 0 10px; text-align: left ; width: auto;} td:nth-child(2) {text-align: left ; width: 100%}\n",
       "    .wandb-row { display: flex; flex-direction: row; flex-wrap: wrap; justify-content: flex-start; width: 100% }\n",
       "    .wandb-col { display: flex; flex-direction: column; flex-basis: 100%; flex: 1; padding: 10px; }\n",
       "    </style>\n",
       "<div class=\"wandb-row\"><div class=\"wandb-col\"><h3>Run history:</h3><br/><table class=\"wandb\"><tr><td>Dead Features</td><td>▁▁▁▁▁▁▁▁▁▁</td></tr><tr><td>L1 Loss</td><td>█▁▁▁▁▁▁▁▁▁</td></tr><tr><td>Reconstruction Loss</td><td>█▁▁▁▁▁▁▁▁▁</td></tr><tr><td>Self Similarity</td><td>█▁▃▄▅▅▆▇▇▇</td></tr><tr><td>Sparsity</td><td>█▂▂▁▁▁▁▁▁▁</td></tr><tr><td>Tokens</td><td>▁▂▃▃▄▅▆▆▇█</td></tr><tr><td>Total Loss</td><td>█▁▁▁▁▁▁▁▁▁</td></tr><tr><td>l1_alpha</td><td>▁▁▁▁▁▁▁▁▁▁</td></tr></table><br/></div><div class=\"wandb-col\"><h3>Run summary:</h3><br/><table class=\"wandb\"><tr><td>Dead Features</td><td>0</td></tr><tr><td>L1 Loss</td><td>0.05667</td></tr><tr><td>Reconstruction Loss</td><td>0.04423</td></tr><tr><td>Self Similarity</td><td>0.96337</td></tr><tr><td>Sparsity</td><td>187.8418</td></tr><tr><td>Tokens</td><td>18432000</td></tr><tr><td>Total Loss</td><td>0.10091</td></tr><tr><td>l1_alpha</td><td>0.001</td></tr></table><br/></div></div>"
      ],
      "text/plain": [
       "<IPython.core.display.HTML object>"
      ]
     },
     "metadata": {},
     "output_type": "display_data"
    },
    {
     "data": {
      "text/html": [
       " View run <strong style=\"color:#cdcd00\">EleutherAI/pythia-70m-deduped_1008-212856_51</strong> at: <a href='https://wandb.ai/benw8888/sparse%20coding/runs/9qyc3umx' target=\"_blank\">https://wandb.ai/benw8888/sparse%20coding/runs/9qyc3umx</a><br/>Synced 6 W&B file(s), 0 media file(s), 0 artifact file(s) and 0 other file(s)"
      ],
      "text/plain": [
       "<IPython.core.display.HTML object>"
      ]
     },
     "metadata": {},
     "output_type": "display_data"
    },
    {
     "data": {
      "text/html": [
       "Find logs at: <code>./wandb/run-20231008_212856-9qyc3umx/logs</code>"
      ],
      "text/plain": [
       "<IPython.core.display.HTML object>"
      ]
     },
     "metadata": {},
     "output_type": "display_data"
    }
   ],
   "source": [
    "wandb.finish()"
   ]
  },
  {
   "cell_type": "code",
   "execution_count": null,
   "metadata": {},
   "outputs": [],
   "source": [
    "# cfg.model_name=\"EleutherAI/pythia-70m-deduped\"\n",
    "cfg.model_name=\"usvsnsp/pythia-6.9b-sft\"\n",
    "cfg.target_name=\"usvsnsp/pythia-6.9b-ppo\"\n",
    "cfg.layers=[4]\n",
    "cfg.setting=\"residual\"\n",
    "cfg.tensor_name=\"gpt_neox.layers.{layer}\"\n",
    "cfg.l1_alpha=1e-3\n",
    "cfg.sparsity=None\n",
    "cfg.num_epochs=10\n",
    "cfg.model_batch_size=4\n",
    "cfg.lr=1e-3\n",
    "cfg.kl=False\n",
    "cfg.reconstruction=False\n",
    "# cfg.dataset_name=\"NeelNanda/pile-10k\"\n",
    "cfg.dataset_name=\"Elriggs/openwebtext-100k\"\n",
    "cfg.device=\"cuda:0\"\n",
    "cfg.ratio = 4\n",
    "# cfg.device=\"cpu\"\n",
    "\n",
    "model = model.cpu()\n",
    "target_model = AutoModelForCausalLM.from_pretrained(cfg.target_name)\n",
    "target_model = target_model.to(cfg.device)"
   ]
  },
  {
   "cell_type": "code",
   "execution_count": null,
   "metadata": {},
   "outputs": [],
   "source": [
    "# Initialize New autoencoder\n",
    "from autoencoders.learned_dict import TiedSAE, UntiedSAE\n",
    "from torch import nn\n",
    "\n",
    "# params[\"decoder\"] = torch.empty((n_dict_components, activation_size), device=cfg.device)\n",
    "# nn.init.xavier_uniform_(params[\"decoder\"])\n",
    "\n",
    "transfer_autoencoder = UntiedSAE(\n",
    "    # n_feats = n_dict_components, \n",
    "    # activation_size=activation_size,\n",
    "    encoder=autoencoder.encoder,\n",
    "    encoder_bias=autoencoder.encoder_bias,\n",
    "    decoder=autoencoder.encoder.clone(),\n",
    ")\n",
    "transfer_autoencoder.to_device(cfg.device)\n",
    "\n",
    "# Set gradient to true for decoder only- only training decoder on transfer\n",
    "transfer_autoencoder.encoder.requires_grad = False\n",
    "transfer_autoencoder.encoder_bias.requires_grad = False\n",
    "transfer_autoencoder.decoder.requires_grad = True\n",
    "optimizer = torch.optim.Adam([transfer_autoencoder.decoder], lr=1e-3)\n"
   ]
  },
  {
   "cell_type": "code",
   "execution_count": null,
   "metadata": {},
   "outputs": [],
   "source": [
    "# Wandb setup\n",
    "secrets = json.load(open(\"secrets.json\"))\n",
    "wandb.login(key=secrets[\"wandb_key\"])\n",
    "start_time = datetime.now().strftime(\"%Y%m%d-%H%M%S\")\n",
    "wandb_run_name = f\"{cfg.target_name}_transfer_{start_time[4:]}_{cfg.sparsity}\"  # trim year\n",
    "print(f\"wandb_run_name: {wandb_run_name}\")"
   ]
  },
  {
   "cell_type": "code",
   "execution_count": null,
   "metadata": {},
   "outputs": [],
   "source": [
    "# Training transfer autoencoder\n",
    "dead_features = torch.zeros(transfer_autoencoder.encoder.shape[0])\n",
    "max_num_tokens = 100000000\n",
    "# Freeze model parameters \n",
    "model = model.cpu()\n",
    "target_model = target_model.to(cfg.device)\n",
    "target_model.eval()\n",
    "target_model.requires_grad_(False)\n",
    "last_encoder = transfer_autoencoder.encoder.clone().detach()\n",
    "for i, (batch, base_activations) in enumerate(tqdm(zip(token_loader, saved_activations), total=min(len(token_loader),len(saved_activations)))):\n",
    "    tokens = batch[\"input_ids\"].to(cfg.device)\n",
    "    with torch.no_grad(): # As long as not doing KL divergence, don't need gradients for model\n",
    "        with Trace(target_model, tensor_names[0]) as ret:\n",
    "            _ = target_model(tokens)\n",
    "            representation = ret.output\n",
    "            if(isinstance(representation, tuple)):\n",
    "                representation = representation[0]\n",
    "    # layer_activations will be the output of the autoencoder\n",
    "    layer_activations = rearrange(representation, \"b seq d_model -> (b seq) d_model\")\n",
    "\n",
    "    c = transfer_autoencoder.encode(base_activations.to(cfg.device))\n",
    "    x_hat = transfer_autoencoder.decode(c)\n",
    "    \n",
    "    reconstruction_loss = (x_hat - layer_activations).pow(2).mean()\n",
    "    l1_loss = torch.norm(c, 1, dim=-1).mean()\n",
    "    total_loss = reconstruction_loss + cfg.l1_alpha*l1_loss\n",
    "\n",
    "    dead_features += c.sum(dim=0).cpu()\n",
    "    if (i % 500 == 0): # Check here so first check is model w/o change\n",
    "        # self_similarity = torch.cosine_similarity(c, last_encoder, dim=-1).mean().cpu().item()\n",
    "        # Above is wrong, should be similarity between encoder and last encoder\n",
    "        self_similarity = torch.cosine_similarity(transfer_autoencoder.encoder, last_encoder, dim=-1).mean().cpu().item()\n",
    "        last_encoder = transfer_autoencoder.encoder.clone().detach()\n",
    "        num_tokens_so_far = i*cfg.max_length*cfg.model_batch_size\n",
    "        with torch.no_grad():\n",
    "            sparsity = (c != 0).float().mean(dim=0).sum().cpu().item()\n",
    "            # Count number of dead_features are zero\n",
    "            num_dead_features = (dead_features == 0).sum().item()\n",
    "        print(f\"Sparsity: {sparsity:.1f} | Dead Features: {num_dead_features} | Total Loss: {total_loss:.2f} | Reconstruction Loss: {reconstruction_loss:.2f} | L1 Loss: {cfg.l1_alpha*l1_loss:.2f} | l1_alpha: {cfg.l1_alpha:.2e} | Tokens: {num_tokens_so_far} | Self Similarity: {self_similarity:.2f}\")\n",
    "        wandb.log({\n",
    "            'Sparsity': sparsity,\n",
    "            'Dead Features': num_dead_features,\n",
    "            'Total Loss': total_loss.item(),\n",
    "            'Reconstruction Loss': reconstruction_loss.item(),\n",
    "            'L1 Loss': (cfg.l1_alpha*l1_loss).item(),\n",
    "            'l1_alpha': cfg.l1_alpha,\n",
    "            'Tokens': num_tokens_so_far,\n",
    "            'Self Similarity': self_similarity\n",
    "        })\n",
    "        dead_features = torch.zeros(transfer_autoencoder.encoder.shape[0])\n",
    "        \n",
    "        if(num_tokens_so_far > max_num_tokens):\n",
    "            print(f\"Reached max number of tokens: {max_num_tokens}\")\n",
    "            break\n",
    "\n",
    "    optimizer.zero_grad()\n",
    "    total_loss.backward()\n",
    "    optimizer.step()\n",
    "\n",
    "    # Running sparsity check\n",
    "    if(num_tokens_so_far > 500000):\n",
    "        if(i % 200 == 0):\n",
    "            with torch.no_grad():\n",
    "                sparsity = (c != 0).float().mean(dim=0).sum().cpu().item()\n",
    "            if sparsity > target_upper_sparsity:\n",
    "                cfg.l1_alpha *= (1 + adjustment_factor)\n",
    "            elif sparsity < target_lower_sparsity:\n",
    "                cfg.l1_alpha *= (1 - adjustment_factor)\n",
    "            # print(f\"Sparsity: {sparsity:.1f} | l1_alpha: {cfg.l1_alpha:.2e}\")"
   ]
  },
  {
   "cell_type": "code",
   "execution_count": null,
   "metadata": {},
   "outputs": [],
   "source": [
    "model_save_name = cfg.target_name.split(\"/\")[-1]\n",
    "save_name = f\"{model_save_name}_transfer_sp{cfg.sparsity}_r{cfg.ratio}_{tensor_names[0]}\"  # trim year\n",
    "\n",
    "# Make directory traiend_models if it doesn't exist\n",
    "import os\n",
    "if not os.path.exists(\"trained_models\"):\n",
    "    os.makedirs(\"trained_models\")\n",
    "# Save model\n",
    "torch.save(transfer_autoencoder, f\"trained_models/{save_name}.pt\")"
   ]
  },
  {
   "cell_type": "code",
   "execution_count": null,
   "metadata": {},
   "outputs": [],
   "source": [
    "wandb.finish()"
   ]
  },
  {
   "cell_type": "code",
   "execution_count": null,
   "metadata": {},
   "outputs": [
    {
     "data": {
      "text/plain": [
       "{'model_name': 'EleutherAI/pythia-70m-deduped',\n",
       " 'layers': [4],\n",
       " 'setting': 'residual',\n",
       " 'tensor_name': 'gpt_neox.layers.{layer}',\n",
       " 'l1_alpha': 0.0020591228579666505,\n",
       " 'sparsity': 51,\n",
       " 'num_epochs': 10,\n",
       " 'model_batch_size': 4,\n",
       " 'lr': 0.001,\n",
       " 'kl': False,\n",
       " 'reconstruction': False,\n",
       " 'dataset_name': 'NeelNanda/pile-10k',\n",
       " 'device': 'cuda:0',\n",
       " 'ratio': 4,\n",
       " 'max_length': 256}"
      ]
     },
     "execution_count": 12,
     "metadata": {},
     "output_type": "execute_result"
    }
   ],
   "source": [
    "cfg"
   ]
  }
 ],
 "metadata": {
  "kernelspec": {
   "display_name": "logan",
   "language": "python",
   "name": "python3"
  },
  "language_info": {
   "codemirror_mode": {
    "name": "ipython",
    "version": 3
   },
   "file_extension": ".py",
   "mimetype": "text/x-python",
   "name": "python",
   "nbconvert_exporter": "python",
   "pygments_lexer": "ipython3",
   "version": "3.10.13"
  },
  "orig_nbformat": 4
 },
 "nbformat": 4,
 "nbformat_minor": 2
}
