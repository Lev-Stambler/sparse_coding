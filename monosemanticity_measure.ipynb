{
 "cells": [
  {
   "cell_type": "code",
   "execution_count": 1,
   "metadata": {},
   "outputs": [
    {
     "name": "stderr",
     "output_type": "stream",
     "text": [
      "/home/mchorse/miniconda3/envs/logan/lib/python3.10/site-packages/tqdm/auto.py:21: TqdmWarning: IProgress not found. Please update jupyter and ipywidgets. See https://ipywidgets.readthedocs.io/en/stable/user_install.html\n",
      "  from .autonotebook import tqdm as notebook_tqdm\n",
      "Using pad_token, but it is not set yet.\n"
     ]
    },
    {
     "name": "stdout",
     "output_type": "stream",
     "text": [
      "Loaded pretrained model EleutherAI/pythia-70m-deduped into HookedTransformer\n"
     ]
    }
   ],
   "source": [
    "# Downnload dataset\n",
    "from datasets import Dataset, load_dataset\n",
    "import torch\n",
    "from transformer_lens import HookedTransformer\n",
    "import numpy as np \n",
    "model_name = \"EleutherAI/pythia-70m-deduped\"\n",
    "\n",
    "device = torch.device(\"cuda:4\" if torch.cuda.is_available() else \"cpu\")\n",
    "model = HookedTransformer.from_pretrained(model_name, device=device)\n",
    "\n",
    "dataset_name = \"NeelNanda/pile-10k\"\n",
    "token_amount= 40\n",
    "dataset = load_dataset(dataset_name, split=\"train\").map(\n",
    "    lambda x: model.tokenizer(x['text']),\n",
    "    batched=True,\n",
    ").filter(\n",
    "    lambda x: len(x['input_ids']) > token_amount\n",
    ").map(\n",
    "    lambda x: {'input_ids': x['input_ids'][:token_amount]}\n",
    ")"
   ]
  },
  {
   "cell_type": "code",
   "execution_count": 2,
   "metadata": {},
   "outputs": [
    {
     "name": "stderr",
     "output_type": "stream",
     "text": [
      " 26%|██▌       | 79/309 [00:01<00:05, 43.10it/s]\n"
     ]
    },
    {
     "name": "stdout",
     "output_type": "stream",
     "text": [
      "[('\\n', 46), (' relates', 1), ('4', 1), (',', 1), ('.', 1)]\n",
      "Most common tokens: [7033  187  187 ...   32   35    9]\n",
      "Count of most common tokens: [37 32 30 ...  1  1  1]\n",
      "Argsorted indices: [2858 1572  514 ... 1444  875 1114]\n",
      "Token 457 not found in most_common_tokens\n",
      "Token 16 not found in most_common_tokens\n",
      "Token 352 not found in most_common_tokens\n",
      "Token 50276 not found in most_common_tokens\n",
      "Token 452 not found in most_common_tokens\n",
      "Sorted indices: [1572  470  354 1384 1832  813 2475 1806  286  912]\n"
     ]
    },
    {
     "name": "stderr",
     "output_type": "stream",
     "text": [
      " 11%|█         | 1/9 [00:21<02:52, 21.60s/it]"
     ]
    },
    {
     "name": "stdout",
     "output_type": "stream",
     "text": [
      "Non-weighted: 0.04, Weighted: 0.05\n"
     ]
    },
    {
     "name": "stderr",
     "output_type": "stream",
     "text": [
      " 26%|██▌       | 79/309 [00:01<00:05, 44.08it/s]\n"
     ]
    },
    {
     "name": "stdout",
     "output_type": "stream",
     "text": [
      "[('\\n', 43), ('S', 1), (' without', 1), ('’', 1), (' \\\\[[@', 1)]\n",
      "Most common tokens: [  52  187 1293 ... 1712   13   46]\n",
      "Count of most common tokens: [50 50 47 ...  1  1  1]\n",
      "Argsorted indices: [ 469 2328 1248 ...  874 2652  952]\n",
      "Token 50 not found in most_common_tokens\n",
      "Token 50276 not found in most_common_tokens\n",
      "Token 452 not found in most_common_tokens\n",
      "Sorted indices: [2328 2853  419  114 2120  422  469  820  985 2848]\n"
     ]
    },
    {
     "name": "stderr",
     "output_type": "stream",
     "text": [
      " 22%|██▏       | 2/9 [00:41<02:25, 20.73s/it]"
     ]
    },
    {
     "name": "stdout",
     "output_type": "stream",
     "text": [
      "Non-weighted: 0.11, Weighted: 0.13\n"
     ]
    },
    {
     "name": "stderr",
     "output_type": "stream",
     "text": [
      " 26%|██▌       | 79/309 [00:01<00:05, 43.32it/s]\n"
     ]
    },
    {
     "name": "stdout",
     "output_type": "stream",
     "text": [
      "[('\\n', 22), (',', 3), ('.', 3), ('?', 2), ('_', 1)]\n",
      "Most common tokens: [   64    13    15 ... 25825  3331   273]\n",
      "Count of most common tokens: [50 50 50 ...  1  1  1]\n",
      "Argsorted indices: [ 608  320 1924 ... 1244 2321 1920]\n",
      "Token 50 not found in most_common_tokens\n",
      "Token 452 not found in most_common_tokens\n",
      "Sorted indices: [ 211  320 1883 1924 2441 1252  608 1781  663 2856]\n"
     ]
    },
    {
     "name": "stderr",
     "output_type": "stream",
     "text": [
      " 33%|███▎      | 3/9 [00:59<01:56, 19.41s/it]"
     ]
    },
    {
     "name": "stdout",
     "output_type": "stream",
     "text": [
      "Non-weighted: 0.66, Weighted: 0.69\n"
     ]
    },
    {
     "name": "stderr",
     "output_type": "stream",
     "text": [
      " 26%|██▌       | 79/309 [00:01<00:05, 40.21it/s]\n"
     ]
    },
    {
     "name": "stdout",
     "output_type": "stream",
     "text": [
      "[('\\n', 15), ('-', 5), ('.', 4), (' of', 2), (' (', 2)]\n",
      "Most common tokens: [  187   253   187 ...  1166    13 22675]\n",
      "Count of most common tokens: [50 50 50 ...  1  1  1]\n",
      "Argsorted indices: [ 247 1189 1465 ... 1716 1759 1690]\n",
      "Sorted indices: [ 247 3006 2966 1663 1189 2881 1565 2589 2583 2359]\n"
     ]
    },
    {
     "name": "stderr",
     "output_type": "stream",
     "text": [
      " 44%|████▍     | 4/9 [01:15<01:30, 18.05s/it]"
     ]
    },
    {
     "name": "stdout",
     "output_type": "stream",
     "text": [
      "Non-weighted: 0.88, Weighted: 0.90\n"
     ]
    },
    {
     "name": "stderr",
     "output_type": "stream",
     "text": [
      " 26%|██▌       | 79/309 [00:01<00:05, 42.06it/s]\n"
     ]
    },
    {
     "name": "stdout",
     "output_type": "stream",
     "text": [
      "[('\\n', 23), (',', 9), ('-', 4), (' the', 3), ('.', 3)]\n",
      "Most common tokens: [   14   187   187 ...  8446    20 20762]\n",
      "Count of most common tokens: [49 49 49 ...  1  1  1]\n",
      "Argsorted indices: [1936 2574 1146 ... 2588 2581  514]\n",
      "Sorted indices: [2574 1904 1936  401 1199   31 1216 2806 1029 2112]\n"
     ]
    },
    {
     "name": "stderr",
     "output_type": "stream",
     "text": [
      " 56%|█████▌    | 5/9 [01:29<01:05, 16.43s/it]"
     ]
    },
    {
     "name": "stdout",
     "output_type": "stream",
     "text": [
      "Non-weighted: 0.59, Weighted: 0.77\n"
     ]
    },
    {
     "name": "stderr",
     "output_type": "stream",
     "text": [
      " 26%|██▌       | 79/309 [00:02<00:06, 38.24it/s]\n"
     ]
    },
    {
     "name": "stdout",
     "output_type": "stream",
     "text": [
      "[('\\n', 28), (',', 7), ('-', 4), (' and', 3), ('.', 2)]\n",
      "Most common tokens: [  187   187   187 ... 30634   811 18997]\n",
      "Count of most common tokens: [50 49 49 ...  1  1  1]\n",
      "Argsorted indices: [  69 2004 1770 ...  759 2839 2208]\n",
      "Sorted indices: [  69 2020 1878 2997 1573 3040 1327 2777  812 2345]\n"
     ]
    },
    {
     "name": "stderr",
     "output_type": "stream",
     "text": [
      " 67%|██████▋   | 6/9 [01:41<00:45, 15.15s/it]"
     ]
    },
    {
     "name": "stdout",
     "output_type": "stream",
     "text": [
      "Non-weighted: 0.65, Weighted: 0.81\n"
     ]
    },
    {
     "name": "stderr",
     "output_type": "stream",
     "text": [
      " 26%|██▌       | 79/309 [00:02<00:06, 37.22it/s]\n"
     ]
    },
    {
     "name": "stdout",
     "output_type": "stream",
     "text": [
      "[('\\n', 28), (',', 5), ('-', 5), (' and', 4), (' (', 2)]\n",
      "Most common tokens: [  346   187   187 ...  3382 20193   285]\n",
      "Count of most common tokens: [50 50 49 ...  1  1  1]\n",
      "Argsorted indices: [ 865 1808  245 ... 2827 1800  548]\n",
      "Sorted indices: [1808 2989 1781 1412 2977 1656   14  137 2102 2485]\n"
     ]
    },
    {
     "name": "stderr",
     "output_type": "stream",
     "text": [
      " 78%|███████▊  | 7/9 [01:53<00:27, 13.94s/it]"
     ]
    },
    {
     "name": "stdout",
     "output_type": "stream",
     "text": [
      "Non-weighted: 0.73, Weighted: 0.83\n"
     ]
    },
    {
     "name": "stderr",
     "output_type": "stream",
     "text": [
      " 26%|██▌       | 79/309 [00:01<00:05, 42.82it/s]\n"
     ]
    },
    {
     "name": "stdout",
     "output_type": "stream",
     "text": [
      "[('\\n', 21), ('.', 7), (',', 7), ('-', 5), (' and', 3)]\n",
      "Most common tokens: [  187   187   187 ...   335  1694 44409]\n",
      "Count of most common tokens: [49 49 48 ...  1  1  1]\n",
      "Argsorted indices: [1319 1767 2268 ... 2082  825 2260]\n",
      "Sorted indices: [1319  555 2388  560  228  991  482 2724 2847 1690]\n"
     ]
    },
    {
     "name": "stderr",
     "output_type": "stream",
     "text": [
      " 89%|████████▉ | 8/9 [02:06<00:13, 13.68s/it]"
     ]
    },
    {
     "name": "stdout",
     "output_type": "stream",
     "text": [
      "Non-weighted: 0.66, Weighted: 0.73\n"
     ]
    },
    {
     "name": "stderr",
     "output_type": "stream",
     "text": [
      " 26%|██▌       | 79/309 [00:01<00:05, 43.38it/s]\n"
     ]
    },
    {
     "name": "stdout",
     "output_type": "stream",
     "text": [
      "[(',', 35), ('\\n', 7), ('Q', 2), (' the', 1), (' to', 1)]\n",
      "Most common tokens: [ 187  253  187 ...  187 3090  369]\n",
      "Count of most common tokens: [18 15 15 ...  2  2  2]\n",
      "Argsorted indices: [1671 2230 2098 ... 2518  445  121]\n",
      "Token 247 not found in most_common_tokens\n",
      "Token 273 not found in most_common_tokens\n",
      "Token 313 not found in most_common_tokens\n",
      "Token 275 not found in most_common_tokens\n",
      "Token 27 not found in most_common_tokens\n",
      "Token 457 not found in most_common_tokens\n",
      "Token 16 not found in most_common_tokens\n",
      "Token 326 not found in most_common_tokens\n",
      "Token 352 not found in most_common_tokens\n",
      "Token 310 not found in most_common_tokens\n",
      "Token 50276 not found in most_common_tokens\n",
      "Token 452 not found in most_common_tokens\n",
      "Sorted indices: [1671 1657 1756  994 2230 2187 1687  317 1671 1671]\n"
     ]
    },
    {
     "name": "stderr",
     "output_type": "stream",
     "text": [
      "100%|██████████| 9/9 [02:17<00:00, 15.26s/it]"
     ]
    },
    {
     "name": "stdout",
     "output_type": "stream",
     "text": [
      "Non-weighted: 0.07, Weighted: 0.08\n"
     ]
    },
    {
     "name": "stderr",
     "output_type": "stream",
     "text": [
      "\n"
     ]
    }
   ],
   "source": [
    "from torch.utils.data import DataLoader\n",
    "from tqdm.auto import tqdm\n",
    "from einops import rearrange\n",
    "from collections import Counter\n",
    "\n",
    "layer = 4\n",
    "setting = \"residual\"\n",
    "\n",
    "if setting == \"residual\":\n",
    "    cache_name = f\"blocks.{layer}.hook_resid_post\"\n",
    "    neurons = model.cfg.d_model\n",
    "elif setting == \"mlp\":\n",
    "    cache_name = f\"blocks.{layer}.mlp.hook_post\"\n",
    "    neurons = model.cfg.d_mlp\n",
    "elif setting == \"attention\":\n",
    "    cache_name = f\"blocks.{layer}.hook_attn_out\"\n",
    "    neurons = model.cfg.d_model\n",
    "elif setting == \"mlp_out\":\n",
    "    cache_name = f\"blocks.{layer}.hook_mlp_out\"\n",
    "    neurons = model.cfg.d_model\n",
    "else:\n",
    "    raise NotImplementedError\n",
    "\n",
    "# autoencoder_filename = \"/home/mchorse/logan/sparse_coding/output_sweep_tied_mlpout_l1_r8/_9/learned_dicts.pt\"\n",
    "# autoencoder_filename = \"/home/mchorse/logan/sparse_coding/output_sweep_tied_mlpout_l2_r4/_19/learned_dicts.pt\"\n",
    "autoencoder_filename = f\"/mnt/ssd-cluster/longrun2408/tied_residual_l{layer}_r6/_31/learned_dicts.pt\"\n",
    "all_autoencoders = torch.load(autoencoder_filename)\n",
    "num_dictionaries = len(all_autoencoders)\n",
    "l1_alphas = []\n",
    "all_monosemanticities_non_weighted = []\n",
    "all_monosemanticities_weighted = []\n",
    "cheap_monosemanticities = []\n",
    "for auto_num in tqdm(range(num_dictionaries)):\n",
    "    autoencoder, hyperparams = all_autoencoders[auto_num]\n",
    "    autoencoder.to_device(device)\n",
    "    l1_alphas.append(hyperparams['l1_alpha'])\n",
    "\n",
    "    topk = 50\n",
    "    search_first = 100000\n",
    "    threshold = 0.1\n",
    "    tokens_to_check = [187, 13, 14, 15, 253, 285, 50, 281, 247, 273, 313, 275, 27, 457, 16, 326, 352, 310, 50276, 452]\n",
    "\n",
    "    # Now we can use the model to get the activations\n",
    "    features, neurons = autoencoder.encoder.shape\n",
    "    datapoints = dataset.num_rows\n",
    "    batch_size = 32\n",
    "    neuron_activations = torch.zeros((datapoints*token_amount, neurons))\n",
    "    dictionary_activations = torch.zeros((datapoints*token_amount, features))\n",
    "    all_tokens = torch.zeros((datapoints*token_amount), dtype=torch.int64)\n",
    "\n",
    "    with torch.no_grad(), dataset.formatted_as(\"pt\"):\n",
    "        dl = DataLoader(dataset[\"input_ids\"], batch_size=batch_size)\n",
    "        for i, batch in enumerate(tqdm(dl)):\n",
    "            all_tokens[i*batch_size*token_amount:(i+1)*batch_size*token_amount] = batch.reshape(-1)\n",
    "            _, cache = model.run_with_cache(batch.to(device))\n",
    "            batched_neuron_activations = rearrange(cache[cache_name], \"b s n -> (b s) n\" )\n",
    "            neuron_activations[i*batch_size*token_amount:(i+1)*batch_size*token_amount,:] = batched_neuron_activations.cpu()\n",
    "            batched_dictionary_activations = autoencoder.encode(batched_neuron_activations)\n",
    "            dictionary_activations[i*batch_size*token_amount:(i+1)*batch_size*token_amount,:] = batched_dictionary_activations.cpu()\n",
    "            if(i*batch_size*token_amount > search_first):\n",
    "                break\n",
    "    # Better feature search for token level features\n",
    "    # Find top-k activating features index for each feature\n",
    "    num_data, num_features = dictionary_activations.shape\n",
    "    topk_features = torch.arange(topk).repeat(num_features, 1)\n",
    "    for i in range(num_features):\n",
    "        # topk_features[i] = torch.topk(dictionary_activations[:search_first, i], topk)[1]\n",
    "        # Convert feature index into (datapoint, seq) index\n",
    "        activations = dictionary_activations[:search_first, i]\n",
    "        sorted_indices = torch.argsort(activations)  # Sort activations\n",
    "        non_zero_indices = sorted_indices[activations[sorted_indices] > threshold]  # Select only non-zero activations\n",
    "        \n",
    "        if len(non_zero_indices) < 10:  # No non-zero activations for this feature\n",
    "            continue\n",
    "\n",
    "        # # Take 'topk' evenly spaced samples from non_zero_indices\n",
    "        selected_indices = torch.linspace(0, len(non_zero_indices) - 1, steps=topk).long()\n",
    "        topk_features[i] = non_zero_indices[selected_indices]\n",
    "        # topk_features[i] = torch.cat((non_zero_indices[selected_indices][:topk//2], non_zero_indices[selected_indices][-(topk//2):]))\n",
    "    topk_features = topk_features.long()\n",
    "    topk_tokens = torch.gather(all_tokens[:search_first], 0, topk_features.flatten()).reshape(topk_features.shape)\n",
    "\n",
    "\n",
    "    most_common_tokens = []\n",
    "    most_common_tokens_count = []\n",
    "    for feature_tokens in topk_tokens.numpy():\n",
    "        token_counter = Counter(feature_tokens)\n",
    "        most_common_token, count = token_counter.most_common(1)[0]\n",
    "        \n",
    "        most_common_tokens.append(most_common_token)\n",
    "        most_common_tokens_count.append(count)\n",
    "\n",
    "    # Convert to NumPy arrays for further manipulation\n",
    "    most_common_tokens = np.array(most_common_tokens)\n",
    "    most_common_tokens_count = np.array(most_common_tokens_count)\n",
    "\n",
    "    # Argsort the array\n",
    "    sorted_indices = np.argsort(most_common_tokens_count)[::-1]\n",
    "\n",
    "    most_com_tok = most_common_tokens[sorted_indices][:50]\n",
    "    # Count the number of times each token appears\n",
    "    c =  Counter(most_com_tok).most_common(5)\n",
    "    print([(model.tokenizer.decode([x[0]]), x[1]) for x in c])\n",
    "    print(\"Most common tokens:\", most_common_tokens[sorted_indices])\n",
    "    print(\"Count of most common tokens:\", most_common_tokens_count[sorted_indices])\n",
    "    print(\"Argsorted indices:\", sorted_indices)\n",
    "\n",
    "    cheap_monosemanticities.append((most_common_tokens_count[sorted_indices][:50] / topk).mean().item())\n",
    "\n",
    "\n",
    "    # Find the first index of each token in tokens_to_check in most_common_tokens[sorted_indices]\n",
    "    first_indices = []\n",
    "    failed_indices = []\n",
    "    for i, token in enumerate(tokens_to_check):\n",
    "        try:\n",
    "            first_indices.append(np.where(most_common_tokens[sorted_indices] == token)[0][0])\n",
    "        except IndexError: # Token not found\n",
    "            first_indices.append(0)\n",
    "            failed_indices.append(i)\n",
    "            print(f\"Token {token} not found in most_common_tokens\")\n",
    "    # Use that to find the indices\n",
    "    sorted_indices[first_indices]\n",
    "    print(f\"Sorted indices: {sorted_indices[first_indices][:10]}\")\n",
    "    # find the mean non_weight & weighted \n",
    "    non_weighted = []\n",
    "    act_weighted = []\n",
    "    for feat, tok in zip(sorted_indices[first_indices], tokens_to_check):\n",
    "        feature_activation = dictionary_activations[:, feat]\n",
    "        #1. Find num of nonzero elements\n",
    "        nonzeros = torch.nonzero(feature_activation)[:,0]\n",
    "        num_nonzeros = len(nonzeros)\n",
    "        act_nonzeros_sum = torch.sum(feature_activation)\n",
    "        #2. Find num of this specific token\n",
    "        token_mask_nonzero = (all_tokens[nonzeros] == tok)\n",
    "        num_tokens = token_mask_nonzero.sum()\n",
    "        act_token_sum = torch.sum(feature_activation[nonzeros][token_mask_nonzero])\n",
    "        non_weighted.append(num_tokens/num_nonzeros)\n",
    "        act_weighted.append(act_token_sum/act_nonzeros_sum)\n",
    "        # Set the values to zero for non_weighted & act_weighted for failed indices\n",
    "    for i in failed_indices:\n",
    "        non_weighted[i] = 0\n",
    "        act_weighted[i] = 0\n",
    "        # print(f\"Non-weighted: {non_weighted:.2f}, Weighted: {act_weighted:.2f}\")\n",
    "    print(f\"Non-weighted: {np.mean(non_weighted):.2f}, Weighted: {np.mean(act_weighted):.2f}\")\n",
    "    all_monosemanticities_non_weighted.append(np.mean(non_weighted))\n",
    "    all_monosemanticities_weighted.append(np.mean(act_weighted))"
   ]
  },
  {
   "cell_type": "code",
   "execution_count": 24,
   "metadata": {},
   "outputs": [
    {
     "data": {
      "text/plain": [
       "array([11,  9,  7,  6,  5,  5,  4,  3,  2,  2,  2,  2,  2,  2,  2,  1,  1,\n",
       "        1,  1,  1,  1,  1,  1,  1,  1,  1,  1,  1,  1,  1,  1,  1,  1,  1,\n",
       "        1,  1,  1,  1,  1,  1,  1,  1,  1,  1,  1,  1,  1,  1,  1,  1])"
      ]
     },
     "execution_count": 24,
     "metadata": {},
     "output_type": "execute_result"
    }
   ],
   "source": [
    "most_common_tokens_count[sorted_indices][:50]"
   ]
  },
  {
   "cell_type": "code",
   "execution_count": null,
   "metadata": {},
   "outputs": [],
   "source": []
  },
  {
   "cell_type": "code",
   "execution_count": 3,
   "metadata": {},
   "outputs": [
    {
     "data": {
      "image/png": "[encoded data removed]",
      "text/plain": [
       "<Figure size 640x480 with 1 Axes>"
      ]
     },
     "metadata": {},
     "output_type": "display_data"
    }
   ],
   "source": [
    "# Plot both all_monosemanticities_non_weighted & all_monosemanticities_weighted\n",
    "import matplotlib.pyplot as plt\n",
    "plt.plot(l1_alphas, all_monosemanticities_non_weighted, label=\"Non-weighted\")\n",
    "plt.plot(l1_alphas, all_monosemanticities_weighted, label=\"Weighted\")\n",
    "plt.plot(l1_alphas, cheap_monosemanticities, label=\"Top-50 Most Monosemantic\")\n",
    "plt.xlabel(\"L1 Alpha\")\n",
    "plt.ylabel(\"Monosemanticity\")\n",
    "#logscale x\n",
    "plt.xscale(\"log\")\n",
    "\n",
    "plt.legend()\n",
    "plt.show()"
   ]
  },
  {
   "cell_type": "code",
   "execution_count": 4,
   "metadata": {},
   "outputs": [
    {
     "data": {
      "text/plain": [
       "([0.0,\n",
       "  9.999999747378752e-05,\n",
       "  0.00019306977628730237,\n",
       "  0.000372759357560426,\n",
       "  0.0007196856895461679,\n",
       "  0.0013894954463467002,\n",
       "  0.0026826958637684584,\n",
       "  0.005179474595934153,\n",
       "  0.009999999776482582],\n",
       " [0.1812,\n",
       "  0.2648,\n",
       "  0.9755999999999999,\n",
       "  0.9983999999999998,\n",
       "  0.8071999999999998,\n",
       "  0.848,\n",
       "  0.8976,\n",
       "  0.8491999999999998,\n",
       "  0.09519999999999999])"
      ]
     },
     "execution_count": 4,
     "metadata": {},
     "output_type": "execute_result"
    }
   ],
   "source": [
    "l1_alphas, cheap_monosemanticities"
   ]
  },
  {
   "cell_type": "code",
   "execution_count": 13,
   "metadata": {},
   "outputs": [
    {
     "data": {
      "text/plain": [
       "'It'"
      ]
     },
     "execution_count": 13,
     "metadata": {},
     "output_type": "execute_result"
    }
   ],
   "source": [
    "model.tokenizer.decode([1147])"
   ]
  }
 ],
 "metadata": {
  "kernelspec": {
   "display_name": "logan",
   "language": "python",
   "name": "python3"
  },
  "language_info": {
   "codemirror_mode": {
    "name": "ipython",
    "version": 3
   },
   "file_extension": ".py",
   "mimetype": "text/x-python",
   "name": "python",
   "nbconvert_exporter": "python",
   "pygments_lexer": "ipython3",
   "version": "3.10.6"
  },
  "orig_nbformat": 4
 },
 "nbformat": 4,
 "nbformat_minor": 2
}
