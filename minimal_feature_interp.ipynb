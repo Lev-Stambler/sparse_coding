{
 "cells": [
  {
   "cell_type": "code",
   "execution_count": 1,
   "metadata": {},
   "outputs": [
    {
     "name": "stderr",
     "output_type": "stream",
     "text": [
      "/home/mchorse/miniconda3/envs/logan/lib/python3.10/site-packages/tqdm/auto.py:21: TqdmWarning: IProgress not found. Please update jupyter and ipywidgets. See https://ipywidgets.readthedocs.io/en/stable/user_install.html\n",
      "  from .autonotebook import tqdm as notebook_tqdm\n"
     ]
    }
   ],
   "source": [
    "import torch\n",
    "from transformer_lens import HookedTransformer\n",
    "import numpy as np \n",
    "from torch import nn\n",
    "import pickle\n",
    "\n",
    "# # Define the autoencoder so pickle knows how to serialize it. \n",
    "# # Later, we should actually save as a state_dict instead of a dumb pickle\n",
    "# class AutoEncoder(nn.Module):\n",
    "#     def __init__(self, activation_size, n_dict_components, t_type=torch.float32, l1_coef=0.0):\n",
    "#         super(AutoEncoder, self).__init__()\n",
    "        \n",
    "#         # Only defining the decoder layer, encoder will share its weights\n",
    "#         self.decoder = nn.Linear(n_dict_components, activation_size, bias=True)\n",
    "#         # Create a bias layer\n",
    "#         self.encoder_bias= nn.Parameter(torch.zeros(n_dict_components))\n",
    "\n",
    "        \n",
    "#         # Initialize the decoder weights orthogonally\n",
    "#         nn.init.orthogonal_(self.decoder.weight)\n",
    "#         self.decoder = self.decoder.to(t_type)\n",
    "\n",
    "#         # Encoder is a Sequential with the ReLU activation\n",
    "#         # No need to define a Linear layer for the encoder as its weights are tied with the decoder\n",
    "#         self.encoder = nn.Sequential(nn.ReLU()).to(t_type)\n",
    "\n",
    "#         self.l1_coef = l1_coef\n",
    "#         self.activation_size = activation_size\n",
    "#         self.n_dict_components = n_dict_components\n",
    "\n",
    "#     def forward(self, x):\n",
    "#         c = self.encoder(x @ self.decoder.weight + self.encoder_bias)\n",
    "#         # Apply unit norm constraint to the decoder weights\n",
    "#         self.decoder.weight.data = nn.functional.normalize(self.decoder.weight.data, dim=0)\n",
    "\n",
    "#         # Decoding step as before\n",
    "#         x_hat = self.decoder(c)\n",
    "#         return x_hat, c\n",
    "\n",
    "\n",
    "#     @property\n",
    "#     def device(self):\n",
    "#         return next(self.parameters()).device\n",
    "all_autoencoders = torch.load(\"/home/mchorse/sparse_coding_aidan_new/output_4_rd_deep/_7/learned_dicts.pt\")\n",
    "num_dictionaries = len(all_autoencoders)\n",
    "autoencoder, hyperparams = all_autoencoders[7]\n",
    "l1_alpha = hyperparams['l1_alpha']\n",
    "\n",
    "autoencoder_larger, hyperparams_larger = all_autoencoders[5]"
   ]
  },
  {
   "attachments": {},
   "cell_type": "markdown",
   "metadata": {},
   "source": [
    "# Load Dictionaries"
   ]
  },
  {
   "cell_type": "code",
   "execution_count": 2,
   "metadata": {},
   "outputs": [
    {
     "name": "stderr",
     "output_type": "stream",
     "text": [
      "Using pad_token, but it is not set yet.\n"
     ]
    },
    {
     "name": "stdout",
     "output_type": "stream",
     "text": [
      "Loaded pretrained model EleutherAI/pythia-70m-deduped into HookedTransformer\n"
     ]
    }
   ],
   "source": [
    "\n",
    "#Change these settings to load the correct autoencoder\n",
    "layer = 2\n",
    "setting = \"residual\"\n",
    "model_name = \"EleutherAI/pythia-70m-deduped\"\n",
    "# model_name = \"EleutherAI/pythia-1.4b-deduped\"\n",
    "# filename = \"1bautoencoder.pkl\"\n",
    "# filename = \"pythia70m_layer2_residual_tied_ (1).pkl\"\n",
    "\n",
    "device = torch.device(\"cuda:3\" if torch.cuda.is_available() else \"cpu\")\n",
    "model = HookedTransformer.from_pretrained(model_name, device=device)\n",
    "\n",
    "if setting == \"residual\":\n",
    "    cache_name = f\"blocks.{layer}.hook_resid_post\"\n",
    "    neurons = model.cfg.d_model\n",
    "elif setting == \"mlp\":\n",
    "    cache_name = f\"blocks.{layer}.mlp.hook_post\"\n",
    "    neurons = model.cfg.d_mlp\n",
    "else:\n",
    "    raise NotImplementedError\n",
    "\n",
    "\n",
    "# # Load the pickle file\n",
    "# with open(filename, 'rb') as file:\n",
    "#     autoencoders = pickle.load(file)\n",
    "\n",
    "# Index for l1 value, usually only 1 value is available\n",
    "# l1_index = 0\n",
    "# dictionaries = [autoencoder.decoder.weight.data.T for autoencoder in autoencoders[l1_index]]\n",
    "# for d in dictionaries:\n",
    "#     print(d.shape)\n",
    "# print(\"len of autoencoders: \", len(autoencoders))\n",
    "# dict_index = 2\n",
    "# smaller_dict, larger_dict = dictionaries[dict_index], dictionaries[dict_index+1]\n",
    "smaller_dict = autoencoder.get_learned_dict()\n",
    "larger_dict = autoencoder_larger.get_learned_dict()\n",
    "# smaller_auto_encoder, larger_auto_encoder = autoencoders[l1_index][dict_index], autoencoders[l1_index][dict_index+1]"
   ]
  },
  {
   "cell_type": "code",
   "execution_count": null,
   "metadata": {},
   "outputs": [],
   "source": [
    "smaller_dict.shape, larger_dict.shape"
   ]
  },
  {
   "cell_type": "code",
   "execution_count": null,
   "metadata": {},
   "outputs": [],
   "source": [
    "smaller_dict.shape, l1_alpha"
   ]
  },
  {
   "attachments": {},
   "cell_type": "markdown",
   "metadata": {},
   "source": [
    "# MCS\n",
    "Max cosine similarity between one dictionary & another one. If they learned the same feature, then they'll have high cosine similarity. \n",
    "\n",
    "If two dictionaries learned it, it's probably a real feature."
   ]
  },
  {
   "cell_type": "code",
   "execution_count": 3,
   "metadata": {},
   "outputs": [
    {
     "name": "stdout",
     "output_type": "stream",
     "text": [
      "('# of features above 0.9:', 0)\n"
     ]
    },
    {
     "data": {
      "image/png": "[encoded data removed]",
      "text/plain": [
       "<Figure size 640x480 with 1 Axes>"
      ]
     },
     "metadata": {},
     "output_type": "display_data"
    }
   ],
   "source": [
    "from scipy.optimize import linear_sum_assignment\n",
    "import matplotlib.pyplot as plt\n",
    "#Dictionary Comparison\n",
    "smaller_dict_features, _ = smaller_dict.shape\n",
    "larger_dict_features, _ = larger_dict.shape\n",
    "larger_dict = larger_dict.to(device)\n",
    "# Hungary algorithm\n",
    "# Calculate all cosine similarities and store in a 2D array\n",
    "cos_sims = np.zeros((smaller_dict_features, larger_dict_features))\n",
    "for idx, vector in enumerate(smaller_dict):\n",
    "    cos_sims[idx] = torch.nn.functional.cosine_similarity(vector.to(device), larger_dict, dim=1).cpu().numpy()\n",
    "# Convert to a minimization problem\n",
    "cos_sims = 1 - cos_sims\n",
    "# Use the Hungarian algorithm to solve the assignment problem\n",
    "row_ind, col_ind = linear_sum_assignment(cos_sims)\n",
    "# Retrieve the max cosine similarities and corresponding indices\n",
    "max_cosine_similarities = 1 - cos_sims[row_ind, col_ind]\n",
    "\n",
    "# Get the indices of the max cosine similarities in descending order\n",
    "max_indices = np.argsort(max_cosine_similarities)[::-1]\n",
    "max_cosine_similarities[max_indices][:20]\n",
    "print((\"# of features above 0.9:\", (max_cosine_similarities > .9).sum()))\n",
    "# Plot histogram of max_cosine_similarities\n",
    "plt.hist(max_cosine_similarities, bins=20)\n",
    "plt.show()"
   ]
  },
  {
   "attachments": {},
   "cell_type": "markdown",
   "metadata": {},
   "source": [
    "# Model activations & Dictionary Activations"
   ]
  },
  {
   "cell_type": "code",
   "execution_count": 4,
   "metadata": {},
   "outputs": [
    {
     "name": "stderr",
     "output_type": "stream",
     "text": [
      "Found cached dataset parquet (/home/mchorse/.cache/huggingface/datasets/NeelNanda___parquet/NeelNanda--pile-10k-72f566e9f7c464ab/0.0.0/2a3b91fbd88a2c90d1dbbb32b460cf621d31bd5b05b934492fdef7d8d6f236ec)\n",
      "Loading cached processed dataset at /home/mchorse/.cache/huggingface/datasets/NeelNanda___parquet/NeelNanda--pile-10k-72f566e9f7c464ab/0.0.0/2a3b91fbd88a2c90d1dbbb32b460cf621d31bd5b05b934492fdef7d8d6f236ec/cache-ed7f2edc0483960e.arrow\n",
      "Loading cached processed dataset at /home/mchorse/.cache/huggingface/datasets/NeelNanda___parquet/NeelNanda--pile-10k-72f566e9f7c464ab/0.0.0/2a3b91fbd88a2c90d1dbbb32b460cf621d31bd5b05b934492fdef7d8d6f236ec/cache-965cfb5b1daceda6.arrow\n",
      "Loading cached processed dataset at /home/mchorse/.cache/huggingface/datasets/NeelNanda___parquet/NeelNanda--pile-10k-72f566e9f7c464ab/0.0.0/2a3b91fbd88a2c90d1dbbb32b460cf621d31bd5b05b934492fdef7d8d6f236ec/cache-b01c7d09751dca4c.arrow\n"
     ]
    }
   ],
   "source": [
    "# Downnload dataset\n",
    "from datasets import Dataset, load_dataset\n",
    "dataset_name = \"NeelNanda/pile-10k\"\n",
    "token_amount= 60\n",
    "dataset = load_dataset(dataset_name, split=\"train\").map(\n",
    "    lambda x: model.tokenizer(x['text']),\n",
    "    batched=True,\n",
    ").filter(\n",
    "    lambda x: len(x['input_ids']) > token_amount\n",
    ").map(\n",
    "    lambda x: {'input_ids': x['input_ids'][:token_amount]}\n",
    ")"
   ]
  },
  {
   "cell_type": "code",
   "execution_count": 5,
   "metadata": {},
   "outputs": [
    {
     "name": "stderr",
     "output_type": "stream",
     "text": [
      "100%|██████████| 605/605 [00:13<00:00, 45.35it/s]\n"
     ]
    }
   ],
   "source": [
    "# Now we can use the model to get the activations\n",
    "from torch.utils.data import DataLoader\n",
    "from tqdm.auto import tqdm\n",
    "from einops import rearrange\n",
    "# neurons = model.W_in.shape[-1]\n",
    "neurons = model.cfg.d_model\n",
    "datapoints = dataset.num_rows\n",
    "batch_size = 16\n",
    "neuron_activations = torch.zeros((datapoints*token_amount, neurons))\n",
    "dictionary_activations = torch.zeros((datapoints*token_amount, smaller_dict_features))\n",
    "smaller_auto_encoder = autoencoder\n",
    "smaller_auto_encoder.to_device(device)\n",
    "\n",
    "with torch.no_grad(), dataset.formatted_as(\"pt\"):\n",
    "    dl = DataLoader(dataset[\"input_ids\"], batch_size=batch_size)\n",
    "    for i, batch in enumerate(tqdm(dl)):\n",
    "        _, cache = model.run_with_cache(batch.to(device))\n",
    "        batched_neuron_activations = rearrange(cache[cache_name], \"b s n -> (b s) n\" )\n",
    "        neuron_activations[i*batch_size*token_amount:(i+1)*batch_size*token_amount,:] = batched_neuron_activations.cpu()\n",
    "        batched_dictionary_activations = smaller_auto_encoder.encode(batched_neuron_activations)\n",
    "        dictionary_activations[i*batch_size*token_amount:(i+1)*batch_size*token_amount,:] = batched_dictionary_activations.cpu()"
   ]
  },
  {
   "cell_type": "code",
   "execution_count": null,
   "metadata": {},
   "outputs": [],
   "source": [
    "v = neuron_activations.max(dim=0).values\n",
    "print(v.topk(10, largest=True))\n",
    "print(\"Median: \", v.median().item())"
   ]
  },
  {
   "cell_type": "code",
   "execution_count": null,
   "metadata": {},
   "outputs": [],
   "source": [
    "v = neuron_activations.min(dim=0).values\n",
    "print(v.topk(10, largest=False))\n",
    "print(\"Median: \", v.median().item())"
   ]
  },
  {
   "cell_type": "code",
   "execution_count": null,
   "metadata": {},
   "outputs": [],
   "source": [
    "neuron_activations.min()"
   ]
  },
  {
   "cell_type": "code",
   "execution_count": null,
   "metadata": {},
   "outputs": [],
   "source": [
    "# Find number of non-zero activations in dictionary_activations\n",
    "(dictionary_activations[:100000] > 0).sum(dim=0).topk(10) "
   ]
  },
  {
   "cell_type": "code",
   "execution_count": null,
   "metadata": {},
   "outputs": [],
   "source": [
    "(dictionary_activations[:100000] > 0.2).sum(dim=0).topk(10)"
   ]
  },
  {
   "cell_type": "code",
   "execution_count": null,
   "metadata": {},
   "outputs": [],
   "source": [
    "(dictionary_activations > 0.0).sum(dim=0).topk(10).values / dictionary_activations.shape[0]"
   ]
  },
  {
   "cell_type": "code",
   "execution_count": null,
   "metadata": {},
   "outputs": [],
   "source": [
    "dictionary_activations.shape"
   ]
  },
  {
   "attachments": {},
   "cell_type": "markdown",
   "metadata": {},
   "source": [
    "# Feature Activation Analysis"
   ]
  },
  {
   "cell_type": "markdown",
   "metadata": {},
   "source": [
    "## Useful Functions"
   ]
  },
  {
   "cell_type": "code",
   "execution_count": 6,
   "metadata": {},
   "outputs": [],
   "source": [
    "from circuitsvis.activations import text_neuron_activations\n",
    "# Get the activations for the best dict features\n",
    "def get_feature_datapoints(feature_index, dictionary_activations, dataset, k=10, setting=\"max\"):\n",
    "    best_feature_activations = dictionary_activations[:, feature_index]\n",
    "    # Sort the features by activation, get the indices\n",
    "    if setting==\"max\":\n",
    "        found_indices = torch.argsort(best_feature_activations, descending=True)[:k]\n",
    "    elif setting==\"uniform\":\n",
    "        min_value = torch.min(best_feature_activations)\n",
    "        max_value = torch.max(best_feature_activations)\n",
    "\n",
    "        # Define the number of bins\n",
    "        num_bins = k\n",
    "\n",
    "        # Calculate the bin boundaries as linear interpolation between min and max\n",
    "        bin_boundaries = torch.linspace(min_value, max_value, num_bins + 1)\n",
    "\n",
    "        # Assign each activation to its respective bin\n",
    "        bins = torch.bucketize(best_feature_activations, bin_boundaries)\n",
    "\n",
    "        # Initialize a list to store the sampled indices\n",
    "        sampled_indices = []\n",
    "\n",
    "        # Sample from each bin\n",
    "        for bin_idx in torch.unique(bins):\n",
    "            # Get the indices corresponding to the current bin\n",
    "            bin_indices = torch.nonzero(bins == bin_idx, as_tuple=False).squeeze(dim=1)\n",
    "            \n",
    "            # Randomly sample from the current bin\n",
    "            sampled_indices.extend(np.random.choice(bin_indices, size=1, replace=False))\n",
    "\n",
    "        # Convert the sampled indices to a PyTorch tensor & reverse order\n",
    "        found_indices = torch.tensor(sampled_indices).long().flip(dims=[0])\n",
    "    else: # random\n",
    "        # get nonzero indices\n",
    "        nonzero_indices = torch.nonzero(best_feature_activations)[:, 0]\n",
    "        # shuffle\n",
    "        shuffled_indices = nonzero_indices[torch.randperm(nonzero_indices.shape[0])]\n",
    "        found_indices = shuffled_indices[:k]\n",
    "    datapoint_indices =[np.unravel_index(i, (datapoints, token_amount)) for i in found_indices]\n",
    "    text_list = []\n",
    "    full_text = []\n",
    "    token_list = []\n",
    "    full_token_list = []\n",
    "    for md, s_ind in datapoint_indices:\n",
    "        md = int(md)\n",
    "        s_ind = int(s_ind)\n",
    "        full_tok = torch.tensor(dataset[md][\"input_ids\"])\n",
    "        full_text.append(model.tokenizer.decode(full_tok))\n",
    "        tok = dataset[md][\"input_ids\"][:s_ind+1]\n",
    "        text = model.tokenizer.decode(tok)\n",
    "        text_list.append(text)\n",
    "        token_list.append(tok)\n",
    "        full_token_list.append(full_tok)\n",
    "    return text_list, full_text, token_list, full_token_list\n",
    "\n",
    "def get_neuron_activation(token, feature, model, setting=\"dictionary_basis\"):\n",
    "    with torch.no_grad():\n",
    "        _, cache = model.run_with_cache(token.to(model.cfg.device))\n",
    "        neuron_act_batch = cache[cache_name]\n",
    "        if setting==\"dictionary_basis\":\n",
    "            neuron_act_batch = rearrange(neuron_act_batch, \"b s n -> (b s) n\" )\n",
    "            act = smaller_auto_encoder.encode(neuron_act_batch)\n",
    "            return act[:, feature].tolist()\n",
    "        else: # neuron/residual basis\n",
    "            return neuron_act_batch[0, :, feature].tolist()\n",
    "\n",
    "def ablate_text(text, feature, model, setting=\"plot\"):\n",
    "    if isinstance(text, str):\n",
    "        text = [text]\n",
    "    display_text_list = []\n",
    "    activation_list = []\n",
    "    for t in text:\n",
    "        # Convert text into tokens\n",
    "        if isinstance(t, str): # If the text is a list of tokens\n",
    "            split_text = model.to_str_tokens(t, prepend_bos=False)\n",
    "            tokens = model.to_tokens(t, prepend_bos=False)\n",
    "        else: # t equals tokens\n",
    "            tokens = t\n",
    "            split_text = model.to_str_tokens(t, prepend_bos=False)\n",
    "        seq_size = tokens.shape[1]\n",
    "        if(seq_size == 1): # If the text is a single token, we can't ablate it\n",
    "            continue\n",
    "        original = get_neuron_activation(tokens, feature, model)[-1]\n",
    "        changed_activations = torch.zeros(seq_size, device=device).cpu()\n",
    "        for i in range(seq_size):\n",
    "            # Remove the i'th token from the input\n",
    "            ablated_tokens = torch.cat((tokens[:,:i], tokens[:,i+1:]), dim=1)\n",
    "            changed_activations[i] += get_neuron_activation(ablated_tokens, feature, model)[-1]\n",
    "        changed_activations -= original\n",
    "        display_text_list += [x.replace('\\n', '\\\\newline') for x in split_text] + [\"\\n\"]\n",
    "        activation_list += changed_activations.tolist() + [0.0]\n",
    "    activation_list = torch.tensor(activation_list).reshape(-1,1,1)\n",
    "    if setting == \"plot\":\n",
    "        return text_neuron_activations(tokens=display_text_list, activations=activation_list)\n",
    "    else:\n",
    "        return display_text_list, activation_list\n",
    "def visualize_text(text, feature, model, setting=\"dictionary_basis\", max_activation = None):\n",
    "    if isinstance(text, str):\n",
    "        text = [text]\n",
    "    if isinstance(feature, int):\n",
    "        feature = [feature]\n",
    "    display_text_list = []\n",
    "    act_list = []\n",
    "    for t in text:\n",
    "        if isinstance(t, str): # If the text is a list of tokens\n",
    "            split_text = model.to_str_tokens(t, prepend_bos=False)\n",
    "            token = model.to_tokens(t, prepend_bos=False)\n",
    "        else: # t are tokens\n",
    "            token = t\n",
    "            split_text = model.to_str_tokens(t, prepend_bos=False)\n",
    "        for f in feature:\n",
    "            display_text_list += [x.replace('\\n', '\\\\newline') for x in split_text] + [\"\\n\"]\n",
    "            act_list += get_neuron_activation(token, f, model, setting) + [0.0]\n",
    "    act_list = torch.tensor(act_list).reshape(-1,1,1)\n",
    "    if(max_activation is not None):\n",
    "        act_list = torch.clamp(act_list, max=max_activation)\n",
    "    return text_neuron_activations(tokens=display_text_list, activations=act_list)\n",
    "# Ablate the feature direction of the tokens\n",
    "# token_list is a list of tokens, convert to tensor of shape (batch_size, seq_len)\n",
    "from einops import rearrange\n",
    "def ablate_feature_direction(tokens, feature, model, autoencoder):\n",
    "    def mlp_ablation_hook(value, hook):\n",
    "        # Rearrange to fit autoencoder\n",
    "        int_val = rearrange(value, 'b s h -> (b s) h')\n",
    "\n",
    "        # Run through the autoencoder\n",
    "        _, act = autoencoder(int_val)\n",
    "        feature_to_ablate = feature # TODO: bring this out of the function\n",
    "\n",
    "        # Subtract value with feature direction*act_of_feature\n",
    "        feature_direction = torch.outer(act[:, feature_to_ablate].squeeze(), autoencoder.decoder.weight[:, feature_to_ablate].squeeze())\n",
    "        batch, seq_len, hidden_size = value.shape\n",
    "        feature_direction = rearrange(feature_direction, '(b s) h -> b s h', b=batch, s=seq_len)\n",
    "        value -= feature_direction\n",
    "        return value\n",
    "\n",
    "    return model.run_with_hooks(tokens, \n",
    "        fwd_hooks=[(\n",
    "            cache_name, \n",
    "            mlp_ablation_hook\n",
    "            )]\n",
    "        )\n",
    "def add_feature_direction(tokens, feature, model, autoencoder, scalar=1.0):\n",
    "    def residual_add_hook(value, hook):\n",
    "        feature_direction = autoencoder.decoder.weight[:, feature].squeeze()\n",
    "        value += scalar*feature_direction\n",
    "        return value\n",
    "\n",
    "    return model.run_with_hooks(tokens, \n",
    "        fwd_hooks=[(\n",
    "            cache_name,\n",
    "            residual_add_hook\n",
    "            )]\n",
    "        )\n",
    "def ablate_feature_direction_display(text, features=None, setting=\"true_tokens\", verbose=False):\n",
    "\n",
    "    if features==None:\n",
    "        features = torch.tensor([best_feature])\n",
    "    if isinstance(features, int):\n",
    "        features = torch.tensor([features])\n",
    "    if isinstance(features, list):\n",
    "        features = torch.tensor(features)\n",
    "    if isinstance(text, str):\n",
    "        text = [text]\n",
    "    text_list = []\n",
    "    logit_list = []\n",
    "    for t in text:\n",
    "        tokens = model.to_tokens(t, prepend_bos=False)\n",
    "        with torch.no_grad():\n",
    "            original_logits = model(tokens).log_softmax(-1).cpu()\n",
    "            ablated_logits = ablate_feature_direction(tokens, features, model, smaller_auto_encoder).log_softmax(-1).cpu()\n",
    "        diff_logits = ablated_logits  - original_logits# ablated > original -> negative diff\n",
    "        tokens = tokens.cpu()\n",
    "        if setting == \"true_tokens\":\n",
    "            split_text = model.to_str_tokens(t, prepend_bos=False)\n",
    "            gather_tokens = rearrange(tokens[:,1:], \"b s -> b s 1\") # TODO: verify this is correct\n",
    "            # Gather the logits for the true tokens\n",
    "            diff = rearrange(diff_logits[:, :-1].gather(-1,gather_tokens), \"b s n -> (b s n)\")\n",
    "        elif setting == \"max\":\n",
    "            # Negate the diff_logits to see which tokens have the largest effect on the neuron\n",
    "            val, ind = (-1*diff_logits).max(-1)\n",
    "            diff = rearrange(val[:, :-1], \"b s -> (b s)\")\n",
    "            diff*= -1 # Negate the values gathered\n",
    "            split_text = model.to_str_tokens(ind, prepend_bos=False)\n",
    "            gather_tokens = rearrange(ind[:,1:], \"1 s -> 1 s 1\")\n",
    "        split_text = split_text[1:] # Remove the first token since we're not predicting it\n",
    "        if(verbose):\n",
    "            text_list += [x.replace('\\n', '\\\\newline') for x in split_text] + [\"\\n\"]\n",
    "            text_list += [x.replace('\\n', '\\\\newline') for x in split_text] + [\"\\n\"]\n",
    "            orig = rearrange(original_logits[:, :-1].gather(-1, gather_tokens), \"b s n -> (b s n)\")\n",
    "            ablated = rearrange(ablated_logits[:, :-1].gather(-1, gather_tokens), \"b s n -> (b s n)\")\n",
    "            logit_list += orig.tolist() + [0.0]\n",
    "            logit_list += ablated.tolist() + [0.0]\n",
    "        text_list += [x.replace('\\n', '\\\\newline') for x in split_text] + [\"\\n\"]\n",
    "        logit_list += diff.tolist() + [0.0]\n",
    "    logit_list = torch.tensor(logit_list).reshape(-1,1,1)\n",
    "    if verbose:\n",
    "        print(f\"Max & Min logit-diff: {logit_list.max().item():.2f} & {logit_list.min().item():.2f}\")\n",
    "    return text_neuron_activations(tokens=text_list, activations=logit_list)\n",
    "def generate_text(input_text, num_tokens, model, autoencoder, feature, temperature=0.7, setting=\"add\", scalar=1.0):\n",
    "    # Convert input text to tokens\n",
    "    input_ids = model.tokenizer.encode(input_text, return_tensors='pt').to(device)\n",
    "\n",
    "    for _ in range(num_tokens):\n",
    "        # Generate logits\n",
    "        with torch.no_grad():\n",
    "            if(setting==\"add\"):\n",
    "                logits = add_feature_direction(input_ids, feature, model, autoencoder, scalar=scalar)\n",
    "            else:\n",
    "                logits = model(input_ids)\n",
    "\n",
    "        # Apply temperature\n",
    "        logits = logits / temperature\n",
    "\n",
    "        # Sample from the distribution\n",
    "        probs = torch.nn.functional.softmax(logits[:, -1, :], dim=-1)\n",
    "        predicted_token = torch.multinomial(probs, num_samples=1)\n",
    "\n",
    "        # Append predicted token to input_ids\n",
    "        input_ids = torch.cat((input_ids, predicted_token), dim=-1)\n",
    "\n",
    "    # Decode the tokens to text\n",
    "    output_text = model.tokenizer.decode(input_ids[0])\n",
    "\n",
    "    return output_text\n",
    "\n",
    "# Logit Lens\n",
    "def logit_lens(model, best_feature, smaller_dict, layer):\n",
    "    with torch.no_grad():\n",
    "        # There are never-used tokens, which have high norm. We want to ignore these.\n",
    "        bad_ind = (model.W_U.norm(dim=0) > 20)\n",
    "        feature_direction = smaller_dict[best_feature].to(device)\n",
    "        # feature_direction = torch.matmul(feature_direction, model.W_out[layer]) # if MLP\n",
    "        logits = torch.matmul(feature_direction, model.W_U).cpu()\n",
    "    # Don't include bad indices\n",
    "    logits[bad_ind] = -1000\n",
    "    topk_values, topk_indices = torch.topk(logits, 20)\n",
    "    top_text = model.to_str_tokens(topk_indices)\n",
    "    print(f\"{top_text}\")\n",
    "    print(topk_values)\n"
   ]
  },
  {
   "cell_type": "markdown",
   "metadata": {},
   "source": [
    "# Generate Text\n",
    "You can use the functions below to find interesting features to then add here to \"feature\""
   ]
  },
  {
   "cell_type": "code",
   "execution_count": null,
   "metadata": {},
   "outputs": [],
   "source": [
    "sentence = \" for\"\n",
    "temp = 0.7\n",
    "tokens_to_generate = 20\n",
    "feature = 10 \n",
    "scalar = 100.0\n",
    "# Using the function:\n",
    "print(\"Normal:\\n\" + generate_text(sentence, tokens_to_generate, model, smaller_auto_encoder, feature=feature, temperature=temp, scalar=scalar, setting=\"normal\"))\n",
    "print(\"Add:\\n\" + generate_text(sentence, tokens_to_generate, model, smaller_auto_encoder, feature=feature, temperature=temp, scalar=scalar, setting=\"add\"))"
   ]
  },
  {
   "cell_type": "markdown",
   "metadata": {},
   "source": [
    "# Feature Search\n",
    "Type in a sentence & see which features activate \n",
    "Note: Some features may be outliers, which will typically show up as high activations for the first word & first period or \\n (or high positive bias)."
   ]
  },
  {
   "cell_type": "code",
   "execution_count": null,
   "metadata": {},
   "outputs": [],
   "source": [
    "t = \" I do like a\"\n",
    "split_text = model.to_str_tokens(t, prepend_bos=False)\n",
    "token = model.to_tokens(t, prepend_bos=False)\n",
    "_, cache = model.run_with_cache(token.to(model.cfg.device))\n",
    "neuron_act_batch = cache[cache_name]\n",
    "_, act = smaller_auto_encoder(neuron_act_batch)\n",
    "v, i = act[0, -1, :].topk(10)\n",
    "\n",
    "print(\"Activations:\",[round(val,2) for val in v.tolist()])\n",
    "print(\"Feature_ids\", i.tolist())"
   ]
  },
  {
   "cell_type": "code",
   "execution_count": 8,
   "metadata": {},
   "outputs": [],
   "source": [
    "nz_act = dictionary_activations.cpu().count_nonzero(dim=0)"
   ]
  },
  {
   "cell_type": "code",
   "execution_count": 28,
   "metadata": {},
   "outputs": [
    {
     "data": {
      "text/plain": [
       "tensor(-6.3660)"
      ]
     },
     "execution_count": 28,
     "metadata": {},
     "output_type": "execute_result"
    }
   ],
   "source": [
    "dictionary_activations.min()"
   ]
  },
  {
   "cell_type": "code",
   "execution_count": 29,
   "metadata": {},
   "outputs": [
    {
     "data": {
      "text/plain": [
       "tensor(-12.6967)"
      ]
     },
     "execution_count": 29,
     "metadata": {},
     "output_type": "execute_result"
    }
   ],
   "source": [
    "neuron_activations.min()"
   ]
  },
  {
   "cell_type": "code",
   "execution_count": 14,
   "metadata": {},
   "outputs": [
    {
     "data": {
      "text/plain": [
       "tensor([[ 0],\n",
       "        [ 3],\n",
       "        [ 4],\n",
       "        [ 5],\n",
       "        [ 6],\n",
       "        [ 8],\n",
       "        [10],\n",
       "        [12],\n",
       "        [14],\n",
       "        [16]])"
      ]
     },
     "execution_count": 14,
     "metadata": {},
     "output_type": "execute_result"
    }
   ],
   "source": [
    "nz_act.nonzero()[0:10]"
   ]
  },
  {
   "cell_type": "code",
   "execution_count": null,
   "metadata": {},
   "outputs": [],
   "source": [
    "# Plot as hist\n",
    "plt.hist(nz_act.numpy(), bins=20)\n",
    "plt.show()"
   ]
  },
  {
   "cell_type": "code",
   "execution_count": 25,
   "metadata": {},
   "outputs": [
    {
     "data": {
      "image/png": "[encoded data removed]",
      "text/plain": [
       "<Figure size 640x480 with 1 Axes>"
      ]
     },
     "metadata": {},
     "output_type": "display_data"
    }
   ],
   "source": [
    "# Plot as hist\n",
    "plt.hist(np.minimum(nz_act, 10).numpy(), bins=20)\n",
    "plt.xlabel('Number of non-zero activations for a given feature')\n",
    "plt.title(\"Clamped at 10!\")\n",
    "plt.show()"
   ]
  },
  {
   "cell_type": "code",
   "execution_count": null,
   "metadata": {},
   "outputs": [],
   "source": [
    "# clamp nz_act to be at most 1000\n",
    "clamp_nz_act = np.minimum(nz_act, 1000)"
   ]
  },
  {
   "cell_type": "code",
   "execution_count": 41,
   "metadata": {},
   "outputs": [
    {
     "data": {
      "text/plain": [
       "torch.return_types.topk(\n",
       "values=tensor([580380, 580380, 580380, 580380, 580380, 580380, 580380, 580380, 580380,\n",
       "        580380, 580380, 580380, 580380, 580380, 580380, 580380, 580380, 580380,\n",
       "        580380, 580380, 580380, 580380, 580380, 580380, 580380, 580380, 580380,\n",
       "        580380, 580380, 580380, 580380, 580380, 580380, 580380, 580380, 580380,\n",
       "        580380, 580380, 580380, 580380, 580380, 580380, 580380, 580380, 580380,\n",
       "        580380, 580378, 580376, 580376, 580375, 580326, 579563, 574563, 572567,\n",
       "        571484, 571239, 571140, 570066, 569257, 569040, 569020, 568072, 567984,\n",
       "        567942, 567941, 567936, 567727, 567236, 567014, 566994, 566798, 566063,\n",
       "        565892, 565753, 565376, 565313, 564901, 564752, 564634, 564558, 564495,\n",
       "        563876, 562940, 562734, 562701, 562448, 562203, 561838, 561835, 561810,\n",
       "        561496, 561033, 560993, 560908, 560657, 560578, 560361, 560184, 560173,\n",
       "        559803, 559795, 559414, 559252, 559157, 559146, 558797, 558619, 558597,\n",
       "        558477, 557878, 557876, 557798, 557401, 557224, 557149, 556575, 556454,\n",
       "        556333, 556281, 555664, 555652, 555611, 555537, 555523, 555497, 555483,\n",
       "        555468, 555456, 555450, 555303, 555021, 554824, 554785, 554763, 554680,\n",
       "        554624, 554571, 554412, 554402, 554395, 554360, 554356, 554279, 554145,\n",
       "        554119, 554076, 553938, 553839, 553755, 553704, 553689, 553688, 553583,\n",
       "        553573, 553485, 553433, 553352, 553291, 553257, 553135, 553057, 553013,\n",
       "        552996, 552728, 552607, 552578, 552350, 552308, 552168, 552135, 552090,\n",
       "        551830, 551816, 551762, 551671, 551634, 551628, 551626, 551606, 551336,\n",
       "        551316, 551306, 551298, 551209, 551172, 551154, 551133, 551101, 551001,\n",
       "        550983, 550966, 550909, 550888, 550882, 550809, 550742, 550722, 550697,\n",
       "        550686, 550562, 550398, 550355, 550353, 550276, 550210, 550092, 550043,\n",
       "        549991, 549967, 549897, 549530, 549504, 549441, 549437, 549318, 549045,\n",
       "        549036, 548984, 548945, 548738, 548737, 548329, 548313, 548294, 548158,\n",
       "        548148, 548109, 548090, 547915, 547873, 547861, 547800, 547585, 547472,\n",
       "        547338, 547250, 547248, 547216, 547215, 547179, 547100, 547093, 547063,\n",
       "        546930, 546845, 546677, 546626, 546609, 546573, 546440, 546352, 546292,\n",
       "        546188, 546128, 545988, 545907, 545829, 545614, 545587, 545408, 545333,\n",
       "        545288, 545264, 545049, 545018, 544965, 544933, 544668, 544657, 544618,\n",
       "        544462, 544286, 544189, 544083, 544020, 543950, 543886, 543508, 543486,\n",
       "        543387, 543325, 542789, 542750, 542633, 542349, 542171, 541966, 541678,\n",
       "        541653, 541435, 541134, 540925, 540824, 540807, 540783, 540762, 540283,\n",
       "        540280, 539867, 539855, 539685, 539598, 539395, 538961, 538562, 538451,\n",
       "        538131, 537212, 537201, 537036, 536884, 535999, 535900, 535871, 535788,\n",
       "        535761, 535281, 534713, 534583, 534209, 534166, 534130, 533682, 533278,\n",
       "        533244, 532289, 532262, 531301, 529921, 524644, 514280,  84269,  23203,\n",
       "         21495,  12490,  10943,   9870,   9756,   2850,   2592,   1509,    739,\n",
       "           623,    419,    293,    110,    100,     92,     82,     81]),\n",
       "indices=tensor([ 492, 1113,  287,  463, 1559,   31,  913, 1689,  253, 1774,  909, 1198,\n",
       "        1339, 1734, 1561,  708,  356, 1717,  890,  191,   63, 1219, 1456,  733,\n",
       "        1597, 1840, 1160,  640, 1325,  642, 1380, 1374, 1545,  414,  466, 1426,\n",
       "         139, 1530,  973,  554, 2013,  525,  235,  981, 2016,  317,  915,  293,\n",
       "        1259,  156,  479,  345,  891, 1540, 1034,  720,  747,   62,  755,  364,\n",
       "         341, 1099,  820, 1957, 1988,  372,   95, 1669, 1283, 1403,  912,  318,\n",
       "         524,  848,   87, 1803,  750, 1191, 1914,  927,  308, 1654, 1624, 1177,\n",
       "        1688, 1109, 1345, 1043,  108, 1120,  232, 1049,  899, 1483, 1702,  518,\n",
       "         437, 1982, 1786, 1952, 1608, 1709,  100,  422,  619, 1569, 1672,  351,\n",
       "        1233, 1780,  636, 1251,   82,  130,  999,  841, 1350, 1086,  587,  190,\n",
       "          24,   47, 1343,  117, 1674, 1968, 1977, 1479,  949,   77, 1649,  138,\n",
       "        1616, 1075, 1992, 1806,  421, 1122,  324,  153, 1619, 1155, 1331,  977,\n",
       "        1498, 1273,  313,  482,  402, 1370, 1817,  821,  863,  540,  858,  833,\n",
       "        1342, 1544, 1006,  536, 1020,  352,  331, 1755, 1015, 1065,  204,  705,\n",
       "         431,  295,  788,  760, 1828, 1031, 1508, 2015, 1327,  601, 1963, 1641,\n",
       "         695,  734,  908,  261,   18, 1429,  661, 1611, 1527,  532, 1148, 1552,\n",
       "         543,  741, 1323, 1054, 1264,  939,  911,  172,  125, 1537,  599,  594,\n",
       "        1014,  736,  460,  284, 1889,  633,  285, 1042,  982,  464, 1028, 1733,\n",
       "         387, 1143,  574, 1885, 1718, 2028,  627,  134,  330, 1151,  980,  743,\n",
       "         803,  136, 1105, 1369, 1243,  244, 1386, 1816, 1791, 1180, 1859, 2007,\n",
       "         321, 1081,  552,  157, 1951,  346,  596, 1570, 1274,  380, 1841, 1675,\n",
       "        1610,  579, 1093, 1304,   72,  675,  765, 1235,  894, 1305,  398, 1922,\n",
       "        2026,  732,  393, 1996, 1287,  604,   84,  333, 1030,  972, 1524, 1320,\n",
       "        1581,  476,  188, 1012, 1678, 1229, 1808,  742,    8, 1333,  508, 1041,\n",
       "         652,  323, 1268, 1853,   56,  113, 1948,  876, 1101, 1467, 1965,  794,\n",
       "        1657, 1905, 1908,  114, 1797, 2014, 1820, 1497,  963, 1063, 1881,  336,\n",
       "        1190,  237,  411,  167,  577, 1731, 1158,  860, 1707,  145, 1278,  480,\n",
       "        1584, 1664, 1353, 1587, 1532,  896,  966,  933,  551,  326,  533,  861,\n",
       "        2034, 1960, 1162, 1381,   14,  307,    5,  275, 1024, 1313,  777,  629,\n",
       "        2043,  371]))"
      ]
     },
     "execution_count": 41,
     "metadata": {},
     "output_type": "execute_result"
    }
   ],
   "source": [
    "nz_act.topk(350)"
   ]
  },
  {
   "cell_type": "code",
   "execution_count": 55,
   "metadata": {},
   "outputs": [
    {
     "data": {
      "image/png": "[encoded data removed]",
      "text/plain": [
       "<Figure size 640x480 with 1 Axes>"
      ]
     },
     "metadata": {},
     "output_type": "display_data"
    }
   ],
   "source": [
    "plt.hist(dictionary_activations[:,1734].cpu().numpy())\n",
    "plt.show()"
   ]
  },
  {
   "cell_type": "code",
   "execution_count": 48,
   "metadata": {},
   "outputs": [],
   "source": [
    "minn = dictionary_activations.min(dim=0)"
   ]
  },
  {
   "cell_type": "code",
   "execution_count": 54,
   "metadata": {},
   "outputs": [
    {
     "data": {
      "text/plain": [
       "tensor(1734)"
      ]
     },
     "execution_count": 54,
     "metadata": {},
     "output_type": "execute_result"
    }
   ],
   "source": [
    "minn.values.argmin()"
   ]
  },
  {
   "cell_type": "markdown",
   "metadata": {},
   "source": [
    "# Feature Interp\n",
    "Investigate the example sentences the activate this feature.\n",
    "\n",
    "Max: show max activating (tokens,contexts)\n",
    "\n",
    "Uniform: Show range of activations from each bin (e.g. sample an example from 1-2, 2-3, etc). \n",
    "[Note: if a feature is monosemantic, then the full range of activations should be that feature, not just max-activating ones]\n",
    "\n",
    "Full_text: shows the full text example\n",
    "\n",
    "Text_list: shows up to the most activating example (try w/ max activating on a couple of examples to see)\n",
    "\n",
    "ablate_text: remove the context one token at a time, and show the decrease/increase in activation of that feature\n",
    "\n",
    "ablate_feature_direction: removes feature direction from model's activation mid-inference, showing the logit diff in the output for every token.\n",
    "\n",
    "logit_lens: show the logit lens for that feature. If matches ablate_feature_direction, then the computation path is through the residual stream, else, it's through future layers"
   ]
  },
  {
   "cell_type": "code",
   "execution_count": 27,
   "metadata": {},
   "outputs": [
    {
     "name": "stdout",
     "output_type": "stream",
     "text": [
      "Feature index: 8\n",
      "MCS: 0.141135573387146\n"
     ]
    },
    {
     "data": {
      "text/html": [
       "<div id=\"circuits-vis-c5d65320-da15\" style=\"margin: 15px 0;\"/>\n",
       "    <script crossorigin type=\"module\">\n",
       "    import { render, TextNeuronActivations } from \"https://unpkg.com/circuitsvis@1.40.0/dist/cdn/esm.js\";\n",
       "    render(\n",
       "      \"circuits-vis-c5d65320-da15\",\n",
       "      TextNeuronActivations,\n",
       "      {\"tokens\": [\"An\", \" investigation\", \" of\", \" penetration\", \" depth\", \" control\", \" using\", \" parallel\", \" opposed\", \" ultrasound\", \"\\n\", \"I\", \" re\", \"-\", \"read\", \" The\", \" Gods\", \" The\", \"ms\", \"elves\", \" because\", \" it\", \" was\", \" 1972\", \"\\u2019\", \"s\", \" Hugo\", \" winner\", \",\", \" and\", \" all\", \" I\", \" could\", \" remember\", \" about\", \" it\", \" was\", \" three\", \" g\", \"endered\", \" aliens\", \",\", \" which\", \" didn\", \"\\u2019\", \"t\", \" really\", \" seem\", \" fair\", \".\", \" The\", \" part\", \" of\", \" the\", \" book\", \" I\", \" remembered\", \" is\", \" the\", \" middle\", \".\", \" It\", \"\\n\", \"Six\", \" cases\", \" of\", \" L\", \"\\n\", \"A\", \" major\", \" outbreak\", \" of\", \" who\", \"oping\", \" cough\", \" has\", \" struck\", \" a\", \" Michigan\", \" area\", \" where\", \" many\", \" people\", \" opted\", \" out\", \" of\", \" vacc\", \"inations\", \" against\", \" the\", \" disease\", \".\", \"\\\\newline\", \"\\\\newline\", \"At\", \" a\", \" single\", \" school\", \" in\", \" Grand\", \" Tra\", \"verse\", \" County\", \",\", \" which\", \" has\", \" the\", \" state\", \"\\u2019\", \"s\", \" highest\", \" rates\", \" of\", \" parents\", \" choosing\", \" not\", \" have\", \" their\", \" children\", \" vaccinated\", \",\", \" there\", \" have\", \"\\n\", \"ins\", \"urance\", \"Qu\", \"otes\", \"\\\\newline\", \"\\\\newline\", \"in\", \" the\", \" news\", \"\\\\newline\", \"\\\\newline\", \"Get\", \" My\", \" Best\", \" Adv\", \"ice\", \"\\\\newline\", \"\\\\newline\", \"L\", \"aura\", \" Adams\", \" is\", \" an\", \" award\", \"-\", \"winning\", \" personal\", \" finance\", \" expert\", \",\", \" consumer\", \" advocate\", \" and\", \" author\", \" of\", \" Money\", \" Girl\", \"\\u2019\", \"s\", \" Smart\", \" M\", \"oves\", \" to\", \" Grow\", \" Rich\", \".\", \" As\", \" insurance\", \"Qu\", \"otes\", \" spokesperson\", \"\\n\", \"package\", \" problem\", \"0\", \"958\", \"\\\\newline\", \"\\\\newline\", \"import\", \" (\", \"\\\\newline\", \"\\t\", \"\\\"\", \"testing\", \"\\\"\", \"\\\\newline\\\\newline\", \"\\t\", \"\\\"\", \"github\", \".\", \"com\", \"/\", \"a\", \"Qu\", \"\\n\", \"Q\", \"\\n\", \"A\", \" man\", \" facing\", \"\\n\", \"Management\", \" of\", \" ventricular\", \" tachy\", \"cardia\", \" in\", \" the\", \" ablation\", \" era\", \":\", \" results\", \" of\", \" the\", \" European\", \" Heart\", \" R\", \"hythm\", \" Association\", \" Survey\", \".\", \"\\\\newline\", \"Patients\", \" with\", \" sustained\", \" ventricular\", \" tachy\", \"cardia\", \" (\", \"VT\", \")\", \" are\", \" at\", \" risk\", \" of\", \" sudden\", \"\\n\", \"Ox\", \"id\", \"ative\", \" stress\", \" in\", \" stable\", \" cystic\", \"\\n\", \"Is\", \"otype\", \"-\", \"specific\", \" activation\", \" of\", \" cystic\", \"\\n\"], \"activations\": [[[-0.5347746014595032]], [[-0.8596842885017395]], [[-0.8214035630226135]], [[-0.5691791772842407]], [[-1.2466756105422974]], [[-0.8149211406707764]], [[-0.6169969439506531]], [[-1.1139599084854126]], [[-0.1442575752735138]], [[-0.0985436961054802]], [[0.0]], [[-0.7536373138427734]], [[-0.8607405424118042]], [[-0.6805848479270935]], [[-0.3449147939682007]], [[-0.3599744439125061]], [[-0.5836899876594543]], [[-0.6668251752853394]], [[-0.38736194372177124]], [[0.0]], [[-0.3242819905281067]], [[-0.7348379492759705]], [[-0.7706719040870667]], [[-0.8746841549873352]], [[-0.38168078660964966]], [[-0.7190046906471252]], [[-0.4571307599544525]], [[-0.5445494651794434]], [[-0.7497583031654358]], [[-0.2682342529296875]], [[0.0]], [[-0.6047703623771667]], [[-0.6919623613357544]], [[-1.1814227104187012]], [[-0.6158837676048279]], [[-0.3568471372127533]], [[-0.4503789246082306]], [[-0.703525960445404]], [[-0.48048603534698486]], [[-0.7814308404922485]], [[-0.5507070422172546]], [[-1.0121008157730103]], [[-0.3724437654018402]], [[-1.0228794813156128]], [[-0.19158527255058289]], [[-0.45921656489372253]], [[-0.6326132416725159]], [[-0.4786085784435272]], [[-0.7970715761184692]], [[-0.113946333527565]], [[-0.5163028240203857]], [[-0.7295278906822205]], [[-0.5323269367218018]], [[-0.5190249681472778]], [[-0.6544814109802246]], [[-0.6381992101669312]], [[-1.153673529624939]], [[-0.3415542542934418]], [[-0.5289303064346313]], [[-1.0642879009246826]], [[-0.36127957701683044]], [[-0.3975864052772522]], [[0.0]], [[-1.0694934129714966]], [[-1.5234684944152832]], [[-1.1990467309951782]], [[-0.6736522912979126]], [[0.0]], [[-0.6434338092803955]], [[-1.6276086568832397]], [[-1.3873182535171509]], [[-1.3583028316497803]], [[-0.8922545909881592]], [[-1.1207364797592163]], [[-1.107973337173462]], [[-1.3253942728042603]], [[-1.2278680801391602]], [[-0.46339017152786255]], [[-0.5949389338493347]], [[-0.4923214614391327]], [[-0.47908738255500793]], [[-0.4480147063732147]], [[-0.25342419743537903]], [[-0.9083605408668518]], [[-0.4644073247909546]], [[-0.8437942266464233]], [[-0.4701079726219177]], [[0.0]], [[-0.6008161902427673]], [[-0.6381850838661194]], [[-0.9932390451431274]], [[-0.04629122465848923]], [[-0.2979852557182312]], [[-0.12700949609279633]], [[-0.9502356648445129]], [[-0.14868150651454926]], [[-1.369170069694519]], [[-0.04883900657296181]], [[-0.5083339214324951]], [[-1.121988296508789]], [[-0.5424542427062988]], [[-0.5699174404144287]], [[-0.77793949842453]], [[-0.908123254776001]], [[-0.7229596972465515]], [[-0.9361046552658081]], [[-0.6159905195236206]], [[-1.029727578163147]], [[-0.5162164568901062]], [[-0.8077868223190308]], [[-0.5009250044822693]], [[-0.6008471846580505]], [[-0.7296142578125]], [[-0.19534103572368622]], [[-0.949134111404419]], [[-0.47639158368110657]], [[-0.8267544507980347]], [[-0.8487973213195801]], [[-0.05055158585309982]], [[0.0]], [[-0.7770946025848389]], [[-0.7769407629966736]], [[-0.7722501158714294]], [[0.0]], [[-0.6528830528259277]], [[-0.824016809463501]], [[-1.5120792388916016]], [[-1.1098662614822388]], [[-0.37422317266464233]], [[-0.5167765617370605]], [[-0.7097108364105225]], [[-0.5789244771003723]], [[-0.6094382405281067]], [[-0.24080274999141693]], [[-0.36196669936180115]], [[-0.9620930552482605]], [[-0.7834005355834961]], [[-0.29163819551467896]], [[0.0]], [[-0.31129971146583557]], [[-0.04234158620238304]], [[-0.218960702419281]], [[-0.3950400650501251]], [[-0.2820121645927429]], [[-0.12194022536277771]], [[-0.4721111059188843]], [[-0.03614811599254608]], [[-0.2377559244632721]], [[-0.46288102865219116]], [[-0.4077930152416229]], [[-0.4962766468524933]], [[-0.07758831977844238]], [[-0.6951674222946167]], [[-0.5103999972343445]], [[-0.12547148764133453]], [[-0.20203495025634766]], [[0.0]], [[-0.4053557217121124]], [[-0.1901969313621521]], [[-0.07411988079547882]], [[-0.1878696233034134]], [[-0.13403239846229553]], [[0.0]], [[-0.2802259922027588]], [[0.0]], [[0.0]], [[-0.3649694323539734]], [[0.0]], [[-0.49835819005966187]], [[-0.2571570575237274]], [[-0.48721620440483093]], [[-0.17889943718910217]], [[-0.7033945322036743]], [[-0.9803029298782349]], [[-1.0985769033432007]], [[0.0]], [[-0.3073727488517761]], [[-1.4453651905059814]], [[-0.888310432434082]], [[-0.12241771817207336]], [[-0.2557603716850281]], [[-0.21044808626174927]], [[-0.047424428164958954]], [[-0.7781672477722168]], [[-0.5598117709159851]], [[-0.49334007501602173]], [[-0.7673019766807556]], [[-0.0911923423409462]], [[-0.009020480327308178]], [[-0.6222584843635559]], [[-0.432966947555542]], [[-0.48733195662498474]], [[-0.32367318868637085]], [[-0.43145284056663513]], [[-0.8649982213973999]], [[-1.599010705947876]], [[-0.2572116553783417]], [[-1.4134047031402588]], [[0.0]], [[-1.621924638748169]], [[0.0]], [[-0.6434330940246582]], [[-1.0825201272964478]], [[-1.840989112854004]], [[0.0]], [[-1.1905893087387085]], [[-0.7706681489944458]], [[-1.0888739824295044]], [[-1.1798371076583862]], [[-1.4283034801483154]], [[-0.6831533312797546]], [[-0.7349103093147278]], [[-0.6539373397827148]], [[-0.8080466985702515]], [[-0.6796669363975525]], [[-0.202498659491539]], [[-0.6556844711303711]], [[-0.8772046566009521]], [[-0.6781644821166992]], [[-0.37898606061935425]], [[-0.4809565842151642]], [[-0.9067529439926147]], [[-0.47190627455711365]], [[-0.7586601972579956]], [[0.0]], [[-0.2201656550168991]], [[-0.8386788368225098]], [[-1.2547149658203125]], [[-1.2581862211227417]], [[-0.7078711986541748]], [[-0.8257668018341064]], [[-1.0910210609436035]], [[-1.16586172580719]], [[-1.0412392616271973]], [[-1.2706888914108276]], [[-0.6152937412261963]], [[-0.8707994818687439]], [[-0.9860463738441467]], [[-1.231773018836975]], [[-2.0576934814453125]], [[0.0]], [[-0.5539510846138]], [[-1.0606646537780762]], [[-1.1903166770935059]], [[-1.312605381011963]], [[-1.0043879747390747]], [[-1.7013254165649414]], [[-2.3193395137786865]], [[0.0]], [[-0.5098806023597717]], [[-0.9167181849479675]], [[-1.049119472503662]], [[-1.0128523111343384]], [[-1.2962523698806763]], [[-1.1698598861694336]], [[-2.561502456665039]], [[0.0]]], \"firstDimensionName\": \"Layer\", \"secondDimensionName\": \"Neuron\"}\n",
       "    )\n",
       "    </script>"
      ],
      "text/plain": [
       "<circuitsvis.utils.render.RenderedHTML at 0x7feafcf8a260>"
      ]
     },
     "execution_count": 27,
     "metadata": {},
     "output_type": "execute_result"
    }
   ],
   "source": [
    "N = 0\n",
    "best_feature = int(max_indices[N])\n",
    "ll = [1717, 1998, 1415, 1536, 1287, 1284, 1291,  636, 1746, 1724, 1375, 1220,\n",
    "         509, 1614, 1129,  413, 1225,  322,   94,  133,  177,  300,  617, 1599,\n",
    "        1602, 1719, 1940, 1411, 1886,  666, 1697,  733,  814, 1515, 2024, 1156,\n",
    "         797, 1817,  907,  256,   65,  298,  919, 1469, 2028,  430,  449, 2041,\n",
    "         111, 1971,  513, 1308, 1297,  458,    4,  875,   11, 1993, 1519,  949,\n",
    "        1619,  326, 1951,  401, 1528, 1497,  962, 1502,   40,  143,  836, 1215,\n",
    "        1961, 1526,   57, 1849, 1190,  632,  237,  337, 1417,  101, 1844,  532,\n",
    "        1776, 2039, 1002,  903,  820, 1270,  883,  107,  973,  924,   43,  288,\n",
    "         528, 1590, 1181, 1871]\n",
    "# ll =  [1717, 1828, 1291, 1998, 1284, 1415, 1820, 4, 1672, 401, 1752, 2028, 1154, 1971, 1746, 1454, 636, 1287, 1536, 1220, 509, 1156, 1602, 1375, 1129, 413, 1817, 1599, 1724, 1951, 648, 741, 962, 1270, 949, 453, 57, 900, 1394, 1619, 322, 814, 2043, 182, 1474, 1469, 2031, 300, 1576, 1225, 2041, 706, 1614, 177, 814, 133, 1515, 1886, 31]\n",
    "# best_feature = ll[99]\n",
    "# 568,  516, 1894,\n",
    "# 7231, 4726, 3885, 2909\n",
    "# best_feature = 5277#, 5277, 7231, 7041,\n",
    "# indices=tensor([2908, 7231, 5277, 2177, 4612, 3885, 3450, 5991,  695, 1651]))\n",
    "# tensor([[ 0],\n",
    "#         [ 3],\n",
    "#         [ 4],\n",
    "#         [ 5],\n",
    "#         [ 6],\n",
    "#         [ 8],\n",
    "#         [10],\n",
    "#         [12],\n",
    "#         [14],\n",
    "#         [16]])\n",
    "best_feature = 8#, 2908, 6207\n",
    "# print(\"bias:\", smaller_auto_encoder.encoder_bias.detach().cpu().numpy()[best_feature])\n",
    "print(f\"Feature index: {best_feature}\")\n",
    "print(f\"MCS: {max_cosine_similarities[best_feature]}\")\n",
    "text_list, full_text, token_list, full_token_list = get_feature_datapoints(best_feature, dictionary_activations, dataset, setting=\"uniform\")\n",
    "# text_list, full_text, token_list, full_token_list = get_feature_datapoints(best_feature, dictionary_activations, dataset, setting=\"max\")\n",
    "visualize_text(text_list, best_feature, model)"
   ]
  },
  {
   "cell_type": "code",
   "execution_count": 19,
   "metadata": {},
   "outputs": [
    {
     "data": {
      "text/html": [
       "<div id=\"circuits-vis-ce7e01e7-465e\" style=\"margin: 15px 0;\"/>\n",
       "    <script crossorigin type=\"module\">\n",
       "    import { render, TextNeuronActivations } from \"https://unpkg.com/circuitsvis@1.40.0/dist/cdn/esm.js\";\n",
       "    render(\n",
       "      \"circuits-vis-ce7e01e7-465e\",\n",
       "      TextNeuronActivations,\n",
       "      {\"tokens\": [\"Q\", \":\", \"\\\\newline\", \"\\\\newline\", \"Is\", \" there\", \" a\", \" way\", \" to\", \" get\", \" a\", \" non\", \"\\n\", \"L\", \"oyal\", \"ty\", \" points\", \",\", \" concert\", \" tickets\", \" and\", \" in\", \"-\", \"game\", \" items\", \" will\", \" soon\", \" appear\", \" on\", \" a\", \" new\", \" protocol\", \" built\", \" on\", \" the\", \" mon\", \"ero\", \" network\", \".\", \"\\\\newline\", \"\\\\newline\", \"Call\", \"ed\", \" T\", \"ari\", \",\", \" this\", \" new\", \" digital\", \" assets\", \" protocol\", \" will\", \" help\", \" support\", \" non\", \"\\n\", \"Introduction\", \"\\\\newline\", \"============\", \"\\\\newline\", \"\\\\newline\", \"R\", \"ational\", \"e\", \"\\\\newline\", \"---------\", \"\\\\newline\", \"\\\\newline\", \"Early\", \" life\", \" experience\", \" is\", \" a\", \" determinant\", \" of\", \" social\", \" inequalities\", \" in\", \" physical\", \",\", \" mental\", \",\", \" and\", \" social\", \" well\", \"-\", \"being\", \" \\\\[[@\", \"ref\", \"\\n\", \"Q\", \":\", \"\\\\newline\", \"\\\\newline\", \"using\", \" pointers\", \" in\", \" c\", \" programming\", \"\\\\newline\", \"\\\\newline\", \"I\", \" have\", \" a\", \" problem\", \" with\", \" pointers\", \" in\", \" c\", \" programming\", \".\", \" I\", \" would\", \" love\", \" to\", \" get\", \" variables\", \" from\", \" the\", \" command\", \" line\", \" in\", \" Linux\", \" and\", \" than\", \" be\", \" assigning\", \" the\", \" value\", \" of\", \" the\", \" variables\", \" from\", \" command\", \" line\", \" to\", \" a\", \" non\", \"\\n\", \"0\", \" minutes\", \" after\", \" 12\", \":\", \"38\", \" PM\", \"?\", \"\\\\newline\", \"11\", \":\", \"48\", \" PM\", \"\\\\newline\", \"How\", \" many\", \" minutes\", \" are\", \" there\", \" between\", \" 1\", \":\", \"09\", \" AM\", \" and\", \" 1\", \":\", \"48\", \" AM\", \"?\", \"\\n\", \"He\", \"ather\", \"'s\", \" turn\", \" By\", \" nitro\", \"fi\", \"ren\", \"itro\", \"fire\", \" Watch\", \"\\\\newline\", \"\\\\newline\", \"53\", \" F\", \"avour\", \"ites\", \" 0\", \" Comments\", \" 3\", \"K\", \" Views\", \"\\\\newline\", \"\\\\newline\", \"\\\"\", \"Oh\", \" and\", \" I\", \"'m\", \" sure\", \" this\", \" whole\", \" time\", \" you\", \"'ve\", \" been\", \" away\", \" at\", \" college\", \" you\", \" have\", \" not\", \" gained\", \" a\", \" pound\", \" either\", \".\\\"\", \" Amanda\", \" j\", \"oked\", \" on\", \" the\", \" other\", \" end\", \" of\", \" the\", \" line\", \".\", \"\\\\newline\\\\newline\\\\newline\", \"\\n\", \"All\", \" relevant\", \" data\", \" are\", \" within\", \" the\", \" paper\", \" and\", \" its\", \" Supporting\", \" Information\", \" files\", \".\", \"\\\\newline\", \"\\\\newline\", \"Introduction\", \" {#\", \"sec\", \"001\", \"}\", \"\\\\newline\", \"============\", \"\\\\newline\", \"\\\\newline\", \"E\", \"cosystem\", \" services\", \" are\", \" defined\", \" as\", \" the\", \" benefits\", \" that\", \" nature\", \" provides\", \" to\", \" society\", \" \\\\[[@\", \"pone\", \".\", \"023\", \"53\", \"20\", \".\", \"ref\", \"\\n\", \"Summer\", \" of\", \" R\", \"ift\", \" is\", \" all\", \" about\", \" celebrating\", \" the\", \" VR\", \" community\", \" and\", \" encouraging\", \" new\", \" people\", \" to\", \" get\", \" in\", \" the\", \" game\", \".\", \" Today\", \",\", \" we\", \"\\u2019\", \"re\", \" excited\", \" to\", \" announce\", \" that\", \" R\", \"ift\", \" +\", \" Touch\", \" are\", \" now\", \" available\", \" at\", \" $\", \"399\", \" for\", \" a\", \" limited\", \"\\n\", \"Stone\", \" fl\", \"aming\", \"\\\\newline\", \"\\\\newline\", \"Stone\", \" fl\", \"aming\", \" or\", \" therm\", \"aling\", \" is\", \" the\", \" application\", \" of\", \" high\", \" temperature\", \" to\", \" the\", \" surface\", \" of\", \" stone\", \" to\", \" make\", \" it\", \" look\", \" like\", \" natural\", \" weather\", \"ing\", \".\", \"  \", \"\\n\", \"Mat\", \"hes\", \"on\", \" No\", \" Long\", \"er\", \" An\", \" Option\", \" For\", \" \\u201c\", \"Old\", \" Joe\", \"\\u201d\", \"\\\\newline\", \"\\\\newline\", \"After\", \" months\", \" and\", \" months\", \" of\", \" negotiations\", \",\", \" Al\", \"ach\", \"ua\", \" County\", \" is\", \" no\", \" longer\", \" considering\", \" moving\", \" the\", \" conf\", \"ed\", \"erate\", \" statue\", \" to\", \" the\", \" Mat\", \"hes\", \"on\", \" History\", \" Museum\", \".\", \"\\\\newline\", \"\\n\", \"WN\", \"CO\", \" (\", \"AM\", \")\", \"\\\\newline\", \"\\\\newline\", \"WN\", \"CO\", \" (\", \"13\", \"40\", \" AM\", \")\", \"  \", \"\\u2014\", \" branded\", \" Fox\", \" Sports\", \" 13\", \"40\", \" \\u2014\", \" is\", \" a\", \" commercial\", \" radio\", \" station\", \" licensed\", \" to\", \" Ash\", \"land\", \",\", \" Ohio\", \".\", \" The\", \" station\", \" serves\", \" the\", \" Ash\", \"land\", \",\", \" Mans\", \"field\", \"\\n\"], \"activations\": [[[0.06580144166946411]], [[0.012370109558105469]], [[-0.013183355331420898]], [[-0.013183355331420898]], [[0.021126151084899902]], [[0.0028634071350097656]], [[-0.016658663749694824]], [[-0.14209848642349243]], [[-0.1877974271774292]], [[-0.1727192997932434]], [[0.04087120294570923]], [[-0.8654499053955078]], [[0.0]], [[-0.005083799362182617]], [[0.021232545375823975]], [[-0.037627577781677246]], [[0.009242057800292969]], [[0.017258405685424805]], [[-0.02927762269973755]], [[0.022286534309387207]], [[-0.04848945140838623]], [[-0.10221236944198608]], [[-0.13623559474945068]], [[-0.07823145389556885]], [[-0.016539573669433594]], [[0.0058089494705200195]], [[-0.01047128438949585]], [[0.001409292221069336]], [[-0.015543103218078613]], [[-0.043348848819732666]], [[0.0034161806106567383]], [[0.05301380157470703]], [[-0.012321114540100098]], [[-0.015693485736846924]], [[-0.0446169376373291]], [[0.0030143260955810547]], [[-0.021850168704986572]], [[-0.002792060375213623]], [[-0.08817249536514282]], [[-0.02916741371154785]], [[-0.02916741371154785]], [[-0.04362225532531738]], [[-0.038502275943756104]], [[-0.03160184621810913]], [[-0.007354140281677246]], [[-0.05665457248687744]], [[-0.02080821990966797]], [[-0.013129830360412598]], [[-0.04850780963897705]], [[0.02779853343963623]], [[0.011671781539916992]], [[0.01232290267944336]], [[-0.029892444610595703]], [[-0.019718170166015625]], [[-0.6961098909378052]], [[0.0]], [[0.11730796098709106]], [[0.03735244274139404]], [[-0.07887536287307739]], [[0.004362523555755615]], [[0.004362523555755615]], [[0.005316972732543945]], [[0.014696061611175537]], [[0.0014297962188720703]], [[0.014930248260498047]], [[-0.00882500410079956]], [[0.00791996717453003]], [[0.00791996717453003]], [[-0.032750487327575684]], [[-0.01477581262588501]], [[-0.014721572399139404]], [[-0.021706759929656982]], [[-0.01119452714920044]], [[-0.013007104396820068]], [[-0.04136770963668823]], [[0.00041222572326660156]], [[-0.03257089853286743]], [[0.0008975863456726074]], [[0.00626450777053833]], [[0.0024856925010681152]], [[-0.01726377010345459]], [[0.004821062088012695]], [[-0.01919722557067871]], [[-0.02425515651702881]], [[0.013540267944335938]], [[-0.08321893215179443]], [[-0.05697590112686157]], [[-0.6591617465019226]], [[-0.6591617465019226]], [[0.0]], [[-0.06769555807113647]], [[-0.010075092315673828]], [[-0.0012165307998657227]], [[-0.0012165307998657227]], [[-0.00916522741317749]], [[0.027857959270477295]], [[-0.01650106906890869]], [[-0.006662964820861816]], [[-0.015797972679138184]], [[-0.012255370616912842]], [[-0.012255370616912842]], [[-0.01612788438796997]], [[-0.006656050682067871]], [[-0.01766073703765869]], [[-0.013486981391906738]], [[-0.016536831855773926]], [[0.01877439022064209]], [[-0.010920166969299316]], [[0.004303395748138428]], [[-0.028055548667907715]], [[-0.01832890510559082]], [[-0.017511725425720215]], [[-0.006959736347198486]], [[-0.0375826358795166]], [[-0.014733552932739258]], [[-0.004717469215393066]], [[0.01534658670425415]], [[-0.014515459537506104]], [[-0.020756423473358154]], [[0.010500133037567139]], [[0.005789518356323242]], [[-0.013713598251342773]], [[-0.010347247123718262]], [[-0.007744550704956055]], [[-0.0011713504791259766]], [[0.016282081604003906]], [[-0.03350621461868286]], [[0.018370389938354492]], [[0.06962579488754272]], [[-0.04300034046173096]], [[-0.00973445177078247]], [[0.058275699615478516]], [[0.002738356590270996]], [[-0.1130107045173645]], [[-0.1331029236316681]], [[-0.006981253623962402]], [[-0.19019454717636108]], [[-0.5612106323242188]], [[0.0]], [[0.031036972999572754]], [[0.04457196593284607]], [[0.019318461418151855]], [[0.01194906234741211]], [[0.020666539669036865]], [[-0.010033965110778809]], [[-0.04657095670700073]], [[-0.02071934938430786]], [[0.048656463623046875]], [[-0.001353621482849121]], [[-0.0005480051040649414]], [[-0.004034668207168579]], [[-0.033088743686676025]], [[0.020345091819763184]], [[-0.09365370869636536]], [[0.053386539220809937]], [[-0.06598210334777832]], [[0.01643320918083191]], [[0.009565412998199463]], [[-0.07244279980659485]], [[0.009059369564056396]], [[0.020399034023284912]], [[-0.016982465982437134]], [[-0.03518033027648926]], [[-0.054560184478759766]], [[0.021718591451644897]], [[-0.1293278932571411]], [[-0.021565526723861694]], [[-0.09951275587081909]], [[-0.4337695240974426]], [[0.0]], [[-0.0029428303241729736]], [[-0.010620951652526855]], [[-0.033825963735580444]], [[-0.011650800704956055]], [[0.004134237766265869]], [[-0.005704045295715332]], [[-0.009198218584060669]], [[-0.011774778366088867]], [[-0.024438917636871338]], [[-0.011456042528152466]], [[0.022806137800216675]], [[-0.003375232219696045]], [[-0.003375232219696045]], [[0.0035042762756347656]], [[0.016358494758605957]], [[-0.22736956179141998]], [[0.008121907711029053]], [[0.022525131702423096]], [[-0.09019830822944641]], [[0.015837490558624268]], [[-0.032573550939559937]], [[-0.27638617157936096]], [[-0.05358231067657471]], [[-0.05358231067657471]], [[0.018812119960784912]], [[-0.003292262554168701]], [[0.010587990283966064]], [[0.012168347835540771]], [[0.016129791736602783]], [[0.014938950538635254]], [[0.02975490689277649]], [[0.02515929937362671]], [[0.005566239356994629]], [[0.028790593147277832]], [[0.010396361351013184]], [[0.013958513736724854]], [[-6.946921348571777e-05]], [[0.0063634514808654785]], [[0.00810086727142334]], [[0.021390825510025024]], [[0.011834710836410522]], [[0.0051310062408447266]], [[0.014144808053970337]], [[0.00024703145027160645]], [[0.0055387020111083984]], [[0.0024345219135284424]], [[-0.033388763666152954]], [[0.07864576578140259]], [[0.03537416458129883]], [[-0.01421976089477539]], [[-0.015819698572158813]], [[0.007280945777893066]], [[-0.023195236921310425]], [[0.08503681421279907]], [[0.006500333547592163]], [[0.01767122745513916]], [[-0.036808133125305176]], [[-0.34881138801574707]], [[-0.34881138801574707]], [[0.0]], [[-0.015457600355148315]], [[-0.004975467920303345]], [[-0.007151156663894653]], [[-0.008081287145614624]], [[0.0017102062702178955]], [[-0.013769030570983887]], [[-0.011603206396102905]], [[-0.0027115046977996826]], [[-0.004703134298324585]], [[-0.025305569171905518]], [[-0.020223766565322876]], [[-0.026148736476898193]], [[0.011452019214630127]], [[0.024117857217788696]], [[0.024117857217788696]], [[0.018434107303619385]], [[-0.06305506825447083]], [[0.05450397729873657]], [[0.024245232343673706]], [[0.008570462465286255]], [[0.013950496912002563]], [[-0.005318939685821533]], [[-0.012773901224136353]], [[-0.012773901224136353]], [[0.023648470640182495]], [[-0.023845762014389038]], [[-0.018169492483139038]], [[-0.01840171217918396]], [[0.021453410387039185]], [[0.011858314275741577]], [[0.039187878370285034]], [[0.03992900252342224]], [[0.04161563515663147]], [[-0.003251194953918457]], [[0.03779870271682739]], [[0.01902177929878235]], [[0.027704060077667236]], [[-0.30785003304481506]], [[-0.23583239316940308]], [[0.13889560103416443]], [[-0.10650235414505005]], [[-0.1246899664402008]], [[-0.13981664180755615]], [[-0.08844754099845886]], [[-0.30785003304481506]], [[0.0]], [[-0.052925482392311096]], [[-0.03203773498535156]], [[0.019383907318115234]], [[0.0031950920820236206]], [[0.006913363933563232]], [[0.0008212774991989136]], [[0.013216406106948853]], [[-0.02917875349521637]], [[-0.006352543830871582]], [[-0.007321715354919434]], [[-0.009310901165008545]], [[-0.008093610405921936]], [[-0.02292659878730774]], [[-0.0063336193561553955]], [[0.0032489001750946045]], [[-0.006171107292175293]], [[-0.008611291646957397]], [[0.006980448961257935]], [[-0.00905492901802063]], [[-0.064077228307724]], [[-0.04421025514602661]], [[-0.03527897596359253]], [[-0.021783560514450073]], [[0.011250972747802734]], [[-0.01061674952507019]], [[0.0010725855827331543]], [[-0.04053260385990143]], [[0.0021037757396698]], [[-0.057016193866729736]], [[0.005738973617553711]], [[0.002008184790611267]], [[-0.0013212859630584717]], [[-0.0019562095403671265]], [[-0.043331071734428406]], [[-0.05652956664562225]], [[-0.029265522956848145]], [[-0.05088892579078674]], [[-0.08334232121706009]], [[0.016597986221313477]], [[-0.0067525506019592285]], [[-0.04906758666038513]], [[0.2301211655139923]], [[-0.2049499750137329]], [[0.0]], [[-0.0034050866961479187]], [[-0.03494131565093994]], [[0.05797514319419861]], [[-0.0611453652381897]], [[-0.0611453652381897]], [[0.022852249443531036]], [[-0.002766907215118408]], [[0.010408997535705566]], [[0.027403146028518677]], [[-0.012627124786376953]], [[0.013446792960166931]], [[-0.0014002621173858643]], [[-0.004769444465637207]], [[0.03240750730037689]], [[0.020600177347660065]], [[-0.00432276725769043]], [[-0.037579163908958435]], [[-0.008756227791309357]], [[0.007272012531757355]], [[-0.024724438786506653]], [[-0.012471005320549011]], [[0.019482702016830444]], [[-0.016896933317184448]], [[-0.0017508268356323242]], [[-0.007273316383361816]], [[-0.013292886316776276]], [[0.006279200315475464]], [[0.024709045886993408]], [[-0.03675469011068344]], [[-0.011030986905097961]], [[-0.10151100158691406]], [[-0.10151100158691406]], [[0.0]], [[0.0010017827153205872]], [[-2.492964267730713e-05]], [[-0.0002383887767791748]], [[-0.0027091652154922485]], [[-0.005090758204460144]], [[0.003498159348964691]], [[0.004524752497673035]], [[0.02783845365047455]], [[0.004825621843338013]], [[0.004093363881111145]], [[-0.02146580070257187]], [[0.011987850069999695]], [[-0.042941752821207047]], [[-0.08060075342655182]], [[-0.08060075342655182]], [[-0.009133711457252502]], [[0.026128701865673065]], [[0.02476615458726883]], [[0.008978769183158875]], [[0.008640721440315247]], [[-0.028354626148939133]], [[0.003515183925628662]], [[0.01423141360282898]], [[0.00781811773777008]], [[0.008375652134418488]], [[0.04932044446468353]], [[-0.04367687553167343]], [[0.004097595810890198]], [[-0.010035917162895203]], [[-0.002542927861213684]], [[-0.005569927394390106]], [[-0.02758949249982834]], [[0.012575618922710419]], [[-0.007131204009056091]], [[-0.00774761289358139]], [[0.04715713858604431]], [[-0.041293732821941376]], [[-0.05467451363801956]], [[-0.022334296256303787]], [[-0.022312097251415253]], [[-0.0076062679290771484]], [[0.02442203462123871]], [[-0.08060075342655182]], [[-0.08060075342655182]], [[-0.08060075342655182]], [[0.0]], [[0.0]], [[0.0]], [[0.0]], [[0.0]], [[0.0]], [[0.0]], [[0.0]], [[0.0]], [[0.0]], [[0.0]], [[0.0]], [[0.0]], [[0.0]], [[0.0]], [[0.0]], [[0.0]], [[0.0]], [[0.0]], [[0.0]], [[0.0]], [[0.0]], [[0.0]], [[0.0]], [[0.0]], [[0.0]], [[0.0]], [[0.0]], [[0.0]], [[0.0]], [[0.0]], [[0.0]], [[0.0]], [[0.0]], [[0.0]], [[0.0]], [[0.0]], [[0.0]], [[0.0]], [[0.0]], [[0.0]], [[0.0]], [[0.0]], [[0.0]], [[0.0]]], \"firstDimensionName\": \"Layer\", \"secondDimensionName\": \"Neuron\"}\n",
       "    )\n",
       "    </script>"
      ],
      "text/plain": [
       "<circuitsvis.utils.render.RenderedHTML at 0x7fec9475da20>"
      ]
     },
     "execution_count": 19,
     "metadata": {},
     "output_type": "execute_result"
    }
   ],
   "source": [
    "ablate_text(text_list, best_feature, model)"
   ]
  },
  {
   "cell_type": "code",
   "execution_count": 20,
   "metadata": {},
   "outputs": [
    {
     "ename": "TypeError",
     "evalue": "'LISTADenoisingSAE' object is not callable",
     "output_type": "error",
     "traceback": [
      "\u001b[0;31m---------------------------------------------------------------------------\u001b[0m",
      "\u001b[0;31mTypeError\u001b[0m                                 Traceback (most recent call last)",
      "Cell \u001b[0;32mIn[20], line 1\u001b[0m\n\u001b[0;32m----> 1\u001b[0m ablate_feature_direction_display(full_text, best_feature)\n",
      "Cell \u001b[0;32mIn[6], line 172\u001b[0m, in \u001b[0;36mablate_feature_direction_display\u001b[0;34m(text, features, setting, verbose)\u001b[0m\n\u001b[1;32m    170\u001b[0m \u001b[39mwith\u001b[39;00m torch\u001b[39m.\u001b[39mno_grad():\n\u001b[1;32m    171\u001b[0m     original_logits \u001b[39m=\u001b[39m model(tokens)\u001b[39m.\u001b[39mlog_softmax(\u001b[39m-\u001b[39m\u001b[39m1\u001b[39m)\u001b[39m.\u001b[39mcpu()\n\u001b[0;32m--> 172\u001b[0m     ablated_logits \u001b[39m=\u001b[39m ablate_feature_direction(tokens, features, model, smaller_auto_encoder)\u001b[39m.\u001b[39mlog_softmax(\u001b[39m-\u001b[39m\u001b[39m1\u001b[39m)\u001b[39m.\u001b[39mcpu()\n\u001b[1;32m    173\u001b[0m diff_logits \u001b[39m=\u001b[39m ablated_logits  \u001b[39m-\u001b[39m original_logits\u001b[39m# ablated > original -> negative diff\u001b[39;00m\n\u001b[1;32m    174\u001b[0m tokens \u001b[39m=\u001b[39m tokens\u001b[39m.\u001b[39mcpu()\n",
      "Cell \u001b[0;32mIn[6], line 138\u001b[0m, in \u001b[0;36mablate_feature_direction\u001b[0;34m(tokens, feature, model, autoencoder)\u001b[0m\n\u001b[1;32m    135\u001b[0m     value \u001b[39m-\u001b[39m\u001b[39m=\u001b[39m feature_direction\n\u001b[1;32m    136\u001b[0m     \u001b[39mreturn\u001b[39;00m value\n\u001b[0;32m--> 138\u001b[0m \u001b[39mreturn\u001b[39;00m model\u001b[39m.\u001b[39;49mrun_with_hooks(tokens, \n\u001b[1;32m    139\u001b[0m     fwd_hooks\u001b[39m=\u001b[39;49m[(\n\u001b[1;32m    140\u001b[0m         cache_name, \n\u001b[1;32m    141\u001b[0m         mlp_ablation_hook\n\u001b[1;32m    142\u001b[0m         )]\n\u001b[1;32m    143\u001b[0m     )\n",
      "File \u001b[0;32m~/miniconda3/envs/logan/lib/python3.10/site-packages/transformer_lens/hook_points.py:355\u001b[0m, in \u001b[0;36mHookedRootModule.run_with_hooks\u001b[0;34m(self, fwd_hooks, bwd_hooks, reset_hooks_end, clear_contexts, *model_args, **model_kwargs)\u001b[0m\n\u001b[1;32m    348\u001b[0m     logging\u001b[39m.\u001b[39mwarning(\n\u001b[1;32m    349\u001b[0m         \u001b[39m\"\u001b[39m\u001b[39mWARNING: Hooks will be reset at the end of run_with_hooks. This removes the backward hooks before a backward pass can occur.\u001b[39m\u001b[39m\"\u001b[39m\n\u001b[1;32m    350\u001b[0m     )\n\u001b[1;32m    352\u001b[0m \u001b[39mwith\u001b[39;00m \u001b[39mself\u001b[39m\u001b[39m.\u001b[39mhooks(\n\u001b[1;32m    353\u001b[0m     fwd_hooks, bwd_hooks, reset_hooks_end, clear_contexts\n\u001b[1;32m    354\u001b[0m ) \u001b[39mas\u001b[39;00m hooked_model:\n\u001b[0;32m--> 355\u001b[0m     \u001b[39mreturn\u001b[39;00m hooked_model\u001b[39m.\u001b[39;49mforward(\u001b[39m*\u001b[39;49mmodel_args, \u001b[39m*\u001b[39;49m\u001b[39m*\u001b[39;49mmodel_kwargs)\n",
      "File \u001b[0;32m~/miniconda3/envs/logan/lib/python3.10/site-packages/transformer_lens/HookedTransformer.py:358\u001b[0m, in \u001b[0;36mHookedTransformer.forward\u001b[0;34m(self, input, return_type, loss_per_token, prepend_bos, stop_at_layer, past_kv_cache)\u001b[0m\n\u001b[1;32m    353\u001b[0m     \u001b[39mif\u001b[39;00m shortformer_pos_embed \u001b[39mis\u001b[39;00m \u001b[39mnot\u001b[39;00m \u001b[39mNone\u001b[39;00m:\n\u001b[1;32m    354\u001b[0m         shortformer_pos_embed \u001b[39m=\u001b[39m shortformer_pos_embed\u001b[39m.\u001b[39mto(\n\u001b[1;32m    355\u001b[0m             devices\u001b[39m.\u001b[39mget_device_for_block_index(i, \u001b[39mself\u001b[39m\u001b[39m.\u001b[39mcfg)\n\u001b[1;32m    356\u001b[0m         )\n\u001b[0;32m--> 358\u001b[0m     residual \u001b[39m=\u001b[39m block(\n\u001b[1;32m    359\u001b[0m         residual,\n\u001b[1;32m    360\u001b[0m         past_kv_cache_entry\u001b[39m=\u001b[39;49mpast_kv_cache[i]\n\u001b[1;32m    361\u001b[0m         \u001b[39mif\u001b[39;49;00m past_kv_cache \u001b[39mis\u001b[39;49;00m \u001b[39mnot\u001b[39;49;00m \u001b[39mNone\u001b[39;49;00m\n\u001b[1;32m    362\u001b[0m         \u001b[39melse\u001b[39;49;00m \u001b[39mNone\u001b[39;49;00m,  \u001b[39m# Cache contains a list of HookedTransformerKeyValueCache objects, one for each block\u001b[39;49;00m\n\u001b[1;32m    363\u001b[0m         shortformer_pos_embed\u001b[39m=\u001b[39;49mshortformer_pos_embed,\n\u001b[1;32m    364\u001b[0m     )  \u001b[39m# [batch, pos, d_model]\u001b[39;00m\n\u001b[1;32m    366\u001b[0m \u001b[39mif\u001b[39;00m stop_at_layer \u001b[39mis\u001b[39;00m \u001b[39mnot\u001b[39;00m \u001b[39mNone\u001b[39;00m:\n\u001b[1;32m    367\u001b[0m     \u001b[39m# When we stop at an early layer, we end here rather than doing further computation\u001b[39;00m\n\u001b[1;32m    368\u001b[0m     \u001b[39mreturn\u001b[39;00m \u001b[39mNone\u001b[39;00m\n",
      "File \u001b[0;32m~/miniconda3/envs/logan/lib/python3.10/site-packages/torch/nn/modules/module.py:1501\u001b[0m, in \u001b[0;36mModule._call_impl\u001b[0;34m(self, *args, **kwargs)\u001b[0m\n\u001b[1;32m   1496\u001b[0m \u001b[39m# If we don't have any hooks, we want to skip the rest of the logic in\u001b[39;00m\n\u001b[1;32m   1497\u001b[0m \u001b[39m# this function, and just call forward.\u001b[39;00m\n\u001b[1;32m   1498\u001b[0m \u001b[39mif\u001b[39;00m \u001b[39mnot\u001b[39;00m (\u001b[39mself\u001b[39m\u001b[39m.\u001b[39m_backward_hooks \u001b[39mor\u001b[39;00m \u001b[39mself\u001b[39m\u001b[39m.\u001b[39m_backward_pre_hooks \u001b[39mor\u001b[39;00m \u001b[39mself\u001b[39m\u001b[39m.\u001b[39m_forward_hooks \u001b[39mor\u001b[39;00m \u001b[39mself\u001b[39m\u001b[39m.\u001b[39m_forward_pre_hooks\n\u001b[1;32m   1499\u001b[0m         \u001b[39mor\u001b[39;00m _global_backward_pre_hooks \u001b[39mor\u001b[39;00m _global_backward_hooks\n\u001b[1;32m   1500\u001b[0m         \u001b[39mor\u001b[39;00m _global_forward_hooks \u001b[39mor\u001b[39;00m _global_forward_pre_hooks):\n\u001b[0;32m-> 1501\u001b[0m     \u001b[39mreturn\u001b[39;00m forward_call(\u001b[39m*\u001b[39;49margs, \u001b[39m*\u001b[39;49m\u001b[39m*\u001b[39;49mkwargs)\n\u001b[1;32m   1502\u001b[0m \u001b[39m# Do not call functions when jit is used\u001b[39;00m\n\u001b[1;32m   1503\u001b[0m full_backward_hooks, non_full_backward_hooks \u001b[39m=\u001b[39m [], []\n",
      "File \u001b[0;32m~/miniconda3/envs/logan/lib/python3.10/site-packages/transformer_lens/components.py:944\u001b[0m, in \u001b[0;36mTransformerBlock.forward\u001b[0;34m(self, resid_pre, shortformer_pos_embed, past_kv_cache_entry)\u001b[0m\n\u001b[1;32m    940\u001b[0m     normalized_resid_pre_2 \u001b[39m=\u001b[39m \u001b[39mself\u001b[39m\u001b[39m.\u001b[39mln2(resid_pre)\n\u001b[1;32m    941\u001b[0m     mlp_out \u001b[39m=\u001b[39m \u001b[39mself\u001b[39m\u001b[39m.\u001b[39mhook_mlp_out(\n\u001b[1;32m    942\u001b[0m         \u001b[39mself\u001b[39m\u001b[39m.\u001b[39mmlp(normalized_resid_pre_2)\n\u001b[1;32m    943\u001b[0m     )  \u001b[39m# [batch, pos, d_model]\u001b[39;00m\n\u001b[0;32m--> 944\u001b[0m     resid_post \u001b[39m=\u001b[39m \u001b[39mself\u001b[39;49m\u001b[39m.\u001b[39;49mhook_resid_post(\n\u001b[1;32m    945\u001b[0m         resid_pre \u001b[39m+\u001b[39;49m attn_out \u001b[39m+\u001b[39;49m mlp_out\n\u001b[1;32m    946\u001b[0m     )  \u001b[39m# [batch, pos, d_model]\u001b[39;00m\n\u001b[1;32m    947\u001b[0m \u001b[39melse\u001b[39;00m:\n\u001b[1;32m    948\u001b[0m     resid_post \u001b[39m=\u001b[39m \u001b[39mself\u001b[39m\u001b[39m.\u001b[39mhook_resid_post(\n\u001b[1;32m    949\u001b[0m         resid_pre \u001b[39m+\u001b[39m attn_out\n\u001b[1;32m    950\u001b[0m     )  \u001b[39m# [batch, pos, d_model]\u001b[39;00m\n",
      "File \u001b[0;32m~/miniconda3/envs/logan/lib/python3.10/site-packages/torch/nn/modules/module.py:1547\u001b[0m, in \u001b[0;36mModule._call_impl\u001b[0;34m(self, *args, **kwargs)\u001b[0m\n\u001b[1;32m   1545\u001b[0m     hook_result \u001b[39m=\u001b[39m hook(\u001b[39mself\u001b[39m, args, kwargs, result)\n\u001b[1;32m   1546\u001b[0m \u001b[39melse\u001b[39;00m:\n\u001b[0;32m-> 1547\u001b[0m     hook_result \u001b[39m=\u001b[39m hook(\u001b[39mself\u001b[39;49m, args, result)\n\u001b[1;32m   1549\u001b[0m \u001b[39mif\u001b[39;00m hook_result \u001b[39mis\u001b[39;00m \u001b[39mnot\u001b[39;00m \u001b[39mNone\u001b[39;00m:\n\u001b[1;32m   1550\u001b[0m     result \u001b[39m=\u001b[39m hook_result\n",
      "File \u001b[0;32m~/miniconda3/envs/logan/lib/python3.10/site-packages/transformer_lens/hook_points.py:67\u001b[0m, in \u001b[0;36mHookPoint.add_hook.<locals>.full_hook\u001b[0;34m(module, module_input, module_output)\u001b[0m\n\u001b[1;32m     66\u001b[0m \u001b[39mdef\u001b[39;00m \u001b[39mfull_hook\u001b[39m(module, module_input, module_output):\n\u001b[0;32m---> 67\u001b[0m     \u001b[39mreturn\u001b[39;00m hook(module_output, hook\u001b[39m=\u001b[39;49m\u001b[39mself\u001b[39;49m)\n",
      "Cell \u001b[0;32mIn[6], line 128\u001b[0m, in \u001b[0;36mablate_feature_direction.<locals>.mlp_ablation_hook\u001b[0;34m(value, hook)\u001b[0m\n\u001b[1;32m    125\u001b[0m int_val \u001b[39m=\u001b[39m rearrange(value, \u001b[39m'\u001b[39m\u001b[39mb s h -> (b s) h\u001b[39m\u001b[39m'\u001b[39m)\n\u001b[1;32m    127\u001b[0m \u001b[39m# Run through the autoencoder\u001b[39;00m\n\u001b[0;32m--> 128\u001b[0m _, act \u001b[39m=\u001b[39m autoencoder(int_val)\n\u001b[1;32m    129\u001b[0m feature_to_ablate \u001b[39m=\u001b[39m feature \u001b[39m# TODO: bring this out of the function\u001b[39;00m\n\u001b[1;32m    131\u001b[0m \u001b[39m# Subtract value with feature direction*act_of_feature\u001b[39;00m\n",
      "\u001b[0;31mTypeError\u001b[0m: 'LISTADenoisingSAE' object is not callable"
     ]
    }
   ],
   "source": [
    "ablate_feature_direction_display(full_text, best_feature)"
   ]
  },
  {
   "cell_type": "code",
   "execution_count": null,
   "metadata": {},
   "outputs": [],
   "source": [
    "logit_lens(model,best_feature, smaller_dict, layer)"
   ]
  },
  {
   "cell_type": "code",
   "execution_count": null,
   "metadata": {},
   "outputs": [],
   "source": [
    "custom_text = [\n",
    "    \"I can count up to: 2 4 8 16 32 64 128 256 512 1024 2048 4096 8192 16384 32768 7 6 12 16 18 20 22 24\",\n",
    "]\n",
    "visualize_text(custom_text, best_feature, model)"
   ]
  },
  {
   "cell_type": "markdown",
   "metadata": {},
   "source": [
    "# Data Centric Viewpoint"
   ]
  },
  {
   "cell_type": "code",
   "execution_count": null,
   "metadata": {},
   "outputs": [],
   "source": [
    "# Go through datapoints & see if the features that activate on them make sense.\n",
    "d_point = 0\n",
    "# text = tokens_dataset[d_point]\n",
    "data_ind, sequence_pos = np.unravel_index(d_point, (datapoints, token_amount))\n",
    "feature_val, feature_ind = dictionary_activations[d_point].topk(10)\n",
    "data_ind = int(data_ind)\n",
    "sequence_pos = int(sequence_pos)\n",
    "full_tok = torch.tensor(dataset[data_ind][\"input_ids\"])\n",
    "full_text = []\n",
    "full_text.append(model.tokenizer.decode(full_tok))\n",
    "visualize_text(full_text, feature_ind, model)"
   ]
  },
  {
   "cell_type": "markdown",
   "metadata": {},
   "source": [
    "# Check the neuron/residual basis\n",
    "When we look at the weights of a feature, we are seeing the literal dimensions from the residual stream/neurons being read from the feature. \n",
    "\n",
    "Here I'm visualizing the weight values for the residual stream. If there are outliers, then it's mainly reading from that dimension."
   ]
  },
  {
   "cell_type": "code",
   "execution_count": null,
   "metadata": {},
   "outputs": [],
   "source": [
    "(weights*max_activation).topk(20), (weights*max_activation).topk(20, largest=False).values, (weights*max_activation > 0.2).sum()"
   ]
  },
  {
   "cell_type": "markdown",
   "metadata": {},
   "source": [
    "# Prepend/Append tokens\n",
    "We can iterate over all tokens to check which ones activate a feature a lot to more rigorously test a hypothesis on what a feature means.\n",
    "\n",
    "Note: I'm literately running the model through all 50k tokens prepended to the text here"
   ]
  },
  {
   "cell_type": "code",
   "execution_count": null,
   "metadata": {},
   "outputs": [],
   "source": [
    "def prepend_all_tokens_and_get_feature_activation(model, minimal_activating_example, feature, setting=\"prepend\"):\n",
    "    tokens = model.to_tokens(minimal_activating_example, prepend_bos=False)\n",
    "\n",
    "    # Run through every number up to vocab size\n",
    "    vocab_size = model.cfg.d_vocab\n",
    "    batch_size = 256*2 # Define your desired batch size\n",
    "\n",
    "    dollar_feature_activations = torch.zeros(vocab_size)\n",
    "    for start in range(0, vocab_size, batch_size):\n",
    "        end = min(start + batch_size, vocab_size)\n",
    "\n",
    "        token_prep = torch.arange(start, end).to(device)\n",
    "        token_prep = token_prep.unsqueeze(1)  # Add a dimension for concatenation\n",
    "\n",
    "        # 1. Prepend to the tokens\n",
    "        if setting == \"prepend\":\n",
    "            tokens_catted = torch.cat((token_prep, tokens.repeat(end - start, 1)), dim=1).long()\n",
    "        elif setting == \"append\":\n",
    "            tokens_catted = torch.cat((tokens.repeat(end - start, 1), token_prep), dim=1).long()\n",
    "        else:\n",
    "            raise ValueError(f\"Unknown setting: {setting}\")\n",
    "\n",
    "        # 2. Run through the model\n",
    "        with torch.no_grad():\n",
    "            _, cache = model.run_with_cache(tokens_catted.to(device))\n",
    "            neuron_act_batch = cache[cache_name]\n",
    "            _, act = smaller_auto_encoder(neuron_act_batch)\n",
    "\n",
    "        # 3. Get the feature\n",
    "        dollar_feature_activations[start:end] = act[:, -1, feature].cpu().squeeze()\n",
    "\n",
    "    k = 20\n",
    "    k_increasing_val, k_increasing_ind = dollar_feature_activations.topk(k)\n",
    "    k_decreasing_val, k_decreasing_ind = dollar_feature_activations.topk(k, largest=False)\n",
    "    if(setting == \"prepend\"):\n",
    "        print(f\"[token]{minimal_activating_example}\")\n",
    "    elif(setting == \"append\"):\n",
    "        print(f\"{minimal_activating_example}[token]\")\n",
    "    else:\n",
    "        raise ValueError(f\"Unknown setting: {setting}\")\n",
    "    # Print indices converted to tokens\n",
    "    print(f\"Top-{k} increasing: {model.to_str_tokens(k_increasing_ind)}\")\n",
    "    # Print values\n",
    "    print(f\"Top-{k} increasing: {[f'{val:.2f}' for val in k_increasing_val]}\")\n",
    "    print(f\"Top-{k} decreasing: {model.to_str_tokens(k_decreasing_ind)}\")\n",
    "    print(f\"Top-{k} decreasing: {[f'{val:.2f}' for val in k_decreasing_val]}\")\n",
    "    print(f\"Number of 0 activations: {torch.sum(dollar_feature_activations == 0)}\")\n",
    "    if(setting == \"prepend\"):\n",
    "        best_text = \"\".join(model.to_str_tokens(dollar_feature_activations.argmax()) + [minimal_activating_example])\n",
    "    else:\n",
    "        best_text = \"\".join([minimal_activating_example] + model.to_str_tokens(dollar_feature_activations.argmax()))\n",
    "    return best_text\n",
    "\n",
    "best_text = \"\"\n",
    "for x in range(3):\n",
    "    # best_text = prepend_all_tokens_and_get_feature_activation(model, best_text, best_feature, setting=\"prepend\")\n",
    "    best_text = prepend_all_tokens_and_get_feature_activation(model, best_text, best_feature, setting=\"append\")\n",
    "# prepend_all_tokens_and_get_feature_activation(model, \" for all $\", best_feature, setting=\"prepend\")\n",
    "# prepend_all_tokens_and_get_feature_activation(model, \" tree\", best_feature, setting=\"prepend\")\n",
    "# prepend_all_tokens_and_get_feature_activation(model, \" tree\", best_feature, setting=\"append\")"
   ]
  },
  {
   "cell_type": "code",
   "execution_count": null,
   "metadata": {},
   "outputs": [],
   "source": [
    "best_text = \"\"\n",
    "for x in range(3):\n",
    "    best_text = prepend_all_tokens_and_get_feature_activation(model, best_text, best_feature, setting=\"prepend\")"
   ]
  },
  {
   "cell_type": "code",
   "execution_count": null,
   "metadata": {},
   "outputs": [],
   "source": [
    "prepend_all_tokens_and_get_feature_activation(model, \" for all $\", best_feature, setting=\"prepend\")\n",
    "# prepend_all_tokens_and_get_feature_activation(model, \"The\", best_feature, setting=\"append\")\n",
    "# prepend_all_tokens_and_get_feature_activation(model, \" tree\", best_feature, setting=\"append\")"
   ]
  }
 ],
 "metadata": {
  "kernelspec": {
   "display_name": "Python 3",
   "language": "python",
   "name": "python3"
  },
  "language_info": {
   "codemirror_mode": {
    "name": "ipython",
    "version": 3
   },
   "file_extension": ".py",
   "mimetype": "text/x-python",
   "name": "python",
   "nbconvert_exporter": "python",
   "pygments_lexer": "ipython3",
   "version": "3.10.6"
  },
  "orig_nbformat": 4
 },
 "nbformat": 4,
 "nbformat_minor": 2
}
